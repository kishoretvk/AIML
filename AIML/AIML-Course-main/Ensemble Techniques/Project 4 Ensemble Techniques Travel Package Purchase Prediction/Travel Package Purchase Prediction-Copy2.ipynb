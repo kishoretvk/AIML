{
 "cells": [
  {
   "cell_type": "markdown",
   "id": "5477f0b8",
   "metadata": {},
   "source": [
    "### Description\n",
    "\n",
    "#### Background and Context\n",
    "\n",
    "You are a Data Scientist for a tourism company named \"Visit with us\". The Policy Maker of the company wants to enable and establish a viable business model to expand the customer base.\n",
    "\n",
    "A viable business model is a central concept that helps you to understand the existing ways of doing the business and how to change the ways for the benefit of the tourism sector.\n",
    "\n",
    "One of the ways to expand the customer base is to introduce a new offering of packages.\n",
    "\n",
    "Currently, there are 5 types of packages the company is offering - Basic, Standard, Deluxe, Super Deluxe, King. Looking at the data of the last year, we observed that 18% of the customers purchased the packages.\n",
    "\n",
    "However, the marketing cost was quite high because customers were contacted at random without looking at the available information.\n",
    "\n",
    "The company is now planning to launch a new product i.e. Wellness Tourism Package. Wellness Tourism is defined as Travel that allows the traveler to maintain, enhance or kick-start a healthy lifestyle, and support or increase one's sense of well-being.\n",
    "\n",
    "However, this time company wants to harness the available data of existing and potential customers to make the marketing expenditure more efficient.\n",
    "\n",
    "You as a Data Scientist at \"Visit with us\" travel company have to analyze the customers' data and information to provide recommendations to the Policy Maker and Marketing Team and also build a model to predict the potential customer who is going to purchase the newly introduced travel package.\n",
    "\n",
    "### Objective\n",
    "\n",
    "To predict which customer is more likely to purchase the newly introduced travel package.\n",
    "\n",
    "### Data Dictionary\n",
    "\n",
    "#### Customer details:\n",
    "\n",
    "1. CustomerID: Unique customer ID\n",
    "2. ProdTaken: Whether the customer has purchased a package or not (0: No, 1: Yes)\n",
    "3. Age: Age of customer\n",
    "4. TypeofContact: How customer was contacted (Company Invited or Self Inquiry)\n",
    "5. CityTier: City tier depends on the development of a city, population, facilities, and living standards. The categories are ordered i.e. Tier 1 > Tier 2 > Tier 3\n",
    "6. Occupation: Occupation of customer\n",
    "7. Gender: Gender of customer\n",
    "8. NumberOfPersonVisiting: Total number of persons planning to take the trip with the customer\n",
    "9. PreferredPropertyStar: Preferred hotel property rating by customer\n",
    "10. MaritalStatus: Marital status of customer\n",
    "11. NumberOfTrips: Average number of trips in a year by customer\n",
    "12. Passport: The customer has a passport or not (0: No, 1: Yes)\n",
    "13. OwnCar: Whether the customers own a car or not (0: No, 1: Yes)\n",
    "14. NumberOfChildrenVisiting: Total number of children with age less than 5 planning to take the trip with the customer\n",
    "15. Designation: Designation of the customer in the current organization\n",
    "16. MonthlyIncome: Gross monthly income of the customer\n",
    "\n",
    "#### Customer interaction data: \n",
    "\n",
    "1. PitchSatisfactionScore: Sales pitch satisfaction score\n",
    "2. ProductPitched: Product pitched by the salesperson\n",
    "3. NumberOfFollowups: Total number of follow-ups has been done by the salesperson after the sales pitch\n",
    "4. DurationOfPitch: Duration of the pitch by a salesperson to the customer"
   ]
  },
  {
   "cell_type": "code",
   "execution_count": 1,
   "id": "3f458f66",
   "metadata": {},
   "outputs": [
    {
     "data": {
      "application/javascript": [
       "\n",
       "            setTimeout(function() {\n",
       "                var nbb_cell_id = 1;\n",
       "                var nbb_unformatted_code = \"# this will help in making the Python code more structured automatically\\n%load_ext nb_black\\n\\n# Libraries to help with reading and manipulating data\\nimport numpy as np\\nimport pandas as pd\\n\\n# Libraries to help with data visualization\\nimport matplotlib.pyplot as plt\\nimport seaborn as sns\\n\\nsns.set()\\n\\n# Removes the limit for the number of displayed columns\\npd.set_option(\\\"display.max_columns\\\", None)\\n# Sets the limit for the number of displayed rows\\npd.set_option(\\\"display.max_rows\\\", 200)\\n\\n# converting zipcode to county\\nfrom uszipcode import SearchEngine\\n\\nsearch = SearchEngine(simple_zipcode=True)\\n\\n# to split the data into train and test\\nfrom sklearn.model_selection import train_test_split\\n\\n# To build model for prediction\\nfrom sklearn.linear_model import LogisticRegression\\n\\n# Libraries to build decision tree classifier\\nfrom sklearn.tree import DecisionTreeClassifier\\nfrom sklearn import tree\\n\\n# To tune different models\\nfrom sklearn.model_selection import GridSearchCV\\nfrom sklearn import metrics\\n\\n# To get diferent metric scores\\nfrom sklearn.metrics import (\\n    f1_score,\\n    accuracy_score,\\n    recall_score,\\n    precision_score,\\n    confusion_matrix,\\n    roc_auc_score,\\n    plot_confusion_matrix,\\n    precision_recall_curve,\\n    roc_curve,\\n    make_scorer,\\n)\\n\\nfrom sklearn.ensemble import BaggingClassifier, RandomForestClassifier\\nfrom sklearn.ensemble import (\\n    AdaBoostClassifier,\\n    GradientBoostingClassifier,\\n    StackingClassifier,\\n)\\nfrom xgboost import XGBClassifier\\nfrom sklearn.preprocessing import LabelEncoder\";\n",
       "                var nbb_formatted_code = \"# this will help in making the Python code more structured automatically\\n%load_ext nb_black\\n\\n# Libraries to help with reading and manipulating data\\nimport numpy as np\\nimport pandas as pd\\n\\n# Libraries to help with data visualization\\nimport matplotlib.pyplot as plt\\nimport seaborn as sns\\n\\nsns.set()\\n\\n# Removes the limit for the number of displayed columns\\npd.set_option(\\\"display.max_columns\\\", None)\\n# Sets the limit for the number of displayed rows\\npd.set_option(\\\"display.max_rows\\\", 200)\\n\\n# converting zipcode to county\\nfrom uszipcode import SearchEngine\\n\\nsearch = SearchEngine(simple_zipcode=True)\\n\\n# to split the data into train and test\\nfrom sklearn.model_selection import train_test_split\\n\\n# To build model for prediction\\nfrom sklearn.linear_model import LogisticRegression\\n\\n# Libraries to build decision tree classifier\\nfrom sklearn.tree import DecisionTreeClassifier\\nfrom sklearn import tree\\n\\n# To tune different models\\nfrom sklearn.model_selection import GridSearchCV\\nfrom sklearn import metrics\\n\\n# To get diferent metric scores\\nfrom sklearn.metrics import (\\n    f1_score,\\n    accuracy_score,\\n    recall_score,\\n    precision_score,\\n    confusion_matrix,\\n    roc_auc_score,\\n    plot_confusion_matrix,\\n    precision_recall_curve,\\n    roc_curve,\\n    make_scorer,\\n)\\n\\nfrom sklearn.ensemble import BaggingClassifier, RandomForestClassifier\\nfrom sklearn.ensemble import (\\n    AdaBoostClassifier,\\n    GradientBoostingClassifier,\\n    StackingClassifier,\\n)\\nfrom xgboost import XGBClassifier\\nfrom sklearn.preprocessing import LabelEncoder\";\n",
       "                var nbb_cells = Jupyter.notebook.get_cells();\n",
       "                for (var i = 0; i < nbb_cells.length; ++i) {\n",
       "                    if (nbb_cells[i].input_prompt_number == nbb_cell_id) {\n",
       "                        if (nbb_cells[i].get_text() == nbb_unformatted_code) {\n",
       "                             nbb_cells[i].set_text(nbb_formatted_code);\n",
       "                        }\n",
       "                        break;\n",
       "                    }\n",
       "                }\n",
       "            }, 500);\n",
       "            "
      ],
      "text/plain": [
       "<IPython.core.display.Javascript object>"
      ]
     },
     "metadata": {},
     "output_type": "display_data"
    }
   ],
   "source": [
    "# this will help in making the Python code more structured automatically\n",
    "%load_ext nb_black\n",
    "\n",
    "# Libraries to help with reading and manipulating data\n",
    "import numpy as np\n",
    "import pandas as pd\n",
    "\n",
    "# Libraries to help with data visualization\n",
    "import matplotlib.pyplot as plt\n",
    "import seaborn as sns\n",
    "\n",
    "sns.set()\n",
    "\n",
    "# Removes the limit for the number of displayed columns\n",
    "pd.set_option(\"display.max_columns\", None)\n",
    "# Sets the limit for the number of displayed rows\n",
    "pd.set_option(\"display.max_rows\", 200)\n",
    "\n",
    "# converting zipcode to county\n",
    "from uszipcode import SearchEngine\n",
    "\n",
    "search = SearchEngine(simple_zipcode=True)\n",
    "\n",
    "# to split the data into train and test\n",
    "from sklearn.model_selection import train_test_split\n",
    "\n",
    "# To build model for prediction\n",
    "from sklearn.linear_model import LogisticRegression\n",
    "\n",
    "# Libraries to build decision tree classifier\n",
    "from sklearn.tree import DecisionTreeClassifier\n",
    "from sklearn import tree\n",
    "\n",
    "# To tune different models\n",
    "from sklearn.model_selection import GridSearchCV\n",
    "from sklearn import metrics\n",
    "\n",
    "# To get diferent metric scores\n",
    "from sklearn.metrics import (\n",
    "    f1_score,\n",
    "    accuracy_score,\n",
    "    recall_score,\n",
    "    precision_score,\n",
    "    confusion_matrix,\n",
    "    roc_auc_score,\n",
    "    plot_confusion_matrix,\n",
    "    precision_recall_curve,\n",
    "    roc_curve,\n",
    "    make_scorer,\n",
    ")\n",
    "\n",
    "from sklearn.ensemble import BaggingClassifier, RandomForestClassifier\n",
    "from sklearn.ensemble import (\n",
    "    AdaBoostClassifier,\n",
    "    GradientBoostingClassifier,\n",
    "    StackingClassifier,\n",
    ")\n",
    "from xgboost import XGBClassifier\n",
    "from sklearn.preprocessing import LabelEncoder"
   ]
  },
  {
   "cell_type": "markdown",
   "id": "bb701d7e",
   "metadata": {},
   "source": [
    "#### Loading dataframe from xlsx file"
   ]
  },
  {
   "cell_type": "code",
   "execution_count": 2,
   "id": "0d196be8",
   "metadata": {},
   "outputs": [
    {
     "data": {
      "application/javascript": [
       "\n",
       "            setTimeout(function() {\n",
       "                var nbb_cell_id = 2;\n",
       "                var nbb_unformatted_code = \"# loading the dataframe for user cars data\\ntourism = pd.read_excel(\\\"Tourism.xlsx\\\", sheet_name=\\\"Tourism\\\")\";\n",
       "                var nbb_formatted_code = \"# loading the dataframe for user cars data\\ntourism = pd.read_excel(\\\"Tourism.xlsx\\\", sheet_name=\\\"Tourism\\\")\";\n",
       "                var nbb_cells = Jupyter.notebook.get_cells();\n",
       "                for (var i = 0; i < nbb_cells.length; ++i) {\n",
       "                    if (nbb_cells[i].input_prompt_number == nbb_cell_id) {\n",
       "                        if (nbb_cells[i].get_text() == nbb_unformatted_code) {\n",
       "                             nbb_cells[i].set_text(nbb_formatted_code);\n",
       "                        }\n",
       "                        break;\n",
       "                    }\n",
       "                }\n",
       "            }, 500);\n",
       "            "
      ],
      "text/plain": [
       "<IPython.core.display.Javascript object>"
      ]
     },
     "metadata": {},
     "output_type": "display_data"
    }
   ],
   "source": [
    "# loading the dataframe for user cars data\n",
    "tourism = pd.read_excel(\"Tourism.xlsx\", sheet_name=\"Tourism\")"
   ]
  },
  {
   "cell_type": "code",
   "execution_count": 3,
   "id": "2547dbc7",
   "metadata": {},
   "outputs": [
    {
     "data": {
      "application/javascript": [
       "\n",
       "            setTimeout(function() {\n",
       "                var nbb_cell_id = 3;\n",
       "                var nbb_unformatted_code = \"# copying data to another varaible to avoid any changes to original data\\ndf = tourism.copy()\";\n",
       "                var nbb_formatted_code = \"# copying data to another varaible to avoid any changes to original data\\ndf = tourism.copy()\";\n",
       "                var nbb_cells = Jupyter.notebook.get_cells();\n",
       "                for (var i = 0; i < nbb_cells.length; ++i) {\n",
       "                    if (nbb_cells[i].input_prompt_number == nbb_cell_id) {\n",
       "                        if (nbb_cells[i].get_text() == nbb_unformatted_code) {\n",
       "                             nbb_cells[i].set_text(nbb_formatted_code);\n",
       "                        }\n",
       "                        break;\n",
       "                    }\n",
       "                }\n",
       "            }, 500);\n",
       "            "
      ],
      "text/plain": [
       "<IPython.core.display.Javascript object>"
      ]
     },
     "metadata": {},
     "output_type": "display_data"
    }
   ],
   "source": [
    "# copying data to another varaible to avoid any changes to original data\n",
    "df = tourism.copy()"
   ]
  },
  {
   "cell_type": "markdown",
   "id": "5e5c11f7",
   "metadata": {},
   "source": [
    "#### Checking shape and random sample data from Dataframe"
   ]
  },
  {
   "cell_type": "code",
   "execution_count": 4,
   "id": "804ceee2",
   "metadata": {},
   "outputs": [
    {
     "name": "stdout",
     "output_type": "stream",
     "text": [
      "There are 4888 rows and 20 columns.\n"
     ]
    },
    {
     "data": {
      "text/html": [
       "<div>\n",
       "<style scoped>\n",
       "    .dataframe tbody tr th:only-of-type {\n",
       "        vertical-align: middle;\n",
       "    }\n",
       "\n",
       "    .dataframe tbody tr th {\n",
       "        vertical-align: top;\n",
       "    }\n",
       "\n",
       "    .dataframe thead th {\n",
       "        text-align: right;\n",
       "    }\n",
       "</style>\n",
       "<table border=\"1\" class=\"dataframe\">\n",
       "  <thead>\n",
       "    <tr style=\"text-align: right;\">\n",
       "      <th></th>\n",
       "      <th>CustomerID</th>\n",
       "      <th>ProdTaken</th>\n",
       "      <th>Age</th>\n",
       "      <th>TypeofContact</th>\n",
       "      <th>CityTier</th>\n",
       "      <th>DurationOfPitch</th>\n",
       "      <th>Occupation</th>\n",
       "      <th>Gender</th>\n",
       "      <th>NumberOfPersonVisiting</th>\n",
       "      <th>NumberOfFollowups</th>\n",
       "      <th>ProductPitched</th>\n",
       "      <th>PreferredPropertyStar</th>\n",
       "      <th>MaritalStatus</th>\n",
       "      <th>NumberOfTrips</th>\n",
       "      <th>Passport</th>\n",
       "      <th>PitchSatisfactionScore</th>\n",
       "      <th>OwnCar</th>\n",
       "      <th>NumberOfChildrenVisiting</th>\n",
       "      <th>Designation</th>\n",
       "      <th>MonthlyIncome</th>\n",
       "    </tr>\n",
       "  </thead>\n",
       "  <tbody>\n",
       "    <tr>\n",
       "      <th>3015</th>\n",
       "      <td>203015</td>\n",
       "      <td>0</td>\n",
       "      <td>27.0</td>\n",
       "      <td>Company Invited</td>\n",
       "      <td>1</td>\n",
       "      <td>7.0</td>\n",
       "      <td>Salaried</td>\n",
       "      <td>Female</td>\n",
       "      <td>4</td>\n",
       "      <td>6.0</td>\n",
       "      <td>Basic</td>\n",
       "      <td>3.0</td>\n",
       "      <td>Married</td>\n",
       "      <td>5.0</td>\n",
       "      <td>0</td>\n",
       "      <td>4</td>\n",
       "      <td>1</td>\n",
       "      <td>3.0</td>\n",
       "      <td>Executive</td>\n",
       "      <td>23042.0</td>\n",
       "    </tr>\n",
       "    <tr>\n",
       "      <th>1242</th>\n",
       "      <td>201242</td>\n",
       "      <td>0</td>\n",
       "      <td>40.0</td>\n",
       "      <td>Self Enquiry</td>\n",
       "      <td>3</td>\n",
       "      <td>13.0</td>\n",
       "      <td>Small Business</td>\n",
       "      <td>Male</td>\n",
       "      <td>2</td>\n",
       "      <td>3.0</td>\n",
       "      <td>King</td>\n",
       "      <td>4.0</td>\n",
       "      <td>Single</td>\n",
       "      <td>2.0</td>\n",
       "      <td>0</td>\n",
       "      <td>4</td>\n",
       "      <td>1</td>\n",
       "      <td>NaN</td>\n",
       "      <td>VP</td>\n",
       "      <td>34833.0</td>\n",
       "    </tr>\n",
       "    <tr>\n",
       "      <th>3073</th>\n",
       "      <td>203073</td>\n",
       "      <td>0</td>\n",
       "      <td>29.0</td>\n",
       "      <td>Self Enquiry</td>\n",
       "      <td>2</td>\n",
       "      <td>15.0</td>\n",
       "      <td>Small Business</td>\n",
       "      <td>Male</td>\n",
       "      <td>4</td>\n",
       "      <td>5.0</td>\n",
       "      <td>Basic</td>\n",
       "      <td>3.0</td>\n",
       "      <td>Married</td>\n",
       "      <td>3.0</td>\n",
       "      <td>0</td>\n",
       "      <td>2</td>\n",
       "      <td>0</td>\n",
       "      <td>2.0</td>\n",
       "      <td>Executive</td>\n",
       "      <td>23614.0</td>\n",
       "    </tr>\n",
       "    <tr>\n",
       "      <th>804</th>\n",
       "      <td>200804</td>\n",
       "      <td>0</td>\n",
       "      <td>48.0</td>\n",
       "      <td>Company Invited</td>\n",
       "      <td>1</td>\n",
       "      <td>6.0</td>\n",
       "      <td>Small Business</td>\n",
       "      <td>Male</td>\n",
       "      <td>2</td>\n",
       "      <td>1.0</td>\n",
       "      <td>Super Deluxe</td>\n",
       "      <td>3.0</td>\n",
       "      <td>Single</td>\n",
       "      <td>3.0</td>\n",
       "      <td>0</td>\n",
       "      <td>2</td>\n",
       "      <td>0</td>\n",
       "      <td>0.0</td>\n",
       "      <td>AVP</td>\n",
       "      <td>31885.0</td>\n",
       "    </tr>\n",
       "    <tr>\n",
       "      <th>3339</th>\n",
       "      <td>203339</td>\n",
       "      <td>0</td>\n",
       "      <td>32.0</td>\n",
       "      <td>Self Enquiry</td>\n",
       "      <td>1</td>\n",
       "      <td>18.0</td>\n",
       "      <td>Small Business</td>\n",
       "      <td>Male</td>\n",
       "      <td>4</td>\n",
       "      <td>4.0</td>\n",
       "      <td>Deluxe</td>\n",
       "      <td>5.0</td>\n",
       "      <td>Divorced</td>\n",
       "      <td>3.0</td>\n",
       "      <td>1</td>\n",
       "      <td>2</td>\n",
       "      <td>0</td>\n",
       "      <td>3.0</td>\n",
       "      <td>Manager</td>\n",
       "      <td>25511.0</td>\n",
       "    </tr>\n",
       "    <tr>\n",
       "      <th>3080</th>\n",
       "      <td>203080</td>\n",
       "      <td>1</td>\n",
       "      <td>36.0</td>\n",
       "      <td>Company Invited</td>\n",
       "      <td>1</td>\n",
       "      <td>32.0</td>\n",
       "      <td>Salaried</td>\n",
       "      <td>Female</td>\n",
       "      <td>4</td>\n",
       "      <td>4.0</td>\n",
       "      <td>Basic</td>\n",
       "      <td>4.0</td>\n",
       "      <td>Married</td>\n",
       "      <td>3.0</td>\n",
       "      <td>1</td>\n",
       "      <td>3</td>\n",
       "      <td>0</td>\n",
       "      <td>1.0</td>\n",
       "      <td>Executive</td>\n",
       "      <td>20700.0</td>\n",
       "    </tr>\n",
       "    <tr>\n",
       "      <th>2851</th>\n",
       "      <td>202851</td>\n",
       "      <td>0</td>\n",
       "      <td>46.0</td>\n",
       "      <td>Self Enquiry</td>\n",
       "      <td>1</td>\n",
       "      <td>17.0</td>\n",
       "      <td>Salaried</td>\n",
       "      <td>Male</td>\n",
       "      <td>4</td>\n",
       "      <td>4.0</td>\n",
       "      <td>Basic</td>\n",
       "      <td>3.0</td>\n",
       "      <td>Divorced</td>\n",
       "      <td>5.0</td>\n",
       "      <td>0</td>\n",
       "      <td>5</td>\n",
       "      <td>1</td>\n",
       "      <td>1.0</td>\n",
       "      <td>Executive</td>\n",
       "      <td>21332.0</td>\n",
       "    </tr>\n",
       "    <tr>\n",
       "      <th>2883</th>\n",
       "      <td>202883</td>\n",
       "      <td>1</td>\n",
       "      <td>32.0</td>\n",
       "      <td>Company Invited</td>\n",
       "      <td>1</td>\n",
       "      <td>27.0</td>\n",
       "      <td>Salaried</td>\n",
       "      <td>Male</td>\n",
       "      <td>4</td>\n",
       "      <td>4.0</td>\n",
       "      <td>Standard</td>\n",
       "      <td>3.0</td>\n",
       "      <td>Divorced</td>\n",
       "      <td>5.0</td>\n",
       "      <td>0</td>\n",
       "      <td>3</td>\n",
       "      <td>1</td>\n",
       "      <td>1.0</td>\n",
       "      <td>Senior Manager</td>\n",
       "      <td>28502.0</td>\n",
       "    </tr>\n",
       "    <tr>\n",
       "      <th>1676</th>\n",
       "      <td>201676</td>\n",
       "      <td>0</td>\n",
       "      <td>22.0</td>\n",
       "      <td>Self Enquiry</td>\n",
       "      <td>1</td>\n",
       "      <td>11.0</td>\n",
       "      <td>Salaried</td>\n",
       "      <td>Male</td>\n",
       "      <td>2</td>\n",
       "      <td>1.0</td>\n",
       "      <td>Basic</td>\n",
       "      <td>4.0</td>\n",
       "      <td>Married</td>\n",
       "      <td>2.0</td>\n",
       "      <td>1</td>\n",
       "      <td>4</td>\n",
       "      <td>1</td>\n",
       "      <td>0.0</td>\n",
       "      <td>Executive</td>\n",
       "      <td>17328.0</td>\n",
       "    </tr>\n",
       "    <tr>\n",
       "      <th>1140</th>\n",
       "      <td>201140</td>\n",
       "      <td>0</td>\n",
       "      <td>44.0</td>\n",
       "      <td>Self Enquiry</td>\n",
       "      <td>1</td>\n",
       "      <td>13.0</td>\n",
       "      <td>Small Business</td>\n",
       "      <td>Female</td>\n",
       "      <td>2</td>\n",
       "      <td>3.0</td>\n",
       "      <td>King</td>\n",
       "      <td>3.0</td>\n",
       "      <td>Married</td>\n",
       "      <td>1.0</td>\n",
       "      <td>1</td>\n",
       "      <td>4</td>\n",
       "      <td>1</td>\n",
       "      <td>1.0</td>\n",
       "      <td>VP</td>\n",
       "      <td>34049.0</td>\n",
       "    </tr>\n",
       "  </tbody>\n",
       "</table>\n",
       "</div>"
      ],
      "text/plain": [
       "      CustomerID  ProdTaken   Age    TypeofContact  CityTier  DurationOfPitch  \\\n",
       "3015      203015          0  27.0  Company Invited         1              7.0   \n",
       "1242      201242          0  40.0     Self Enquiry         3             13.0   \n",
       "3073      203073          0  29.0     Self Enquiry         2             15.0   \n",
       "804       200804          0  48.0  Company Invited         1              6.0   \n",
       "3339      203339          0  32.0     Self Enquiry         1             18.0   \n",
       "3080      203080          1  36.0  Company Invited         1             32.0   \n",
       "2851      202851          0  46.0     Self Enquiry         1             17.0   \n",
       "2883      202883          1  32.0  Company Invited         1             27.0   \n",
       "1676      201676          0  22.0     Self Enquiry         1             11.0   \n",
       "1140      201140          0  44.0     Self Enquiry         1             13.0   \n",
       "\n",
       "          Occupation  Gender  NumberOfPersonVisiting  NumberOfFollowups  \\\n",
       "3015        Salaried  Female                       4                6.0   \n",
       "1242  Small Business    Male                       2                3.0   \n",
       "3073  Small Business    Male                       4                5.0   \n",
       "804   Small Business    Male                       2                1.0   \n",
       "3339  Small Business    Male                       4                4.0   \n",
       "3080        Salaried  Female                       4                4.0   \n",
       "2851        Salaried    Male                       4                4.0   \n",
       "2883        Salaried    Male                       4                4.0   \n",
       "1676        Salaried    Male                       2                1.0   \n",
       "1140  Small Business  Female                       2                3.0   \n",
       "\n",
       "     ProductPitched  PreferredPropertyStar MaritalStatus  NumberOfTrips  \\\n",
       "3015          Basic                    3.0       Married            5.0   \n",
       "1242           King                    4.0        Single            2.0   \n",
       "3073          Basic                    3.0       Married            3.0   \n",
       "804    Super Deluxe                    3.0        Single            3.0   \n",
       "3339         Deluxe                    5.0      Divorced            3.0   \n",
       "3080          Basic                    4.0       Married            3.0   \n",
       "2851          Basic                    3.0      Divorced            5.0   \n",
       "2883       Standard                    3.0      Divorced            5.0   \n",
       "1676          Basic                    4.0       Married            2.0   \n",
       "1140           King                    3.0       Married            1.0   \n",
       "\n",
       "      Passport  PitchSatisfactionScore  OwnCar  NumberOfChildrenVisiting  \\\n",
       "3015         0                       4       1                       3.0   \n",
       "1242         0                       4       1                       NaN   \n",
       "3073         0                       2       0                       2.0   \n",
       "804          0                       2       0                       0.0   \n",
       "3339         1                       2       0                       3.0   \n",
       "3080         1                       3       0                       1.0   \n",
       "2851         0                       5       1                       1.0   \n",
       "2883         0                       3       1                       1.0   \n",
       "1676         1                       4       1                       0.0   \n",
       "1140         1                       4       1                       1.0   \n",
       "\n",
       "         Designation  MonthlyIncome  \n",
       "3015       Executive        23042.0  \n",
       "1242              VP        34833.0  \n",
       "3073       Executive        23614.0  \n",
       "804              AVP        31885.0  \n",
       "3339         Manager        25511.0  \n",
       "3080       Executive        20700.0  \n",
       "2851       Executive        21332.0  \n",
       "2883  Senior Manager        28502.0  \n",
       "1676       Executive        17328.0  \n",
       "1140              VP        34049.0  "
      ]
     },
     "execution_count": 4,
     "metadata": {},
     "output_type": "execute_result"
    },
    {
     "data": {
      "application/javascript": [
       "\n",
       "            setTimeout(function() {\n",
       "                var nbb_cell_id = 4;\n",
       "                var nbb_unformatted_code = \"# checking shape of the dataframe\\nprint(f\\\"There are {df.shape[0]} rows and {df.shape[1]} columns.\\\")\\n\\n# checking 10 random sample data\\nnp.random.seed(1)\\ndf.sample(n=10)\";\n",
       "                var nbb_formatted_code = \"# checking shape of the dataframe\\nprint(f\\\"There are {df.shape[0]} rows and {df.shape[1]} columns.\\\")\\n\\n# checking 10 random sample data\\nnp.random.seed(1)\\ndf.sample(n=10)\";\n",
       "                var nbb_cells = Jupyter.notebook.get_cells();\n",
       "                for (var i = 0; i < nbb_cells.length; ++i) {\n",
       "                    if (nbb_cells[i].input_prompt_number == nbb_cell_id) {\n",
       "                        if (nbb_cells[i].get_text() == nbb_unformatted_code) {\n",
       "                             nbb_cells[i].set_text(nbb_formatted_code);\n",
       "                        }\n",
       "                        break;\n",
       "                    }\n",
       "                }\n",
       "            }, 500);\n",
       "            "
      ],
      "text/plain": [
       "<IPython.core.display.Javascript object>"
      ]
     },
     "metadata": {},
     "output_type": "display_data"
    }
   ],
   "source": [
    "# checking shape of the dataframe\n",
    "print(f\"There are {df.shape[0]} rows and {df.shape[1]} columns.\")\n",
    "\n",
    "# checking 10 random sample data\n",
    "np.random.seed(1)\n",
    "df.sample(n=10)"
   ]
  },
  {
   "cell_type": "markdown",
   "id": "fc7f93ce",
   "metadata": {},
   "source": [
    "All the data looks like in dataframe are in int, float and object. We can verify with dataframe info of the data types.\n",
    "\n",
    "#### Checking data types of the columns in the dataframe"
   ]
  },
  {
   "cell_type": "code",
   "execution_count": 5,
   "id": "43a98784",
   "metadata": {},
   "outputs": [
    {
     "name": "stdout",
     "output_type": "stream",
     "text": [
      "<class 'pandas.core.frame.DataFrame'>\n",
      "RangeIndex: 4888 entries, 0 to 4887\n",
      "Data columns (total 20 columns):\n",
      " #   Column                    Non-Null Count  Dtype  \n",
      "---  ------                    --------------  -----  \n",
      " 0   CustomerID                4888 non-null   int64  \n",
      " 1   ProdTaken                 4888 non-null   int64  \n",
      " 2   Age                       4662 non-null   float64\n",
      " 3   TypeofContact             4863 non-null   object \n",
      " 4   CityTier                  4888 non-null   int64  \n",
      " 5   DurationOfPitch           4637 non-null   float64\n",
      " 6   Occupation                4888 non-null   object \n",
      " 7   Gender                    4888 non-null   object \n",
      " 8   NumberOfPersonVisiting    4888 non-null   int64  \n",
      " 9   NumberOfFollowups         4843 non-null   float64\n",
      " 10  ProductPitched            4888 non-null   object \n",
      " 11  PreferredPropertyStar     4862 non-null   float64\n",
      " 12  MaritalStatus             4888 non-null   object \n",
      " 13  NumberOfTrips             4748 non-null   float64\n",
      " 14  Passport                  4888 non-null   int64  \n",
      " 15  PitchSatisfactionScore    4888 non-null   int64  \n",
      " 16  OwnCar                    4888 non-null   int64  \n",
      " 17  NumberOfChildrenVisiting  4822 non-null   float64\n",
      " 18  Designation               4888 non-null   object \n",
      " 19  MonthlyIncome             4655 non-null   float64\n",
      "dtypes: float64(7), int64(7), object(6)\n",
      "memory usage: 763.9+ KB\n"
     ]
    },
    {
     "data": {
      "application/javascript": [
       "\n",
       "            setTimeout(function() {\n",
       "                var nbb_cell_id = 5;\n",
       "                var nbb_unformatted_code = \"df.info()\";\n",
       "                var nbb_formatted_code = \"df.info()\";\n",
       "                var nbb_cells = Jupyter.notebook.get_cells();\n",
       "                for (var i = 0; i < nbb_cells.length; ++i) {\n",
       "                    if (nbb_cells[i].input_prompt_number == nbb_cell_id) {\n",
       "                        if (nbb_cells[i].get_text() == nbb_unformatted_code) {\n",
       "                             nbb_cells[i].set_text(nbb_formatted_code);\n",
       "                        }\n",
       "                        break;\n",
       "                    }\n",
       "                }\n",
       "            }, 500);\n",
       "            "
      ],
      "text/plain": [
       "<IPython.core.display.Javascript object>"
      ]
     },
     "metadata": {},
     "output_type": "display_data"
    }
   ],
   "source": [
    "df.info()"
   ]
  },
  {
   "cell_type": "markdown",
   "id": "6437fb9b",
   "metadata": {},
   "source": [
    "* 'Age', 'DurationOfPitch', 'NumberOfFollowups', 'PreferredPropertyStar', 'NumberOfTrips', 'NumberOfChildrenVisiting' and 'MonthlyIncome'  has **float** data type\n",
    "* 'TypeofContact', 'Occupation', 'Gender', 'ProductPitched', 'MaritalStatus' and 'Designation'  has **float** data type\n",
    "* Other columns has **int** data type"
   ]
  },
  {
   "cell_type": "markdown",
   "id": "c2b1a7a5",
   "metadata": {},
   "source": [
    "#### Removing the CustomerID column because it does not have impact on any column"
   ]
  },
  {
   "cell_type": "code",
   "execution_count": 6,
   "id": "480f45a6",
   "metadata": {},
   "outputs": [
    {
     "data": {
      "application/javascript": [
       "\n",
       "            setTimeout(function() {\n",
       "                var nbb_cell_id = 6;\n",
       "                var nbb_unformatted_code = \"df.drop([\\\"CustomerID\\\"], axis=1, inplace=True)\";\n",
       "                var nbb_formatted_code = \"df.drop([\\\"CustomerID\\\"], axis=1, inplace=True)\";\n",
       "                var nbb_cells = Jupyter.notebook.get_cells();\n",
       "                for (var i = 0; i < nbb_cells.length; ++i) {\n",
       "                    if (nbb_cells[i].input_prompt_number == nbb_cell_id) {\n",
       "                        if (nbb_cells[i].get_text() == nbb_unformatted_code) {\n",
       "                             nbb_cells[i].set_text(nbb_formatted_code);\n",
       "                        }\n",
       "                        break;\n",
       "                    }\n",
       "                }\n",
       "            }, 500);\n",
       "            "
      ],
      "text/plain": [
       "<IPython.core.display.Javascript object>"
      ]
     },
     "metadata": {},
     "output_type": "display_data"
    }
   ],
   "source": [
    "df.drop([\"CustomerID\"], axis=1, inplace=True)"
   ]
  },
  {
   "cell_type": "markdown",
   "id": "fe5d3275",
   "metadata": {},
   "source": [
    "#### Checking for duplicate values"
   ]
  },
  {
   "cell_type": "code",
   "execution_count": 7,
   "id": "5baf67d1",
   "metadata": {},
   "outputs": [
    {
     "data": {
      "text/plain": [
       "141"
      ]
     },
     "execution_count": 7,
     "metadata": {},
     "output_type": "execute_result"
    },
    {
     "data": {
      "application/javascript": [
       "\n",
       "            setTimeout(function() {\n",
       "                var nbb_cell_id = 7;\n",
       "                var nbb_unformatted_code = \"df.duplicated().sum()  # checking for duplicate values\";\n",
       "                var nbb_formatted_code = \"df.duplicated().sum()  # checking for duplicate values\";\n",
       "                var nbb_cells = Jupyter.notebook.get_cells();\n",
       "                for (var i = 0; i < nbb_cells.length; ++i) {\n",
       "                    if (nbb_cells[i].input_prompt_number == nbb_cell_id) {\n",
       "                        if (nbb_cells[i].get_text() == nbb_unformatted_code) {\n",
       "                             nbb_cells[i].set_text(nbb_formatted_code);\n",
       "                        }\n",
       "                        break;\n",
       "                    }\n",
       "                }\n",
       "            }, 500);\n",
       "            "
      ],
      "text/plain": [
       "<IPython.core.display.Javascript object>"
      ]
     },
     "metadata": {},
     "output_type": "display_data"
    }
   ],
   "source": [
    "df.duplicated().sum()  # checking for duplicate values"
   ]
  },
  {
   "cell_type": "code",
   "execution_count": 8,
   "id": "bf91c036",
   "metadata": {},
   "outputs": [
    {
     "data": {
      "application/javascript": [
       "\n",
       "            setTimeout(function() {\n",
       "                var nbb_cell_id = 8;\n",
       "                var nbb_unformatted_code = \"df.drop_duplicates(inplace=True)  # dropping duplicate values from dataset\";\n",
       "                var nbb_formatted_code = \"df.drop_duplicates(inplace=True)  # dropping duplicate values from dataset\";\n",
       "                var nbb_cells = Jupyter.notebook.get_cells();\n",
       "                for (var i = 0; i < nbb_cells.length; ++i) {\n",
       "                    if (nbb_cells[i].input_prompt_number == nbb_cell_id) {\n",
       "                        if (nbb_cells[i].get_text() == nbb_unformatted_code) {\n",
       "                             nbb_cells[i].set_text(nbb_formatted_code);\n",
       "                        }\n",
       "                        break;\n",
       "                    }\n",
       "                }\n",
       "            }, 500);\n",
       "            "
      ],
      "text/plain": [
       "<IPython.core.display.Javascript object>"
      ]
     },
     "metadata": {},
     "output_type": "display_data"
    }
   ],
   "source": [
    "df.drop_duplicates(inplace=True)  # dropping duplicate values from dataset"
   ]
  },
  {
   "cell_type": "code",
   "execution_count": 9,
   "id": "96f000fa",
   "metadata": {},
   "outputs": [
    {
     "data": {
      "text/plain": [
       "0"
      ]
     },
     "execution_count": 9,
     "metadata": {},
     "output_type": "execute_result"
    },
    {
     "data": {
      "application/javascript": [
       "\n",
       "            setTimeout(function() {\n",
       "                var nbb_cell_id = 9;\n",
       "                var nbb_unformatted_code = \"df.duplicated().sum()  # checking for duplicate values again\";\n",
       "                var nbb_formatted_code = \"df.duplicated().sum()  # checking for duplicate values again\";\n",
       "                var nbb_cells = Jupyter.notebook.get_cells();\n",
       "                for (var i = 0; i < nbb_cells.length; ++i) {\n",
       "                    if (nbb_cells[i].input_prompt_number == nbb_cell_id) {\n",
       "                        if (nbb_cells[i].get_text() == nbb_unformatted_code) {\n",
       "                             nbb_cells[i].set_text(nbb_formatted_code);\n",
       "                        }\n",
       "                        break;\n",
       "                    }\n",
       "                }\n",
       "            }, 500);\n",
       "            "
      ],
      "text/plain": [
       "<IPython.core.display.Javascript object>"
      ]
     },
     "metadata": {},
     "output_type": "display_data"
    }
   ],
   "source": [
    "df.duplicated().sum()  # checking for duplicate values again"
   ]
  },
  {
   "cell_type": "markdown",
   "id": "38e9684d",
   "metadata": {},
   "source": [
    "No duplicate row found in the dataframe"
   ]
  },
  {
   "cell_type": "code",
   "execution_count": 10,
   "id": "fab64a39",
   "metadata": {},
   "outputs": [
    {
     "name": "stdout",
     "output_type": "stream",
     "text": [
      "There are 4747 rows and 19 columns.\n"
     ]
    },
    {
     "data": {
      "text/html": [
       "<div>\n",
       "<style scoped>\n",
       "    .dataframe tbody tr th:only-of-type {\n",
       "        vertical-align: middle;\n",
       "    }\n",
       "\n",
       "    .dataframe tbody tr th {\n",
       "        vertical-align: top;\n",
       "    }\n",
       "\n",
       "    .dataframe thead th {\n",
       "        text-align: right;\n",
       "    }\n",
       "</style>\n",
       "<table border=\"1\" class=\"dataframe\">\n",
       "  <thead>\n",
       "    <tr style=\"text-align: right;\">\n",
       "      <th></th>\n",
       "      <th>ProdTaken</th>\n",
       "      <th>Age</th>\n",
       "      <th>TypeofContact</th>\n",
       "      <th>CityTier</th>\n",
       "      <th>DurationOfPitch</th>\n",
       "      <th>Occupation</th>\n",
       "      <th>Gender</th>\n",
       "      <th>NumberOfPersonVisiting</th>\n",
       "      <th>NumberOfFollowups</th>\n",
       "      <th>ProductPitched</th>\n",
       "      <th>PreferredPropertyStar</th>\n",
       "      <th>MaritalStatus</th>\n",
       "      <th>NumberOfTrips</th>\n",
       "      <th>Passport</th>\n",
       "      <th>PitchSatisfactionScore</th>\n",
       "      <th>OwnCar</th>\n",
       "      <th>NumberOfChildrenVisiting</th>\n",
       "      <th>Designation</th>\n",
       "      <th>MonthlyIncome</th>\n",
       "    </tr>\n",
       "  </thead>\n",
       "  <tbody>\n",
       "    <tr>\n",
       "      <th>230</th>\n",
       "      <td>0</td>\n",
       "      <td>52.0</td>\n",
       "      <td>Self Enquiry</td>\n",
       "      <td>1</td>\n",
       "      <td>8.0</td>\n",
       "      <td>Salaried</td>\n",
       "      <td>Female</td>\n",
       "      <td>2</td>\n",
       "      <td>4.0</td>\n",
       "      <td>Basic</td>\n",
       "      <td>3.0</td>\n",
       "      <td>Single</td>\n",
       "      <td>1.0</td>\n",
       "      <td>0</td>\n",
       "      <td>3</td>\n",
       "      <td>0</td>\n",
       "      <td>0.0</td>\n",
       "      <td>Executive</td>\n",
       "      <td>18212.0</td>\n",
       "    </tr>\n",
       "    <tr>\n",
       "      <th>4622</th>\n",
       "      <td>0</td>\n",
       "      <td>37.0</td>\n",
       "      <td>Company Invited</td>\n",
       "      <td>3</td>\n",
       "      <td>15.0</td>\n",
       "      <td>Large Business</td>\n",
       "      <td>Male</td>\n",
       "      <td>3</td>\n",
       "      <td>4.0</td>\n",
       "      <td>Deluxe</td>\n",
       "      <td>3.0</td>\n",
       "      <td>Married</td>\n",
       "      <td>6.0</td>\n",
       "      <td>0</td>\n",
       "      <td>3</td>\n",
       "      <td>1</td>\n",
       "      <td>2.0</td>\n",
       "      <td>Manager</td>\n",
       "      <td>23757.0</td>\n",
       "    </tr>\n",
       "    <tr>\n",
       "      <th>3349</th>\n",
       "      <td>0</td>\n",
       "      <td>30.0</td>\n",
       "      <td>Self Enquiry</td>\n",
       "      <td>1</td>\n",
       "      <td>7.0</td>\n",
       "      <td>Salaried</td>\n",
       "      <td>Female</td>\n",
       "      <td>3</td>\n",
       "      <td>5.0</td>\n",
       "      <td>Super Deluxe</td>\n",
       "      <td>3.0</td>\n",
       "      <td>Married</td>\n",
       "      <td>5.0</td>\n",
       "      <td>0</td>\n",
       "      <td>2</td>\n",
       "      <td>0</td>\n",
       "      <td>NaN</td>\n",
       "      <td>AVP</td>\n",
       "      <td>34802.0</td>\n",
       "    </tr>\n",
       "    <tr>\n",
       "      <th>4129</th>\n",
       "      <td>0</td>\n",
       "      <td>42.0</td>\n",
       "      <td>Self Enquiry</td>\n",
       "      <td>3</td>\n",
       "      <td>13.0</td>\n",
       "      <td>Salaried</td>\n",
       "      <td>Female</td>\n",
       "      <td>4</td>\n",
       "      <td>4.0</td>\n",
       "      <td>Standard</td>\n",
       "      <td>3.0</td>\n",
       "      <td>Single</td>\n",
       "      <td>5.0</td>\n",
       "      <td>1</td>\n",
       "      <td>1</td>\n",
       "      <td>0</td>\n",
       "      <td>1.0</td>\n",
       "      <td>Senior Manager</td>\n",
       "      <td>32269.0</td>\n",
       "    </tr>\n",
       "    <tr>\n",
       "      <th>1567</th>\n",
       "      <td>0</td>\n",
       "      <td>28.0</td>\n",
       "      <td>Company Invited</td>\n",
       "      <td>3</td>\n",
       "      <td>10.0</td>\n",
       "      <td>Small Business</td>\n",
       "      <td>Male</td>\n",
       "      <td>2</td>\n",
       "      <td>3.0</td>\n",
       "      <td>Deluxe</td>\n",
       "      <td>3.0</td>\n",
       "      <td>Married</td>\n",
       "      <td>2.0</td>\n",
       "      <td>0</td>\n",
       "      <td>1</td>\n",
       "      <td>0</td>\n",
       "      <td>0.0</td>\n",
       "      <td>Manager</td>\n",
       "      <td>NaN</td>\n",
       "    </tr>\n",
       "    <tr>\n",
       "      <th>4444</th>\n",
       "      <td>0</td>\n",
       "      <td>28.0</td>\n",
       "      <td>Self Enquiry</td>\n",
       "      <td>1</td>\n",
       "      <td>7.0</td>\n",
       "      <td>Salaried</td>\n",
       "      <td>Female</td>\n",
       "      <td>4</td>\n",
       "      <td>4.0</td>\n",
       "      <td>Standard</td>\n",
       "      <td>5.0</td>\n",
       "      <td>Married</td>\n",
       "      <td>3.0</td>\n",
       "      <td>0</td>\n",
       "      <td>4</td>\n",
       "      <td>0</td>\n",
       "      <td>3.0</td>\n",
       "      <td>Senior Manager</td>\n",
       "      <td>26090.0</td>\n",
       "    </tr>\n",
       "    <tr>\n",
       "      <th>2028</th>\n",
       "      <td>0</td>\n",
       "      <td>32.0</td>\n",
       "      <td>Company Invited</td>\n",
       "      <td>1</td>\n",
       "      <td>30.0</td>\n",
       "      <td>Salaried</td>\n",
       "      <td>Male</td>\n",
       "      <td>3</td>\n",
       "      <td>3.0</td>\n",
       "      <td>Deluxe</td>\n",
       "      <td>3.0</td>\n",
       "      <td>Married</td>\n",
       "      <td>2.0</td>\n",
       "      <td>0</td>\n",
       "      <td>4</td>\n",
       "      <td>1</td>\n",
       "      <td>2.0</td>\n",
       "      <td>Manager</td>\n",
       "      <td>20309.0</td>\n",
       "    </tr>\n",
       "    <tr>\n",
       "      <th>299</th>\n",
       "      <td>0</td>\n",
       "      <td>51.0</td>\n",
       "      <td>Self Enquiry</td>\n",
       "      <td>1</td>\n",
       "      <td>8.0</td>\n",
       "      <td>Small Business</td>\n",
       "      <td>Male</td>\n",
       "      <td>2</td>\n",
       "      <td>5.0</td>\n",
       "      <td>Deluxe</td>\n",
       "      <td>4.0</td>\n",
       "      <td>Married</td>\n",
       "      <td>6.0</td>\n",
       "      <td>0</td>\n",
       "      <td>2</td>\n",
       "      <td>0</td>\n",
       "      <td>0.0</td>\n",
       "      <td>Manager</td>\n",
       "      <td>20482.0</td>\n",
       "    </tr>\n",
       "    <tr>\n",
       "      <th>4134</th>\n",
       "      <td>0</td>\n",
       "      <td>37.0</td>\n",
       "      <td>Self Enquiry</td>\n",
       "      <td>1</td>\n",
       "      <td>12.0</td>\n",
       "      <td>Salaried</td>\n",
       "      <td>Male</td>\n",
       "      <td>4</td>\n",
       "      <td>4.0</td>\n",
       "      <td>Deluxe</td>\n",
       "      <td>4.0</td>\n",
       "      <td>Unmarried</td>\n",
       "      <td>2.0</td>\n",
       "      <td>0</td>\n",
       "      <td>1</td>\n",
       "      <td>1</td>\n",
       "      <td>2.0</td>\n",
       "      <td>Manager</td>\n",
       "      <td>24592.0</td>\n",
       "    </tr>\n",
       "    <tr>\n",
       "      <th>1571</th>\n",
       "      <td>0</td>\n",
       "      <td>32.0</td>\n",
       "      <td>Self Enquiry</td>\n",
       "      <td>1</td>\n",
       "      <td>6.0</td>\n",
       "      <td>Salaried</td>\n",
       "      <td>Male</td>\n",
       "      <td>3</td>\n",
       "      <td>3.0</td>\n",
       "      <td>Basic</td>\n",
       "      <td>5.0</td>\n",
       "      <td>Single</td>\n",
       "      <td>2.0</td>\n",
       "      <td>0</td>\n",
       "      <td>1</td>\n",
       "      <td>0</td>\n",
       "      <td>1.0</td>\n",
       "      <td>Executive</td>\n",
       "      <td>17956.0</td>\n",
       "    </tr>\n",
       "  </tbody>\n",
       "</table>\n",
       "</div>"
      ],
      "text/plain": [
       "      ProdTaken   Age    TypeofContact  CityTier  DurationOfPitch  \\\n",
       "230           0  52.0     Self Enquiry         1              8.0   \n",
       "4622          0  37.0  Company Invited         3             15.0   \n",
       "3349          0  30.0     Self Enquiry         1              7.0   \n",
       "4129          0  42.0     Self Enquiry         3             13.0   \n",
       "1567          0  28.0  Company Invited         3             10.0   \n",
       "4444          0  28.0     Self Enquiry         1              7.0   \n",
       "2028          0  32.0  Company Invited         1             30.0   \n",
       "299           0  51.0     Self Enquiry         1              8.0   \n",
       "4134          0  37.0     Self Enquiry         1             12.0   \n",
       "1571          0  32.0     Self Enquiry         1              6.0   \n",
       "\n",
       "          Occupation  Gender  NumberOfPersonVisiting  NumberOfFollowups  \\\n",
       "230         Salaried  Female                       2                4.0   \n",
       "4622  Large Business    Male                       3                4.0   \n",
       "3349        Salaried  Female                       3                5.0   \n",
       "4129        Salaried  Female                       4                4.0   \n",
       "1567  Small Business    Male                       2                3.0   \n",
       "4444        Salaried  Female                       4                4.0   \n",
       "2028        Salaried    Male                       3                3.0   \n",
       "299   Small Business    Male                       2                5.0   \n",
       "4134        Salaried    Male                       4                4.0   \n",
       "1571        Salaried    Male                       3                3.0   \n",
       "\n",
       "     ProductPitched  PreferredPropertyStar MaritalStatus  NumberOfTrips  \\\n",
       "230           Basic                    3.0        Single            1.0   \n",
       "4622         Deluxe                    3.0       Married            6.0   \n",
       "3349   Super Deluxe                    3.0       Married            5.0   \n",
       "4129       Standard                    3.0        Single            5.0   \n",
       "1567         Deluxe                    3.0       Married            2.0   \n",
       "4444       Standard                    5.0       Married            3.0   \n",
       "2028         Deluxe                    3.0       Married            2.0   \n",
       "299          Deluxe                    4.0       Married            6.0   \n",
       "4134         Deluxe                    4.0     Unmarried            2.0   \n",
       "1571          Basic                    5.0        Single            2.0   \n",
       "\n",
       "      Passport  PitchSatisfactionScore  OwnCar  NumberOfChildrenVisiting  \\\n",
       "230          0                       3       0                       0.0   \n",
       "4622         0                       3       1                       2.0   \n",
       "3349         0                       2       0                       NaN   \n",
       "4129         1                       1       0                       1.0   \n",
       "1567         0                       1       0                       0.0   \n",
       "4444         0                       4       0                       3.0   \n",
       "2028         0                       4       1                       2.0   \n",
       "299          0                       2       0                       0.0   \n",
       "4134         0                       1       1                       2.0   \n",
       "1571         0                       1       0                       1.0   \n",
       "\n",
       "         Designation  MonthlyIncome  \n",
       "230        Executive        18212.0  \n",
       "4622         Manager        23757.0  \n",
       "3349             AVP        34802.0  \n",
       "4129  Senior Manager        32269.0  \n",
       "1567         Manager            NaN  \n",
       "4444  Senior Manager        26090.0  \n",
       "2028         Manager        20309.0  \n",
       "299          Manager        20482.0  \n",
       "4134         Manager        24592.0  \n",
       "1571       Executive        17956.0  "
      ]
     },
     "execution_count": 10,
     "metadata": {},
     "output_type": "execute_result"
    },
    {
     "data": {
      "application/javascript": [
       "\n",
       "            setTimeout(function() {\n",
       "                var nbb_cell_id = 10;\n",
       "                var nbb_unformatted_code = \"# checking shape of the dataframe\\nprint(f\\\"There are {df.shape[0]} rows and {df.shape[1]} columns.\\\")\\n\\n# checking 10 random sample data\\nnp.random.seed(1)\\ndf.sample(n=10)\";\n",
       "                var nbb_formatted_code = \"# checking shape of the dataframe\\nprint(f\\\"There are {df.shape[0]} rows and {df.shape[1]} columns.\\\")\\n\\n# checking 10 random sample data\\nnp.random.seed(1)\\ndf.sample(n=10)\";\n",
       "                var nbb_cells = Jupyter.notebook.get_cells();\n",
       "                for (var i = 0; i < nbb_cells.length; ++i) {\n",
       "                    if (nbb_cells[i].input_prompt_number == nbb_cell_id) {\n",
       "                        if (nbb_cells[i].get_text() == nbb_unformatted_code) {\n",
       "                             nbb_cells[i].set_text(nbb_formatted_code);\n",
       "                        }\n",
       "                        break;\n",
       "                    }\n",
       "                }\n",
       "            }, 500);\n",
       "            "
      ],
      "text/plain": [
       "<IPython.core.display.Javascript object>"
      ]
     },
     "metadata": {},
     "output_type": "display_data"
    }
   ],
   "source": [
    "# checking shape of the dataframe\n",
    "print(f\"There are {df.shape[0]} rows and {df.shape[1]} columns.\")\n",
    "\n",
    "# checking 10 random sample data\n",
    "np.random.seed(1)\n",
    "df.sample(n=10)"
   ]
  },
  {
   "cell_type": "markdown",
   "id": "735b84b1",
   "metadata": {},
   "source": [
    "Looks like it has some null values.\n",
    "\n",
    "#### Checking for no. of missing values in the columns"
   ]
  },
  {
   "cell_type": "code",
   "execution_count": 11,
   "id": "163e34a9",
   "metadata": {},
   "outputs": [
    {
     "data": {
      "text/plain": [
       "ProdTaken                     0\n",
       "Age                         216\n",
       "TypeofContact                25\n",
       "CityTier                      0\n",
       "DurationOfPitch             246\n",
       "Occupation                    0\n",
       "Gender                        0\n",
       "NumberOfPersonVisiting        0\n",
       "NumberOfFollowups            44\n",
       "ProductPitched                0\n",
       "PreferredPropertyStar        26\n",
       "MaritalStatus                 0\n",
       "NumberOfTrips               138\n",
       "Passport                      0\n",
       "PitchSatisfactionScore        0\n",
       "OwnCar                        0\n",
       "NumberOfChildrenVisiting     60\n",
       "Designation                   0\n",
       "MonthlyIncome               224\n",
       "dtype: int64"
      ]
     },
     "execution_count": 11,
     "metadata": {},
     "output_type": "execute_result"
    },
    {
     "data": {
      "application/javascript": [
       "\n",
       "            setTimeout(function() {\n",
       "                var nbb_cell_id = 11;\n",
       "                var nbb_unformatted_code = \"df.isnull().sum()\";\n",
       "                var nbb_formatted_code = \"df.isnull().sum()\";\n",
       "                var nbb_cells = Jupyter.notebook.get_cells();\n",
       "                for (var i = 0; i < nbb_cells.length; ++i) {\n",
       "                    if (nbb_cells[i].input_prompt_number == nbb_cell_id) {\n",
       "                        if (nbb_cells[i].get_text() == nbb_unformatted_code) {\n",
       "                             nbb_cells[i].set_text(nbb_formatted_code);\n",
       "                        }\n",
       "                        break;\n",
       "                    }\n",
       "                }\n",
       "            }, 500);\n",
       "            "
      ],
      "text/plain": [
       "<IPython.core.display.Javascript object>"
      ]
     },
     "metadata": {},
     "output_type": "display_data"
    }
   ],
   "source": [
    "df.isnull().sum()"
   ]
  },
  {
   "cell_type": "markdown",
   "id": "9f9217fa",
   "metadata": {},
   "source": [
    "#### Update missing values for numeric cloumn with median value"
   ]
  },
  {
   "cell_type": "code",
   "execution_count": 12,
   "id": "15e61a3f",
   "metadata": {},
   "outputs": [
    {
     "data": {
      "text/plain": [
       "ProdTaken                    0\n",
       "Age                          0\n",
       "TypeofContact               25\n",
       "CityTier                     0\n",
       "DurationOfPitch              0\n",
       "Occupation                   0\n",
       "Gender                       0\n",
       "NumberOfPersonVisiting       0\n",
       "NumberOfFollowups            0\n",
       "ProductPitched               0\n",
       "PreferredPropertyStar        0\n",
       "MaritalStatus                0\n",
       "NumberOfTrips                0\n",
       "Passport                     0\n",
       "PitchSatisfactionScore       0\n",
       "OwnCar                       0\n",
       "NumberOfChildrenVisiting     0\n",
       "Designation                  0\n",
       "MonthlyIncome                0\n",
       "dtype: int64"
      ]
     },
     "execution_count": 12,
     "metadata": {},
     "output_type": "execute_result"
    },
    {
     "data": {
      "application/javascript": [
       "\n",
       "            setTimeout(function() {\n",
       "                var nbb_cell_id = 12;\n",
       "                var nbb_unformatted_code = \"df[\\n    [\\n        \\\"Age\\\",\\n        \\\"DurationOfPitch\\\",\\n        \\\"NumberOfFollowups\\\",\\n        \\\"PreferredPropertyStar\\\",\\n        \\\"NumberOfTrips\\\",\\n        \\\"NumberOfChildrenVisiting\\\",\\n        \\\"MonthlyIncome\\\",\\n    ]\\n] = df[\\n    [\\n        \\\"Age\\\",\\n        \\\"DurationOfPitch\\\",\\n        \\\"NumberOfFollowups\\\",\\n        \\\"PreferredPropertyStar\\\",\\n        \\\"NumberOfTrips\\\",\\n        \\\"NumberOfChildrenVisiting\\\",\\n        \\\"MonthlyIncome\\\",\\n    ]\\n].transform(\\n    lambda x: x.fillna(x.median())\\n)\\ndf.isnull().sum()\";\n",
       "                var nbb_formatted_code = \"df[\\n    [\\n        \\\"Age\\\",\\n        \\\"DurationOfPitch\\\",\\n        \\\"NumberOfFollowups\\\",\\n        \\\"PreferredPropertyStar\\\",\\n        \\\"NumberOfTrips\\\",\\n        \\\"NumberOfChildrenVisiting\\\",\\n        \\\"MonthlyIncome\\\",\\n    ]\\n] = df[\\n    [\\n        \\\"Age\\\",\\n        \\\"DurationOfPitch\\\",\\n        \\\"NumberOfFollowups\\\",\\n        \\\"PreferredPropertyStar\\\",\\n        \\\"NumberOfTrips\\\",\\n        \\\"NumberOfChildrenVisiting\\\",\\n        \\\"MonthlyIncome\\\",\\n    ]\\n].transform(\\n    lambda x: x.fillna(x.median())\\n)\\ndf.isnull().sum()\";\n",
       "                var nbb_cells = Jupyter.notebook.get_cells();\n",
       "                for (var i = 0; i < nbb_cells.length; ++i) {\n",
       "                    if (nbb_cells[i].input_prompt_number == nbb_cell_id) {\n",
       "                        if (nbb_cells[i].get_text() == nbb_unformatted_code) {\n",
       "                             nbb_cells[i].set_text(nbb_formatted_code);\n",
       "                        }\n",
       "                        break;\n",
       "                    }\n",
       "                }\n",
       "            }, 500);\n",
       "            "
      ],
      "text/plain": [
       "<IPython.core.display.Javascript object>"
      ]
     },
     "metadata": {},
     "output_type": "display_data"
    }
   ],
   "source": [
    "df[\n",
    "    [\n",
    "        \"Age\",\n",
    "        \"DurationOfPitch\",\n",
    "        \"NumberOfFollowups\",\n",
    "        \"PreferredPropertyStar\",\n",
    "        \"NumberOfTrips\",\n",
    "        \"NumberOfChildrenVisiting\",\n",
    "        \"MonthlyIncome\",\n",
    "    ]\n",
    "] = df[\n",
    "    [\n",
    "        \"Age\",\n",
    "        \"DurationOfPitch\",\n",
    "        \"NumberOfFollowups\",\n",
    "        \"PreferredPropertyStar\",\n",
    "        \"NumberOfTrips\",\n",
    "        \"NumberOfChildrenVisiting\",\n",
    "        \"MonthlyIncome\",\n",
    "    ]\n",
    "].transform(\n",
    "    lambda x: x.fillna(x.median())\n",
    ")\n",
    "df.isnull().sum()"
   ]
  },
  {
   "cell_type": "code",
   "execution_count": 13,
   "id": "5cf66717",
   "metadata": {},
   "outputs": [
    {
     "name": "stdout",
     "output_type": "stream",
     "text": [
      "Self Enquiry       3350\n",
      "Company Invited    1372\n",
      "NaN                  25\n",
      "Name: TypeofContact, dtype: int64\n",
      "--------------------------------------------------\n",
      "Salaried          2293\n",
      "Small Business    2028\n",
      "Large Business     424\n",
      "Free Lancer          2\n",
      "Name: Occupation, dtype: int64\n",
      "--------------------------------------------------\n",
      "Male       2835\n",
      "Female     1769\n",
      "Fe Male     143\n",
      "Name: Gender, dtype: int64\n",
      "--------------------------------------------------\n",
      "Basic           1800\n",
      "Deluxe          1684\n",
      "Standard         714\n",
      "Super Deluxe     324\n",
      "King             225\n",
      "Name: ProductPitched, dtype: int64\n",
      "--------------------------------------------------\n",
      "Married      2279\n",
      "Divorced      950\n",
      "Single        875\n",
      "Unmarried     643\n",
      "Name: MaritalStatus, dtype: int64\n",
      "--------------------------------------------------\n",
      "Executive         1800\n",
      "Manager           1684\n",
      "Senior Manager     714\n",
      "AVP                324\n",
      "VP                 225\n",
      "Name: Designation, dtype: int64\n",
      "--------------------------------------------------\n"
     ]
    },
    {
     "data": {
      "application/javascript": [
       "\n",
       "            setTimeout(function() {\n",
       "                var nbb_cell_id = 13;\n",
       "                var nbb_unformatted_code = \"# Now checking value counts for each category columns\\ncat_col = [\\n    \\\"TypeofContact\\\",\\n    \\\"Occupation\\\",\\n    \\\"Gender\\\",\\n    \\\"ProductPitched\\\",\\n    \\\"MaritalStatus\\\",\\n    \\\"Designation\\\",\\n]\\n\\n# printing the number of occurrences of each unique value in each categorical column\\nfor column in cat_col:\\n    print(df[column].value_counts(dropna=False))\\n    print(\\\"-\\\" * 50)\";\n",
       "                var nbb_formatted_code = \"# Now checking value counts for each category columns\\ncat_col = [\\n    \\\"TypeofContact\\\",\\n    \\\"Occupation\\\",\\n    \\\"Gender\\\",\\n    \\\"ProductPitched\\\",\\n    \\\"MaritalStatus\\\",\\n    \\\"Designation\\\",\\n]\\n\\n# printing the number of occurrences of each unique value in each categorical column\\nfor column in cat_col:\\n    print(df[column].value_counts(dropna=False))\\n    print(\\\"-\\\" * 50)\";\n",
       "                var nbb_cells = Jupyter.notebook.get_cells();\n",
       "                for (var i = 0; i < nbb_cells.length; ++i) {\n",
       "                    if (nbb_cells[i].input_prompt_number == nbb_cell_id) {\n",
       "                        if (nbb_cells[i].get_text() == nbb_unformatted_code) {\n",
       "                             nbb_cells[i].set_text(nbb_formatted_code);\n",
       "                        }\n",
       "                        break;\n",
       "                    }\n",
       "                }\n",
       "            }, 500);\n",
       "            "
      ],
      "text/plain": [
       "<IPython.core.display.Javascript object>"
      ]
     },
     "metadata": {},
     "output_type": "display_data"
    }
   ],
   "source": [
    "# Now checking value counts for each category columns\n",
    "cat_col = [\n",
    "    \"TypeofContact\",\n",
    "    \"Occupation\",\n",
    "    \"Gender\",\n",
    "    \"ProductPitched\",\n",
    "    \"MaritalStatus\",\n",
    "    \"Designation\",\n",
    "]\n",
    "\n",
    "# printing the number of occurrences of each unique value in each categorical column\n",
    "for column in cat_col:\n",
    "    print(df[column].value_counts(dropna=False))\n",
    "    print(\"-\" * 50)"
   ]
  },
  {
   "cell_type": "markdown",
   "id": "5ae53556",
   "metadata": {},
   "source": [
    "#### Updating 'TypeofContact' column missing values with 'Self Enquiry', because it has most data"
   ]
  },
  {
   "cell_type": "code",
   "execution_count": 14,
   "id": "1e6ca8cc",
   "metadata": {},
   "outputs": [
    {
     "data": {
      "application/javascript": [
       "\n",
       "            setTimeout(function() {\n",
       "                var nbb_cell_id = 14;\n",
       "                var nbb_unformatted_code = \"df[\\\"TypeofContact\\\"].fillna(\\\"Self Enquiry\\\", inplace=True)\";\n",
       "                var nbb_formatted_code = \"df[\\\"TypeofContact\\\"].fillna(\\\"Self Enquiry\\\", inplace=True)\";\n",
       "                var nbb_cells = Jupyter.notebook.get_cells();\n",
       "                for (var i = 0; i < nbb_cells.length; ++i) {\n",
       "                    if (nbb_cells[i].input_prompt_number == nbb_cell_id) {\n",
       "                        if (nbb_cells[i].get_text() == nbb_unformatted_code) {\n",
       "                             nbb_cells[i].set_text(nbb_formatted_code);\n",
       "                        }\n",
       "                        break;\n",
       "                    }\n",
       "                }\n",
       "            }, 500);\n",
       "            "
      ],
      "text/plain": [
       "<IPython.core.display.Javascript object>"
      ]
     },
     "metadata": {},
     "output_type": "display_data"
    }
   ],
   "source": [
    "df[\"TypeofContact\"].fillna(\"Self Enquiry\", inplace=True)"
   ]
  },
  {
   "cell_type": "markdown",
   "id": "8e55f4a9",
   "metadata": {},
   "source": [
    "#### Updating 'Gender' column 'Fe Male' value with 'Female'"
   ]
  },
  {
   "cell_type": "code",
   "execution_count": 15,
   "id": "8e0e8fbf",
   "metadata": {},
   "outputs": [
    {
     "data": {
      "application/javascript": [
       "\n",
       "            setTimeout(function() {\n",
       "                var nbb_cell_id = 15;\n",
       "                var nbb_unformatted_code = \"df[\\\"Gender\\\"] = df.Gender.str.replace(\\\"Fe Male\\\", \\\"Female\\\")\";\n",
       "                var nbb_formatted_code = \"df[\\\"Gender\\\"] = df.Gender.str.replace(\\\"Fe Male\\\", \\\"Female\\\")\";\n",
       "                var nbb_cells = Jupyter.notebook.get_cells();\n",
       "                for (var i = 0; i < nbb_cells.length; ++i) {\n",
       "                    if (nbb_cells[i].input_prompt_number == nbb_cell_id) {\n",
       "                        if (nbb_cells[i].get_text() == nbb_unformatted_code) {\n",
       "                             nbb_cells[i].set_text(nbb_formatted_code);\n",
       "                        }\n",
       "                        break;\n",
       "                    }\n",
       "                }\n",
       "            }, 500);\n",
       "            "
      ],
      "text/plain": [
       "<IPython.core.display.Javascript object>"
      ]
     },
     "metadata": {},
     "output_type": "display_data"
    }
   ],
   "source": [
    "df[\"Gender\"] = df.Gender.str.replace(\"Fe Male\", \"Female\")"
   ]
  },
  {
   "cell_type": "markdown",
   "id": "f90dac7f",
   "metadata": {},
   "source": [
    "#### Updating 'MaritalStatus' column 'Unmarried' value with 'Single', since both has same meaning"
   ]
  },
  {
   "cell_type": "code",
   "execution_count": 16,
   "id": "be133b2a",
   "metadata": {},
   "outputs": [
    {
     "data": {
      "application/javascript": [
       "\n",
       "            setTimeout(function() {\n",
       "                var nbb_cell_id = 16;\n",
       "                var nbb_unformatted_code = \"df[\\\"MaritalStatus\\\"] = df.MaritalStatus.str.replace(\\\"Unmarried\\\", \\\"Single\\\")\";\n",
       "                var nbb_formatted_code = \"df[\\\"MaritalStatus\\\"] = df.MaritalStatus.str.replace(\\\"Unmarried\\\", \\\"Single\\\")\";\n",
       "                var nbb_cells = Jupyter.notebook.get_cells();\n",
       "                for (var i = 0; i < nbb_cells.length; ++i) {\n",
       "                    if (nbb_cells[i].input_prompt_number == nbb_cell_id) {\n",
       "                        if (nbb_cells[i].get_text() == nbb_unformatted_code) {\n",
       "                             nbb_cells[i].set_text(nbb_formatted_code);\n",
       "                        }\n",
       "                        break;\n",
       "                    }\n",
       "                }\n",
       "            }, 500);\n",
       "            "
      ],
      "text/plain": [
       "<IPython.core.display.Javascript object>"
      ]
     },
     "metadata": {},
     "output_type": "display_data"
    }
   ],
   "source": [
    "df[\"MaritalStatus\"] = df.MaritalStatus.str.replace(\"Unmarried\", \"Single\")"
   ]
  },
  {
   "cell_type": "markdown",
   "id": "b7ba88dd",
   "metadata": {},
   "source": [
    "#### Updating 'Occupation' column 'Free Lancer' value with 'Small Business', since only 2 Free Lancer in dataset we can merge with  Small Business"
   ]
  },
  {
   "cell_type": "code",
   "execution_count": 17,
   "id": "d76e5bef",
   "metadata": {},
   "outputs": [
    {
     "data": {
      "application/javascript": [
       "\n",
       "            setTimeout(function() {\n",
       "                var nbb_cell_id = 17;\n",
       "                var nbb_unformatted_code = \"df[\\\"Occupation\\\"] = df.Occupation.str.replace(\\\"Free Lancer\\\", \\\"Small Business\\\")\";\n",
       "                var nbb_formatted_code = \"df[\\\"Occupation\\\"] = df.Occupation.str.replace(\\\"Free Lancer\\\", \\\"Small Business\\\")\";\n",
       "                var nbb_cells = Jupyter.notebook.get_cells();\n",
       "                for (var i = 0; i < nbb_cells.length; ++i) {\n",
       "                    if (nbb_cells[i].input_prompt_number == nbb_cell_id) {\n",
       "                        if (nbb_cells[i].get_text() == nbb_unformatted_code) {\n",
       "                             nbb_cells[i].set_text(nbb_formatted_code);\n",
       "                        }\n",
       "                        break;\n",
       "                    }\n",
       "                }\n",
       "            }, 500);\n",
       "            "
      ],
      "text/plain": [
       "<IPython.core.display.Javascript object>"
      ]
     },
     "metadata": {},
     "output_type": "display_data"
    }
   ],
   "source": [
    "df[\"Occupation\"] = df.Occupation.str.replace(\"Free Lancer\", \"Small Business\")"
   ]
  },
  {
   "cell_type": "code",
   "execution_count": 18,
   "id": "f6e3dbaf",
   "metadata": {},
   "outputs": [
    {
     "name": "stdout",
     "output_type": "stream",
     "text": [
      "Self Enquiry       3375\n",
      "Company Invited    1372\n",
      "Name: TypeofContact, dtype: int64\n",
      "--------------------------------------------------\n",
      "Salaried          2293\n",
      "Small Business    2030\n",
      "Large Business     424\n",
      "Name: Occupation, dtype: int64\n",
      "--------------------------------------------------\n",
      "Male      2835\n",
      "Female    1912\n",
      "Name: Gender, dtype: int64\n",
      "--------------------------------------------------\n",
      "Basic           1800\n",
      "Deluxe          1684\n",
      "Standard         714\n",
      "Super Deluxe     324\n",
      "King             225\n",
      "Name: ProductPitched, dtype: int64\n",
      "--------------------------------------------------\n",
      "Married     2279\n",
      "Single      1518\n",
      "Divorced     950\n",
      "Name: MaritalStatus, dtype: int64\n",
      "--------------------------------------------------\n",
      "Executive         1800\n",
      "Manager           1684\n",
      "Senior Manager     714\n",
      "AVP                324\n",
      "VP                 225\n",
      "Name: Designation, dtype: int64\n",
      "--------------------------------------------------\n"
     ]
    },
    {
     "data": {
      "application/javascript": [
       "\n",
       "            setTimeout(function() {\n",
       "                var nbb_cell_id = 18;\n",
       "                var nbb_unformatted_code = \"# Now checking value counts for each category columns\\ncat_col = [\\n    \\\"TypeofContact\\\",\\n    \\\"Occupation\\\",\\n    \\\"Gender\\\",\\n    \\\"ProductPitched\\\",\\n    \\\"MaritalStatus\\\",\\n    \\\"Designation\\\",\\n]\\n\\n# printing the number of occurrences of each unique value in each categorical column\\nfor column in cat_col:\\n    print(df[column].value_counts(dropna=False))\\n    print(\\\"-\\\" * 50)\";\n",
       "                var nbb_formatted_code = \"# Now checking value counts for each category columns\\ncat_col = [\\n    \\\"TypeofContact\\\",\\n    \\\"Occupation\\\",\\n    \\\"Gender\\\",\\n    \\\"ProductPitched\\\",\\n    \\\"MaritalStatus\\\",\\n    \\\"Designation\\\",\\n]\\n\\n# printing the number of occurrences of each unique value in each categorical column\\nfor column in cat_col:\\n    print(df[column].value_counts(dropna=False))\\n    print(\\\"-\\\" * 50)\";\n",
       "                var nbb_cells = Jupyter.notebook.get_cells();\n",
       "                for (var i = 0; i < nbb_cells.length; ++i) {\n",
       "                    if (nbb_cells[i].input_prompt_number == nbb_cell_id) {\n",
       "                        if (nbb_cells[i].get_text() == nbb_unformatted_code) {\n",
       "                             nbb_cells[i].set_text(nbb_formatted_code);\n",
       "                        }\n",
       "                        break;\n",
       "                    }\n",
       "                }\n",
       "            }, 500);\n",
       "            "
      ],
      "text/plain": [
       "<IPython.core.display.Javascript object>"
      ]
     },
     "metadata": {},
     "output_type": "display_data"
    }
   ],
   "source": [
    "# Now checking value counts for each category columns\n",
    "cat_col = [\n",
    "    \"TypeofContact\",\n",
    "    \"Occupation\",\n",
    "    \"Gender\",\n",
    "    \"ProductPitched\",\n",
    "    \"MaritalStatus\",\n",
    "    \"Designation\",\n",
    "]\n",
    "\n",
    "# printing the number of occurrences of each unique value in each categorical column\n",
    "for column in cat_col:\n",
    "    print(df[column].value_counts(dropna=False))\n",
    "    print(\"-\" * 50)"
   ]
  },
  {
   "cell_type": "code",
   "execution_count": 19,
   "id": "ad30deac",
   "metadata": {},
   "outputs": [
    {
     "data": {
      "text/plain": [
       "ProdTaken                   0\n",
       "Age                         0\n",
       "TypeofContact               0\n",
       "CityTier                    0\n",
       "DurationOfPitch             0\n",
       "Occupation                  0\n",
       "Gender                      0\n",
       "NumberOfPersonVisiting      0\n",
       "NumberOfFollowups           0\n",
       "ProductPitched              0\n",
       "PreferredPropertyStar       0\n",
       "MaritalStatus               0\n",
       "NumberOfTrips               0\n",
       "Passport                    0\n",
       "PitchSatisfactionScore      0\n",
       "OwnCar                      0\n",
       "NumberOfChildrenVisiting    0\n",
       "Designation                 0\n",
       "MonthlyIncome               0\n",
       "dtype: int64"
      ]
     },
     "execution_count": 19,
     "metadata": {},
     "output_type": "execute_result"
    },
    {
     "data": {
      "application/javascript": [
       "\n",
       "            setTimeout(function() {\n",
       "                var nbb_cell_id = 19;\n",
       "                var nbb_unformatted_code = \"df.isnull().sum()\";\n",
       "                var nbb_formatted_code = \"df.isnull().sum()\";\n",
       "                var nbb_cells = Jupyter.notebook.get_cells();\n",
       "                for (var i = 0; i < nbb_cells.length; ++i) {\n",
       "                    if (nbb_cells[i].input_prompt_number == nbb_cell_id) {\n",
       "                        if (nbb_cells[i].get_text() == nbb_unformatted_code) {\n",
       "                             nbb_cells[i].set_text(nbb_formatted_code);\n",
       "                        }\n",
       "                        break;\n",
       "                    }\n",
       "                }\n",
       "            }, 500);\n",
       "            "
      ],
      "text/plain": [
       "<IPython.core.display.Javascript object>"
      ]
     },
     "metadata": {},
     "output_type": "display_data"
    }
   ],
   "source": [
    "df.isnull().sum()"
   ]
  },
  {
   "cell_type": "markdown",
   "id": "9a24333b",
   "metadata": {},
   "source": [
    "No more null value in the dataset"
   ]
  },
  {
   "cell_type": "code",
   "execution_count": 20,
   "id": "14d1a5f2",
   "metadata": {},
   "outputs": [
    {
     "data": {
      "application/javascript": [
       "\n",
       "            setTimeout(function() {\n",
       "                var nbb_cell_id = 20;\n",
       "                var nbb_unformatted_code = \"# Changing 'object' data type to 'category' data type\\ncols = df.select_dtypes([\\\"object\\\"])\\nfor i in cols.columns:\\n    df[i] = df[i].astype(\\\"category\\\")\";\n",
       "                var nbb_formatted_code = \"# Changing 'object' data type to 'category' data type\\ncols = df.select_dtypes([\\\"object\\\"])\\nfor i in cols.columns:\\n    df[i] = df[i].astype(\\\"category\\\")\";\n",
       "                var nbb_cells = Jupyter.notebook.get_cells();\n",
       "                for (var i = 0; i < nbb_cells.length; ++i) {\n",
       "                    if (nbb_cells[i].input_prompt_number == nbb_cell_id) {\n",
       "                        if (nbb_cells[i].get_text() == nbb_unformatted_code) {\n",
       "                             nbb_cells[i].set_text(nbb_formatted_code);\n",
       "                        }\n",
       "                        break;\n",
       "                    }\n",
       "                }\n",
       "            }, 500);\n",
       "            "
      ],
      "text/plain": [
       "<IPython.core.display.Javascript object>"
      ]
     },
     "metadata": {},
     "output_type": "display_data"
    }
   ],
   "source": [
    "# Changing 'object' data type to 'category' data type\n",
    "cols = df.select_dtypes([\"object\"])\n",
    "for i in cols.columns:\n",
    "    df[i] = df[i].astype(\"category\")"
   ]
  },
  {
   "cell_type": "markdown",
   "id": "bcaa1781",
   "metadata": {},
   "source": [
    "#### Summary of the dataset."
   ]
  },
  {
   "cell_type": "code",
   "execution_count": 21,
   "id": "6cbb4bd5",
   "metadata": {},
   "outputs": [
    {
     "data": {
      "text/html": [
       "<div>\n",
       "<style scoped>\n",
       "    .dataframe tbody tr th:only-of-type {\n",
       "        vertical-align: middle;\n",
       "    }\n",
       "\n",
       "    .dataframe tbody tr th {\n",
       "        vertical-align: top;\n",
       "    }\n",
       "\n",
       "    .dataframe thead th {\n",
       "        text-align: right;\n",
       "    }\n",
       "</style>\n",
       "<table border=\"1\" class=\"dataframe\">\n",
       "  <thead>\n",
       "    <tr style=\"text-align: right;\">\n",
       "      <th></th>\n",
       "      <th>count</th>\n",
       "      <th>unique</th>\n",
       "      <th>top</th>\n",
       "      <th>freq</th>\n",
       "      <th>mean</th>\n",
       "      <th>std</th>\n",
       "      <th>min</th>\n",
       "      <th>25%</th>\n",
       "      <th>50%</th>\n",
       "      <th>75%</th>\n",
       "      <th>max</th>\n",
       "    </tr>\n",
       "  </thead>\n",
       "  <tbody>\n",
       "    <tr>\n",
       "      <th>ProdTaken</th>\n",
       "      <td>4747.0</td>\n",
       "      <td>NaN</td>\n",
       "      <td>NaN</td>\n",
       "      <td>NaN</td>\n",
       "      <td>0.188329</td>\n",
       "      <td>0.391016</td>\n",
       "      <td>0.0</td>\n",
       "      <td>0.0</td>\n",
       "      <td>0.0</td>\n",
       "      <td>0.0</td>\n",
       "      <td>1.0</td>\n",
       "    </tr>\n",
       "    <tr>\n",
       "      <th>Age</th>\n",
       "      <td>4747.0</td>\n",
       "      <td>NaN</td>\n",
       "      <td>NaN</td>\n",
       "      <td>NaN</td>\n",
       "      <td>37.513377</td>\n",
       "      <td>9.119956</td>\n",
       "      <td>18.0</td>\n",
       "      <td>31.0</td>\n",
       "      <td>36.0</td>\n",
       "      <td>43.0</td>\n",
       "      <td>61.0</td>\n",
       "    </tr>\n",
       "    <tr>\n",
       "      <th>TypeofContact</th>\n",
       "      <td>4747</td>\n",
       "      <td>2</td>\n",
       "      <td>Self Enquiry</td>\n",
       "      <td>3375</td>\n",
       "      <td>NaN</td>\n",
       "      <td>NaN</td>\n",
       "      <td>NaN</td>\n",
       "      <td>NaN</td>\n",
       "      <td>NaN</td>\n",
       "      <td>NaN</td>\n",
       "      <td>NaN</td>\n",
       "    </tr>\n",
       "    <tr>\n",
       "      <th>CityTier</th>\n",
       "      <td>4747.0</td>\n",
       "      <td>NaN</td>\n",
       "      <td>NaN</td>\n",
       "      <td>NaN</td>\n",
       "      <td>1.655151</td>\n",
       "      <td>0.917416</td>\n",
       "      <td>1.0</td>\n",
       "      <td>1.0</td>\n",
       "      <td>1.0</td>\n",
       "      <td>3.0</td>\n",
       "      <td>3.0</td>\n",
       "    </tr>\n",
       "    <tr>\n",
       "      <th>DurationOfPitch</th>\n",
       "      <td>4747.0</td>\n",
       "      <td>NaN</td>\n",
       "      <td>NaN</td>\n",
       "      <td>NaN</td>\n",
       "      <td>15.380872</td>\n",
       "      <td>8.330097</td>\n",
       "      <td>5.0</td>\n",
       "      <td>9.0</td>\n",
       "      <td>13.0</td>\n",
       "      <td>19.0</td>\n",
       "      <td>127.0</td>\n",
       "    </tr>\n",
       "    <tr>\n",
       "      <th>Occupation</th>\n",
       "      <td>4747</td>\n",
       "      <td>3</td>\n",
       "      <td>Salaried</td>\n",
       "      <td>2293</td>\n",
       "      <td>NaN</td>\n",
       "      <td>NaN</td>\n",
       "      <td>NaN</td>\n",
       "      <td>NaN</td>\n",
       "      <td>NaN</td>\n",
       "      <td>NaN</td>\n",
       "      <td>NaN</td>\n",
       "    </tr>\n",
       "    <tr>\n",
       "      <th>Gender</th>\n",
       "      <td>4747</td>\n",
       "      <td>2</td>\n",
       "      <td>Male</td>\n",
       "      <td>2835</td>\n",
       "      <td>NaN</td>\n",
       "      <td>NaN</td>\n",
       "      <td>NaN</td>\n",
       "      <td>NaN</td>\n",
       "      <td>NaN</td>\n",
       "      <td>NaN</td>\n",
       "      <td>NaN</td>\n",
       "    </tr>\n",
       "    <tr>\n",
       "      <th>NumberOfPersonVisiting</th>\n",
       "      <td>4747.0</td>\n",
       "      <td>NaN</td>\n",
       "      <td>NaN</td>\n",
       "      <td>NaN</td>\n",
       "      <td>2.911734</td>\n",
       "      <td>0.72404</td>\n",
       "      <td>1.0</td>\n",
       "      <td>2.0</td>\n",
       "      <td>3.0</td>\n",
       "      <td>3.0</td>\n",
       "      <td>5.0</td>\n",
       "    </tr>\n",
       "    <tr>\n",
       "      <th>NumberOfFollowups</th>\n",
       "      <td>4747.0</td>\n",
       "      <td>NaN</td>\n",
       "      <td>NaN</td>\n",
       "      <td>NaN</td>\n",
       "      <td>3.707815</td>\n",
       "      <td>1.004388</td>\n",
       "      <td>1.0</td>\n",
       "      <td>3.0</td>\n",
       "      <td>4.0</td>\n",
       "      <td>4.0</td>\n",
       "      <td>6.0</td>\n",
       "    </tr>\n",
       "    <tr>\n",
       "      <th>ProductPitched</th>\n",
       "      <td>4747</td>\n",
       "      <td>5</td>\n",
       "      <td>Basic</td>\n",
       "      <td>1800</td>\n",
       "      <td>NaN</td>\n",
       "      <td>NaN</td>\n",
       "      <td>NaN</td>\n",
       "      <td>NaN</td>\n",
       "      <td>NaN</td>\n",
       "      <td>NaN</td>\n",
       "      <td>NaN</td>\n",
       "    </tr>\n",
       "    <tr>\n",
       "      <th>PreferredPropertyStar</th>\n",
       "      <td>4747.0</td>\n",
       "      <td>NaN</td>\n",
       "      <td>NaN</td>\n",
       "      <td>NaN</td>\n",
       "      <td>3.580156</td>\n",
       "      <td>0.799316</td>\n",
       "      <td>3.0</td>\n",
       "      <td>3.0</td>\n",
       "      <td>3.0</td>\n",
       "      <td>4.0</td>\n",
       "      <td>5.0</td>\n",
       "    </tr>\n",
       "    <tr>\n",
       "      <th>MaritalStatus</th>\n",
       "      <td>4747</td>\n",
       "      <td>3</td>\n",
       "      <td>Married</td>\n",
       "      <td>2279</td>\n",
       "      <td>NaN</td>\n",
       "      <td>NaN</td>\n",
       "      <td>NaN</td>\n",
       "      <td>NaN</td>\n",
       "      <td>NaN</td>\n",
       "      <td>NaN</td>\n",
       "      <td>NaN</td>\n",
       "    </tr>\n",
       "    <tr>\n",
       "      <th>NumberOfTrips</th>\n",
       "      <td>4747.0</td>\n",
       "      <td>NaN</td>\n",
       "      <td>NaN</td>\n",
       "      <td>NaN</td>\n",
       "      <td>3.226459</td>\n",
       "      <td>1.82121</td>\n",
       "      <td>1.0</td>\n",
       "      <td>2.0</td>\n",
       "      <td>3.0</td>\n",
       "      <td>4.0</td>\n",
       "      <td>22.0</td>\n",
       "    </tr>\n",
       "    <tr>\n",
       "      <th>Passport</th>\n",
       "      <td>4747.0</td>\n",
       "      <td>NaN</td>\n",
       "      <td>NaN</td>\n",
       "      <td>NaN</td>\n",
       "      <td>0.289657</td>\n",
       "      <td>0.453651</td>\n",
       "      <td>0.0</td>\n",
       "      <td>0.0</td>\n",
       "      <td>0.0</td>\n",
       "      <td>1.0</td>\n",
       "      <td>1.0</td>\n",
       "    </tr>\n",
       "    <tr>\n",
       "      <th>PitchSatisfactionScore</th>\n",
       "      <td>4747.0</td>\n",
       "      <td>NaN</td>\n",
       "      <td>NaN</td>\n",
       "      <td>NaN</td>\n",
       "      <td>3.051612</td>\n",
       "      <td>1.369584</td>\n",
       "      <td>1.0</td>\n",
       "      <td>2.0</td>\n",
       "      <td>3.0</td>\n",
       "      <td>4.0</td>\n",
       "      <td>5.0</td>\n",
       "    </tr>\n",
       "    <tr>\n",
       "      <th>OwnCar</th>\n",
       "      <td>4747.0</td>\n",
       "      <td>NaN</td>\n",
       "      <td>NaN</td>\n",
       "      <td>NaN</td>\n",
       "      <td>0.617653</td>\n",
       "      <td>0.486012</td>\n",
       "      <td>0.0</td>\n",
       "      <td>0.0</td>\n",
       "      <td>1.0</td>\n",
       "      <td>1.0</td>\n",
       "      <td>1.0</td>\n",
       "    </tr>\n",
       "    <tr>\n",
       "      <th>NumberOfChildrenVisiting</th>\n",
       "      <td>4747.0</td>\n",
       "      <td>NaN</td>\n",
       "      <td>NaN</td>\n",
       "      <td>NaN</td>\n",
       "      <td>1.191068</td>\n",
       "      <td>0.855278</td>\n",
       "      <td>0.0</td>\n",
       "      <td>1.0</td>\n",
       "      <td>1.0</td>\n",
       "      <td>2.0</td>\n",
       "      <td>3.0</td>\n",
       "    </tr>\n",
       "    <tr>\n",
       "      <th>Designation</th>\n",
       "      <td>4747</td>\n",
       "      <td>5</td>\n",
       "      <td>Executive</td>\n",
       "      <td>1800</td>\n",
       "      <td>NaN</td>\n",
       "      <td>NaN</td>\n",
       "      <td>NaN</td>\n",
       "      <td>NaN</td>\n",
       "      <td>NaN</td>\n",
       "      <td>NaN</td>\n",
       "      <td>NaN</td>\n",
       "    </tr>\n",
       "    <tr>\n",
       "      <th>MonthlyIncome</th>\n",
       "      <td>4747.0</td>\n",
       "      <td>NaN</td>\n",
       "      <td>NaN</td>\n",
       "      <td>NaN</td>\n",
       "      <td>23541.308827</td>\n",
       "      <td>5264.00234</td>\n",
       "      <td>1000.0</td>\n",
       "      <td>20474.5</td>\n",
       "      <td>22311.0</td>\n",
       "      <td>25389.0</td>\n",
       "      <td>98678.0</td>\n",
       "    </tr>\n",
       "  </tbody>\n",
       "</table>\n",
       "</div>"
      ],
      "text/plain": [
       "                           count unique           top  freq          mean  \\\n",
       "ProdTaken                 4747.0    NaN           NaN   NaN      0.188329   \n",
       "Age                       4747.0    NaN           NaN   NaN     37.513377   \n",
       "TypeofContact               4747      2  Self Enquiry  3375           NaN   \n",
       "CityTier                  4747.0    NaN           NaN   NaN      1.655151   \n",
       "DurationOfPitch           4747.0    NaN           NaN   NaN     15.380872   \n",
       "Occupation                  4747      3      Salaried  2293           NaN   \n",
       "Gender                      4747      2          Male  2835           NaN   \n",
       "NumberOfPersonVisiting    4747.0    NaN           NaN   NaN      2.911734   \n",
       "NumberOfFollowups         4747.0    NaN           NaN   NaN      3.707815   \n",
       "ProductPitched              4747      5         Basic  1800           NaN   \n",
       "PreferredPropertyStar     4747.0    NaN           NaN   NaN      3.580156   \n",
       "MaritalStatus               4747      3       Married  2279           NaN   \n",
       "NumberOfTrips             4747.0    NaN           NaN   NaN      3.226459   \n",
       "Passport                  4747.0    NaN           NaN   NaN      0.289657   \n",
       "PitchSatisfactionScore    4747.0    NaN           NaN   NaN      3.051612   \n",
       "OwnCar                    4747.0    NaN           NaN   NaN      0.617653   \n",
       "NumberOfChildrenVisiting  4747.0    NaN           NaN   NaN      1.191068   \n",
       "Designation                 4747      5     Executive  1800           NaN   \n",
       "MonthlyIncome             4747.0    NaN           NaN   NaN  23541.308827   \n",
       "\n",
       "                                 std     min      25%      50%      75%  \\\n",
       "ProdTaken                   0.391016     0.0      0.0      0.0      0.0   \n",
       "Age                         9.119956    18.0     31.0     36.0     43.0   \n",
       "TypeofContact                    NaN     NaN      NaN      NaN      NaN   \n",
       "CityTier                    0.917416     1.0      1.0      1.0      3.0   \n",
       "DurationOfPitch             8.330097     5.0      9.0     13.0     19.0   \n",
       "Occupation                       NaN     NaN      NaN      NaN      NaN   \n",
       "Gender                           NaN     NaN      NaN      NaN      NaN   \n",
       "NumberOfPersonVisiting       0.72404     1.0      2.0      3.0      3.0   \n",
       "NumberOfFollowups           1.004388     1.0      3.0      4.0      4.0   \n",
       "ProductPitched                   NaN     NaN      NaN      NaN      NaN   \n",
       "PreferredPropertyStar       0.799316     3.0      3.0      3.0      4.0   \n",
       "MaritalStatus                    NaN     NaN      NaN      NaN      NaN   \n",
       "NumberOfTrips                1.82121     1.0      2.0      3.0      4.0   \n",
       "Passport                    0.453651     0.0      0.0      0.0      1.0   \n",
       "PitchSatisfactionScore      1.369584     1.0      2.0      3.0      4.0   \n",
       "OwnCar                      0.486012     0.0      0.0      1.0      1.0   \n",
       "NumberOfChildrenVisiting    0.855278     0.0      1.0      1.0      2.0   \n",
       "Designation                      NaN     NaN      NaN      NaN      NaN   \n",
       "MonthlyIncome             5264.00234  1000.0  20474.5  22311.0  25389.0   \n",
       "\n",
       "                              max  \n",
       "ProdTaken                     1.0  \n",
       "Age                          61.0  \n",
       "TypeofContact                 NaN  \n",
       "CityTier                      3.0  \n",
       "DurationOfPitch             127.0  \n",
       "Occupation                    NaN  \n",
       "Gender                        NaN  \n",
       "NumberOfPersonVisiting        5.0  \n",
       "NumberOfFollowups             6.0  \n",
       "ProductPitched                NaN  \n",
       "PreferredPropertyStar         5.0  \n",
       "MaritalStatus                 NaN  \n",
       "NumberOfTrips                22.0  \n",
       "Passport                      1.0  \n",
       "PitchSatisfactionScore        5.0  \n",
       "OwnCar                        1.0  \n",
       "NumberOfChildrenVisiting      3.0  \n",
       "Designation                   NaN  \n",
       "MonthlyIncome             98678.0  "
      ]
     },
     "execution_count": 21,
     "metadata": {},
     "output_type": "execute_result"
    },
    {
     "data": {
      "application/javascript": [
       "\n",
       "            setTimeout(function() {\n",
       "                var nbb_cell_id = 21;\n",
       "                var nbb_unformatted_code = \"df.describe(include=\\\"all\\\").T\";\n",
       "                var nbb_formatted_code = \"df.describe(include=\\\"all\\\").T\";\n",
       "                var nbb_cells = Jupyter.notebook.get_cells();\n",
       "                for (var i = 0; i < nbb_cells.length; ++i) {\n",
       "                    if (nbb_cells[i].input_prompt_number == nbb_cell_id) {\n",
       "                        if (nbb_cells[i].get_text() == nbb_unformatted_code) {\n",
       "                             nbb_cells[i].set_text(nbb_formatted_code);\n",
       "                        }\n",
       "                        break;\n",
       "                    }\n",
       "                }\n",
       "            }, 500);\n",
       "            "
      ],
      "text/plain": [
       "<IPython.core.display.Javascript object>"
      ]
     },
     "metadata": {},
     "output_type": "display_data"
    }
   ],
   "source": [
    "df.describe(include=\"all\").T"
   ]
  },
  {
   "cell_type": "markdown",
   "id": "8afd1d0a",
   "metadata": {},
   "source": [
    "* `ProdTaken`: 19% customer didn't purchase the package\n",
    "* `Age`: Average age of customers in the dataset is 36 years, age has a wide range from 18 to 61 years.\n",
    "* `TypeofContact`: 2 Types of contact of customers. 'Self Enquiry' is most.\n",
    "* `CityTier`: 3 \n",
    "* `ZIPCode`: ZIPCode range from 90005 to 96651.\n",
    "* `Family`: Average family members is 2, family members range from 1 to 4.\n",
    "* `CCAvg`: Average CCAvg of people in the dataset is 1.5 thousands per month, CCAvg range from 0 thousands to 10 thousands.\n",
    "* `Education`: Average Education is 2, Education range from 1 to 3.\n",
    "* `Mortgage`: Average Mortgage in the dataset is 0, Mortgage range from 0 thousands to 635 thousands. More than 50% has 0 Mortgage.\n",
    "* `Personal_Loan`: Personal Loan range from 0 to 1. More than 75% didn't take personal loan.\n",
    "* `Securities_Account`: Securities Account range from 0 to 1. More than 75% don't have Securities Account.\n",
    "* `CD_Account`: CD Account range from 0 to 1. More than 75% don't have certificate of deposit (CD) account.\n",
    "* `Online`: Online range from 0 to 1. More than 50% has online access.\n",
    "* `CreditCard`: CreditCard range from 0 to 1. Less than 50% has CreditCard from other bank."
   ]
  },
  {
   "cell_type": "markdown",
   "id": "d082fcf1",
   "metadata": {},
   "source": [
    "## Data visualization\n",
    "\n",
    "### Univariate Plot"
   ]
  },
  {
   "cell_type": "code",
   "execution_count": 22,
   "id": "a47a09d1",
   "metadata": {},
   "outputs": [
    {
     "data": {
      "application/javascript": [
       "\n",
       "            setTimeout(function() {\n",
       "                var nbb_cell_id = 22;\n",
       "                var nbb_unformatted_code = \"# Univariate analysis of numerical variables to study their central tendency and dispersion.\\n# Write a function that will help us create a boxplot and a histogram for any input numerical variable.\\n# Function takes the numerical column as the input and returns the column describe, boxplots and histograms for the variable.\\n\\n\\ndef univariate_num_plot(feature, figsize=(10, 8), bins=10):\\n    \\\"\\\"\\\"Boxplot and histogram combined\\n    feature: 1-d feature array\\n    figsize: size of fig (default (9,8))\\n    bins: number of bins (default None / auto)\\n    \\\"\\\"\\\"\\n    print(feature.describe())\\n    f2, (ax_box2, ax_hist2) = plt.subplots(\\n        nrows=2,  # Number of rows of the subplot grid= 2\\n        sharex=True,  # x-axis will be shared among all subplots\\n        gridspec_kw={\\\"height_ratios\\\": (0.25, 0.75)},\\n        figsize=figsize,\\n    )  # creating the 2 subplots\\n    sns.boxplot(\\n        x=feature, ax=ax_box2, showmeans=True\\n    )  # boxplot will be created and a star will indicate the mean value of the column\\n    sns.histplot(\\n        x=feature, kde=True, ax=ax_hist2, bins=bins, palette=\\\"winter\\\"\\n    ) if bins else sns.histplot(\\n        x=feature, kde=True, ax=ax_hist2\\n    )  # For histogram\\n    ax_hist2.axvline(\\n        feature.mean(), color=\\\"green\\\", linestyle=\\\"--\\\"\\n    )  # Add mean to the histogram\\n    ax_hist2.axvline(\\n        feature.median(), color=\\\"red\\\", linestyle=\\\"-\\\"\\n    )  # Add median to the histogram\";\n",
       "                var nbb_formatted_code = \"# Univariate analysis of numerical variables to study their central tendency and dispersion.\\n# Write a function that will help us create a boxplot and a histogram for any input numerical variable.\\n# Function takes the numerical column as the input and returns the column describe, boxplots and histograms for the variable.\\n\\n\\ndef univariate_num_plot(feature, figsize=(10, 8), bins=10):\\n    \\\"\\\"\\\"Boxplot and histogram combined\\n    feature: 1-d feature array\\n    figsize: size of fig (default (9,8))\\n    bins: number of bins (default None / auto)\\n    \\\"\\\"\\\"\\n    print(feature.describe())\\n    f2, (ax_box2, ax_hist2) = plt.subplots(\\n        nrows=2,  # Number of rows of the subplot grid= 2\\n        sharex=True,  # x-axis will be shared among all subplots\\n        gridspec_kw={\\\"height_ratios\\\": (0.25, 0.75)},\\n        figsize=figsize,\\n    )  # creating the 2 subplots\\n    sns.boxplot(\\n        x=feature, ax=ax_box2, showmeans=True\\n    )  # boxplot will be created and a star will indicate the mean value of the column\\n    sns.histplot(\\n        x=feature, kde=True, ax=ax_hist2, bins=bins, palette=\\\"winter\\\"\\n    ) if bins else sns.histplot(\\n        x=feature, kde=True, ax=ax_hist2\\n    )  # For histogram\\n    ax_hist2.axvline(\\n        feature.mean(), color=\\\"green\\\", linestyle=\\\"--\\\"\\n    )  # Add mean to the histogram\\n    ax_hist2.axvline(\\n        feature.median(), color=\\\"red\\\", linestyle=\\\"-\\\"\\n    )  # Add median to the histogram\";\n",
       "                var nbb_cells = Jupyter.notebook.get_cells();\n",
       "                for (var i = 0; i < nbb_cells.length; ++i) {\n",
       "                    if (nbb_cells[i].input_prompt_number == nbb_cell_id) {\n",
       "                        if (nbb_cells[i].get_text() == nbb_unformatted_code) {\n",
       "                             nbb_cells[i].set_text(nbb_formatted_code);\n",
       "                        }\n",
       "                        break;\n",
       "                    }\n",
       "                }\n",
       "            }, 500);\n",
       "            "
      ],
      "text/plain": [
       "<IPython.core.display.Javascript object>"
      ]
     },
     "metadata": {},
     "output_type": "display_data"
    }
   ],
   "source": [
    "# Univariate analysis of numerical variables to study their central tendency and dispersion.\n",
    "# Write a function that will help us create a boxplot and a histogram for any input numerical variable.\n",
    "# Function takes the numerical column as the input and returns the column describe, boxplots and histograms for the variable.\n",
    "\n",
    "\n",
    "def univariate_num_plot(feature, figsize=(10, 8), bins=10):\n",
    "    \"\"\"Boxplot and histogram combined\n",
    "    feature: 1-d feature array\n",
    "    figsize: size of fig (default (9,8))\n",
    "    bins: number of bins (default None / auto)\n",
    "    \"\"\"\n",
    "    print(feature.describe())\n",
    "    f2, (ax_box2, ax_hist2) = plt.subplots(\n",
    "        nrows=2,  # Number of rows of the subplot grid= 2\n",
    "        sharex=True,  # x-axis will be shared among all subplots\n",
    "        gridspec_kw={\"height_ratios\": (0.25, 0.75)},\n",
    "        figsize=figsize,\n",
    "    )  # creating the 2 subplots\n",
    "    sns.boxplot(\n",
    "        x=feature, ax=ax_box2, showmeans=True\n",
    "    )  # boxplot will be created and a star will indicate the mean value of the column\n",
    "    sns.histplot(\n",
    "        x=feature, kde=True, ax=ax_hist2, bins=bins, palette=\"winter\"\n",
    "    ) if bins else sns.histplot(\n",
    "        x=feature, kde=True, ax=ax_hist2\n",
    "    )  # For histogram\n",
    "    ax_hist2.axvline(\n",
    "        feature.mean(), color=\"green\", linestyle=\"--\"\n",
    "    )  # Add mean to the histogram\n",
    "    ax_hist2.axvline(\n",
    "        feature.median(), color=\"red\", linestyle=\"-\"\n",
    "    )  # Add median to the histogram"
   ]
  },
  {
   "cell_type": "code",
   "execution_count": 23,
   "id": "1da923e1",
   "metadata": {},
   "outputs": [
    {
     "data": {
      "application/javascript": [
       "\n",
       "            setTimeout(function() {\n",
       "                var nbb_cell_id = 23;\n",
       "                var nbb_unformatted_code = \"# Function to create barplots that indicate percentage for each category.\\n\\n\\ndef univariate_cat_plot(data, z):\\n    \\\"\\\"\\\"\\n    plot\\n    feature: categorical feature\\n    the function won't work if a column is passed in hue parameter\\n    \\\"\\\"\\\"\\n\\n    total = len(data[z])  # length of the column\\n    plt.figure(figsize=(15, 5))\\n    plt.xticks(rotation=45)\\n    ax = sns.countplot(x=data[z], palette=\\\"Paired\\\")\\n    for p in ax.patches:\\n        percentage = \\\"{:.1f}%\\\".format(\\n            100 * p.get_height() / total\\n        )  # percentage of each class of the category\\n        x = p.get_x() + p.get_width() / 2 - 0.05  # width of the plot\\n        y = p.get_y() + p.get_height()  # hieght of the plot\\n\\n        ax.annotate(percentage, (x, y), size=10)  # annotate the percantage\\n    plt.show()  # show the plot\";\n",
       "                var nbb_formatted_code = \"# Function to create barplots that indicate percentage for each category.\\n\\n\\ndef univariate_cat_plot(data, z):\\n    \\\"\\\"\\\"\\n    plot\\n    feature: categorical feature\\n    the function won't work if a column is passed in hue parameter\\n    \\\"\\\"\\\"\\n\\n    total = len(data[z])  # length of the column\\n    plt.figure(figsize=(15, 5))\\n    plt.xticks(rotation=45)\\n    ax = sns.countplot(x=data[z], palette=\\\"Paired\\\")\\n    for p in ax.patches:\\n        percentage = \\\"{:.1f}%\\\".format(\\n            100 * p.get_height() / total\\n        )  # percentage of each class of the category\\n        x = p.get_x() + p.get_width() / 2 - 0.05  # width of the plot\\n        y = p.get_y() + p.get_height()  # hieght of the plot\\n\\n        ax.annotate(percentage, (x, y), size=10)  # annotate the percantage\\n    plt.show()  # show the plot\";\n",
       "                var nbb_cells = Jupyter.notebook.get_cells();\n",
       "                for (var i = 0; i < nbb_cells.length; ++i) {\n",
       "                    if (nbb_cells[i].input_prompt_number == nbb_cell_id) {\n",
       "                        if (nbb_cells[i].get_text() == nbb_unformatted_code) {\n",
       "                             nbb_cells[i].set_text(nbb_formatted_code);\n",
       "                        }\n",
       "                        break;\n",
       "                    }\n",
       "                }\n",
       "            }, 500);\n",
       "            "
      ],
      "text/plain": [
       "<IPython.core.display.Javascript object>"
      ]
     },
     "metadata": {},
     "output_type": "display_data"
    }
   ],
   "source": [
    "# Function to create barplots that indicate percentage for each category.\n",
    "\n",
    "\n",
    "def univariate_cat_plot(data, z):\n",
    "    \"\"\"\n",
    "    plot\n",
    "    feature: categorical feature\n",
    "    the function won't work if a column is passed in hue parameter\n",
    "    \"\"\"\n",
    "\n",
    "    total = len(data[z])  # length of the column\n",
    "    plt.figure(figsize=(15, 5))\n",
    "    plt.xticks(rotation=45)\n",
    "    ax = sns.countplot(x=data[z], palette=\"Paired\")\n",
    "    for p in ax.patches:\n",
    "        percentage = \"{:.1f}%\".format(\n",
    "            100 * p.get_height() / total\n",
    "        )  # percentage of each class of the category\n",
    "        x = p.get_x() + p.get_width() / 2 - 0.05  # width of the plot\n",
    "        y = p.get_y() + p.get_height()  # hieght of the plot\n",
    "\n",
    "        ax.annotate(percentage, (x, y), size=10)  # annotate the percantage\n",
    "    plt.show()  # show the plot"
   ]
  },
  {
   "cell_type": "code",
   "execution_count": 24,
   "id": "636d2bbd",
   "metadata": {},
   "outputs": [
    {
     "name": "stdout",
     "output_type": "stream",
     "text": [
      "count    4747.000000\n",
      "mean       37.513377\n",
      "std         9.119956\n",
      "min        18.000000\n",
      "25%        31.000000\n",
      "50%        36.000000\n",
      "75%        43.000000\n",
      "max        61.000000\n",
      "Name: Age, dtype: float64\n"
     ]
    },
    {
     "data": {
      "image/png": "[encoded data removed]",
      "text/plain": [
       "<Figure size 720x576 with 2 Axes>"
      ]
     },
     "metadata": {},
     "output_type": "display_data"
    },
    {
     "data": {
      "application/javascript": [
       "\n",
       "            setTimeout(function() {\n",
       "                var nbb_cell_id = 24;\n",
       "                var nbb_unformatted_code = \"univariate_num_plot(df[\\\"Age\\\"])\";\n",
       "                var nbb_formatted_code = \"univariate_num_plot(df[\\\"Age\\\"])\";\n",
       "                var nbb_cells = Jupyter.notebook.get_cells();\n",
       "                for (var i = 0; i < nbb_cells.length; ++i) {\n",
       "                    if (nbb_cells[i].input_prompt_number == nbb_cell_id) {\n",
       "                        if (nbb_cells[i].get_text() == nbb_unformatted_code) {\n",
       "                             nbb_cells[i].set_text(nbb_formatted_code);\n",
       "                        }\n",
       "                        break;\n",
       "                    }\n",
       "                }\n",
       "            }, 500);\n",
       "            "
      ],
      "text/plain": [
       "<IPython.core.display.Javascript object>"
      ]
     },
     "metadata": {},
     "output_type": "display_data"
    }
   ],
   "source": [
    "univariate_num_plot(df[\"Age\"])"
   ]
  },
  {
   "cell_type": "markdown",
   "id": "23c57a7a",
   "metadata": {},
   "source": [
    "**Age** data is well distributed."
   ]
  },
  {
   "cell_type": "code",
   "execution_count": 25,
   "id": "8fd83e9e",
   "metadata": {},
   "outputs": [
    {
     "name": "stdout",
     "output_type": "stream",
     "text": [
      "count    4747.000000\n",
      "mean       15.380872\n",
      "std         8.330097\n",
      "min         5.000000\n",
      "25%         9.000000\n",
      "50%        13.000000\n",
      "75%        19.000000\n",
      "max       127.000000\n",
      "Name: DurationOfPitch, dtype: float64\n"
     ]
    },
    {
     "data": {
      "image/png": "[encoded data removed]",
      "text/plain": [
       "<Figure size 720x576 with 2 Axes>"
      ]
     },
     "metadata": {},
     "output_type": "display_data"
    },
    {
     "data": {
      "application/javascript": [
       "\n",
       "            setTimeout(function() {\n",
       "                var nbb_cell_id = 25;\n",
       "                var nbb_unformatted_code = \"univariate_num_plot(df[\\\"DurationOfPitch\\\"])\";\n",
       "                var nbb_formatted_code = \"univariate_num_plot(df[\\\"DurationOfPitch\\\"])\";\n",
       "                var nbb_cells = Jupyter.notebook.get_cells();\n",
       "                for (var i = 0; i < nbb_cells.length; ++i) {\n",
       "                    if (nbb_cells[i].input_prompt_number == nbb_cell_id) {\n",
       "                        if (nbb_cells[i].get_text() == nbb_unformatted_code) {\n",
       "                             nbb_cells[i].set_text(nbb_formatted_code);\n",
       "                        }\n",
       "                        break;\n",
       "                    }\n",
       "                }\n",
       "            }, 500);\n",
       "            "
      ],
      "text/plain": [
       "<IPython.core.display.Javascript object>"
      ]
     },
     "metadata": {},
     "output_type": "display_data"
    }
   ],
   "source": [
    "univariate_num_plot(df[\"DurationOfPitch\"])"
   ]
  },
  {
   "cell_type": "markdown",
   "id": "c65684fa",
   "metadata": {},
   "source": [
    "The distribution of **DurationOfPitch** is heavily right-skewed with a median is 13. Also has very few outlier."
   ]
  },
  {
   "cell_type": "code",
   "execution_count": 26,
   "id": "da6986dc",
   "metadata": {},
   "outputs": [
    {
     "name": "stdout",
     "output_type": "stream",
     "text": [
      "count    4747.000000\n",
      "mean        3.226459\n",
      "std         1.821210\n",
      "min         1.000000\n",
      "25%         2.000000\n",
      "50%         3.000000\n",
      "75%         4.000000\n",
      "max        22.000000\n",
      "Name: NumberOfTrips, dtype: float64\n"
     ]
    },
    {
     "data": {
      "image/png": "[encoded data removed]",
      "text/plain": [
       "<Figure size 720x576 with 2 Axes>"
      ]
     },
     "metadata": {},
     "output_type": "display_data"
    },
    {
     "data": {
      "application/javascript": [
       "\n",
       "            setTimeout(function() {\n",
       "                var nbb_cell_id = 26;\n",
       "                var nbb_unformatted_code = \"univariate_num_plot(df[\\\"NumberOfTrips\\\"])\";\n",
       "                var nbb_formatted_code = \"univariate_num_plot(df[\\\"NumberOfTrips\\\"])\";\n",
       "                var nbb_cells = Jupyter.notebook.get_cells();\n",
       "                for (var i = 0; i < nbb_cells.length; ++i) {\n",
       "                    if (nbb_cells[i].input_prompt_number == nbb_cell_id) {\n",
       "                        if (nbb_cells[i].get_text() == nbb_unformatted_code) {\n",
       "                             nbb_cells[i].set_text(nbb_formatted_code);\n",
       "                        }\n",
       "                        break;\n",
       "                    }\n",
       "                }\n",
       "            }, 500);\n",
       "            "
      ],
      "text/plain": [
       "<IPython.core.display.Javascript object>"
      ]
     },
     "metadata": {},
     "output_type": "display_data"
    }
   ],
   "source": [
    "univariate_num_plot(df[\"NumberOfTrips\"])"
   ]
  },
  {
   "cell_type": "markdown",
   "id": "d56fd6a5",
   "metadata": {},
   "source": [
    "The distribution of **NumberOfTrips** is heavily right-skewed with a median is 3. Also has very few outlier."
   ]
  },
  {
   "cell_type": "code",
   "execution_count": 27,
   "id": "901cfd02",
   "metadata": {},
   "outputs": [
    {
     "name": "stdout",
     "output_type": "stream",
     "text": [
      "count     4747.000000\n",
      "mean     23541.308827\n",
      "std       5264.002340\n",
      "min       1000.000000\n",
      "25%      20474.500000\n",
      "50%      22311.000000\n",
      "75%      25389.000000\n",
      "max      98678.000000\n",
      "Name: MonthlyIncome, dtype: float64\n"
     ]
    },
    {
     "data": {
      "image/png": "[encoded data removed]",
      "text/plain": [
       "<Figure size 720x576 with 2 Axes>"
      ]
     },
     "metadata": {},
     "output_type": "display_data"
    },
    {
     "data": {
      "application/javascript": [
       "\n",
       "            setTimeout(function() {\n",
       "                var nbb_cell_id = 27;\n",
       "                var nbb_unformatted_code = \"univariate_num_plot(df[\\\"MonthlyIncome\\\"])\";\n",
       "                var nbb_formatted_code = \"univariate_num_plot(df[\\\"MonthlyIncome\\\"])\";\n",
       "                var nbb_cells = Jupyter.notebook.get_cells();\n",
       "                for (var i = 0; i < nbb_cells.length; ++i) {\n",
       "                    if (nbb_cells[i].input_prompt_number == nbb_cell_id) {\n",
       "                        if (nbb_cells[i].get_text() == nbb_unformatted_code) {\n",
       "                             nbb_cells[i].set_text(nbb_formatted_code);\n",
       "                        }\n",
       "                        break;\n",
       "                    }\n",
       "                }\n",
       "            }, 500);\n",
       "            "
      ],
      "text/plain": [
       "<IPython.core.display.Javascript object>"
      ]
     },
     "metadata": {},
     "output_type": "display_data"
    }
   ],
   "source": [
    "univariate_num_plot(df[\"MonthlyIncome\"])"
   ]
  },
  {
   "cell_type": "markdown",
   "id": "a62f1f46",
   "metadata": {},
   "source": [
    "The distribution of **MonthlyIncome** is heavily right-skewed with a median is 22311. Also has some outlier."
   ]
  },
  {
   "cell_type": "code",
   "execution_count": 28,
   "id": "e12fd8d9",
   "metadata": {},
   "outputs": [
    {
     "data": {
      "image/png": "[encoded data removed]",
      "text/plain": [
       "<Figure size 1080x360 with 1 Axes>"
      ]
     },
     "metadata": {},
     "output_type": "display_data"
    },
    {
     "data": {
      "application/javascript": [
       "\n",
       "            setTimeout(function() {\n",
       "                var nbb_cell_id = 28;\n",
       "                var nbb_unformatted_code = \"univariate_cat_plot(df, \\\"ProdTaken\\\")\";\n",
       "                var nbb_formatted_code = \"univariate_cat_plot(df, \\\"ProdTaken\\\")\";\n",
       "                var nbb_cells = Jupyter.notebook.get_cells();\n",
       "                for (var i = 0; i < nbb_cells.length; ++i) {\n",
       "                    if (nbb_cells[i].input_prompt_number == nbb_cell_id) {\n",
       "                        if (nbb_cells[i].get_text() == nbb_unformatted_code) {\n",
       "                             nbb_cells[i].set_text(nbb_formatted_code);\n",
       "                        }\n",
       "                        break;\n",
       "                    }\n",
       "                }\n",
       "            }, 500);\n",
       "            "
      ],
      "text/plain": [
       "<IPython.core.display.Javascript object>"
      ]
     },
     "metadata": {},
     "output_type": "display_data"
    }
   ],
   "source": [
    "univariate_cat_plot(df, \"ProdTaken\")"
   ]
  },
  {
   "cell_type": "markdown",
   "id": "e723286f",
   "metadata": {},
   "source": [
    "19% customers purchased the travel packages."
   ]
  },
  {
   "cell_type": "code",
   "execution_count": 29,
   "id": "cb5e8ca0",
   "metadata": {},
   "outputs": [
    {
     "data": {
      "image/png": "[encoded data removed]",
      "text/plain": [
       "<Figure size 1080x360 with 1 Axes>"
      ]
     },
     "metadata": {},
     "output_type": "display_data"
    },
    {
     "data": {
      "application/javascript": [
       "\n",
       "            setTimeout(function() {\n",
       "                var nbb_cell_id = 29;\n",
       "                var nbb_unformatted_code = \"univariate_cat_plot(df, \\\"TypeofContact\\\")\";\n",
       "                var nbb_formatted_code = \"univariate_cat_plot(df, \\\"TypeofContact\\\")\";\n",
       "                var nbb_cells = Jupyter.notebook.get_cells();\n",
       "                for (var i = 0; i < nbb_cells.length; ++i) {\n",
       "                    if (nbb_cells[i].input_prompt_number == nbb_cell_id) {\n",
       "                        if (nbb_cells[i].get_text() == nbb_unformatted_code) {\n",
       "                             nbb_cells[i].set_text(nbb_formatted_code);\n",
       "                        }\n",
       "                        break;\n",
       "                    }\n",
       "                }\n",
       "            }, 500);\n",
       "            "
      ],
      "text/plain": [
       "<IPython.core.display.Javascript object>"
      ]
     },
     "metadata": {},
     "output_type": "display_data"
    }
   ],
   "source": [
    "univariate_cat_plot(df, \"TypeofContact\")"
   ]
  },
  {
   "cell_type": "markdown",
   "id": "64d13382",
   "metadata": {},
   "source": [
    "More than 70% customers are 'Self Enquiry'."
   ]
  },
  {
   "cell_type": "code",
   "execution_count": 30,
   "id": "626703a9",
   "metadata": {},
   "outputs": [
    {
     "data": {
      "image/png": "[encoded data removed]",
      "text/plain": [
       "<Figure size 1080x360 with 1 Axes>"
      ]
     },
     "metadata": {},
     "output_type": "display_data"
    },
    {
     "data": {
      "application/javascript": [
       "\n",
       "            setTimeout(function() {\n",
       "                var nbb_cell_id = 30;\n",
       "                var nbb_unformatted_code = \"univariate_cat_plot(df, \\\"CityTier\\\")\";\n",
       "                var nbb_formatted_code = \"univariate_cat_plot(df, \\\"CityTier\\\")\";\n",
       "                var nbb_cells = Jupyter.notebook.get_cells();\n",
       "                for (var i = 0; i < nbb_cells.length; ++i) {\n",
       "                    if (nbb_cells[i].input_prompt_number == nbb_cell_id) {\n",
       "                        if (nbb_cells[i].get_text() == nbb_unformatted_code) {\n",
       "                             nbb_cells[i].set_text(nbb_formatted_code);\n",
       "                        }\n",
       "                        break;\n",
       "                    }\n",
       "                }\n",
       "            }, 500);\n",
       "            "
      ],
      "text/plain": [
       "<IPython.core.display.Javascript object>"
      ]
     },
     "metadata": {},
     "output_type": "display_data"
    }
   ],
   "source": [
    "univariate_cat_plot(df, \"CityTier\")"
   ]
  },
  {
   "cell_type": "markdown",
   "id": "3a421c61",
   "metadata": {},
   "source": [
    "More than 65% customers are from Tier1 city, more tha. 30% from Tier3 and few from Tier2 city."
   ]
  },
  {
   "cell_type": "code",
   "execution_count": 31,
   "id": "2a143472",
   "metadata": {},
   "outputs": [
    {
     "data": {
      "image/png": "[encoded data removed]",
      "text/plain": [
       "<Figure size 1080x360 with 1 Axes>"
      ]
     },
     "metadata": {},
     "output_type": "display_data"
    },
    {
     "data": {
      "application/javascript": [
       "\n",
       "            setTimeout(function() {\n",
       "                var nbb_cell_id = 31;\n",
       "                var nbb_unformatted_code = \"univariate_cat_plot(df, \\\"Occupation\\\")\";\n",
       "                var nbb_formatted_code = \"univariate_cat_plot(df, \\\"Occupation\\\")\";\n",
       "                var nbb_cells = Jupyter.notebook.get_cells();\n",
       "                for (var i = 0; i < nbb_cells.length; ++i) {\n",
       "                    if (nbb_cells[i].input_prompt_number == nbb_cell_id) {\n",
       "                        if (nbb_cells[i].get_text() == nbb_unformatted_code) {\n",
       "                             nbb_cells[i].set_text(nbb_formatted_code);\n",
       "                        }\n",
       "                        break;\n",
       "                    }\n",
       "                }\n",
       "            }, 500);\n",
       "            "
      ],
      "text/plain": [
       "<IPython.core.display.Javascript object>"
      ]
     },
     "metadata": {},
     "output_type": "display_data"
    }
   ],
   "source": [
    "univariate_cat_plot(df, \"Occupation\")"
   ]
  },
  {
   "cell_type": "markdown",
   "id": "19080b84",
   "metadata": {},
   "source": [
    "Most customers are Salaried or has Small Business. Very few has Large Business"
   ]
  },
  {
   "cell_type": "code",
   "execution_count": 32,
   "id": "8b5ba11b",
   "metadata": {},
   "outputs": [
    {
     "data": {
      "image/png": "[encoded data removed]",
      "text/plain": [
       "<Figure size 1080x360 with 1 Axes>"
      ]
     },
     "metadata": {},
     "output_type": "display_data"
    },
    {
     "data": {
      "application/javascript": [
       "\n",
       "            setTimeout(function() {\n",
       "                var nbb_cell_id = 32;\n",
       "                var nbb_unformatted_code = \"univariate_cat_plot(df, \\\"Gender\\\")\";\n",
       "                var nbb_formatted_code = \"univariate_cat_plot(df, \\\"Gender\\\")\";\n",
       "                var nbb_cells = Jupyter.notebook.get_cells();\n",
       "                for (var i = 0; i < nbb_cells.length; ++i) {\n",
       "                    if (nbb_cells[i].input_prompt_number == nbb_cell_id) {\n",
       "                        if (nbb_cells[i].get_text() == nbb_unformatted_code) {\n",
       "                             nbb_cells[i].set_text(nbb_formatted_code);\n",
       "                        }\n",
       "                        break;\n",
       "                    }\n",
       "                }\n",
       "            }, 500);\n",
       "            "
      ],
      "text/plain": [
       "<IPython.core.display.Javascript object>"
      ]
     },
     "metadata": {},
     "output_type": "display_data"
    }
   ],
   "source": [
    "univariate_cat_plot(df, \"Gender\")"
   ]
  },
  {
   "cell_type": "markdown",
   "id": "38470e2f",
   "metadata": {},
   "source": [
    "60% customers are Male"
   ]
  },
  {
   "cell_type": "code",
   "execution_count": 33,
   "id": "955932fb",
   "metadata": {},
   "outputs": [
    {
     "data": {
      "image/png": "[encoded data removed]",
      "text/plain": [
       "<Figure size 1080x360 with 1 Axes>"
      ]
     },
     "metadata": {},
     "output_type": "display_data"
    },
    {
     "data": {
      "application/javascript": [
       "\n",
       "            setTimeout(function() {\n",
       "                var nbb_cell_id = 33;\n",
       "                var nbb_unformatted_code = \"univariate_cat_plot(df, \\\"NumberOfPersonVisiting\\\")\";\n",
       "                var nbb_formatted_code = \"univariate_cat_plot(df, \\\"NumberOfPersonVisiting\\\")\";\n",
       "                var nbb_cells = Jupyter.notebook.get_cells();\n",
       "                for (var i = 0; i < nbb_cells.length; ++i) {\n",
       "                    if (nbb_cells[i].input_prompt_number == nbb_cell_id) {\n",
       "                        if (nbb_cells[i].get_text() == nbb_unformatted_code) {\n",
       "                             nbb_cells[i].set_text(nbb_formatted_code);\n",
       "                        }\n",
       "                        break;\n",
       "                    }\n",
       "                }\n",
       "            }, 500);\n",
       "            "
      ],
      "text/plain": [
       "<IPython.core.display.Javascript object>"
      ]
     },
     "metadata": {},
     "output_type": "display_data"
    }
   ],
   "source": [
    "univariate_cat_plot(df, \"NumberOfPersonVisiting\")"
   ]
  },
  {
   "cell_type": "markdown",
   "id": "638cabca",
   "metadata": {},
   "source": [
    "2 to 4 persons are going with Customers"
   ]
  },
  {
   "cell_type": "code",
   "execution_count": 34,
   "id": "ca574776",
   "metadata": {},
   "outputs": [
    {
     "data": {
      "image/png": "[encoded data removed]",
      "text/plain": [
       "<Figure size 1080x360 with 1 Axes>"
      ]
     },
     "metadata": {},
     "output_type": "display_data"
    },
    {
     "data": {
      "application/javascript": [
       "\n",
       "            setTimeout(function() {\n",
       "                var nbb_cell_id = 34;\n",
       "                var nbb_unformatted_code = \"univariate_cat_plot(df, \\\"NumberOfFollowups\\\")\";\n",
       "                var nbb_formatted_code = \"univariate_cat_plot(df, \\\"NumberOfFollowups\\\")\";\n",
       "                var nbb_cells = Jupyter.notebook.get_cells();\n",
       "                for (var i = 0; i < nbb_cells.length; ++i) {\n",
       "                    if (nbb_cells[i].input_prompt_number == nbb_cell_id) {\n",
       "                        if (nbb_cells[i].get_text() == nbb_unformatted_code) {\n",
       "                             nbb_cells[i].set_text(nbb_formatted_code);\n",
       "                        }\n",
       "                        break;\n",
       "                    }\n",
       "                }\n",
       "            }, 500);\n",
       "            "
      ],
      "text/plain": [
       "<IPython.core.display.Javascript object>"
      ]
     },
     "metadata": {},
     "output_type": "display_data"
    }
   ],
   "source": [
    "univariate_cat_plot(df, \"NumberOfFollowups\")"
   ]
  },
  {
   "cell_type": "markdown",
   "id": "23cef3b5",
   "metadata": {},
   "source": [
    "Mostly 3 to 5 times follow ups with customers."
   ]
  },
  {
   "cell_type": "code",
   "execution_count": 35,
   "id": "f7f98eef",
   "metadata": {},
   "outputs": [
    {
     "data": {
      "image/png": "[encoded data removed]",
      "text/plain": [
       "<Figure size 1080x360 with 1 Axes>"
      ]
     },
     "metadata": {},
     "output_type": "display_data"
    },
    {
     "data": {
      "application/javascript": [
       "\n",
       "            setTimeout(function() {\n",
       "                var nbb_cell_id = 35;\n",
       "                var nbb_unformatted_code = \"univariate_cat_plot(df, \\\"ProductPitched\\\")\";\n",
       "                var nbb_formatted_code = \"univariate_cat_plot(df, \\\"ProductPitched\\\")\";\n",
       "                var nbb_cells = Jupyter.notebook.get_cells();\n",
       "                for (var i = 0; i < nbb_cells.length; ++i) {\n",
       "                    if (nbb_cells[i].input_prompt_number == nbb_cell_id) {\n",
       "                        if (nbb_cells[i].get_text() == nbb_unformatted_code) {\n",
       "                             nbb_cells[i].set_text(nbb_formatted_code);\n",
       "                        }\n",
       "                        break;\n",
       "                    }\n",
       "                }\n",
       "            }, 500);\n",
       "            "
      ],
      "text/plain": [
       "<IPython.core.display.Javascript object>"
      ]
     },
     "metadata": {},
     "output_type": "display_data"
    }
   ],
   "source": [
    "univariate_cat_plot(df, \"ProductPitched\")"
   ]
  },
  {
   "cell_type": "markdown",
   "id": "f30e84b1",
   "metadata": {},
   "source": [
    "Mostly Basic, Deluxe and Standard are Product pitched by the salesperson"
   ]
  },
  {
   "cell_type": "code",
   "execution_count": 36,
   "id": "4e11a5c2",
   "metadata": {},
   "outputs": [
    {
     "data": {
      "image/png": "[encoded data removed]",
      "text/plain": [
       "<Figure size 1080x360 with 1 Axes>"
      ]
     },
     "metadata": {},
     "output_type": "display_data"
    },
    {
     "data": {
      "application/javascript": [
       "\n",
       "            setTimeout(function() {\n",
       "                var nbb_cell_id = 36;\n",
       "                var nbb_unformatted_code = \"univariate_cat_plot(df, \\\"PreferredPropertyStar\\\")\";\n",
       "                var nbb_formatted_code = \"univariate_cat_plot(df, \\\"PreferredPropertyStar\\\")\";\n",
       "                var nbb_cells = Jupyter.notebook.get_cells();\n",
       "                for (var i = 0; i < nbb_cells.length; ++i) {\n",
       "                    if (nbb_cells[i].input_prompt_number == nbb_cell_id) {\n",
       "                        if (nbb_cells[i].get_text() == nbb_unformatted_code) {\n",
       "                             nbb_cells[i].set_text(nbb_formatted_code);\n",
       "                        }\n",
       "                        break;\n",
       "                    }\n",
       "                }\n",
       "            }, 500);\n",
       "            "
      ],
      "text/plain": [
       "<IPython.core.display.Javascript object>"
      ]
     },
     "metadata": {},
     "output_type": "display_data"
    }
   ],
   "source": [
    "univariate_cat_plot(df, \"PreferredPropertyStar\")"
   ]
  },
  {
   "cell_type": "markdown",
   "id": "6de97421",
   "metadata": {},
   "source": [
    "More customer preferred 3 star hotel"
   ]
  },
  {
   "cell_type": "code",
   "execution_count": 37,
   "id": "364f0018",
   "metadata": {},
   "outputs": [
    {
     "data": {
      "image/png": "[encoded data removed]",
      "text/plain": [
       "<Figure size 1080x360 with 1 Axes>"
      ]
     },
     "metadata": {},
     "output_type": "display_data"
    },
    {
     "data": {
      "application/javascript": [
       "\n",
       "            setTimeout(function() {\n",
       "                var nbb_cell_id = 37;\n",
       "                var nbb_unformatted_code = \"univariate_cat_plot(df, \\\"MaritalStatus\\\")\";\n",
       "                var nbb_formatted_code = \"univariate_cat_plot(df, \\\"MaritalStatus\\\")\";\n",
       "                var nbb_cells = Jupyter.notebook.get_cells();\n",
       "                for (var i = 0; i < nbb_cells.length; ++i) {\n",
       "                    if (nbb_cells[i].input_prompt_number == nbb_cell_id) {\n",
       "                        if (nbb_cells[i].get_text() == nbb_unformatted_code) {\n",
       "                             nbb_cells[i].set_text(nbb_formatted_code);\n",
       "                        }\n",
       "                        break;\n",
       "                    }\n",
       "                }\n",
       "            }, 500);\n",
       "            "
      ],
      "text/plain": [
       "<IPython.core.display.Javascript object>"
      ]
     },
     "metadata": {},
     "output_type": "display_data"
    }
   ],
   "source": [
    "univariate_cat_plot(df, \"MaritalStatus\")"
   ]
  },
  {
   "cell_type": "markdown",
   "id": "3626b8d4",
   "metadata": {},
   "source": [
    "Married customers are more than others."
   ]
  },
  {
   "cell_type": "code",
   "execution_count": 38,
   "id": "b8e5678c",
   "metadata": {},
   "outputs": [
    {
     "data": {
      "image/png": "[encoded data removed]",
      "text/plain": [
       "<Figure size 1080x360 with 1 Axes>"
      ]
     },
     "metadata": {},
     "output_type": "display_data"
    },
    {
     "data": {
      "application/javascript": [
       "\n",
       "            setTimeout(function() {\n",
       "                var nbb_cell_id = 38;\n",
       "                var nbb_unformatted_code = \"univariate_cat_plot(df, \\\"Passport\\\")\";\n",
       "                var nbb_formatted_code = \"univariate_cat_plot(df, \\\"Passport\\\")\";\n",
       "                var nbb_cells = Jupyter.notebook.get_cells();\n",
       "                for (var i = 0; i < nbb_cells.length; ++i) {\n",
       "                    if (nbb_cells[i].input_prompt_number == nbb_cell_id) {\n",
       "                        if (nbb_cells[i].get_text() == nbb_unformatted_code) {\n",
       "                             nbb_cells[i].set_text(nbb_formatted_code);\n",
       "                        }\n",
       "                        break;\n",
       "                    }\n",
       "                }\n",
       "            }, 500);\n",
       "            "
      ],
      "text/plain": [
       "<IPython.core.display.Javascript object>"
      ]
     },
     "metadata": {},
     "output_type": "display_data"
    }
   ],
   "source": [
    "univariate_cat_plot(df, \"Passport\")"
   ]
  },
  {
   "cell_type": "markdown",
   "id": "537995c8",
   "metadata": {},
   "source": [
    "71% customers has no Passport"
   ]
  },
  {
   "cell_type": "code",
   "execution_count": 39,
   "id": "4474c1df",
   "metadata": {},
   "outputs": [
    {
     "data": {
      "image/png": "[encoded data removed]",
      "text/plain": [
       "<Figure size 1080x360 with 1 Axes>"
      ]
     },
     "metadata": {},
     "output_type": "display_data"
    },
    {
     "data": {
      "application/javascript": [
       "\n",
       "            setTimeout(function() {\n",
       "                var nbb_cell_id = 39;\n",
       "                var nbb_unformatted_code = \"univariate_cat_plot(df, \\\"PitchSatisfactionScore\\\")\";\n",
       "                var nbb_formatted_code = \"univariate_cat_plot(df, \\\"PitchSatisfactionScore\\\")\";\n",
       "                var nbb_cells = Jupyter.notebook.get_cells();\n",
       "                for (var i = 0; i < nbb_cells.length; ++i) {\n",
       "                    if (nbb_cells[i].input_prompt_number == nbb_cell_id) {\n",
       "                        if (nbb_cells[i].get_text() == nbb_unformatted_code) {\n",
       "                             nbb_cells[i].set_text(nbb_formatted_code);\n",
       "                        }\n",
       "                        break;\n",
       "                    }\n",
       "                }\n",
       "            }, 500);\n",
       "            "
      ],
      "text/plain": [
       "<IPython.core.display.Javascript object>"
      ]
     },
     "metadata": {},
     "output_type": "display_data"
    }
   ],
   "source": [
    "univariate_cat_plot(df, \"PitchSatisfactionScore\")"
   ]
  },
  {
   "cell_type": "markdown",
   "id": "4be48295",
   "metadata": {},
   "source": [
    "Sales pitch satifaction was average."
   ]
  },
  {
   "cell_type": "code",
   "execution_count": 40,
   "id": "0940f615",
   "metadata": {},
   "outputs": [
    {
     "data": {
      "image/png": "[encoded data removed]",
      "text/plain": [
       "<Figure size 1080x360 with 1 Axes>"
      ]
     },
     "metadata": {},
     "output_type": "display_data"
    },
    {
     "data": {
      "application/javascript": [
       "\n",
       "            setTimeout(function() {\n",
       "                var nbb_cell_id = 40;\n",
       "                var nbb_unformatted_code = \"univariate_cat_plot(df, \\\"OwnCar\\\")\";\n",
       "                var nbb_formatted_code = \"univariate_cat_plot(df, \\\"OwnCar\\\")\";\n",
       "                var nbb_cells = Jupyter.notebook.get_cells();\n",
       "                for (var i = 0; i < nbb_cells.length; ++i) {\n",
       "                    if (nbb_cells[i].input_prompt_number == nbb_cell_id) {\n",
       "                        if (nbb_cells[i].get_text() == nbb_unformatted_code) {\n",
       "                             nbb_cells[i].set_text(nbb_formatted_code);\n",
       "                        }\n",
       "                        break;\n",
       "                    }\n",
       "                }\n",
       "            }, 500);\n",
       "            "
      ],
      "text/plain": [
       "<IPython.core.display.Javascript object>"
      ]
     },
     "metadata": {},
     "output_type": "display_data"
    }
   ],
   "source": [
    "univariate_cat_plot(df, \"OwnCar\")"
   ]
  },
  {
   "cell_type": "markdown",
   "id": "a697c82e",
   "metadata": {},
   "source": [
    "62% customers has car."
   ]
  },
  {
   "cell_type": "code",
   "execution_count": 41,
   "id": "0d7ec648",
   "metadata": {},
   "outputs": [
    {
     "data": {
      "image/png": "[encoded data removed]",
      "text/plain": [
       "<Figure size 1080x360 with 1 Axes>"
      ]
     },
     "metadata": {},
     "output_type": "display_data"
    },
    {
     "data": {
      "application/javascript": [
       "\n",
       "            setTimeout(function() {\n",
       "                var nbb_cell_id = 41;\n",
       "                var nbb_unformatted_code = \"univariate_cat_plot(df, \\\"NumberOfChildrenVisiting\\\")\";\n",
       "                var nbb_formatted_code = \"univariate_cat_plot(df, \\\"NumberOfChildrenVisiting\\\")\";\n",
       "                var nbb_cells = Jupyter.notebook.get_cells();\n",
       "                for (var i = 0; i < nbb_cells.length; ++i) {\n",
       "                    if (nbb_cells[i].input_prompt_number == nbb_cell_id) {\n",
       "                        if (nbb_cells[i].get_text() == nbb_unformatted_code) {\n",
       "                             nbb_cells[i].set_text(nbb_formatted_code);\n",
       "                        }\n",
       "                        break;\n",
       "                    }\n",
       "                }\n",
       "            }, 500);\n",
       "            "
      ],
      "text/plain": [
       "<IPython.core.display.Javascript object>"
      ]
     },
     "metadata": {},
     "output_type": "display_data"
    }
   ],
   "source": [
    "univariate_cat_plot(df, \"NumberOfChildrenVisiting\")"
   ]
  },
  {
   "cell_type": "markdown",
   "id": "4b528c9b",
   "metadata": {},
   "source": [
    "Mostly 1 child visiting with customer."
   ]
  },
  {
   "cell_type": "code",
   "execution_count": 42,
   "id": "b78c8608",
   "metadata": {},
   "outputs": [
    {
     "data": {
      "image/png": "[encoded data removed]",
      "text/plain": [
       "<Figure size 1080x360 with 1 Axes>"
      ]
     },
     "metadata": {},
     "output_type": "display_data"
    },
    {
     "data": {
      "application/javascript": [
       "\n",
       "            setTimeout(function() {\n",
       "                var nbb_cell_id = 42;\n",
       "                var nbb_unformatted_code = \"univariate_cat_plot(df, \\\"Designation\\\")\";\n",
       "                var nbb_formatted_code = \"univariate_cat_plot(df, \\\"Designation\\\")\";\n",
       "                var nbb_cells = Jupyter.notebook.get_cells();\n",
       "                for (var i = 0; i < nbb_cells.length; ++i) {\n",
       "                    if (nbb_cells[i].input_prompt_number == nbb_cell_id) {\n",
       "                        if (nbb_cells[i].get_text() == nbb_unformatted_code) {\n",
       "                             nbb_cells[i].set_text(nbb_formatted_code);\n",
       "                        }\n",
       "                        break;\n",
       "                    }\n",
       "                }\n",
       "            }, 500);\n",
       "            "
      ],
      "text/plain": [
       "<IPython.core.display.Javascript object>"
      ]
     },
     "metadata": {},
     "output_type": "display_data"
    }
   ],
   "source": [
    "univariate_cat_plot(df, \"Designation\")"
   ]
  },
  {
   "cell_type": "markdown",
   "id": "95077fe8",
   "metadata": {},
   "source": [
    "Most customers are Executive or Manager."
   ]
  },
  {
   "cell_type": "markdown",
   "id": "e4e54594",
   "metadata": {},
   "source": [
    "### Bivariate Analysis"
   ]
  },
  {
   "cell_type": "code",
   "execution_count": null,
   "id": "d17fa7e4",
   "metadata": {},
   "outputs": [],
   "source": [
    "# using pairplot to understand the correlation of all the numerical columns.\n",
    "sns.set_theme(style=\"ticks\")\n",
    "sns.pairplot(data=df, hue=\"ProdTaken\")"
   ]
  },
  {
   "cell_type": "markdown",
   "id": "bcd13c55",
   "metadata": {},
   "source": [
    "### Heat map"
   ]
  },
  {
   "cell_type": "code",
   "execution_count": null,
   "id": "eb15206c",
   "metadata": {},
   "outputs": [],
   "source": [
    "plt.subplots(figsize=(10, 6))\n",
    "sns.heatmap(df.corr(), annot=True, linewidths=1, cmap=\"Spectral\")"
   ]
  },
  {
   "cell_type": "markdown",
   "id": "ac50ce2c",
   "metadata": {},
   "source": [
    "### Key observations of numerical variables\n",
    "\n",
    "* **NumberOfChildrenVisiting** and **NumberOfPersonVisiting** has little correlated.\n",
    "* Other has no correlation."
   ]
  },
  {
   "cell_type": "code",
   "execution_count": null,
   "id": "eccdee81",
   "metadata": {},
   "outputs": [],
   "source": [
    "### function to plot distributions wrt target\n",
    "\n",
    "\n",
    "def distribution_plot_wrt_target(data, predictor, target):\n",
    "\n",
    "    fig, axs = plt.subplots(2, 2, figsize=(12, 10))\n",
    "\n",
    "    target_uniq = data[target].unique()\n",
    "\n",
    "    axs[0, 0].set_title(\"Distribution of target for target=\" + str(target_uniq[0]))\n",
    "    sns.histplot(\n",
    "        data=data[data[target] == target_uniq[0]],\n",
    "        x=predictor,\n",
    "        kde=True,\n",
    "        ax=axs[0, 0],\n",
    "        color=\"teal\",\n",
    "        stat=\"density\",\n",
    "    )\n",
    "\n",
    "    axs[0, 1].set_title(\"Distribution of target for target=\" + str(target_uniq[1]))\n",
    "    sns.histplot(\n",
    "        data=data[data[target] == target_uniq[1]],\n",
    "        x=predictor,\n",
    "        kde=True,\n",
    "        ax=axs[0, 1],\n",
    "        color=\"orange\",\n",
    "        stat=\"density\",\n",
    "    )\n",
    "\n",
    "    axs[1, 0].set_title(\"Boxplot w.r.t target\")\n",
    "    sns.boxplot(data=data, x=target, y=predictor, ax=axs[1, 0], palette=\"gist_rainbow\")\n",
    "\n",
    "    axs[1, 1].set_title(\"Boxplot (without outliers) w.r.t target\")\n",
    "    sns.boxplot(\n",
    "        data=data,\n",
    "        x=target,\n",
    "        y=predictor,\n",
    "        ax=axs[1, 1],\n",
    "        showfliers=False,\n",
    "        palette=\"gist_rainbow\",\n",
    "    )\n",
    "\n",
    "    plt.tight_layout()\n",
    "    plt.show()"
   ]
  },
  {
   "cell_type": "code",
   "execution_count": null,
   "id": "74a69ab0",
   "metadata": {},
   "outputs": [],
   "source": [
    "def stacked_barplot(data, predictor, target):\n",
    "    \"\"\"\n",
    "    Print the category counts and plot a stacked bar chart\n",
    "\n",
    "    data: dataframe\n",
    "    predictor: independent variable\n",
    "    target: target variable\n",
    "    \"\"\"\n",
    "    count = data[predictor].nunique()\n",
    "    sorter = data[target].value_counts().index[-1]\n",
    "    tab1 = pd.crosstab(data[predictor], data[target], margins=True).sort_values(\n",
    "        by=sorter, ascending=False\n",
    "    )\n",
    "    print(tab1)\n",
    "    print(\"-\" * 120)\n",
    "    tab = pd.crosstab(data[predictor], data[target], normalize=\"index\").sort_values(\n",
    "        by=sorter, ascending=False\n",
    "    )\n",
    "    tab.plot(kind=\"bar\", stacked=True, figsize=(count + 5, 5))\n",
    "    plt.legend(\n",
    "        loc=\"lower left\", frameon=False,\n",
    "    )\n",
    "    plt.legend(loc=\"upper left\", bbox_to_anchor=(1, 1))\n",
    "    plt.show()"
   ]
  },
  {
   "cell_type": "code",
   "execution_count": null,
   "id": "54005f7c",
   "metadata": {},
   "outputs": [],
   "source": [
    "distribution_plot_wrt_target(df, \"Age\", \"ProdTaken\")"
   ]
  },
  {
   "cell_type": "code",
   "execution_count": null,
   "id": "1cc76af4",
   "metadata": {},
   "outputs": [],
   "source": [
    "stacked_barplot(df, \"TypeofContact\", \"ProdTaken\")"
   ]
  },
  {
   "cell_type": "code",
   "execution_count": null,
   "id": "4f0193c8",
   "metadata": {},
   "outputs": [],
   "source": [
    "stacked_barplot(df, \"CityTier\", \"ProdTaken\")"
   ]
  },
  {
   "cell_type": "code",
   "execution_count": null,
   "id": "21d95a43",
   "metadata": {},
   "outputs": [],
   "source": [
    "distribution_plot_wrt_target(df, \"DurationOfPitch\", \"ProdTaken\")"
   ]
  },
  {
   "cell_type": "code",
   "execution_count": null,
   "id": "094bc08f",
   "metadata": {},
   "outputs": [],
   "source": [
    "stacked_barplot(df, \"Occupation\", \"ProdTaken\")"
   ]
  },
  {
   "cell_type": "code",
   "execution_count": null,
   "id": "acad0eae",
   "metadata": {},
   "outputs": [],
   "source": [
    "stacked_barplot(df, \"Gender\", \"ProdTaken\")"
   ]
  },
  {
   "cell_type": "code",
   "execution_count": null,
   "id": "b64ef1a9",
   "metadata": {},
   "outputs": [],
   "source": [
    "stacked_barplot(df, \"NumberOfPersonVisiting\", \"ProdTaken\")"
   ]
  },
  {
   "cell_type": "code",
   "execution_count": null,
   "id": "7d9490f6",
   "metadata": {},
   "outputs": [],
   "source": [
    "stacked_barplot(df, \"NumberOfFollowups\", \"ProdTaken\")"
   ]
  },
  {
   "cell_type": "code",
   "execution_count": null,
   "id": "d5f0f59b",
   "metadata": {},
   "outputs": [],
   "source": [
    "stacked_barplot(df, \"ProductPitched\", \"ProdTaken\")"
   ]
  },
  {
   "cell_type": "code",
   "execution_count": null,
   "id": "458c9389",
   "metadata": {},
   "outputs": [],
   "source": [
    "stacked_barplot(df, \"PreferredPropertyStar\", \"ProdTaken\")"
   ]
  },
  {
   "cell_type": "code",
   "execution_count": null,
   "id": "9a4c3e1b",
   "metadata": {},
   "outputs": [],
   "source": [
    "stacked_barplot(df, \"MaritalStatus\", \"ProdTaken\")"
   ]
  },
  {
   "cell_type": "code",
   "execution_count": null,
   "id": "caa9d02a",
   "metadata": {},
   "outputs": [],
   "source": [
    "distribution_plot_wrt_target(df, \"NumberOfTrips\", \"ProdTaken\")"
   ]
  },
  {
   "cell_type": "code",
   "execution_count": null,
   "id": "b68e0ba0",
   "metadata": {},
   "outputs": [],
   "source": [
    "stacked_barplot(df, \"Passport\", \"ProdTaken\")"
   ]
  },
  {
   "cell_type": "code",
   "execution_count": null,
   "id": "a303824c",
   "metadata": {},
   "outputs": [],
   "source": [
    "stacked_barplot(df, \"PitchSatisfactionScore\", \"ProdTaken\")"
   ]
  },
  {
   "cell_type": "code",
   "execution_count": null,
   "id": "44c569a9",
   "metadata": {},
   "outputs": [],
   "source": [
    "stacked_barplot(df, \"OwnCar\", \"ProdTaken\")"
   ]
  },
  {
   "cell_type": "code",
   "execution_count": null,
   "id": "21b8a185",
   "metadata": {},
   "outputs": [],
   "source": [
    "stacked_barplot(df, \"NumberOfChildrenVisiting\", \"ProdTaken\")"
   ]
  },
  {
   "cell_type": "code",
   "execution_count": null,
   "id": "768c1977",
   "metadata": {},
   "outputs": [],
   "source": [
    "stacked_barplot(df, \"Designation\", \"ProdTaken\")"
   ]
  },
  {
   "cell_type": "code",
   "execution_count": null,
   "id": "f08d50d5",
   "metadata": {},
   "outputs": [],
   "source": [
    "distribution_plot_wrt_target(df, \"MonthlyIncome\", \"ProdTaken\")"
   ]
  },
  {
   "cell_type": "markdown",
   "id": "b46bc991",
   "metadata": {},
   "source": [
    "### <a id='link1'>Summary of EDA</a>\n",
    "**Data Description:**\n",
    "\n",
    "- There are no duplicate values in the dataset.\n",
    "- There are no missing values in the data.\n",
    "- Most of the data-types are either **int64** or **float64**.\n",
    "\n",
    "\n",
    "**Observations from EDA:**\n",
    "\n",
    "0   Age                 5000 non-null   int64   ======> this HELPS IN DETERMING THE  age limits so we can assess our programs\n",
    "\n",
    "1   Experience          5000 non-null   int64   ======>   this looks very similar to age and we can eventually leave it\n",
    "\n",
    "2   Income              5000 non-null   int64   =======> income helps in determining the spending of family, our key factor\n",
    "\n",
    "3   ZIP Code             5000 non-null   int64   =======>  This gives the family living surrounding so we can explore more\n",
    "\n",
    "4   Family              5000 non-null   int64  ========>  size of family helps understand the outliers as well and spending\n",
    "\n",
    "5   Crag               5000 non-null   float64 ========> this has to be average rating to help determine analysis for credit\n",
    "\n",
    "6   Education           5000 non-null   int64    =======> typically education gives more choose to find better income\n",
    "\n",
    "7   Mortgage            5000 non-null   int64    =======>  this helps to ensure if further loans are needed or not\n",
    "\n",
    "8   Personal Loan       5000 non-null   int64   =========>   this helps in assessing if we can give one more loan\n",
    "\n",
    "9   Securities Account  5000 non-null   int64   ==========>  this helps in assessment of loan\n",
    "\n",
    "10  CD Account          5000 non-null   int64   ==========>   helps determine current liquidity with customer\n",
    "\n",
    "11  Online              5000 non-null   int64   ==========>  helps target customer on multiple platforms\n",
    "\n",
    "12  Credit Card          5000 non-null   int64  ===========>  helps get assesment if customer is credit worrthy"
   ]
  },
  {
   "cell_type": "markdown",
   "id": "5cfe81f8",
   "metadata": {},
   "source": [
    "### Data Pre-Processing"
   ]
  },
  {
   "cell_type": "code",
   "execution_count": null,
   "id": "0bbaf0a8",
   "metadata": {},
   "outputs": [],
   "source": [
    "df_pre = df.copy()  # copy data for preprocessing"
   ]
  },
  {
   "cell_type": "markdown",
   "id": "f243a0a6",
   "metadata": {},
   "source": [
    "### Define dependent and independent variables"
   ]
  },
  {
   "cell_type": "code",
   "execution_count": null,
   "id": "44bf7c02",
   "metadata": {},
   "outputs": [],
   "source": [
    "ind_vars = df_pre.drop([\"ProdTaken\"], axis=1)\n",
    "dep_var = df_pre[\"ProdTaken\"]\n",
    "\n",
    "# encode dep_var class values as integers\n",
    "label_encoder = LabelEncoder()\n",
    "label_encoder = label_encoder.fit(dep_var)\n",
    "label_encoded_y = label_encoder.transform(dep_var)"
   ]
  },
  {
   "cell_type": "markdown",
   "id": "2d47338d",
   "metadata": {},
   "source": [
    "#### Adding dummy variables for category columns and Creating training and test data sets"
   ]
  },
  {
   "cell_type": "code",
   "execution_count": null,
   "id": "4d708a71",
   "metadata": {},
   "outputs": [],
   "source": [
    "oneHotCols = [\n",
    "    \"TypeofContact\",\n",
    "    \"Occupation\",\n",
    "    \"Gender\",\n",
    "    \"ProductPitched\",\n",
    "    \"MaritalStatus\",\n",
    "    \"Designation\",\n",
    "]\n",
    "ind_vars = pd.get_dummies(data=ind_vars, columns=oneHotCols, drop_first=True)\n",
    "\n",
    "# Splitting data in train and test sets\n",
    "X_train, X_test, y_train, y_test = train_test_split(\n",
    "    ind_vars, dep_var, test_size=0.30, random_state=1, stratify=dep_var\n",
    ")\n",
    "print(X_train.shape, X_test.shape)"
   ]
  },
  {
   "cell_type": "code",
   "execution_count": null,
   "id": "1bf1ccda",
   "metadata": {},
   "outputs": [],
   "source": [
    "ind_vars.info()"
   ]
  },
  {
   "cell_type": "code",
   "execution_count": null,
   "id": "68e108cd",
   "metadata": {},
   "outputs": [],
   "source": [
    "ind_vars.sample(n=10)"
   ]
  },
  {
   "cell_type": "code",
   "execution_count": null,
   "id": "6a01d5ef",
   "metadata": {},
   "outputs": [],
   "source": [
    "print(\"Shape of Training set : \", X_train.shape)\n",
    "print(\"Shape of test set : \", X_test.shape)\n",
    "print(\"Percentage of classes in training set:\")\n",
    "print(y_train.value_counts(normalize=True))\n",
    "print(\"Percentage of classes in test set:\")\n",
    "print(y_test.value_counts(normalize=True))"
   ]
  },
  {
   "cell_type": "markdown",
   "id": "27ea328f",
   "metadata": {},
   "source": [
    "## Building the model"
   ]
  },
  {
   "cell_type": "code",
   "execution_count": null,
   "id": "064a2597",
   "metadata": {},
   "outputs": [],
   "source": [
    "# defining a function to compute different metrics to check performance of a classification model built using sklearn\n",
    "def model_performance_classification_sklearn(model, predictors, target):\n",
    "    \"\"\"\n",
    "    Function to compute different metrics to check classification model performance\n",
    "\n",
    "    model: classifier\n",
    "    predictors: independent variables\n",
    "    target: dependent variable\n",
    "    \"\"\"\n",
    "\n",
    "    # predicting using the independent variables\n",
    "    pred = model.predict(predictors)\n",
    "\n",
    "    acc = accuracy_score(target, pred)  # to compute Accuracy\n",
    "    recall = recall_score(target, pred)  # to compute Recall\n",
    "    precision = precision_score(target, pred)  # to compute Precision\n",
    "    f1 = f1_score(target, pred)  # to compute F1-score\n",
    "\n",
    "    # creating a dataframe of metrics\n",
    "    df_perf = pd.DataFrame(\n",
    "        {\"Accuracy\": acc, \"Recall\": recall, \"Precision\": precision, \"F1\": f1,},\n",
    "        index=[0],\n",
    "    )\n",
    "\n",
    "    return df_perf"
   ]
  },
  {
   "cell_type": "code",
   "execution_count": null,
   "id": "d2bfa052",
   "metadata": {},
   "outputs": [],
   "source": [
    "def confusion_matrix_sklearn(model, predictors, target):\n",
    "    \"\"\"\n",
    "    To plot the confusion_matrix with percentages\n",
    "\n",
    "    model: classifier\n",
    "    predictors: independent variables\n",
    "    target: dependent variable\n",
    "    \"\"\"\n",
    "    y_pred = model.predict(predictors)\n",
    "    cm = confusion_matrix(target, y_pred)\n",
    "    labels = np.asarray(\n",
    "        [\n",
    "            [\"{0:0.0f}\".format(item) + \"\\n{0:.2%}\".format(item / cm.flatten().sum())]\n",
    "            for item in cm.flatten()\n",
    "        ]\n",
    "    ).reshape(2, 2)\n",
    "\n",
    "    plt.figure(figsize=(6, 4))\n",
    "    sns.heatmap(cm, annot=labels, fmt=\"\")\n",
    "    plt.ylabel(\"True label\")\n",
    "    plt.xlabel(\"Predicted label\")"
   ]
  },
  {
   "cell_type": "markdown",
   "id": "e46f55a0",
   "metadata": {},
   "source": [
    "### Building the model for Bagging, Random Forest and Decision Tree\n",
    "- We are going to build 3 ensemble models here - Bagging Classifier, Random Forest Classifier and Decision Tree Classifier.\n",
    "- First, let's build these models with default parameters and then use hyperparameter tuning to optimize the model performance.\n",
    "- We will calculate all three metrics - Accuracy, Precision and Recall but the metric of interest here is recall.\n",
    "- `Recall` - It gives the ratio of True positives to Actual positives, so high Recall implies low false negatives, i.e. low chances of predicting a defaulter as non defaulter"
   ]
  },
  {
   "cell_type": "markdown",
   "id": "473e424e",
   "metadata": {},
   "source": [
    "### Bagging Classifier"
   ]
  },
  {
   "cell_type": "code",
   "execution_count": null,
   "id": "c15610a2",
   "metadata": {},
   "outputs": [],
   "source": [
    "# Fitting the model\n",
    "bagging_classifier = BaggingClassifier(random_state=1)\n",
    "bagging_classifier.fit(X_train, y_train)\n",
    "\n",
    "# Calculating different metrics\n",
    "bagging_classifier_model_train_perf = model_performance_classification_sklearn(\n",
    "    bagging_classifier, X_train, y_train\n",
    ")\n",
    "print(\"Training performance:\\n\", bagging_classifier_model_train_perf)\n",
    "bagging_classifier_model_test_perf = model_performance_classification_sklearn(\n",
    "    bagging_classifier, X_test, y_test\n",
    ")\n",
    "print(\"Testing performance:\\n\", bagging_classifier_model_test_perf)\n",
    "# Creating confusion matrix\n",
    "confusion_matrix_sklearn(bagging_classifier, X_test, y_test)"
   ]
  },
  {
   "cell_type": "markdown",
   "id": "41378ed0",
   "metadata": {},
   "source": [
    "### Random Forest Classifier"
   ]
  },
  {
   "cell_type": "code",
   "execution_count": null,
   "id": "93204a3b",
   "metadata": {},
   "outputs": [],
   "source": [
    "# Fitting the model\n",
    "rf_estimator = RandomForestClassifier(random_state=1)\n",
    "rf_estimator.fit(X_train, y_train)\n",
    "\n",
    "# Calculating different metrics\n",
    "rf_estimator_model_train_perf = model_performance_classification_sklearn(\n",
    "    rf_estimator, X_train, y_train\n",
    ")\n",
    "print(\"Training performance:\\n\", rf_estimator_model_train_perf)\n",
    "rf_estimator_model_test_perf = model_performance_classification_sklearn(\n",
    "    rf_estimator, X_test, y_test\n",
    ")\n",
    "print(\"Testing performance:\\n\", rf_estimator_model_test_perf)\n",
    "\n",
    "# Creating confusion matrix\n",
    "confusion_matrix_sklearn(rf_estimator, X_test, y_test)"
   ]
  },
  {
   "cell_type": "markdown",
   "id": "3de7f603",
   "metadata": {},
   "source": [
    "### Decision Tree Classifier"
   ]
  },
  {
   "cell_type": "code",
   "execution_count": null,
   "id": "b4afb97e",
   "metadata": {},
   "outputs": [],
   "source": [
    "# Fitting the model\n",
    "d_tree = DecisionTreeClassifier(random_state=1)\n",
    "d_tree.fit(X_train, y_train)\n",
    "\n",
    "# Calculating different metrics\n",
    "dtree_model_train_perf = model_performance_classification_sklearn(\n",
    "    d_tree, X_train, y_train\n",
    ")\n",
    "print(\"Training performance:\\n\", dtree_model_train_perf)\n",
    "dtree_model_test_perf = model_performance_classification_sklearn(d_tree, X_test, y_test)\n",
    "print(\"Testing performance:\\n\", dtree_model_test_perf)\n",
    "# Creating confusion matrix\n",
    "confusion_matrix_sklearn(d_tree, X_test, y_test)"
   ]
  },
  {
   "cell_type": "markdown",
   "id": "555a1477",
   "metadata": {},
   "source": [
    "### Hyperparameter Tuning\n",
    "\n",
    "### Bagging Classifier"
   ]
  },
  {
   "cell_type": "markdown",
   "id": "eb5105f6",
   "metadata": {},
   "source": [
    "**Some of the important hyperparameters available for bagging classifier are:**\n",
    "\n",
    "- base_estimator: The base estimator to fit on random subsets of the dataset. If None(default), then the base estimator is a decision tree.\n",
    "- n_estimators: The number of trees in the forest, default = 100.\n",
    "- max_features: The number of features to consider when looking for the best split. \n",
    "- bootstrap: Whether bootstrap samples are used when building trees. If False, the entire dataset is used to build each tree, default=True.\n",
    "- bootstrap_features: If it is true, then features are drawn with replacement. Default value is False.\n",
    "- max_samples: If bootstrap is True, then the number of samples to draw from X to train each base estimator. If None (default), then draw N samples, where N is the number of observations in the train data.\n",
    "- oob_score: Whether to use out-of-bag samples to estimate the generalization accuracy, default=False."
   ]
  },
  {
   "cell_type": "code",
   "execution_count": null,
   "id": "8e4d4f09",
   "metadata": {},
   "outputs": [],
   "source": [
    "# Choose the type of classifier.\n",
    "bagging_estimator_tuned = BaggingClassifier(random_state=1)\n",
    "\n",
    "# Grid of parameters to choose from\n",
    "## add from article\n",
    "parameters = {\n",
    "    \"max_samples\": [0.7, 0.8, 0.9, 1],\n",
    "    \"max_features\": [0.7, 0.8, 0.9, 1],\n",
    "    \"n_estimators\": [10, 20, 30, 40, 50],\n",
    "}\n",
    "\n",
    "# Type of scoring used to compare parameter combinations\n",
    "acc_scorer = metrics.make_scorer(metrics.recall_score)\n",
    "\n",
    "# Run the grid search\n",
    "grid_obj = GridSearchCV(bagging_estimator_tuned, parameters, scoring=acc_scorer, cv=5)\n",
    "grid_obj = grid_obj.fit(X_train, y_train)\n",
    "\n",
    "# Set the clf to the best combination of parameters\n",
    "bagging_estimator_tuned = grid_obj.best_estimator_\n",
    "\n",
    "# Fit the best algorithm to the data.\n",
    "bagging_estimator_tuned.fit(X_train, y_train)\n",
    "\n",
    "# Calculating different metrics\n",
    "bagging_estimator_tuned_model_train_perf = model_performance_classification_sklearn(\n",
    "    bagging_estimator_tuned, X_train, y_train\n",
    ")\n",
    "print(\"Training performance:\\n\", dtree_model_train_perf)\n",
    "bagging_estimator_tuned_model_test_perf = model_performance_classification_sklearn(\n",
    "    bagging_estimator_tuned, X_test, y_test\n",
    ")\n",
    "print(\"Testing performance:\\n\", bagging_estimator_tuned_model_test_perf)\n",
    "# Creating confusion matrix\n",
    "confusion_matrix_sklearn(bagging_estimator_tuned, X_test, y_test)"
   ]
  },
  {
   "cell_type": "markdown",
   "id": "5f803942",
   "metadata": {},
   "source": [
    "#### Insights\n",
    "- We can see that random forest's performance has increased as compared to the random forest model with default parameters.\n",
    "- Model is slightly overfitting the data but not as much as the tuned bagging classifier.\n",
    "- The test recall is still very low. This means that the model is not good at identifying defaulters which is our primary aim here."
   ]
  },
  {
   "cell_type": "code",
   "execution_count": null,
   "id": "bd240928",
   "metadata": {},
   "outputs": [],
   "source": [
    "importances = bagging_estimator_tuned.feature_importances_\n",
    "indices = np.argsort(importances)\n",
    "feature_names = list(ind_vars.columns)\n",
    "\n",
    "plt.figure(figsize=(12, 12))\n",
    "plt.title(\"Feature Importances\")\n",
    "plt.barh(range(len(indices)), importances[indices], color=\"violet\", align=\"center\")\n",
    "plt.yticks(range(len(indices)), [feature_names[i] for i in indices])\n",
    "plt.xlabel(\"Relative Importance\")\n",
    "plt.show()"
   ]
  },
  {
   "cell_type": "markdown",
   "id": "3b678847",
   "metadata": {},
   "source": [
    "### Random Forest Classifier\n",
    "**Now, let's see if we can get a better model by tuning the random forest classifier. Some of the important hyperparameters available for random forest classifier are:**\n",
    "\n",
    "- n_estimators: The number of trees in the forest, default = 100.\n",
    "- max_features: The number of features to consider when looking for the best split. \n",
    "- class_weight: Weights associated with classes in the form {class_label: weight}.If not given, all classes are supposed to have weight one.  \n",
    "- For example: If the frequency of class 0 is 80% and the frequency of class 1 is 20% in the data, then class 0 will become the dominant class and the model will become biased toward the dominant classes. In this case, we can pass a dictionary {0:0.2,1:0.8} to the model to specify the weight of each class and the random forest will give more weightage to class 1. \n",
    "- bootstrap: Whether bootstrap samples are used when building trees. If False, the entire dataset is used to build each tree, default=True.\n",
    "- max_samples: If bootstrap is True, then the number of samples to draw from X to train each base estimator. If None (default), then draw N samples, where N is the number of observations in the train data.\n",
    "- oob_score: Whether to use out-of-bag samples to estimate the generalization accuracy, default=False.\n",
    "\n",
    "- Note: A lot of hyperparameters of Decision Trees are also available to tune  Random Forest like max_depth, min_sample_split etc.\n"
   ]
  },
  {
   "cell_type": "code",
   "execution_count": null,
   "id": "b2dc11d3",
   "metadata": {},
   "outputs": [],
   "source": [
    "# Choose the type of classifier.\n",
    "rf_estimator_tuned = RandomForestClassifier(random_state=1)\n",
    "\n",
    "# Grid of parameters to choose from\n",
    "## add from article\n",
    "parameters = {\n",
    "    \"n_estimators\": [150, 200, 250],\n",
    "    \"min_samples_leaf\": np.arange(5, 10),\n",
    "    \"max_features\": np.arange(0.2, 0.7, 0.1),\n",
    "    \"max_samples\": np.arange(0.3, 0.7, 0.1),\n",
    "}\n",
    "\n",
    "# Type of scoring used to compare parameter combinations\n",
    "acc_scorer = metrics.make_scorer(metrics.recall_score)\n",
    "\n",
    "# Run the grid search\n",
    "grid_obj = GridSearchCV(rf_estimator_tuned, parameters, scoring=acc_scorer, cv=5)\n",
    "grid_obj = grid_obj.fit(X_train, y_train)\n",
    "\n",
    "# Set the clf to the best combination of parameters\n",
    "rf_estimator_tuned = grid_obj.best_estimator_\n",
    "\n",
    "# Fit the best algorithm to the data.\n",
    "rf_estimator_tuned.fit(X_train, y_train)\n",
    "\n",
    "# Calculating different metrics\n",
    "rf_estimator_tuned_model_train_perf = model_performance_classification_sklearn(\n",
    "    rf_estimator_tuned, X_train, y_train\n",
    ")\n",
    "print(\"Training performance:\\n\", rf_estimator_tuned_model_train_perf)\n",
    "rf_estimator_tuned_model_test_perf = model_performance_classification_sklearn(\n",
    "    rf_estimator_tuned, X_test, y_test\n",
    ")\n",
    "print(\"Testing performance:\\n\", rf_estimator_tuned_model_test_perf)\n",
    "\n",
    "# Creating confusion matrix\n",
    "confusion_matrix_sklearn(rf_estimator_tuned, X_test, y_test)"
   ]
  },
  {
   "cell_type": "markdown",
   "id": "00cad2c5",
   "metadata": {},
   "source": [
    "#### Insights\n",
    "- We can see that random forest's performance has increased as compared to the random forest model with default parameters.\n",
    "- Model is slightly overfitting the data but not as much as the tuned bagging classifier.\n",
    "- The test recall is still very low. This means that the model is not good at identifying defaulters which is our primary aim here."
   ]
  },
  {
   "cell_type": "markdown",
   "id": "ed8780a1",
   "metadata": {},
   "source": [
    "#### Let's try using class_weights for random forest:\n",
    "- The model performance is not very good. This may be due to the fact that the classes are imbalanced with 70% non-defaulters and 30% defaulters. \n",
    "\n",
    "- We should make the model aware that the class of interest here is 'defaulters'.\n",
    "\n",
    "- We can do so by passing the parameter `class_weights` available for random forest. This parameter is not available for the bagging classifier.\n",
    "\n",
    "- class_weight specifies the weights associated with classes in the form {class_label: weight}. If not given, all classes are supposed to have weight one.\n",
    "\n",
    "- We can choose class_weights={0:0.19,1:0.81} because that is the original imbalance in our data."
   ]
  },
  {
   "cell_type": "code",
   "execution_count": null,
   "id": "579d4b61",
   "metadata": {},
   "outputs": [],
   "source": [
    "# Choose the type of classifier.\n",
    "rf_estimator_weighted = RandomForestClassifier(random_state=1)\n",
    "\n",
    "# Grid of parameters to choose from\n",
    "## add from article\n",
    "parameters = {\n",
    "    \"class_weight\": [{0: 0.19, 1: 0.81}],\n",
    "    \"n_estimators\": [100, 150, 200, 250],\n",
    "    \"min_samples_leaf\": np.arange(5, 10),\n",
    "    \"max_features\": np.arange(0.2, 0.7, 0.1),\n",
    "    \"max_samples\": np.arange(0.3, 0.7, 0.1),\n",
    "}\n",
    "\n",
    "# Type of scoring used to compare parameter combinations\n",
    "acc_scorer = metrics.make_scorer(metrics.recall_score)\n",
    "\n",
    "# Run the grid search\n",
    "grid_obj = GridSearchCV(rf_estimator_weighted, parameters, scoring=acc_scorer, cv=5)\n",
    "grid_obj = grid_obj.fit(X_train, y_train)\n",
    "\n",
    "# Set the clf to the best combination of parameters\n",
    "rf_estimator_weighted = grid_obj.best_estimator_\n",
    "\n",
    "# Fit the best algorithm to the data.\n",
    "rf_estimator_weighted.fit(X_train, y_train)\n",
    "\n",
    "# Calculating different metrics\n",
    "rf_estimator_weighted_model_train_perf = model_performance_classification_sklearn(\n",
    "    rf_estimator_weighted, X_train, y_train\n",
    ")\n",
    "print(\"Training performance:\\n\", rf_estimator_weighted_model_train_perf)\n",
    "rf_estimator_weighted_model_test_perf = model_performance_classification_sklearn(\n",
    "    rf_estimator_weighted, X_test, y_test\n",
    ")\n",
    "print(\"Testing performance:\\n\", rf_estimator_weighted_model_test_perf)\n",
    "\n",
    "# Creating confusion matrix\n",
    "confusion_matrix_sklearn(rf_estimator_weighted, X_test, y_test)"
   ]
  },
  {
   "cell_type": "markdown",
   "id": "a6d7e2f3",
   "metadata": {},
   "source": [
    "### Insights\n",
    "- The model accuracy has decreased a bit but the overfitting has also been reduced and the model is generalizing well.\n",
    "- The train and test recall both have increased significantly.\n",
    "- We can see from the confusion matrix that the random forest model with class weights is now better at identifying the defaulters as compared to other models."
   ]
  },
  {
   "cell_type": "code",
   "execution_count": null,
   "id": "0f0d0770",
   "metadata": {},
   "outputs": [],
   "source": [
    "importances = rf_estimator_weighted.feature_importances_\n",
    "indices = np.argsort(importances)\n",
    "feature_names = list(ind_vars.columns)\n",
    "\n",
    "plt.figure(figsize=(12, 12))\n",
    "plt.title(\"Feature Importances\")\n",
    "plt.barh(range(len(indices)), importances[indices], color=\"violet\", align=\"center\")\n",
    "plt.yticks(range(len(indices)), [feature_names[i] for i in indices])\n",
    "plt.xlabel(\"Relative Importance\")\n",
    "plt.show()"
   ]
  },
  {
   "cell_type": "markdown",
   "id": "5fe2151d",
   "metadata": {},
   "source": [
    "### Decision Tree Classifier"
   ]
  },
  {
   "cell_type": "code",
   "execution_count": null,
   "id": "55981dda",
   "metadata": {},
   "outputs": [],
   "source": [
    "# Choose the type of classifier.\n",
    "dtree_estimator = DecisionTreeClassifier(\n",
    "    class_weight={0: 0.19, 1: 0.81}, random_state=1\n",
    ")\n",
    "\n",
    "# Grid of parameters to choose from\n",
    "parameters = {\n",
    "    \"max_depth\": np.arange(2, 10),\n",
    "    \"min_samples_leaf\": [5, 7, 10, 15],\n",
    "    \"max_leaf_nodes\": [2, 3, 5, 10, 15],\n",
    "    \"min_impurity_decrease\": [0.0001, 0.001, 0.01, 0.1],\n",
    "}\n",
    "\n",
    "# Type of scoring used to compare parameter combinations\n",
    "scorer = metrics.make_scorer(metrics.recall_score)\n",
    "\n",
    "# Run the grid search\n",
    "grid_obj = GridSearchCV(dtree_estimator, parameters, scoring=scorer, n_jobs=-1)\n",
    "grid_obj = grid_obj.fit(X_train, y_train)\n",
    "\n",
    "# Set the clf to the best combination of parameters\n",
    "dtree_estimator = grid_obj.best_estimator_\n",
    "\n",
    "# Fit the best algorithm to the data.\n",
    "dtree_estimator.fit(X_train, y_train)\n",
    "\n",
    "# Calculating different metrics\n",
    "dtree_estimator_model_train_perf = model_performance_classification_sklearn(\n",
    "    dtree_estimator, X_train, y_train\n",
    ")\n",
    "print(\"Training performance:\\n\", dtree_estimator_model_train_perf)\n",
    "dtree_estimator_model_test_perf = model_performance_classification_sklearn(\n",
    "    dtree_estimator, X_test, y_test\n",
    ")\n",
    "print(\"Testing performance:\\n\", dtree_estimator_model_test_perf)\n",
    "# Creating confusion matrix\n",
    "confusion_matrix_sklearn(dtree_estimator, X_test, y_test)"
   ]
  },
  {
   "cell_type": "markdown",
   "id": "fbe436f8",
   "metadata": {},
   "source": [
    "### Insights\n",
    "- The model accuracy has decreased a bit but the overfitting has also been reduced and the model is generalizing well.\n",
    "- The train and test recall both have increased significantly.\n",
    "- We can see from the confusion matrix that the random forest model with class weights is now better at identifying the defaulters as compared to other models."
   ]
  },
  {
   "cell_type": "code",
   "execution_count": null,
   "id": "f8ee08e3",
   "metadata": {},
   "outputs": [],
   "source": [
    "importances = dtree_estimator.feature_importances_\n",
    "indices = np.argsort(importances)\n",
    "feature_names = list(ind_vars.columns)\n",
    "\n",
    "plt.figure(figsize=(12, 12))\n",
    "plt.title(\"Feature Importances\")\n",
    "plt.barh(range(len(indices)), importances[indices], color=\"violet\", align=\"center\")\n",
    "plt.yticks(range(len(indices)), [feature_names[i] for i in indices])\n",
    "plt.xlabel(\"Relative Importance\")\n",
    "plt.show()"
   ]
  },
  {
   "cell_type": "markdown",
   "id": "f0515f6b",
   "metadata": {},
   "source": [
    "### Comparing all models till now"
   ]
  },
  {
   "cell_type": "code",
   "execution_count": null,
   "id": "067e3594",
   "metadata": {},
   "outputs": [],
   "source": [
    "# training performance comparison\n",
    "\n",
    "models_train_comp_df = pd.concat(\n",
    "    [\n",
    "        dtree_model_train_perf.T,\n",
    "        bagging_classifier_model_train_perf.T,\n",
    "        rf_estimator_model_train_perf.T,\n",
    "        dtree_estimator_model_train_perf.T,\n",
    "        bagging_estimator_tuned_model_train_perf.T,\n",
    "        rf_estimator_tuned_model_train_perf.T,\n",
    "        rf_estimator_weighted_model_train_perf.T,\n",
    "    ],\n",
    "    axis=1,\n",
    ")\n",
    "models_train_comp_df.columns = [\n",
    "    \"Decision Tree\",\n",
    "    \"Bagging Classifier\",\n",
    "    \"Random Forest Classifier\",\n",
    "    \"Decision Tree Estimator\",\n",
    "    \"Bagging Estimator Tuned\",\n",
    "    \"Random Forest Estimator Tuned\",\n",
    "    \"Weighted Random Forest Classifier\",\n",
    "]\n",
    "print(\"Training performance comparison:\")\n",
    "models_train_comp_df"
   ]
  },
  {
   "cell_type": "code",
   "execution_count": null,
   "id": "aa595986",
   "metadata": {},
   "outputs": [],
   "source": [
    "# testing performance comparison\n",
    "\n",
    "models_test_comp_df = pd.concat(\n",
    "    [\n",
    "        dtree_model_test_perf.T,\n",
    "        bagging_classifier_model_test_perf.T,\n",
    "        rf_estimator_model_test_perf.T,\n",
    "        dtree_estimator_model_test_perf.T,\n",
    "        bagging_estimator_tuned_model_test_perf.T,\n",
    "        rf_estimator_tuned_model_test_perf.T,\n",
    "        rf_estimator_weighted_model_test_perf.T,\n",
    "    ],\n",
    "    axis=1,\n",
    ")\n",
    "models_test_comp_df.columns = [\n",
    "    \"Decision Tree\",\n",
    "    \"Bagging Classifier\",\n",
    "    \"Random Forest Classifier\",\n",
    "    \"Decision Tree Estimator\",\n",
    "    \"Bagging Estimator Tuned\",\n",
    "    \"Random Forest Estimator Tuned\",\n",
    "    \"Weighted Random Forest Classifier\",\n",
    "]\n",
    "print(\"Testing performance comparison:\")\n",
    "models_test_comp_df"
   ]
  },
  {
   "cell_type": "code",
   "execution_count": null,
   "id": "039b888e",
   "metadata": {},
   "outputs": [],
   "source": []
  },
  {
   "cell_type": "markdown",
   "id": "f3b5ca28",
   "metadata": {},
   "source": [
    "### Building the model AdaBoost Classifier, Gradient Boosting Classifier, XGBoost Classifier and Stacking Classifier\n",
    "- We are going to build 4 ensemble models here - AdaBoost Classifier, Gradient Boosting Classifier, XGBoost Classifier and Stacking Classifier.\n",
    "- First, let's build these models with default parameters and then use hyperparameter tuning to optimize the model performance.\n",
    "- We will calculate all three metrics - Accuracy, Precision and Recall but the metric of interest here is recall.\n",
    "- `Recall` - It gives the ratio of True positives to Actual positives, so high Recall implies low false negatives, i.e. low chances of predicting a defaulter as non defaulter"
   ]
  },
  {
   "cell_type": "markdown",
   "id": "7ead4aee",
   "metadata": {},
   "source": [
    "### AdaBoost Classifier"
   ]
  },
  {
   "cell_type": "code",
   "execution_count": null,
   "id": "689bd98d",
   "metadata": {},
   "outputs": [],
   "source": [
    "# Fitting the model\n",
    "ab_classifier = AdaBoostClassifier(random_state=1)\n",
    "ab_classifier.fit(X_train, y_train)\n",
    "\n",
    "# Calculating different metrics\n",
    "ab_classifier_model_train_perf = model_performance_classification_sklearn(\n",
    "    ab_classifier, X_train, y_train\n",
    ")\n",
    "print(\"Training performance \\n\", ab_classifier_model_train_perf)\n",
    "ab_classifier_model_test_perf = model_performance_classification_sklearn(\n",
    "    ab_classifier, X_test, y_test\n",
    ")\n",
    "print(\"Testing performance \\n\", ab_classifier_model_test_perf)\n",
    "\n",
    "# Creating confusion matrix\n",
    "confusion_matrix_sklearn(ab_classifier, X_test, y_test)"
   ]
  },
  {
   "cell_type": "markdown",
   "id": "ff8185ef",
   "metadata": {},
   "source": [
    "### Gradient Boosting Classifier"
   ]
  },
  {
   "cell_type": "code",
   "execution_count": null,
   "id": "817a8dd9",
   "metadata": {},
   "outputs": [],
   "source": [
    "# Fitting the model\n",
    "gbc_classifier = GradientBoostingClassifier(random_state=1)\n",
    "gbc_classifier.fit(X_train, y_train)\n",
    "\n",
    "# Calculating different metrics\n",
    "gbc_classifier_model_train_perf = model_performance_classification_sklearn(\n",
    "    gbc_classifier, X_train, y_train\n",
    ")\n",
    "print(\"Training performance \\n\", gbc_classifier_model_train_perf)\n",
    "gbc_classifier_model_test_perf = model_performance_classification_sklearn(\n",
    "    gbc_classifier, X_test, y_test\n",
    ")\n",
    "print(\"Testing performance \\n\", gbc_classifier_model_test_perf)\n",
    "\n",
    "# Creating confusion matrix\n",
    "confusion_matrix_sklearn(gbc_classifier, X_test, y_test)"
   ]
  },
  {
   "cell_type": "markdown",
   "id": "7ae51939",
   "metadata": {},
   "source": [
    "### XGBoost Classifier"
   ]
  },
  {
   "cell_type": "code",
   "execution_count": null,
   "id": "ccfac99e",
   "metadata": {},
   "outputs": [],
   "source": [
    "# Fitting the model\n",
    "xgb_classifier = XGBClassifier(\n",
    "    random_state=1, eval_metric=\"logloss\", use_label_encoder=False\n",
    ")\n",
    "xgb_classifier.fit(X_train, y_train)\n",
    "\n",
    "# Calculating different metrics\n",
    "xgb_classifier_model_train_perf = model_performance_classification_sklearn(\n",
    "    xgb_classifier, X_train, y_train\n",
    ")\n",
    "print(\"Training performance \\n\", xgb_classifier_model_train_perf)\n",
    "xgb_classifier_model_test_perf = model_performance_classification_sklearn(\n",
    "    xgb_classifier, X_test, y_test\n",
    ")\n",
    "print(\"Testing performance \\n\", xgb_classifier_model_test_perf)\n",
    "\n",
    "# Creating confusion matrix\n",
    "confusion_matrix_sklearn(xgb_classifier, X_test, y_test)"
   ]
  },
  {
   "cell_type": "markdown",
   "id": "95157934",
   "metadata": {},
   "source": [
    "### Hyperparameter Tuning\n",
    "\n",
    "### AdaBoost Classifier"
   ]
  },
  {
   "cell_type": "markdown",
   "id": "e6c1e3d6",
   "metadata": {},
   "source": [
    "- An AdaBoost classifier is a meta-estimator that begins by fitting a classifier on the original dataset and then fits additional copies of the classifier on the same dataset but where the weights of incorrectly classified instances are adjusted such that subsequent classifiers focus more on difficult cases.\n",
    "- Some important hyperparamters are:\n",
    "    - base_estimator: The base estimator from which the boosted ensemble is built. By default the base estimator is a decision tree with max_depth=1\n",
    "    - n_estimators: The maximum number of estimators at which boosting is terminated. Default value is 50.\n",
    "    - learning_rate: Learning rate shrinks the contribution of each classifier by learning_rate. There is a trade-off between learning_rate and n_estimators."
   ]
  },
  {
   "cell_type": "code",
   "execution_count": null,
   "id": "9aea193f",
   "metadata": {},
   "outputs": [],
   "source": [
    "# Choose the type of classifier.\n",
    "abc_tuned = AdaBoostClassifier(random_state=1)\n",
    "\n",
    "# Grid of parameters to choose from\n",
    "## add from article\n",
    "parameters = {\n",
    "    # Let's try different max_depth for base_estimator\n",
    "    \"base_estimator\": [\n",
    "        DecisionTreeClassifier(max_depth=1, random_state=1),\n",
    "        DecisionTreeClassifier(max_depth=2, random_state=1),\n",
    "        DecisionTreeClassifier(max_depth=3, random_state=1),\n",
    "    ],\n",
    "    \"n_estimators\": np.arange(10, 110, 10),\n",
    "    \"learning_rate\": np.arange(0.1, 2, 0.1),\n",
    "}\n",
    "\n",
    "# Type of scoring used to compare parameter combinations\n",
    "acc_scorer = metrics.make_scorer(metrics.recall_score)\n",
    "\n",
    "# Run the grid search\n",
    "grid_obj = GridSearchCV(abc_tuned, parameters, scoring=acc_scorer, cv=5)\n",
    "grid_obj = grid_obj.fit(X_train, y_train)\n",
    "\n",
    "# Set the clf to the best combination of parameters\n",
    "abc_tuned = grid_obj.best_estimator_\n",
    "\n",
    "# Fit the best algorithm to the data.\n",
    "abc_tuned.fit(X_train, y_train)\n",
    "\n",
    "# Calculating different metrics\n",
    "abc_tuned_model_train_perf = model_performance_classification_sklearn(\n",
    "    abc_tuned, X_train, y_train\n",
    ")\n",
    "print(\"Training performance \\n\", abc_tuned_model_train_perf)\n",
    "abc_tuned_model_test_perf = model_performance_classification_sklearn(\n",
    "    abc_tuned, X_test, y_test\n",
    ")\n",
    "print(\"Testing performance \\n\", abc_tuned_model_test_perf)\n",
    "\n",
    "# Creating confusion matrix\n",
    "confusion_matrix_sklearn(abc_tuned, X_test, y_test)"
   ]
  },
  {
   "cell_type": "markdown",
   "id": "1c959582",
   "metadata": {},
   "source": [
    "#### Insights\n",
    "- The model is overfitting the train data as train accuracy is much higher than the test accuracy.\n",
    "- The model has low test recall. This implies that the model is not good at identifying defaulters."
   ]
  },
  {
   "cell_type": "code",
   "execution_count": null,
   "id": "5e7e686c",
   "metadata": {},
   "outputs": [],
   "source": [
    "importances = abc_tuned.feature_importances_\n",
    "indices = np.argsort(importances)\n",
    "feature_names = list(ind_vars.columns)\n",
    "\n",
    "plt.figure(figsize=(12, 12))\n",
    "plt.title(\"Feature Importances\")\n",
    "plt.barh(range(len(indices)), importances[indices], color=\"violet\", align=\"center\")\n",
    "plt.yticks(range(len(indices)), [feature_names[i] for i in indices])\n",
    "plt.xlabel(\"Relative Importance\")\n",
    "plt.show()"
   ]
  },
  {
   "cell_type": "markdown",
   "id": "8a1e5a59",
   "metadata": {},
   "source": [
    "### Gradient Boosting Classifier"
   ]
  },
  {
   "cell_type": "markdown",
   "id": "d25f4bbc",
   "metadata": {},
   "source": [
    "- Most of the hyperparameters available are same as random forest classifier.\n",
    "- init: An estimator object that is used to compute the initial predictions. If ‘zero’, the initial raw predictions are set to zero. By default, a DummyEstimator predicting the classes priors is used.\n",
    "- There is no class_weights parameter in gradient boosting."
   ]
  },
  {
   "cell_type": "markdown",
   "id": "adfd7b89",
   "metadata": {},
   "source": [
    "**Let's try using AdaBoost classifier as the estimator for initial predictions**"
   ]
  },
  {
   "cell_type": "code",
   "execution_count": null,
   "id": "4d3260e5",
   "metadata": {},
   "outputs": [],
   "source": [
    "gbc_init = GradientBoostingClassifier(\n",
    "    init=AdaBoostClassifier(random_state=1), random_state=1\n",
    ")\n",
    "gbc_init.fit(X_train, y_train)\n",
    "\n",
    "# Calculating different metrics\n",
    "gbc_init_model_train_perf = model_performance_classification_sklearn(\n",
    "    gbc_init, X_train, y_train\n",
    ")\n",
    "print(\"Training performance \\n\", gbc_init_model_train_perf)\n",
    "gbc_init_model_test_perf = model_performance_classification_sklearn(\n",
    "    gbc_init, X_test, y_test\n",
    ")\n",
    "print(\"Testing performance \\n\", gbc_init_model_test_perf)\n",
    "\n",
    "# Creating confusion matrix\n",
    "confusion_matrix_sklearn(gbc_init, X_test, y_test)"
   ]
  },
  {
   "cell_type": "markdown",
   "id": "0a42f083",
   "metadata": {},
   "source": [
    "**As compared to the model with default parameters:**\n",
    "\n",
    "- Test accuracy and test recall have increased slightly.\n",
    "- As we are getting better results, we will use init = AdaBoostClassifier() to tune the gradient boosting model."
   ]
  },
  {
   "cell_type": "code",
   "execution_count": null,
   "id": "d6dd4a12",
   "metadata": {},
   "outputs": [],
   "source": [
    "# Choose the type of classifier.\n",
    "gbc_tuned = GradientBoostingClassifier(\n",
    "    init=AdaBoostClassifier(random_state=1), random_state=1\n",
    ")\n",
    "\n",
    "# Grid of parameters to choose from\n",
    "## add from article\n",
    "parameters = {\n",
    "    \"n_estimators\": [100, 150, 200, 250],\n",
    "    \"subsample\": [0.8, 0.9, 1],\n",
    "    \"max_features\": [0.7, 0.8, 0.9, 1],\n",
    "}\n",
    "\n",
    "# Type of scoring used to compare parameter combinations\n",
    "acc_scorer = metrics.make_scorer(metrics.recall_score)\n",
    "\n",
    "# Run the grid search\n",
    "grid_obj = GridSearchCV(gbc_tuned, parameters, scoring=acc_scorer, cv=5)\n",
    "grid_obj = grid_obj.fit(X_train, y_train)\n",
    "\n",
    "# Set the clf to the best combination of parameters\n",
    "gbc_tuned = grid_obj.best_estimator_\n",
    "\n",
    "# Fit the best algorithm to the data.\n",
    "gbc_tuned.fit(X_train, y_train)\n",
    "\n",
    "# Calculating different metrics\n",
    "gbc_tuned_model_train_perf = model_performance_classification_sklearn(\n",
    "    gbc_tuned, X_train, y_train\n",
    ")\n",
    "print(\"Training performance \\n\", gbc_tuned_model_train_perf)\n",
    "gbc_tuned_model_test_perf = model_performance_classification_sklearn(\n",
    "    gbc_tuned, X_test, y_test\n",
    ")\n",
    "print(\"Testing performance \\n\", gbc_tuned_model_test_perf)\n",
    "\n",
    "# Creating confusion matrix\n",
    "confusion_matrix_sklearn(gbc_tuned, X_test, y_test)"
   ]
  },
  {
   "cell_type": "markdown",
   "id": "2e27cf4c",
   "metadata": {},
   "source": [
    "#### Insights\n",
    "- The model performace has not increased by much.\n",
    "- The model has started to overfit the train data in terms of recall.\n",
    "- It is better at identifying non-defaulters than identifying defaulters which is the opposite of the result we need."
   ]
  },
  {
   "cell_type": "code",
   "execution_count": null,
   "id": "71077e5c",
   "metadata": {},
   "outputs": [],
   "source": [
    "importances = gbc_tuned.feature_importances_\n",
    "indices = np.argsort(importances)\n",
    "feature_names = list(ind_vars.columns)\n",
    "\n",
    "plt.figure(figsize=(12, 12))\n",
    "plt.title(\"Feature Importances\")\n",
    "plt.barh(range(len(indices)), importances[indices], color=\"violet\", align=\"center\")\n",
    "plt.yticks(range(len(indices)), [feature_names[i] for i in indices])\n",
    "plt.xlabel(\"Relative Importance\")\n",
    "plt.show()"
   ]
  },
  {
   "cell_type": "markdown",
   "id": "3fe19d66",
   "metadata": {},
   "source": [
    "### XGBoost Classifier"
   ]
  },
  {
   "cell_type": "markdown",
   "id": "dcc7cf4d",
   "metadata": {},
   "source": [
    "**XGBoost has many hyper parameters which can be tuned to increase the model performance. You can read about them in the xgboost documentation [here](https://xgboost.readthedocs.io/en/latest/parameter.html#general-parameters). Some of the important parameters are:**\n",
    "- scale_pos_weight:Control the balance of positive and negative weights, useful for unbalanced classes. It has range from 0 to $\\infty$.\n",
    "- subsample: Corresponds to the fraction of observations (the rows) to subsample at each step. By default it is set to 1 meaning that we use all rows.\n",
    "- colsample_bytree: Corresponds to the fraction of features (the columns) to use.\n",
    "- colsample_bylevel: The subsample ratio of columns for each level. Columns are subsampled from the set of columns chosen for the current tree.\n",
    "- colsample_bynode: The subsample ratio of columns for each node (split). Columns are subsampled from the set of columns chosen for the current level.\n",
    "- max_depth: is the maximum number of nodes allowed from the root to the farthest leaf of a tree.\n",
    "- learning_rate/eta: Makes the model more robust by shrinking the weights on each step.\n",
    "- gamma: A node is split only when the resulting split gives a positive reduction in the loss function. Gamma specifies the minimum loss reduction required to make a split."
   ]
  },
  {
   "cell_type": "code",
   "execution_count": null,
   "id": "d779a512",
   "metadata": {},
   "outputs": [],
   "source": [
    "# Choose the type of classifier. \n",
    "xgb_tuned = XGBClassifier(random_state=1,eval_metric='logloss', use_label_encoder=False)\n",
    "\n",
    "# Grid of parameters to choose from\n",
    "## add from\n",
    "parameters = {\n",
    "    \"n_estimators\": np.arange(10,100,20),\n",
    "    \"scale_pos_weight\":[0,1,2,5],\n",
    "    \"subsample\":[0.5,0.7,0.9,1],\n",
    "    \"learning_rate\":[0.01,0.1,0.2,0.05],\n",
    "    \"gamma\":[0,1,3],\n",
    "    \"colsample_bytree\":[0.5,0.7,0.9,1],\n",
    "    \"colsample_bylevel\":[0.5,0.7,0.9,1]\n",
    "}\n",
    "\n",
    "# Type of scoring used to compare parameter combinations\n",
    "acc_scorer = metrics.make_scorer(metrics.recall_score)\n",
    "\n",
    "# Run the grid search\n",
    "grid_obj = GridSearchCV(xgb_tuned, parameters,scoring=acc_scorer,cv=5)\n",
    "grid_obj = grid_obj.fit(X_train, y_train)\n",
    "\n",
    "# Set the clf to the best combination of parameters\n",
    "xgb_tuned = grid_obj.best_estimator_\n",
    "\n",
    "# Fit the best algorithm to the data.\n",
    "xgb_tuned.fit(X_train, y_train)\n",
    "\n",
    "# Calculating different metrics\n",
    "xgb_tuned_model_train_perf = model_performance_classification_sklearn(\n",
    "    xgb_tuned, X_train, y_train\n",
    ")\n",
    "print(\"Training performance \\n\", xgb_tuned_model_train_perf)\n",
    "xgb_tuned_model_test_perf = model_performance_classification_sklearn(\n",
    "    xgb_tuned, X_test, y_test\n",
    ")\n",
    "print(\"Testing performance \\n\", xgb_tuned_model_test_perf)\n",
    "\n",
    "# Creating confusion matrix\n",
    "confusion_matrix_sklearn(xgb_tuned, X_test, y_test)"
   ]
  },
  {
   "cell_type": "markdown",
   "id": "d9228198",
   "metadata": {},
   "source": [
    "#### Insights\n",
    "- The test accuracy of the model has reduced as compared to the model with default parameters but the recall has increased significantly and the model is able to identify most of the defaulters.\n",
    "- Decreasing number of false negatives has increased the number of false positives here.\n",
    "- The tuned model is not overfitting and generalizes well."
   ]
  },
  {
   "cell_type": "code",
   "execution_count": null,
   "id": "689f395d",
   "metadata": {},
   "outputs": [],
   "source": [
    "importances = xgb_tuned.feature_importances_\n",
    "indices = np.argsort(importances)\n",
    "feature_names = list(ind_vars.columns)\n",
    "\n",
    "plt.figure(figsize=(12,12))\n",
    "plt.title('Feature Importances')\n",
    "plt.barh(range(len(indices)), importances[indices], color='violet', align='center')\n",
    "plt.yticks(range(len(indices)), [feature_names[i] for i in indices])\n",
    "plt.xlabel('Relative Importance')\n",
    "plt.show()"
   ]
  },
  {
   "cell_type": "markdown",
   "id": "5a8c0a43",
   "metadata": {},
   "source": [
    "### Stacking Model"
   ]
  },
  {
   "cell_type": "markdown",
   "id": "c1f45a13",
   "metadata": {},
   "source": [
    "**Now, let's build a stacking model with the tuned models - decision tree, random forest, and gradient boosting, then use XGBoost to get the final prediction.**"
   ]
  },
  {
   "cell_type": "code",
   "execution_count": null,
   "id": "cbd90c46",
   "metadata": {},
   "outputs": [],
   "source": [
    "estimators = [\n",
    "    (\"Decision Tree\", dtree_estimator),\n",
    "    (\"Random Forest\", rf_estimator_weighted),\n",
    "    (\"Bagging\", bagging_estimator_tuned),\n",
    "    (\"AdaBoost\", abc_tuned),\n",
    "    (\"Gradient Boosting\", gbc_tuned),\n",
    "]\n",
    "final_estimator = XGBClassifier(\n",
    "    random_state=1, eval_metric=\"logloss\", use_label_encoder=False\n",
    ")"
   ]
  },
  {
   "cell_type": "code",
   "execution_count": null,
   "id": "79e00990",
   "metadata": {},
   "outputs": [],
   "source": [
    "stacking_estimator = StackingClassifier(\n",
    "    estimators=estimators, final_estimator=final_estimator, cv=5\n",
    ")\n",
    "stacking_estimator.fit(X_train, y_train)\n",
    "\n",
    "# Calculating different metrics\n",
    "stacking_estimator_model_train_perf = model_performance_classification_sklearn(\n",
    "    stacking_estimator, X_train, y_train\n",
    ")\n",
    "print(\"Training performance \\n\", stacking_estimator_model_train_perf)\n",
    "stacking_estimator_model_test_perf = model_performance_classification_sklearn(\n",
    "    stacking_estimator, X_test, y_test\n",
    ")\n",
    "print(\"Testing performance \\n\", stacking_estimator_model_test_perf)\n",
    "\n",
    "# Creating confusion matrix\n",
    "confusion_matrix_sklearn(stacking_estimator, X_test, y_test)"
   ]
  },
  {
   "cell_type": "markdown",
   "id": "5a398b01",
   "metadata": {},
   "source": [
    "#### Insights\n",
    "- The test accuracy of the model has reduced as compared to the model with default parameters but the recall has increased significantly and the model is able to identify most of the defaulters.\n",
    "- Decreasing number of false negatives has increased the number of false positives here.\n",
    "- The tuned model is not overfitting and generalizes well."
   ]
  },
  {
   "cell_type": "code",
   "execution_count": null,
   "id": "ad9c0c8c",
   "metadata": {},
   "outputs": [],
   "source": [
    "importances = stacking_estimator.feature_importances_\n",
    "indices = np.argsort(importances)\n",
    "feature_names = list(ind_vars.columns)\n",
    "\n",
    "plt.figure(figsize=(12,12))\n",
    "plt.title('Feature Importances')\n",
    "plt.barh(range(len(indices)), importances[indices], color='violet', align='center')\n",
    "plt.yticks(range(len(indices)), [feature_names[i] for i in indices])\n",
    "plt.xlabel('Relative Importance')\n",
    "plt.show()"
   ]
  },
  {
   "cell_type": "markdown",
   "id": "9d306708",
   "metadata": {},
   "source": [
    "## Comparing all models"
   ]
  },
  {
   "cell_type": "code",
   "execution_count": null,
   "id": "3bfb9425",
   "metadata": {},
   "outputs": [],
   "source": [
    "# training performance comparison\n",
    "\n",
    "models_train_comp_df = pd.concat(\n",
    "    [\n",
    "        ab_classifier_model_train_perf.T,\n",
    "        abc_tuned_model_train_perf.T,\n",
    "        gbc_classifier_model_train_perf.T,\n",
    "        gbc_init_model_train_perf.T,\n",
    "        gbc_tuned_model_train_perf.T,\n",
    "        xgb_classifier_model_train_perf.T,\n",
    "        xgb_tuned_model_train_perf.T,\n",
    "        stacking_estimator_model_train_perf.T\n",
    "    ],\n",
    "    axis=1,\n",
    ")\n",
    "models_train_comp_df.columns = [\n",
    "    'AdaBoost with default paramters','AdaBoost Tuned', \n",
    "                                          'Gradient Boosting with default parameters','Gradient Boosting with init=AdaBoost',\n",
    "                                          'Gradient Boosting Tuned','XGBoost with default parameters','XGBoost Tuned',\n",
    "    'Stacking Classifier',\n",
    "]\n",
    "print(\"Training performance comparison:\")\n",
    "models_train_comp_df"
   ]
  },
  {
   "cell_type": "code",
   "execution_count": null,
   "id": "000c4aae",
   "metadata": {},
   "outputs": [],
   "source": [
    "# testing performance comparison\n",
    "\n",
    "models_test_comp_df = pd.concat(\n",
    "    [\n",
    "        ab_classifier_model_test_perf.T,\n",
    "        abc_tuned_model_test_perf.T,\n",
    "        gbc_classifier_model_test_perf.T,\n",
    "        gbc_init_model_test_perf.T,\n",
    "        gbc_tuned_model_test_perf.T,\n",
    "        xgb_classifier_model_test_perf.T,\n",
    "        xgb_tuned_model_test_perf.T,\n",
    "        stacking_estimator_model_test_perf.T,\n",
    "    ],\n",
    "    axis=1,\n",
    ")\n",
    "models_test_comp_df.columns = [\n",
    "    'AdaBoost with default paramters','AdaBoost Tuned', \n",
    "                                          'Gradient Boosting with default parameters','Gradient Boosting with init=AdaBoost',\n",
    "                                          'Gradient Boosting Tuned','XGBoost with default parameters','XGBoost Tuned',\n",
    "    'Stacking Classifier',\n",
    "]\n",
    "print(\"Testing performance comparison:\")\n",
    "models_test_comp_df"
   ]
  }
 ],
 "metadata": {
  "kernelspec": {
   "display_name": "Python 3",
   "language": "python",
   "name": "python3"
  },
  "language_info": {
   "codemirror_mode": {
    "name": "ipython",
    "version": 3
   },
   "file_extension": ".py",
   "mimetype": "text/x-python",
   "name": "python",
   "nbconvert_exporter": "python",
   "pygments_lexer": "ipython3",
   "version": "3.8.8"
  }
 },
 "nbformat": 4,
 "nbformat_minor": 5
}
