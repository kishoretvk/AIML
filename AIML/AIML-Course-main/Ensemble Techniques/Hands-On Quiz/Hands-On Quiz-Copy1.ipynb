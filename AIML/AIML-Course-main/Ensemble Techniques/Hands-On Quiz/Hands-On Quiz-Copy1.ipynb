{
 "cells": [
  {
   "cell_type": "markdown",
   "id": "bab4ca42",
   "metadata": {},
   "source": [
    "**Instructions**\n",
    "\n",
    "Please download and import the dataset Cars-dataset.csv into Jupyter Notebook to attempt this quiz.\n",
    "\n",
    "Problem Statment:\n",
    "\n",
    "DDS is a startup company that is planning to start a shuttle service (pick-up and drop) at a discounted price. However, there are limited seats available and the company only wants to provide this service to the employees who are highly likely to buy the service for a long time.\n",
    "\n",
    "You as a data scientist have to build to model to automate the task of identifying such employees using the data obtained from a survey conducted by the HR department.\n",
    "\n",
    "Attribute Information:\n",
    "\n",
    "* Age: Age of the employee\n",
    "* Gender: Gender of employee\n",
    "* Engineer: Does the employee have Engineering Degree. 1 indicates the employee has an engineering degree 0 indicates the employee doesn't\n",
    "* MBA: Does the employee have MBA Degree. 1 indicates the employee has an MBA degree indicates the employee doesn't\n",
    "* Work Exp: Work experience in years\n",
    "* Salary: Annual Salary of employee (in thousand)\n",
    "* Distance: Distance from office (in KM)\n",
    "* License: Does the employee have a license\n",
    "* Opt_Service: Employee opts for the service or not. 1 indicates employee opts for the service 0 indicates employee doesn't\n",
    "\n",
    "Kindly go through these guidelines before you attempt the quiz :\n",
    "1. Use random_state=1 wherever this parameter can be used.\n",
    "2. Kindly run all the code lines in the Jupyter Notebook.\n",
    "3. Ensure there is a proper internet connection while taking up the quiz. Any breakup in the connection will automatically submit your quiz.\n",
    "4. Only attempt the quiz when you are prepared and have enough time on your hands to finish it. Please ensure you attempt the quiz well before the due date. No extension will be provided for any quiz once the deadline is passed.\n",
    "5. The quiz once opened, must be completed within the time frame provided. You CANNOT start the quiz, leave it unattended for an extended period of time and come back later to finish.\n",
    "6. No re-attempts will be provided if the quiz gets submitted for any of the above-mentioned reasons.\n",
    "7. If you face any other technical issues on Olympus, you should share the screenshot with your Program Manager so that the team can understand and resolve it on priority."
   ]
  },
  {
   "cell_type": "markdown",
   "id": "f034e6f4",
   "metadata": {},
   "source": [
    "## Overview of the dataset"
   ]
  },
  {
   "cell_type": "markdown",
   "id": "d73a9bec",
   "metadata": {},
   "source": [
    "**Let's start by importing libraries we need.**"
   ]
  },
  {
   "cell_type": "code",
   "execution_count": 39,
   "id": "62c34b75",
   "metadata": {},
   "outputs": [],
   "source": [
    "import warnings\n",
    "warnings.filterwarnings(\"ignore\")\n",
    "\n",
    "import numpy as np   \n",
    "import pandas as pd    \n",
    "import seaborn as sns\n",
    "import matplotlib.pyplot as plt\n",
    "%matplotlib inline\n",
    "from sklearn.tree import DecisionTreeRegressor,DecisionTreeClassifier\n",
    "from sklearn.ensemble import BaggingClassifier,RandomForestClassifier,AdaBoostClassifier,GradientBoostingClassifier,BaggingRegressor,RandomForestRegressor, GradientBoostingRegressor, AdaBoostRegressor, StackingRegressor\n",
    "from sklearn.linear_model import LogisticRegression\n",
    "from xgboost import XGBRegressor\n",
    "from sklearn import metrics\n",
    "from sklearn.model_selection import GridSearchCV, train_test_split\n",
    "#To install xgboost library use - !pip install xgboost \n",
    "from xgboost import XGBClassifier\n",
    "\n",
    "from sklearn.metrics import confusion_matrix, classification_report\n",
    "from sklearn.metrics import accuracy_score,precision_score,recall_score,f1_score\n",
    "import scipy.stats as stats\n",
    "from sklearn.metrics import roc_auc_score"
   ]
  },
  {
   "cell_type": "code",
   "execution_count": 2,
   "id": "f06e86fe",
   "metadata": {},
   "outputs": [],
   "source": [
    "#Loading dataset\n",
    "data=pd.read_csv(\"Cars-dataset.csv\")"
   ]
  },
  {
   "cell_type": "markdown",
   "id": "348f5bc2",
   "metadata": {},
   "source": [
    "**View the first 5 rows of the dataset.**"
   ]
  },
  {
   "cell_type": "code",
   "execution_count": 3,
   "id": "736f4def",
   "metadata": {},
   "outputs": [
    {
     "data": {
      "text/html": [
       "<div>\n",
       "<style scoped>\n",
       "    .dataframe tbody tr th:only-of-type {\n",
       "        vertical-align: middle;\n",
       "    }\n",
       "\n",
       "    .dataframe tbody tr th {\n",
       "        vertical-align: top;\n",
       "    }\n",
       "\n",
       "    .dataframe thead th {\n",
       "        text-align: right;\n",
       "    }\n",
       "</style>\n",
       "<table border=\"1\" class=\"dataframe\">\n",
       "  <thead>\n",
       "    <tr style=\"text-align: right;\">\n",
       "      <th></th>\n",
       "      <th>Age</th>\n",
       "      <th>Gender</th>\n",
       "      <th>Engineer</th>\n",
       "      <th>MBA</th>\n",
       "      <th>Work Exp</th>\n",
       "      <th>Salary</th>\n",
       "      <th>Distance</th>\n",
       "      <th>license</th>\n",
       "      <th>Opt_service</th>\n",
       "    </tr>\n",
       "  </thead>\n",
       "  <tbody>\n",
       "    <tr>\n",
       "      <th>0</th>\n",
       "      <td>28</td>\n",
       "      <td>Male</td>\n",
       "      <td>1</td>\n",
       "      <td>0</td>\n",
       "      <td>5</td>\n",
       "      <td>14.4</td>\n",
       "      <td>5.1</td>\n",
       "      <td>0</td>\n",
       "      <td>0</td>\n",
       "    </tr>\n",
       "    <tr>\n",
       "      <th>1</th>\n",
       "      <td>24</td>\n",
       "      <td>Male</td>\n",
       "      <td>1</td>\n",
       "      <td>0</td>\n",
       "      <td>6</td>\n",
       "      <td>10.6</td>\n",
       "      <td>6.1</td>\n",
       "      <td>0</td>\n",
       "      <td>0</td>\n",
       "    </tr>\n",
       "    <tr>\n",
       "      <th>2</th>\n",
       "      <td>27</td>\n",
       "      <td>Female</td>\n",
       "      <td>1</td>\n",
       "      <td>0</td>\n",
       "      <td>9</td>\n",
       "      <td>15.5</td>\n",
       "      <td>6.1</td>\n",
       "      <td>0</td>\n",
       "      <td>0</td>\n",
       "    </tr>\n",
       "    <tr>\n",
       "      <th>3</th>\n",
       "      <td>25</td>\n",
       "      <td>Male</td>\n",
       "      <td>0</td>\n",
       "      <td>0</td>\n",
       "      <td>1</td>\n",
       "      <td>7.6</td>\n",
       "      <td>6.3</td>\n",
       "      <td>0</td>\n",
       "      <td>0</td>\n",
       "    </tr>\n",
       "    <tr>\n",
       "      <th>4</th>\n",
       "      <td>25</td>\n",
       "      <td>Female</td>\n",
       "      <td>0</td>\n",
       "      <td>0</td>\n",
       "      <td>3</td>\n",
       "      <td>9.6</td>\n",
       "      <td>6.7</td>\n",
       "      <td>0</td>\n",
       "      <td>0</td>\n",
       "    </tr>\n",
       "  </tbody>\n",
       "</table>\n",
       "</div>"
      ],
      "text/plain": [
       "   Age  Gender  Engineer  MBA  Work Exp  Salary  Distance  license  \\\n",
       "0   28    Male         1    0         5    14.4       5.1        0   \n",
       "1   24    Male         1    0         6    10.6       6.1        0   \n",
       "2   27  Female         1    0         9    15.5       6.1        0   \n",
       "3   25    Male         0    0         1     7.6       6.3        0   \n",
       "4   25  Female         0    0         3     9.6       6.7        0   \n",
       "\n",
       "   Opt_service  \n",
       "0            0  \n",
       "1            0  \n",
       "2            0  \n",
       "3            0  \n",
       "4            0  "
      ]
     },
     "execution_count": 3,
     "metadata": {},
     "output_type": "execute_result"
    }
   ],
   "source": [
    "data.head()"
   ]
  },
  {
   "cell_type": "markdown",
   "id": "97c1d367",
   "metadata": {},
   "source": [
    "**Check data types and number of non-null values for each column.**"
   ]
  },
  {
   "cell_type": "code",
   "execution_count": 4,
   "id": "3c890f86",
   "metadata": {},
   "outputs": [
    {
     "name": "stdout",
     "output_type": "stream",
     "text": [
      "<class 'pandas.core.frame.DataFrame'>\n",
      "RangeIndex: 418 entries, 0 to 417\n",
      "Data columns (total 9 columns):\n",
      " #   Column       Non-Null Count  Dtype  \n",
      "---  ------       --------------  -----  \n",
      " 0   Age          418 non-null    int64  \n",
      " 1   Gender       418 non-null    object \n",
      " 2   Engineer     418 non-null    int64  \n",
      " 3   MBA          418 non-null    int64  \n",
      " 4   Work Exp     418 non-null    int64  \n",
      " 5   Salary       418 non-null    float64\n",
      " 6   Distance     418 non-null    float64\n",
      " 7   license      418 non-null    int64  \n",
      " 8   Opt_service  418 non-null    int64  \n",
      "dtypes: float64(2), int64(6), object(1)\n",
      "memory usage: 29.5+ KB\n"
     ]
    }
   ],
   "source": [
    "data.info()"
   ]
  },
  {
   "cell_type": "code",
   "execution_count": 5,
   "id": "8bb04a6e",
   "metadata": {},
   "outputs": [
    {
     "data": {
      "text/plain": [
       "Age            0\n",
       "Gender         0\n",
       "Engineer       0\n",
       "MBA            0\n",
       "Work Exp       0\n",
       "Salary         0\n",
       "Distance       0\n",
       "license        0\n",
       "Opt_service    0\n",
       "dtype: int64"
      ]
     },
     "execution_count": 5,
     "metadata": {},
     "output_type": "execute_result"
    }
   ],
   "source": [
    "data.isna().sum()"
   ]
  },
  {
   "cell_type": "markdown",
   "id": "bc1a16fd",
   "metadata": {},
   "source": [
    "**Summary of the dataset**"
   ]
  },
  {
   "cell_type": "code",
   "execution_count": 6,
   "id": "30e2a2ea",
   "metadata": {},
   "outputs": [
    {
     "data": {
      "text/html": [
       "<div>\n",
       "<style scoped>\n",
       "    .dataframe tbody tr th:only-of-type {\n",
       "        vertical-align: middle;\n",
       "    }\n",
       "\n",
       "    .dataframe tbody tr th {\n",
       "        vertical-align: top;\n",
       "    }\n",
       "\n",
       "    .dataframe thead th {\n",
       "        text-align: right;\n",
       "    }\n",
       "</style>\n",
       "<table border=\"1\" class=\"dataframe\">\n",
       "  <thead>\n",
       "    <tr style=\"text-align: right;\">\n",
       "      <th></th>\n",
       "      <th>count</th>\n",
       "      <th>mean</th>\n",
       "      <th>std</th>\n",
       "      <th>min</th>\n",
       "      <th>25%</th>\n",
       "      <th>50%</th>\n",
       "      <th>75%</th>\n",
       "      <th>max</th>\n",
       "    </tr>\n",
       "  </thead>\n",
       "  <tbody>\n",
       "    <tr>\n",
       "      <th>Age</th>\n",
       "      <td>418.0</td>\n",
       "      <td>27.334928</td>\n",
       "      <td>4.153272</td>\n",
       "      <td>18.0</td>\n",
       "      <td>25.000</td>\n",
       "      <td>27.0</td>\n",
       "      <td>29.000</td>\n",
       "      <td>43.0</td>\n",
       "    </tr>\n",
       "    <tr>\n",
       "      <th>Engineer</th>\n",
       "      <td>418.0</td>\n",
       "      <td>0.748804</td>\n",
       "      <td>0.434221</td>\n",
       "      <td>0.0</td>\n",
       "      <td>0.250</td>\n",
       "      <td>1.0</td>\n",
       "      <td>1.000</td>\n",
       "      <td>1.0</td>\n",
       "    </tr>\n",
       "    <tr>\n",
       "      <th>MBA</th>\n",
       "      <td>418.0</td>\n",
       "      <td>0.260766</td>\n",
       "      <td>0.439578</td>\n",
       "      <td>0.0</td>\n",
       "      <td>0.000</td>\n",
       "      <td>0.0</td>\n",
       "      <td>1.000</td>\n",
       "      <td>1.0</td>\n",
       "    </tr>\n",
       "    <tr>\n",
       "      <th>Work Exp</th>\n",
       "      <td>418.0</td>\n",
       "      <td>5.873206</td>\n",
       "      <td>4.816110</td>\n",
       "      <td>0.0</td>\n",
       "      <td>3.000</td>\n",
       "      <td>5.0</td>\n",
       "      <td>8.000</td>\n",
       "      <td>24.0</td>\n",
       "    </tr>\n",
       "    <tr>\n",
       "      <th>Salary</th>\n",
       "      <td>418.0</td>\n",
       "      <td>15.418421</td>\n",
       "      <td>9.660234</td>\n",
       "      <td>6.5</td>\n",
       "      <td>9.625</td>\n",
       "      <td>13.0</td>\n",
       "      <td>14.900</td>\n",
       "      <td>57.0</td>\n",
       "    </tr>\n",
       "    <tr>\n",
       "      <th>Distance</th>\n",
       "      <td>418.0</td>\n",
       "      <td>11.306220</td>\n",
       "      <td>3.722143</td>\n",
       "      <td>3.2</td>\n",
       "      <td>8.600</td>\n",
       "      <td>10.9</td>\n",
       "      <td>13.575</td>\n",
       "      <td>23.4</td>\n",
       "    </tr>\n",
       "    <tr>\n",
       "      <th>license</th>\n",
       "      <td>418.0</td>\n",
       "      <td>0.205742</td>\n",
       "      <td>0.404727</td>\n",
       "      <td>0.0</td>\n",
       "      <td>0.000</td>\n",
       "      <td>0.0</td>\n",
       "      <td>0.000</td>\n",
       "      <td>1.0</td>\n",
       "    </tr>\n",
       "    <tr>\n",
       "      <th>Opt_service</th>\n",
       "      <td>418.0</td>\n",
       "      <td>0.083732</td>\n",
       "      <td>0.277317</td>\n",
       "      <td>0.0</td>\n",
       "      <td>0.000</td>\n",
       "      <td>0.0</td>\n",
       "      <td>0.000</td>\n",
       "      <td>1.0</td>\n",
       "    </tr>\n",
       "  </tbody>\n",
       "</table>\n",
       "</div>"
      ],
      "text/plain": [
       "             count       mean       std   min     25%   50%     75%   max\n",
       "Age          418.0  27.334928  4.153272  18.0  25.000  27.0  29.000  43.0\n",
       "Engineer     418.0   0.748804  0.434221   0.0   0.250   1.0   1.000   1.0\n",
       "MBA          418.0   0.260766  0.439578   0.0   0.000   0.0   1.000   1.0\n",
       "Work Exp     418.0   5.873206  4.816110   0.0   3.000   5.0   8.000  24.0\n",
       "Salary       418.0  15.418421  9.660234   6.5   9.625  13.0  14.900  57.0\n",
       "Distance     418.0  11.306220  3.722143   3.2   8.600  10.9  13.575  23.4\n",
       "license      418.0   0.205742  0.404727   0.0   0.000   0.0   0.000   1.0\n",
       "Opt_service  418.0   0.083732  0.277317   0.0   0.000   0.0   0.000   1.0"
      ]
     },
     "execution_count": 6,
     "metadata": {},
     "output_type": "execute_result"
    }
   ],
   "source": [
    "data.describe().T"
   ]
  },
  {
   "cell_type": "code",
   "execution_count": 7,
   "id": "b0ec1ae7",
   "metadata": {},
   "outputs": [
    {
     "data": {
      "text/plain": [
       "Age             25\n",
       "Gender           2\n",
       "Engineer         2\n",
       "MBA              2\n",
       "Work Exp        24\n",
       "Salary         116\n",
       "Distance       138\n",
       "license          2\n",
       "Opt_service      2\n",
       "dtype: int64"
      ]
     },
     "execution_count": 7,
     "metadata": {},
     "output_type": "execute_result"
    }
   ],
   "source": [
    "data.nunique()"
   ]
  },
  {
   "cell_type": "markdown",
   "id": "fdc71c69",
   "metadata": {},
   "source": [
    "**Number of observations in each category**"
   ]
  },
  {
   "cell_type": "code",
   "execution_count": 8,
   "id": "6480992b",
   "metadata": {},
   "outputs": [
    {
     "name": "stdout",
     "output_type": "stream",
     "text": [
      "Male      297\n",
      "Female    121\n",
      "Name: Gender, dtype: int64\n",
      "------------------------------\n"
     ]
    }
   ],
   "source": [
    "cat_cols=['Gender']\n",
    "\n",
    "for column in cat_cols:\n",
    "    print(data[column].value_counts())\n",
    "    print('-'*30)"
   ]
  },
  {
   "cell_type": "markdown",
   "id": "37253267",
   "metadata": {},
   "source": [
    "## EDA"
   ]
  },
  {
   "cell_type": "markdown",
   "id": "08c845ba",
   "metadata": {},
   "source": [
    "### Univariate analysis"
   ]
  },
  {
   "cell_type": "code",
   "execution_count": 9,
   "id": "c1558132",
   "metadata": {},
   "outputs": [],
   "source": [
    "# function to plot a boxplot and a histogram along the same scale.\n",
    "\n",
    "\n",
    "def histogram_boxplot(data, feature, figsize=(12, 7), kde=False, bins=None):\n",
    "    \"\"\"\n",
    "    Boxplot and histogram combined\n",
    "\n",
    "    data: dataframe\n",
    "    feature: dataframe column\n",
    "    figsize: size of figure (default (12,7))\n",
    "    kde: whether to show the density curve (default False)\n",
    "    bins: number of bins for histogram (default None)\n",
    "    \"\"\"\n",
    "    f2, (ax_box2, ax_hist2) = plt.subplots(\n",
    "        nrows=2,  # Number of rows of the subplot grid= 2\n",
    "        sharex=True,  # x-axis will be shared among all subplots\n",
    "        gridspec_kw={\"height_ratios\": (0.25, 0.75)},\n",
    "        figsize=figsize,\n",
    "    )  # creating the 2 subplots\n",
    "    sns.boxplot(\n",
    "        data=data, x=feature, ax=ax_box2, showmeans=True, color=\"violet\"\n",
    "    )  # boxplot will be created and a star will indicate the mean value of the column\n",
    "    sns.histplot(\n",
    "        data=data, x=feature, kde=kde, ax=ax_hist2, bins=bins, palette=\"winter\"\n",
    "    ) if bins else sns.histplot(\n",
    "        data=data, x=feature, kde=kde, ax=ax_hist2\n",
    "    )  # For histogram\n",
    "    ax_hist2.axvline(\n",
    "        data[feature].mean(), color=\"green\", linestyle=\"--\"\n",
    "    )  # Add mean to the histogram\n",
    "    ax_hist2.axvline(\n",
    "        data[feature].median(), color=\"black\", linestyle=\"-\"\n",
    "    )  # Add median to the histogram"
   ]
  },
  {
   "cell_type": "markdown",
   "id": "f2178537",
   "metadata": {},
   "source": [
    "**Observations on Age**"
   ]
  },
  {
   "cell_type": "code",
   "execution_count": 10,
   "id": "2b6b4f37",
   "metadata": {},
   "outputs": [
    {
     "data": {
      "image/png": "[encoded data removed]",
      "text/plain": [
       "<Figure size 864x504 with 2 Axes>"
      ]
     },
     "metadata": {
      "needs_background": "light"
     },
     "output_type": "display_data"
    }
   ],
   "source": [
    "histogram_boxplot(data, \"Age\")"
   ]
  },
  {
   "cell_type": "markdown",
   "id": "c795981f",
   "metadata": {},
   "source": [
    "**Observations on Work Exp**"
   ]
  },
  {
   "cell_type": "code",
   "execution_count": 11,
   "id": "174c4b56",
   "metadata": {},
   "outputs": [
    {
     "data": {
      "image/png": "[encoded data removed]",
      "text/plain": [
       "<Figure size 864x504 with 2 Axes>"
      ]
     },
     "metadata": {
      "needs_background": "light"
     },
     "output_type": "display_data"
    }
   ],
   "source": [
    "histogram_boxplot(data, \"Work Exp\")"
   ]
  },
  {
   "cell_type": "markdown",
   "id": "d481513a",
   "metadata": {},
   "source": [
    "**Observations on Salary**"
   ]
  },
  {
   "cell_type": "code",
   "execution_count": 12,
   "id": "616ac949",
   "metadata": {},
   "outputs": [
    {
     "data": {
      "image/png": "[encoded data removed]",
      "text/plain": [
       "<Figure size 864x504 with 2 Axes>"
      ]
     },
     "metadata": {
      "needs_background": "light"
     },
     "output_type": "display_data"
    }
   ],
   "source": [
    "histogram_boxplot(data, \"Salary\")"
   ]
  },
  {
   "cell_type": "markdown",
   "id": "5a6489c5",
   "metadata": {},
   "source": [
    "**Observations on Distance**"
   ]
  },
  {
   "cell_type": "code",
   "execution_count": 13,
   "id": "baf84f87",
   "metadata": {},
   "outputs": [
    {
     "data": {
      "image/png": "[encoded data removed]",
      "text/plain": [
       "<Figure size 864x504 with 2 Axes>"
      ]
     },
     "metadata": {
      "needs_background": "light"
     },
     "output_type": "display_data"
    }
   ],
   "source": [
    "histogram_boxplot(data, \"Distance\")"
   ]
  },
  {
   "cell_type": "code",
   "execution_count": null,
   "id": "c4d54b3f",
   "metadata": {},
   "outputs": [],
   "source": []
  },
  {
   "cell_type": "markdown",
   "id": "6b4fe0a4",
   "metadata": {},
   "source": [
    "**Function to create barplots that indicate percentage for each category**"
   ]
  },
  {
   "cell_type": "code",
   "execution_count": 14,
   "id": "4d7b5faf",
   "metadata": {},
   "outputs": [],
   "source": [
    "# function to create labeled barplots\n",
    "\n",
    "\n",
    "def labeled_barplot(data, feature, perc=False, n=None):\n",
    "    \"\"\"\n",
    "    Barplot with percentage at the top\n",
    "\n",
    "    data: dataframe\n",
    "    feature: dataframe column\n",
    "    perc: whether to display percentages instead of count (default is False)\n",
    "    n: displays the top n category levels (default is None, i.e., display all levels)\n",
    "    \"\"\"\n",
    "\n",
    "    total = len(data[feature])  # length of the column\n",
    "    count = data[feature].nunique()\n",
    "    if n is None:\n",
    "        plt.figure(figsize=(count + 1, 5))\n",
    "    else:\n",
    "        plt.figure(figsize=(n + 1, 5))\n",
    "\n",
    "    plt.xticks(rotation=90, fontsize=15)\n",
    "    ax = sns.countplot(\n",
    "        data=data,\n",
    "        x=feature,\n",
    "        palette=\"Paired\",\n",
    "        order=data[feature].value_counts().index[:n].sort_values(),\n",
    "    )\n",
    "\n",
    "    for p in ax.patches:\n",
    "        if perc == True:\n",
    "            label = \"{:.1f}%\".format(\n",
    "                100 * p.get_height() / total\n",
    "            )  # percentage of each class of the category\n",
    "        else:\n",
    "            label = p.get_height()  # count of each level of the category\n",
    "\n",
    "        x = p.get_x() + p.get_width() / 2  # width of the plot\n",
    "        y = p.get_height()  # height of the plot\n",
    "\n",
    "        ax.annotate(\n",
    "            label,\n",
    "            (x, y),\n",
    "            ha=\"center\",\n",
    "            va=\"center\",\n",
    "            size=12,\n",
    "            xytext=(0, 5),\n",
    "            textcoords=\"offset points\",\n",
    "        )  # annotate the percentage\n",
    "\n",
    "    plt.show()  # show the plot"
   ]
  },
  {
   "cell_type": "code",
   "execution_count": 15,
   "id": "321e09a7",
   "metadata": {},
   "outputs": [
    {
     "data": {
      "image/png": "[encoded data removed]",
      "text/plain": [
       "<Figure size 216x360 with 1 Axes>"
      ]
     },
     "metadata": {
      "needs_background": "light"
     },
     "output_type": "display_data"
    }
   ],
   "source": [
    "labeled_barplot(data, \"Gender\",perc=True)"
   ]
  },
  {
   "cell_type": "code",
   "execution_count": 16,
   "id": "c6d8e8ba",
   "metadata": {},
   "outputs": [
    {
     "data": {
      "image/png": "[encoded data removed]",
      "text/plain": [
       "<Figure size 216x360 with 1 Axes>"
      ]
     },
     "metadata": {
      "needs_background": "light"
     },
     "output_type": "display_data"
    }
   ],
   "source": [
    "labeled_barplot(data, \"Engineer\",perc=True)"
   ]
  },
  {
   "cell_type": "code",
   "execution_count": 17,
   "id": "baee834d",
   "metadata": {},
   "outputs": [
    {
     "data": {
      "image/png": "[encoded data removed]",
      "text/plain": [
       "<Figure size 216x360 with 1 Axes>"
      ]
     },
     "metadata": {
      "needs_background": "light"
     },
     "output_type": "display_data"
    }
   ],
   "source": [
    "labeled_barplot(data, \"MBA\",perc=True)"
   ]
  },
  {
   "cell_type": "code",
   "execution_count": 18,
   "id": "0938b95b",
   "metadata": {},
   "outputs": [
    {
     "data": {
      "image/png": "[encoded data removed]",
      "text/plain": [
       "<Figure size 216x360 with 1 Axes>"
      ]
     },
     "metadata": {
      "needs_background": "light"
     },
     "output_type": "display_data"
    }
   ],
   "source": [
    "labeled_barplot(data, \"license\",perc=True)"
   ]
  },
  {
   "cell_type": "code",
   "execution_count": 19,
   "id": "901ce874",
   "metadata": {},
   "outputs": [
    {
     "data": {
      "image/png": "[encoded data removed]",
      "text/plain": [
       "<Figure size 216x360 with 1 Axes>"
      ]
     },
     "metadata": {
      "needs_background": "light"
     },
     "output_type": "display_data"
    }
   ],
   "source": [
    "labeled_barplot(data, \"Opt_service\",perc=True)"
   ]
  },
  {
   "cell_type": "markdown",
   "id": "20dcf246",
   "metadata": {},
   "source": [
    "### Bivariate analysis"
   ]
  },
  {
   "cell_type": "code",
   "execution_count": 20,
   "id": "e81b181d",
   "metadata": {},
   "outputs": [
    {
     "data": {
      "image/png": "[encoded data removed]",
      "text/plain": [
       "<Figure size 1152x720 with 1 Axes>"
      ]
     },
     "metadata": {},
     "output_type": "display_data"
    }
   ],
   "source": [
    "sns.set(rc={'figure.figsize':(16,10)})\n",
    "sns.heatmap(data.corr(),\n",
    "            annot=True,\n",
    "            linewidths=.5,\n",
    "            center=0,\n",
    "            cbar=False,\n",
    "            cmap=\"Spectral\")\n",
    "plt.show()"
   ]
  },
  {
   "cell_type": "code",
   "execution_count": 22,
   "id": "6ba75357",
   "metadata": {},
   "outputs": [],
   "source": [
    "replaceStruct = {\"Gender\": {\"Female\": 0, \"Male\": 1 } }\n",
    "oneHotCols=[\"Gender\"]"
   ]
  },
  {
   "cell_type": "code",
   "execution_count": 23,
   "id": "04552cec",
   "metadata": {},
   "outputs": [
    {
     "data": {
      "text/html": [
       "<div>\n",
       "<style scoped>\n",
       "    .dataframe tbody tr th:only-of-type {\n",
       "        vertical-align: middle;\n",
       "    }\n",
       "\n",
       "    .dataframe tbody tr th {\n",
       "        vertical-align: top;\n",
       "    }\n",
       "\n",
       "    .dataframe thead th {\n",
       "        text-align: right;\n",
       "    }\n",
       "</style>\n",
       "<table border=\"1\" class=\"dataframe\">\n",
       "  <thead>\n",
       "    <tr style=\"text-align: right;\">\n",
       "      <th></th>\n",
       "      <th>Age</th>\n",
       "      <th>Engineer</th>\n",
       "      <th>MBA</th>\n",
       "      <th>Work Exp</th>\n",
       "      <th>Salary</th>\n",
       "      <th>Distance</th>\n",
       "      <th>license</th>\n",
       "      <th>Opt_service</th>\n",
       "      <th>Gender_Female</th>\n",
       "      <th>Gender_Male</th>\n",
       "    </tr>\n",
       "  </thead>\n",
       "  <tbody>\n",
       "    <tr>\n",
       "      <th>0</th>\n",
       "      <td>28</td>\n",
       "      <td>1</td>\n",
       "      <td>0</td>\n",
       "      <td>5</td>\n",
       "      <td>14.4</td>\n",
       "      <td>5.1</td>\n",
       "      <td>0</td>\n",
       "      <td>0</td>\n",
       "      <td>0</td>\n",
       "      <td>1</td>\n",
       "    </tr>\n",
       "    <tr>\n",
       "      <th>1</th>\n",
       "      <td>24</td>\n",
       "      <td>1</td>\n",
       "      <td>0</td>\n",
       "      <td>6</td>\n",
       "      <td>10.6</td>\n",
       "      <td>6.1</td>\n",
       "      <td>0</td>\n",
       "      <td>0</td>\n",
       "      <td>0</td>\n",
       "      <td>1</td>\n",
       "    </tr>\n",
       "    <tr>\n",
       "      <th>2</th>\n",
       "      <td>27</td>\n",
       "      <td>1</td>\n",
       "      <td>0</td>\n",
       "      <td>9</td>\n",
       "      <td>15.5</td>\n",
       "      <td>6.1</td>\n",
       "      <td>0</td>\n",
       "      <td>0</td>\n",
       "      <td>1</td>\n",
       "      <td>0</td>\n",
       "    </tr>\n",
       "    <tr>\n",
       "      <th>3</th>\n",
       "      <td>25</td>\n",
       "      <td>0</td>\n",
       "      <td>0</td>\n",
       "      <td>1</td>\n",
       "      <td>7.6</td>\n",
       "      <td>6.3</td>\n",
       "      <td>0</td>\n",
       "      <td>0</td>\n",
       "      <td>0</td>\n",
       "      <td>1</td>\n",
       "    </tr>\n",
       "    <tr>\n",
       "      <th>4</th>\n",
       "      <td>25</td>\n",
       "      <td>0</td>\n",
       "      <td>0</td>\n",
       "      <td>3</td>\n",
       "      <td>9.6</td>\n",
       "      <td>6.7</td>\n",
       "      <td>0</td>\n",
       "      <td>0</td>\n",
       "      <td>1</td>\n",
       "      <td>0</td>\n",
       "    </tr>\n",
       "    <tr>\n",
       "      <th>5</th>\n",
       "      <td>21</td>\n",
       "      <td>0</td>\n",
       "      <td>0</td>\n",
       "      <td>3</td>\n",
       "      <td>9.5</td>\n",
       "      <td>7.1</td>\n",
       "      <td>0</td>\n",
       "      <td>0</td>\n",
       "      <td>0</td>\n",
       "      <td>1</td>\n",
       "    </tr>\n",
       "    <tr>\n",
       "      <th>6</th>\n",
       "      <td>23</td>\n",
       "      <td>1</td>\n",
       "      <td>1</td>\n",
       "      <td>3</td>\n",
       "      <td>11.7</td>\n",
       "      <td>7.2</td>\n",
       "      <td>0</td>\n",
       "      <td>0</td>\n",
       "      <td>0</td>\n",
       "      <td>1</td>\n",
       "    </tr>\n",
       "    <tr>\n",
       "      <th>7</th>\n",
       "      <td>23</td>\n",
       "      <td>0</td>\n",
       "      <td>0</td>\n",
       "      <td>0</td>\n",
       "      <td>6.5</td>\n",
       "      <td>7.3</td>\n",
       "      <td>0</td>\n",
       "      <td>0</td>\n",
       "      <td>0</td>\n",
       "      <td>1</td>\n",
       "    </tr>\n",
       "    <tr>\n",
       "      <th>8</th>\n",
       "      <td>24</td>\n",
       "      <td>1</td>\n",
       "      <td>0</td>\n",
       "      <td>4</td>\n",
       "      <td>8.5</td>\n",
       "      <td>7.5</td>\n",
       "      <td>0</td>\n",
       "      <td>0</td>\n",
       "      <td>0</td>\n",
       "      <td>1</td>\n",
       "    </tr>\n",
       "    <tr>\n",
       "      <th>9</th>\n",
       "      <td>28</td>\n",
       "      <td>1</td>\n",
       "      <td>0</td>\n",
       "      <td>6</td>\n",
       "      <td>13.7</td>\n",
       "      <td>7.5</td>\n",
       "      <td>1</td>\n",
       "      <td>0</td>\n",
       "      <td>0</td>\n",
       "      <td>1</td>\n",
       "    </tr>\n",
       "  </tbody>\n",
       "</table>\n",
       "</div>"
      ],
      "text/plain": [
       "   Age  Engineer  MBA  Work Exp  Salary  Distance  license  Opt_service  \\\n",
       "0   28         1    0         5    14.4       5.1        0            0   \n",
       "1   24         1    0         6    10.6       6.1        0            0   \n",
       "2   27         1    0         9    15.5       6.1        0            0   \n",
       "3   25         0    0         1     7.6       6.3        0            0   \n",
       "4   25         0    0         3     9.6       6.7        0            0   \n",
       "5   21         0    0         3     9.5       7.1        0            0   \n",
       "6   23         1    1         3    11.7       7.2        0            0   \n",
       "7   23         0    0         0     6.5       7.3        0            0   \n",
       "8   24         1    0         4     8.5       7.5        0            0   \n",
       "9   28         1    0         6    13.7       7.5        1            0   \n",
       "\n",
       "   Gender_Female  Gender_Male  \n",
       "0              0            1  \n",
       "1              0            1  \n",
       "2              1            0  \n",
       "3              0            1  \n",
       "4              1            0  \n",
       "5              0            1  \n",
       "6              0            1  \n",
       "7              0            1  \n",
       "8              0            1  \n",
       "9              0            1  "
      ]
     },
     "execution_count": 23,
     "metadata": {},
     "output_type": "execute_result"
    }
   ],
   "source": [
    "# data=data.replace(replaceStruct)\n",
    "data=pd.get_dummies(data, columns=oneHotCols)\n",
    "data.head(10)"
   ]
  },
  {
   "cell_type": "markdown",
   "id": "48e53062",
   "metadata": {},
   "source": [
    "## Split the dataset"
   ]
  },
  {
   "cell_type": "code",
   "execution_count": 24,
   "id": "47edbe6d",
   "metadata": {},
   "outputs": [],
   "source": [
    "# Separating features and the target column\n",
    "X = data.drop('Opt_service', axis=1)\n",
    "y = data['Opt_service']"
   ]
  },
  {
   "cell_type": "code",
   "execution_count": 25,
   "id": "7b089561",
   "metadata": {},
   "outputs": [],
   "source": [
    "# Splitting the data into train and test sets in 70:30 ratio\n",
    "X_train, X_test, y_train, y_test = train_test_split(X, y, test_size=0.30, random_state=1, shuffle=True)"
   ]
  },
  {
   "cell_type": "code",
   "execution_count": 26,
   "id": "7c790f54",
   "metadata": {},
   "outputs": [
    {
     "data": {
      "text/plain": [
       "((292, 9), (126, 9))"
      ]
     },
     "execution_count": 26,
     "metadata": {},
     "output_type": "execute_result"
    }
   ],
   "source": [
    "X_train.shape, X_test.shape"
   ]
  },
  {
   "cell_type": "code",
   "execution_count": 28,
   "id": "0944110e",
   "metadata": {},
   "outputs": [
    {
     "data": {
      "text/plain": [
       "0    0.912698\n",
       "1    0.087302\n",
       "Name: Opt_service, dtype: float64"
      ]
     },
     "execution_count": 28,
     "metadata": {},
     "output_type": "execute_result"
    }
   ],
   "source": [
    "y_test.value_counts(1)"
   ]
  },
  {
   "cell_type": "markdown",
   "id": "4d600ab1",
   "metadata": {},
   "source": [
    "**We will use the same functions, created in bagging hands-on lecture, to calculate different metrics and plot the confusion matrix.**"
   ]
  },
  {
   "cell_type": "code",
   "execution_count": 29,
   "id": "603f35f2",
   "metadata": {},
   "outputs": [],
   "source": [
    "## Function to create confusion matrix\n",
    "def make_confusion_matrix(model,y_actual,labels=[1, 0]):\n",
    "    '''\n",
    "    model : classifier to predict values of X\n",
    "    y_actual : ground truth  \n",
    "    \n",
    "    '''\n",
    "    y_predict = model.predict(X_test)\n",
    "    cm=metrics.confusion_matrix( y_actual, y_predict, labels=[0, 1])\n",
    "    df_cm = pd.DataFrame(cm, index = [i for i in [\"Actual - No\",\"Actual - Yes\"]],\n",
    "                  columns = [i for i in ['Predicted - No','Predicted - Yes']])\n",
    "    group_counts = [\"{0:0.0f}\".format(value) for value in\n",
    "                cm.flatten()]\n",
    "    group_percentages = [\"{0:.2%}\".format(value) for value in\n",
    "                         cm.flatten()/np.sum(cm)]\n",
    "    labels = [f\"{v1}\\n{v2}\" for v1, v2 in\n",
    "              zip(group_counts,group_percentages)]\n",
    "    labels = np.asarray(labels).reshape(2,2)\n",
    "    plt.figure(figsize = (10,7))\n",
    "    sns.heatmap(df_cm, annot=labels,fmt='')\n",
    "    plt.ylabel('True label')\n",
    "    plt.xlabel('Predicted label')"
   ]
  },
  {
   "cell_type": "code",
   "execution_count": 47,
   "id": "1c9fade6",
   "metadata": {},
   "outputs": [],
   "source": [
    "def confusion_matrix_sklearn(model, predictors, target):\n",
    "    \"\"\"\n",
    "    To plot the confusion_matrix with percentages\n",
    "\n",
    "    model: classifier\n",
    "    predictors: independent variables\n",
    "    target: dependent variable\n",
    "    \"\"\"\n",
    "    y_pred = model.predict(predictors)\n",
    "    cm = confusion_matrix(target, y_pred)\n",
    "    labels = np.asarray(\n",
    "        [\n",
    "            [\"{0:0.0f}\".format(item) + \"\\n{0:.2%}\".format(item / cm.flatten().sum())]\n",
    "            for item in cm.flatten()\n",
    "        ]\n",
    "    ).reshape(2, 2)\n",
    "\n",
    "    plt.figure(figsize=(6, 4))\n",
    "    sns.heatmap(cm, annot=labels, fmt=\"\")\n",
    "    plt.ylabel(\"True label\")\n",
    "    plt.xlabel(\"Predicted label\")"
   ]
  },
  {
   "cell_type": "code",
   "execution_count": 37,
   "id": "258b8690",
   "metadata": {},
   "outputs": [],
   "source": [
    "# defining a function to compute different metrics to check performance of a classification model built using sklearn\n",
    "def model_performance_classification_sklearn(model, predictors, target):\n",
    "    \"\"\"\n",
    "    Function to compute different metrics to check classification model performance\n",
    "\n",
    "    model: classifier\n",
    "    predictors: independent variables\n",
    "    target: dependent variable\n",
    "    \"\"\"\n",
    "\n",
    "    # predicting using the independent variables\n",
    "    pred = model.predict(predictors)\n",
    "\n",
    "    acc = accuracy_score(target, pred)  # to compute Accuracy\n",
    "    recall = recall_score(target, pred)  # to compute Recall\n",
    "    precision = precision_score(target, pred)  # to compute Precision\n",
    "    f1 = f1_score(target, pred)  # to compute F1-score\n",
    "\n",
    "    # creating a dataframe of metrics\n",
    "    df_perf = pd.DataFrame(\n",
    "        {\n",
    "            \"Accuracy\": acc,\n",
    "            \"Recall\": recall,\n",
    "            \"Precision\": precision,\n",
    "            \"F1\": f1,\n",
    "        },\n",
    "        index=[0],\n",
    "    )\n",
    "\n",
    "    return df_perf"
   ]
  },
  {
   "cell_type": "code",
   "execution_count": 30,
   "id": "6dc663ef",
   "metadata": {},
   "outputs": [],
   "source": [
    "##  Function to calculate different metric scores of the model - Accuracy, Recall and Precision\n",
    "def get_metrics_score(model,flag=True):\n",
    "    '''\n",
    "    model : classifier to predict values of X\n",
    "\n",
    "    '''\n",
    "    # defining an empty list to store train and test results\n",
    "    score_list=[] \n",
    "    \n",
    "    pred_train = model.predict(X_train)\n",
    "    pred_test = model.predict(X_test)\n",
    "    \n",
    "    train_acc = model.score(X_train,y_train)\n",
    "    test_acc = model.score(X_test,y_test)\n",
    "    \n",
    "    train_recall = metrics.recall_score(y_train,pred_train)\n",
    "    test_recall = metrics.recall_score(y_test,pred_test)\n",
    "    \n",
    "    train_precision = metrics.precision_score(y_train,pred_train)\n",
    "    test_precision = metrics.precision_score(y_test,pred_test)\n",
    "    \n",
    "    score_list.extend((train_acc,test_acc,train_recall,test_recall,train_precision,test_precision))\n",
    "        \n",
    "    # If the flag is set to True then only the following print statements will be dispayed. The default value is set to True.\n",
    "    if flag == True: \n",
    "        print(\"Accuracy on training set : \",model.score(X_train,y_train))\n",
    "        print(\"Accuracy on test set : \",model.score(X_test,y_test))\n",
    "        print(\"Recall on training set : \",metrics.recall_score(y_train,pred_train))\n",
    "        print(\"Recall on test set : \",metrics.recall_score(y_test,pred_test))\n",
    "        print(\"Precision on training set : \",metrics.precision_score(y_train,pred_train))\n",
    "        print(\"Precision on test set : \",metrics.precision_score(y_test,pred_test))\n",
    "    \n",
    "    return score_list # returning the list with train and test scores"
   ]
  },
  {
   "cell_type": "markdown",
   "id": "da38bba8",
   "metadata": {},
   "source": [
    "## Building the model\n",
    "- We are going to build 2 ensemble models here - Bagging Classifier and Random Forest Classifier.\n",
    "- First, let's build these models with default parameters and then use hyperparameter tuning to optimize the model performance.\n",
    "- We will calculate all three metrics - Accuracy, Precision and Recall but the metric of interest here is recall.\n",
    "- `Recall` - It gives the ratio of True positives to Actual positives, so high Recall implies low false negatives, i.e. low chances of predicting a defaulter as non defaulter"
   ]
  },
  {
   "cell_type": "markdown",
   "id": "9bc6a3bf",
   "metadata": {},
   "source": [
    "### Bagging Classifier"
   ]
  },
  {
   "cell_type": "code",
   "execution_count": 31,
   "id": "ad0ceaa3",
   "metadata": {},
   "outputs": [
    {
     "data": {
      "text/plain": [
       "BaggingClassifier(random_state=1)"
      ]
     },
     "execution_count": 31,
     "metadata": {},
     "output_type": "execute_result"
    }
   ],
   "source": [
    "#base_estimator for bagging classifier is a decision tree by default\n",
    "bagging_estimator=BaggingClassifier(random_state=1)\n",
    "bagging_estimator.fit(X_train,y_train)"
   ]
  },
  {
   "cell_type": "code",
   "execution_count": 32,
   "id": "8af3dd3a",
   "metadata": {},
   "outputs": [
    {
     "name": "stdout",
     "output_type": "stream",
     "text": [
      "Accuracy on training set :  1.0\n",
      "Accuracy on test set :  0.9761904761904762\n",
      "Recall on training set :  1.0\n",
      "Recall on test set :  1.0\n",
      "Precision on training set :  1.0\n",
      "Precision on test set :  0.7857142857142857\n"
     ]
    }
   ],
   "source": [
    "#Using above defined function to get accuracy, recall and precision on train and test set\n",
    "bagging_estimator_score=get_metrics_score(bagging_estimator)"
   ]
  },
  {
   "cell_type": "code",
   "execution_count": 40,
   "id": "57484d2f",
   "metadata": {},
   "outputs": [
    {
     "data": {
      "text/html": [
       "<div>\n",
       "<style scoped>\n",
       "    .dataframe tbody tr th:only-of-type {\n",
       "        vertical-align: middle;\n",
       "    }\n",
       "\n",
       "    .dataframe tbody tr th {\n",
       "        vertical-align: top;\n",
       "    }\n",
       "\n",
       "    .dataframe thead th {\n",
       "        text-align: right;\n",
       "    }\n",
       "</style>\n",
       "<table border=\"1\" class=\"dataframe\">\n",
       "  <thead>\n",
       "    <tr style=\"text-align: right;\">\n",
       "      <th></th>\n",
       "      <th>Accuracy</th>\n",
       "      <th>Recall</th>\n",
       "      <th>Precision</th>\n",
       "      <th>F1</th>\n",
       "    </tr>\n",
       "  </thead>\n",
       "  <tbody>\n",
       "    <tr>\n",
       "      <th>0</th>\n",
       "      <td>1.0</td>\n",
       "      <td>1.0</td>\n",
       "      <td>1.0</td>\n",
       "      <td>1.0</td>\n",
       "    </tr>\n",
       "  </tbody>\n",
       "</table>\n",
       "</div>"
      ],
      "text/plain": [
       "   Accuracy  Recall  Precision   F1\n",
       "0       1.0     1.0        1.0  1.0"
      ]
     },
     "execution_count": 40,
     "metadata": {},
     "output_type": "execute_result"
    }
   ],
   "source": [
    "model_performance_classification_sklearn(bagging_estimator, X_train, y_train)"
   ]
  },
  {
   "cell_type": "code",
   "execution_count": 33,
   "id": "ed2415c8",
   "metadata": {},
   "outputs": [
    {
     "data": {
      "image/png": "[encoded data removed]",
      "text/plain": [
       "<Figure size 720x504 with 2 Axes>"
      ]
     },
     "metadata": {},
     "output_type": "display_data"
    }
   ],
   "source": [
    "make_confusion_matrix(bagging_estimator,y_test)"
   ]
  },
  {
   "cell_type": "markdown",
   "id": "69cc09d4",
   "metadata": {},
   "source": [
    "## Build Decision Tree Model"
   ]
  },
  {
   "cell_type": "markdown",
   "id": "2fc581f8",
   "metadata": {},
   "source": [
    "* We will build our model using the DecisionTreeClassifier function. Using default 'gini' criteria to split. \n",
    "* If the frequency of class A is 10% and the frequency of class B is 90%, then class B will become the dominant class and the decision tree will become biased toward the dominant classes.\n",
    "\n",
    "* In this case, we can pass a dictionary {0:0.17,1:0.83} to the model to specify the weight of each class and the decision tree will give more weightage to class 1.\n",
    "\n",
    "* class_weight is a hyperparameter for the decision tree classifier."
   ]
  },
  {
   "cell_type": "code",
   "execution_count": null,
   "id": "c898a816",
   "metadata": {},
   "outputs": [],
   "source": [
    "dtree = DecisionTreeClassifier(criterion='gini',random_state=1)"
   ]
  },
  {
   "cell_type": "code",
   "execution_count": null,
   "id": "1dab1322",
   "metadata": {},
   "outputs": [],
   "source": [
    "dtree.fit(X_train, y_train)"
   ]
  },
  {
   "cell_type": "code",
   "execution_count": 53,
   "id": "6e6603bb",
   "metadata": {},
   "outputs": [
    {
     "data": {
      "text/plain": [
       "DecisionTreeClassifier(class_weight={0: 0.08, 1: 0.92}, max_depth=1,\n",
       "                       max_leaf_nodes=2, random_state=1)"
      ]
     },
     "execution_count": 53,
     "metadata": {},
     "output_type": "execute_result"
    }
   ],
   "source": [
    "# Choose the type of classifier. \n",
    "dtree_estimator = DecisionTreeClassifier(class_weight={0:0.08,1:0.92},random_state=1)\n",
    "\n",
    "# Grid of parameters to choose from\n",
    "parameters = {'max_depth': np.arange(1,5), \n",
    "              'min_samples_leaf': [1, 2, 5, 7, 10],\n",
    "              'max_leaf_nodes' : [2, 3, 5, 10,15]\n",
    "             }\n",
    "# Type of scoring used to compare parameter combinations\n",
    "scorer = metrics.make_scorer(metrics.recall_score)\n",
    "\n",
    "# Run the grid search\n",
    "grid_obj = GridSearchCV(dtree_estimator, parameters, scoring=scorer)\n",
    "grid_result = grid_obj.fit(X_train, y_train)\n",
    "\n",
    "# Set the clf to the best combination of parameters\n",
    "dtree_estimator = grid_result.best_estimator_\n",
    "\n",
    "# Fit the best algorithm to the data. \n",
    "dtree_estimator.fit(X_train, y_train)"
   ]
  },
  {
   "cell_type": "code",
   "execution_count": 48,
   "id": "59d75b54",
   "metadata": {},
   "outputs": [
    {
     "data": {
      "image/png": "[encoded data removed]",
      "text/plain": [
       "<Figure size 432x288 with 2 Axes>"
      ]
     },
     "metadata": {
      "needs_background": "light"
     },
     "output_type": "display_data"
    }
   ],
   "source": [
    "confusion_matrix_sklearn(dtree_estimator, X_test,y_test)"
   ]
  },
  {
   "cell_type": "code",
   "execution_count": 50,
   "id": "d60a1555",
   "metadata": {},
   "outputs": [
    {
     "name": "stdout",
     "output_type": "stream",
     "text": [
      "Training performance \n",
      "    Accuracy  Recall  Precision        F1\n",
      "0  0.928082     1.0   0.533333  0.695652\n"
     ]
    }
   ],
   "source": [
    "dtree_estimator_model_train_perf=model_performance_classification_sklearn(dtree_estimator, X_train,y_train)\n",
    "print(\"Training performance \\n\",dtree_estimator_model_train_perf)"
   ]
  },
  {
   "cell_type": "code",
   "execution_count": 51,
   "id": "e97f802c",
   "metadata": {},
   "outputs": [
    {
     "name": "stdout",
     "output_type": "stream",
     "text": [
      "Testing performance \n",
      "    Accuracy  Recall  Precision        F1\n",
      "0  0.952381     1.0   0.647059  0.785714\n"
     ]
    }
   ],
   "source": [
    "dtree_estimator_model_test_perf=model_performance_classification_sklearn(dtree_estimator, X_test, y_test)\n",
    "print(\"Testing performance \\n\",dtree_estimator_model_test_perf)"
   ]
  },
  {
   "cell_type": "code",
   "execution_count": 55,
   "id": "acd7cca4",
   "metadata": {},
   "outputs": [
    {
     "data": {
      "text/plain": [
       "{'mean_fit_time': array([0.0035862 , 0.00445561, 0.00372767, 0.00233741, 0.00250826,\n",
       "        0.00228705, 0.00238481, 0.00232682, 0.00225949, 0.00237432,\n",
       "        0.00367746, 0.00316544, 0.00281639, 0.00229645, 0.00234356,\n",
       "        0.00229816, 0.00231843, 0.00204625, 0.00219731, 0.00215268,\n",
       "        0.00244527, 0.00209508, 0.00202746, 0.00204287, 0.00196319,\n",
       "        0.00210066, 0.0019917 , 0.00193901, 0.0020628 , 0.00194554,\n",
       "        0.00200181, 0.0019969 , 0.00202971, 0.00204477, 0.00206199,\n",
       "        0.00196009, 0.00201898, 0.0019752 , 0.00202579, 0.00212359,\n",
       "        0.00199142, 0.00200491, 0.0019464 , 0.00198026, 0.00212116,\n",
       "        0.00205989, 0.00217185, 0.00235462, 0.0023839 , 0.00214987,\n",
       "        0.00211639, 0.00201588, 0.00201349, 0.00199637, 0.0019598 ,\n",
       "        0.00213418, 0.00212116, 0.00237503, 0.00237975, 0.00207582,\n",
       "        0.00199089, 0.00198617, 0.00204773, 0.00266838, 0.00345082,\n",
       "        0.00306168, 0.00270567, 0.00265479, 0.00247898, 0.00229778,\n",
       "        0.00209341, 0.00238166, 0.00257559, 0.0025454 , 0.00249357,\n",
       "        0.00253596, 0.00262828, 0.0025424 , 0.00261703, 0.00250316,\n",
       "        0.00247779, 0.00259514, 0.00257101, 0.00253162, 0.00251422,\n",
       "        0.002566  , 0.00251641, 0.00259409, 0.00259733, 0.00247359,\n",
       "        0.00269065, 0.0026093 , 0.00254455, 0.00257039, 0.00259066,\n",
       "        0.00249763, 0.002526  , 0.00260253, 0.00245056, 0.00237956]),\n",
       " 'std_fit_time': array([3.90610104e-04, 9.24308918e-04, 1.01582679e-03, 6.74820445e-05,\n",
       "        2.23659990e-04, 3.32340790e-05, 2.38489169e-04, 4.85416011e-05,\n",
       "        9.28198773e-05, 9.88179407e-05, 4.48721415e-04, 1.25426157e-04,\n",
       "        4.53356233e-04, 6.98041393e-06, 5.17394905e-05, 9.68742540e-06,\n",
       "        5.38831053e-05, 2.26136472e-05, 7.30864600e-05, 8.79920258e-05,\n",
       "        2.22971288e-04, 9.54985433e-05, 5.82538902e-05, 6.22920908e-05,\n",
       "        5.93909055e-05, 1.95639400e-04, 5.11658492e-05, 2.63369556e-05,\n",
       "        1.00513948e-04, 4.06777033e-05, 5.00947789e-05, 9.28547289e-05,\n",
       "        1.50343089e-04, 1.78826052e-04, 9.45122764e-05, 4.21431799e-05,\n",
       "        8.14902566e-05, 6.30727057e-05, 7.98092652e-05, 1.51754278e-04,\n",
       "        6.02701419e-05, 9.89020961e-05, 5.77425976e-06, 4.46117796e-05,\n",
       "        2.76577777e-04, 4.25795558e-05, 2.09741723e-04, 3.92566135e-04,\n",
       "        1.51267703e-04, 1.21932902e-04, 6.71273257e-05, 3.05887971e-05,\n",
       "        1.54033489e-04, 6.63730262e-05, 3.50972880e-05, 1.21449460e-04,\n",
       "        1.60672854e-04, 3.21839953e-04, 2.21538903e-04, 3.48386900e-05,\n",
       "        4.26588340e-05, 1.27403679e-04, 1.44742299e-04, 7.18389766e-04,\n",
       "        8.29931305e-04, 3.87844601e-04, 2.53617156e-04, 2.87401508e-04,\n",
       "        1.60854752e-04, 4.63535263e-05, 4.56700979e-05, 4.88685849e-04,\n",
       "        2.57679085e-04, 2.31364681e-04, 1.55755586e-04, 2.24897181e-04,\n",
       "        3.29006388e-04, 1.90469712e-04, 3.43393100e-04, 1.77907362e-04,\n",
       "        2.05425831e-04, 2.82384535e-04, 2.02938589e-04, 3.53856662e-04,\n",
       "        1.92514970e-04, 2.40031205e-04, 1.94152645e-04, 3.06687878e-04,\n",
       "        3.02251462e-04, 1.49676822e-04, 3.81262741e-04, 1.62420452e-04,\n",
       "        2.34270761e-04, 2.01216919e-04, 2.41689795e-04, 1.93555797e-04,\n",
       "        1.40603779e-04, 3.00390849e-04, 1.45708328e-04, 1.80961090e-04]),\n",
       " 'mean_score_time': array([0.00290694, 0.00345259, 0.00277057, 0.00196571, 0.00195951,\n",
       "        0.00185986, 0.0019381 , 0.00188494, 0.00189252, 0.0018815 ,\n",
       "        0.00311441, 0.00249338, 0.00211296, 0.00188441, 0.00190101,\n",
       "        0.00188441, 0.00187016, 0.00168138, 0.00176253, 0.00186644,\n",
       "        0.00193472, 0.00178614, 0.00167894, 0.00167308, 0.00162063,\n",
       "        0.00164752, 0.00162554, 0.00166373, 0.0016428 , 0.00158815,\n",
       "        0.00159774, 0.00170612, 0.00159564, 0.00162754, 0.0016645 ,\n",
       "        0.00162373, 0.00157528, 0.0016542 , 0.00173659, 0.00167317,\n",
       "        0.00161309, 0.00162206, 0.00161114, 0.00162292, 0.00169325,\n",
       "        0.00167351, 0.00181131, 0.00192256, 0.00193024, 0.0017221 ,\n",
       "        0.00182424, 0.00165839, 0.00166144, 0.00159607, 0.00159216,\n",
       "        0.00172091, 0.001687  , 0.0022893 , 0.00192895, 0.00168018,\n",
       "        0.00163598, 0.00160542, 0.00157943, 0.00240722, 0.00229445,\n",
       "        0.00238233, 0.0021307 , 0.00215521, 0.00206361, 0.00184755,\n",
       "        0.00172062, 0.00191321, 0.00204115, 0.00202818, 0.00212421,\n",
       "        0.00202003, 0.00202346, 0.00214424, 0.00206332, 0.00206556,\n",
       "        0.00208254, 0.00212855, 0.00198674, 0.00207   , 0.00210466,\n",
       "        0.00196743, 0.00218077, 0.00208683, 0.00201283, 0.00210462,\n",
       "        0.00205221, 0.00197458, 0.00204291, 0.00203424, 0.00201106,\n",
       "        0.00203142, 0.00208192, 0.00198331, 0.00217142, 0.00186467]),\n",
       " 'std_score_time': array([4.32659992e-04, 7.26810807e-04, 7.35267971e-04, 1.87592453e-04,\n",
       "        4.71378072e-05, 8.50375939e-06, 1.29517873e-04, 1.75486440e-05,\n",
       "        1.02353449e-04, 7.10456323e-05, 7.00532055e-04, 1.38001238e-04,\n",
       "        2.57250646e-04, 7.59414637e-06, 3.17784689e-05, 9.71086804e-06,\n",
       "        3.10043172e-05, 2.14419837e-05, 1.10956083e-04, 4.06244399e-04,\n",
       "        2.41922166e-04, 1.75678134e-04, 1.15136872e-04, 1.09379688e-04,\n",
       "        7.19102371e-05, 3.79025257e-05, 4.00645379e-05, 1.41366689e-04,\n",
       "        3.58997266e-05, 1.26747227e-05, 1.94170527e-05, 1.38893178e-04,\n",
       "        3.35439266e-05, 4.76852894e-05, 5.98765086e-05, 6.70136227e-05,\n",
       "        3.42991457e-06, 1.32374787e-04, 2.38370290e-04, 1.43562040e-05,\n",
       "        4.52923518e-05, 4.08314631e-05, 3.09560979e-05, 3.88164192e-05,\n",
       "        8.45019487e-05, 7.04127851e-05, 2.88059352e-04, 2.64785549e-04,\n",
       "        1.38988666e-04, 3.53815099e-05, 2.75618502e-04, 1.12894659e-05,\n",
       "        1.30075164e-04, 3.48089819e-05, 2.53464854e-05, 9.08516825e-05,\n",
       "        7.54100139e-05, 7.08834547e-04, 1.88630452e-04, 2.58986235e-05,\n",
       "        1.33112524e-04, 8.68509634e-05, 1.77666479e-05, 5.97167936e-04,\n",
       "        2.38368821e-04, 2.90585026e-04, 1.92053552e-04, 2.50281173e-04,\n",
       "        1.72423064e-04, 5.19775250e-05, 8.87299527e-05, 4.03176958e-04,\n",
       "        2.61312784e-04, 1.89064905e-04, 2.76342894e-04, 1.78069447e-04,\n",
       "        1.69768092e-04, 2.91360092e-04, 1.87793669e-04, 3.00222469e-04,\n",
       "        2.03241254e-04, 2.45410691e-04, 1.10494910e-04, 2.26777075e-04,\n",
       "        2.54392628e-04, 1.00885379e-04, 3.33180471e-04, 1.90268925e-04,\n",
       "        2.05417861e-04, 2.38481065e-04, 1.63618846e-04, 1.41381936e-04,\n",
       "        1.63564988e-04, 1.62938781e-04, 1.69718731e-04, 1.85059487e-04,\n",
       "        2.08847457e-04, 1.49303006e-04, 3.41841815e-04, 4.66548061e-05]),\n",
       " 'param_max_depth': masked_array(data=[1, 1, 1, 1, 1, 1, 1, 1, 1, 1, 1, 1, 1, 1, 1, 1, 1, 1,\n",
       "                    1, 1, 1, 1, 1, 1, 1, 2, 2, 2, 2, 2, 2, 2, 2, 2, 2, 2,\n",
       "                    2, 2, 2, 2, 2, 2, 2, 2, 2, 2, 2, 2, 2, 2, 3, 3, 3, 3,\n",
       "                    3, 3, 3, 3, 3, 3, 3, 3, 3, 3, 3, 3, 3, 3, 3, 3, 3, 3,\n",
       "                    3, 3, 3, 4, 4, 4, 4, 4, 4, 4, 4, 4, 4, 4, 4, 4, 4, 4,\n",
       "                    4, 4, 4, 4, 4, 4, 4, 4, 4, 4],\n",
       "              mask=[False, False, False, False, False, False, False, False,\n",
       "                    False, False, False, False, False, False, False, False,\n",
       "                    False, False, False, False, False, False, False, False,\n",
       "                    False, False, False, False, False, False, False, False,\n",
       "                    False, False, False, False, False, False, False, False,\n",
       "                    False, False, False, False, False, False, False, False,\n",
       "                    False, False, False, False, False, False, False, False,\n",
       "                    False, False, False, False, False, False, False, False,\n",
       "                    False, False, False, False, False, False, False, False,\n",
       "                    False, False, False, False, False, False, False, False,\n",
       "                    False, False, False, False, False, False, False, False,\n",
       "                    False, False, False, False, False, False, False, False,\n",
       "                    False, False, False, False],\n",
       "        fill_value='?',\n",
       "             dtype=object),\n",
       " 'param_max_leaf_nodes': masked_array(data=[2, 2, 2, 2, 2, 3, 3, 3, 3, 3, 5, 5, 5, 5, 5, 10, 10,\n",
       "                    10, 10, 10, 15, 15, 15, 15, 15, 2, 2, 2, 2, 2, 3, 3, 3,\n",
       "                    3, 3, 5, 5, 5, 5, 5, 10, 10, 10, 10, 10, 15, 15, 15,\n",
       "                    15, 15, 2, 2, 2, 2, 2, 3, 3, 3, 3, 3, 5, 5, 5, 5, 5,\n",
       "                    10, 10, 10, 10, 10, 15, 15, 15, 15, 15, 2, 2, 2, 2, 2,\n",
       "                    3, 3, 3, 3, 3, 5, 5, 5, 5, 5, 10, 10, 10, 10, 10, 15,\n",
       "                    15, 15, 15, 15],\n",
       "              mask=[False, False, False, False, False, False, False, False,\n",
       "                    False, False, False, False, False, False, False, False,\n",
       "                    False, False, False, False, False, False, False, False,\n",
       "                    False, False, False, False, False, False, False, False,\n",
       "                    False, False, False, False, False, False, False, False,\n",
       "                    False, False, False, False, False, False, False, False,\n",
       "                    False, False, False, False, False, False, False, False,\n",
       "                    False, False, False, False, False, False, False, False,\n",
       "                    False, False, False, False, False, False, False, False,\n",
       "                    False, False, False, False, False, False, False, False,\n",
       "                    False, False, False, False, False, False, False, False,\n",
       "                    False, False, False, False, False, False, False, False,\n",
       "                    False, False, False, False],\n",
       "        fill_value='?',\n",
       "             dtype=object),\n",
       " 'param_min_samples_leaf': masked_array(data=[1, 2, 5, 7, 10, 1, 2, 5, 7, 10, 1, 2, 5, 7, 10, 1, 2,\n",
       "                    5, 7, 10, 1, 2, 5, 7, 10, 1, 2, 5, 7, 10, 1, 2, 5, 7,\n",
       "                    10, 1, 2, 5, 7, 10, 1, 2, 5, 7, 10, 1, 2, 5, 7, 10, 1,\n",
       "                    2, 5, 7, 10, 1, 2, 5, 7, 10, 1, 2, 5, 7, 10, 1, 2, 5,\n",
       "                    7, 10, 1, 2, 5, 7, 10, 1, 2, 5, 7, 10, 1, 2, 5, 7, 10,\n",
       "                    1, 2, 5, 7, 10, 1, 2, 5, 7, 10, 1, 2, 5, 7, 10],\n",
       "              mask=[False, False, False, False, False, False, False, False,\n",
       "                    False, False, False, False, False, False, False, False,\n",
       "                    False, False, False, False, False, False, False, False,\n",
       "                    False, False, False, False, False, False, False, False,\n",
       "                    False, False, False, False, False, False, False, False,\n",
       "                    False, False, False, False, False, False, False, False,\n",
       "                    False, False, False, False, False, False, False, False,\n",
       "                    False, False, False, False, False, False, False, False,\n",
       "                    False, False, False, False, False, False, False, False,\n",
       "                    False, False, False, False, False, False, False, False,\n",
       "                    False, False, False, False, False, False, False, False,\n",
       "                    False, False, False, False, False, False, False, False,\n",
       "                    False, False, False, False],\n",
       "        fill_value='?',\n",
       "             dtype=object),\n",
       " 'params': [{'max_depth': 1, 'max_leaf_nodes': 2, 'min_samples_leaf': 1},\n",
       "  {'max_depth': 1, 'max_leaf_nodes': 2, 'min_samples_leaf': 2},\n",
       "  {'max_depth': 1, 'max_leaf_nodes': 2, 'min_samples_leaf': 5},\n",
       "  {'max_depth': 1, 'max_leaf_nodes': 2, 'min_samples_leaf': 7},\n",
       "  {'max_depth': 1, 'max_leaf_nodes': 2, 'min_samples_leaf': 10},\n",
       "  {'max_depth': 1, 'max_leaf_nodes': 3, 'min_samples_leaf': 1},\n",
       "  {'max_depth': 1, 'max_leaf_nodes': 3, 'min_samples_leaf': 2},\n",
       "  {'max_depth': 1, 'max_leaf_nodes': 3, 'min_samples_leaf': 5},\n",
       "  {'max_depth': 1, 'max_leaf_nodes': 3, 'min_samples_leaf': 7},\n",
       "  {'max_depth': 1, 'max_leaf_nodes': 3, 'min_samples_leaf': 10},\n",
       "  {'max_depth': 1, 'max_leaf_nodes': 5, 'min_samples_leaf': 1},\n",
       "  {'max_depth': 1, 'max_leaf_nodes': 5, 'min_samples_leaf': 2},\n",
       "  {'max_depth': 1, 'max_leaf_nodes': 5, 'min_samples_leaf': 5},\n",
       "  {'max_depth': 1, 'max_leaf_nodes': 5, 'min_samples_leaf': 7},\n",
       "  {'max_depth': 1, 'max_leaf_nodes': 5, 'min_samples_leaf': 10},\n",
       "  {'max_depth': 1, 'max_leaf_nodes': 10, 'min_samples_leaf': 1},\n",
       "  {'max_depth': 1, 'max_leaf_nodes': 10, 'min_samples_leaf': 2},\n",
       "  {'max_depth': 1, 'max_leaf_nodes': 10, 'min_samples_leaf': 5},\n",
       "  {'max_depth': 1, 'max_leaf_nodes': 10, 'min_samples_leaf': 7},\n",
       "  {'max_depth': 1, 'max_leaf_nodes': 10, 'min_samples_leaf': 10},\n",
       "  {'max_depth': 1, 'max_leaf_nodes': 15, 'min_samples_leaf': 1},\n",
       "  {'max_depth': 1, 'max_leaf_nodes': 15, 'min_samples_leaf': 2},\n",
       "  {'max_depth': 1, 'max_leaf_nodes': 15, 'min_samples_leaf': 5},\n",
       "  {'max_depth': 1, 'max_leaf_nodes': 15, 'min_samples_leaf': 7},\n",
       "  {'max_depth': 1, 'max_leaf_nodes': 15, 'min_samples_leaf': 10},\n",
       "  {'max_depth': 2, 'max_leaf_nodes': 2, 'min_samples_leaf': 1},\n",
       "  {'max_depth': 2, 'max_leaf_nodes': 2, 'min_samples_leaf': 2},\n",
       "  {'max_depth': 2, 'max_leaf_nodes': 2, 'min_samples_leaf': 5},\n",
       "  {'max_depth': 2, 'max_leaf_nodes': 2, 'min_samples_leaf': 7},\n",
       "  {'max_depth': 2, 'max_leaf_nodes': 2, 'min_samples_leaf': 10},\n",
       "  {'max_depth': 2, 'max_leaf_nodes': 3, 'min_samples_leaf': 1},\n",
       "  {'max_depth': 2, 'max_leaf_nodes': 3, 'min_samples_leaf': 2},\n",
       "  {'max_depth': 2, 'max_leaf_nodes': 3, 'min_samples_leaf': 5},\n",
       "  {'max_depth': 2, 'max_leaf_nodes': 3, 'min_samples_leaf': 7},\n",
       "  {'max_depth': 2, 'max_leaf_nodes': 3, 'min_samples_leaf': 10},\n",
       "  {'max_depth': 2, 'max_leaf_nodes': 5, 'min_samples_leaf': 1},\n",
       "  {'max_depth': 2, 'max_leaf_nodes': 5, 'min_samples_leaf': 2},\n",
       "  {'max_depth': 2, 'max_leaf_nodes': 5, 'min_samples_leaf': 5},\n",
       "  {'max_depth': 2, 'max_leaf_nodes': 5, 'min_samples_leaf': 7},\n",
       "  {'max_depth': 2, 'max_leaf_nodes': 5, 'min_samples_leaf': 10},\n",
       "  {'max_depth': 2, 'max_leaf_nodes': 10, 'min_samples_leaf': 1},\n",
       "  {'max_depth': 2, 'max_leaf_nodes': 10, 'min_samples_leaf': 2},\n",
       "  {'max_depth': 2, 'max_leaf_nodes': 10, 'min_samples_leaf': 5},\n",
       "  {'max_depth': 2, 'max_leaf_nodes': 10, 'min_samples_leaf': 7},\n",
       "  {'max_depth': 2, 'max_leaf_nodes': 10, 'min_samples_leaf': 10},\n",
       "  {'max_depth': 2, 'max_leaf_nodes': 15, 'min_samples_leaf': 1},\n",
       "  {'max_depth': 2, 'max_leaf_nodes': 15, 'min_samples_leaf': 2},\n",
       "  {'max_depth': 2, 'max_leaf_nodes': 15, 'min_samples_leaf': 5},\n",
       "  {'max_depth': 2, 'max_leaf_nodes': 15, 'min_samples_leaf': 7},\n",
       "  {'max_depth': 2, 'max_leaf_nodes': 15, 'min_samples_leaf': 10},\n",
       "  {'max_depth': 3, 'max_leaf_nodes': 2, 'min_samples_leaf': 1},\n",
       "  {'max_depth': 3, 'max_leaf_nodes': 2, 'min_samples_leaf': 2},\n",
       "  {'max_depth': 3, 'max_leaf_nodes': 2, 'min_samples_leaf': 5},\n",
       "  {'max_depth': 3, 'max_leaf_nodes': 2, 'min_samples_leaf': 7},\n",
       "  {'max_depth': 3, 'max_leaf_nodes': 2, 'min_samples_leaf': 10},\n",
       "  {'max_depth': 3, 'max_leaf_nodes': 3, 'min_samples_leaf': 1},\n",
       "  {'max_depth': 3, 'max_leaf_nodes': 3, 'min_samples_leaf': 2},\n",
       "  {'max_depth': 3, 'max_leaf_nodes': 3, 'min_samples_leaf': 5},\n",
       "  {'max_depth': 3, 'max_leaf_nodes': 3, 'min_samples_leaf': 7},\n",
       "  {'max_depth': 3, 'max_leaf_nodes': 3, 'min_samples_leaf': 10},\n",
       "  {'max_depth': 3, 'max_leaf_nodes': 5, 'min_samples_leaf': 1},\n",
       "  {'max_depth': 3, 'max_leaf_nodes': 5, 'min_samples_leaf': 2},\n",
       "  {'max_depth': 3, 'max_leaf_nodes': 5, 'min_samples_leaf': 5},\n",
       "  {'max_depth': 3, 'max_leaf_nodes': 5, 'min_samples_leaf': 7},\n",
       "  {'max_depth': 3, 'max_leaf_nodes': 5, 'min_samples_leaf': 10},\n",
       "  {'max_depth': 3, 'max_leaf_nodes': 10, 'min_samples_leaf': 1},\n",
       "  {'max_depth': 3, 'max_leaf_nodes': 10, 'min_samples_leaf': 2},\n",
       "  {'max_depth': 3, 'max_leaf_nodes': 10, 'min_samples_leaf': 5},\n",
       "  {'max_depth': 3, 'max_leaf_nodes': 10, 'min_samples_leaf': 7},\n",
       "  {'max_depth': 3, 'max_leaf_nodes': 10, 'min_samples_leaf': 10},\n",
       "  {'max_depth': 3, 'max_leaf_nodes': 15, 'min_samples_leaf': 1},\n",
       "  {'max_depth': 3, 'max_leaf_nodes': 15, 'min_samples_leaf': 2},\n",
       "  {'max_depth': 3, 'max_leaf_nodes': 15, 'min_samples_leaf': 5},\n",
       "  {'max_depth': 3, 'max_leaf_nodes': 15, 'min_samples_leaf': 7},\n",
       "  {'max_depth': 3, 'max_leaf_nodes': 15, 'min_samples_leaf': 10},\n",
       "  {'max_depth': 4, 'max_leaf_nodes': 2, 'min_samples_leaf': 1},\n",
       "  {'max_depth': 4, 'max_leaf_nodes': 2, 'min_samples_leaf': 2},\n",
       "  {'max_depth': 4, 'max_leaf_nodes': 2, 'min_samples_leaf': 5},\n",
       "  {'max_depth': 4, 'max_leaf_nodes': 2, 'min_samples_leaf': 7},\n",
       "  {'max_depth': 4, 'max_leaf_nodes': 2, 'min_samples_leaf': 10},\n",
       "  {'max_depth': 4, 'max_leaf_nodes': 3, 'min_samples_leaf': 1},\n",
       "  {'max_depth': 4, 'max_leaf_nodes': 3, 'min_samples_leaf': 2},\n",
       "  {'max_depth': 4, 'max_leaf_nodes': 3, 'min_samples_leaf': 5},\n",
       "  {'max_depth': 4, 'max_leaf_nodes': 3, 'min_samples_leaf': 7},\n",
       "  {'max_depth': 4, 'max_leaf_nodes': 3, 'min_samples_leaf': 10},\n",
       "  {'max_depth': 4, 'max_leaf_nodes': 5, 'min_samples_leaf': 1},\n",
       "  {'max_depth': 4, 'max_leaf_nodes': 5, 'min_samples_leaf': 2},\n",
       "  {'max_depth': 4, 'max_leaf_nodes': 5, 'min_samples_leaf': 5},\n",
       "  {'max_depth': 4, 'max_leaf_nodes': 5, 'min_samples_leaf': 7},\n",
       "  {'max_depth': 4, 'max_leaf_nodes': 5, 'min_samples_leaf': 10},\n",
       "  {'max_depth': 4, 'max_leaf_nodes': 10, 'min_samples_leaf': 1},\n",
       "  {'max_depth': 4, 'max_leaf_nodes': 10, 'min_samples_leaf': 2},\n",
       "  {'max_depth': 4, 'max_leaf_nodes': 10, 'min_samples_leaf': 5},\n",
       "  {'max_depth': 4, 'max_leaf_nodes': 10, 'min_samples_leaf': 7},\n",
       "  {'max_depth': 4, 'max_leaf_nodes': 10, 'min_samples_leaf': 10},\n",
       "  {'max_depth': 4, 'max_leaf_nodes': 15, 'min_samples_leaf': 1},\n",
       "  {'max_depth': 4, 'max_leaf_nodes': 15, 'min_samples_leaf': 2},\n",
       "  {'max_depth': 4, 'max_leaf_nodes': 15, 'min_samples_leaf': 5},\n",
       "  {'max_depth': 4, 'max_leaf_nodes': 15, 'min_samples_leaf': 7},\n",
       "  {'max_depth': 4, 'max_leaf_nodes': 15, 'min_samples_leaf': 10}],\n",
       " 'split0_test_score': array([1. , 1. , 1. , 1. , 1. , 1. , 1. , 1. , 1. , 1. , 1. , 1. , 1. ,\n",
       "        1. , 1. , 1. , 1. , 1. , 1. , 1. , 1. , 1. , 1. , 1. , 1. , 1. ,\n",
       "        1. , 1. , 1. , 1. , 1. , 1. , 1. , 1. , 1. , 1. , 1. , 1. , 1. ,\n",
       "        1. , 1. , 1. , 1. , 1. , 1. , 1. , 1. , 1. , 1. , 1. , 1. , 1. ,\n",
       "        1. , 1. , 1. , 1. , 1. , 1. , 1. , 1. , 1. , 1. , 1. , 1. , 1. ,\n",
       "        1. , 1. , 1. , 1. , 1. , 1. , 1. , 1. , 1. , 1. , 1. , 1. , 1. ,\n",
       "        1. , 1. , 1. , 1. , 1. , 1. , 1. , 0.6, 1. , 1. , 1. , 1. , 0.6,\n",
       "        1. , 1. , 1. , 1. , 0.6, 1. , 1. , 1. , 1. ]),\n",
       " 'split1_test_score': array([1. , 1. , 1. , 1. , 1. , 1. , 1. , 1. , 1. , 1. , 1. , 1. , 1. ,\n",
       "        1. , 1. , 1. , 1. , 1. , 1. , 1. , 1. , 1. , 1. , 1. , 1. , 1. ,\n",
       "        1. , 1. , 1. , 1. , 1. , 1. , 1. , 1. , 1. , 1. , 1. , 1. , 1. ,\n",
       "        1. , 1. , 1. , 1. , 1. , 1. , 1. , 1. , 1. , 1. , 1. , 1. , 1. ,\n",
       "        1. , 1. , 1. , 1. , 1. , 1. , 1. , 1. , 1. , 1. , 1. , 1. , 1. ,\n",
       "        1. , 1. , 1. , 1. , 1. , 1. , 1. , 1. , 1. , 1. , 1. , 1. , 1. ,\n",
       "        1. , 1. , 1. , 1. , 1. , 1. , 1. , 0.8, 1. , 1. , 1. , 1. , 0.8,\n",
       "        1. , 1. , 1. , 1. , 0.8, 1. , 1. , 1. , 1. ]),\n",
       " 'split2_test_score': array([1., 1., 1., 1., 1., 1., 1., 1., 1., 1., 1., 1., 1., 1., 1., 1., 1.,\n",
       "        1., 1., 1., 1., 1., 1., 1., 1., 1., 1., 1., 1., 1., 1., 1., 1., 1.,\n",
       "        1., 1., 1., 1., 1., 1., 1., 1., 1., 1., 1., 1., 1., 1., 1., 1., 1.,\n",
       "        1., 1., 1., 1., 1., 1., 1., 1., 1., 1., 1., 1., 1., 1., 1., 1., 1.,\n",
       "        1., 1., 1., 1., 1., 1., 1., 1., 1., 1., 1., 1., 1., 1., 1., 1., 1.,\n",
       "        1., 1., 1., 1., 1., 1., 1., 1., 1., 1., 1., 1., 1., 1., 1.]),\n",
       " 'split3_test_score': array([1., 1., 1., 1., 1., 1., 1., 1., 1., 1., 1., 1., 1., 1., 1., 1., 1.,\n",
       "        1., 1., 1., 1., 1., 1., 1., 1., 1., 1., 1., 1., 1., 1., 1., 1., 1.,\n",
       "        1., 1., 1., 1., 1., 1., 1., 1., 1., 1., 1., 1., 1., 1., 1., 1., 1.,\n",
       "        1., 1., 1., 1., 1., 1., 1., 1., 1., 1., 1., 1., 1., 1., 1., 1., 1.,\n",
       "        1., 1., 1., 1., 1., 1., 1., 1., 1., 1., 1., 1., 1., 1., 1., 1., 1.,\n",
       "        1., 1., 1., 1., 1., 1., 1., 1., 1., 1., 1., 1., 1., 1., 1.]),\n",
       " 'split4_test_score': array([1., 1., 1., 1., 1., 1., 1., 1., 1., 1., 1., 1., 1., 1., 1., 1., 1.,\n",
       "        1., 1., 1., 1., 1., 1., 1., 1., 1., 1., 1., 1., 1., 1., 1., 1., 1.,\n",
       "        1., 1., 1., 1., 1., 1., 1., 1., 1., 1., 1., 1., 1., 1., 1., 1., 1.,\n",
       "        1., 1., 1., 1., 1., 1., 1., 1., 1., 1., 1., 1., 1., 1., 1., 1., 1.,\n",
       "        1., 1., 1., 1., 1., 1., 1., 1., 1., 1., 1., 1., 1., 1., 1., 1., 1.,\n",
       "        1., 1., 1., 1., 1., 1., 1., 1., 1., 1., 1., 1., 1., 1., 1.]),\n",
       " 'mean_test_score': array([1.  , 1.  , 1.  , 1.  , 1.  , 1.  , 1.  , 1.  , 1.  , 1.  , 1.  ,\n",
       "        1.  , 1.  , 1.  , 1.  , 1.  , 1.  , 1.  , 1.  , 1.  , 1.  , 1.  ,\n",
       "        1.  , 1.  , 1.  , 1.  , 1.  , 1.  , 1.  , 1.  , 1.  , 1.  , 1.  ,\n",
       "        1.  , 1.  , 1.  , 1.  , 1.  , 1.  , 1.  , 1.  , 1.  , 1.  , 1.  ,\n",
       "        1.  , 1.  , 1.  , 1.  , 1.  , 1.  , 1.  , 1.  , 1.  , 1.  , 1.  ,\n",
       "        1.  , 1.  , 1.  , 1.  , 1.  , 1.  , 1.  , 1.  , 1.  , 1.  , 1.  ,\n",
       "        1.  , 1.  , 1.  , 1.  , 1.  , 1.  , 1.  , 1.  , 1.  , 1.  , 1.  ,\n",
       "        1.  , 1.  , 1.  , 1.  , 1.  , 1.  , 1.  , 1.  , 0.88, 1.  , 1.  ,\n",
       "        1.  , 1.  , 0.88, 1.  , 1.  , 1.  , 1.  , 0.88, 1.  , 1.  , 1.  ,\n",
       "        1.  ]),\n",
       " 'std_test_score': array([0.  , 0.  , 0.  , 0.  , 0.  , 0.  , 0.  , 0.  , 0.  , 0.  , 0.  ,\n",
       "        0.  , 0.  , 0.  , 0.  , 0.  , 0.  , 0.  , 0.  , 0.  , 0.  , 0.  ,\n",
       "        0.  , 0.  , 0.  , 0.  , 0.  , 0.  , 0.  , 0.  , 0.  , 0.  , 0.  ,\n",
       "        0.  , 0.  , 0.  , 0.  , 0.  , 0.  , 0.  , 0.  , 0.  , 0.  , 0.  ,\n",
       "        0.  , 0.  , 0.  , 0.  , 0.  , 0.  , 0.  , 0.  , 0.  , 0.  , 0.  ,\n",
       "        0.  , 0.  , 0.  , 0.  , 0.  , 0.  , 0.  , 0.  , 0.  , 0.  , 0.  ,\n",
       "        0.  , 0.  , 0.  , 0.  , 0.  , 0.  , 0.  , 0.  , 0.  , 0.  , 0.  ,\n",
       "        0.  , 0.  , 0.  , 0.  , 0.  , 0.  , 0.  , 0.  , 0.16, 0.  , 0.  ,\n",
       "        0.  , 0.  , 0.16, 0.  , 0.  , 0.  , 0.  , 0.16, 0.  , 0.  , 0.  ,\n",
       "        0.  ]),\n",
       " 'rank_test_score': array([ 1,  1,  1,  1,  1,  1,  1,  1,  1,  1,  1,  1,  1,  1,  1,  1,  1,\n",
       "         1,  1,  1,  1,  1,  1,  1,  1,  1,  1,  1,  1,  1,  1,  1,  1,  1,\n",
       "         1,  1,  1,  1,  1,  1,  1,  1,  1,  1,  1,  1,  1,  1,  1,  1,  1,\n",
       "         1,  1,  1,  1,  1,  1,  1,  1,  1,  1,  1,  1,  1,  1,  1,  1,  1,\n",
       "         1,  1,  1,  1,  1,  1,  1,  1,  1,  1,  1,  1,  1,  1,  1,  1,  1,\n",
       "        98,  1,  1,  1,  1, 98,  1,  1,  1,  1, 98,  1,  1,  1,  1],\n",
       "       dtype=int32)}"
      ]
     },
     "execution_count": 55,
     "metadata": {},
     "output_type": "execute_result"
    }
   ],
   "source": [
    "grid_result.cv_results_"
   ]
  },
  {
   "cell_type": "code",
   "execution_count": null,
   "id": "26e929cf",
   "metadata": {},
   "outputs": [],
   "source": []
  },
  {
   "cell_type": "code",
   "execution_count": 69,
   "id": "d84b9df4",
   "metadata": {},
   "outputs": [
    {
     "name": "stdout",
     "output_type": "stream",
     "text": [
      "Training performance \n",
      "    Accuracy  Recall  Precision        F1\n",
      "0  0.928082     1.0   0.533333  0.695652\n"
     ]
    }
   ],
   "source": [
    "# grid search for bagging classifier\n",
    "cl1 = DecisionTreeClassifier(max_depth=1,class_weight={0:0.08,1:0.92},random_state=1)\n",
    "param_grid = {'base_estimator':[cl1]\n",
    "             }\n",
    "\n",
    "grid = GridSearchCV(BaggingClassifier(random_state=1), param_grid=param_grid, scoring = 'recall', cv = 5)\n",
    "grid.fit(X_train, y_train)\n",
    "## getting the best estimator\n",
    "bagging_estimator  = grid.best_estimator_\n",
    "bagging_estimator.fit(X_train,y_train)\n",
    "bagging_estimator_model_train_perf=model_performance_classification_sklearn(bagging_estimator, X_train,y_train)\n",
    "print(\"Training performance \\n\",bagging_estimator_model_train_perf)"
   ]
  },
  {
   "cell_type": "code",
   "execution_count": 65,
   "id": "5146e0e2",
   "metadata": {},
   "outputs": [
    {
     "name": "stdout",
     "output_type": "stream",
     "text": [
      "Training performance \n",
      "    Accuracy  Recall  Precision        F1\n",
      "0  0.996575     1.0       0.96  0.979592\n"
     ]
    }
   ],
   "source": [
    "# grid search for bagging classifier\n",
    "cl1 = DecisionTreeClassifier(max_depth=2,class_weight={0:0.08,1:0.92},random_state=1)\n",
    "param_grid = {'base_estimator':[cl1]\n",
    "             }\n",
    "\n",
    "grid = GridSearchCV(BaggingClassifier(random_state=1,bootstrap=True), param_grid=param_grid, scoring = 'recall', cv = 5)\n",
    "grid.fit(X_train, y_train)\n",
    "## getting the best estimator\n",
    "bagging_estimator  = grid.best_estimator_\n",
    "bagging_estimator.fit(X_train,y_train)\n",
    "bagging_estimator_model_train_perf=model_performance_classification_sklearn(bagging_estimator, X_train,y_train)\n",
    "print(\"Training performance \\n\",bagging_estimator_model_train_perf)"
   ]
  },
  {
   "cell_type": "code",
   "execution_count": 70,
   "id": "641dd8a0",
   "metadata": {},
   "outputs": [
    {
     "name": "stdout",
     "output_type": "stream",
     "text": [
      "Training performance \n",
      "    Accuracy  Recall  Precision   F1\n",
      "0       1.0     1.0        1.0  1.0\n"
     ]
    }
   ],
   "source": [
    "# grid search for bagging classifier\n",
    "cl1 = DecisionTreeClassifier(max_depth=4,class_weight={0:0.08,1:0.92},random_state=1)\n",
    "param_grid = {'base_estimator':[cl1]\n",
    "             }\n",
    "\n",
    "grid = GridSearchCV(BaggingClassifier(random_state=1), param_grid=param_grid, scoring = 'recall', cv = 5)\n",
    "grid.fit(X_train, y_train)\n",
    "## getting the best estimator\n",
    "bagging_estimator  = grid.best_estimator_\n",
    "bagging_estimator.fit(X_train,y_train)\n",
    "bagging_estimator_model_train_perf=model_performance_classification_sklearn(bagging_estimator, X_train,y_train)\n",
    "print(\"Training performance \\n\",bagging_estimator_model_train_perf)"
   ]
  },
  {
   "cell_type": "code",
   "execution_count": 68,
   "id": "2050702e",
   "metadata": {},
   "outputs": [
    {
     "name": "stdout",
     "output_type": "stream",
     "text": [
      "Training performance \n",
      "    Accuracy  Recall  Precision   F1\n",
      "0       1.0     1.0        1.0  1.0\n"
     ]
    }
   ],
   "source": [
    "# grid search for bagging classifier\n",
    "cl1 = DecisionTreeClassifier(max_depth=5,class_weight={0:0.08,1:0.92},random_state=1)\n",
    "param_grid = {'base_estimator':[cl1]\n",
    "             }\n",
    "\n",
    "grid = GridSearchCV(BaggingClassifier(random_state=1,bootstrap=True), param_grid=param_grid, scoring = 'recall', cv = 5)\n",
    "grid.fit(X_train, y_train)\n",
    "## getting the best estimator\n",
    "bagging_estimator  = grid.best_estimator_\n",
    "bagging_estimator.fit(X_train,y_train)\n",
    "bagging_estimator_model_train_perf=model_performance_classification_sklearn(bagging_estimator, X_train,y_train)\n",
    "print(\"Training performance \\n\",bagging_estimator_model_train_perf)"
   ]
  },
  {
   "cell_type": "markdown",
   "id": "95a3d079",
   "metadata": {},
   "source": [
    "### Random Forest Classifier"
   ]
  },
  {
   "cell_type": "code",
   "execution_count": 34,
   "id": "7701c6d4",
   "metadata": {},
   "outputs": [
    {
     "data": {
      "text/plain": [
       "RandomForestClassifier(random_state=1)"
      ]
     },
     "execution_count": 34,
     "metadata": {},
     "output_type": "execute_result"
    }
   ],
   "source": [
    "#Train the random forest classifier\n",
    "rf_estimator=RandomForestClassifier(random_state=1)\n",
    "rf_estimator.fit(X_train,y_train)"
   ]
  },
  {
   "cell_type": "code",
   "execution_count": 35,
   "id": "f9bfef43",
   "metadata": {},
   "outputs": [
    {
     "name": "stdout",
     "output_type": "stream",
     "text": [
      "Accuracy on training set :  1.0\n",
      "Accuracy on test set :  1.0\n",
      "Recall on training set :  1.0\n",
      "Recall on test set :  1.0\n",
      "Precision on training set :  1.0\n",
      "Precision on test set :  1.0\n"
     ]
    }
   ],
   "source": [
    "#Using above defined function to get accuracy, recall and precision on train and test set\n",
    "rf_estimator_score=get_metrics_score(rf_estimator)"
   ]
  },
  {
   "cell_type": "code",
   "execution_count": 41,
   "id": "d4a06513",
   "metadata": {},
   "outputs": [
    {
     "data": {
      "text/html": [
       "<div>\n",
       "<style scoped>\n",
       "    .dataframe tbody tr th:only-of-type {\n",
       "        vertical-align: middle;\n",
       "    }\n",
       "\n",
       "    .dataframe tbody tr th {\n",
       "        vertical-align: top;\n",
       "    }\n",
       "\n",
       "    .dataframe thead th {\n",
       "        text-align: right;\n",
       "    }\n",
       "</style>\n",
       "<table border=\"1\" class=\"dataframe\">\n",
       "  <thead>\n",
       "    <tr style=\"text-align: right;\">\n",
       "      <th></th>\n",
       "      <th>Accuracy</th>\n",
       "      <th>Recall</th>\n",
       "      <th>Precision</th>\n",
       "      <th>F1</th>\n",
       "    </tr>\n",
       "  </thead>\n",
       "  <tbody>\n",
       "    <tr>\n",
       "      <th>0</th>\n",
       "      <td>1.0</td>\n",
       "      <td>1.0</td>\n",
       "      <td>1.0</td>\n",
       "      <td>1.0</td>\n",
       "    </tr>\n",
       "  </tbody>\n",
       "</table>\n",
       "</div>"
      ],
      "text/plain": [
       "   Accuracy  Recall  Precision   F1\n",
       "0       1.0     1.0        1.0  1.0"
      ]
     },
     "execution_count": 41,
     "metadata": {},
     "output_type": "execute_result"
    }
   ],
   "source": [
    "model_performance_classification_sklearn(rf_estimator, X_train, y_train)"
   ]
  },
  {
   "cell_type": "code",
   "execution_count": 36,
   "id": "da448f89",
   "metadata": {},
   "outputs": [
    {
     "data": {
      "image/png": "[encoded data removed]",
      "text/plain": [
       "<Figure size 720x504 with 2 Axes>"
      ]
     },
     "metadata": {},
     "output_type": "display_data"
    }
   ],
   "source": [
    "make_confusion_matrix(rf_estimator,y_test)"
   ]
  },
  {
   "cell_type": "markdown",
   "id": "263d43c6",
   "metadata": {},
   "source": [
    "**With default parameters:**\n",
    "\n",
    "- Both models - Bagging classifiers as well as random forest classifier are overfitting the train data.\n",
    "- Both models are giving similar performance in terms of accuracy but bagging classifier is giving better recall."
   ]
  },
  {
   "cell_type": "markdown",
   "id": "0903146a",
   "metadata": {},
   "source": [
    "## Hyperparameter Tuning\n",
    "\n",
    "### Bagging Classifier"
   ]
  },
  {
   "cell_type": "markdown",
   "id": "cac2f80b",
   "metadata": {},
   "source": [
    "**Some of the important hyperparameters available for bagging classifier are:**\n",
    "\n",
    "- base_estimator: The base estimator to fit on random subsets of the dataset. If None(default), then the base estimator is a decision tree.\n",
    "- n_estimators: The number of trees in the forest, default = 100.\n",
    "- max_features: The number of features to consider when looking for the best split. \n",
    "- bootstrap: Whether bootstrap samples are used when building trees. If False, the entire dataset is used to build each tree, default=True.\n",
    "- bootstrap_features: If it is true, then features are drawn with replacement. Default value is False.\n",
    "- max_samples: If bootstrap is True, then the number of samples to draw from X to train each base estimator. If None (default), then draw N samples, where N is the number of observations in the train data.\n",
    "- oob_score: Whether to use out-of-bag samples to estimate the generalization accuracy, default=False."
   ]
  },
  {
   "cell_type": "code",
   "execution_count": null,
   "id": "117a9122",
   "metadata": {},
   "outputs": [],
   "source": [
    "# Choose the type of classifier. \n",
    "bagging_estimator_tuned = BaggingClassifier(random_state=1)\n",
    "\n",
    "# Grid of parameters to choose from\n",
    "## add from article\n",
    "parameters = {'max_samples': [0.7,0.8,0.9,1], \n",
    "              'max_features': [0.7,0.8,0.9,1],\n",
    "              'n_estimators' : [10,20,30,40,50],\n",
    "             }\n",
    "\n",
    "# Type of scoring used to compare parameter combinations\n",
    "acc_scorer = metrics.make_scorer(metrics.recall_score)\n",
    "\n",
    "# Run the grid search\n",
    "grid_obj = GridSearchCV(bagging_estimator_tuned, parameters, scoring=acc_scorer,cv=5)\n",
    "grid_obj = grid_obj.fit(X_train, y_train)\n",
    "\n",
    "# Set the clf to the best combination of parameters\n",
    "bagging_estimator_tuned = grid_obj.best_estimator_\n",
    "\n",
    "# Fit the best algorithm to the data.\n",
    "bagging_estimator_tuned.fit(X_train, y_train)"
   ]
  },
  {
   "cell_type": "markdown",
   "id": "7f39d7ec",
   "metadata": {},
   "source": [
    "**Let's check different metrics for bagging classifier with best hyperparameters and build a confusion matrix.**"
   ]
  },
  {
   "cell_type": "code",
   "execution_count": null,
   "id": "ace646d2",
   "metadata": {},
   "outputs": [],
   "source": [
    "#Using above defined function to get accuracy, recall and precision on train and test set\n",
    "bagging_estimator_tuned_score=get_metrics_score(bagging_estimator_tuned)"
   ]
  },
  {
   "cell_type": "code",
   "execution_count": null,
   "id": "c0efb16c",
   "metadata": {},
   "outputs": [],
   "source": [
    "make_confusion_matrix(bagging_estimator_tuned,y_test)"
   ]
  },
  {
   "cell_type": "markdown",
   "id": "87b4f35b",
   "metadata": {},
   "source": [
    "### Insights\n",
    "- We can see that train accuracy and recall for the bagging classifier have increased slightly after hyperparameter tuning but the test recall has decreased.\n",
    "- The model is overfitting the data, as train accuracy and recall are much higher than the test accuracy and test recall.\n",
    "- The confusion matrix shows that the model is better at identifying non-defaulters as compared to defaulters."
   ]
  },
  {
   "cell_type": "markdown",
   "id": "ac5b84b1",
   "metadata": {},
   "source": [
    "### Let's try using logistic regression as the base estimator for bagging classifier:\n",
    "- Now, let's try and change the `base_estimator` of the bagging classifier, which is a decision tree by default.\n",
    "- We will pass the logistic regression as the base estimator for bagging classifier."
   ]
  },
  {
   "cell_type": "code",
   "execution_count": null,
   "id": "10efc7c7",
   "metadata": {},
   "outputs": [],
   "source": [
    "bagging_lr=BaggingClassifier(base_estimator=LogisticRegression(solver='liblinear',random_state=1,max_iter=1000),random_state=1)\n",
    "bagging_lr.fit(X_train,y_train)"
   ]
  },
  {
   "cell_type": "code",
   "execution_count": null,
   "id": "490dbbd8",
   "metadata": {},
   "outputs": [],
   "source": [
    "#Using above defined function to get accuracy, recall and precision on train and test set\n",
    "bagging_lr_score=get_metrics_score(bagging_lr)"
   ]
  },
  {
   "cell_type": "code",
   "execution_count": null,
   "id": "424e4f89",
   "metadata": {},
   "outputs": [],
   "source": [
    "make_confusion_matrix(bagging_lr,y_test)"
   ]
  },
  {
   "cell_type": "markdown",
   "id": "78e51bfc",
   "metadata": {},
   "source": [
    "### Insights\n",
    "- Bagging classifier with logistic regression as base_estimator is not overfitting the data but the test recall is very low.\n",
    "- Ensemble models are less interpretable than decision tree but bagging classifier is even less interpretable than random forest. It does not even have a feature importance attribute."
   ]
  },
  {
   "cell_type": "markdown",
   "id": "1ad9fc41",
   "metadata": {},
   "source": [
    "### Random Forest Classifier\n",
    "**Now, let's see if we can get a better model by tuning the random forest classifier. Some of the important hyperparameters available for random forest classifier are:**\n",
    "\n",
    "- n_estimators: The number of trees in the forest, default = 100.\n",
    "- max_features: The number of features to consider when looking for the best split. \n",
    "- class_weight: Weights associated with classes in the form {class_label: weight}.If not given, all classes are supposed to have weight one.  \n",
    "- For example: If the frequency of class 0 is 80% and the frequency of class 1 is 20% in the data, then class 0 will become the dominant class and the model will become biased toward the dominant classes. In this case, we can pass a dictionary {0:0.2,1:0.8} to the model to specify the weight of each class and the random forest will give more weightage to class 1. \n",
    "- bootstrap: Whether bootstrap samples are used when building trees. If False, the entire dataset is used to build each tree, default=True.\n",
    "- max_samples: If bootstrap is True, then the number of samples to draw from X to train each base estimator. If None (default), then draw N samples, where N is the number of observations in the train data.\n",
    "- oob_score: Whether to use out-of-bag samples to estimate the generalization accuracy, default=False.\n",
    "\n",
    "- Note: A lot of hyperparameters of Decision Trees are also available to tune  Random Forest like max_depth, min_sample_split etc.\n"
   ]
  },
  {
   "cell_type": "code",
   "execution_count": null,
   "id": "72cbe7cb",
   "metadata": {},
   "outputs": [],
   "source": [
    "# Choose the type of classifier. \n",
    "rf_estimator_tuned = RandomForestClassifier(random_state=1)\n",
    "\n",
    "# Grid of parameters to choose from\n",
    "## add from article\n",
    "parameters = {\"n_estimators\": [150,200,250],\n",
    "    \"min_samples_leaf\": np.arange(5, 10),\n",
    "    \"max_features\": np.arange(0.2, 0.7, 0.1),\n",
    "    \"max_samples\": np.arange(0.3, 0.7, 0.1),\n",
    "             }\n",
    "\n",
    "# Type of scoring used to compare parameter combinations\n",
    "acc_scorer = metrics.make_scorer(metrics.recall_score)\n",
    "\n",
    "# Run the grid search\n",
    "grid_obj = GridSearchCV(rf_estimator_tuned, parameters, scoring=acc_scorer,cv=5)\n",
    "grid_obj = grid_obj.fit(X_train, y_train)\n",
    "\n",
    "# Set the clf to the best combination of parameters\n",
    "rf_estimator_tuned = grid_obj.best_estimator_\n",
    "\n",
    "# Fit the best algorithm to the data.\n",
    "rf_estimator_tuned.fit(X_train, y_train)"
   ]
  },
  {
   "cell_type": "code",
   "execution_count": null,
   "id": "5badf8b8",
   "metadata": {},
   "outputs": [],
   "source": [
    "#Using above defined function to get accuracy, recall and precision on train and test set\n",
    "rf_estimator_tuned_score=get_metrics_score(rf_estimator_tuned)"
   ]
  },
  {
   "cell_type": "code",
   "execution_count": null,
   "id": "986ed05f",
   "metadata": {},
   "outputs": [],
   "source": [
    "make_confusion_matrix(rf_estimator_tuned,y_test)"
   ]
  },
  {
   "cell_type": "markdown",
   "id": "e5014481",
   "metadata": {},
   "source": [
    "### Insights\n",
    "- We can see that random forest's performance has increased as compared to the random forest model with default parameters.\n",
    "- Model is slightly overfitting the data but not as much as the tuned bagging classifier.\n",
    "- The test recall is still very low. This means that the model is not good at identifying defaulters which is our primary aim here."
   ]
  },
  {
   "cell_type": "markdown",
   "id": "d2c62de2",
   "metadata": {},
   "source": [
    "### Let's try using class_weights for random forest:\n",
    "- The model performance is not very good. This may be due to the fact that the classes are imbalanced with 70% non-defaulters and 30% defaulters. \n",
    "\n",
    "- We should make the model aware that the class of interest here is 'defaulters'.\n",
    "\n",
    "- We can do so by passing the parameter `class_weights` available for random forest. This parameter is not available for the bagging classifier.\n",
    "\n",
    "- class_weight specifies the weights associated with classes in the form {class_label: weight}. If not given, all classes are supposed to have weight one.\n",
    "\n",
    "- We can choose class_weights={0:0.3,1:0.7} because that is the original imbalance in our data."
   ]
  },
  {
   "cell_type": "code",
   "execution_count": null,
   "id": "a435f6d6",
   "metadata": {},
   "outputs": [],
   "source": [
    "# Choose the type of classifier. \n",
    "rf_estimator_weighted = RandomForestClassifier(random_state=1)\n",
    "\n",
    "# Grid of parameters to choose from\n",
    "## add from article\n",
    "parameters = {\n",
    "    \"class_weight\": [{0: 0.3, 1: 0.7}],\n",
    "    \"n_estimators\": [100,150,200,250],\n",
    "    \"min_samples_leaf\": np.arange(5, 10),\n",
    "    \"max_features\": np.arange(0.2, 0.7, 0.1),\n",
    "    \"max_samples\": np.arange(0.3, 0.7, 0.1),\n",
    "}\n",
    "\n",
    "# Type of scoring used to compare parameter combinations\n",
    "acc_scorer = metrics.make_scorer(metrics.recall_score)\n",
    "\n",
    "# Run the grid search\n",
    "grid_obj = GridSearchCV(rf_estimator_weighted, parameters, scoring=acc_scorer,cv=5)\n",
    "grid_obj = grid_obj.fit(X_train, y_train)\n",
    "\n",
    "# Set the clf to the best combination of parameters\n",
    "rf_estimator_weighted = grid_obj.best_estimator_\n",
    "\n",
    "# Fit the best algorithm to the data.\n",
    "rf_estimator_weighted.fit(X_train, y_train)"
   ]
  },
  {
   "cell_type": "code",
   "execution_count": null,
   "id": "baee1b16",
   "metadata": {},
   "outputs": [],
   "source": [
    "#Using above defined function to get accuracy, recall and precision on train and test set\n",
    "rf_estimator_weighted_score=get_metrics_score(rf_estimator_weighted)"
   ]
  },
  {
   "cell_type": "code",
   "execution_count": null,
   "id": "079c2246",
   "metadata": {},
   "outputs": [],
   "source": [
    "make_confusion_matrix(rf_estimator_weighted,y_test)"
   ]
  },
  {
   "cell_type": "markdown",
   "id": "165560e0",
   "metadata": {},
   "source": [
    "### Insights\n",
    "- The model accuracy has decreased a bit but the overfitting has also been reduced and the model is generalizing well.\n",
    "- The train and test recall both have increased significantly.\n",
    "- We can see from the confusion matrix that the random forest model with class weights is now better at identifying the defaulters as compared to other models."
   ]
  },
  {
   "cell_type": "markdown",
   "id": "3d1ccb1f",
   "metadata": {},
   "source": [
    "### Checking the feature importance"
   ]
  },
  {
   "cell_type": "code",
   "execution_count": null,
   "id": "05531b07",
   "metadata": {},
   "outputs": [],
   "source": [
    "importances = rf_estimator_weighted.feature_importances_\n",
    "indices = np.argsort(importances)\n",
    "feature_names = list(X.columns)\n",
    "\n",
    "plt.figure(figsize=(12,12))\n",
    "plt.title('Feature Importances')\n",
    "plt.barh(range(len(indices)), importances[indices], color='violet', align='center')\n",
    "plt.yticks(range(len(indices)), [feature_names[i] for i in indices])\n",
    "plt.xlabel('Relative Importance')\n",
    "plt.show()"
   ]
  },
  {
   "cell_type": "markdown",
   "id": "48e555a6",
   "metadata": {},
   "source": [
    "### Comparing all models till now"
   ]
  },
  {
   "cell_type": "code",
   "execution_count": null,
   "id": "3995575a",
   "metadata": {},
   "outputs": [],
   "source": [
    "# defining list of models\n",
    "models = [bagging_estimator,bagging_estimator_tuned,bagging_lr,rf_estimator,rf_estimator_tuned,\n",
    "          rf_estimator_weighted]\n",
    "\n",
    "# defining empty lists to add train and test results\n",
    "acc_train = []\n",
    "acc_test = []\n",
    "recall_train = []\n",
    "recall_test = []\n",
    "precision_train = []\n",
    "precision_test = []\n",
    "\n",
    "# looping through all the models to get the accuracy, precall and precision scores\n",
    "for model in models:\n",
    "    j = get_metrics_score(model,False)\n",
    "    acc_train.append(np.round(j[0],2))\n",
    "    acc_test.append(np.round(j[1],2))\n",
    "    recall_train.append(np.round(j[2],2))\n",
    "    recall_test.append(np.round(j[3],2))\n",
    "    precision_train.append(np.round(j[4],2))\n",
    "    precision_test.append(np.round(j[5],2))"
   ]
  },
  {
   "cell_type": "code",
   "execution_count": null,
   "id": "1a71447e",
   "metadata": {},
   "outputs": [],
   "source": [
    "comparison_frame = pd.DataFrame({'Model':['Bagging classifier with default parameters','Tuned Bagging Classifier',\n",
    "                                        'Bagging classifier with base_estimator=LR', 'Random Forest with deafult parameters',\n",
    "                                         'Tuned Random Forest Classifier','Random Forest with class_weights'], \n",
    "                                          'Train_Accuracy': acc_train,'Test_Accuracy': acc_test,\n",
    "                                          'Train_Recall':recall_train,'Test_Recall':recall_test,\n",
    "                                          'Train_Precision':precision_train,'Test_Precision':precision_test}) \n",
    "comparison_frame"
   ]
  },
  {
   "cell_type": "markdown",
   "id": "dafbd7e8",
   "metadata": {},
   "source": [
    "## Building the model\n",
    "- We are going to build 3 ensemble models here - AdaBoost Classifier, Gradient Boosting Classifier and XGBoost Classifier.\n",
    "- First, let's build these models with default parameters and then use hyperparameter tuning to optimize the model performance.\n",
    "- We will calculate all three metrics - Accuracy, Precision and Recall but the metric of interest here is recall.\n",
    "- `Recall` - It gives the ratio of True positives to Actual positives, so high Recall implies low false negatives, i.e. low chances of predicting a defaulter as non defaulter"
   ]
  },
  {
   "cell_type": "markdown",
   "id": "89822297",
   "metadata": {},
   "source": [
    "### AdaBoost Classifier"
   ]
  },
  {
   "cell_type": "code",
   "execution_count": null,
   "id": "58ffbf11",
   "metadata": {},
   "outputs": [],
   "source": [
    "abc = AdaBoostClassifier(random_state=1)\n",
    "abc.fit(X_train,y_train)"
   ]
  },
  {
   "cell_type": "code",
   "execution_count": null,
   "id": "1e103315",
   "metadata": {},
   "outputs": [],
   "source": [
    "#Using above defined function to get accuracy, recall and precision on train and test set\n",
    "abc_score=get_metrics_score(abc)"
   ]
  },
  {
   "cell_type": "code",
   "execution_count": null,
   "id": "2bddaa59",
   "metadata": {},
   "outputs": [],
   "source": [
    "make_confusion_matrix(abc,y_test)"
   ]
  },
  {
   "cell_type": "markdown",
   "id": "7e28a3e9",
   "metadata": {},
   "source": [
    "### Gradient Boosting Classifier"
   ]
  },
  {
   "cell_type": "code",
   "execution_count": null,
   "id": "f548eff0",
   "metadata": {},
   "outputs": [],
   "source": [
    "gbc = GradientBoostingClassifier(random_state=1)\n",
    "gbc.fit(X_train,y_train)"
   ]
  },
  {
   "cell_type": "code",
   "execution_count": null,
   "id": "b923431a",
   "metadata": {},
   "outputs": [],
   "source": [
    "#Using above defined function to get accuracy, recall and precision on train and test set\n",
    "gbc_score=get_metrics_score(gbc)"
   ]
  },
  {
   "cell_type": "code",
   "execution_count": null,
   "id": "f008f73a",
   "metadata": {},
   "outputs": [],
   "source": [
    "make_confusion_matrix(gbc,y_test)"
   ]
  },
  {
   "cell_type": "markdown",
   "id": "fc1d89de",
   "metadata": {},
   "source": [
    "### XGBoost Classifier"
   ]
  },
  {
   "cell_type": "code",
   "execution_count": null,
   "id": "64608fb8",
   "metadata": {},
   "outputs": [],
   "source": [
    "xgb = XGBClassifier(random_state=1,eval_metric='logloss')\n",
    "xgb.fit(X_train,y_train)"
   ]
  },
  {
   "cell_type": "code",
   "execution_count": null,
   "id": "3a8334b7",
   "metadata": {},
   "outputs": [],
   "source": [
    "#Using above defined function to get accuracy, recall and precision on train and test set\n",
    "xgb_score=get_metrics_score(xgb)"
   ]
  },
  {
   "cell_type": "code",
   "execution_count": null,
   "id": "7a4562e9",
   "metadata": {},
   "outputs": [],
   "source": [
    "make_confusion_matrix(xgb,y_test)"
   ]
  },
  {
   "cell_type": "markdown",
   "id": "7671cee7",
   "metadata": {},
   "source": [
    "**With default parameters:**\n",
    "- AdaBoost classifier has better test accuracy among these 3 models.\n",
    "- GB classifier has least test accuracy and test recall."
   ]
  },
  {
   "cell_type": "markdown",
   "id": "d2eb063c",
   "metadata": {},
   "source": [
    "## Hyperparameter Tuning\n",
    "\n",
    "### AdaBoost Classifier"
   ]
  },
  {
   "cell_type": "markdown",
   "id": "a633ca9a",
   "metadata": {},
   "source": [
    "- An AdaBoost classifier is a meta-estimator that begins by fitting a classifier on the original dataset and then fits additional copies of the classifier on the same dataset but where the weights of incorrectly classified instances are adjusted such that subsequent classifiers focus more on difficult cases.\n",
    "- Some important hyperparamters are:\n",
    "    - base_estimator: The base estimator from which the boosted ensemble is built. By default the base estimator is a decision tree with max_depth=1\n",
    "    - n_estimators: The maximum number of estimators at which boosting is terminated. Default value is 50.\n",
    "    - learning_rate: Learning rate shrinks the contribution of each classifier by learning_rate. There is a trade-off between learning_rate and n_estimators."
   ]
  },
  {
   "cell_type": "code",
   "execution_count": null,
   "id": "ec7b84e3",
   "metadata": {},
   "outputs": [],
   "source": [
    "# Choose the type of classifier. \n",
    "abc_tuned = AdaBoostClassifier(random_state=1)\n",
    "\n",
    "# Grid of parameters to choose from\n",
    "## add from article\n",
    "parameters = {\n",
    "    #Let's try different max_depth for base_estimator\n",
    "    \"base_estimator\":[DecisionTreeClassifier(max_depth=1, random_state=1),DecisionTreeClassifier(max_depth=2, random_state=1),DecisionTreeClassifier(max_depth=3, random_state=1)],\n",
    "    \"n_estimators\": np.arange(10,110,10),\n",
    "    \"learning_rate\":np.arange(0.1,2,0.1)\n",
    "}\n",
    "\n",
    "# Type of scoring used to compare parameter combinations\n",
    "acc_scorer = metrics.make_scorer(metrics.recall_score)\n",
    "\n",
    "# Run the grid search\n",
    "grid_obj = GridSearchCV(abc_tuned, parameters, scoring=acc_scorer,cv=5)\n",
    "grid_obj = grid_obj.fit(X_train, y_train)\n",
    "\n",
    "# Set the clf to the best combination of parameters\n",
    "abc_tuned = grid_obj.best_estimator_\n",
    "\n",
    "# Fit the best algorithm to the data.\n",
    "abc_tuned.fit(X_train, y_train)"
   ]
  },
  {
   "cell_type": "code",
   "execution_count": null,
   "id": "4e213cb9",
   "metadata": {},
   "outputs": [],
   "source": [
    "#Using above defined function to get accuracy, recall and precision on train and test set\n",
    "abc_tuned_score=get_metrics_score(abc_tuned)"
   ]
  },
  {
   "cell_type": "code",
   "execution_count": null,
   "id": "1123463f",
   "metadata": {},
   "outputs": [],
   "source": [
    "make_confusion_matrix(abc_tuned,y_test)"
   ]
  },
  {
   "cell_type": "markdown",
   "id": "bfd2d004",
   "metadata": {},
   "source": [
    "### Insights\n",
    "- The model is overfitting the train data as train accuracy is much higher than the test accuracy.\n",
    "- The model has low test recall. This implies that the model is not good at identifying defaulters."
   ]
  },
  {
   "cell_type": "code",
   "execution_count": null,
   "id": "afdf2730",
   "metadata": {},
   "outputs": [],
   "source": [
    "importances = abc_tuned.feature_importances_\n",
    "indices = np.argsort(importances)\n",
    "feature_names = list(X.columns)\n",
    "\n",
    "plt.figure(figsize=(12,12))\n",
    "plt.title('Feature Importances')\n",
    "plt.barh(range(len(indices)), importances[indices], color='violet', align='center')\n",
    "plt.yticks(range(len(indices)), [feature_names[i] for i in indices])\n",
    "plt.xlabel('Relative Importance')\n",
    "plt.show()"
   ]
  },
  {
   "cell_type": "markdown",
   "id": "2dbeffca",
   "metadata": {},
   "source": [
    "### Gradient Boosting Classifier"
   ]
  },
  {
   "cell_type": "markdown",
   "id": "06a7296e",
   "metadata": {},
   "source": [
    "- Most of the hyperparameters available are same as random forest classifier.\n",
    "- init: An estimator object that is used to compute the initial predictions. If ‘zero’, the initial raw predictions are set to zero. By default, a DummyEstimator predicting the classes priors is used.\n",
    "- There is no class_weights parameter in gradient boosting."
   ]
  },
  {
   "cell_type": "markdown",
   "id": "2907901c",
   "metadata": {},
   "source": [
    "**Let's try using AdaBoost classifier as the estimator for initial predictions**"
   ]
  },
  {
   "cell_type": "code",
   "execution_count": null,
   "id": "a650fb44",
   "metadata": {},
   "outputs": [],
   "source": [
    "gbc_init = GradientBoostingClassifier(init=AdaBoostClassifier(random_state=1),random_state=1)\n",
    "gbc_init.fit(X_train,y_train)"
   ]
  },
  {
   "cell_type": "code",
   "execution_count": null,
   "id": "585943e4",
   "metadata": {},
   "outputs": [],
   "source": [
    "#Using above defined function to get accuracy, recall and precision on train and test set\n",
    "gbc_init_score=get_metrics_score(gbc_init)"
   ]
  },
  {
   "cell_type": "markdown",
   "id": "e6ce1688",
   "metadata": {},
   "source": [
    "**As compared to the model with default parameters:**\n",
    "\n",
    "- Test accuracy and test recall have increased slightly.\n",
    "- As we are getting better results, we will use init = AdaBoostClassifier() to tune the gradient boosting model."
   ]
  },
  {
   "cell_type": "code",
   "execution_count": 79,
   "id": "27a0f0c1",
   "metadata": {},
   "outputs": [
    {
     "name": "stdout",
     "output_type": "stream",
     "text": [
      "Accuracy on training set :  1.0\n",
      "Accuracy on test set :  1.0\n",
      "Recall on training set :  1.0\n",
      "Recall on test set :  1.0\n",
      "Precision on training set :  1.0\n",
      "Precision on test set :  1.0\n"
     ]
    }
   ],
   "source": [
    "# Choose the type of classifier. \n",
    "gbc_tuned = GradientBoostingClassifier(init=AdaBoostClassifier(random_state=1),random_state=1)\n",
    "\n",
    "# Grid of parameters to choose from\n",
    "## add from article\n",
    "parameters = {\n",
    "    \"n_estimators\" : [50],\n",
    "    \"learning_rate\" : [0.01]\n",
    "}\n",
    "\n",
    "# Type of scoring used to compare parameter combinations\n",
    "acc_scorer = metrics.make_scorer(metrics.recall_score)\n",
    "\n",
    "# Run the grid search\n",
    "grid_obj = GridSearchCV(gbc_tuned, parameters, scoring=acc_scorer,cv=5)\n",
    "grid_obj = grid_obj.fit(X_train, y_train)\n",
    "\n",
    "# Set the clf to the best combination of parameters\n",
    "gbc_tuned = grid_obj.best_estimator_\n",
    "\n",
    "# Fit the best algorithm to the data.\n",
    "gbc_tuned.fit(X_train, y_train)\n",
    "#Using above defined function to get accuracy, recall and precision on train and test set\n",
    "gbc_tuned_score=get_metrics_score(gbc_tuned)"
   ]
  },
  {
   "cell_type": "code",
   "execution_count": 80,
   "id": "6380bcd4",
   "metadata": {},
   "outputs": [
    {
     "name": "stdout",
     "output_type": "stream",
     "text": [
      "Accuracy on training set :  1.0\n",
      "Accuracy on test set :  1.0\n",
      "Recall on training set :  1.0\n",
      "Recall on test set :  1.0\n",
      "Precision on training set :  1.0\n",
      "Precision on test set :  1.0\n"
     ]
    }
   ],
   "source": [
    "# Choose the type of classifier. \n",
    "gbc_tuned = GradientBoostingClassifier(init=AdaBoostClassifier(random_state=1),random_state=1)\n",
    "\n",
    "# Grid of parameters to choose from\n",
    "## add from article\n",
    "parameters = {\n",
    "    \"n_estimators\" : [100],\n",
    "    \"learning_rate\" : [0.01]\n",
    "}\n",
    "\n",
    "# Type of scoring used to compare parameter combinations\n",
    "acc_scorer = metrics.make_scorer(metrics.recall_score)\n",
    "\n",
    "# Run the grid search\n",
    "grid_obj = GridSearchCV(gbc_tuned, parameters, scoring=acc_scorer,cv=5)\n",
    "grid_obj = grid_obj.fit(X_train, y_train)\n",
    "\n",
    "# Set the clf to the best combination of parameters\n",
    "gbc_tuned = grid_obj.best_estimator_\n",
    "\n",
    "# Fit the best algorithm to the data.\n",
    "gbc_tuned.fit(X_train, y_train)\n",
    "#Using above defined function to get accuracy, recall and precision on train and test set\n",
    "gbc_tuned_score=get_metrics_score(gbc_tuned)"
   ]
  },
  {
   "cell_type": "code",
   "execution_count": 81,
   "id": "f498e49f",
   "metadata": {},
   "outputs": [
    {
     "name": "stdout",
     "output_type": "stream",
     "text": [
      "Accuracy on training set :  1.0\n",
      "Accuracy on test set :  0.9682539682539683\n",
      "Recall on training set :  1.0\n",
      "Recall on test set :  1.0\n",
      "Precision on training set :  1.0\n",
      "Precision on test set :  0.7333333333333333\n"
     ]
    }
   ],
   "source": [
    "# Choose the type of classifier. \n",
    "gbc_tuned = GradientBoostingClassifier(init=AdaBoostClassifier(random_state=1),random_state=1)\n",
    "\n",
    "# Grid of parameters to choose from\n",
    "## add from article\n",
    "parameters = {\n",
    "    \"n_estimators\" : [400],\n",
    "    \"learning_rate\" : [0.01]\n",
    "}\n",
    "\n",
    "# Type of scoring used to compare parameter combinations\n",
    "acc_scorer = metrics.make_scorer(metrics.recall_score)\n",
    "\n",
    "# Run the grid search\n",
    "grid_obj = GridSearchCV(gbc_tuned, parameters, scoring=acc_scorer,cv=5)\n",
    "grid_obj = grid_obj.fit(X_train, y_train)\n",
    "\n",
    "# Set the clf to the best combination of parameters\n",
    "gbc_tuned = grid_obj.best_estimator_\n",
    "\n",
    "# Fit the best algorithm to the data.\n",
    "gbc_tuned.fit(X_train, y_train)\n",
    "#Using above defined function to get accuracy, recall and precision on train and test set\n",
    "gbc_tuned_score=get_metrics_score(gbc_tuned)"
   ]
  },
  {
   "cell_type": "markdown",
   "id": "a4b070fc",
   "metadata": {},
   "source": [
    "### Insights\n",
    "- The model performace has not increased by much.\n",
    "- The model has started to overfit the train data in terms of recall.\n",
    "- It is better at identifying non-defaulters than identifying defaulters which is the opposite of the result we need."
   ]
  },
  {
   "cell_type": "code",
   "execution_count": null,
   "id": "155bbfb1",
   "metadata": {},
   "outputs": [],
   "source": [
    "importances = gbc_tuned.feature_importances_\n",
    "indices = np.argsort(importances)\n",
    "feature_names = list(X.columns)\n",
    "\n",
    "plt.figure(figsize=(12,12))\n",
    "plt.title('Feature Importances')\n",
    "plt.barh(range(len(indices)), importances[indices], color='violet', align='center')\n",
    "plt.yticks(range(len(indices)), [feature_names[i] for i in indices])\n",
    "plt.xlabel('Relative Importance')\n",
    "plt.show()"
   ]
  },
  {
   "cell_type": "markdown",
   "id": "82da5a40",
   "metadata": {},
   "source": [
    "### XGBoost Classifier"
   ]
  },
  {
   "cell_type": "markdown",
   "id": "b76acc18",
   "metadata": {},
   "source": [
    "**XGBoost has many hyper parameters which can be tuned to increase the model performance. You can read about them in the xgboost documentation [here](https://xgboost.readthedocs.io/en/latest/parameter.html#general-parameters). Some of the important parameters are:**\n",
    "- scale_pos_weight:Control the balance of positive and negative weights, useful for unbalanced classes. It has range from 0 to $\\infty$.\n",
    "- subsample: Corresponds to the fraction of observations (the rows) to subsample at each step. By default it is set to 1 meaning that we use all rows.\n",
    "- colsample_bytree: Corresponds to the fraction of features (the columns) to use.\n",
    "- colsample_bylevel: The subsample ratio of columns for each level. Columns are subsampled from the set of columns chosen for the current tree.\n",
    "- colsample_bynode: The subsample ratio of columns for each node (split). Columns are subsampled from the set of columns chosen for the current level.\n",
    "- max_depth: is the maximum number of nodes allowed from the root to the farthest leaf of a tree.\n",
    "- learning_rate/eta: Makes the model more robust by shrinking the weights on each step.\n",
    "- gamma: A node is split only when the resulting split gives a positive reduction in the loss function. Gamma specifies the minimum loss reduction required to make a split."
   ]
  },
  {
   "cell_type": "code",
   "execution_count": null,
   "id": "0f0a357d",
   "metadata": {},
   "outputs": [],
   "source": [
    "# Choose the type of classifier. \n",
    "xgb_tuned = XGBClassifier(random_state=1,eval_metric='logloss')\n",
    "\n",
    "# Grid of parameters to choose from\n",
    "## add from\n",
    "parameters = {\n",
    "    \"n_estimators\": np.arange(10,100,20),\n",
    "    \"scale_pos_weight\":[0,1,2,5],\n",
    "    \"subsample\":[0.5,0.7,0.9,1],\n",
    "    \"learning_rate\":[0.01,0.1,0.2,0.05],\n",
    "    \"gamma\":[0,1,3],\n",
    "    \"colsample_bytree\":[0.5,0.7,0.9,1],\n",
    "    \"colsample_bylevel\":[0.5,0.7,0.9,1]\n",
    "}\n",
    "\n",
    "# Type of scoring used to compare parameter combinations\n",
    "acc_scorer = metrics.make_scorer(metrics.recall_score)\n",
    "\n",
    "# Run the grid search\n",
    "grid_obj = GridSearchCV(xgb_tuned, parameters,scoring=acc_scorer,cv=5)\n",
    "grid_obj = grid_obj.fit(X_train, y_train)\n",
    "\n",
    "# Set the clf to the best combination of parameters\n",
    "xgb_tuned = grid_obj.best_estimator_\n",
    "\n",
    "# Fit the best algorithm to the data.\n",
    "xgb_tuned.fit(X_train, y_train)"
   ]
  },
  {
   "cell_type": "code",
   "execution_count": null,
   "id": "a7c24622",
   "metadata": {},
   "outputs": [],
   "source": [
    "#Using above defined function to get accuracy, recall and precision on train and test set\n",
    "xgb_tuned_score=get_metrics_score(xgb_tuned)"
   ]
  },
  {
   "cell_type": "code",
   "execution_count": null,
   "id": "57bd5908",
   "metadata": {},
   "outputs": [],
   "source": [
    "make_confusion_matrix(xgb_tuned,y_test)"
   ]
  },
  {
   "cell_type": "markdown",
   "id": "ecc3351d",
   "metadata": {},
   "source": [
    "### Insights\n",
    "- The test accuracy of the model has reduced as compared to the model with default parameters but the recall has increased significantly and the model is able to identify most of the defaulters.\n",
    "- Decreasing number of false negatives has increased the number of false positives here.\n",
    "- The tuned model is not overfitting and generalizes well."
   ]
  },
  {
   "cell_type": "code",
   "execution_count": null,
   "id": "195a676d",
   "metadata": {},
   "outputs": [],
   "source": [
    "importances = xgb_tuned.feature_importances_\n",
    "indices = np.argsort(importances)\n",
    "feature_names = list(X.columns)\n",
    "\n",
    "plt.figure(figsize=(12,12))\n",
    "plt.title('Feature Importances')\n",
    "plt.barh(range(len(indices)), importances[indices], color='violet', align='center')\n",
    "plt.yticks(range(len(indices)), [feature_names[i] for i in indices])\n",
    "plt.xlabel('Relative Importance')\n",
    "plt.show()"
   ]
  },
  {
   "cell_type": "markdown",
   "id": "ddc4e5b2",
   "metadata": {},
   "source": [
    "## Comparing all models"
   ]
  },
  {
   "cell_type": "code",
   "execution_count": null,
   "id": "0bf8e888",
   "metadata": {},
   "outputs": [],
   "source": [
    "# defining list of models\n",
    "models = [abc, abc_tuned, gbc, gbc_init, gbc_tuned, xgb, xgb_tuned]\n",
    "\n",
    "# defining empty lists to add train and test results\n",
    "acc_train = []\n",
    "acc_test = []\n",
    "recall_train = []\n",
    "recall_test = []\n",
    "precision_train = []\n",
    "precision_test = []\n",
    "\n",
    "# looping through all the models to get the accuracy, precall and precision scores\n",
    "for model in models:\n",
    "    j = get_metrics_score(model,False)\n",
    "    acc_train.append(np.round(j[0],2))\n",
    "    acc_test.append(np.round(j[1],2))\n",
    "    recall_train.append(np.round(j[2],2))\n",
    "    recall_test.append(np.round(j[3],2))\n",
    "    precision_train.append(np.round(j[4],2))\n",
    "    precision_test.append(np.round(j[5],2))"
   ]
  },
  {
   "cell_type": "code",
   "execution_count": null,
   "id": "7f993f08",
   "metadata": {},
   "outputs": [],
   "source": [
    "comparison_frame = pd.DataFrame({'Model':['AdaBoost with default paramters','AdaBoost Tuned', \n",
    "                                          'Gradient Boosting with default parameters','Gradient Boosting with init=AdaBoost',\n",
    "                                          'Gradient Boosting Tuned','XGBoost with default parameters','XGBoost Tuned'], \n",
    "                                          'Train_Accuracy': acc_train,'Test_Accuracy': acc_test,\n",
    "                                          'Train_Recall':recall_train,'Test_Recall':recall_test,\n",
    "                                          'Train_Precision':precision_train,'Test_Precision':precision_test}) \n",
    "comparison_frame"
   ]
  },
  {
   "cell_type": "markdown",
   "id": "7e70ff79",
   "metadata": {},
   "source": [
    "### Remark:\n",
    "- A `Cost Function` quantifies the error between predicted values and expected values and presents it in the form of a single real number.\n",
    "- The bank can choose a model depending on their cost function which they want to minimize. The cost function can depend on the geographical and economical conditions due to changes in interest rates, government rules etc.\n",
    "- Bank's main aim would be to balance the trade off between losing an opportunity (to gain money by giving loans) in case of FP and losing the money in case of FN.\n",
    "- We emphasized that recall is the metric of interest here and we tuned our model on recall. But this does not mean that other metrics should be ignored completely.\n",
    "- Here, we assumed that the $cost\\ on\\ FN>cost\\ on\\ FP$, but we do not want to misclassify so many non-defaulters that the equation is reversed i.e. $cost\\ on\\ FP>cost\\ on\\ FN$, hence, the bank will actually be losing money in the longer run.\n",
    "- `For example:` Let's say a bank gains 4% interest on the amount while giving loans to non-defaulters and lose 70% on the amount while giving loans to defaulters and also assume that the amount of loan is also fixed. Let's say we use a model which is only good at identifying defaulters and we get the following result:\n",
    "    - The model identifies 10 out of 10 defaulters\n",
    "    - The model identifies 10 out of 190 non-defaulters i.e. misclassified 180 non-defaulters\n",
    "    - Then, the money saved is $0.7*10*amount=7*amount$ and the money lost is $0.04*180*amount=7.2*amount$\n",
    "    - As the value of money lost is greater than the value of money saved, bank will actually lose money even after identifying all defaulters"
   ]
  },
  {
   "cell_type": "code",
   "execution_count": 91,
   "id": "52591464",
   "metadata": {},
   "outputs": [],
   "source": [
    "#Base Learners\n",
    "estimators = [\n",
    "   ('et_clf', BaggingClassifier(random_state=1)),\n",
    "('dt_clf', DecisionTreeClassifier(criterion='gini',  random_state=1))\n",
    "]\n"
   ]
  },
  {
   "cell_type": "code",
   "execution_count": 92,
   "id": "2cb9fa8a",
   "metadata": {},
   "outputs": [
    {
     "data": {
      "text/plain": [
       "0.9761904761904762"
      ]
     },
     "execution_count": 92,
     "metadata": {},
     "output_type": "execute_result"
    }
   ],
   "source": [
    "\n",
    "from sklearn.ensemble import StackingClassifier\n",
    "clf = StackingClassifier(\n",
    " estimators=estimators, final_estimator=RandomForestClassifier( random_state=1)\n",
    " )\n",
    "clf.fit(X_train, y_train)\n",
    "clf.score(X_test,y_test)"
   ]
  },
  {
   "cell_type": "code",
   "execution_count": 94,
   "id": "8e39da4f",
   "metadata": {},
   "outputs": [
    {
     "name": "stdout",
     "output_type": "stream",
     "text": [
      "Accuracy on training set :  0.9897260273972602\n",
      "Accuracy on test set :  0.9761904761904762\n",
      "Recall on training set :  0.875\n",
      "Recall on test set :  0.9090909090909091\n",
      "Precision on training set :  1.0\n",
      "Precision on test set :  0.8333333333333334\n"
     ]
    },
    {
     "data": {
      "text/plain": [
       "[0.9897260273972602,\n",
       " 0.9761904761904762,\n",
       " 0.875,\n",
       " 0.9090909090909091,\n",
       " 1.0,\n",
       " 0.8333333333333334]"
      ]
     },
     "execution_count": 94,
     "metadata": {},
     "output_type": "execute_result"
    }
   ],
   "source": [
    "get_metrics_score(clf)"
   ]
  },
  {
   "cell_type": "code",
   "execution_count": 96,
   "id": "7051e625",
   "metadata": {},
   "outputs": [
    {
     "name": "stdout",
     "output_type": "stream",
     "text": [
      "Accuracy on training set :  1.0\n",
      "Accuracy on test set :  0.9761904761904762\n",
      "Recall on training set :  1.0\n",
      "Recall on test set :  1.0\n",
      "Precision on training set :  1.0\n",
      "Precision on test set :  0.7857142857142857\n"
     ]
    },
    {
     "data": {
      "text/plain": [
       "[1.0, 0.9761904761904762, 1.0, 1.0, 1.0, 0.7857142857142857]"
      ]
     },
     "execution_count": 96,
     "metadata": {},
     "output_type": "execute_result"
    }
   ],
   "source": [
    "#Base Learners\n",
    "estimators = [\n",
    "   ('et_clf', AdaBoostClassifier(random_state=1)),\n",
    "('dt_clf', GradientBoostingClassifier(random_state=1))\n",
    "]\n",
    "\n",
    "from sklearn.ensemble import StackingClassifier\n",
    "clf = StackingClassifier(\n",
    " estimators=estimators, final_estimator=XGBClassifier(random_state=1,eval_metric='logloss')\n",
    " )\n",
    "clf.fit(X_train, y_train)\n",
    "clf.score(X_test,y_test)\n",
    "get_metrics_score(clf)"
   ]
  },
  {
   "cell_type": "code",
   "execution_count": 97,
   "id": "320e42e5",
   "metadata": {},
   "outputs": [],
   "source": [
    "# fitting the baggin classifier on training set\n",
    "bag = BaggingClassifier(random_state=1)\n",
    "bag.fit(X_train, y_train)\n",
    "\n",
    "# predicting on training set\n",
    "y_train_pred = bag.predict(X_train)"
   ]
  },
  {
   "cell_type": "code",
   "execution_count": 98,
   "id": "30d84074",
   "metadata": {},
   "outputs": [
    {
     "data": {
      "image/png": "[encoded data removed]",
      "text/plain": [
       "<Figure size 432x288 with 2 Axes>"
      ]
     },
     "metadata": {
      "needs_background": "light"
     },
     "output_type": "display_data"
    }
   ],
   "source": [
    "# creating the confusion matrix\n",
    "sns.heatmap(confusion_matrix(y_train,y_train_pred),annot=True,fmt='.1f')\n",
    "plt.xlabel('Predicted values')\n",
    "plt.ylabel('Actual values')\n",
    "plt.show()"
   ]
  },
  {
   "cell_type": "code",
   "execution_count": 99,
   "id": "300132d4",
   "metadata": {},
   "outputs": [
    {
     "data": {
      "text/plain": [
       "RandomForestClassifier(random_state=1)"
      ]
     },
     "execution_count": 99,
     "metadata": {},
     "output_type": "execute_result"
    }
   ],
   "source": [
    "# Random Forest\n",
    "rf = RandomForestClassifier(random_state=1)\n",
    "rf.fit(X_train, y_train)"
   ]
  },
  {
   "cell_type": "code",
   "execution_count": 100,
   "id": "c58000b0",
   "metadata": {},
   "outputs": [
    {
     "data": {
      "text/plain": [
       "BaggingClassifier(base_estimator=LogisticRegression(random_state=1),\n",
       "                  random_state=1)"
      ]
     },
     "execution_count": 100,
     "metadata": {},
     "output_type": "execute_result"
    }
   ],
   "source": [
    "# bagging classifier with base estimator  =Logistic Regression\n",
    "bag_lr = BaggingClassifier(random_state=1, base_estimator = LogisticRegression(random_state = 1))\n",
    "bag_lr.fit(X_train, y_train)"
   ]
  },
  {
   "cell_type": "code",
   "execution_count": 101,
   "id": "7aae083a",
   "metadata": {},
   "outputs": [],
   "source": [
    "# predicting on the training set\n",
    "rf_predict = rf.predict(X_train)\n",
    "bag_predict = bag_lr.predict(X_train)"
   ]
  },
  {
   "cell_type": "code",
   "execution_count": 102,
   "id": "6f45a5d4",
   "metadata": {},
   "outputs": [],
   "source": [
    "# Performance of Random Forest"
   ]
  },
  {
   "cell_type": "code",
   "execution_count": 103,
   "id": "68b894f1",
   "metadata": {},
   "outputs": [
    {
     "name": "stdout",
     "output_type": "stream",
     "text": [
      "Random Forest\n"
     ]
    }
   ],
   "source": [
    "print('Random Forest')"
   ]
  },
  {
   "cell_type": "code",
   "execution_count": 104,
   "id": "65b04257",
   "metadata": {},
   "outputs": [
    {
     "name": "stdout",
     "output_type": "stream",
     "text": [
      "1.0\n",
      "1.0\n"
     ]
    }
   ],
   "source": [
    "print(recall_score(y_train, rf_predict))\n",
    "print(f1_score(y_train, rf_predict))"
   ]
  },
  {
   "cell_type": "code",
   "execution_count": 105,
   "id": "0936f88c",
   "metadata": {},
   "outputs": [],
   "source": [
    "# Performance of Bagging classifier"
   ]
  },
  {
   "cell_type": "code",
   "execution_count": 106,
   "id": "ca1abecd",
   "metadata": {},
   "outputs": [
    {
     "name": "stdout",
     "output_type": "stream",
     "text": [
      "Bagging\n"
     ]
    }
   ],
   "source": [
    "print('Bagging')"
   ]
  },
  {
   "cell_type": "code",
   "execution_count": 107,
   "id": "c7d8d73a",
   "metadata": {},
   "outputs": [
    {
     "name": "stdout",
     "output_type": "stream",
     "text": [
      "0.9166666666666666\n",
      "0.9361702127659574\n"
     ]
    }
   ],
   "source": [
    "print(recall_score(y_train, bag_predict))\n",
    "print(f1_score(y_train, bag_predict))"
   ]
  },
  {
   "cell_type": "code",
   "execution_count": null,
   "id": "35cc2089",
   "metadata": {},
   "outputs": [],
   "source": []
  }
 ],
 "metadata": {
  "kernelspec": {
   "display_name": "Python 3",
   "language": "python",
   "name": "python3"
  },
  "language_info": {
   "codemirror_mode": {
    "name": "ipython",
    "version": 3
   },
   "file_extension": ".py",
   "mimetype": "text/x-python",
   "name": "python",
   "nbconvert_exporter": "python",
   "pygments_lexer": "ipython3",
   "version": "3.8.8"
  }
 },
 "nbformat": 4,
 "nbformat_minor": 5
}
