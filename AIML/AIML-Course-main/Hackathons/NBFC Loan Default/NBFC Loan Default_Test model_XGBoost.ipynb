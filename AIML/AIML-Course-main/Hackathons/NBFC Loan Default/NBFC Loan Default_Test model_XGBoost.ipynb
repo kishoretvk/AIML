{
  "cells": [
    {
      "cell_type": "markdown",
      "metadata": {
        "id": "ed884cac"
      },
      "source": [
        "### Problem Statement\n",
        "\n",
        "**Goal:**\n",
        "The goal of the problem is to predict whether a client will default on the loan payment or not. For each ID in the test_data, you must predict the “default” level.\n",
        "\n",
        "\n",
        "**Datasets**\n",
        "The problem contains two datasets, Train Data, and Test Data. Model building is to be done on Train Dataset and the Model testing is to be done on Test Dataset. The output from the Test Data is to be submitted in the Hackathon platform\n",
        "\n",
        "\n",
        "**Metric to measure**\n",
        "Your score is the percentage of all correct predictions made by you. This is simply known as accuracy. The best accuracy is 1 whereas the worst is 0. It will be calculated as the total number of two correct predictions (True positive + True negative) divided by the total number of observations in the dataset.\n",
        "\n",
        "\n",
        "**Submission File Format:**\n",
        "You should submit a CSV file with exactly 39933 entries plus a header row.\n",
        "The file should have exactly two columns\n",
        "\n",
        "*         ID ( sorted in any order)\n",
        "\n",
        "*         default (contains 0 & 1, 1 represents default)\n",
        "\n",
        "\n",
        "**Train data set file**\n",
        "* Train_set.csv\n",
        "\n",
        "**Test data set file**\n",
        "* Test_set.csv\n",
        "    \n",
        "**Sample submission file**\n",
        "* Sample_Submission_(2).csv\n",
        "\n",
        "**Additional files**\n",
        "* Data_Dictionary_(1).csv\n"
      ],
      "id": "ed884cac"
    },
    {
      "cell_type": "markdown",
      "source": [
        "**Data Dictionary**\n",
        "\n",
        "* **ID:** unique ID assigned to each applicant\n",
        "* **loan_amnt:** loan amount ($) applied each applicant\n",
        "* **loan_term:** Loan duration in years\n",
        "* **interest_rate:** Applicable interest rate on Loan in %\n",
        "* **loan_grade:** Loan Grade Assigned by the bank\n",
        "* **loan_subgrade:** Loan SubGrade Assigned by the bank\n",
        "* **job_experience:** Number of years job experience \n",
        "* **home_ownership:** Status of House Ownership\n",
        "* **annual_income:** Annual income of the applicant\n",
        "* **income_verification_status:** Status of Income verification by the bank\n",
        "* **loan_purpose:** Purpose of loan\n",
        "* **state_code:** State code of the applicant's residence \n",
        "* **debt_to_income:** Ratio to total debt to income (total debt might include other loan aswell)\n",
        "* **delinq_2yrs:** number of 30+ days delinquency in past 2 years\n",
        "* **public_records:** number of legal cases against the applicant\n",
        "* **revolving_balance:** total credit revolving balance\n",
        "* **total_acc:** total number of credit lines available in members credit line\n",
        "* **interest_receive:** total interest received by the bank on the loan\n",
        "* **application_type:** Whether the applicant has applied the loan by creating individuall or joint account\n",
        "* **last_week_pay:** How many months have the applicant paid the loan EMI already\n",
        "* **total_current_balance:** total current balance of all the accounts of applicant\n",
        "* **total_revolving_limit:** total revolving credit limit\n",
        "* **default:** \"status of loan amount, 1 = Defaulter, 0 = Non Defaulters\""
      ],
      "metadata": {
        "id": "BumUKWzd62ST"
      },
      "id": "BumUKWzd62ST"
    },
    {
      "cell_type": "code",
      "execution_count": 1,
      "metadata": {
        "colab": {
          "base_uri": "https://localhost:8080/"
        },
        "id": "BqBUp1RM6eGd",
        "outputId": "e3865d11-f89f-4971-e145-42ed1b231413"
      },
      "outputs": [
        {
          "output_type": "stream",
          "name": "stdout",
          "text": [
            "Mounted at /content/drive\n"
          ]
        }
      ],
      "source": [
        "from google.colab import drive\n",
        "drive.mount('/content/drive')"
      ],
      "id": "BqBUp1RM6eGd"
    },
    {
      "cell_type": "code",
      "execution_count": 2,
      "metadata": {
        "id": "23TOba33L4qf",
        "outputId": "b7023dfb-f669-4b6e-b4e1-fd44bea65283",
        "colab": {
          "base_uri": "https://localhost:8080/"
        }
      },
      "outputs": [
        {
          "output_type": "stream",
          "name": "stdout",
          "text": [
            "Sat Feb 19 20:12:55 2022       \n",
            "+-----------------------------------------------------------------------------+\n",
            "| NVIDIA-SMI 460.32.03    Driver Version: 460.32.03    CUDA Version: 11.2     |\n",
            "|-------------------------------+----------------------+----------------------+\n",
            "| GPU  Name        Persistence-M| Bus-Id        Disp.A | Volatile Uncorr. ECC |\n",
            "| Fan  Temp  Perf  Pwr:Usage/Cap|         Memory-Usage | GPU-Util  Compute M. |\n",
            "|                               |                      |               MIG M. |\n",
            "|===============================+======================+======================|\n",
            "|   0  Tesla P100-PCIE...  Off  | 00000000:00:04.0 Off |                    0 |\n",
            "| N/A   40C    P0    28W / 250W |      0MiB / 16280MiB |      0%      Default |\n",
            "|                               |                      |                  N/A |\n",
            "+-------------------------------+----------------------+----------------------+\n",
            "                                                                               \n",
            "+-----------------------------------------------------------------------------+\n",
            "| Processes:                                                                  |\n",
            "|  GPU   GI   CI        PID   Type   Process name                  GPU Memory |\n",
            "|        ID   ID                                                   Usage      |\n",
            "|=============================================================================|\n",
            "|  No running processes found                                                 |\n",
            "+-----------------------------------------------------------------------------+\n"
          ]
        }
      ],
      "source": [
        "gpu_info = !nvidia-smi\n",
        "gpu_info = '\\n'.join(gpu_info)\n",
        "if gpu_info.find('failed') >= 0:\n",
        "  print('Not connected to a GPU')\n",
        "else:\n",
        "  print(gpu_info)"
      ],
      "id": "23TOba33L4qf"
    },
    {
      "cell_type": "code",
      "execution_count": 3,
      "metadata": {
        "id": "V1G82GuO-tez",
        "outputId": "3449ecaf-e286-4768-876d-7fa76d943cfb",
        "colab": {
          "base_uri": "https://localhost:8080/"
        }
      },
      "outputs": [
        {
          "output_type": "stream",
          "name": "stdout",
          "text": [
            "Your runtime has 27.3 gigabytes of available RAM\n",
            "\n",
            "You are using a high-RAM runtime!\n"
          ]
        }
      ],
      "source": [
        "from psutil import virtual_memory\n",
        "ram_gb = virtual_memory().total / 1e9\n",
        "print('Your runtime has {:.1f} gigabytes of available RAM\\n'.format(ram_gb))\n",
        "\n",
        "if ram_gb < 20:\n",
        "  print('Not using a high-RAM runtime')\n",
        "else:\n",
        "  print('You are using a high-RAM runtime!')"
      ],
      "id": "V1G82GuO-tez"
    },
    {
      "cell_type": "markdown",
      "metadata": {
        "id": "k12UScc581uF"
      },
      "source": [
        "## **Introductory Steps**"
      ],
      "id": "k12UScc581uF"
    },
    {
      "cell_type": "markdown",
      "metadata": {
        "id": "vEUKOiz5-Qld"
      },
      "source": [
        "### Importing Libraries"
      ],
      "id": "vEUKOiz5-Qld"
    },
    {
      "cell_type": "code",
      "execution_count": 4,
      "metadata": {
        "id": "f5abb09d"
      },
      "outputs": [],
      "source": [
        "import pandas as pd\n",
        "import numpy as np\n",
        "from sklearn.model_selection import train_test_split\n",
        "from sklearn.preprocessing import LabelEncoder, OneHotEncoder\n",
        "from sklearn.preprocessing import StandardScaler\n",
        "from sklearn import model_selection\n",
        "from sklearn.compose import ColumnTransformer\n",
        "import matplotlib.pyplot as plt\n",
        "import seaborn as sns\n",
        "from sklearn.impute import SimpleImputer\n",
        "from sklearn.impute import KNNImputer\n",
        "import warnings\n",
        "from sklearn.metrics import confusion_matrix\n",
        "from sklearn.pipeline import Pipeline\n",
        "from sklearn.model_selection import GridSearchCV\n",
        "from sklearn.model_selection import RandomizedSearchCV\n",
        "import tensorflow as tf\n",
        "from tensorflow.keras.models import Sequential\n",
        "from tensorflow.keras.layers import Dense\n",
        "from tensorflow.keras.layers import Dense, Input, Dropout,BatchNormalization\n",
        "from tensorflow.keras.wrappers.scikit_learn import KerasClassifier\n",
        "import random\n",
        "from tensorflow.keras import backend\n",
        "\n",
        "# To help with model building\n",
        "from sklearn.linear_model import LogisticRegression\n",
        "from sklearn.tree import DecisionTreeClassifier\n",
        "from sklearn.ensemble import (\n",
        "    AdaBoostClassifier,\n",
        "    GradientBoostingClassifier,\n",
        "    RandomForestClassifier,\n",
        "    BaggingClassifier,\n",
        ")\n",
        "from xgboost import XGBClassifier\n",
        "\n",
        "# To get different metric scores, and split data\n",
        "from sklearn import metrics\n",
        "from sklearn.model_selection import train_test_split, StratifiedKFold, cross_val_score\n",
        "from sklearn.metrics import (\n",
        "    f1_score,\n",
        "    accuracy_score,\n",
        "    recall_score,\n",
        "    precision_score,\n",
        "    confusion_matrix,\n",
        "    roc_auc_score,\n",
        "    plot_confusion_matrix,\n",
        ")\n",
        "\n",
        "# To oversample and undersample data\n",
        "from imblearn.over_sampling import SMOTE\n",
        "from imblearn.under_sampling import RandomUnderSampler\n",
        "\n",
        "random.seed(1)\n",
        "np.random.seed(1) \n",
        "tf.random.set_seed(1)\n",
        "warnings.filterwarnings(\"ignore\")"
      ],
      "id": "f5abb09d"
    },
    {
      "cell_type": "markdown",
      "metadata": {
        "id": "ZAEqtrQu-VzO"
      },
      "source": [
        "### Loading the Data"
      ],
      "id": "ZAEqtrQu-VzO"
    },
    {
      "cell_type": "code",
      "execution_count": 5,
      "metadata": {
        "id": "f800cd8d"
      },
      "outputs": [],
      "source": [
        "Data = pd.read_csv('/content/drive/MyDrive/Colab Notebooks/Data/Hackathons/Train_set.csv')"
      ],
      "id": "f800cd8d"
    },
    {
      "cell_type": "code",
      "execution_count": 6,
      "metadata": {
        "colab": {
          "base_uri": "https://localhost:8080/"
        },
        "id": "BXZyb1vh-c2a",
        "outputId": "d15f04b7-f332-445b-8eb3-bc32712de4d2"
      },
      "outputs": [
        {
          "output_type": "execute_result",
          "data": {
            "text/plain": [
              "(93174, 23)"
            ]
          },
          "metadata": {},
          "execution_count": 6
        }
      ],
      "source": [
        "# Checking the number of rows and columns in the data\n",
        "Data.shape"
      ],
      "id": "BXZyb1vh-c2a"
    },
    {
      "cell_type": "markdown",
      "metadata": {
        "id": "O9rtKHxB-fy1"
      },
      "source": [
        "* The dataset has 93174 rows and 23 columns"
      ],
      "id": "O9rtKHxB-fy1"
    },
    {
      "cell_type": "code",
      "source": [
        "Data_test = pd.read_csv('/content/drive/MyDrive/Colab Notebooks/Data/Hackathons/Test_set.csv')"
      ],
      "metadata": {
        "id": "LazVsri9zaH-"
      },
      "execution_count": 7,
      "outputs": [],
      "id": "LazVsri9zaH-"
    },
    {
      "cell_type": "code",
      "source": [
        "Data_test.shape"
      ],
      "metadata": {
        "colab": {
          "base_uri": "https://localhost:8080/"
        },
        "id": "_oiulByF0OD2",
        "outputId": "f45c81b0-4f6c-4806-952e-8aef4f39067c"
      },
      "id": "_oiulByF0OD2",
      "execution_count": 8,
      "outputs": [
        {
          "output_type": "execute_result",
          "data": {
            "text/plain": [
              "(39933, 22)"
            ]
          },
          "metadata": {},
          "execution_count": 8
        }
      ]
    },
    {
      "cell_type": "markdown",
      "source": [
        "## **Data Preprocessing**"
      ],
      "metadata": {
        "id": "V0MnBjHP2KTI"
      },
      "id": "V0MnBjHP2KTI"
    },
    {
      "cell_type": "markdown",
      "metadata": {
        "id": "72ZJ-3-yPgA9"
      },
      "source": [
        "### Train data Load"
      ],
      "id": "72ZJ-3-yPgA9"
    },
    {
      "cell_type": "code",
      "source": [
        "# copy dataframe to another one for modifying \n",
        "df = pd. DataFrame(Data)\n",
        "df.info()"
      ],
      "metadata": {
        "id": "a0s1TLqWg3KA",
        "colab": {
          "base_uri": "https://localhost:8080/"
        },
        "outputId": "aea2822a-9659-4b48-a107-be1461e54610"
      },
      "execution_count": 184,
      "outputs": [
        {
          "output_type": "stream",
          "name": "stdout",
          "text": [
            "<class 'pandas.core.frame.DataFrame'>\n",
            "RangeIndex: 93174 entries, 0 to 93173\n",
            "Data columns (total 23 columns):\n",
            " #   Column                      Non-Null Count  Dtype  \n",
            "---  ------                      --------------  -----  \n",
            " 0   ID                          93174 non-null  int64  \n",
            " 1   loan_amnt                   93174 non-null  int64  \n",
            " 2   loan_term                   93174 non-null  object \n",
            " 3   interest_rate               93174 non-null  float64\n",
            " 4   loan_grade                  93174 non-null  object \n",
            " 5   loan_subgrade               93174 non-null  object \n",
            " 6   job_experience              88472 non-null  object \n",
            " 7   home_ownership              93174 non-null  object \n",
            " 8   annual_income               93173 non-null  float64\n",
            " 9   income_verification_status  93174 non-null  object \n",
            " 10  loan_purpose                93174 non-null  object \n",
            " 11  state_code                  93174 non-null  object \n",
            " 12  debt_to_income              93174 non-null  float64\n",
            " 13  delinq_2yrs                 93172 non-null  float64\n",
            " 14  public_records              93172 non-null  float64\n",
            " 15  revolving_balance           93174 non-null  int64  \n",
            " 16  total_acc                   93172 non-null  float64\n",
            " 17  interest_receive            93174 non-null  float64\n",
            " 18  application_type            93174 non-null  object \n",
            " 19  last_week_pay               91250 non-null  float64\n",
            " 20  total_current_balance       85788 non-null  float64\n",
            " 21  total_revolving_limit       85788 non-null  float64\n",
            " 22  default                     93174 non-null  int64  \n",
            "dtypes: float64(10), int64(4), object(9)\n",
            "memory usage: 16.3+ MB\n"
          ]
        }
      ],
      "id": "a0s1TLqWg3KA"
    },
    {
      "cell_type": "code",
      "execution_count": 185,
      "metadata": {
        "id": "GUPZnaH27m94"
      },
      "outputs": [],
      "source": [
        "# ID columns consists of uniques ID for customers and hence will not add value to the modeling\n",
        "df.drop(['ID'],axis=1,inplace=True)"
      ],
      "id": "GUPZnaH27m94"
    },
    {
      "cell_type": "code",
      "source": [
        "df.isna().sum()"
      ],
      "metadata": {
        "colab": {
          "base_uri": "https://localhost:8080/"
        },
        "id": "uUBGA63Q0mlS",
        "outputId": "54c2a912-0b71-4966-fc55-5c629bec8d70"
      },
      "id": "uUBGA63Q0mlS",
      "execution_count": 186,
      "outputs": [
        {
          "output_type": "execute_result",
          "data": {
            "text/plain": [
              "loan_amnt                        0\n",
              "loan_term                        0\n",
              "interest_rate                    0\n",
              "loan_grade                       0\n",
              "loan_subgrade                    0\n",
              "job_experience                4702\n",
              "home_ownership                   0\n",
              "annual_income                    1\n",
              "income_verification_status       0\n",
              "loan_purpose                     0\n",
              "state_code                       0\n",
              "debt_to_income                   0\n",
              "delinq_2yrs                      2\n",
              "public_records                   2\n",
              "revolving_balance                0\n",
              "total_acc                        2\n",
              "interest_receive                 0\n",
              "application_type                 0\n",
              "last_week_pay                 1924\n",
              "total_current_balance         7386\n",
              "total_revolving_limit         7386\n",
              "default                          0\n",
              "dtype: int64"
            ]
          },
          "metadata": {},
          "execution_count": 186
        }
      ]
    },
    {
      "cell_type": "markdown",
      "source": [
        "#### Test Data Load"
      ],
      "metadata": {
        "id": "DeN6PuTlchmn"
      },
      "id": "DeN6PuTlchmn"
    },
    {
      "cell_type": "code",
      "source": [
        "df_test = pd. DataFrame(Data_test)"
      ],
      "metadata": {
        "id": "lc1mfBW93WpR"
      },
      "execution_count": 187,
      "outputs": [],
      "id": "lc1mfBW93WpR"
    },
    {
      "cell_type": "code",
      "source": [
        "df_test.info()\n",
        "# ID columns consists of uniques ID for customers and hence will not add value to the modeling\n",
        "df_test.drop(['ID'],axis=1,inplace=True)\n"
      ],
      "metadata": {
        "id": "kUkhRuAl3KsL",
        "colab": {
          "base_uri": "https://localhost:8080/"
        },
        "outputId": "c0c347ab-8ac9-4afc-8be8-84da878d9923"
      },
      "execution_count": 188,
      "outputs": [
        {
          "output_type": "stream",
          "name": "stdout",
          "text": [
            "<class 'pandas.core.frame.DataFrame'>\n",
            "RangeIndex: 39933 entries, 0 to 39932\n",
            "Data columns (total 22 columns):\n",
            " #   Column                      Non-Null Count  Dtype  \n",
            "---  ------                      --------------  -----  \n",
            " 0   ID                          39933 non-null  int64  \n",
            " 1   loan_amnt                   39933 non-null  int64  \n",
            " 2   loan_term                   39933 non-null  object \n",
            " 3   interest_rate               39933 non-null  float64\n",
            " 4   loan_grade                  39933 non-null  object \n",
            " 5   loan_subgrade               39933 non-null  object \n",
            " 6   job_experience              37844 non-null  object \n",
            " 7   home_ownership              39933 non-null  object \n",
            " 8   annual_income               39933 non-null  float64\n",
            " 9   income_verification_status  39933 non-null  object \n",
            " 10  loan_purpose                39933 non-null  object \n",
            " 11  state_code                  39933 non-null  object \n",
            " 12  debt_to_income              39933 non-null  float64\n",
            " 13  delinq_2yrs                 39932 non-null  float64\n",
            " 14  public_records              39932 non-null  float64\n",
            " 15  revolving_balance           39933 non-null  int64  \n",
            " 16  total_acc                   39932 non-null  float64\n",
            " 17  interest_receive            39933 non-null  float64\n",
            " 18  application_type            39933 non-null  object \n",
            " 19  last_week_pay               39127 non-null  float64\n",
            " 20  total_current_balance       36703 non-null  float64\n",
            " 21  total_revolving_limit       36703 non-null  float64\n",
            "dtypes: float64(10), int64(3), object(9)\n",
            "memory usage: 6.7+ MB\n"
          ]
        }
      ],
      "id": "kUkhRuAl3KsL"
    },
    {
      "cell_type": "code",
      "source": [
        "df_test.isna().sum()"
      ],
      "metadata": {
        "id": "iUYJ0kyO4AVo",
        "colab": {
          "base_uri": "https://localhost:8080/"
        },
        "outputId": "e33a30c9-c4f7-4b35-9e4b-e2db55b769cc"
      },
      "execution_count": 189,
      "outputs": [
        {
          "output_type": "execute_result",
          "data": {
            "text/plain": [
              "loan_amnt                        0\n",
              "loan_term                        0\n",
              "interest_rate                    0\n",
              "loan_grade                       0\n",
              "loan_subgrade                    0\n",
              "job_experience                2089\n",
              "home_ownership                   0\n",
              "annual_income                    0\n",
              "income_verification_status       0\n",
              "loan_purpose                     0\n",
              "state_code                       0\n",
              "debt_to_income                   0\n",
              "delinq_2yrs                      1\n",
              "public_records                   1\n",
              "revolving_balance                0\n",
              "total_acc                        1\n",
              "interest_receive                 0\n",
              "application_type                 0\n",
              "last_week_pay                  806\n",
              "total_current_balance         3230\n",
              "total_revolving_limit         3230\n",
              "dtype: int64"
            ]
          },
          "metadata": {},
          "execution_count": 189
        }
      ],
      "id": "iUYJ0kyO4AVo"
    },
    {
      "cell_type": "markdown",
      "source": [
        "#### Impute Data"
      ],
      "metadata": {
        "id": "x03d7tZ7c_EB"
      },
      "id": "x03d7tZ7c_EB"
    },
    {
      "cell_type": "code",
      "source": [
        "# spply impute function to convert  cateogry into numeric \n",
        "loan_term = {\"3 years\": 3, \"5 years\": 5}\n",
        "loan_grade = {\"A\": 0, \"B\": 1,\"C\": 2,\"D\": 3,\"E\": 4,\"F\": 5,\"G\": 6}\n",
        "job_experience = {\"<5 Years\": 0, \"10+ years\": 1,\"6-10 years\": 2}\n",
        "home_ownership = {\"MORTGAGE\": 0, \"RENT\": 1, \"OWN\" : 2, \"OTHER\": 3, \"NONE\" : 4}\n",
        "income_verification_status = {\"Source Verified\": 0, \"Verified\": 1,\"Not Verified\" : 2}\n",
        "loan_purpose = {\"debt_consolidation\": 0, \"credit_card\": 1, \"other\" : 2, \"home_improvement\": 3}\n",
        "application_type = {\"INDIVIDUAL\": 0, \"JOINT\": 1}\n",
        "loan_subgrade = {\"A1\": 0, \"A2\": 1, \"A3\" : 2, \"A4\": 3, \"A5\" : 4,\"A6\": 5,\"B1\": 6, \"B2\":7, \"B3\":8, \"B4\":9,\"B5\":10,\"B6\":11, \"C1\": 12 , \"C2\": 13 ,\"C3\": 14 , \"C4\": 15,\"C5\": 16 , \"C6\": 17, \"D1\" : 18, \"D2\" : 19, \"D3\" : 20, \"D4\" : 21 , \"D5\" : 22 , \"D6\" : 27, \"E1\" : 28,  \"E2\" : 29,\"E3\" : 30,  \"E4\" : 31, \"E5\" : 32,  \"E6\" : 33, \"F1\": 34, \"F2\": 35,\"F3\": 35, \"F4\": 36,\"F5\": 37, \"F6\": 38,\"G1\" : 39, \"G2\" : 40, \"G4\" : 42, \"G3\": 41, \"G5\" : 44, \"G6\" :45 }\n",
        "state_code = {\"CA\": 0,\"NY\": 1, \"TX\": 2, \"FL\": 3, \"IL\": 4, \"NJ\": 5, \"PA\": 6,\"OH\":7,\"GA\": 8, \"VA\": 9, \"NC\": 10, \"MI\": 11, \"MD\": 12 , \"MA\": 13, \"AZ\":  14, \"WA\": 15, \"CO\": 16,\"MN\": 17, \"MO\": 18, \"IN\": 19, \"CT\": 20, \"TN\": 21, \"NV\": 22, \"WI\": 23, \"AL\": 24,\"LA\": 25, \"SC\": 26, \"OR\": 27, \"KY\":  28, \"OK\": 29, \"KS\": 30, \"AR\": 31,\"UT\": 32,\"NM\": 33,\"WV\": 34,\"HI\": 35,\"NH\": 36,\"RI\": 37,\"MS\": 38,\"DC\": 39,\"MT\": 40,\"DE\": 41,\"AK\": 42,\"WY\": 44,\"SD\":  45,\"VT\":  46,\"NE\":  47,\"ME\":  48,\"ND\":  49,\"ID\": 50}\n"
      ],
      "metadata": {
        "id": "RU3iSdUEhEB3"
      },
      "execution_count": 190,
      "outputs": [],
      "id": "RU3iSdUEhEB3"
    },
    {
      "cell_type": "code",
      "source": [
        "df[\"loan_term\"] = df[\"loan_term\"].map(loan_term)\n",
        "df[\"loan_grade\"] = df[\"loan_grade\"].map(loan_grade)\n",
        "df[\"job_experience\"] = df[\"job_experience\"].map(job_experience)\n",
        "df[\"home_ownership\"] = df[\"home_ownership\"].map(home_ownership)\n",
        "df[\"income_verification_status\"] = df[\"income_verification_status\"].map(income_verification_status)\n",
        "df[\"loan_purpose\"] = df[\"loan_purpose\"].map(loan_purpose)\n",
        "df[\"application_type\"] = df[\"application_type\"].map(application_type)\n",
        "df[\"loan_subgrade\"] = df[\"loan_subgrade\"].map(loan_subgrade)\n",
        "df[\"state_code\"] = df[\"state_code\"].map(state_code)\n",
        "\n",
        "df.info()"
      ],
      "metadata": {
        "id": "uwkb_7r7Dk6t",
        "colab": {
          "base_uri": "https://localhost:8080/"
        },
        "outputId": "324d2c5c-9a2a-41f8-a749-bc7b6b93898e"
      },
      "execution_count": 191,
      "outputs": [
        {
          "output_type": "stream",
          "name": "stdout",
          "text": [
            "<class 'pandas.core.frame.DataFrame'>\n",
            "RangeIndex: 93174 entries, 0 to 93173\n",
            "Data columns (total 22 columns):\n",
            " #   Column                      Non-Null Count  Dtype  \n",
            "---  ------                      --------------  -----  \n",
            " 0   loan_amnt                   93174 non-null  int64  \n",
            " 1   loan_term                   93174 non-null  int64  \n",
            " 2   interest_rate               93174 non-null  float64\n",
            " 3   loan_grade                  93174 non-null  int64  \n",
            " 4   loan_subgrade               93174 non-null  int64  \n",
            " 5   job_experience              88472 non-null  float64\n",
            " 6   home_ownership              93174 non-null  int64  \n",
            " 7   annual_income               93173 non-null  float64\n",
            " 8   income_verification_status  93174 non-null  int64  \n",
            " 9   loan_purpose                93174 non-null  int64  \n",
            " 10  state_code                  93174 non-null  int64  \n",
            " 11  debt_to_income              93174 non-null  float64\n",
            " 12  delinq_2yrs                 93172 non-null  float64\n",
            " 13  public_records              93172 non-null  float64\n",
            " 14  revolving_balance           93174 non-null  int64  \n",
            " 15  total_acc                   93172 non-null  float64\n",
            " 16  interest_receive            93174 non-null  float64\n",
            " 17  application_type            93174 non-null  int64  \n",
            " 18  last_week_pay               91250 non-null  float64\n",
            " 19  total_current_balance       85788 non-null  float64\n",
            " 20  total_revolving_limit       85788 non-null  float64\n",
            " 21  default                     93174 non-null  int64  \n",
            "dtypes: float64(11), int64(11)\n",
            "memory usage: 15.6 MB\n"
          ]
        }
      ],
      "id": "uwkb_7r7Dk6t"
    },
    {
      "cell_type": "code",
      "source": [
        "df_test[\"loan_term\"] = df_test[\"loan_term\"].map(loan_term)\n",
        "df_test[\"loan_grade\"] = df_test[\"loan_grade\"].map(loan_grade)\n",
        "df_test[\"job_experience\"] = df_test[\"job_experience\"].map(job_experience)\n",
        "df_test[\"home_ownership\"] = df_test[\"home_ownership\"].map(home_ownership)\n",
        "df_test[\"income_verification_status\"] = df_test[\"income_verification_status\"].map(income_verification_status)\n",
        "df_test[\"loan_purpose\"] = df_test[\"loan_purpose\"].map(loan_purpose)\n",
        "df_test[\"application_type\"] = df_test[\"application_type\"].map(application_type)\n",
        "df_test[\"loan_subgrade\"] = df_test[\"loan_subgrade\"].map(loan_subgrade)\n",
        "df_test[\"state_code\"] = df_test[\"state_code\"].map(state_code)"
      ],
      "metadata": {
        "id": "WqPp914v4HdG"
      },
      "execution_count": 192,
      "outputs": [],
      "id": "WqPp914v4HdG"
    },
    {
      "cell_type": "code",
      "source": [
        "# define imputer\n",
        "imputer = KNNImputer(n_neighbors=5, weights='uniform', metric='nan_euclidean')"
      ],
      "metadata": {
        "id": "W0GwyGEWhNCJ"
      },
      "execution_count": 193,
      "outputs": [],
      "id": "W0GwyGEWhNCJ"
    },
    {
      "cell_type": "code",
      "source": [
        "## Separating Independent and Dependent Columns\n",
        "X = df.drop(['default'],axis=1)\n",
        "Y = df[['default']]"
      ],
      "metadata": {
        "id": "13Z6iR0ZiMIQ"
      },
      "execution_count": 194,
      "outputs": [],
      "id": "13Z6iR0ZiMIQ"
    },
    {
      "cell_type": "code",
      "source": [
        "reqd_col_for_impute = [\"job_experience\" , \"annual_income\", \"delinq_2yrs\", \"public_records\" , \"total_acc\" , \"last_week_pay\", \"total_current_balance\", \"total_revolving_limit\"]"
      ],
      "metadata": {
        "id": "Qvga6gLyHQzE"
      },
      "execution_count": 195,
      "outputs": [],
      "id": "Qvga6gLyHQzE"
    },
    {
      "cell_type": "code",
      "source": [
        "# Fit and transform the train data\n",
        "X[reqd_col_for_impute] = imputer.fit_transform(X[reqd_col_for_impute])\n",
        "\n",
        "# Transform the test data\n",
        "df_test[reqd_col_for_impute] = imputer.transform(df_test[reqd_col_for_impute])"
      ],
      "metadata": {
        "id": "8sx0XB9rF5Qp"
      },
      "execution_count": 196,
      "outputs": [],
      "id": "8sx0XB9rF5Qp"
    },
    {
      "cell_type": "code",
      "source": [
        "# Checking that no column has missing values in train, validation or test sets\n",
        "print(X.isna().sum())\n",
        "print(\"-\" * 30)\n",
        "print(df_test.isna().sum())"
      ],
      "metadata": {
        "id": "YJgiENYlHXfs",
        "colab": {
          "base_uri": "https://localhost:8080/"
        },
        "outputId": "0bbe8c3b-5442-415f-fd21-93023e25719a"
      },
      "execution_count": 197,
      "outputs": [
        {
          "output_type": "stream",
          "name": "stdout",
          "text": [
            "loan_amnt                     0\n",
            "loan_term                     0\n",
            "interest_rate                 0\n",
            "loan_grade                    0\n",
            "loan_subgrade                 0\n",
            "job_experience                0\n",
            "home_ownership                0\n",
            "annual_income                 0\n",
            "income_verification_status    0\n",
            "loan_purpose                  0\n",
            "state_code                    0\n",
            "debt_to_income                0\n",
            "delinq_2yrs                   0\n",
            "public_records                0\n",
            "revolving_balance             0\n",
            "total_acc                     0\n",
            "interest_receive              0\n",
            "application_type              0\n",
            "last_week_pay                 0\n",
            "total_current_balance         0\n",
            "total_revolving_limit         0\n",
            "dtype: int64\n",
            "------------------------------\n",
            "loan_amnt                     0\n",
            "loan_term                     0\n",
            "interest_rate                 0\n",
            "loan_grade                    0\n",
            "loan_subgrade                 0\n",
            "job_experience                0\n",
            "home_ownership                0\n",
            "annual_income                 0\n",
            "income_verification_status    0\n",
            "loan_purpose                  0\n",
            "state_code                    0\n",
            "debt_to_income                0\n",
            "delinq_2yrs                   0\n",
            "public_records                0\n",
            "revolving_balance             0\n",
            "total_acc                     0\n",
            "interest_receive              0\n",
            "application_type              0\n",
            "last_week_pay                 0\n",
            "total_current_balance         0\n",
            "total_revolving_limit         0\n",
            "dtype: int64\n"
          ]
        }
      ],
      "id": "YJgiENYlHXfs"
    },
    {
      "cell_type": "code",
      "source": [
        "## Function to inverse the encoding\n",
        "def inverse_mapping(x, y):\n",
        "    inv_dict = {v: k for k, v in x.items()}\n",
        "    X[y] = np.round(X[y]).map(inv_dict).astype(\"category\")\n",
        "    df_test[y] = np.round(df_test[y]).map(inv_dict).astype(\"category\")"
      ],
      "metadata": {
        "id": "nWGygHqkHy2i"
      },
      "execution_count": 198,
      "outputs": [],
      "id": "nWGygHqkHy2i"
    },
    {
      "cell_type": "code",
      "source": [
        "inverse_mapping(loan_term, \"loan_term\")\n",
        "inverse_mapping(loan_grade, \"loan_grade\")\n",
        "inverse_mapping(loan_subgrade, \"loan_subgrade\")\n",
        "inverse_mapping(job_experience, \"job_experience\")\n",
        "inverse_mapping(home_ownership, \"home_ownership\")\n",
        "inverse_mapping(income_verification_status, \"income_verification_status\")\n",
        "inverse_mapping(loan_purpose, \"loan_purpose\")\n",
        "inverse_mapping(state_code, \"state_code\")\n",
        "inverse_mapping(application_type, \"application_type\")"
      ],
      "metadata": {
        "id": "f3upZ1ehH7I9"
      },
      "execution_count": 199,
      "outputs": [],
      "id": "f3upZ1ehH7I9"
    },
    {
      "cell_type": "code",
      "source": [
        "X.drop(['total_revolving_limit'],axis=1,inplace=True)\n",
        "df_test.drop(['total_revolving_limit'],axis=1,inplace=True)"
      ],
      "metadata": {
        "id": "ZadqgdlQaaMt"
      },
      "id": "ZadqgdlQaaMt",
      "execution_count": 200,
      "outputs": []
    },
    {
      "cell_type": "markdown",
      "metadata": {
        "id": "CClwkaqWD3R1"
      },
      "source": [
        "#### Adding dummy variables for category columns and Creating training and test data sets"
      ],
      "id": "CClwkaqWD3R1"
    },
    {
      "cell_type": "code",
      "execution_count": 201,
      "metadata": {
        "id": "3oCP42rskyhe"
      },
      "outputs": [],
      "source": [
        "oneHotCols = [\n",
        "    \"loan_term\",\n",
        "    \"loan_grade\",\n",
        "    \"loan_subgrade\",\n",
        "    \"job_experience\",\n",
        "    \"home_ownership\",\n",
        "    \"income_verification_status\",\n",
        "    \"loan_purpose\",\n",
        "    \"state_code\",\n",
        "    \"application_type\"\n",
        "]\n",
        "X = pd.get_dummies(data=X, columns=oneHotCols, drop_first=True)\n",
        "df_test = pd.get_dummies(data=df_test, columns=oneHotCols, drop_first=True)"
      ],
      "id": "3oCP42rskyhe"
    },
    {
      "cell_type": "code",
      "execution_count": 202,
      "metadata": {
        "id": "9f929b75"
      },
      "outputs": [],
      "source": [
        "# Splitting the dataset into the Training and Testing set.\n",
        "\n",
        "X_train, X_val, y_train, y_val = train_test_split(X,Y, test_size = 0.2, random_state = 35,stratify = Y)"
      ],
      "id": "9f929b75"
    },
    {
      "cell_type": "code",
      "execution_count": 203,
      "metadata": {
        "id": "f3fda613",
        "colab": {
          "base_uri": "https://localhost:8080/",
          "height": 317
        },
        "outputId": "60cea93a-a981-42e7-c92a-b17e09620b3a"
      },
      "outputs": [
        {
          "output_type": "execute_result",
          "data": {
            "text/html": [
              "\n",
              "  <div id=\"df-63db1cef-c6c9-4448-bf7a-91320edaa128\">\n",
              "    <div class=\"colab-df-container\">\n",
              "      <div>\n",
              "<style scoped>\n",
              "    .dataframe tbody tr th:only-of-type {\n",
              "        vertical-align: middle;\n",
              "    }\n",
              "\n",
              "    .dataframe tbody tr th {\n",
              "        vertical-align: top;\n",
              "    }\n",
              "\n",
              "    .dataframe thead th {\n",
              "        text-align: right;\n",
              "    }\n",
              "</style>\n",
              "<table border=\"1\" class=\"dataframe\">\n",
              "  <thead>\n",
              "    <tr style=\"text-align: right;\">\n",
              "      <th></th>\n",
              "      <th>loan_amnt</th>\n",
              "      <th>interest_rate</th>\n",
              "      <th>annual_income</th>\n",
              "      <th>debt_to_income</th>\n",
              "      <th>delinq_2yrs</th>\n",
              "      <th>public_records</th>\n",
              "      <th>revolving_balance</th>\n",
              "      <th>total_acc</th>\n",
              "      <th>interest_receive</th>\n",
              "      <th>last_week_pay</th>\n",
              "      <th>total_current_balance</th>\n",
              "      <th>loan_term_5 years</th>\n",
              "      <th>loan_grade_B</th>\n",
              "      <th>loan_grade_C</th>\n",
              "      <th>loan_grade_D</th>\n",
              "      <th>loan_grade_E</th>\n",
              "      <th>loan_grade_F</th>\n",
              "      <th>loan_grade_G</th>\n",
              "      <th>loan_subgrade_A2</th>\n",
              "      <th>loan_subgrade_A3</th>\n",
              "      <th>loan_subgrade_A4</th>\n",
              "      <th>loan_subgrade_A5</th>\n",
              "      <th>loan_subgrade_B1</th>\n",
              "      <th>loan_subgrade_B2</th>\n",
              "      <th>loan_subgrade_B3</th>\n",
              "      <th>loan_subgrade_B4</th>\n",
              "      <th>loan_subgrade_B5</th>\n",
              "      <th>loan_subgrade_C1</th>\n",
              "      <th>loan_subgrade_C2</th>\n",
              "      <th>loan_subgrade_C3</th>\n",
              "      <th>loan_subgrade_C4</th>\n",
              "      <th>loan_subgrade_C5</th>\n",
              "      <th>loan_subgrade_D1</th>\n",
              "      <th>loan_subgrade_D2</th>\n",
              "      <th>loan_subgrade_D3</th>\n",
              "      <th>loan_subgrade_D4</th>\n",
              "      <th>loan_subgrade_D5</th>\n",
              "      <th>loan_subgrade_E1</th>\n",
              "      <th>loan_subgrade_E2</th>\n",
              "      <th>loan_subgrade_E3</th>\n",
              "      <th>...</th>\n",
              "      <th>state_code_HI</th>\n",
              "      <th>state_code_ID</th>\n",
              "      <th>state_code_IL</th>\n",
              "      <th>state_code_IN</th>\n",
              "      <th>state_code_KS</th>\n",
              "      <th>state_code_KY</th>\n",
              "      <th>state_code_LA</th>\n",
              "      <th>state_code_MA</th>\n",
              "      <th>state_code_MD</th>\n",
              "      <th>state_code_ME</th>\n",
              "      <th>state_code_MI</th>\n",
              "      <th>state_code_MN</th>\n",
              "      <th>state_code_MO</th>\n",
              "      <th>state_code_MS</th>\n",
              "      <th>state_code_MT</th>\n",
              "      <th>state_code_NC</th>\n",
              "      <th>state_code_ND</th>\n",
              "      <th>state_code_NE</th>\n",
              "      <th>state_code_NH</th>\n",
              "      <th>state_code_NJ</th>\n",
              "      <th>state_code_NM</th>\n",
              "      <th>state_code_NV</th>\n",
              "      <th>state_code_NY</th>\n",
              "      <th>state_code_OH</th>\n",
              "      <th>state_code_OK</th>\n",
              "      <th>state_code_OR</th>\n",
              "      <th>state_code_PA</th>\n",
              "      <th>state_code_RI</th>\n",
              "      <th>state_code_SC</th>\n",
              "      <th>state_code_SD</th>\n",
              "      <th>state_code_TN</th>\n",
              "      <th>state_code_TX</th>\n",
              "      <th>state_code_UT</th>\n",
              "      <th>state_code_VA</th>\n",
              "      <th>state_code_VT</th>\n",
              "      <th>state_code_WA</th>\n",
              "      <th>state_code_WI</th>\n",
              "      <th>state_code_WV</th>\n",
              "      <th>state_code_WY</th>\n",
              "      <th>application_type_JOINT</th>\n",
              "    </tr>\n",
              "  </thead>\n",
              "  <tbody>\n",
              "    <tr>\n",
              "      <th>57626</th>\n",
              "      <td>21350</td>\n",
              "      <td>18.25</td>\n",
              "      <td>90000.0</td>\n",
              "      <td>17.39</td>\n",
              "      <td>0.0</td>\n",
              "      <td>0.0</td>\n",
              "      <td>24935</td>\n",
              "      <td>35.0</td>\n",
              "      <td>2479.19</td>\n",
              "      <td>35.0</td>\n",
              "      <td>128346.0</td>\n",
              "      <td>1</td>\n",
              "      <td>0</td>\n",
              "      <td>0</td>\n",
              "      <td>0</td>\n",
              "      <td>1</td>\n",
              "      <td>0</td>\n",
              "      <td>0</td>\n",
              "      <td>0</td>\n",
              "      <td>0</td>\n",
              "      <td>0</td>\n",
              "      <td>0</td>\n",
              "      <td>0</td>\n",
              "      <td>0</td>\n",
              "      <td>0</td>\n",
              "      <td>0</td>\n",
              "      <td>0</td>\n",
              "      <td>0</td>\n",
              "      <td>0</td>\n",
              "      <td>0</td>\n",
              "      <td>0</td>\n",
              "      <td>0</td>\n",
              "      <td>0</td>\n",
              "      <td>0</td>\n",
              "      <td>0</td>\n",
              "      <td>0</td>\n",
              "      <td>0</td>\n",
              "      <td>1</td>\n",
              "      <td>0</td>\n",
              "      <td>0</td>\n",
              "      <td>...</td>\n",
              "      <td>0</td>\n",
              "      <td>0</td>\n",
              "      <td>0</td>\n",
              "      <td>0</td>\n",
              "      <td>0</td>\n",
              "      <td>0</td>\n",
              "      <td>0</td>\n",
              "      <td>0</td>\n",
              "      <td>0</td>\n",
              "      <td>0</td>\n",
              "      <td>0</td>\n",
              "      <td>0</td>\n",
              "      <td>0</td>\n",
              "      <td>0</td>\n",
              "      <td>0</td>\n",
              "      <td>0</td>\n",
              "      <td>0</td>\n",
              "      <td>0</td>\n",
              "      <td>0</td>\n",
              "      <td>0</td>\n",
              "      <td>0</td>\n",
              "      <td>0</td>\n",
              "      <td>0</td>\n",
              "      <td>1</td>\n",
              "      <td>0</td>\n",
              "      <td>0</td>\n",
              "      <td>0</td>\n",
              "      <td>0</td>\n",
              "      <td>0</td>\n",
              "      <td>0</td>\n",
              "      <td>0</td>\n",
              "      <td>0</td>\n",
              "      <td>0</td>\n",
              "      <td>0</td>\n",
              "      <td>0</td>\n",
              "      <td>0</td>\n",
              "      <td>0</td>\n",
              "      <td>0</td>\n",
              "      <td>0</td>\n",
              "      <td>0</td>\n",
              "    </tr>\n",
              "    <tr>\n",
              "      <th>6051</th>\n",
              "      <td>18000</td>\n",
              "      <td>12.29</td>\n",
              "      <td>92000.0</td>\n",
              "      <td>15.59</td>\n",
              "      <td>0.0</td>\n",
              "      <td>0.0</td>\n",
              "      <td>22148</td>\n",
              "      <td>33.0</td>\n",
              "      <td>534.02</td>\n",
              "      <td>13.0</td>\n",
              "      <td>263890.0</td>\n",
              "      <td>1</td>\n",
              "      <td>0</td>\n",
              "      <td>1</td>\n",
              "      <td>0</td>\n",
              "      <td>0</td>\n",
              "      <td>0</td>\n",
              "      <td>0</td>\n",
              "      <td>0</td>\n",
              "      <td>0</td>\n",
              "      <td>0</td>\n",
              "      <td>0</td>\n",
              "      <td>0</td>\n",
              "      <td>0</td>\n",
              "      <td>0</td>\n",
              "      <td>0</td>\n",
              "      <td>0</td>\n",
              "      <td>1</td>\n",
              "      <td>0</td>\n",
              "      <td>0</td>\n",
              "      <td>0</td>\n",
              "      <td>0</td>\n",
              "      <td>0</td>\n",
              "      <td>0</td>\n",
              "      <td>0</td>\n",
              "      <td>0</td>\n",
              "      <td>0</td>\n",
              "      <td>0</td>\n",
              "      <td>0</td>\n",
              "      <td>0</td>\n",
              "      <td>...</td>\n",
              "      <td>0</td>\n",
              "      <td>0</td>\n",
              "      <td>0</td>\n",
              "      <td>0</td>\n",
              "      <td>0</td>\n",
              "      <td>0</td>\n",
              "      <td>0</td>\n",
              "      <td>0</td>\n",
              "      <td>0</td>\n",
              "      <td>0</td>\n",
              "      <td>0</td>\n",
              "      <td>0</td>\n",
              "      <td>0</td>\n",
              "      <td>0</td>\n",
              "      <td>0</td>\n",
              "      <td>0</td>\n",
              "      <td>0</td>\n",
              "      <td>0</td>\n",
              "      <td>0</td>\n",
              "      <td>0</td>\n",
              "      <td>0</td>\n",
              "      <td>0</td>\n",
              "      <td>0</td>\n",
              "      <td>0</td>\n",
              "      <td>0</td>\n",
              "      <td>0</td>\n",
              "      <td>1</td>\n",
              "      <td>0</td>\n",
              "      <td>0</td>\n",
              "      <td>0</td>\n",
              "      <td>0</td>\n",
              "      <td>0</td>\n",
              "      <td>0</td>\n",
              "      <td>0</td>\n",
              "      <td>0</td>\n",
              "      <td>0</td>\n",
              "      <td>0</td>\n",
              "      <td>0</td>\n",
              "      <td>0</td>\n",
              "      <td>0</td>\n",
              "    </tr>\n",
              "    <tr>\n",
              "      <th>42718</th>\n",
              "      <td>10000</td>\n",
              "      <td>15.31</td>\n",
              "      <td>73000.0</td>\n",
              "      <td>16.52</td>\n",
              "      <td>0.0</td>\n",
              "      <td>0.0</td>\n",
              "      <td>13231</td>\n",
              "      <td>29.0</td>\n",
              "      <td>1986.04</td>\n",
              "      <td>87.0</td>\n",
              "      <td>28653.0</td>\n",
              "      <td>0</td>\n",
              "      <td>0</td>\n",
              "      <td>1</td>\n",
              "      <td>0</td>\n",
              "      <td>0</td>\n",
              "      <td>0</td>\n",
              "      <td>0</td>\n",
              "      <td>0</td>\n",
              "      <td>0</td>\n",
              "      <td>0</td>\n",
              "      <td>0</td>\n",
              "      <td>0</td>\n",
              "      <td>0</td>\n",
              "      <td>0</td>\n",
              "      <td>0</td>\n",
              "      <td>0</td>\n",
              "      <td>0</td>\n",
              "      <td>1</td>\n",
              "      <td>0</td>\n",
              "      <td>0</td>\n",
              "      <td>0</td>\n",
              "      <td>0</td>\n",
              "      <td>0</td>\n",
              "      <td>0</td>\n",
              "      <td>0</td>\n",
              "      <td>0</td>\n",
              "      <td>0</td>\n",
              "      <td>0</td>\n",
              "      <td>0</td>\n",
              "      <td>...</td>\n",
              "      <td>0</td>\n",
              "      <td>0</td>\n",
              "      <td>0</td>\n",
              "      <td>0</td>\n",
              "      <td>0</td>\n",
              "      <td>0</td>\n",
              "      <td>0</td>\n",
              "      <td>0</td>\n",
              "      <td>1</td>\n",
              "      <td>0</td>\n",
              "      <td>0</td>\n",
              "      <td>0</td>\n",
              "      <td>0</td>\n",
              "      <td>0</td>\n",
              "      <td>0</td>\n",
              "      <td>0</td>\n",
              "      <td>0</td>\n",
              "      <td>0</td>\n",
              "      <td>0</td>\n",
              "      <td>0</td>\n",
              "      <td>0</td>\n",
              "      <td>0</td>\n",
              "      <td>0</td>\n",
              "      <td>0</td>\n",
              "      <td>0</td>\n",
              "      <td>0</td>\n",
              "      <td>0</td>\n",
              "      <td>0</td>\n",
              "      <td>0</td>\n",
              "      <td>0</td>\n",
              "      <td>0</td>\n",
              "      <td>0</td>\n",
              "      <td>0</td>\n",
              "      <td>0</td>\n",
              "      <td>0</td>\n",
              "      <td>0</td>\n",
              "      <td>0</td>\n",
              "      <td>0</td>\n",
              "      <td>0</td>\n",
              "      <td>0</td>\n",
              "    </tr>\n",
              "    <tr>\n",
              "      <th>87128</th>\n",
              "      <td>27200</td>\n",
              "      <td>9.17</td>\n",
              "      <td>62000.0</td>\n",
              "      <td>16.65</td>\n",
              "      <td>0.0</td>\n",
              "      <td>0.0</td>\n",
              "      <td>21867</td>\n",
              "      <td>29.0</td>\n",
              "      <td>0.00</td>\n",
              "      <td>146.2</td>\n",
              "      <td>281774.0</td>\n",
              "      <td>1</td>\n",
              "      <td>1</td>\n",
              "      <td>0</td>\n",
              "      <td>0</td>\n",
              "      <td>0</td>\n",
              "      <td>0</td>\n",
              "      <td>0</td>\n",
              "      <td>0</td>\n",
              "      <td>0</td>\n",
              "      <td>0</td>\n",
              "      <td>0</td>\n",
              "      <td>0</td>\n",
              "      <td>1</td>\n",
              "      <td>0</td>\n",
              "      <td>0</td>\n",
              "      <td>0</td>\n",
              "      <td>0</td>\n",
              "      <td>0</td>\n",
              "      <td>0</td>\n",
              "      <td>0</td>\n",
              "      <td>0</td>\n",
              "      <td>0</td>\n",
              "      <td>0</td>\n",
              "      <td>0</td>\n",
              "      <td>0</td>\n",
              "      <td>0</td>\n",
              "      <td>0</td>\n",
              "      <td>0</td>\n",
              "      <td>0</td>\n",
              "      <td>...</td>\n",
              "      <td>0</td>\n",
              "      <td>0</td>\n",
              "      <td>0</td>\n",
              "      <td>0</td>\n",
              "      <td>0</td>\n",
              "      <td>0</td>\n",
              "      <td>0</td>\n",
              "      <td>0</td>\n",
              "      <td>0</td>\n",
              "      <td>0</td>\n",
              "      <td>0</td>\n",
              "      <td>0</td>\n",
              "      <td>0</td>\n",
              "      <td>0</td>\n",
              "      <td>0</td>\n",
              "      <td>0</td>\n",
              "      <td>0</td>\n",
              "      <td>0</td>\n",
              "      <td>0</td>\n",
              "      <td>0</td>\n",
              "      <td>0</td>\n",
              "      <td>0</td>\n",
              "      <td>0</td>\n",
              "      <td>0</td>\n",
              "      <td>0</td>\n",
              "      <td>0</td>\n",
              "      <td>0</td>\n",
              "      <td>0</td>\n",
              "      <td>0</td>\n",
              "      <td>0</td>\n",
              "      <td>0</td>\n",
              "      <td>0</td>\n",
              "      <td>0</td>\n",
              "      <td>0</td>\n",
              "      <td>0</td>\n",
              "      <td>0</td>\n",
              "      <td>0</td>\n",
              "      <td>0</td>\n",
              "      <td>0</td>\n",
              "      <td>0</td>\n",
              "    </tr>\n",
              "    <tr>\n",
              "      <th>63728</th>\n",
              "      <td>24000</td>\n",
              "      <td>9.17</td>\n",
              "      <td>84000.0</td>\n",
              "      <td>15.21</td>\n",
              "      <td>0.0</td>\n",
              "      <td>0.0</td>\n",
              "      <td>22985</td>\n",
              "      <td>23.0</td>\n",
              "      <td>694.55</td>\n",
              "      <td>17.0</td>\n",
              "      <td>294025.0</td>\n",
              "      <td>1</td>\n",
              "      <td>1</td>\n",
              "      <td>0</td>\n",
              "      <td>0</td>\n",
              "      <td>0</td>\n",
              "      <td>0</td>\n",
              "      <td>0</td>\n",
              "      <td>0</td>\n",
              "      <td>0</td>\n",
              "      <td>0</td>\n",
              "      <td>0</td>\n",
              "      <td>0</td>\n",
              "      <td>1</td>\n",
              "      <td>0</td>\n",
              "      <td>0</td>\n",
              "      <td>0</td>\n",
              "      <td>0</td>\n",
              "      <td>0</td>\n",
              "      <td>0</td>\n",
              "      <td>0</td>\n",
              "      <td>0</td>\n",
              "      <td>0</td>\n",
              "      <td>0</td>\n",
              "      <td>0</td>\n",
              "      <td>0</td>\n",
              "      <td>0</td>\n",
              "      <td>0</td>\n",
              "      <td>0</td>\n",
              "      <td>0</td>\n",
              "      <td>...</td>\n",
              "      <td>0</td>\n",
              "      <td>0</td>\n",
              "      <td>0</td>\n",
              "      <td>0</td>\n",
              "      <td>0</td>\n",
              "      <td>0</td>\n",
              "      <td>0</td>\n",
              "      <td>0</td>\n",
              "      <td>0</td>\n",
              "      <td>0</td>\n",
              "      <td>0</td>\n",
              "      <td>0</td>\n",
              "      <td>0</td>\n",
              "      <td>0</td>\n",
              "      <td>0</td>\n",
              "      <td>0</td>\n",
              "      <td>0</td>\n",
              "      <td>0</td>\n",
              "      <td>0</td>\n",
              "      <td>0</td>\n",
              "      <td>0</td>\n",
              "      <td>0</td>\n",
              "      <td>0</td>\n",
              "      <td>0</td>\n",
              "      <td>0</td>\n",
              "      <td>0</td>\n",
              "      <td>0</td>\n",
              "      <td>0</td>\n",
              "      <td>0</td>\n",
              "      <td>0</td>\n",
              "      <td>0</td>\n",
              "      <td>0</td>\n",
              "      <td>0</td>\n",
              "      <td>0</td>\n",
              "      <td>0</td>\n",
              "      <td>0</td>\n",
              "      <td>0</td>\n",
              "      <td>0</td>\n",
              "      <td>0</td>\n",
              "      <td>0</td>\n",
              "    </tr>\n",
              "  </tbody>\n",
              "</table>\n",
              "<p>5 rows × 112 columns</p>\n",
              "</div>\n",
              "      <button class=\"colab-df-convert\" onclick=\"convertToInteractive('df-63db1cef-c6c9-4448-bf7a-91320edaa128')\"\n",
              "              title=\"Convert this dataframe to an interactive table.\"\n",
              "              style=\"display:none;\">\n",
              "        \n",
              "  <svg xmlns=\"http://www.w3.org/2000/svg\" height=\"24px\"viewBox=\"0 0 24 24\"\n",
              "       width=\"24px\">\n",
              "    <path d=\"M0 0h24v24H0V0z\" fill=\"none\"/>\n",
              "    <path d=\"M18.56 5.44l.94 2.06.94-2.06 2.06-.94-2.06-.94-.94-2.06-.94 2.06-2.06.94zm-11 1L8.5 8.5l.94-2.06 2.06-.94-2.06-.94L8.5 2.5l-.94 2.06-2.06.94zm10 10l.94 2.06.94-2.06 2.06-.94-2.06-.94-.94-2.06-.94 2.06-2.06.94z\"/><path d=\"M17.41 7.96l-1.37-1.37c-.4-.4-.92-.59-1.43-.59-.52 0-1.04.2-1.43.59L10.3 9.45l-7.72 7.72c-.78.78-.78 2.05 0 2.83L4 21.41c.39.39.9.59 1.41.59.51 0 1.02-.2 1.41-.59l7.78-7.78 2.81-2.81c.8-.78.8-2.07 0-2.86zM5.41 20L4 18.59l7.72-7.72 1.47 1.35L5.41 20z\"/>\n",
              "  </svg>\n",
              "      </button>\n",
              "      \n",
              "  <style>\n",
              "    .colab-df-container {\n",
              "      display:flex;\n",
              "      flex-wrap:wrap;\n",
              "      gap: 12px;\n",
              "    }\n",
              "\n",
              "    .colab-df-convert {\n",
              "      background-color: #E8F0FE;\n",
              "      border: none;\n",
              "      border-radius: 50%;\n",
              "      cursor: pointer;\n",
              "      display: none;\n",
              "      fill: #1967D2;\n",
              "      height: 32px;\n",
              "      padding: 0 0 0 0;\n",
              "      width: 32px;\n",
              "    }\n",
              "\n",
              "    .colab-df-convert:hover {\n",
              "      background-color: #E2EBFA;\n",
              "      box-shadow: 0px 1px 2px rgba(60, 64, 67, 0.3), 0px 1px 3px 1px rgba(60, 64, 67, 0.15);\n",
              "      fill: #174EA6;\n",
              "    }\n",
              "\n",
              "    [theme=dark] .colab-df-convert {\n",
              "      background-color: #3B4455;\n",
              "      fill: #D2E3FC;\n",
              "    }\n",
              "\n",
              "    [theme=dark] .colab-df-convert:hover {\n",
              "      background-color: #434B5C;\n",
              "      box-shadow: 0px 1px 3px 1px rgba(0, 0, 0, 0.15);\n",
              "      filter: drop-shadow(0px 1px 2px rgba(0, 0, 0, 0.3));\n",
              "      fill: #FFFFFF;\n",
              "    }\n",
              "  </style>\n",
              "\n",
              "      <script>\n",
              "        const buttonEl =\n",
              "          document.querySelector('#df-63db1cef-c6c9-4448-bf7a-91320edaa128 button.colab-df-convert');\n",
              "        buttonEl.style.display =\n",
              "          google.colab.kernel.accessAllowed ? 'block' : 'none';\n",
              "\n",
              "        async function convertToInteractive(key) {\n",
              "          const element = document.querySelector('#df-63db1cef-c6c9-4448-bf7a-91320edaa128');\n",
              "          const dataTable =\n",
              "            await google.colab.kernel.invokeFunction('convertToInteractive',\n",
              "                                                     [key], {});\n",
              "          if (!dataTable) return;\n",
              "\n",
              "          const docLinkHtml = 'Like what you see? Visit the ' +\n",
              "            '<a target=\"_blank\" href=https://colab.research.google.com/notebooks/data_table.ipynb>data table notebook</a>'\n",
              "            + ' to learn more about interactive tables.';\n",
              "          element.innerHTML = '';\n",
              "          dataTable['output_type'] = 'display_data';\n",
              "          await google.colab.output.renderOutput(dataTable, element);\n",
              "          const docLink = document.createElement('div');\n",
              "          docLink.innerHTML = docLinkHtml;\n",
              "          element.appendChild(docLink);\n",
              "        }\n",
              "      </script>\n",
              "    </div>\n",
              "  </div>\n",
              "  "
            ],
            "text/plain": [
              "       loan_amnt  interest_rate  ...  state_code_WY  application_type_JOINT\n",
              "57626      21350          18.25  ...              0                       0\n",
              "6051       18000          12.29  ...              0                       0\n",
              "42718      10000          15.31  ...              0                       0\n",
              "87128      27200           9.17  ...              0                       0\n",
              "63728      24000           9.17  ...              0                       0\n",
              "\n",
              "[5 rows x 112 columns]"
            ]
          },
          "metadata": {},
          "execution_count": 203
        }
      ],
      "source": [
        "X_train.head()"
      ],
      "id": "f3fda613"
    },
    {
      "cell_type": "code",
      "source": [
        "df_test.head()"
      ],
      "metadata": {
        "id": "Xe9Uop-HdxBs",
        "colab": {
          "base_uri": "https://localhost:8080/",
          "height": 317
        },
        "outputId": "d740cf39-a40b-4c05-9349-7facb4a58b5e"
      },
      "execution_count": 204,
      "outputs": [
        {
          "output_type": "execute_result",
          "data": {
            "text/html": [
              "\n",
              "  <div id=\"df-bc9d7ae7-fc8e-4522-9f1a-6cda28a470c6\">\n",
              "    <div class=\"colab-df-container\">\n",
              "      <div>\n",
              "<style scoped>\n",
              "    .dataframe tbody tr th:only-of-type {\n",
              "        vertical-align: middle;\n",
              "    }\n",
              "\n",
              "    .dataframe tbody tr th {\n",
              "        vertical-align: top;\n",
              "    }\n",
              "\n",
              "    .dataframe thead th {\n",
              "        text-align: right;\n",
              "    }\n",
              "</style>\n",
              "<table border=\"1\" class=\"dataframe\">\n",
              "  <thead>\n",
              "    <tr style=\"text-align: right;\">\n",
              "      <th></th>\n",
              "      <th>loan_amnt</th>\n",
              "      <th>interest_rate</th>\n",
              "      <th>annual_income</th>\n",
              "      <th>debt_to_income</th>\n",
              "      <th>delinq_2yrs</th>\n",
              "      <th>public_records</th>\n",
              "      <th>revolving_balance</th>\n",
              "      <th>total_acc</th>\n",
              "      <th>interest_receive</th>\n",
              "      <th>last_week_pay</th>\n",
              "      <th>total_current_balance</th>\n",
              "      <th>loan_term_5 years</th>\n",
              "      <th>loan_grade_B</th>\n",
              "      <th>loan_grade_C</th>\n",
              "      <th>loan_grade_D</th>\n",
              "      <th>loan_grade_E</th>\n",
              "      <th>loan_grade_F</th>\n",
              "      <th>loan_grade_G</th>\n",
              "      <th>loan_subgrade_A2</th>\n",
              "      <th>loan_subgrade_A3</th>\n",
              "      <th>loan_subgrade_A4</th>\n",
              "      <th>loan_subgrade_A5</th>\n",
              "      <th>loan_subgrade_B1</th>\n",
              "      <th>loan_subgrade_B2</th>\n",
              "      <th>loan_subgrade_B3</th>\n",
              "      <th>loan_subgrade_B4</th>\n",
              "      <th>loan_subgrade_B5</th>\n",
              "      <th>loan_subgrade_C1</th>\n",
              "      <th>loan_subgrade_C2</th>\n",
              "      <th>loan_subgrade_C3</th>\n",
              "      <th>loan_subgrade_C4</th>\n",
              "      <th>loan_subgrade_C5</th>\n",
              "      <th>loan_subgrade_D1</th>\n",
              "      <th>loan_subgrade_D2</th>\n",
              "      <th>loan_subgrade_D3</th>\n",
              "      <th>loan_subgrade_D4</th>\n",
              "      <th>loan_subgrade_D5</th>\n",
              "      <th>loan_subgrade_E1</th>\n",
              "      <th>loan_subgrade_E2</th>\n",
              "      <th>loan_subgrade_E3</th>\n",
              "      <th>...</th>\n",
              "      <th>state_code_HI</th>\n",
              "      <th>state_code_ID</th>\n",
              "      <th>state_code_IL</th>\n",
              "      <th>state_code_IN</th>\n",
              "      <th>state_code_KS</th>\n",
              "      <th>state_code_KY</th>\n",
              "      <th>state_code_LA</th>\n",
              "      <th>state_code_MA</th>\n",
              "      <th>state_code_MD</th>\n",
              "      <th>state_code_ME</th>\n",
              "      <th>state_code_MI</th>\n",
              "      <th>state_code_MN</th>\n",
              "      <th>state_code_MO</th>\n",
              "      <th>state_code_MS</th>\n",
              "      <th>state_code_MT</th>\n",
              "      <th>state_code_NC</th>\n",
              "      <th>state_code_ND</th>\n",
              "      <th>state_code_NE</th>\n",
              "      <th>state_code_NH</th>\n",
              "      <th>state_code_NJ</th>\n",
              "      <th>state_code_NM</th>\n",
              "      <th>state_code_NV</th>\n",
              "      <th>state_code_NY</th>\n",
              "      <th>state_code_OH</th>\n",
              "      <th>state_code_OK</th>\n",
              "      <th>state_code_OR</th>\n",
              "      <th>state_code_PA</th>\n",
              "      <th>state_code_RI</th>\n",
              "      <th>state_code_SC</th>\n",
              "      <th>state_code_SD</th>\n",
              "      <th>state_code_TN</th>\n",
              "      <th>state_code_TX</th>\n",
              "      <th>state_code_UT</th>\n",
              "      <th>state_code_VA</th>\n",
              "      <th>state_code_VT</th>\n",
              "      <th>state_code_WA</th>\n",
              "      <th>state_code_WI</th>\n",
              "      <th>state_code_WV</th>\n",
              "      <th>state_code_WY</th>\n",
              "      <th>application_type_JOINT</th>\n",
              "    </tr>\n",
              "  </thead>\n",
              "  <tbody>\n",
              "    <tr>\n",
              "      <th>0</th>\n",
              "      <td>12000</td>\n",
              "      <td>15.31</td>\n",
              "      <td>73400.0</td>\n",
              "      <td>14.62</td>\n",
              "      <td>0.0</td>\n",
              "      <td>0.0</td>\n",
              "      <td>22156</td>\n",
              "      <td>30.0</td>\n",
              "      <td>2290.24</td>\n",
              "      <td>87.0</td>\n",
              "      <td>128098.0</td>\n",
              "      <td>0</td>\n",
              "      <td>0</td>\n",
              "      <td>1</td>\n",
              "      <td>0</td>\n",
              "      <td>0</td>\n",
              "      <td>0</td>\n",
              "      <td>0</td>\n",
              "      <td>0</td>\n",
              "      <td>0</td>\n",
              "      <td>0</td>\n",
              "      <td>0</td>\n",
              "      <td>0</td>\n",
              "      <td>0</td>\n",
              "      <td>0</td>\n",
              "      <td>0</td>\n",
              "      <td>0</td>\n",
              "      <td>0</td>\n",
              "      <td>1</td>\n",
              "      <td>0</td>\n",
              "      <td>0</td>\n",
              "      <td>0</td>\n",
              "      <td>0</td>\n",
              "      <td>0</td>\n",
              "      <td>0</td>\n",
              "      <td>0</td>\n",
              "      <td>0</td>\n",
              "      <td>0</td>\n",
              "      <td>0</td>\n",
              "      <td>0</td>\n",
              "      <td>...</td>\n",
              "      <td>0</td>\n",
              "      <td>0</td>\n",
              "      <td>0</td>\n",
              "      <td>0</td>\n",
              "      <td>0</td>\n",
              "      <td>0</td>\n",
              "      <td>0</td>\n",
              "      <td>0</td>\n",
              "      <td>0</td>\n",
              "      <td>0</td>\n",
              "      <td>0</td>\n",
              "      <td>0</td>\n",
              "      <td>0</td>\n",
              "      <td>0</td>\n",
              "      <td>0</td>\n",
              "      <td>0</td>\n",
              "      <td>0</td>\n",
              "      <td>0</td>\n",
              "      <td>0</td>\n",
              "      <td>0</td>\n",
              "      <td>0</td>\n",
              "      <td>0</td>\n",
              "      <td>0</td>\n",
              "      <td>0</td>\n",
              "      <td>0</td>\n",
              "      <td>0</td>\n",
              "      <td>0</td>\n",
              "      <td>0</td>\n",
              "      <td>0</td>\n",
              "      <td>0</td>\n",
              "      <td>0</td>\n",
              "      <td>0</td>\n",
              "      <td>0</td>\n",
              "      <td>0</td>\n",
              "      <td>0</td>\n",
              "      <td>0</td>\n",
              "      <td>0</td>\n",
              "      <td>0</td>\n",
              "      <td>0</td>\n",
              "      <td>0</td>\n",
              "    </tr>\n",
              "    <tr>\n",
              "      <th>1</th>\n",
              "      <td>12000</td>\n",
              "      <td>7.26</td>\n",
              "      <td>105000.0</td>\n",
              "      <td>11.38</td>\n",
              "      <td>0.0</td>\n",
              "      <td>0.0</td>\n",
              "      <td>7592</td>\n",
              "      <td>14.0</td>\n",
              "      <td>202.68</td>\n",
              "      <td>13.0</td>\n",
              "      <td>269396.0</td>\n",
              "      <td>0</td>\n",
              "      <td>0</td>\n",
              "      <td>0</td>\n",
              "      <td>0</td>\n",
              "      <td>0</td>\n",
              "      <td>0</td>\n",
              "      <td>0</td>\n",
              "      <td>0</td>\n",
              "      <td>0</td>\n",
              "      <td>1</td>\n",
              "      <td>0</td>\n",
              "      <td>0</td>\n",
              "      <td>0</td>\n",
              "      <td>0</td>\n",
              "      <td>0</td>\n",
              "      <td>0</td>\n",
              "      <td>0</td>\n",
              "      <td>0</td>\n",
              "      <td>0</td>\n",
              "      <td>0</td>\n",
              "      <td>0</td>\n",
              "      <td>0</td>\n",
              "      <td>0</td>\n",
              "      <td>0</td>\n",
              "      <td>0</td>\n",
              "      <td>0</td>\n",
              "      <td>0</td>\n",
              "      <td>0</td>\n",
              "      <td>0</td>\n",
              "      <td>...</td>\n",
              "      <td>0</td>\n",
              "      <td>0</td>\n",
              "      <td>0</td>\n",
              "      <td>0</td>\n",
              "      <td>0</td>\n",
              "      <td>0</td>\n",
              "      <td>0</td>\n",
              "      <td>0</td>\n",
              "      <td>0</td>\n",
              "      <td>0</td>\n",
              "      <td>0</td>\n",
              "      <td>0</td>\n",
              "      <td>0</td>\n",
              "      <td>0</td>\n",
              "      <td>0</td>\n",
              "      <td>0</td>\n",
              "      <td>0</td>\n",
              "      <td>0</td>\n",
              "      <td>0</td>\n",
              "      <td>0</td>\n",
              "      <td>0</td>\n",
              "      <td>0</td>\n",
              "      <td>0</td>\n",
              "      <td>0</td>\n",
              "      <td>0</td>\n",
              "      <td>0</td>\n",
              "      <td>0</td>\n",
              "      <td>0</td>\n",
              "      <td>0</td>\n",
              "      <td>0</td>\n",
              "      <td>0</td>\n",
              "      <td>0</td>\n",
              "      <td>0</td>\n",
              "      <td>1</td>\n",
              "      <td>0</td>\n",
              "      <td>0</td>\n",
              "      <td>0</td>\n",
              "      <td>0</td>\n",
              "      <td>0</td>\n",
              "      <td>0</td>\n",
              "    </tr>\n",
              "    <tr>\n",
              "      <th>2</th>\n",
              "      <td>15000</td>\n",
              "      <td>14.33</td>\n",
              "      <td>50000.0</td>\n",
              "      <td>28.15</td>\n",
              "      <td>0.0</td>\n",
              "      <td>1.0</td>\n",
              "      <td>17983</td>\n",
              "      <td>19.0</td>\n",
              "      <td>1166.24</td>\n",
              "      <td>30.0</td>\n",
              "      <td>220135.0</td>\n",
              "      <td>0</td>\n",
              "      <td>0</td>\n",
              "      <td>1</td>\n",
              "      <td>0</td>\n",
              "      <td>0</td>\n",
              "      <td>0</td>\n",
              "      <td>0</td>\n",
              "      <td>0</td>\n",
              "      <td>0</td>\n",
              "      <td>0</td>\n",
              "      <td>0</td>\n",
              "      <td>0</td>\n",
              "      <td>0</td>\n",
              "      <td>0</td>\n",
              "      <td>0</td>\n",
              "      <td>0</td>\n",
              "      <td>1</td>\n",
              "      <td>0</td>\n",
              "      <td>0</td>\n",
              "      <td>0</td>\n",
              "      <td>0</td>\n",
              "      <td>0</td>\n",
              "      <td>0</td>\n",
              "      <td>0</td>\n",
              "      <td>0</td>\n",
              "      <td>0</td>\n",
              "      <td>0</td>\n",
              "      <td>0</td>\n",
              "      <td>0</td>\n",
              "      <td>...</td>\n",
              "      <td>0</td>\n",
              "      <td>0</td>\n",
              "      <td>0</td>\n",
              "      <td>0</td>\n",
              "      <td>0</td>\n",
              "      <td>0</td>\n",
              "      <td>0</td>\n",
              "      <td>0</td>\n",
              "      <td>0</td>\n",
              "      <td>0</td>\n",
              "      <td>0</td>\n",
              "      <td>0</td>\n",
              "      <td>0</td>\n",
              "      <td>0</td>\n",
              "      <td>0</td>\n",
              "      <td>0</td>\n",
              "      <td>0</td>\n",
              "      <td>0</td>\n",
              "      <td>0</td>\n",
              "      <td>0</td>\n",
              "      <td>0</td>\n",
              "      <td>0</td>\n",
              "      <td>0</td>\n",
              "      <td>0</td>\n",
              "      <td>0</td>\n",
              "      <td>0</td>\n",
              "      <td>0</td>\n",
              "      <td>0</td>\n",
              "      <td>0</td>\n",
              "      <td>0</td>\n",
              "      <td>0</td>\n",
              "      <td>1</td>\n",
              "      <td>0</td>\n",
              "      <td>0</td>\n",
              "      <td>0</td>\n",
              "      <td>0</td>\n",
              "      <td>0</td>\n",
              "      <td>0</td>\n",
              "      <td>0</td>\n",
              "      <td>0</td>\n",
              "    </tr>\n",
              "    <tr>\n",
              "      <th>3</th>\n",
              "      <td>12000</td>\n",
              "      <td>9.99</td>\n",
              "      <td>37000.0</td>\n",
              "      <td>34.32</td>\n",
              "      <td>0.0</td>\n",
              "      <td>0.0</td>\n",
              "      <td>12262</td>\n",
              "      <td>18.0</td>\n",
              "      <td>635.06</td>\n",
              "      <td>35.0</td>\n",
              "      <td>39436.0</td>\n",
              "      <td>0</td>\n",
              "      <td>1</td>\n",
              "      <td>0</td>\n",
              "      <td>0</td>\n",
              "      <td>0</td>\n",
              "      <td>0</td>\n",
              "      <td>0</td>\n",
              "      <td>0</td>\n",
              "      <td>0</td>\n",
              "      <td>0</td>\n",
              "      <td>0</td>\n",
              "      <td>0</td>\n",
              "      <td>0</td>\n",
              "      <td>1</td>\n",
              "      <td>0</td>\n",
              "      <td>0</td>\n",
              "      <td>0</td>\n",
              "      <td>0</td>\n",
              "      <td>0</td>\n",
              "      <td>0</td>\n",
              "      <td>0</td>\n",
              "      <td>0</td>\n",
              "      <td>0</td>\n",
              "      <td>0</td>\n",
              "      <td>0</td>\n",
              "      <td>0</td>\n",
              "      <td>0</td>\n",
              "      <td>0</td>\n",
              "      <td>0</td>\n",
              "      <td>...</td>\n",
              "      <td>0</td>\n",
              "      <td>0</td>\n",
              "      <td>0</td>\n",
              "      <td>0</td>\n",
              "      <td>0</td>\n",
              "      <td>0</td>\n",
              "      <td>0</td>\n",
              "      <td>0</td>\n",
              "      <td>0</td>\n",
              "      <td>0</td>\n",
              "      <td>0</td>\n",
              "      <td>0</td>\n",
              "      <td>0</td>\n",
              "      <td>0</td>\n",
              "      <td>0</td>\n",
              "      <td>0</td>\n",
              "      <td>0</td>\n",
              "      <td>0</td>\n",
              "      <td>0</td>\n",
              "      <td>1</td>\n",
              "      <td>0</td>\n",
              "      <td>0</td>\n",
              "      <td>0</td>\n",
              "      <td>0</td>\n",
              "      <td>0</td>\n",
              "      <td>0</td>\n",
              "      <td>0</td>\n",
              "      <td>0</td>\n",
              "      <td>0</td>\n",
              "      <td>0</td>\n",
              "      <td>0</td>\n",
              "      <td>0</td>\n",
              "      <td>0</td>\n",
              "      <td>0</td>\n",
              "      <td>0</td>\n",
              "      <td>0</td>\n",
              "      <td>0</td>\n",
              "      <td>0</td>\n",
              "      <td>0</td>\n",
              "      <td>0</td>\n",
              "    </tr>\n",
              "    <tr>\n",
              "      <th>4</th>\n",
              "      <td>20150</td>\n",
              "      <td>11.53</td>\n",
              "      <td>75000.0</td>\n",
              "      <td>26.74</td>\n",
              "      <td>1.0</td>\n",
              "      <td>0.0</td>\n",
              "      <td>8251</td>\n",
              "      <td>11.0</td>\n",
              "      <td>1232.84</td>\n",
              "      <td>31.0</td>\n",
              "      <td>52764.0</td>\n",
              "      <td>0</td>\n",
              "      <td>1</td>\n",
              "      <td>0</td>\n",
              "      <td>0</td>\n",
              "      <td>0</td>\n",
              "      <td>0</td>\n",
              "      <td>0</td>\n",
              "      <td>0</td>\n",
              "      <td>0</td>\n",
              "      <td>0</td>\n",
              "      <td>0</td>\n",
              "      <td>0</td>\n",
              "      <td>0</td>\n",
              "      <td>0</td>\n",
              "      <td>0</td>\n",
              "      <td>1</td>\n",
              "      <td>0</td>\n",
              "      <td>0</td>\n",
              "      <td>0</td>\n",
              "      <td>0</td>\n",
              "      <td>0</td>\n",
              "      <td>0</td>\n",
              "      <td>0</td>\n",
              "      <td>0</td>\n",
              "      <td>0</td>\n",
              "      <td>0</td>\n",
              "      <td>0</td>\n",
              "      <td>0</td>\n",
              "      <td>0</td>\n",
              "      <td>...</td>\n",
              "      <td>0</td>\n",
              "      <td>0</td>\n",
              "      <td>0</td>\n",
              "      <td>0</td>\n",
              "      <td>0</td>\n",
              "      <td>0</td>\n",
              "      <td>0</td>\n",
              "      <td>0</td>\n",
              "      <td>0</td>\n",
              "      <td>0</td>\n",
              "      <td>0</td>\n",
              "      <td>0</td>\n",
              "      <td>0</td>\n",
              "      <td>0</td>\n",
              "      <td>0</td>\n",
              "      <td>0</td>\n",
              "      <td>0</td>\n",
              "      <td>0</td>\n",
              "      <td>0</td>\n",
              "      <td>0</td>\n",
              "      <td>0</td>\n",
              "      <td>0</td>\n",
              "      <td>0</td>\n",
              "      <td>0</td>\n",
              "      <td>0</td>\n",
              "      <td>0</td>\n",
              "      <td>0</td>\n",
              "      <td>0</td>\n",
              "      <td>0</td>\n",
              "      <td>0</td>\n",
              "      <td>0</td>\n",
              "      <td>0</td>\n",
              "      <td>0</td>\n",
              "      <td>0</td>\n",
              "      <td>0</td>\n",
              "      <td>0</td>\n",
              "      <td>0</td>\n",
              "      <td>0</td>\n",
              "      <td>0</td>\n",
              "      <td>0</td>\n",
              "    </tr>\n",
              "  </tbody>\n",
              "</table>\n",
              "<p>5 rows × 112 columns</p>\n",
              "</div>\n",
              "      <button class=\"colab-df-convert\" onclick=\"convertToInteractive('df-bc9d7ae7-fc8e-4522-9f1a-6cda28a470c6')\"\n",
              "              title=\"Convert this dataframe to an interactive table.\"\n",
              "              style=\"display:none;\">\n",
              "        \n",
              "  <svg xmlns=\"http://www.w3.org/2000/svg\" height=\"24px\"viewBox=\"0 0 24 24\"\n",
              "       width=\"24px\">\n",
              "    <path d=\"M0 0h24v24H0V0z\" fill=\"none\"/>\n",
              "    <path d=\"M18.56 5.44l.94 2.06.94-2.06 2.06-.94-2.06-.94-.94-2.06-.94 2.06-2.06.94zm-11 1L8.5 8.5l.94-2.06 2.06-.94-2.06-.94L8.5 2.5l-.94 2.06-2.06.94zm10 10l.94 2.06.94-2.06 2.06-.94-2.06-.94-.94-2.06-.94 2.06-2.06.94z\"/><path d=\"M17.41 7.96l-1.37-1.37c-.4-.4-.92-.59-1.43-.59-.52 0-1.04.2-1.43.59L10.3 9.45l-7.72 7.72c-.78.78-.78 2.05 0 2.83L4 21.41c.39.39.9.59 1.41.59.51 0 1.02-.2 1.41-.59l7.78-7.78 2.81-2.81c.8-.78.8-2.07 0-2.86zM5.41 20L4 18.59l7.72-7.72 1.47 1.35L5.41 20z\"/>\n",
              "  </svg>\n",
              "      </button>\n",
              "      \n",
              "  <style>\n",
              "    .colab-df-container {\n",
              "      display:flex;\n",
              "      flex-wrap:wrap;\n",
              "      gap: 12px;\n",
              "    }\n",
              "\n",
              "    .colab-df-convert {\n",
              "      background-color: #E8F0FE;\n",
              "      border: none;\n",
              "      border-radius: 50%;\n",
              "      cursor: pointer;\n",
              "      display: none;\n",
              "      fill: #1967D2;\n",
              "      height: 32px;\n",
              "      padding: 0 0 0 0;\n",
              "      width: 32px;\n",
              "    }\n",
              "\n",
              "    .colab-df-convert:hover {\n",
              "      background-color: #E2EBFA;\n",
              "      box-shadow: 0px 1px 2px rgba(60, 64, 67, 0.3), 0px 1px 3px 1px rgba(60, 64, 67, 0.15);\n",
              "      fill: #174EA6;\n",
              "    }\n",
              "\n",
              "    [theme=dark] .colab-df-convert {\n",
              "      background-color: #3B4455;\n",
              "      fill: #D2E3FC;\n",
              "    }\n",
              "\n",
              "    [theme=dark] .colab-df-convert:hover {\n",
              "      background-color: #434B5C;\n",
              "      box-shadow: 0px 1px 3px 1px rgba(0, 0, 0, 0.15);\n",
              "      filter: drop-shadow(0px 1px 2px rgba(0, 0, 0, 0.3));\n",
              "      fill: #FFFFFF;\n",
              "    }\n",
              "  </style>\n",
              "\n",
              "      <script>\n",
              "        const buttonEl =\n",
              "          document.querySelector('#df-bc9d7ae7-fc8e-4522-9f1a-6cda28a470c6 button.colab-df-convert');\n",
              "        buttonEl.style.display =\n",
              "          google.colab.kernel.accessAllowed ? 'block' : 'none';\n",
              "\n",
              "        async function convertToInteractive(key) {\n",
              "          const element = document.querySelector('#df-bc9d7ae7-fc8e-4522-9f1a-6cda28a470c6');\n",
              "          const dataTable =\n",
              "            await google.colab.kernel.invokeFunction('convertToInteractive',\n",
              "                                                     [key], {});\n",
              "          if (!dataTable) return;\n",
              "\n",
              "          const docLinkHtml = 'Like what you see? Visit the ' +\n",
              "            '<a target=\"_blank\" href=https://colab.research.google.com/notebooks/data_table.ipynb>data table notebook</a>'\n",
              "            + ' to learn more about interactive tables.';\n",
              "          element.innerHTML = '';\n",
              "          dataTable['output_type'] = 'display_data';\n",
              "          await google.colab.output.renderOutput(dataTable, element);\n",
              "          const docLink = document.createElement('div');\n",
              "          docLink.innerHTML = docLinkHtml;\n",
              "          element.appendChild(docLink);\n",
              "        }\n",
              "      </script>\n",
              "    </div>\n",
              "  </div>\n",
              "  "
            ],
            "text/plain": [
              "   loan_amnt  interest_rate  ...  state_code_WY  application_type_JOINT\n",
              "0      12000          15.31  ...              0                       0\n",
              "1      12000           7.26  ...              0                       0\n",
              "2      15000          14.33  ...              0                       0\n",
              "3      12000           9.99  ...              0                       0\n",
              "4      20150          11.53  ...              0                       0\n",
              "\n",
              "[5 rows x 112 columns]"
            ]
          },
          "metadata": {},
          "execution_count": 204
        }
      ],
      "id": "Xe9Uop-HdxBs"
    },
    {
      "cell_type": "code",
      "execution_count": 205,
      "metadata": {
        "id": "CtpUT3G62nq5",
        "colab": {
          "base_uri": "https://localhost:8080/",
          "height": 206
        },
        "outputId": "fc11940e-3f80-49c7-fd27-7983cd793315"
      },
      "outputs": [
        {
          "output_type": "execute_result",
          "data": {
            "text/html": [
              "\n",
              "  <div id=\"df-b408df7c-fdec-45cd-9c8c-268ec906c492\">\n",
              "    <div class=\"colab-df-container\">\n",
              "      <div>\n",
              "<style scoped>\n",
              "    .dataframe tbody tr th:only-of-type {\n",
              "        vertical-align: middle;\n",
              "    }\n",
              "\n",
              "    .dataframe tbody tr th {\n",
              "        vertical-align: top;\n",
              "    }\n",
              "\n",
              "    .dataframe thead th {\n",
              "        text-align: right;\n",
              "    }\n",
              "</style>\n",
              "<table border=\"1\" class=\"dataframe\">\n",
              "  <thead>\n",
              "    <tr style=\"text-align: right;\">\n",
              "      <th></th>\n",
              "      <th>default</th>\n",
              "    </tr>\n",
              "  </thead>\n",
              "  <tbody>\n",
              "    <tr>\n",
              "      <th>57626</th>\n",
              "      <td>0</td>\n",
              "    </tr>\n",
              "    <tr>\n",
              "      <th>6051</th>\n",
              "      <td>0</td>\n",
              "    </tr>\n",
              "    <tr>\n",
              "      <th>42718</th>\n",
              "      <td>1</td>\n",
              "    </tr>\n",
              "    <tr>\n",
              "      <th>87128</th>\n",
              "      <td>0</td>\n",
              "    </tr>\n",
              "    <tr>\n",
              "      <th>63728</th>\n",
              "      <td>0</td>\n",
              "    </tr>\n",
              "  </tbody>\n",
              "</table>\n",
              "</div>\n",
              "      <button class=\"colab-df-convert\" onclick=\"convertToInteractive('df-b408df7c-fdec-45cd-9c8c-268ec906c492')\"\n",
              "              title=\"Convert this dataframe to an interactive table.\"\n",
              "              style=\"display:none;\">\n",
              "        \n",
              "  <svg xmlns=\"http://www.w3.org/2000/svg\" height=\"24px\"viewBox=\"0 0 24 24\"\n",
              "       width=\"24px\">\n",
              "    <path d=\"M0 0h24v24H0V0z\" fill=\"none\"/>\n",
              "    <path d=\"M18.56 5.44l.94 2.06.94-2.06 2.06-.94-2.06-.94-.94-2.06-.94 2.06-2.06.94zm-11 1L8.5 8.5l.94-2.06 2.06-.94-2.06-.94L8.5 2.5l-.94 2.06-2.06.94zm10 10l.94 2.06.94-2.06 2.06-.94-2.06-.94-.94-2.06-.94 2.06-2.06.94z\"/><path d=\"M17.41 7.96l-1.37-1.37c-.4-.4-.92-.59-1.43-.59-.52 0-1.04.2-1.43.59L10.3 9.45l-7.72 7.72c-.78.78-.78 2.05 0 2.83L4 21.41c.39.39.9.59 1.41.59.51 0 1.02-.2 1.41-.59l7.78-7.78 2.81-2.81c.8-.78.8-2.07 0-2.86zM5.41 20L4 18.59l7.72-7.72 1.47 1.35L5.41 20z\"/>\n",
              "  </svg>\n",
              "      </button>\n",
              "      \n",
              "  <style>\n",
              "    .colab-df-container {\n",
              "      display:flex;\n",
              "      flex-wrap:wrap;\n",
              "      gap: 12px;\n",
              "    }\n",
              "\n",
              "    .colab-df-convert {\n",
              "      background-color: #E8F0FE;\n",
              "      border: none;\n",
              "      border-radius: 50%;\n",
              "      cursor: pointer;\n",
              "      display: none;\n",
              "      fill: #1967D2;\n",
              "      height: 32px;\n",
              "      padding: 0 0 0 0;\n",
              "      width: 32px;\n",
              "    }\n",
              "\n",
              "    .colab-df-convert:hover {\n",
              "      background-color: #E2EBFA;\n",
              "      box-shadow: 0px 1px 2px rgba(60, 64, 67, 0.3), 0px 1px 3px 1px rgba(60, 64, 67, 0.15);\n",
              "      fill: #174EA6;\n",
              "    }\n",
              "\n",
              "    [theme=dark] .colab-df-convert {\n",
              "      background-color: #3B4455;\n",
              "      fill: #D2E3FC;\n",
              "    }\n",
              "\n",
              "    [theme=dark] .colab-df-convert:hover {\n",
              "      background-color: #434B5C;\n",
              "      box-shadow: 0px 1px 3px 1px rgba(0, 0, 0, 0.15);\n",
              "      filter: drop-shadow(0px 1px 2px rgba(0, 0, 0, 0.3));\n",
              "      fill: #FFFFFF;\n",
              "    }\n",
              "  </style>\n",
              "\n",
              "      <script>\n",
              "        const buttonEl =\n",
              "          document.querySelector('#df-b408df7c-fdec-45cd-9c8c-268ec906c492 button.colab-df-convert');\n",
              "        buttonEl.style.display =\n",
              "          google.colab.kernel.accessAllowed ? 'block' : 'none';\n",
              "\n",
              "        async function convertToInteractive(key) {\n",
              "          const element = document.querySelector('#df-b408df7c-fdec-45cd-9c8c-268ec906c492');\n",
              "          const dataTable =\n",
              "            await google.colab.kernel.invokeFunction('convertToInteractive',\n",
              "                                                     [key], {});\n",
              "          if (!dataTable) return;\n",
              "\n",
              "          const docLinkHtml = 'Like what you see? Visit the ' +\n",
              "            '<a target=\"_blank\" href=https://colab.research.google.com/notebooks/data_table.ipynb>data table notebook</a>'\n",
              "            + ' to learn more about interactive tables.';\n",
              "          element.innerHTML = '';\n",
              "          dataTable['output_type'] = 'display_data';\n",
              "          await google.colab.output.renderOutput(dataTable, element);\n",
              "          const docLink = document.createElement('div');\n",
              "          docLink.innerHTML = docLinkHtml;\n",
              "          element.appendChild(docLink);\n",
              "        }\n",
              "      </script>\n",
              "    </div>\n",
              "  </div>\n",
              "  "
            ],
            "text/plain": [
              "       default\n",
              "57626        0\n",
              "6051         0\n",
              "42718        1\n",
              "87128        0\n",
              "63728        0"
            ]
          },
          "metadata": {},
          "execution_count": 205
        }
      ],
      "source": [
        "y_train.head()"
      ],
      "id": "CtpUT3G62nq5"
    },
    {
      "cell_type": "code",
      "execution_count": 206,
      "metadata": {
        "id": "DxSiFhk9RTpL",
        "colab": {
          "base_uri": "https://localhost:8080/"
        },
        "outputId": "72cbc48a-05e7-4469-9be2-f83e0a840429"
      },
      "outputs": [
        {
          "output_type": "stream",
          "name": "stdout",
          "text": [
            "(74539, 112)\n",
            "(18635, 112)\n",
            "(74539, 1)\n",
            "(18635, 1)\n"
          ]
        }
      ],
      "source": [
        "###Checking the shape of train and test sets\n",
        "print(X_train.shape)\n",
        "print(X_val.shape)\n",
        "print(y_train.shape)\n",
        "print(y_val.shape)"
      ],
      "id": "DxSiFhk9RTpL"
    },
    {
      "cell_type": "code",
      "execution_count": 207,
      "metadata": {
        "id": "caa2f5d7"
      },
      "outputs": [],
      "source": [
        "## Scaling the data\n",
        "#sc=StandardScaler()\n",
        "#X_train = sc.fit_transform(X_train)\n",
        "#X_val = sc.transform(X_val)\n",
        "#df_test = sc.transform(df_test)"
      ],
      "id": "caa2f5d7"
    },
    {
      "cell_type": "markdown",
      "metadata": {
        "id": "gwmwz0CW5cC5"
      },
      "source": [
        "## **Model Building**"
      ],
      "id": "gwmwz0CW5cC5"
    },
    {
      "cell_type": "markdown",
      "metadata": {
        "id": "LwW-lVlORwKn"
      },
      "source": [
        "#### **A model can make wrong predictions in the following ways:**\n",
        "* Predicting an employee is looking for a job, when he/she is not looking for it. \n",
        "* Predicting an employee is not looking for a job, when he/she is in fact looking for one.\n",
        "\n",
        "#### **Which case is more important?**\n",
        "\n",
        "Both cases are actually important for the purposes of this case study. Not giving a chance to a deserving employee (by wrongly classifying them as likely to attrite) might lead to decreased productivity, and the company might lose a good employee affecting the organization's growth. However, giving chances to a non-deserving employee (as they are likely to attrite) would lead to a financial loss for the company, and giving such employees an increased amount of responsibility might again affect the company's growth.\n",
        "\n",
        "#### **How to reduce this loss i.e need to reduce False Negatives as well as False Positives?**\n",
        "\n",
        "Since both errors are important for us to minimize, the company would want the F1 Score evaluation metric to be maximized/ Hence, the focus should be on increasing the F1 score rather than focusing on just one metric i.e. Recall or Precision.\n"
      ],
      "id": "LwW-lVlORwKn"
    },
    {
      "cell_type": "code",
      "source": [
        ""
      ],
      "metadata": {
        "id": "ucppes9maOQR"
      },
      "id": "ucppes9maOQR",
      "execution_count": 31,
      "outputs": []
    },
    {
      "cell_type": "code",
      "execution_count": 32,
      "metadata": {
        "id": "cbf622c1"
      },
      "outputs": [],
      "source": [
        "def make_confusion_matrix(cf,\n",
        "                          group_names=None,\n",
        "                          categories='auto',\n",
        "                          count=True,\n",
        "                          percent=True,\n",
        "                          cbar=True,\n",
        "                          xyticks=True,\n",
        "                          xyplotlabels=True,\n",
        "                          sum_stats=True,\n",
        "                          figsize=None,\n",
        "                          cmap='Blues',\n",
        "                          title=None):\n",
        "    '''\n",
        "    This function will make a pretty plot of an sklearn Confusion Matrix cm using a Seaborn heatmap visualization.\n",
        "    Arguments\n",
        "    '''\n",
        "\n",
        "\n",
        "    # CODE TO GENERATE TEXT INSIDE EACH SQUARE\n",
        "    blanks = ['' for i in range(cf.size)]\n",
        "\n",
        "    if group_names and len(group_names)==cf.size:\n",
        "        group_labels = [\"{}\\n\".format(value) for value in group_names]\n",
        "    else:\n",
        "        group_labels = blanks\n",
        "\n",
        "    if count:\n",
        "        group_counts = [\"{0:0.0f}\\n\".format(value) for value in cf.flatten()]\n",
        "    else:\n",
        "        group_counts = blanks\n",
        "\n",
        "    if percent:\n",
        "        group_percentages = [\"{0:.2%}\".format(value) for value in cf.flatten()/np.sum(cf)]\n",
        "    else:\n",
        "        group_percentages = blanks\n",
        "\n",
        "    box_labels = [f\"{v1}{v2}{v3}\".strip() for v1, v2, v3 in zip(group_labels,group_counts,group_percentages)]\n",
        "    box_labels = np.asarray(box_labels).reshape(cf.shape[0],cf.shape[1])\n",
        "\n",
        "\n",
        "    # CODE TO GENERATE SUMMARY STATISTICS & TEXT FOR SUMMARY STATS\n",
        "    if sum_stats:\n",
        "        #Accuracy is sum of diagonal divided by total observations\n",
        "        accuracy  = np.trace(cf) / float(np.sum(cf))\n",
        "\n",
        "\n",
        "\n",
        "    # SET FIGURE PARAMETERS ACCORDING TO OTHER ARGUMENTS\n",
        "    if figsize==None:\n",
        "        #Get default figure size if not set\n",
        "        figsize = plt.rcParams.get('figure.figsize')\n",
        "\n",
        "    if xyticks==False:\n",
        "        #Do not show categories if xyticks is False\n",
        "        categories=False\n",
        "\n",
        "\n",
        "    # MAKE THE HEATMAP VISUALIZATION\n",
        "    plt.figure(figsize=figsize)\n",
        "    sns.heatmap(cf,annot=box_labels,fmt=\"\",cmap=cmap,cbar=cbar,xticklabels=categories,yticklabels=categories)\n",
        "\n",
        "    \n",
        "    if title:\n",
        "        plt.title(title)"
      ],
      "id": "cbf622c1"
    },
    {
      "cell_type": "markdown",
      "metadata": {
        "id": "0cb7ee71"
      },
      "source": [
        "## Building the model"
      ],
      "id": "0cb7ee71"
    },
    {
      "cell_type": "markdown",
      "metadata": {
        "id": "59b42b71"
      },
      "source": [
        "### Model evaluation criterion:\n",
        "\n",
        "#### Model can make wrong predictions as:\n",
        "1. Predicting a customer will buy the product and the customer doesn't buy - Loss of resources\n",
        "2. Predicting a customer will not buy the product and the customer buys - Loss of opportunity\n",
        "\n",
        "#### Which case is more important? \n",
        "* Predicting that customer will not buy the product but he buys i.e. losing on a potential source of income for the company because that customer will not be targeted by the marketing team when he should be targeted.\n",
        "\n",
        "#### How to reduce this loss i.e need to reduce False Negatives?\n",
        "* Company wants Recall to be maximized, greater the Recall lesser the chances of false negatives."
      ],
      "id": "59b42b71"
    },
    {
      "cell_type": "code",
      "execution_count": 33,
      "metadata": {
        "id": "6a2968a5",
        "outputId": "1c88f7fa-2a0e-4fad-bfd1-72b15ca09455",
        "colab": {
          "base_uri": "https://localhost:8080/"
        }
      },
      "outputs": [
        {
          "output_type": "stream",
          "name": "stdout",
          "text": [
            "\n",
            "Cross-Validation Performance:\n",
            "\n",
            "Logistic Regression: 21.888873997418457\n",
            "Decision Trees: 51.26822356990031\n",
            "Bagging: 38.78437257182609\n",
            "Random forest: 20.736614030637075\n",
            "Gradient Boosting Classifier: 18.33021569763082\n",
            "Adaboost: 19.962690484509945\n",
            "Xgboost: 16.49998962915452\n",
            "\n",
            "Training Performance:\n",
            "\n",
            "Logistic Regression: 22.171383381347795\n",
            "Decision Trees: 100.0\n",
            "Bagging: 93.70163249166808\n",
            "Random forest: 99.99435123990284\n",
            "Gradient Boosting Classifier: 18.99678020674462\n",
            "Adaboost: 19.42043721403152\n",
            "Xgboost: 16.358809241371517\n"
          ]
        }
      ],
      "source": [
        "models = []  # Empty list to store all the models\n",
        "\n",
        "# Appending models into the list\n",
        "models.append(\n",
        "    (\"Logistic Regression\", LogisticRegression(random_state=1, max_iter=2000))\n",
        ")\n",
        "models.append((\"Decision Trees\", DecisionTreeClassifier(random_state=1)))\n",
        "models.append((\"Bagging\", BaggingClassifier(random_state=1)))\n",
        "models.append((\"Random forest\", RandomForestClassifier(random_state=1)))\n",
        "models.append(\n",
        "    (\"Gradient Boosting Classifier\", GradientBoostingClassifier(random_state=1))\n",
        ")\n",
        "models.append((\"Adaboost\", AdaBoostClassifier(random_state=1)))\n",
        "models.append(\n",
        "    (\n",
        "        \"Xgboost\",\n",
        "        XGBClassifier(random_state=1, eval_metric=\"logloss\", use_label_encoder=False),\n",
        "    )\n",
        ")\n",
        "\n",
        "results = []  # Empty list to store all model's CV scores\n",
        "names = []  # Empty list to store name of the models\n",
        "\n",
        "\n",
        "# loop through all models to get the mean cross validated score\n",
        "print(\"\\n\" \"Cross-Validation Performance:\" \"\\n\")\n",
        "\n",
        "for name, model in models:\n",
        "    scoring = \"recall\"\n",
        "    kfold = StratifiedKFold(\n",
        "        n_splits=5, shuffle=True, random_state=1\n",
        "    )  # Setting number of splits equal to 5\n",
        "    cv_result = cross_val_score(\n",
        "        estimator=model, X=X_train, y=y_train, scoring=scoring, cv=kfold\n",
        "    )\n",
        "    results.append(cv_result)\n",
        "    names.append(name)\n",
        "    print(\"{}: {}\".format(name, cv_result.mean() * 100))\n",
        "\n",
        "print(\"\\n\" \"Training Performance:\" \"\\n\")\n",
        "\n",
        "for name, model in models:\n",
        "    model.fit(X_train, y_train)\n",
        "    scores = recall_score(y_train, model.predict(X_train)) * 100\n",
        "    print(\"{}: {}\".format(name, scores))"
      ],
      "id": "6a2968a5"
    },
    {
      "cell_type": "code",
      "execution_count": 34,
      "metadata": {
        "id": "48947df0",
        "outputId": "c785d0df-ef21-4ec4-eb8e-58d08c497c5f",
        "colab": {
          "base_uri": "https://localhost:8080/",
          "height": 479
        }
      },
      "outputs": [
        {
          "output_type": "display_data",
          "data": {
            "image/png": "[encoded data removed]",
            "text/plain": [
              "<Figure size 720x504 with 1 Axes>"
            ]
          },
          "metadata": {
            "needs_background": "light"
          }
        }
      ],
      "source": [
        "# Plotting boxplots for CV scores of all models defined above\n",
        "fig = plt.figure(figsize=(10, 7))\n",
        "\n",
        "fig.suptitle(\"Algorithm Comparison\")\n",
        "ax = fig.add_subplot(111)\n",
        "\n",
        "plt.boxplot(results)\n",
        "ax.set_xticklabels(names)\n",
        "\n",
        "plt.show()"
      ],
      "id": "48947df0"
    },
    {
      "cell_type": "markdown",
      "metadata": {
        "id": "59b2d64c"
      },
      "source": [
        "- We can see that XGBoost is giving the highest cross-validated recall followed by Gradient Boosting.\n",
        "- The boxplot shows that the performance of xgboost is consistent with 1 outlier. "
      ],
      "id": "59b2d64c"
    },
    {
      "cell_type": "markdown",
      "metadata": {
        "id": "2fce57d4"
      },
      "source": [
        "### Oversampling train data using SMOTE"
      ],
      "id": "2fce57d4"
    },
    {
      "cell_type": "code",
      "execution_count": 209,
      "metadata": {
        "id": "bedbd647",
        "outputId": "65cd69a4-bbba-47fd-deb2-d122859b04a2",
        "colab": {
          "base_uri": "https://localhost:8080/"
        }
      },
      "outputs": [
        {
          "output_type": "stream",
          "name": "stdout",
          "text": [
            "Before Oversampling, counts of label 'Yes': default    17703\n",
            "dtype: int64\n",
            "Before Oversampling, counts of label 'No': default    56836\n",
            "dtype: int64 \n",
            "\n",
            "After Oversampling, counts of label 'Yes': default    56836\n",
            "dtype: int64\n",
            "After Oversampling, counts of label 'No': default    56836\n",
            "dtype: int64 \n",
            "\n",
            "After Oversampling, the shape of train_X: (113672, 112)\n",
            "After Oversampling, the shape of train_y: (113672, 1) \n",
            "\n"
          ]
        }
      ],
      "source": [
        "print(\"Before Oversampling, counts of label 'Yes': {}\".format(np.sum(y_train == 1,0)))\n",
        "print(\"Before Oversampling, counts of label 'No': {} \\n\".format(np.sum(y_train == 0,0)))\n",
        "\n",
        "sm = SMOTE(\n",
        "    sampling_strategy=1, k_neighbors=5, random_state=1\n",
        ")  # Synthetic Minority Over Sampling Technique\n",
        "X_train_over, y_train_over = sm.fit_resample(X_train, y_train)\n",
        "\n",
        "\n",
        "print(\"After Oversampling, counts of label 'Yes': {}\".format(np.sum(y_train_over == 1,0)))\n",
        "print(\"After Oversampling, counts of label 'No': {} \\n\".format(np.sum(y_train_over == 0, 0)))\n",
        "\n",
        "\n",
        "print(\"After Oversampling, the shape of train_X: {}\".format(X_train_over.shape))\n",
        "print(\"After Oversampling, the shape of train_y: {} \\n\".format(y_train_over.shape))"
      ],
      "id": "bedbd647"
    },
    {
      "cell_type": "code",
      "execution_count": 246,
      "metadata": {
        "id": "1adb1e2b",
        "outputId": "2a554582-ad6c-4fd2-c27c-6753bc1bdf79",
        "colab": {
          "base_uri": "https://localhost:8080/"
        }
      },
      "outputs": [
        {
          "output_type": "stream",
          "name": "stdout",
          "text": [
            "\n",
            "Cross-Validation Performance:\n",
            "\n",
            "Logistic Regression Oversampling: 71.8172000621244\n",
            "Decision Trees Oversampling: 82.19262973732624\n",
            "Bagging Oversampling: 80.23786796880205\n",
            "Random forest Oversampling: 82.04306486822964\n",
            "Gradient Boosting Classifier Oversampling: 77.37524463960293\n",
            "Adaboost Oversampling: 78.41685139263438\n",
            "Xgboost Oversampling: 77.2080982922973\n",
            "\n",
            "Training Performance:\n",
            "\n",
            "Logistic Regression Oversampling: 71.91920613695545\n",
            "Decision Trees Oversampling: 100.0\n",
            "Bagging Oversampling: 98.3566753466113\n",
            "Random forest Oversampling: 100.0\n",
            "Gradient Boosting Classifier Oversampling: 77.51777042719404\n",
            "Adaboost Oversampling: 78.19339855021465\n",
            "Xgboost Oversampling: 77.29783939756493\n"
          ]
        }
      ],
      "source": [
        "models_over = []  # Empty list to store all the models\n",
        "\n",
        "# Appending models into the list\n",
        "models_over.append(\n",
        "    (\n",
        "        \"Logistic Regression Oversampling\",\n",
        "        LogisticRegression(random_state=1, max_iter=5000),\n",
        "    )\n",
        ")\n",
        "models_over.append(\n",
        "    (\"Decision Trees Oversampling\", DecisionTreeClassifier(random_state=1))\n",
        ")\n",
        "models_over.append((\"Bagging Oversampling\", BaggingClassifier(random_state=1)))\n",
        "models_over.append(\n",
        "    (\"Random forest Oversampling\", RandomForestClassifier(random_state=1))\n",
        ")\n",
        "models_over.append(\n",
        "    (\n",
        "        \"Gradient Boosting Classifier Oversampling\",\n",
        "        GradientBoostingClassifier(random_state=1),\n",
        "    )\n",
        ")\n",
        "models_over.append((\"Adaboost Oversampling\", AdaBoostClassifier(random_state=1)))\n",
        "models_over.append(\n",
        "    (\n",
        "        \"Xgboost Oversampling\",\n",
        "        XGBClassifier(random_state=1, eval_metric=\"logloss\", use_label_encoder=False),\n",
        "    )\n",
        ")\n",
        "\n",
        "results_over = []  # Empty list to store all model's CV scores\n",
        "names_over = []  # Empty list to store name of the models\n",
        "\n",
        "\n",
        "# loop through all models to get the mean cross validated score\n",
        "print(\"\\n\" \"Cross-Validation Performance:\" \"\\n\")\n",
        "\n",
        "for name, model in models_over:\n",
        "    scoring = \"f1\"\n",
        "    kfold = StratifiedKFold(\n",
        "        n_splits=20, shuffle=True, random_state=1\n",
        "    )  # Setting number of splits equal to 5\n",
        "    cv_result = cross_val_score(\n",
        "        estimator=model, X=X_train_over, y=y_train_over, scoring=scoring, cv=kfold\n",
        "    )\n",
        "    results_over.append(cv_result)\n",
        "    names_over.append(name)\n",
        "    print(\"{}: {}\".format(name, cv_result.mean() * 100))\n",
        "\n",
        "print(\"\\n\" \"Training Performance:\" \"\\n\")\n",
        "\n",
        "for name, model in models_over:\n",
        "    model.fit(X_train_over, y_train_over)\n",
        "    scores = recall_score(y_train_over, model.predict(X_train_over)) * 100\n",
        "    print(\"{}: {}\".format(name, scores))"
      ],
      "id": "1adb1e2b"
    },
    {
      "cell_type": "code",
      "execution_count": 247,
      "metadata": {
        "id": "1e67384a",
        "outputId": "79ea6a5f-fa41-4b19-9811-3cace2a9a2c0",
        "colab": {
          "base_uri": "https://localhost:8080/",
          "height": 479
        }
      },
      "outputs": [
        {
          "output_type": "display_data",
          "data": {
            "image/png": "[encoded data removed]",
            "text/plain": [
              "<Figure size 720x504 with 1 Axes>"
            ]
          },
          "metadata": {
            "needs_background": "light"
          }
        }
      ],
      "source": [
        "# Plotting boxplots for CV scores of all models defined above\n",
        "fig = plt.figure(figsize=(10, 7))\n",
        "\n",
        "fig.suptitle(\"Algorithm Comparison\")\n",
        "ax = fig.add_subplot(111)\n",
        "\n",
        "plt.boxplot(results_over)\n",
        "ax.set_xticklabels(names_over)\n",
        "\n",
        "plt.show()"
      ],
      "id": "1e67384a"
    },
    {
      "cell_type": "markdown",
      "metadata": {
        "id": "f28c48d0"
      },
      "source": [
        "- We can see that XGBoost is giving the highest cross-validated recall followed by Random forest.\n",
        "- The boxplot shows that the performance of xgboost is consistent with 2 outlier."
      ],
      "id": "f28c48d0"
    },
    {
      "cell_type": "markdown",
      "metadata": {
        "id": "b9d5bdc7"
      },
      "source": [
        "### Undersampling train data using Random Under Sampler"
      ],
      "id": "b9d5bdc7"
    },
    {
      "cell_type": "code",
      "execution_count": 38,
      "metadata": {
        "id": "3feb333f"
      },
      "outputs": [],
      "source": [
        "rus = RandomUnderSampler(random_state=1)\n",
        "X_train_un, y_train_un = rus.fit_resample(X_train, y_train)"
      ],
      "id": "3feb333f"
    },
    {
      "cell_type": "code",
      "execution_count": 39,
      "metadata": {
        "id": "7706a2b3",
        "outputId": "36a96a75-9a8d-4d58-cf57-adfe000988d7",
        "colab": {
          "base_uri": "https://localhost:8080/"
        }
      },
      "outputs": [
        {
          "output_type": "stream",
          "name": "stdout",
          "text": [
            "Before Undersampling, counts of label 'Yes': default    17703\n",
            "dtype: int64\n",
            "Before Undersampling, counts of label 'No': default    56836\n",
            "dtype: int64 \n",
            "\n",
            "After Undersampling, counts of label 'Yes': default    17703\n",
            "dtype: int64\n",
            "After Undersampling, counts of label 'No': default    17703\n",
            "dtype: int64 \n",
            "\n",
            "After Undersampling, the shape of train_X: (35406, 113)\n",
            "After Undersampling, the shape of train_y: (35406, 1) \n",
            "\n"
          ]
        }
      ],
      "source": [
        "print(\"Before Undersampling, counts of label 'Yes': {}\".format(np.sum(y_train == 1)))\n",
        "print(\"Before Undersampling, counts of label 'No': {} \\n\".format(np.sum(y_train == 0)))\n",
        "\n",
        "print(\"After Undersampling, counts of label 'Yes': {}\".format(np.sum(y_train_un == 1)))\n",
        "print(\"After Undersampling, counts of label 'No': {} \\n\".format(np.sum(y_train_un == 0)))\n",
        "\n",
        "print(\"After Undersampling, the shape of train_X: {}\".format(X_train_un.shape))\n",
        "print(\"After Undersampling, the shape of train_y: {} \\n\".format(y_train_un.shape))"
      ],
      "id": "7706a2b3"
    },
    {
      "cell_type": "code",
      "execution_count": 40,
      "metadata": {
        "id": "522d0ec1",
        "outputId": "d696ff2d-a5c3-41e6-b2ee-ded013777aee",
        "colab": {
          "base_uri": "https://localhost:8080/"
        }
      },
      "outputs": [
        {
          "output_type": "stream",
          "name": "stdout",
          "text": [
            "\n",
            "Cross-Validation Performance:\n",
            "\n",
            "Logistic Regression Undersampling: 68.64365136727632\n",
            "Decision Trees Undersampling: 66.37295634512259\n",
            "Bagging Undersampling: 64.98338111899827\n",
            "Random forest Undersampling: 67.8980226786458\n",
            "Gradient Boosting Classifier Undersampling: 70.23651271545431\n",
            "Adaboost Undersampling: 65.7063247797791\n",
            "Xgboost Undersampling: 68.66631724894974\n",
            "\n",
            "Training Performance:\n",
            "\n",
            "Logistic Regression Undersampling: 68.99395582669604\n",
            "Decision Trees Undersampling: 100.0\n",
            "Bagging Undersampling: 97.75744224142801\n",
            "Random forest Undersampling: 100.0\n",
            "Gradient Boosting Classifier Undersampling: 72.30412924363102\n",
            "Adaboost Undersampling: 66.60453030559792\n",
            "Xgboost Undersampling: 70.0389764446704\n"
          ]
        }
      ],
      "source": [
        "models_un = []  # Empty list to store all the models\n",
        "\n",
        "# Appending models into the list\n",
        "models_un.append(\n",
        "    (\n",
        "        \"Logistic Regression Undersampling\",\n",
        "        LogisticRegression(random_state=1, max_iter=1000),\n",
        "    )\n",
        ")\n",
        "models_un.append(\n",
        "    (\"Decision Trees Undersampling\", DecisionTreeClassifier(random_state=1))\n",
        ")\n",
        "models_un.append((\"Bagging Undersampling\", BaggingClassifier(random_state=1)))\n",
        "models_un.append(\n",
        "    (\"Random forest Undersampling\", RandomForestClassifier(random_state=1))\n",
        ")\n",
        "models_un.append(\n",
        "    (\n",
        "        \"Gradient Boosting Classifier Undersampling\",\n",
        "        GradientBoostingClassifier(random_state=1),\n",
        "    )\n",
        ")\n",
        "models_un.append((\"Adaboost Undersampling\", AdaBoostClassifier(random_state=1)))\n",
        "models_un.append(\n",
        "    (\n",
        "        \"Xgboost Undersampling\",\n",
        "        XGBClassifier(random_state=1, eval_metric=\"logloss\", use_label_encoder=False),\n",
        "    )\n",
        ")\n",
        "\n",
        "results_un = []  # Empty list to store all model's CV scores\n",
        "names_un = []  # Empty list to store name of the models\n",
        "\n",
        "\n",
        "# loop through all models to get the mean cross validated score\n",
        "print(\"\\n\" \"Cross-Validation Performance:\" \"\\n\")\n",
        "\n",
        "for name, model in models_un:\n",
        "    scoring = \"recall\"\n",
        "    kfold = StratifiedKFold(\n",
        "        n_splits=5, shuffle=True, random_state=1\n",
        "    )  # Setting number of splits equal to 5\n",
        "    cv_result = cross_val_score(\n",
        "        estimator=model, X=X_train_un, y=y_train_un, scoring=scoring, cv=kfold\n",
        "    )\n",
        "    results_un.append(cv_result)\n",
        "    names_un.append(name)\n",
        "    print(\"{}: {}\".format(name, cv_result.mean() * 100))\n",
        "\n",
        "print(\"\\n\" \"Training Performance:\" \"\\n\")\n",
        "\n",
        "for name, model in models_un:\n",
        "    model.fit(X_train_un, y_train_un)\n",
        "    scores = recall_score(y_train_un, model.predict(X_train_un)) * 100\n",
        "    print(\"{}: {}\".format(name, scores))"
      ],
      "id": "522d0ec1"
    },
    {
      "cell_type": "code",
      "execution_count": 41,
      "metadata": {
        "id": "8ba15518",
        "outputId": "dfe1330d-3be3-4f55-d550-1e4f6c59e0e6",
        "colab": {
          "base_uri": "https://localhost:8080/",
          "height": 479
        }
      },
      "outputs": [
        {
          "output_type": "display_data",
          "data": {
            "image/png": "[encoded data removed]",
            "text/plain": [
              "<Figure size 720x504 with 1 Axes>"
            ]
          },
          "metadata": {
            "needs_background": "light"
          }
        }
      ],
      "source": [
        "# Plotting boxplots for CV scores of all models defined above\n",
        "fig = plt.figure(figsize=(10, 7))\n",
        "\n",
        "fig.suptitle(\"Algorithm Comparison\")\n",
        "ax = fig.add_subplot(111)\n",
        "\n",
        "plt.boxplot(results_un)\n",
        "ax.set_xticklabels(names_un)\n",
        "\n",
        "plt.show()"
      ],
      "id": "8ba15518"
    },
    {
      "cell_type": "markdown",
      "metadata": {
        "id": "38ed255f"
      },
      "source": [
        "- We can see that XGBoost is giving the highest cross-validated recall followed by Gradient Boosting.\n",
        "- The boxplot shows that the performance of xgboost is consistent."
      ],
      "id": "38ed255f"
    },
    {
      "cell_type": "markdown",
      "metadata": {
        "id": "39cb5fe0"
      },
      "source": [
        "## Hyperparameter Tuning"
      ],
      "id": "39cb5fe0"
    },
    {
      "cell_type": "markdown",
      "metadata": {
        "id": "ac98718e"
      },
      "source": [
        "**Xgboost with Oversampling train data has highest cross-validated recall then Random Forest with Oversampling train data has highest cross-validated recall and then Gradient Boosting with Oversampling train data has highest cross-validated recall. We will tune Random Forest, Gradient Boosting and xgboost models using RandomizedSearchCV. We will also compare the performance of these three models.**"
      ],
      "id": "ac98718e"
    },
    {
      "cell_type": "markdown",
      "metadata": {
        "id": "c04994c9"
      },
      "source": [
        "**First, let's create two functions to calculate different metrics and confusion matrix so that we don't have to use the same code repeatedly for each model.**"
      ],
      "id": "c04994c9"
    },
    {
      "cell_type": "code",
      "execution_count": 42,
      "metadata": {
        "id": "6ea75a5f"
      },
      "outputs": [],
      "source": [
        "# defining a function to compute different metrics to check performance of a classification model built using sklearn\n",
        "def model_performance_classification_sklearn(model, predictors, target):\n",
        "    \"\"\"\n",
        "    Function to compute different metrics to check classification model performance\n",
        "\n",
        "    model: classifier\n",
        "    predictors: independent variables\n",
        "    target: dependent variable\n",
        "    \"\"\"\n",
        "\n",
        "    # predicting using the independent variables\n",
        "    pred = model.predict(predictors)\n",
        "\n",
        "    acc = accuracy_score(target, pred)  # to compute Accuracy\n",
        "    recall = recall_score(target, pred)  # to compute Recall\n",
        "    precision = precision_score(target, pred)  # to compute Precision\n",
        "    f1 = f1_score(target, pred)  # to compute F1-score\n",
        "\n",
        "    # creating a dataframe of metrics\n",
        "    df_perf = pd.DataFrame(\n",
        "        {\"Accuracy\": acc, \"Recall\": recall, \"Precision\": precision, \"F1\": f1,},\n",
        "        index=[0],\n",
        "    )\n",
        "\n",
        "    return df_perf"
      ],
      "id": "6ea75a5f"
    },
    {
      "cell_type": "code",
      "execution_count": 43,
      "metadata": {
        "id": "e5a3e237"
      },
      "outputs": [],
      "source": [
        "def confusion_matrix_sklearn(model, predictors, target):\n",
        "    \"\"\"\n",
        "    To plot the confusion_matrix with percentages\n",
        "\n",
        "    model: classifier\n",
        "    predictors: independent variables\n",
        "    target: dependent variable\n",
        "    \"\"\"\n",
        "    y_pred = model.predict(predictors)\n",
        "    cm = confusion_matrix(target, y_pred)\n",
        "    labels = np.asarray(\n",
        "        [\n",
        "            [\"{0:0.0f}\".format(item) + \"\\n{0:.2%}\".format(item / cm.flatten().sum())]\n",
        "            for item in cm.flatten()\n",
        "        ]\n",
        "    ).reshape(2, 2)\n",
        "\n",
        "    plt.figure(figsize=(6, 4))\n",
        "    sns.heatmap(cm, annot=labels, fmt=\"\")\n",
        "    plt.ylabel(\"True label\")\n",
        "    plt.xlabel(\"Predicted label\")"
      ],
      "id": "e5a3e237"
    },
    {
      "cell_type": "markdown",
      "metadata": {
        "id": "3d11e682"
      },
      "source": [
        "### Random Forest Classifier\n",
        "**Now, let's see if we can get a better model by tuning the random forest classifier. Some of the important hyperparameters available for random forest classifier are:**\n",
        "\n",
        "- n_estimators: The number of trees in the forest, default = 100.\n",
        "- max_features: The number of features to consider when looking for the best split. \n",
        "- class_weight: Weights associated with classes in the form {class_label: weight}.If not given, all classes are supposed to have weight one.  \n",
        "- For example: If the frequency of class 0 is 80% and the frequency of class 1 is 20% in the data, then class 0 will become the dominant class and the model will become biased toward the dominant classes. In this case, we can pass a dictionary {0:0.2,1:0.8} to the model to specify the weight of each class and the random forest will give more weightage to class 1. \n",
        "- bootstrap: Whether bootstrap samples are used when building trees. If False, the entire dataset is used to build each tree, default=True.\n",
        "- max_samples: If bootstrap is True, then the number of samples to draw from X to train each base estimator. If None (default), then draw N samples, where N is the number of observations in the train data.\n",
        "- oob_score: Whether to use out-of-bag samples to estimate the generalization accuracy, default=False.\n",
        "\n",
        "- Note: A lot of hyperparameters of Decision Trees are also available to tune  Random Forest like max_depth, min_sample_split etc."
      ],
      "id": "3d11e682"
    },
    {
      "cell_type": "code",
      "execution_count": 211,
      "metadata": {
        "id": "8bb2f1df",
        "outputId": "dc7eacf1-1d1c-4f95-c1c3-0901077946f7",
        "colab": {
          "base_uri": "https://localhost:8080/",
          "height": 418
        }
      },
      "outputs": [
        {
          "output_type": "stream",
          "name": "stdout",
          "text": [
            "Training performance:\n",
            "    Accuracy    Recall  Precision        F1\n",
            "0  0.761577  0.774667   0.754904  0.764658\n",
            "Validation performance:\n",
            "    Accuracy    Recall  Precision        F1\n",
            "0  0.700778  0.553321   0.404927  0.467634\n",
            "CPU times: user 13.4 s, sys: 711 ms, total: 14.1 s\n",
            "Wall time: 2min 5s\n"
          ]
        },
        {
          "output_type": "display_data",
          "data": {
            "image/png": "[encoded data removed]",
            "text/plain": [
              "<Figure size 432x288 with 2 Axes>"
            ]
          },
          "metadata": {
            "needs_background": "light"
          }
        }
      ],
      "source": [
        "%%time\n",
        "# Choose the type of classifier.\n",
        "rf_estimator_tuned = RandomForestClassifier(random_state=1)\n",
        "\n",
        "# Grid of parameters to choose from\n",
        "## add from article\n",
        "parameters = {\n",
        "    \"max_depth\": [2, 4, 6],\n",
        "    \"n_estimators\": [10, 17, 25, 33, 41, 48, 56, 64, 72, 80]\n",
        "}\n",
        "\n",
        "# Type of scoring used to compare parameter combinations\n",
        "acc_scorer = metrics.make_scorer(metrics.recall_score)\n",
        "\n",
        "#Calling RandomizedSearchCV\n",
        "randomized_cv = RandomizedSearchCV(estimator=rf_estimator_tuned, param_distributions=parameters, n_jobs = -1, scoring=acc_scorer, cv=10, random_state=1)\n",
        "\n",
        "#Fitting parameters in RandomizedSearchCV\n",
        "randomized_cv.fit(X_train_over, y_train_over)\n",
        "\n",
        "# Set the clf to the best combination of parameters\n",
        "rf_estimator_tuned = randomized_cv.best_estimator_\n",
        "\n",
        "# Fit the best algorithm to the data.\n",
        "rf_estimator_tuned.fit(X_train_over, y_train_over)\n",
        "\n",
        "# Calculating different metrics\n",
        "rf_estimator_tuned_model_train_perf = model_performance_classification_sklearn(\n",
        "    rf_estimator_tuned, X_train_over, y_train_over\n",
        ")\n",
        "print(\"Training performance:\\n\", rf_estimator_tuned_model_train_perf)\n",
        "\n",
        "rf_estimator_tuned_model_val_perf = model_performance_classification_sklearn(\n",
        "    rf_estimator_tuned, X_val, y_val\n",
        ")\n",
        "print(\"Validation performance:\\n\", rf_estimator_tuned_model_val_perf)\n",
        "\n",
        "# Creating confusion matrix\n",
        "confusion_matrix_sklearn(rf_estimator_tuned, X_val, y_val)"
      ],
      "id": "8bb2f1df"
    },
    {
      "cell_type": "markdown",
      "metadata": {
        "id": "1f9169c4"
      },
      "source": [
        "### Gradient Boosting Classifier"
      ],
      "id": "1f9169c4"
    },
    {
      "cell_type": "code",
      "execution_count": 210,
      "metadata": {
        "id": "7e6023b9",
        "outputId": "bc997723-1998-4912-dede-ebcc1c64c172",
        "colab": {
          "base_uri": "https://localhost:8080/",
          "height": 418
        }
      },
      "outputs": [
        {
          "output_type": "stream",
          "name": "stdout",
          "text": [
            "Training performance \n",
            "    Accuracy    Recall  Precision        F1\n",
            "0  0.873804  0.805229   0.933219  0.864513\n",
            "Testing performance \n",
            "    Accuracy    Recall  Precision        F1\n",
            "0  0.817065  0.416855   0.690236  0.519792\n",
            "CPU times: user 6min, sys: 6.45 s, total: 6min 6s\n",
            "Wall time: 1h 28min 54s\n"
          ]
        },
        {
          "output_type": "display_data",
          "data": {
            "image/png": "[encoded data removed]",
            "text/plain": [
              "<Figure size 432x288 with 2 Axes>"
            ]
          },
          "metadata": {
            "needs_background": "light"
          }
        }
      ],
      "source": [
        "%%time\n",
        "# Choose the type of classifier.\n",
        "gbc_tuned = GradientBoostingClassifier(\n",
        "    init=AdaBoostClassifier(random_state=1), random_state=1\n",
        ")\n",
        "\n",
        "# Grid of parameters to choose from\n",
        "## add from article\n",
        "parameters = {\n",
        "    \"n_estimators\": [100, 150, 200, 250],\n",
        "    \"subsample\": [0.8, 0.9, 1],\n",
        "}\n",
        "\n",
        "# Type of scoring used to compare parameter combinations\n",
        "acc_scorer = metrics.make_scorer(metrics.recall_score)\n",
        "\n",
        "#Calling RandomizedSearchCV\n",
        "randomized_cv = RandomizedSearchCV(estimator=gbc_tuned, param_distributions=parameters, n_jobs = -1, scoring=acc_scorer, cv=10, random_state=1)\n",
        "\n",
        "#Fitting parameters in RandomizedSearchCV\n",
        "randomized_cv.fit(X_train_over, y_train_over)\n",
        "\n",
        "# Set the clf to the best combination of parameters\n",
        "gbc_tuned = randomized_cv.best_estimator_\n",
        "\n",
        "# Fit the best algorithm to the data.\n",
        "gbc_tuned.fit(X_train_over, y_train_over)\n",
        "\n",
        "# Calculating different metrics\n",
        "gbc_tuned_model_train_perf = model_performance_classification_sklearn(\n",
        "    gbc_tuned, X_train_over, y_train_over\n",
        ")\n",
        "print(\"Training performance \\n\", gbc_tuned_model_train_perf)\n",
        "\n",
        "gbc_tuned_model_val_perf = model_performance_classification_sklearn(\n",
        "    gbc_tuned, X_val, y_val\n",
        ")\n",
        "print(\"Testing performance \\n\", gbc_tuned_model_val_perf)\n",
        "\n",
        "# Creating confusion matrix\n",
        "confusion_matrix_sklearn(gbc_tuned, X_val, y_val)"
      ],
      "id": "7e6023b9"
    },
    {
      "cell_type": "markdown",
      "metadata": {
        "id": "43458004"
      },
      "source": [
        "### XGBoost Classifier"
      ],
      "id": "43458004"
    },
    {
      "cell_type": "code",
      "execution_count": 212,
      "metadata": {
        "id": "0f0260c9",
        "outputId": "d6b0f3e2-02de-4834-b7ae-541e88aad365",
        "colab": {
          "base_uri": "https://localhost:8080/",
          "height": 418
        }
      },
      "outputs": [
        {
          "output_type": "stream",
          "name": "stdout",
          "text": [
            "Training performance \n",
            "    Accuracy    Recall  Precision       F1\n",
            "0  0.515853  0.999877   0.508055  0.67376\n",
            "Testing performance \n",
            "    Accuracy    Recall  Precision        F1\n",
            "0  0.260585  0.999548   0.243064  0.391037\n",
            "CPU times: user 9.58 s, sys: 852 ms, total: 10.4 s\n",
            "Wall time: 7min 3s\n"
          ]
        },
        {
          "output_type": "display_data",
          "data": {
            "image/png": "[encoded data removed]",
            "text/plain": [
              "<Figure size 432x288 with 2 Axes>"
            ]
          },
          "metadata": {
            "needs_background": "light"
          }
        }
      ],
      "source": [
        "%%time\n",
        "# Choose the type of classifier. \n",
        "xgb_tuned = XGBClassifier(random_state=1,eval_metric='logloss')\n",
        "\n",
        "# Grid of parameters to choose from\n",
        "## add from\n",
        "parameters = {\n",
        "    \"n_estimators\": np.arange(10,100,20),\n",
        "    \"scale_pos_weight\":[0,1,2,5],\n",
        "    \"subsample\":[0.5,0.7,0.9,1],\n",
        "    \"learning_rate\":[0.01,0.1,0.2,0.05],\n",
        "    \"gamma\":[0,1,3],\n",
        "    \"colsample_bytree\":[0.5,0.7,0.9,1],\n",
        "    \"colsample_bylevel\":[0.5,0.7,0.9,1]\n",
        "}\n",
        "\n",
        "# Type of scoring used to compare parameter combinations\n",
        "acc_scorer = metrics.make_scorer(metrics.recall_score)\n",
        "\n",
        "#Calling RandomizedSearchCV\n",
        "randomized_cv = RandomizedSearchCV(estimator=xgb_tuned, param_distributions=parameters, n_jobs = -1, scoring=acc_scorer, cv=10, random_state=1)\n",
        "\n",
        "#Fitting parameters in RandomizedSearchCV\n",
        "randomized_cv.fit(X_train_over, y_train_over)\n",
        "\n",
        "# Set the clf to the best combination of parameters\n",
        "xgb_tuned = randomized_cv.best_estimator_\n",
        "\n",
        "# Fit the best algorithm to the data.\n",
        "xgb_tuned.fit(X_train_over, y_train_over)\n",
        "\n",
        "# Calculating different metrics\n",
        "xgb_tuned_model_train_perf = model_performance_classification_sklearn(\n",
        "    xgb_tuned, X_train_over, y_train_over\n",
        ")\n",
        "print(\"Training performance \\n\", xgb_tuned_model_train_perf)\n",
        "\n",
        "xgb_tuned_model_val_perf = model_performance_classification_sklearn(\n",
        "    xgb_tuned, X_val, y_val\n",
        ")\n",
        "print(\"Testing performance \\n\", xgb_tuned_model_val_perf)\n",
        "\n",
        "# Creating confusion matrix\n",
        "confusion_matrix_sklearn(xgb_tuned, X_val, y_val)"
      ],
      "id": "0f0260c9"
    },
    {
      "cell_type": "markdown",
      "source": [
        "#### Decision Tree"
      ],
      "metadata": {
        "id": "jZCBF3xyXg-h"
      },
      "id": "jZCBF3xyXg-h"
    },
    {
      "cell_type": "code",
      "source": [
        "# Fitting the model\n",
        "d_tree = DecisionTreeClassifier(random_state=1)\n",
        "d_tree.fit(X_train, y_train)\n",
        "\n",
        "# Calculating different metrics\n",
        "dtree_model_train_perf = model_performance_classification_sklearn(\n",
        "    d_tree, X_train, y_train\n",
        ")\n",
        "print(\"Training performance:\\n\", dtree_model_train_perf)\n",
        "dtree_model_test_perf = model_performance_classification_sklearn(d_tree, X_val, y_val)\n",
        "print(\"Testing performance:\\n\", dtree_model_test_perf)\n",
        "# Creating confusion matrix\n",
        "confusion_matrix_sklearn(d_tree, X_val, y_val)"
      ],
      "metadata": {
        "id": "Jwu2gUzgXlw-",
        "outputId": "e4a59ddb-0fa9-4fa4-c1d4-e26e42312076",
        "colab": {
          "base_uri": "https://localhost:8080/",
          "height": 387
        }
      },
      "id": "Jwu2gUzgXlw-",
      "execution_count": 159,
      "outputs": [
        {
          "output_type": "stream",
          "name": "stdout",
          "text": [
            "Training performance:\n",
            "    Accuracy  Recall  Precision   F1\n",
            "0       1.0     1.0        1.0  1.0\n",
            "Testing performance:\n",
            "    Accuracy    Recall  Precision       F1\n",
            "0  0.773652  0.544962    0.52253  0.53351\n"
          ]
        },
        {
          "output_type": "display_data",
          "data": {
            "image/png": "[encoded data removed]",
            "text/plain": [
              "<Figure size 432x288 with 2 Axes>"
            ]
          },
          "metadata": {
            "needs_background": "light"
          }
        }
      ]
    },
    {
      "cell_type": "code",
      "source": [
        "# Fitting the model\n",
        "d_tree_over = DecisionTreeClassifier(random_state=1)\n",
        "d_tree_over.fit(X_train_over, y_train_over)\n",
        "\n",
        "# Calculating different metrics\n",
        "dtree_model_train_perf_over = model_performance_classification_sklearn(\n",
        "    d_tree_over, X_train_over, y_train_over\n",
        ")\n",
        "print(\"Training performance:\\n\", dtree_model_train_perf_over)\n",
        "dtree_model_test_perf_over = model_performance_classification_sklearn(d_tree_over, X_val, y_val)\n",
        "print(\"Testing performance:\\n\", dtree_model_test_perf_over)\n",
        "# Creating confusion matrix\n",
        "confusion_matrix_sklearn(d_tree_over, X_val, y_val)"
      ],
      "metadata": {
        "id": "JtdamKmmXz6H",
        "outputId": "5d2fd2fe-3eb9-4a4e-9761-ea3048eb3802",
        "colab": {
          "base_uri": "https://localhost:8080/",
          "height": 383
        }
      },
      "id": "JtdamKmmXz6H",
      "execution_count": 253,
      "outputs": [
        {
          "output_type": "stream",
          "name": "stdout",
          "text": [
            "Training performance:\n",
            "    Accuracy  Recall  Precision   F1\n",
            "0       1.0     1.0        1.0  1.0\n",
            "Testing performance:\n",
            "    Accuracy    Recall  Precision        F1\n",
            "0  0.736732  0.504293   0.451456  0.476414\n"
          ]
        },
        {
          "output_type": "display_data",
          "data": {
            "image/png": "[encoded data removed]",
            "text/plain": [
              "<Figure size 432x288 with 2 Axes>"
            ]
          },
          "metadata": {
            "needs_background": "light"
          }
        }
      ]
    },
    {
      "cell_type": "markdown",
      "metadata": {
        "id": "aa8b24a8"
      },
      "source": [
        "## Comparing all tuned models"
      ],
      "id": "aa8b24a8"
    },
    {
      "cell_type": "code",
      "execution_count": 47,
      "metadata": {
        "id": "7cee4084",
        "outputId": "36b8c61c-4b5e-40f4-b24b-6bc390bdf298",
        "colab": {
          "base_uri": "https://localhost:8080/",
          "height": 192
        }
      },
      "outputs": [
        {
          "output_type": "stream",
          "name": "stdout",
          "text": [
            "Training performance comparison:\n"
          ]
        },
        {
          "output_type": "execute_result",
          "data": {
            "text/html": [
              "\n",
              "  <div id=\"df-993b7e90-0bc7-4b24-846c-374999857ab3\">\n",
              "    <div class=\"colab-df-container\">\n",
              "      <div>\n",
              "<style scoped>\n",
              "    .dataframe tbody tr th:only-of-type {\n",
              "        vertical-align: middle;\n",
              "    }\n",
              "\n",
              "    .dataframe tbody tr th {\n",
              "        vertical-align: top;\n",
              "    }\n",
              "\n",
              "    .dataframe thead th {\n",
              "        text-align: right;\n",
              "    }\n",
              "</style>\n",
              "<table border=\"1\" class=\"dataframe\">\n",
              "  <thead>\n",
              "    <tr style=\"text-align: right;\">\n",
              "      <th></th>\n",
              "      <th>Random Forest Tuned with Random Search</th>\n",
              "      <th>Gradient Boosting Tuned with Random Search</th>\n",
              "      <th>XGBoost Tuned with Random Search</th>\n",
              "    </tr>\n",
              "  </thead>\n",
              "  <tbody>\n",
              "    <tr>\n",
              "      <th>Accuracy</th>\n",
              "      <td>0.832113</td>\n",
              "      <td>0.870267</td>\n",
              "      <td>0.514040</td>\n",
              "    </tr>\n",
              "    <tr>\n",
              "      <th>Recall</th>\n",
              "      <td>0.790467</td>\n",
              "      <td>0.799212</td>\n",
              "      <td>0.999947</td>\n",
              "    </tr>\n",
              "    <tr>\n",
              "      <th>Precision</th>\n",
              "      <td>0.862289</td>\n",
              "      <td>0.931602</td>\n",
              "      <td>0.507121</td>\n",
              "    </tr>\n",
              "    <tr>\n",
              "      <th>F1</th>\n",
              "      <td>0.824818</td>\n",
              "      <td>0.860344</td>\n",
              "      <td>0.672954</td>\n",
              "    </tr>\n",
              "  </tbody>\n",
              "</table>\n",
              "</div>\n",
              "      <button class=\"colab-df-convert\" onclick=\"convertToInteractive('df-993b7e90-0bc7-4b24-846c-374999857ab3')\"\n",
              "              title=\"Convert this dataframe to an interactive table.\"\n",
              "              style=\"display:none;\">\n",
              "        \n",
              "  <svg xmlns=\"http://www.w3.org/2000/svg\" height=\"24px\"viewBox=\"0 0 24 24\"\n",
              "       width=\"24px\">\n",
              "    <path d=\"M0 0h24v24H0V0z\" fill=\"none\"/>\n",
              "    <path d=\"M18.56 5.44l.94 2.06.94-2.06 2.06-.94-2.06-.94-.94-2.06-.94 2.06-2.06.94zm-11 1L8.5 8.5l.94-2.06 2.06-.94-2.06-.94L8.5 2.5l-.94 2.06-2.06.94zm10 10l.94 2.06.94-2.06 2.06-.94-2.06-.94-.94-2.06-.94 2.06-2.06.94z\"/><path d=\"M17.41 7.96l-1.37-1.37c-.4-.4-.92-.59-1.43-.59-.52 0-1.04.2-1.43.59L10.3 9.45l-7.72 7.72c-.78.78-.78 2.05 0 2.83L4 21.41c.39.39.9.59 1.41.59.51 0 1.02-.2 1.41-.59l7.78-7.78 2.81-2.81c.8-.78.8-2.07 0-2.86zM5.41 20L4 18.59l7.72-7.72 1.47 1.35L5.41 20z\"/>\n",
              "  </svg>\n",
              "      </button>\n",
              "      \n",
              "  <style>\n",
              "    .colab-df-container {\n",
              "      display:flex;\n",
              "      flex-wrap:wrap;\n",
              "      gap: 12px;\n",
              "    }\n",
              "\n",
              "    .colab-df-convert {\n",
              "      background-color: #E8F0FE;\n",
              "      border: none;\n",
              "      border-radius: 50%;\n",
              "      cursor: pointer;\n",
              "      display: none;\n",
              "      fill: #1967D2;\n",
              "      height: 32px;\n",
              "      padding: 0 0 0 0;\n",
              "      width: 32px;\n",
              "    }\n",
              "\n",
              "    .colab-df-convert:hover {\n",
              "      background-color: #E2EBFA;\n",
              "      box-shadow: 0px 1px 2px rgba(60, 64, 67, 0.3), 0px 1px 3px 1px rgba(60, 64, 67, 0.15);\n",
              "      fill: #174EA6;\n",
              "    }\n",
              "\n",
              "    [theme=dark] .colab-df-convert {\n",
              "      background-color: #3B4455;\n",
              "      fill: #D2E3FC;\n",
              "    }\n",
              "\n",
              "    [theme=dark] .colab-df-convert:hover {\n",
              "      background-color: #434B5C;\n",
              "      box-shadow: 0px 1px 3px 1px rgba(0, 0, 0, 0.15);\n",
              "      filter: drop-shadow(0px 1px 2px rgba(0, 0, 0, 0.3));\n",
              "      fill: #FFFFFF;\n",
              "    }\n",
              "  </style>\n",
              "\n",
              "      <script>\n",
              "        const buttonEl =\n",
              "          document.querySelector('#df-993b7e90-0bc7-4b24-846c-374999857ab3 button.colab-df-convert');\n",
              "        buttonEl.style.display =\n",
              "          google.colab.kernel.accessAllowed ? 'block' : 'none';\n",
              "\n",
              "        async function convertToInteractive(key) {\n",
              "          const element = document.querySelector('#df-993b7e90-0bc7-4b24-846c-374999857ab3');\n",
              "          const dataTable =\n",
              "            await google.colab.kernel.invokeFunction('convertToInteractive',\n",
              "                                                     [key], {});\n",
              "          if (!dataTable) return;\n",
              "\n",
              "          const docLinkHtml = 'Like what you see? Visit the ' +\n",
              "            '<a target=\"_blank\" href=https://colab.research.google.com/notebooks/data_table.ipynb>data table notebook</a>'\n",
              "            + ' to learn more about interactive tables.';\n",
              "          element.innerHTML = '';\n",
              "          dataTable['output_type'] = 'display_data';\n",
              "          await google.colab.output.renderOutput(dataTable, element);\n",
              "          const docLink = document.createElement('div');\n",
              "          docLink.innerHTML = docLinkHtml;\n",
              "          element.appendChild(docLink);\n",
              "        }\n",
              "      </script>\n",
              "    </div>\n",
              "  </div>\n",
              "  "
            ],
            "text/plain": [
              "           Random Forest Tuned with Random Search  ...  XGBoost Tuned with Random Search\n",
              "Accuracy                                 0.832113  ...                          0.514040\n",
              "Recall                                   0.790467  ...                          0.999947\n",
              "Precision                                0.862289  ...                          0.507121\n",
              "F1                                       0.824818  ...                          0.672954\n",
              "\n",
              "[4 rows x 3 columns]"
            ]
          },
          "metadata": {},
          "execution_count": 47
        }
      ],
      "source": [
        "# training performance comparison\n",
        "\n",
        "models_train_comp_df = pd.concat(\n",
        "    [\n",
        "        rf_estimator_tuned_model_train_perf.T,\n",
        "        gbc_tuned_model_train_perf.T,\n",
        "        xgb_tuned_model_train_perf.T,\n",
        "    ],\n",
        "    axis=1,\n",
        ")\n",
        "models_train_comp_df.columns = [\n",
        "    \"Random Forest Tuned with Random Search\",\n",
        "    \"Gradient Boosting Tuned with Random Search\",\n",
        "    \"XGBoost Tuned with Random Search\",\n",
        "]\n",
        "print(\"Training performance comparison:\")\n",
        "models_train_comp_df"
      ],
      "id": "7cee4084"
    },
    {
      "cell_type": "code",
      "execution_count": 48,
      "metadata": {
        "id": "0d6523f2",
        "outputId": "a29ae8db-7750-47ab-a859-3b3c89aecf96",
        "colab": {
          "base_uri": "https://localhost:8080/",
          "height": 192
        }
      },
      "outputs": [
        {
          "output_type": "stream",
          "name": "stdout",
          "text": [
            "Validation performance comparison:\n"
          ]
        },
        {
          "output_type": "execute_result",
          "data": {
            "text/html": [
              "\n",
              "  <div id=\"df-63061693-219d-4c9d-b3ac-e786fa2565bf\">\n",
              "    <div class=\"colab-df-container\">\n",
              "      <div>\n",
              "<style scoped>\n",
              "    .dataframe tbody tr th:only-of-type {\n",
              "        vertical-align: middle;\n",
              "    }\n",
              "\n",
              "    .dataframe tbody tr th {\n",
              "        vertical-align: top;\n",
              "    }\n",
              "\n",
              "    .dataframe thead th {\n",
              "        text-align: right;\n",
              "    }\n",
              "</style>\n",
              "<table border=\"1\" class=\"dataframe\">\n",
              "  <thead>\n",
              "    <tr style=\"text-align: right;\">\n",
              "      <th></th>\n",
              "      <th>Random Forest Tuned with Random Search</th>\n",
              "      <th>Gradient Boosting Tuned with Random Search</th>\n",
              "      <th>XGBoost Tuned with Random Search</th>\n",
              "    </tr>\n",
              "  </thead>\n",
              "  <tbody>\n",
              "    <tr>\n",
              "      <th>Accuracy</th>\n",
              "      <td>0.769198</td>\n",
              "      <td>0.814972</td>\n",
              "      <td>0.259190</td>\n",
              "    </tr>\n",
              "    <tr>\n",
              "      <th>Recall</th>\n",
              "      <td>0.438997</td>\n",
              "      <td>0.416177</td>\n",
              "      <td>0.999096</td>\n",
              "    </tr>\n",
              "    <tr>\n",
              "      <th>Precision</th>\n",
              "      <td>0.516618</td>\n",
              "      <td>0.680710</td>\n",
              "      <td>0.242660</td>\n",
              "    </tr>\n",
              "    <tr>\n",
              "      <th>F1</th>\n",
              "      <td>0.474655</td>\n",
              "      <td>0.516545</td>\n",
              "      <td>0.390481</td>\n",
              "    </tr>\n",
              "  </tbody>\n",
              "</table>\n",
              "</div>\n",
              "      <button class=\"colab-df-convert\" onclick=\"convertToInteractive('df-63061693-219d-4c9d-b3ac-e786fa2565bf')\"\n",
              "              title=\"Convert this dataframe to an interactive table.\"\n",
              "              style=\"display:none;\">\n",
              "        \n",
              "  <svg xmlns=\"http://www.w3.org/2000/svg\" height=\"24px\"viewBox=\"0 0 24 24\"\n",
              "       width=\"24px\">\n",
              "    <path d=\"M0 0h24v24H0V0z\" fill=\"none\"/>\n",
              "    <path d=\"M18.56 5.44l.94 2.06.94-2.06 2.06-.94-2.06-.94-.94-2.06-.94 2.06-2.06.94zm-11 1L8.5 8.5l.94-2.06 2.06-.94-2.06-.94L8.5 2.5l-.94 2.06-2.06.94zm10 10l.94 2.06.94-2.06 2.06-.94-2.06-.94-.94-2.06-.94 2.06-2.06.94z\"/><path d=\"M17.41 7.96l-1.37-1.37c-.4-.4-.92-.59-1.43-.59-.52 0-1.04.2-1.43.59L10.3 9.45l-7.72 7.72c-.78.78-.78 2.05 0 2.83L4 21.41c.39.39.9.59 1.41.59.51 0 1.02-.2 1.41-.59l7.78-7.78 2.81-2.81c.8-.78.8-2.07 0-2.86zM5.41 20L4 18.59l7.72-7.72 1.47 1.35L5.41 20z\"/>\n",
              "  </svg>\n",
              "      </button>\n",
              "      \n",
              "  <style>\n",
              "    .colab-df-container {\n",
              "      display:flex;\n",
              "      flex-wrap:wrap;\n",
              "      gap: 12px;\n",
              "    }\n",
              "\n",
              "    .colab-df-convert {\n",
              "      background-color: #E8F0FE;\n",
              "      border: none;\n",
              "      border-radius: 50%;\n",
              "      cursor: pointer;\n",
              "      display: none;\n",
              "      fill: #1967D2;\n",
              "      height: 32px;\n",
              "      padding: 0 0 0 0;\n",
              "      width: 32px;\n",
              "    }\n",
              "\n",
              "    .colab-df-convert:hover {\n",
              "      background-color: #E2EBFA;\n",
              "      box-shadow: 0px 1px 2px rgba(60, 64, 67, 0.3), 0px 1px 3px 1px rgba(60, 64, 67, 0.15);\n",
              "      fill: #174EA6;\n",
              "    }\n",
              "\n",
              "    [theme=dark] .colab-df-convert {\n",
              "      background-color: #3B4455;\n",
              "      fill: #D2E3FC;\n",
              "    }\n",
              "\n",
              "    [theme=dark] .colab-df-convert:hover {\n",
              "      background-color: #434B5C;\n",
              "      box-shadow: 0px 1px 3px 1px rgba(0, 0, 0, 0.15);\n",
              "      filter: drop-shadow(0px 1px 2px rgba(0, 0, 0, 0.3));\n",
              "      fill: #FFFFFF;\n",
              "    }\n",
              "  </style>\n",
              "\n",
              "      <script>\n",
              "        const buttonEl =\n",
              "          document.querySelector('#df-63061693-219d-4c9d-b3ac-e786fa2565bf button.colab-df-convert');\n",
              "        buttonEl.style.display =\n",
              "          google.colab.kernel.accessAllowed ? 'block' : 'none';\n",
              "\n",
              "        async function convertToInteractive(key) {\n",
              "          const element = document.querySelector('#df-63061693-219d-4c9d-b3ac-e786fa2565bf');\n",
              "          const dataTable =\n",
              "            await google.colab.kernel.invokeFunction('convertToInteractive',\n",
              "                                                     [key], {});\n",
              "          if (!dataTable) return;\n",
              "\n",
              "          const docLinkHtml = 'Like what you see? Visit the ' +\n",
              "            '<a target=\"_blank\" href=https://colab.research.google.com/notebooks/data_table.ipynb>data table notebook</a>'\n",
              "            + ' to learn more about interactive tables.';\n",
              "          element.innerHTML = '';\n",
              "          dataTable['output_type'] = 'display_data';\n",
              "          await google.colab.output.renderOutput(dataTable, element);\n",
              "          const docLink = document.createElement('div');\n",
              "          docLink.innerHTML = docLinkHtml;\n",
              "          element.appendChild(docLink);\n",
              "        }\n",
              "      </script>\n",
              "    </div>\n",
              "  </div>\n",
              "  "
            ],
            "text/plain": [
              "           Random Forest Tuned with Random Search  ...  XGBoost Tuned with Random Search\n",
              "Accuracy                                 0.769198  ...                          0.259190\n",
              "Recall                                   0.438997  ...                          0.999096\n",
              "Precision                                0.516618  ...                          0.242660\n",
              "F1                                       0.474655  ...                          0.390481\n",
              "\n",
              "[4 rows x 3 columns]"
            ]
          },
          "metadata": {},
          "execution_count": 48
        }
      ],
      "source": [
        "# Validation performance comparison\n",
        "\n",
        "models_val_comp_df = pd.concat(\n",
        "    [\n",
        "        rf_estimator_tuned_model_val_perf.T,\n",
        "        gbc_tuned_model_val_perf.T,\n",
        "        xgb_tuned_model_val_perf.T,\n",
        "    ],\n",
        "    axis=1,\n",
        ")\n",
        "models_val_comp_df.columns = [\n",
        "    \"Random Forest Tuned with Random Search\",\n",
        "    \"Gradient Boosting Tuned with Random Search\",\n",
        "    \"XGBoost Tuned with Random Search\",\n",
        "]\n",
        "print(\"Validation performance comparison:\")\n",
        "models_val_comp_df"
      ],
      "id": "0d6523f2"
    },
    {
      "cell_type": "markdown",
      "metadata": {
        "id": "6a6b926b"
      },
      "source": [
        "- The xgboost model tuned using Random search is giving the best validation recall of 0.995 but it has the low values of validation precision.\n",
        "- Let's check the model's performance on test set and then see the feature importance from the tuned xgboost model"
      ],
      "id": "6a6b926b"
    },
    {
      "cell_type": "markdown",
      "metadata": {
        "id": "02806be9"
      },
      "source": [
        "#### Performance on the test set"
      ],
      "id": "02806be9"
    },
    {
      "cell_type": "code",
      "execution_count": 49,
      "metadata": {
        "id": "d76d300e",
        "outputId": "cb818ba5-eef8-45f4-f85d-6a05467d6f86",
        "colab": {
          "base_uri": "https://localhost:8080/",
          "height": 218
        }
      },
      "outputs": [
        {
          "output_type": "error",
          "ename": "NameError",
          "evalue": "ignored",
          "traceback": [
            "\u001b[0;31m---------------------------------------------------------------------------\u001b[0m",
            "\u001b[0;31mNameError\u001b[0m                                 Traceback (most recent call last)",
            "\u001b[0;32m<ipython-input-49-0be5cee5f8fd>\u001b[0m in \u001b[0;36m<module>\u001b[0;34m()\u001b[0m\n\u001b[1;32m      1\u001b[0m \u001b[0;31m# Calculating different metrics on the test set\u001b[0m\u001b[0;34m\u001b[0m\u001b[0;34m\u001b[0m\u001b[0;34m\u001b[0m\u001b[0m\n\u001b[0;32m----> 2\u001b[0;31m \u001b[0mmodel_grid_test\u001b[0m \u001b[0;34m=\u001b[0m \u001b[0mmodel_performance_classification_sklearn\u001b[0m\u001b[0;34m(\u001b[0m\u001b[0mxgb_tuned\u001b[0m\u001b[0;34m,\u001b[0m \u001b[0mX_test\u001b[0m\u001b[0;34m,\u001b[0m \u001b[0my_test\u001b[0m\u001b[0;34m)\u001b[0m\u001b[0;34m\u001b[0m\u001b[0;34m\u001b[0m\u001b[0m\n\u001b[0m\u001b[1;32m      3\u001b[0m \u001b[0mprint\u001b[0m\u001b[0;34m(\u001b[0m\u001b[0;34m\"Test performance:\"\u001b[0m\u001b[0;34m)\u001b[0m\u001b[0;34m\u001b[0m\u001b[0;34m\u001b[0m\u001b[0m\n\u001b[1;32m      4\u001b[0m \u001b[0mmodel_grid_test\u001b[0m\u001b[0;34m\u001b[0m\u001b[0;34m\u001b[0m\u001b[0m\n",
            "\u001b[0;31mNameError\u001b[0m: name 'X_test' is not defined"
          ]
        }
      ],
      "source": [
        "# Calculating different metrics on the test set\n",
        "model_grid_test = model_performance_classification_sklearn(xgb_tuned, X_test, y_test)\n",
        "print(\"Test performance:\")\n",
        "model_grid_test"
      ],
      "id": "d76d300e"
    },
    {
      "cell_type": "markdown",
      "metadata": {
        "id": "c84ded29"
      },
      "source": [
        "- The performance on test data is generalised"
      ],
      "id": "c84ded29"
    },
    {
      "cell_type": "code",
      "execution_count": 254,
      "metadata": {
        "id": "b60fca1a",
        "outputId": "340d674d-fb53-493d-9662-0ab12347d110",
        "colab": {
          "base_uri": "https://localhost:8080/",
          "height": 1000
        }
      },
      "outputs": [
        {
          "output_type": "display_data",
          "data": {
            "image/png": "[encoded data removed]",
            "text/plain": [
              "<Figure size 1440x1800 with 1 Axes>"
            ]
          },
          "metadata": {
            "needs_background": "light"
          }
        }
      ],
      "source": [
        "feature_names = X.columns\n",
        "importances = d_tree_over.feature_importances_\n",
        "indices = np.argsort(importances)\n",
        "\n",
        "plt.figure(figsize=(20, 25))\n",
        "plt.title(\"Feature Importances\")\n",
        "plt.barh(range(len(indices)), importances[indices], color=\"violet\", align=\"center\")\n",
        "plt.yticks(range(len(indices)), [feature_names[i] for i in indices])\n",
        "plt.xlabel(\"Relative Importance\")\n",
        "plt.show()"
      ],
      "id": "b60fca1a"
    },
    {
      "cell_type": "markdown",
      "metadata": {
        "id": "9d6866c3"
      },
      "source": [
        "- Total_Trans_Ct is the most important feature, followed by Total_Trans_Amt and Total_Relationship_Count."
      ],
      "id": "9d6866c3"
    },
    {
      "cell_type": "markdown",
      "source": [
        "## **Predict Test Data**"
      ],
      "metadata": {
        "id": "zlk5ZzhR46Rv"
      },
      "id": "zlk5ZzhR46Rv"
    },
    {
      "cell_type": "code",
      "execution_count": 235,
      "metadata": {
        "id": "2ZNcU-P8Cc1K",
        "outputId": "a65cb19e-0f3e-488a-934d-b392bba2f17d",
        "colab": {
          "base_uri": "https://localhost:8080/",
          "height": 296
        }
      },
      "outputs": [
        {
          "output_type": "stream",
          "name": "stdout",
          "text": [
            "Best Threshold=1.000000, G-Mean=0.643\n"
          ]
        },
        {
          "output_type": "display_data",
          "data": {
            "image/png": "[encoded data removed]",
            "text/plain": [
              "<Figure size 432x288 with 1 Axes>"
            ]
          },
          "metadata": {
            "needs_background": "light"
          }
        }
      ],
      "source": [
        "from sklearn.metrics import roc_curve\n",
        "\n",
        "from matplotlib import pyplot\n",
        "\n",
        "\n",
        "# predict probabilities\n",
        "yhat = rf_estimator_tuned.predict(X_val)\n",
        "# keep probabilities for the positive outcome only\n",
        "yhat = yhat[:]\n",
        "# calculate roc curves\n",
        "fpr, tpr, thresholds = roc_curve(y_val, yhat)\n",
        "# calculate the g-mean for each threshold\n",
        "gmeans = np.sqrt(tpr * (1-fpr))\n",
        "# locate the index of the largest g-mean\n",
        "ix = np.argmax(gmeans)\n",
        "print('Best Threshold=%f, G-Mean=%.3f' % (thresholds[ix], gmeans[ix]))\n",
        "# plot the roc curve for the model\n",
        "pyplot.plot([0,1], [0,1], linestyle='--', label='No Skill')\n",
        "pyplot.plot(fpr, tpr, marker='.')\n",
        "pyplot.scatter(fpr[ix], tpr[ix], marker='o', color='black', label='Best')\n",
        "# axis labels\n",
        "pyplot.xlabel('False Positive Rate')\n",
        "pyplot.ylabel('True Positive Rate')\n",
        "pyplot.legend()\n",
        "# show the plot\n",
        "pyplot.show()"
      ],
      "id": "2ZNcU-P8Cc1K"
    },
    {
      "cell_type": "code",
      "source": [
        "test_predict = rf_estimator_tuned.predict(df_test)\n",
        "#test_predict = (test_predict > thresholds[ix])"
      ],
      "metadata": {
        "id": "-wz0kLTGl_P9"
      },
      "execution_count": 236,
      "outputs": [],
      "id": "-wz0kLTGl_P9"
    },
    {
      "cell_type": "code",
      "source": [
        "res = pd.DataFrame(test_predict)\n",
        "#res.index = Data_test.index # its important for comparison\n"
      ],
      "metadata": {
        "id": "w5hsMgNx4lCl"
      },
      "execution_count": 237,
      "outputs": [],
      "id": "w5hsMgNx4lCl"
    },
    {
      "cell_type": "code",
      "source": [
        "res.head"
      ],
      "metadata": {
        "colab": {
          "base_uri": "https://localhost:8080/"
        },
        "id": "oWuXnz1c9bCV",
        "outputId": "14e5a572-6a90-4cb0-fd1a-1187044f82d6"
      },
      "id": "oWuXnz1c9bCV",
      "execution_count": 238,
      "outputs": [
        {
          "output_type": "execute_result",
          "data": {
            "text/plain": [
              "<bound method NDFrame.head of        0\n",
              "0      1\n",
              "1      0\n",
              "2      0\n",
              "3      0\n",
              "4      0\n",
              "...   ..\n",
              "39928  0\n",
              "39929  0\n",
              "39930  0\n",
              "39931  0\n",
              "39932  0\n",
              "\n",
              "[39933 rows x 1 columns]>"
            ]
          },
          "metadata": {},
          "execution_count": 238
        }
      ]
    },
    {
      "cell_type": "code",
      "source": [
        "res.columns = [\"default\"]\n",
        "final_result = pd.merge(Data_test, res, left_index=True, right_index=True)"
      ],
      "metadata": {
        "id": "QZa_laOP3Ldx"
      },
      "id": "QZa_laOP3Ldx",
      "execution_count": 239,
      "outputs": []
    },
    {
      "cell_type": "code",
      "source": [
        "final_result.head"
      ],
      "metadata": {
        "colab": {
          "base_uri": "https://localhost:8080/"
        },
        "id": "V8pWq5pNBr91",
        "outputId": "3a75d1d1-e178-4121-f744-c86a67b53c86"
      },
      "id": "V8pWq5pNBr91",
      "execution_count": 240,
      "outputs": [
        {
          "output_type": "execute_result",
          "data": {
            "text/plain": [
              "<bound method NDFrame.head of              ID  loan_amnt  ... total_revolving_limit  default\n",
              "0       4855329      12000  ...               25800.0        1\n",
              "1      66862420      12000  ...               23600.0        0\n",
              "2       3637416      15000  ...               34100.0        0\n",
              "3      53682249      12000  ...               21700.0        0\n",
              "4      53937165      20150  ...               12000.0        0\n",
              "...         ...        ...  ...                   ...      ...\n",
              "39928  57779318       5000  ...               26100.0        0\n",
              "39929  59742362       1800  ...               29200.0        0\n",
              "39930  72657145      15200  ...               45400.0        0\n",
              "39931  15220189      14425  ...               19700.0        0\n",
              "39932  21810584      27000  ...               33500.0        0\n",
              "\n",
              "[39933 rows x 23 columns]>"
            ]
          },
          "metadata": {},
          "execution_count": 240
        }
      ]
    },
    {
      "cell_type": "code",
      "source": [
        "final_result[\"default\"].value_counts()"
      ],
      "metadata": {
        "colab": {
          "base_uri": "https://localhost:8080/"
        },
        "id": "w2aHGQljEZio",
        "outputId": "817e2473-2042-4c56-c33f-e27ce1f30ff6"
      },
      "id": "w2aHGQljEZio",
      "execution_count": 241,
      "outputs": [
        {
          "output_type": "execute_result",
          "data": {
            "text/plain": [
              "0    27122\n",
              "1    12811\n",
              "Name: default, dtype: int64"
            ]
          },
          "metadata": {},
          "execution_count": 241
        }
      ]
    },
    {
      "cell_type": "code",
      "source": [
        "final_result.info()"
      ],
      "metadata": {
        "colab": {
          "base_uri": "https://localhost:8080/"
        },
        "id": "-8wkpv7QPXvk",
        "outputId": "2a6d63f4-8987-4221-8d42-e8a71785e43f"
      },
      "id": "-8wkpv7QPXvk",
      "execution_count": 242,
      "outputs": [
        {
          "output_type": "stream",
          "name": "stdout",
          "text": [
            "<class 'pandas.core.frame.DataFrame'>\n",
            "RangeIndex: 39933 entries, 0 to 39932\n",
            "Data columns (total 23 columns):\n",
            " #   Column                      Non-Null Count  Dtype  \n",
            "---  ------                      --------------  -----  \n",
            " 0   ID                          39933 non-null  int64  \n",
            " 1   loan_amnt                   39933 non-null  int64  \n",
            " 2   loan_term                   39933 non-null  object \n",
            " 3   interest_rate               39933 non-null  float64\n",
            " 4   loan_grade                  39933 non-null  object \n",
            " 5   loan_subgrade               39933 non-null  object \n",
            " 6   job_experience              37844 non-null  object \n",
            " 7   home_ownership              39933 non-null  object \n",
            " 8   annual_income               39933 non-null  float64\n",
            " 9   income_verification_status  39933 non-null  object \n",
            " 10  loan_purpose                39933 non-null  object \n",
            " 11  state_code                  39933 non-null  object \n",
            " 12  debt_to_income              39933 non-null  float64\n",
            " 13  delinq_2yrs                 39932 non-null  float64\n",
            " 14  public_records              39932 non-null  float64\n",
            " 15  revolving_balance           39933 non-null  int64  \n",
            " 16  total_acc                   39932 non-null  float64\n",
            " 17  interest_receive            39933 non-null  float64\n",
            " 18  application_type            39933 non-null  object \n",
            " 19  last_week_pay               39127 non-null  float64\n",
            " 20  total_current_balance       36703 non-null  float64\n",
            " 21  total_revolving_limit       36703 non-null  float64\n",
            " 22  default                     39933 non-null  int64  \n",
            "dtypes: float64(10), int64(4), object(9)\n",
            "memory usage: 7.0+ MB\n"
          ]
        }
      ]
    },
    {
      "cell_type": "code",
      "source": [
        "final_result[\"default\"] = final_result[\"default\"].astype(int)"
      ],
      "metadata": {
        "id": "_tb74NwoPiid"
      },
      "id": "_tb74NwoPiid",
      "execution_count": 243,
      "outputs": []
    },
    {
      "cell_type": "code",
      "source": [
        "final_result[\"default\"].value_counts()"
      ],
      "metadata": {
        "colab": {
          "base_uri": "https://localhost:8080/"
        },
        "id": "zRUHHhJEP4BX",
        "outputId": "21d4a757-252d-4645-e0c7-bfbfce65b4d9"
      },
      "id": "zRUHHhJEP4BX",
      "execution_count": 244,
      "outputs": [
        {
          "output_type": "execute_result",
          "data": {
            "text/plain": [
              "0    27122\n",
              "1    12811\n",
              "Name: default, dtype: int64"
            ]
          },
          "metadata": {},
          "execution_count": 244
        }
      ]
    },
    {
      "cell_type": "code",
      "source": [
        "final_result.to_csv(\"/content/drive/MyDrive/Colab Notebooks/Data/Hackathons/prediction_results.csv\", columns=[\"ID\" , \"default\"],index=False)"
      ],
      "metadata": {
        "id": "NG8f33F-9XvE"
      },
      "id": "NG8f33F-9XvE",
      "execution_count": 245,
      "outputs": []
    },
    {
      "cell_type": "code",
      "source": [
        ""
      ],
      "metadata": {
        "id": "E9bR1h5oCnUD"
      },
      "id": "E9bR1h5oCnUD",
      "execution_count": null,
      "outputs": []
    }
  ],
  "metadata": {
    "kernelspec": {
      "display_name": "Python 3",
      "language": "python",
      "name": "python3"
    },
    "language_info": {
      "codemirror_mode": {
        "name": "ipython",
        "version": 3
      },
      "file_extension": ".py",
      "mimetype": "text/x-python",
      "name": "python",
      "nbconvert_exporter": "python",
      "pygments_lexer": "ipython3",
      "version": "3.8.8"
    },
    "colab": {
      "name": "NBFC Loan Default_Test model.ipynb",
      "provenance": [],
      "machine_shape": "hm"
    },
    "accelerator": "GPU"
  },
  "nbformat": 4,
  "nbformat_minor": 5
}