{
 "cells": [
  {
   "cell_type": "code",
   "execution_count": 2,
   "id": "f180fd42",
   "metadata": {},
   "outputs": [
    {
     "data": {
      "application/javascript": [
       "\n",
       "            setTimeout(function() {\n",
       "                var nbb_cell_id = 2;\n",
       "                var nbb_unformatted_code = \"# To help with reading and manipulating data\\nimport pandas as pd\\nimport numpy as np\\n\\n# To help with data visualization\\n%matplotlib inline\\nimport matplotlib.pyplot as plt\\nimport seaborn as sns\\n\\n# To supress warnings\\nimport warnings\\n\\nwarnings.filterwarnings(\\\"ignore\\\")\\n\\n# To define maximum number of columns to be displayed in a dataframe\\npd.set_option(\\\"display.max_columns\\\", None)\\n\\n# To supress scientific notations for a dataframe\\npd.set_option(\\\"display.float_format\\\", lambda x: \\\"%.3f\\\" % x)\\n\\n# This will help in making the Python code more structured automatically (good coding practice)\\n%load_ext nb_black\";\n",
       "                var nbb_formatted_code = \"# To help with reading and manipulating data\\nimport pandas as pd\\nimport numpy as np\\n\\n# To help with data visualization\\n%matplotlib inline\\nimport matplotlib.pyplot as plt\\nimport seaborn as sns\\n\\n# To supress warnings\\nimport warnings\\n\\nwarnings.filterwarnings(\\\"ignore\\\")\\n\\n# To define maximum number of columns to be displayed in a dataframe\\npd.set_option(\\\"display.max_columns\\\", None)\\n\\n# To supress scientific notations for a dataframe\\npd.set_option(\\\"display.float_format\\\", lambda x: \\\"%.3f\\\" % x)\\n\\n# This will help in making the Python code more structured automatically (good coding practice)\\n%load_ext nb_black\";\n",
       "                var nbb_cells = Jupyter.notebook.get_cells();\n",
       "                for (var i = 0; i < nbb_cells.length; ++i) {\n",
       "                    if (nbb_cells[i].input_prompt_number == nbb_cell_id) {\n",
       "                        if (nbb_cells[i].get_text() == nbb_unformatted_code) {\n",
       "                             nbb_cells[i].set_text(nbb_formatted_code);\n",
       "                        }\n",
       "                        break;\n",
       "                    }\n",
       "                }\n",
       "            }, 500);\n",
       "            "
      ],
      "text/plain": [
       "<IPython.core.display.Javascript object>"
      ]
     },
     "metadata": {},
     "output_type": "display_data"
    }
   ],
   "source": [
    "# To help with reading and manipulating data\n",
    "import pandas as pd\n",
    "import numpy as np\n",
    "\n",
    "# To help with data visualization\n",
    "%matplotlib inline\n",
    "import matplotlib.pyplot as plt\n",
    "import seaborn as sns\n",
    "\n",
    "# To supress warnings\n",
    "import warnings\n",
    "\n",
    "warnings.filterwarnings(\"ignore\")\n",
    "\n",
    "# To define maximum number of columns to be displayed in a dataframe\n",
    "pd.set_option(\"display.max_columns\", None)\n",
    "\n",
    "# To supress scientific notations for a dataframe\n",
    "pd.set_option(\"display.float_format\", lambda x: \"%.3f\" % x)\n",
    "\n",
    "# This will help in making the Python code more structured automatically (good coding practice)\n",
    "%load_ext nb_black"
   ]
  },
  {
   "cell_type": "code",
   "execution_count": 3,
   "id": "fe8e4784",
   "metadata": {},
   "outputs": [
    {
     "data": {
      "application/javascript": [
       "\n",
       "            setTimeout(function() {\n",
       "                var nbb_cell_id = 3;\n",
       "                var nbb_unformatted_code = \"# loading the dataframe\\nData_train = pd.read_csv(\\\"Train_set.csv\\\")\";\n",
       "                var nbb_formatted_code = \"# loading the dataframe\\nData_train = pd.read_csv(\\\"Train_set.csv\\\")\";\n",
       "                var nbb_cells = Jupyter.notebook.get_cells();\n",
       "                for (var i = 0; i < nbb_cells.length; ++i) {\n",
       "                    if (nbb_cells[i].input_prompt_number == nbb_cell_id) {\n",
       "                        if (nbb_cells[i].get_text() == nbb_unformatted_code) {\n",
       "                             nbb_cells[i].set_text(nbb_formatted_code);\n",
       "                        }\n",
       "                        break;\n",
       "                    }\n",
       "                }\n",
       "            }, 500);\n",
       "            "
      ],
      "text/plain": [
       "<IPython.core.display.Javascript object>"
      ]
     },
     "metadata": {},
     "output_type": "display_data"
    }
   ],
   "source": [
    "# loading the dataframe\n",
    "Data_train = pd.read_csv(\"Train_set.csv\")"
   ]
  },
  {
   "cell_type": "code",
   "execution_count": 4,
   "id": "0a4a6985",
   "metadata": {},
   "outputs": [
    {
     "data": {
      "application/javascript": [
       "\n",
       "            setTimeout(function() {\n",
       "                var nbb_cell_id = 4;\n",
       "                var nbb_unformatted_code = \"# loading the dataframe\\nData_test = pd.read_csv(\\\"Test_set.csv\\\")\";\n",
       "                var nbb_formatted_code = \"# loading the dataframe\\nData_test = pd.read_csv(\\\"Test_set.csv\\\")\";\n",
       "                var nbb_cells = Jupyter.notebook.get_cells();\n",
       "                for (var i = 0; i < nbb_cells.length; ++i) {\n",
       "                    if (nbb_cells[i].input_prompt_number == nbb_cell_id) {\n",
       "                        if (nbb_cells[i].get_text() == nbb_unformatted_code) {\n",
       "                             nbb_cells[i].set_text(nbb_formatted_code);\n",
       "                        }\n",
       "                        break;\n",
       "                    }\n",
       "                }\n",
       "            }, 500);\n",
       "            "
      ],
      "text/plain": [
       "<IPython.core.display.Javascript object>"
      ]
     },
     "metadata": {},
     "output_type": "display_data"
    }
   ],
   "source": [
    "# loading the dataframe\n",
    "Data_test = pd.read_csv(\"Test_set.csv\")"
   ]
  },
  {
   "cell_type": "code",
   "execution_count": 5,
   "id": "54f07225",
   "metadata": {},
   "outputs": [
    {
     "data": {
      "application/javascript": [
       "\n",
       "            setTimeout(function() {\n",
       "                var nbb_cell_id = 5;\n",
       "                var nbb_unformatted_code = \"df_train = Data_train.copy()\\ndf_test = Data_test.copy()\";\n",
       "                var nbb_formatted_code = \"df_train = Data_train.copy()\\ndf_test = Data_test.copy()\";\n",
       "                var nbb_cells = Jupyter.notebook.get_cells();\n",
       "                for (var i = 0; i < nbb_cells.length; ++i) {\n",
       "                    if (nbb_cells[i].input_prompt_number == nbb_cell_id) {\n",
       "                        if (nbb_cells[i].get_text() == nbb_unformatted_code) {\n",
       "                             nbb_cells[i].set_text(nbb_formatted_code);\n",
       "                        }\n",
       "                        break;\n",
       "                    }\n",
       "                }\n",
       "            }, 500);\n",
       "            "
      ],
      "text/plain": [
       "<IPython.core.display.Javascript object>"
      ]
     },
     "metadata": {},
     "output_type": "display_data"
    }
   ],
   "source": [
    "df_train = Data_train.copy()\n",
    "df_test = Data_test.copy()"
   ]
  },
  {
   "cell_type": "code",
   "execution_count": 6,
   "id": "471a4481",
   "metadata": {},
   "outputs": [
    {
     "name": "stdout",
     "output_type": "stream",
     "text": [
      "There are 93174 rows and 23 columns.\n",
      "There are 39933 rows and 22 columns.\n"
     ]
    },
    {
     "data": {
      "application/javascript": [
       "\n",
       "            setTimeout(function() {\n",
       "                var nbb_cell_id = 6;\n",
       "                var nbb_unformatted_code = \"# checking shape of the dataframe\\nprint(f\\\"There are {df_train.shape[0]} rows and {df_train.shape[1]} columns.\\\")\\nprint(f\\\"There are {df_test.shape[0]} rows and {df_test.shape[1]} columns.\\\")\";\n",
       "                var nbb_formatted_code = \"# checking shape of the dataframe\\nprint(f\\\"There are {df_train.shape[0]} rows and {df_train.shape[1]} columns.\\\")\\nprint(f\\\"There are {df_test.shape[0]} rows and {df_test.shape[1]} columns.\\\")\";\n",
       "                var nbb_cells = Jupyter.notebook.get_cells();\n",
       "                for (var i = 0; i < nbb_cells.length; ++i) {\n",
       "                    if (nbb_cells[i].input_prompt_number == nbb_cell_id) {\n",
       "                        if (nbb_cells[i].get_text() == nbb_unformatted_code) {\n",
       "                             nbb_cells[i].set_text(nbb_formatted_code);\n",
       "                        }\n",
       "                        break;\n",
       "                    }\n",
       "                }\n",
       "            }, 500);\n",
       "            "
      ],
      "text/plain": [
       "<IPython.core.display.Javascript object>"
      ]
     },
     "metadata": {},
     "output_type": "display_data"
    }
   ],
   "source": [
    "# checking shape of the dataframe\n",
    "print(f\"There are {df_train.shape[0]} rows and {df_train.shape[1]} columns.\")\n",
    "print(f\"There are {df_test.shape[0]} rows and {df_test.shape[1]} columns.\")"
   ]
  },
  {
   "cell_type": "code",
   "execution_count": 7,
   "id": "2c9b253f",
   "metadata": {},
   "outputs": [
    {
     "data": {
      "application/javascript": [
       "\n",
       "            setTimeout(function() {\n",
       "                var nbb_cell_id = 7;\n",
       "                var nbb_unformatted_code = \"df_train.drop([\\\"default\\\"], axis=1, inplace=True)\";\n",
       "                var nbb_formatted_code = \"df_train.drop([\\\"default\\\"], axis=1, inplace=True)\";\n",
       "                var nbb_cells = Jupyter.notebook.get_cells();\n",
       "                for (var i = 0; i < nbb_cells.length; ++i) {\n",
       "                    if (nbb_cells[i].input_prompt_number == nbb_cell_id) {\n",
       "                        if (nbb_cells[i].get_text() == nbb_unformatted_code) {\n",
       "                             nbb_cells[i].set_text(nbb_formatted_code);\n",
       "                        }\n",
       "                        break;\n",
       "                    }\n",
       "                }\n",
       "            }, 500);\n",
       "            "
      ],
      "text/plain": [
       "<IPython.core.display.Javascript object>"
      ]
     },
     "metadata": {},
     "output_type": "display_data"
    }
   ],
   "source": [
    "df_train.drop([\"default\"], axis=1, inplace=True)"
   ]
  },
  {
   "cell_type": "code",
   "execution_count": 8,
   "id": "cc9a509e",
   "metadata": {},
   "outputs": [
    {
     "name": "stdout",
     "output_type": "stream",
     "text": [
      "There are 93174 rows and 22 columns.\n",
      "There are 39933 rows and 22 columns.\n"
     ]
    },
    {
     "data": {
      "application/javascript": [
       "\n",
       "            setTimeout(function() {\n",
       "                var nbb_cell_id = 8;\n",
       "                var nbb_unformatted_code = \"# checking shape of the dataframe\\nprint(f\\\"There are {df_train.shape[0]} rows and {df_train.shape[1]} columns.\\\")\\nprint(f\\\"There are {df_test.shape[0]} rows and {df_test.shape[1]} columns.\\\")\";\n",
       "                var nbb_formatted_code = \"# checking shape of the dataframe\\nprint(f\\\"There are {df_train.shape[0]} rows and {df_train.shape[1]} columns.\\\")\\nprint(f\\\"There are {df_test.shape[0]} rows and {df_test.shape[1]} columns.\\\")\";\n",
       "                var nbb_cells = Jupyter.notebook.get_cells();\n",
       "                for (var i = 0; i < nbb_cells.length; ++i) {\n",
       "                    if (nbb_cells[i].input_prompt_number == nbb_cell_id) {\n",
       "                        if (nbb_cells[i].get_text() == nbb_unformatted_code) {\n",
       "                             nbb_cells[i].set_text(nbb_formatted_code);\n",
       "                        }\n",
       "                        break;\n",
       "                    }\n",
       "                }\n",
       "            }, 500);\n",
       "            "
      ],
      "text/plain": [
       "<IPython.core.display.Javascript object>"
      ]
     },
     "metadata": {},
     "output_type": "display_data"
    }
   ],
   "source": [
    "# checking shape of the dataframe\n",
    "print(f\"There are {df_train.shape[0]} rows and {df_train.shape[1]} columns.\")\n",
    "print(f\"There are {df_test.shape[0]} rows and {df_test.shape[1]} columns.\")"
   ]
  },
  {
   "cell_type": "code",
   "execution_count": 9,
   "id": "4d67e34e",
   "metadata": {},
   "outputs": [
    {
     "data": {
      "application/javascript": [
       "\n",
       "            setTimeout(function() {\n",
       "                var nbb_cell_id = 9;\n",
       "                var nbb_unformatted_code = \"df =  df_train.append(df_test)\";\n",
       "                var nbb_formatted_code = \"df = df_train.append(df_test)\";\n",
       "                var nbb_cells = Jupyter.notebook.get_cells();\n",
       "                for (var i = 0; i < nbb_cells.length; ++i) {\n",
       "                    if (nbb_cells[i].input_prompt_number == nbb_cell_id) {\n",
       "                        if (nbb_cells[i].get_text() == nbb_unformatted_code) {\n",
       "                             nbb_cells[i].set_text(nbb_formatted_code);\n",
       "                        }\n",
       "                        break;\n",
       "                    }\n",
       "                }\n",
       "            }, 500);\n",
       "            "
      ],
      "text/plain": [
       "<IPython.core.display.Javascript object>"
      ]
     },
     "metadata": {},
     "output_type": "display_data"
    }
   ],
   "source": [
    "df = df_train.append(df_test)"
   ]
  },
  {
   "cell_type": "code",
   "execution_count": 10,
   "id": "12e518a4",
   "metadata": {},
   "outputs": [
    {
     "name": "stdout",
     "output_type": "stream",
     "text": [
      "There are 133107 rows and 22 columns.\n"
     ]
    },
    {
     "data": {
      "application/javascript": [
       "\n",
       "            setTimeout(function() {\n",
       "                var nbb_cell_id = 10;\n",
       "                var nbb_unformatted_code = \"print(f\\\"There are {df.shape[0]} rows and {df.shape[1]} columns.\\\")\";\n",
       "                var nbb_formatted_code = \"print(f\\\"There are {df.shape[0]} rows and {df.shape[1]} columns.\\\")\";\n",
       "                var nbb_cells = Jupyter.notebook.get_cells();\n",
       "                for (var i = 0; i < nbb_cells.length; ++i) {\n",
       "                    if (nbb_cells[i].input_prompt_number == nbb_cell_id) {\n",
       "                        if (nbb_cells[i].get_text() == nbb_unformatted_code) {\n",
       "                             nbb_cells[i].set_text(nbb_formatted_code);\n",
       "                        }\n",
       "                        break;\n",
       "                    }\n",
       "                }\n",
       "            }, 500);\n",
       "            "
      ],
      "text/plain": [
       "<IPython.core.display.Javascript object>"
      ]
     },
     "metadata": {},
     "output_type": "display_data"
    }
   ],
   "source": [
    "print(f\"There are {df.shape[0]} rows and {df.shape[1]} columns.\")"
   ]
  },
  {
   "cell_type": "code",
   "execution_count": 13,
   "id": "0bf47077",
   "metadata": {},
   "outputs": [
    {
     "data": {
      "text/plain": [
       "0"
      ]
     },
     "execution_count": 13,
     "metadata": {},
     "output_type": "execute_result"
    },
    {
     "data": {
      "application/javascript": [
       "\n",
       "            setTimeout(function() {\n",
       "                var nbb_cell_id = 13;\n",
       "                var nbb_unformatted_code = \"df1 = df.drop([\\\"ID\\\"], axis=1)\\ndf1.duplicated().sum()\";\n",
       "                var nbb_formatted_code = \"df1 = df.drop([\\\"ID\\\"], axis=1)\\ndf1.duplicated().sum()\";\n",
       "                var nbb_cells = Jupyter.notebook.get_cells();\n",
       "                for (var i = 0; i < nbb_cells.length; ++i) {\n",
       "                    if (nbb_cells[i].input_prompt_number == nbb_cell_id) {\n",
       "                        if (nbb_cells[i].get_text() == nbb_unformatted_code) {\n",
       "                             nbb_cells[i].set_text(nbb_formatted_code);\n",
       "                        }\n",
       "                        break;\n",
       "                    }\n",
       "                }\n",
       "            }, 500);\n",
       "            "
      ],
      "text/plain": [
       "<IPython.core.display.Javascript object>"
      ]
     },
     "metadata": {},
     "output_type": "display_data"
    }
   ],
   "source": [
    "df1 = df.drop([\"ID\"], axis=1)\n",
    "df1.duplicated().sum()"
   ]
  },
  {
   "cell_type": "code",
   "execution_count": 16,
   "id": "50fc5fc0",
   "metadata": {},
   "outputs": [
    {
     "data": {
      "text/plain": [
       "<bound method NDFrame.head of              ID  loan_amnt loan_term  interest_rate loan_grade loan_subgrade  \\\n",
       "0       4855329      12000   3 years         15.310          C            C2   \n",
       "1      66862420      12000   3 years          7.260          A            A4   \n",
       "2       3637416      15000   3 years         14.330          C            C1   \n",
       "3      53682249      12000   3 years          9.990          B            B3   \n",
       "4      53937165      20150   3 years         11.530          B            B5   \n",
       "...         ...        ...       ...            ...        ...           ...   \n",
       "39928  57779318       5000   3 years          8.180          B            B1   \n",
       "39929  59742362       1800   3 years         11.530          B            B5   \n",
       "39930  72657145      15200   3 years         13.440          C            C3   \n",
       "39931  15220189      14425   5 years         18.920          D            D4   \n",
       "39932  21810584      27000   5 years         20.200          E            E3   \n",
       "\n",
       "      job_experience home_ownership  annual_income income_verification_status  \\\n",
       "0           <5 Years       MORTGAGE      73400.000               Not Verified   \n",
       "1          10+ years       MORTGAGE     105000.000               Not Verified   \n",
       "2         6-10 years       MORTGAGE      50000.000                   Verified   \n",
       "3         6-10 years           RENT      37000.000            Source Verified   \n",
       "4           <5 Years           RENT      75000.000            Source Verified   \n",
       "...              ...            ...            ...                        ...   \n",
       "39928      10+ years       MORTGAGE      65000.000            Source Verified   \n",
       "39929     6-10 years       MORTGAGE      55000.000            Source Verified   \n",
       "39930      10+ years       MORTGAGE      78000.000               Not Verified   \n",
       "39931       <5 Years       MORTGAGE      38000.000               Not Verified   \n",
       "39932       <5 Years       MORTGAGE      62000.000            Source Verified   \n",
       "\n",
       "             loan_purpose state_code  debt_to_income  delinq_2yrs  \\\n",
       "0      debt_consolidation         CA          14.620        0.000   \n",
       "1             credit_card         VA          11.380        0.000   \n",
       "2      debt_consolidation         TX          28.150        0.000   \n",
       "3             credit_card         NJ          34.320        0.000   \n",
       "4      debt_consolidation         CA          26.740        1.000   \n",
       "...                   ...        ...             ...          ...   \n",
       "39928    home_improvement         MI          13.090        0.000   \n",
       "39929    home_improvement         AZ          25.440        0.000   \n",
       "39930         credit_card         TX          19.400        0.000   \n",
       "39931         credit_card         IN          17.400        0.000   \n",
       "39932  debt_consolidation         FL          24.120        1.000   \n",
       "\n",
       "       public_records  revolving_balance  total_acc  interest_receive  \\\n",
       "0               0.000              22156     30.000          2290.240   \n",
       "1               0.000               7592     14.000           202.680   \n",
       "2               1.000              17983     19.000          1166.240   \n",
       "3               0.000              12262     18.000           635.060   \n",
       "4               0.000               8251     11.000          1232.840   \n",
       "...               ...                ...        ...               ...   \n",
       "39928           5.000               6731     24.000           187.270   \n",
       "39929           1.000              11092     38.000            81.240   \n",
       "39930           0.000              19688     26.000             0.000   \n",
       "39931           1.000              10805     29.000          4268.800   \n",
       "39932           0.000              17795     17.000          7436.410   \n",
       "\n",
       "      application_type  last_week_pay  total_current_balance  \\\n",
       "0           INDIVIDUAL         87.000             128098.000   \n",
       "1           INDIVIDUAL         13.000             269396.000   \n",
       "2           INDIVIDUAL         30.000             220135.000   \n",
       "3           INDIVIDUAL         35.000              39436.000   \n",
       "4           INDIVIDUAL         31.000              52764.000   \n",
       "...                ...            ...                    ...   \n",
       "39928       INDIVIDUAL         26.000              14422.000   \n",
       "39929       INDIVIDUAL         26.000             243469.000   \n",
       "39930       INDIVIDUAL            NaN             145370.000   \n",
       "39931       INDIVIDUAL         96.000             106449.000   \n",
       "39932       INDIVIDUAL         78.000              55787.000   \n",
       "\n",
       "       total_revolving_limit  \n",
       "0                  25800.000  \n",
       "1                  23600.000  \n",
       "2                  34100.000  \n",
       "3                  21700.000  \n",
       "4                  12000.000  \n",
       "...                      ...  \n",
       "39928              26100.000  \n",
       "39929              29200.000  \n",
       "39930              45400.000  \n",
       "39931              19700.000  \n",
       "39932              33500.000  \n",
       "\n",
       "[39933 rows x 22 columns]>"
      ]
     },
     "execution_count": 16,
     "metadata": {},
     "output_type": "execute_result"
    },
    {
     "data": {
      "application/javascript": [
       "\n",
       "            setTimeout(function() {\n",
       "                var nbb_cell_id = 16;\n",
       "                var nbb_unformatted_code = \"Data_test.head\";\n",
       "                var nbb_formatted_code = \"Data_test.head\";\n",
       "                var nbb_cells = Jupyter.notebook.get_cells();\n",
       "                for (var i = 0; i < nbb_cells.length; ++i) {\n",
       "                    if (nbb_cells[i].input_prompt_number == nbb_cell_id) {\n",
       "                        if (nbb_cells[i].get_text() == nbb_unformatted_code) {\n",
       "                             nbb_cells[i].set_text(nbb_formatted_code);\n",
       "                        }\n",
       "                        break;\n",
       "                    }\n",
       "                }\n",
       "            }, 500);\n",
       "            "
      ],
      "text/plain": [
       "<IPython.core.display.Javascript object>"
      ]
     },
     "metadata": {},
     "output_type": "display_data"
    }
   ],
   "source": [
    "Data_test.head"
   ]
  },
  {
   "cell_type": "code",
   "execution_count": null,
   "id": "d30967eb",
   "metadata": {},
   "outputs": [],
   "source": []
  }
 ],
 "metadata": {
  "kernelspec": {
   "display_name": "Python 3",
   "language": "python",
   "name": "python3"
  },
  "language_info": {
   "codemirror_mode": {
    "name": "ipython",
    "version": 3
   },
   "file_extension": ".py",
   "mimetype": "text/x-python",
   "name": "python",
   "nbconvert_exporter": "python",
   "pygments_lexer": "ipython3",
   "version": "3.8.8"
  }
 },
 "nbformat": 4,
 "nbformat_minor": 5
}
