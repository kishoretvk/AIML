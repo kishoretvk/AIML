{
  "cells": [
    {
      "cell_type": "markdown",
      "metadata": {
        "id": "ed884cac"
      },
      "source": [
        "### Problem Statement\n",
        "\n",
        "**Goal:**\n",
        "The goal of the problem is to predict whether a client will default on the loan payment or not. For each ID in the test_data, you must predict the “default” level.\n",
        "\n",
        "\n",
        "**Datasets**\n",
        "The problem contains two datasets, Train Data, and Test Data. Model building is to be done on Train Dataset and the Model testing is to be done on Test Dataset. The output from the Test Data is to be submitted in the Hackathon platform\n",
        "\n",
        "\n",
        "**Metric to measure**\n",
        "Your score is the percentage of all correct predictions made by you. This is simply known as accuracy. The best accuracy is 1 whereas the worst is 0. It will be calculated as the total number of two correct predictions (True positive + True negative) divided by the total number of observations in the dataset.\n",
        "\n",
        "\n",
        "**Submission File Format:**\n",
        "You should submit a CSV file with exactly 39933 entries plus a header row.\n",
        "The file should have exactly two columns\n",
        "\n",
        "*         ID ( sorted in any order)\n",
        "\n",
        "*         default (contains 0 & 1, 1 represents default)\n",
        "\n",
        "\n",
        "**Train data set file**\n",
        "* Train_set.csv\n",
        "\n",
        "**Test data set file**\n",
        "* Test_set.csv\n",
        "    \n",
        "**Sample submission file**\n",
        "* Sample_Submission_(2).csv\n",
        "\n",
        "**Additional files**\n",
        "* Data_Dictionary_(1).csv\n"
      ],
      "id": "ed884cac"
    },
    {
      "cell_type": "markdown",
      "source": [
        "**Data Dictionary**\n",
        "\n",
        "* **ID:** unique ID assigned to each applicant\n",
        "* **loan_amnt:** loan amount ($) applied each applicant\n",
        "* **loan_term:** Loan duration in years\n",
        "* **interest_rate:** Applicable interest rate on Loan in %\n",
        "* **loan_grade:** Loan Grade Assigned by the bank\n",
        "* **loan_subgrade:** Loan SubGrade Assigned by the bank\n",
        "* **job_experience:** Number of years job experience \n",
        "* **home_ownership:** Status of House Ownership\n",
        "* **annual_income:** Annual income of the applicant\n",
        "* **income_verification_status:** Status of Income verification by the bank\n",
        "* **loan_purpose:** Purpose of loan\n",
        "* **state_code:** State code of the applicant's residence \n",
        "* **debt_to_income:** Ratio to total debt to income (total debt might include other loan aswell)\n",
        "* **delinq_2yrs:** number of 30+ days delinquency in past 2 years\n",
        "* **public_records:** number of legal cases against the applicant\n",
        "* **revolving_balance:** total credit revolving balance\n",
        "* **total_acc:** total number of credit lines available in members credit line\n",
        "* **interest_receive:** total interest received by the bank on the loan\n",
        "* **application_type:** Whether the applicant has applied the loan by creating individuall or joint account\n",
        "* **last_week_pay:** How many months have the applicant paid the loan EMI already\n",
        "* **total_current_balance:** total current balance of all the accounts of applicant\n",
        "* **total_revolving_limit:** total revolving credit limit\n",
        "* **default:** \"status of loan amount, 1 = Defaulter, 0 = Non Defaulters\""
      ],
      "metadata": {
        "id": "BumUKWzd62ST"
      },
      "id": "BumUKWzd62ST"
    },
    {
      "cell_type": "code",
      "execution_count": 1,
      "metadata": {
        "colab": {
          "base_uri": "https://localhost:8080/"
        },
        "id": "BqBUp1RM6eGd",
        "outputId": "2c9e6b9a-3c77-4eb1-e0a6-231f85d657c8"
      },
      "outputs": [
        {
          "output_type": "stream",
          "name": "stdout",
          "text": [
            "Mounted at /content/drive\n"
          ]
        }
      ],
      "source": [
        "from google.colab import drive\n",
        "drive.mount('/content/drive')"
      ],
      "id": "BqBUp1RM6eGd"
    },
    {
      "cell_type": "markdown",
      "metadata": {
        "id": "k12UScc581uF"
      },
      "source": [
        "## **Introductory Steps**"
      ],
      "id": "k12UScc581uF"
    },
    {
      "cell_type": "markdown",
      "metadata": {
        "id": "vEUKOiz5-Qld"
      },
      "source": [
        "### Importing Libraries"
      ],
      "id": "vEUKOiz5-Qld"
    },
    {
      "cell_type": "code",
      "execution_count": 2,
      "metadata": {
        "id": "f5abb09d"
      },
      "outputs": [],
      "source": [
        "import pandas as pd\n",
        "import numpy as np\n",
        "from sklearn.model_selection import train_test_split\n",
        "from sklearn.preprocessing import LabelEncoder, OneHotEncoder\n",
        "from sklearn.preprocessing import StandardScaler\n",
        "from sklearn import model_selection\n",
        "from sklearn.compose import ColumnTransformer\n",
        "import matplotlib.pyplot as plt\n",
        "import seaborn as sns\n",
        "from sklearn.impute import SimpleImputer\n",
        "from sklearn.impute import KNNImputer\n",
        "import warnings\n",
        "from sklearn.metrics import confusion_matrix\n",
        "from sklearn.pipeline import Pipeline\n",
        "from sklearn.model_selection import GridSearchCV\n",
        "from sklearn.model_selection import RandomizedSearchCV\n",
        "import tensorflow as tf\n",
        "from tensorflow.keras.models import Sequential\n",
        "from tensorflow.keras.layers import Dense\n",
        "from tensorflow.keras.layers import Dense, Input, Dropout,BatchNormalization\n",
        "from tensorflow.keras.wrappers.scikit_learn import KerasClassifier\n",
        "import random\n",
        "from tensorflow.keras import backend\n",
        "random.seed(1)\n",
        "np.random.seed(1) \n",
        "tf.random.set_seed(1)\n",
        "warnings.filterwarnings(\"ignore\")"
      ],
      "id": "f5abb09d"
    },
    {
      "cell_type": "markdown",
      "metadata": {
        "id": "ZAEqtrQu-VzO"
      },
      "source": [
        "### Loading the Data"
      ],
      "id": "ZAEqtrQu-VzO"
    },
    {
      "cell_type": "code",
      "execution_count": 3,
      "metadata": {
        "id": "f800cd8d"
      },
      "outputs": [],
      "source": [
        "Data = pd.read_csv('/content/drive/MyDrive/Colab Notebooks/Data/Hackathons/Train_set.csv')"
      ],
      "id": "f800cd8d"
    },
    {
      "cell_type": "code",
      "execution_count": 4,
      "metadata": {
        "colab": {
          "base_uri": "https://localhost:8080/"
        },
        "id": "BXZyb1vh-c2a",
        "outputId": "9d24c0ff-51de-43ea-8557-9bee2a35ac9a"
      },
      "outputs": [
        {
          "output_type": "execute_result",
          "data": {
            "text/plain": [
              "(93174, 23)"
            ]
          },
          "metadata": {},
          "execution_count": 4
        }
      ],
      "source": [
        "# Checking the number of rows and columns in the data\n",
        "Data.shape"
      ],
      "id": "BXZyb1vh-c2a"
    },
    {
      "cell_type": "markdown",
      "metadata": {
        "id": "O9rtKHxB-fy1"
      },
      "source": [
        "* The dataset has 93174 rows and 23 columns"
      ],
      "id": "O9rtKHxB-fy1"
    },
    {
      "cell_type": "code",
      "source": [
        "Data_test = pd.read_csv('/content/drive/MyDrive/Colab Notebooks/Data/Hackathons/Test_set.csv')"
      ],
      "metadata": {
        "id": "LazVsri9zaH-"
      },
      "execution_count": 5,
      "outputs": [],
      "id": "LazVsri9zaH-"
    },
    {
      "cell_type": "code",
      "source": [
        "Data_test.shape"
      ],
      "metadata": {
        "colab": {
          "base_uri": "https://localhost:8080/"
        },
        "id": "_oiulByF0OD2",
        "outputId": "658d3b8e-6311-4ac8-f0b8-f2ab39a3b638"
      },
      "id": "_oiulByF0OD2",
      "execution_count": 6,
      "outputs": [
        {
          "output_type": "execute_result",
          "data": {
            "text/plain": [
              "(39933, 22)"
            ]
          },
          "metadata": {},
          "execution_count": 6
        }
      ]
    },
    {
      "cell_type": "markdown",
      "source": [
        "## **Data Preprocessing**"
      ],
      "metadata": {
        "id": "V0MnBjHP2KTI"
      },
      "id": "V0MnBjHP2KTI"
    },
    {
      "cell_type": "markdown",
      "metadata": {
        "id": "72ZJ-3-yPgA9"
      },
      "source": [
        "### Train data Load"
      ],
      "id": "72ZJ-3-yPgA9"
    },
    {
      "cell_type": "code",
      "source": [
        "# copy dataframe to another one for modifying \n",
        "df = pd. DataFrame(Data)\n",
        "df.info()"
      ],
      "metadata": {
        "id": "a0s1TLqWg3KA",
        "colab": {
          "base_uri": "https://localhost:8080/"
        },
        "outputId": "88872b14-d327-497f-cdd4-b9a76b117834"
      },
      "execution_count": 281,
      "outputs": [
        {
          "output_type": "stream",
          "name": "stdout",
          "text": [
            "<class 'pandas.core.frame.DataFrame'>\n",
            "RangeIndex: 93174 entries, 0 to 93173\n",
            "Data columns (total 23 columns):\n",
            " #   Column                      Non-Null Count  Dtype  \n",
            "---  ------                      --------------  -----  \n",
            " 0   ID                          93174 non-null  int64  \n",
            " 1   loan_amnt                   93174 non-null  int64  \n",
            " 2   loan_term                   93174 non-null  object \n",
            " 3   interest_rate               93174 non-null  float64\n",
            " 4   loan_grade                  93174 non-null  object \n",
            " 5   loan_subgrade               93174 non-null  object \n",
            " 6   job_experience              88472 non-null  object \n",
            " 7   home_ownership              93174 non-null  object \n",
            " 8   annual_income               93173 non-null  float64\n",
            " 9   income_verification_status  93174 non-null  object \n",
            " 10  loan_purpose                93174 non-null  object \n",
            " 11  state_code                  93174 non-null  object \n",
            " 12  debt_to_income              93174 non-null  float64\n",
            " 13  delinq_2yrs                 93172 non-null  float64\n",
            " 14  public_records              93172 non-null  float64\n",
            " 15  revolving_balance           93174 non-null  int64  \n",
            " 16  total_acc                   93172 non-null  float64\n",
            " 17  interest_receive            93174 non-null  float64\n",
            " 18  application_type            93174 non-null  object \n",
            " 19  last_week_pay               91250 non-null  float64\n",
            " 20  total_current_balance       85788 non-null  float64\n",
            " 21  total_revolving_limit       85788 non-null  float64\n",
            " 22  default                     93174 non-null  int64  \n",
            "dtypes: float64(10), int64(4), object(9)\n",
            "memory usage: 16.3+ MB\n"
          ]
        }
      ],
      "id": "a0s1TLqWg3KA"
    },
    {
      "cell_type": "code",
      "execution_count": 282,
      "metadata": {
        "id": "GUPZnaH27m94"
      },
      "outputs": [],
      "source": [
        "# ID columns consists of uniques ID for customers and hence will not add value to the modeling\n",
        "df.drop(['ID'],axis=1,inplace=True)"
      ],
      "id": "GUPZnaH27m94"
    },
    {
      "cell_type": "code",
      "source": [
        "df.isna().sum()"
      ],
      "metadata": {
        "colab": {
          "base_uri": "https://localhost:8080/"
        },
        "id": "uUBGA63Q0mlS",
        "outputId": "53c8c332-3093-4101-f76c-816781f79aef"
      },
      "id": "uUBGA63Q0mlS",
      "execution_count": 283,
      "outputs": [
        {
          "output_type": "execute_result",
          "data": {
            "text/plain": [
              "loan_amnt                        0\n",
              "loan_term                        0\n",
              "interest_rate                    0\n",
              "loan_grade                       0\n",
              "loan_subgrade                    0\n",
              "job_experience                4702\n",
              "home_ownership                   0\n",
              "annual_income                    1\n",
              "income_verification_status       0\n",
              "loan_purpose                     0\n",
              "state_code                       0\n",
              "debt_to_income                   0\n",
              "delinq_2yrs                      2\n",
              "public_records                   2\n",
              "revolving_balance                0\n",
              "total_acc                        2\n",
              "interest_receive                 0\n",
              "application_type                 0\n",
              "last_week_pay                 1924\n",
              "total_current_balance         7386\n",
              "total_revolving_limit         7386\n",
              "default                          0\n",
              "dtype: int64"
            ]
          },
          "metadata": {},
          "execution_count": 283
        }
      ]
    },
    {
      "cell_type": "markdown",
      "source": [
        "#### Test Data Load"
      ],
      "metadata": {
        "id": "DeN6PuTlchmn"
      },
      "id": "DeN6PuTlchmn"
    },
    {
      "cell_type": "code",
      "source": [
        "df_test = Data_test.copy()"
      ],
      "metadata": {
        "id": "lc1mfBW93WpR"
      },
      "execution_count": 284,
      "outputs": [],
      "id": "lc1mfBW93WpR"
    },
    {
      "cell_type": "code",
      "source": [
        "df_test.info()\n",
        "# ID columns consists of uniques ID for customers and hence will not add value to the modeling\n",
        "df_test.drop(['ID'],axis=1,inplace=True)\n"
      ],
      "metadata": {
        "id": "kUkhRuAl3KsL",
        "colab": {
          "base_uri": "https://localhost:8080/"
        },
        "outputId": "47ae6b7a-6364-4d39-8ceb-f89ba386d98d"
      },
      "execution_count": 285,
      "outputs": [
        {
          "output_type": "stream",
          "name": "stdout",
          "text": [
            "<class 'pandas.core.frame.DataFrame'>\n",
            "RangeIndex: 39933 entries, 0 to 39932\n",
            "Data columns (total 22 columns):\n",
            " #   Column                      Non-Null Count  Dtype  \n",
            "---  ------                      --------------  -----  \n",
            " 0   ID                          39933 non-null  int64  \n",
            " 1   loan_amnt                   39933 non-null  int64  \n",
            " 2   loan_term                   39933 non-null  object \n",
            " 3   interest_rate               39933 non-null  float64\n",
            " 4   loan_grade                  39933 non-null  object \n",
            " 5   loan_subgrade               39933 non-null  object \n",
            " 6   job_experience              37844 non-null  object \n",
            " 7   home_ownership              39933 non-null  object \n",
            " 8   annual_income               39933 non-null  float64\n",
            " 9   income_verification_status  39933 non-null  object \n",
            " 10  loan_purpose                39933 non-null  object \n",
            " 11  state_code                  39933 non-null  object \n",
            " 12  debt_to_income              39933 non-null  float64\n",
            " 13  delinq_2yrs                 39932 non-null  float64\n",
            " 14  public_records              39932 non-null  float64\n",
            " 15  revolving_balance           39933 non-null  int64  \n",
            " 16  total_acc                   39932 non-null  float64\n",
            " 17  interest_receive            39933 non-null  float64\n",
            " 18  application_type            39933 non-null  object \n",
            " 19  last_week_pay               39127 non-null  float64\n",
            " 20  total_current_balance       36703 non-null  float64\n",
            " 21  total_revolving_limit       36703 non-null  float64\n",
            "dtypes: float64(10), int64(3), object(9)\n",
            "memory usage: 6.7+ MB\n"
          ]
        }
      ],
      "id": "kUkhRuAl3KsL"
    },
    {
      "cell_type": "code",
      "source": [
        "df_test.isna().sum()"
      ],
      "metadata": {
        "id": "iUYJ0kyO4AVo",
        "colab": {
          "base_uri": "https://localhost:8080/"
        },
        "outputId": "2c9302c3-340a-4697-d058-3b009911692e"
      },
      "execution_count": 286,
      "outputs": [
        {
          "output_type": "execute_result",
          "data": {
            "text/plain": [
              "loan_amnt                        0\n",
              "loan_term                        0\n",
              "interest_rate                    0\n",
              "loan_grade                       0\n",
              "loan_subgrade                    0\n",
              "job_experience                2089\n",
              "home_ownership                   0\n",
              "annual_income                    0\n",
              "income_verification_status       0\n",
              "loan_purpose                     0\n",
              "state_code                       0\n",
              "debt_to_income                   0\n",
              "delinq_2yrs                      1\n",
              "public_records                   1\n",
              "revolving_balance                0\n",
              "total_acc                        1\n",
              "interest_receive                 0\n",
              "application_type                 0\n",
              "last_week_pay                  806\n",
              "total_current_balance         3230\n",
              "total_revolving_limit         3230\n",
              "dtype: int64"
            ]
          },
          "metadata": {},
          "execution_count": 286
        }
      ],
      "id": "iUYJ0kyO4AVo"
    },
    {
      "cell_type": "markdown",
      "source": [
        "#### Impute Data"
      ],
      "metadata": {
        "id": "x03d7tZ7c_EB"
      },
      "id": "x03d7tZ7c_EB"
    },
    {
      "cell_type": "code",
      "source": [
        "# spply impute function to convert  cateogry into numeric \n",
        "loan_term = {\"3 years\": 3, \"5 years\": 5}\n",
        "loan_grade = {\"A\": 0, \"B\": 1,\"C\": 2,\"D\": 3,\"E\": 4,\"F\": 5,\"G\": 6}\n",
        "job_experience = {\"<5 Years\": 0, \"10+ years\": 1,\"6-10 years\": 2}\n",
        "home_ownership = {\"MORTGAGE\": 0, \"RENT\": 1, \"OWN\" : 2, \"OTHER\": 3, \"NONE\" : 4}\n",
        "income_verification_status = {\"Source Verified\": 0, \"Verified\": 1,\"Not Verified\" : 2}\n",
        "loan_purpose = {\"debt_consolidation\": 0, \"credit_card\": 1, \"other\" : 2, \"home_improvement\": 3}\n",
        "application_type = {\"INDIVIDUAL\": 0, \"JOINT\": 1}\n",
        "loan_subgrade = {\"A1\": 0, \"A2\": 1, \"A3\" : 2, \"A4\": 3, \"A5\" : 4,\"A6\": 5,\"B1\": 6, \"B2\":7, \"B3\":8, \"B4\":9,\"B5\":10,\"B6\":11, \"C1\": 12 , \"C2\": 13 ,\"C3\": 14 , \"C4\": 15,\"C5\": 16 , \"C6\": 17, \"D1\" : 18, \"D2\" : 19, \"D3\" : 20, \"D4\" : 21 , \"D5\" : 22 , \"D6\" : 27, \"E1\" : 28,  \"E2\" : 29,\"E3\" : 30,  \"E4\" : 31, \"E5\" : 32,  \"E6\" : 33, \"F1\": 34, \"F2\": 35,\"F3\": 35, \"F4\": 36,\"F5\": 37, \"F6\": 38,\"G1\" : 39, \"G2\" : 40, \"G4\" : 42, \"G3\": 41, \"G5\" : 44, \"G6\" :45 }\n",
        "state_code = {\"CA\": 0,\"NY\": 1, \"TX\": 2, \"FL\": 3, \"IL\": 4, \"NJ\": 5, \"PA\": 6,\"OH\":7,\"GA\": 8, \"VA\": 9, \"NC\": 10, \"MI\": 11, \"MD\": 12 , \"MA\": 13, \"AZ\":  14, \"WA\": 15, \"CO\": 16,\"MN\": 17, \"MO\": 18, \"IN\": 19, \"CT\": 20, \"TN\": 21, \"NV\": 22, \"WI\": 23, \"AL\": 24,\"LA\": 25, \"SC\": 26, \"OR\": 27, \"KY\":  28, \"OK\": 29, \"KS\": 30, \"AR\": 31,\"UT\": 32,\"NM\": 33,\"WV\": 34,\"HI\": 35,\"NH\": 36,\"RI\": 37,\"MS\": 38,\"DC\": 39,\"MT\": 40,\"DE\": 41,\"AK\": 42,\"WY\": 44,\"SD\":  45,\"VT\":  46,\"NE\":  47,\"ME\":  48,\"ND\":  49,\"ID\": 50}\n"
      ],
      "metadata": {
        "id": "RU3iSdUEhEB3"
      },
      "execution_count": 287,
      "outputs": [],
      "id": "RU3iSdUEhEB3"
    },
    {
      "cell_type": "code",
      "source": [
        "df[\"loan_term\"] = df[\"loan_term\"].map(loan_term)\n",
        "df[\"loan_grade\"] = df[\"loan_grade\"].map(loan_grade)\n",
        "df[\"job_experience\"] = df[\"job_experience\"].map(job_experience)\n",
        "df[\"home_ownership\"] = df[\"home_ownership\"].map(home_ownership)\n",
        "df[\"income_verification_status\"] = df[\"income_verification_status\"].map(income_verification_status)\n",
        "df[\"loan_purpose\"] = df[\"loan_purpose\"].map(loan_purpose)\n",
        "df[\"application_type\"] = df[\"application_type\"].map(application_type)\n",
        "df[\"loan_subgrade\"] = df[\"loan_subgrade\"].map(loan_subgrade)\n",
        "df[\"state_code\"] = df[\"state_code\"].map(state_code)\n",
        "\n",
        "df.info()"
      ],
      "metadata": {
        "id": "uwkb_7r7Dk6t",
        "colab": {
          "base_uri": "https://localhost:8080/"
        },
        "outputId": "eac32f78-a9b9-49f8-b81a-157fd9162463"
      },
      "execution_count": 288,
      "outputs": [
        {
          "output_type": "stream",
          "name": "stdout",
          "text": [
            "<class 'pandas.core.frame.DataFrame'>\n",
            "RangeIndex: 93174 entries, 0 to 93173\n",
            "Data columns (total 22 columns):\n",
            " #   Column                      Non-Null Count  Dtype  \n",
            "---  ------                      --------------  -----  \n",
            " 0   loan_amnt                   93174 non-null  int64  \n",
            " 1   loan_term                   93174 non-null  int64  \n",
            " 2   interest_rate               93174 non-null  float64\n",
            " 3   loan_grade                  93174 non-null  int64  \n",
            " 4   loan_subgrade               93174 non-null  int64  \n",
            " 5   job_experience              88472 non-null  float64\n",
            " 6   home_ownership              93174 non-null  int64  \n",
            " 7   annual_income               93173 non-null  float64\n",
            " 8   income_verification_status  93174 non-null  int64  \n",
            " 9   loan_purpose                93174 non-null  int64  \n",
            " 10  state_code                  93174 non-null  int64  \n",
            " 11  debt_to_income              93174 non-null  float64\n",
            " 12  delinq_2yrs                 93172 non-null  float64\n",
            " 13  public_records              93172 non-null  float64\n",
            " 14  revolving_balance           93174 non-null  int64  \n",
            " 15  total_acc                   93172 non-null  float64\n",
            " 16  interest_receive            93174 non-null  float64\n",
            " 17  application_type            93174 non-null  int64  \n",
            " 18  last_week_pay               91250 non-null  float64\n",
            " 19  total_current_balance       85788 non-null  float64\n",
            " 20  total_revolving_limit       85788 non-null  float64\n",
            " 21  default                     93174 non-null  int64  \n",
            "dtypes: float64(11), int64(11)\n",
            "memory usage: 15.6 MB\n"
          ]
        }
      ],
      "id": "uwkb_7r7Dk6t"
    },
    {
      "cell_type": "code",
      "source": [
        "df_test[\"loan_term\"] = df_test[\"loan_term\"].map(loan_term)\n",
        "df_test[\"loan_grade\"] = df_test[\"loan_grade\"].map(loan_grade)\n",
        "df_test[\"job_experience\"] = df_test[\"job_experience\"].map(job_experience)\n",
        "df_test[\"home_ownership\"] = df_test[\"home_ownership\"].map(home_ownership)\n",
        "df_test[\"income_verification_status\"] = df_test[\"income_verification_status\"].map(income_verification_status)\n",
        "df_test[\"loan_purpose\"] = df_test[\"loan_purpose\"].map(loan_purpose)\n",
        "df_test[\"application_type\"] = df_test[\"application_type\"].map(application_type)\n",
        "df_test[\"loan_subgrade\"] = df_test[\"loan_subgrade\"].map(loan_subgrade)\n",
        "df_test[\"state_code\"] = df_test[\"state_code\"].map(state_code)"
      ],
      "metadata": {
        "id": "WqPp914v4HdG"
      },
      "execution_count": 289,
      "outputs": [],
      "id": "WqPp914v4HdG"
    },
    {
      "cell_type": "code",
      "source": [
        "# define imputer\n",
        "imputer = KNNImputer(n_neighbors=5, weights='uniform', metric='nan_euclidean')"
      ],
      "metadata": {
        "id": "W0GwyGEWhNCJ"
      },
      "execution_count": 290,
      "outputs": [],
      "id": "W0GwyGEWhNCJ"
    },
    {
      "cell_type": "code",
      "source": [
        "## Separating Independent and Dependent Columns\n",
        "X = df.drop(['default'],axis=1)\n",
        "Y = df[['default']]"
      ],
      "metadata": {
        "id": "13Z6iR0ZiMIQ"
      },
      "execution_count": 291,
      "outputs": [],
      "id": "13Z6iR0ZiMIQ"
    },
    {
      "cell_type": "code",
      "source": [
        "reqd_col_for_impute = [\"job_experience\" , \"annual_income\", \"delinq_2yrs\", \"public_records\" , \"total_acc\" , \"last_week_pay\", \"total_current_balance\", \"total_revolving_limit\"]"
      ],
      "metadata": {
        "id": "Qvga6gLyHQzE"
      },
      "execution_count": 292,
      "outputs": [],
      "id": "Qvga6gLyHQzE"
    },
    {
      "cell_type": "code",
      "source": [
        "# Fit and transform the train data\n",
        "X[reqd_col_for_impute] = imputer.fit_transform(X[reqd_col_for_impute])\n",
        "\n",
        "# Transform the test data\n",
        "df_test[reqd_col_for_impute] = imputer.transform(df_test[reqd_col_for_impute])"
      ],
      "metadata": {
        "id": "8sx0XB9rF5Qp"
      },
      "execution_count": 293,
      "outputs": [],
      "id": "8sx0XB9rF5Qp"
    },
    {
      "cell_type": "code",
      "source": [
        "# Checking that no column has missing values in train, validation or test sets\n",
        "print(X.isna().sum())\n",
        "print(\"-\" * 30)\n",
        "print(df_test.isna().sum())"
      ],
      "metadata": {
        "id": "YJgiENYlHXfs",
        "colab": {
          "base_uri": "https://localhost:8080/"
        },
        "outputId": "6ded1e2f-d032-467f-c4df-633219a9b878"
      },
      "execution_count": 294,
      "outputs": [
        {
          "output_type": "stream",
          "name": "stdout",
          "text": [
            "loan_amnt                     0\n",
            "loan_term                     0\n",
            "interest_rate                 0\n",
            "loan_grade                    0\n",
            "loan_subgrade                 0\n",
            "job_experience                0\n",
            "home_ownership                0\n",
            "annual_income                 0\n",
            "income_verification_status    0\n",
            "loan_purpose                  0\n",
            "state_code                    0\n",
            "debt_to_income                0\n",
            "delinq_2yrs                   0\n",
            "public_records                0\n",
            "revolving_balance             0\n",
            "total_acc                     0\n",
            "interest_receive              0\n",
            "application_type              0\n",
            "last_week_pay                 0\n",
            "total_current_balance         0\n",
            "total_revolving_limit         0\n",
            "dtype: int64\n",
            "------------------------------\n",
            "loan_amnt                     0\n",
            "loan_term                     0\n",
            "interest_rate                 0\n",
            "loan_grade                    0\n",
            "loan_subgrade                 0\n",
            "job_experience                0\n",
            "home_ownership                0\n",
            "annual_income                 0\n",
            "income_verification_status    0\n",
            "loan_purpose                  0\n",
            "state_code                    0\n",
            "debt_to_income                0\n",
            "delinq_2yrs                   0\n",
            "public_records                0\n",
            "revolving_balance             0\n",
            "total_acc                     0\n",
            "interest_receive              0\n",
            "application_type              0\n",
            "last_week_pay                 0\n",
            "total_current_balance         0\n",
            "total_revolving_limit         0\n",
            "dtype: int64\n"
          ]
        }
      ],
      "id": "YJgiENYlHXfs"
    },
    {
      "cell_type": "code",
      "source": [
        "## Function to inverse the encoding\n",
        "def inverse_mapping(x, y):\n",
        "    inv_dict = {v: k for k, v in x.items()}\n",
        "    X[y] = np.round(X[y]).map(inv_dict).astype(\"category\")\n",
        "    df_test[y] = np.round(df_test[y]).map(inv_dict).astype(\"category\")"
      ],
      "metadata": {
        "id": "nWGygHqkHy2i"
      },
      "execution_count": 295,
      "outputs": [],
      "id": "nWGygHqkHy2i"
    },
    {
      "cell_type": "code",
      "source": [
        "inverse_mapping(loan_term, \"loan_term\")\n",
        "inverse_mapping(loan_grade, \"loan_grade\")\n",
        "inverse_mapping(loan_subgrade, \"loan_subgrade\")\n",
        "inverse_mapping(job_experience, \"job_experience\")\n",
        "inverse_mapping(home_ownership, \"home_ownership\")\n",
        "inverse_mapping(income_verification_status, \"income_verification_status\")\n",
        "inverse_mapping(loan_purpose, \"loan_purpose\")\n",
        "inverse_mapping(state_code, \"state_code\")\n",
        "inverse_mapping(application_type, \"application_type\")"
      ],
      "metadata": {
        "id": "f3upZ1ehH7I9"
      },
      "execution_count": 296,
      "outputs": [],
      "id": "f3upZ1ehH7I9"
    },
    {
      "cell_type": "markdown",
      "metadata": {
        "id": "CClwkaqWD3R1"
      },
      "source": [
        "#### Adding dummy variables for category columns and Creating training and test data sets"
      ],
      "id": "CClwkaqWD3R1"
    },
    {
      "cell_type": "code",
      "execution_count": 23,
      "metadata": {
        "id": "3oCP42rskyhe"
      },
      "outputs": [],
      "source": [
        "oneHotCols = [\n",
        "    \"loan_term\",\n",
        "    \"loan_grade\",\n",
        "    \"loan_subgrade\",\n",
        "    \"job_experience\",\n",
        "    \"home_ownership\",\n",
        "    \"income_verification_status\",\n",
        "    \"loan_purpose\",\n",
        "    \"state_code\",\n",
        "    \"application_type\"\n",
        "]\n",
        "X = pd.get_dummies(data=X, columns=oneHotCols, drop_first=True)\n",
        "df_test = pd.get_dummies(data=df_test, columns=oneHotCols, drop_first=True)"
      ],
      "id": "3oCP42rskyhe"
    },
    {
      "cell_type": "code",
      "execution_count": 297,
      "metadata": {
        "id": "9f929b75"
      },
      "outputs": [],
      "source": [
        "# Splitting the dataset into the Training and Testing set.\n",
        "\n",
        "X_train, X_val, y_train, y_val = train_test_split(X,Y, test_size = 0.2, random_state = 35,stratify = Y)"
      ],
      "id": "9f929b75"
    },
    {
      "cell_type": "code",
      "source": [
        "from sklearn.preprocessing import LabelEncoder\n",
        "\n",
        "labelencoder_lt = LabelEncoder()\n",
        "X_train['loan_term']= labelencoder_lt.fit_transform(X_train['loan_term'])\n",
        "X_val['loan_term']= labelencoder_lt.transform(X_val['loan_term'])\n",
        "df_test['loan_term']= labelencoder_lt.transform(df_test['loan_term'])\n",
        "\n",
        "labelencoder_lg = LabelEncoder()\n",
        "X_train['loan_grade']= labelencoder_lg.fit_transform(X_train['loan_grade'])\n",
        "X_val['loan_grade']= labelencoder_lg.transform(X_val['loan_grade'])\n",
        "df_test['loan_grade']= labelencoder_lg.transform(df_test['loan_grade'])\n",
        "\n",
        "labelencoder_ls = LabelEncoder()\n",
        "X_train['loan_subgrade']= labelencoder_ls.fit_transform(X_train['loan_subgrade'])\n",
        "X_val['loan_subgrade']= labelencoder_ls.transform(X_val['loan_subgrade'])\n",
        "df_test['loan_subgrade']= labelencoder_ls.transform(df_test['loan_subgrade'])\n",
        "\n",
        "labelencoder_je = LabelEncoder()\n",
        "X_train['job_experience']= labelencoder_je.fit_transform(X_train['job_experience'])\n",
        "X_val['job_experience']= labelencoder_je.transform(X_val['job_experience'])\n",
        "df_test['job_experience']= labelencoder_je.transform(df_test['job_experience'])\n",
        "\n",
        "labelencoder_ho = LabelEncoder()\n",
        "X_train['home_ownership']= labelencoder_ho.fit_transform(X_train['home_ownership'])\n",
        "X_val['home_ownership']= labelencoder_ho.transform(X_val['home_ownership'])\n",
        "df_test['home_ownership']= labelencoder_ho.transform(df_test['home_ownership'])\n",
        "\n",
        "labelencoder_iv = LabelEncoder()\n",
        "X_train['income_verification_status']= labelencoder_iv.fit_transform(X_train['income_verification_status'])\n",
        "X_val['income_verification_status']= labelencoder_iv.transform(X_val['income_verification_status'])\n",
        "df_test['income_verification_status']= labelencoder_iv.transform(df_test['income_verification_status'])\n",
        "\n",
        "labelencoder_lp = LabelEncoder()\n",
        "X_train['loan_purpose']= labelencoder_lp.fit_transform(X_train['loan_purpose'])\n",
        "X_val['loan_purpose']= labelencoder_lp.transform(X_val['loan_purpose'])\n",
        "df_test['loan_purpose']= labelencoder_lp.transform(df_test['loan_purpose'])\n",
        "\n",
        "labelencoder_sc = LabelEncoder()\n",
        "X_train['state_code']= labelencoder_sc.fit_transform(X_train['state_code'])\n",
        "X_val['state_code']= labelencoder_sc.transform(X_val['state_code'])\n",
        "df_test['state_code']= labelencoder_sc.transform(df_test['state_code'])\n",
        "\n",
        "labelencoder_at = LabelEncoder()\n",
        "X_train['application_type']= labelencoder_at.fit_transform(X_train['application_type'])\n",
        "X_val['application_type']= labelencoder_at.transform(X_val['application_type'])\n",
        "df_test['application_type']= labelencoder_at.transform(df_test['application_type'])"
      ],
      "metadata": {
        "id": "w3TsU0Q7M_G_"
      },
      "id": "w3TsU0Q7M_G_",
      "execution_count": 298,
      "outputs": []
    },
    {
      "cell_type": "code",
      "execution_count": 299,
      "metadata": {
        "id": "f3fda613",
        "colab": {
          "base_uri": "https://localhost:8080/",
          "height": 270
        },
        "outputId": "e08aace4-8bc5-4305-a0e7-703201300f24"
      },
      "outputs": [
        {
          "output_type": "execute_result",
          "data": {
            "text/html": [
              "\n",
              "  <div id=\"df-08116de3-b9d2-44c8-a4cd-d35664517af8\">\n",
              "    <div class=\"colab-df-container\">\n",
              "      <div>\n",
              "<style scoped>\n",
              "    .dataframe tbody tr th:only-of-type {\n",
              "        vertical-align: middle;\n",
              "    }\n",
              "\n",
              "    .dataframe tbody tr th {\n",
              "        vertical-align: top;\n",
              "    }\n",
              "\n",
              "    .dataframe thead th {\n",
              "        text-align: right;\n",
              "    }\n",
              "</style>\n",
              "<table border=\"1\" class=\"dataframe\">\n",
              "  <thead>\n",
              "    <tr style=\"text-align: right;\">\n",
              "      <th></th>\n",
              "      <th>loan_amnt</th>\n",
              "      <th>loan_term</th>\n",
              "      <th>interest_rate</th>\n",
              "      <th>loan_grade</th>\n",
              "      <th>loan_subgrade</th>\n",
              "      <th>job_experience</th>\n",
              "      <th>home_ownership</th>\n",
              "      <th>annual_income</th>\n",
              "      <th>income_verification_status</th>\n",
              "      <th>loan_purpose</th>\n",
              "      <th>state_code</th>\n",
              "      <th>debt_to_income</th>\n",
              "      <th>delinq_2yrs</th>\n",
              "      <th>public_records</th>\n",
              "      <th>revolving_balance</th>\n",
              "      <th>total_acc</th>\n",
              "      <th>interest_receive</th>\n",
              "      <th>application_type</th>\n",
              "      <th>last_week_pay</th>\n",
              "      <th>total_current_balance</th>\n",
              "      <th>total_revolving_limit</th>\n",
              "    </tr>\n",
              "  </thead>\n",
              "  <tbody>\n",
              "    <tr>\n",
              "      <th>57626</th>\n",
              "      <td>21350</td>\n",
              "      <td>1</td>\n",
              "      <td>18.25</td>\n",
              "      <td>4</td>\n",
              "      <td>20</td>\n",
              "      <td>0</td>\n",
              "      <td>3</td>\n",
              "      <td>90000.0</td>\n",
              "      <td>1</td>\n",
              "      <td>1</td>\n",
              "      <td>34</td>\n",
              "      <td>17.39</td>\n",
              "      <td>0.0</td>\n",
              "      <td>0.0</td>\n",
              "      <td>24935</td>\n",
              "      <td>35.0</td>\n",
              "      <td>2479.19</td>\n",
              "      <td>0</td>\n",
              "      <td>35.0</td>\n",
              "      <td>128346.0</td>\n",
              "      <td>29400.0</td>\n",
              "    </tr>\n",
              "    <tr>\n",
              "      <th>6051</th>\n",
              "      <td>18000</td>\n",
              "      <td>1</td>\n",
              "      <td>12.29</td>\n",
              "      <td>2</td>\n",
              "      <td>10</td>\n",
              "      <td>2</td>\n",
              "      <td>3</td>\n",
              "      <td>92000.0</td>\n",
              "      <td>0</td>\n",
              "      <td>0</td>\n",
              "      <td>37</td>\n",
              "      <td>15.59</td>\n",
              "      <td>0.0</td>\n",
              "      <td>0.0</td>\n",
              "      <td>22148</td>\n",
              "      <td>33.0</td>\n",
              "      <td>534.02</td>\n",
              "      <td>0</td>\n",
              "      <td>13.0</td>\n",
              "      <td>263890.0</td>\n",
              "      <td>30700.0</td>\n",
              "    </tr>\n",
              "    <tr>\n",
              "      <th>42718</th>\n",
              "      <td>10000</td>\n",
              "      <td>0</td>\n",
              "      <td>15.31</td>\n",
              "      <td>2</td>\n",
              "      <td>11</td>\n",
              "      <td>1</td>\n",
              "      <td>4</td>\n",
              "      <td>73000.0</td>\n",
              "      <td>0</td>\n",
              "      <td>1</td>\n",
              "      <td>19</td>\n",
              "      <td>16.52</td>\n",
              "      <td>0.0</td>\n",
              "      <td>0.0</td>\n",
              "      <td>13231</td>\n",
              "      <td>29.0</td>\n",
              "      <td>1986.04</td>\n",
              "      <td>0</td>\n",
              "      <td>87.0</td>\n",
              "      <td>28653.0</td>\n",
              "      <td>17800.0</td>\n",
              "    </tr>\n",
              "    <tr>\n",
              "      <th>87128</th>\n",
              "      <td>27200</td>\n",
              "      <td>1</td>\n",
              "      <td>9.17</td>\n",
              "      <td>1</td>\n",
              "      <td>6</td>\n",
              "      <td>2</td>\n",
              "      <td>0</td>\n",
              "      <td>62000.0</td>\n",
              "      <td>0</td>\n",
              "      <td>0</td>\n",
              "      <td>4</td>\n",
              "      <td>16.65</td>\n",
              "      <td>0.0</td>\n",
              "      <td>0.0</td>\n",
              "      <td>21867</td>\n",
              "      <td>29.0</td>\n",
              "      <td>0.00</td>\n",
              "      <td>0</td>\n",
              "      <td>146.2</td>\n",
              "      <td>281774.0</td>\n",
              "      <td>83300.0</td>\n",
              "    </tr>\n",
              "    <tr>\n",
              "      <th>63728</th>\n",
              "      <td>24000</td>\n",
              "      <td>1</td>\n",
              "      <td>9.17</td>\n",
              "      <td>1</td>\n",
              "      <td>6</td>\n",
              "      <td>0</td>\n",
              "      <td>0</td>\n",
              "      <td>84000.0</td>\n",
              "      <td>0</td>\n",
              "      <td>1</td>\n",
              "      <td>10</td>\n",
              "      <td>15.21</td>\n",
              "      <td>0.0</td>\n",
              "      <td>0.0</td>\n",
              "      <td>22985</td>\n",
              "      <td>23.0</td>\n",
              "      <td>694.55</td>\n",
              "      <td>0</td>\n",
              "      <td>17.0</td>\n",
              "      <td>294025.0</td>\n",
              "      <td>37000.0</td>\n",
              "    </tr>\n",
              "  </tbody>\n",
              "</table>\n",
              "</div>\n",
              "      <button class=\"colab-df-convert\" onclick=\"convertToInteractive('df-08116de3-b9d2-44c8-a4cd-d35664517af8')\"\n",
              "              title=\"Convert this dataframe to an interactive table.\"\n",
              "              style=\"display:none;\">\n",
              "        \n",
              "  <svg xmlns=\"http://www.w3.org/2000/svg\" height=\"24px\"viewBox=\"0 0 24 24\"\n",
              "       width=\"24px\">\n",
              "    <path d=\"M0 0h24v24H0V0z\" fill=\"none\"/>\n",
              "    <path d=\"M18.56 5.44l.94 2.06.94-2.06 2.06-.94-2.06-.94-.94-2.06-.94 2.06-2.06.94zm-11 1L8.5 8.5l.94-2.06 2.06-.94-2.06-.94L8.5 2.5l-.94 2.06-2.06.94zm10 10l.94 2.06.94-2.06 2.06-.94-2.06-.94-.94-2.06-.94 2.06-2.06.94z\"/><path d=\"M17.41 7.96l-1.37-1.37c-.4-.4-.92-.59-1.43-.59-.52 0-1.04.2-1.43.59L10.3 9.45l-7.72 7.72c-.78.78-.78 2.05 0 2.83L4 21.41c.39.39.9.59 1.41.59.51 0 1.02-.2 1.41-.59l7.78-7.78 2.81-2.81c.8-.78.8-2.07 0-2.86zM5.41 20L4 18.59l7.72-7.72 1.47 1.35L5.41 20z\"/>\n",
              "  </svg>\n",
              "      </button>\n",
              "      \n",
              "  <style>\n",
              "    .colab-df-container {\n",
              "      display:flex;\n",
              "      flex-wrap:wrap;\n",
              "      gap: 12px;\n",
              "    }\n",
              "\n",
              "    .colab-df-convert {\n",
              "      background-color: #E8F0FE;\n",
              "      border: none;\n",
              "      border-radius: 50%;\n",
              "      cursor: pointer;\n",
              "      display: none;\n",
              "      fill: #1967D2;\n",
              "      height: 32px;\n",
              "      padding: 0 0 0 0;\n",
              "      width: 32px;\n",
              "    }\n",
              "\n",
              "    .colab-df-convert:hover {\n",
              "      background-color: #E2EBFA;\n",
              "      box-shadow: 0px 1px 2px rgba(60, 64, 67, 0.3), 0px 1px 3px 1px rgba(60, 64, 67, 0.15);\n",
              "      fill: #174EA6;\n",
              "    }\n",
              "\n",
              "    [theme=dark] .colab-df-convert {\n",
              "      background-color: #3B4455;\n",
              "      fill: #D2E3FC;\n",
              "    }\n",
              "\n",
              "    [theme=dark] .colab-df-convert:hover {\n",
              "      background-color: #434B5C;\n",
              "      box-shadow: 0px 1px 3px 1px rgba(0, 0, 0, 0.15);\n",
              "      filter: drop-shadow(0px 1px 2px rgba(0, 0, 0, 0.3));\n",
              "      fill: #FFFFFF;\n",
              "    }\n",
              "  </style>\n",
              "\n",
              "      <script>\n",
              "        const buttonEl =\n",
              "          document.querySelector('#df-08116de3-b9d2-44c8-a4cd-d35664517af8 button.colab-df-convert');\n",
              "        buttonEl.style.display =\n",
              "          google.colab.kernel.accessAllowed ? 'block' : 'none';\n",
              "\n",
              "        async function convertToInteractive(key) {\n",
              "          const element = document.querySelector('#df-08116de3-b9d2-44c8-a4cd-d35664517af8');\n",
              "          const dataTable =\n",
              "            await google.colab.kernel.invokeFunction('convertToInteractive',\n",
              "                                                     [key], {});\n",
              "          if (!dataTable) return;\n",
              "\n",
              "          const docLinkHtml = 'Like what you see? Visit the ' +\n",
              "            '<a target=\"_blank\" href=https://colab.research.google.com/notebooks/data_table.ipynb>data table notebook</a>'\n",
              "            + ' to learn more about interactive tables.';\n",
              "          element.innerHTML = '';\n",
              "          dataTable['output_type'] = 'display_data';\n",
              "          await google.colab.output.renderOutput(dataTable, element);\n",
              "          const docLink = document.createElement('div');\n",
              "          docLink.innerHTML = docLinkHtml;\n",
              "          element.appendChild(docLink);\n",
              "        }\n",
              "      </script>\n",
              "    </div>\n",
              "  </div>\n",
              "  "
            ],
            "text/plain": [
              "       loan_amnt  loan_term  ...  total_current_balance  total_revolving_limit\n",
              "57626      21350          1  ...               128346.0                29400.0\n",
              "6051       18000          1  ...               263890.0                30700.0\n",
              "42718      10000          0  ...                28653.0                17800.0\n",
              "87128      27200          1  ...               281774.0                83300.0\n",
              "63728      24000          1  ...               294025.0                37000.0\n",
              "\n",
              "[5 rows x 21 columns]"
            ]
          },
          "metadata": {},
          "execution_count": 299
        }
      ],
      "source": [
        "X_train.head()"
      ],
      "id": "f3fda613"
    },
    {
      "cell_type": "code",
      "source": [
        "df_test.head()"
      ],
      "metadata": {
        "id": "Xe9Uop-HdxBs",
        "colab": {
          "base_uri": "https://localhost:8080/",
          "height": 270
        },
        "outputId": "f67ff3b8-ace4-488a-effe-dae49f4efced"
      },
      "execution_count": 300,
      "outputs": [
        {
          "output_type": "execute_result",
          "data": {
            "text/html": [
              "\n",
              "  <div id=\"df-18a9157f-fac7-4939-86a0-e7bc5d8c60e4\">\n",
              "    <div class=\"colab-df-container\">\n",
              "      <div>\n",
              "<style scoped>\n",
              "    .dataframe tbody tr th:only-of-type {\n",
              "        vertical-align: middle;\n",
              "    }\n",
              "\n",
              "    .dataframe tbody tr th {\n",
              "        vertical-align: top;\n",
              "    }\n",
              "\n",
              "    .dataframe thead th {\n",
              "        text-align: right;\n",
              "    }\n",
              "</style>\n",
              "<table border=\"1\" class=\"dataframe\">\n",
              "  <thead>\n",
              "    <tr style=\"text-align: right;\">\n",
              "      <th></th>\n",
              "      <th>loan_amnt</th>\n",
              "      <th>loan_term</th>\n",
              "      <th>interest_rate</th>\n",
              "      <th>loan_grade</th>\n",
              "      <th>loan_subgrade</th>\n",
              "      <th>job_experience</th>\n",
              "      <th>home_ownership</th>\n",
              "      <th>annual_income</th>\n",
              "      <th>income_verification_status</th>\n",
              "      <th>loan_purpose</th>\n",
              "      <th>state_code</th>\n",
              "      <th>debt_to_income</th>\n",
              "      <th>delinq_2yrs</th>\n",
              "      <th>public_records</th>\n",
              "      <th>revolving_balance</th>\n",
              "      <th>total_acc</th>\n",
              "      <th>interest_receive</th>\n",
              "      <th>application_type</th>\n",
              "      <th>last_week_pay</th>\n",
              "      <th>total_current_balance</th>\n",
              "      <th>total_revolving_limit</th>\n",
              "    </tr>\n",
              "  </thead>\n",
              "  <tbody>\n",
              "    <tr>\n",
              "      <th>0</th>\n",
              "      <td>12000</td>\n",
              "      <td>0</td>\n",
              "      <td>15.31</td>\n",
              "      <td>2</td>\n",
              "      <td>11</td>\n",
              "      <td>2</td>\n",
              "      <td>0</td>\n",
              "      <td>73400.0</td>\n",
              "      <td>0</td>\n",
              "      <td>1</td>\n",
              "      <td>4</td>\n",
              "      <td>14.62</td>\n",
              "      <td>0.0</td>\n",
              "      <td>0.0</td>\n",
              "      <td>22156</td>\n",
              "      <td>30.0</td>\n",
              "      <td>2290.24</td>\n",
              "      <td>0</td>\n",
              "      <td>87.0</td>\n",
              "      <td>128098.0</td>\n",
              "      <td>25800.0</td>\n",
              "    </tr>\n",
              "    <tr>\n",
              "      <th>1</th>\n",
              "      <td>12000</td>\n",
              "      <td>0</td>\n",
              "      <td>7.26</td>\n",
              "      <td>0</td>\n",
              "      <td>3</td>\n",
              "      <td>0</td>\n",
              "      <td>0</td>\n",
              "      <td>105000.0</td>\n",
              "      <td>0</td>\n",
              "      <td>0</td>\n",
              "      <td>44</td>\n",
              "      <td>11.38</td>\n",
              "      <td>0.0</td>\n",
              "      <td>0.0</td>\n",
              "      <td>7592</td>\n",
              "      <td>14.0</td>\n",
              "      <td>202.68</td>\n",
              "      <td>0</td>\n",
              "      <td>13.0</td>\n",
              "      <td>269396.0</td>\n",
              "      <td>23600.0</td>\n",
              "    </tr>\n",
              "    <tr>\n",
              "      <th>2</th>\n",
              "      <td>15000</td>\n",
              "      <td>0</td>\n",
              "      <td>14.33</td>\n",
              "      <td>2</td>\n",
              "      <td>10</td>\n",
              "      <td>1</td>\n",
              "      <td>0</td>\n",
              "      <td>50000.0</td>\n",
              "      <td>2</td>\n",
              "      <td>1</td>\n",
              "      <td>42</td>\n",
              "      <td>28.15</td>\n",
              "      <td>0.0</td>\n",
              "      <td>1.0</td>\n",
              "      <td>17983</td>\n",
              "      <td>19.0</td>\n",
              "      <td>1166.24</td>\n",
              "      <td>0</td>\n",
              "      <td>30.0</td>\n",
              "      <td>220135.0</td>\n",
              "      <td>34100.0</td>\n",
              "    </tr>\n",
              "    <tr>\n",
              "      <th>3</th>\n",
              "      <td>12000</td>\n",
              "      <td>0</td>\n",
              "      <td>9.99</td>\n",
              "      <td>1</td>\n",
              "      <td>7</td>\n",
              "      <td>1</td>\n",
              "      <td>4</td>\n",
              "      <td>37000.0</td>\n",
              "      <td>1</td>\n",
              "      <td>0</td>\n",
              "      <td>30</td>\n",
              "      <td>34.32</td>\n",
              "      <td>0.0</td>\n",
              "      <td>0.0</td>\n",
              "      <td>12262</td>\n",
              "      <td>18.0</td>\n",
              "      <td>635.06</td>\n",
              "      <td>0</td>\n",
              "      <td>35.0</td>\n",
              "      <td>39436.0</td>\n",
              "      <td>21700.0</td>\n",
              "    </tr>\n",
              "    <tr>\n",
              "      <th>4</th>\n",
              "      <td>20150</td>\n",
              "      <td>0</td>\n",
              "      <td>11.53</td>\n",
              "      <td>1</td>\n",
              "      <td>9</td>\n",
              "      <td>2</td>\n",
              "      <td>4</td>\n",
              "      <td>75000.0</td>\n",
              "      <td>1</td>\n",
              "      <td>1</td>\n",
              "      <td>4</td>\n",
              "      <td>26.74</td>\n",
              "      <td>1.0</td>\n",
              "      <td>0.0</td>\n",
              "      <td>8251</td>\n",
              "      <td>11.0</td>\n",
              "      <td>1232.84</td>\n",
              "      <td>0</td>\n",
              "      <td>31.0</td>\n",
              "      <td>52764.0</td>\n",
              "      <td>12000.0</td>\n",
              "    </tr>\n",
              "  </tbody>\n",
              "</table>\n",
              "</div>\n",
              "      <button class=\"colab-df-convert\" onclick=\"convertToInteractive('df-18a9157f-fac7-4939-86a0-e7bc5d8c60e4')\"\n",
              "              title=\"Convert this dataframe to an interactive table.\"\n",
              "              style=\"display:none;\">\n",
              "        \n",
              "  <svg xmlns=\"http://www.w3.org/2000/svg\" height=\"24px\"viewBox=\"0 0 24 24\"\n",
              "       width=\"24px\">\n",
              "    <path d=\"M0 0h24v24H0V0z\" fill=\"none\"/>\n",
              "    <path d=\"M18.56 5.44l.94 2.06.94-2.06 2.06-.94-2.06-.94-.94-2.06-.94 2.06-2.06.94zm-11 1L8.5 8.5l.94-2.06 2.06-.94-2.06-.94L8.5 2.5l-.94 2.06-2.06.94zm10 10l.94 2.06.94-2.06 2.06-.94-2.06-.94-.94-2.06-.94 2.06-2.06.94z\"/><path d=\"M17.41 7.96l-1.37-1.37c-.4-.4-.92-.59-1.43-.59-.52 0-1.04.2-1.43.59L10.3 9.45l-7.72 7.72c-.78.78-.78 2.05 0 2.83L4 21.41c.39.39.9.59 1.41.59.51 0 1.02-.2 1.41-.59l7.78-7.78 2.81-2.81c.8-.78.8-2.07 0-2.86zM5.41 20L4 18.59l7.72-7.72 1.47 1.35L5.41 20z\"/>\n",
              "  </svg>\n",
              "      </button>\n",
              "      \n",
              "  <style>\n",
              "    .colab-df-container {\n",
              "      display:flex;\n",
              "      flex-wrap:wrap;\n",
              "      gap: 12px;\n",
              "    }\n",
              "\n",
              "    .colab-df-convert {\n",
              "      background-color: #E8F0FE;\n",
              "      border: none;\n",
              "      border-radius: 50%;\n",
              "      cursor: pointer;\n",
              "      display: none;\n",
              "      fill: #1967D2;\n",
              "      height: 32px;\n",
              "      padding: 0 0 0 0;\n",
              "      width: 32px;\n",
              "    }\n",
              "\n",
              "    .colab-df-convert:hover {\n",
              "      background-color: #E2EBFA;\n",
              "      box-shadow: 0px 1px 2px rgba(60, 64, 67, 0.3), 0px 1px 3px 1px rgba(60, 64, 67, 0.15);\n",
              "      fill: #174EA6;\n",
              "    }\n",
              "\n",
              "    [theme=dark] .colab-df-convert {\n",
              "      background-color: #3B4455;\n",
              "      fill: #D2E3FC;\n",
              "    }\n",
              "\n",
              "    [theme=dark] .colab-df-convert:hover {\n",
              "      background-color: #434B5C;\n",
              "      box-shadow: 0px 1px 3px 1px rgba(0, 0, 0, 0.15);\n",
              "      filter: drop-shadow(0px 1px 2px rgba(0, 0, 0, 0.3));\n",
              "      fill: #FFFFFF;\n",
              "    }\n",
              "  </style>\n",
              "\n",
              "      <script>\n",
              "        const buttonEl =\n",
              "          document.querySelector('#df-18a9157f-fac7-4939-86a0-e7bc5d8c60e4 button.colab-df-convert');\n",
              "        buttonEl.style.display =\n",
              "          google.colab.kernel.accessAllowed ? 'block' : 'none';\n",
              "\n",
              "        async function convertToInteractive(key) {\n",
              "          const element = document.querySelector('#df-18a9157f-fac7-4939-86a0-e7bc5d8c60e4');\n",
              "          const dataTable =\n",
              "            await google.colab.kernel.invokeFunction('convertToInteractive',\n",
              "                                                     [key], {});\n",
              "          if (!dataTable) return;\n",
              "\n",
              "          const docLinkHtml = 'Like what you see? Visit the ' +\n",
              "            '<a target=\"_blank\" href=https://colab.research.google.com/notebooks/data_table.ipynb>data table notebook</a>'\n",
              "            + ' to learn more about interactive tables.';\n",
              "          element.innerHTML = '';\n",
              "          dataTable['output_type'] = 'display_data';\n",
              "          await google.colab.output.renderOutput(dataTable, element);\n",
              "          const docLink = document.createElement('div');\n",
              "          docLink.innerHTML = docLinkHtml;\n",
              "          element.appendChild(docLink);\n",
              "        }\n",
              "      </script>\n",
              "    </div>\n",
              "  </div>\n",
              "  "
            ],
            "text/plain": [
              "   loan_amnt  loan_term  ...  total_current_balance  total_revolving_limit\n",
              "0      12000          0  ...               128098.0                25800.0\n",
              "1      12000          0  ...               269396.0                23600.0\n",
              "2      15000          0  ...               220135.0                34100.0\n",
              "3      12000          0  ...                39436.0                21700.0\n",
              "4      20150          0  ...                52764.0                12000.0\n",
              "\n",
              "[5 rows x 21 columns]"
            ]
          },
          "metadata": {},
          "execution_count": 300
        }
      ],
      "id": "Xe9Uop-HdxBs"
    },
    {
      "cell_type": "code",
      "execution_count": 301,
      "metadata": {
        "id": "CtpUT3G62nq5",
        "colab": {
          "base_uri": "https://localhost:8080/",
          "height": 206
        },
        "outputId": "af132251-0274-443c-fbf6-dd6533b3c5b5"
      },
      "outputs": [
        {
          "output_type": "execute_result",
          "data": {
            "text/html": [
              "\n",
              "  <div id=\"df-d7c9748c-eb4c-4fee-b0da-38e783100580\">\n",
              "    <div class=\"colab-df-container\">\n",
              "      <div>\n",
              "<style scoped>\n",
              "    .dataframe tbody tr th:only-of-type {\n",
              "        vertical-align: middle;\n",
              "    }\n",
              "\n",
              "    .dataframe tbody tr th {\n",
              "        vertical-align: top;\n",
              "    }\n",
              "\n",
              "    .dataframe thead th {\n",
              "        text-align: right;\n",
              "    }\n",
              "</style>\n",
              "<table border=\"1\" class=\"dataframe\">\n",
              "  <thead>\n",
              "    <tr style=\"text-align: right;\">\n",
              "      <th></th>\n",
              "      <th>default</th>\n",
              "    </tr>\n",
              "  </thead>\n",
              "  <tbody>\n",
              "    <tr>\n",
              "      <th>57626</th>\n",
              "      <td>0</td>\n",
              "    </tr>\n",
              "    <tr>\n",
              "      <th>6051</th>\n",
              "      <td>0</td>\n",
              "    </tr>\n",
              "    <tr>\n",
              "      <th>42718</th>\n",
              "      <td>1</td>\n",
              "    </tr>\n",
              "    <tr>\n",
              "      <th>87128</th>\n",
              "      <td>0</td>\n",
              "    </tr>\n",
              "    <tr>\n",
              "      <th>63728</th>\n",
              "      <td>0</td>\n",
              "    </tr>\n",
              "  </tbody>\n",
              "</table>\n",
              "</div>\n",
              "      <button class=\"colab-df-convert\" onclick=\"convertToInteractive('df-d7c9748c-eb4c-4fee-b0da-38e783100580')\"\n",
              "              title=\"Convert this dataframe to an interactive table.\"\n",
              "              style=\"display:none;\">\n",
              "        \n",
              "  <svg xmlns=\"http://www.w3.org/2000/svg\" height=\"24px\"viewBox=\"0 0 24 24\"\n",
              "       width=\"24px\">\n",
              "    <path d=\"M0 0h24v24H0V0z\" fill=\"none\"/>\n",
              "    <path d=\"M18.56 5.44l.94 2.06.94-2.06 2.06-.94-2.06-.94-.94-2.06-.94 2.06-2.06.94zm-11 1L8.5 8.5l.94-2.06 2.06-.94-2.06-.94L8.5 2.5l-.94 2.06-2.06.94zm10 10l.94 2.06.94-2.06 2.06-.94-2.06-.94-.94-2.06-.94 2.06-2.06.94z\"/><path d=\"M17.41 7.96l-1.37-1.37c-.4-.4-.92-.59-1.43-.59-.52 0-1.04.2-1.43.59L10.3 9.45l-7.72 7.72c-.78.78-.78 2.05 0 2.83L4 21.41c.39.39.9.59 1.41.59.51 0 1.02-.2 1.41-.59l7.78-7.78 2.81-2.81c.8-.78.8-2.07 0-2.86zM5.41 20L4 18.59l7.72-7.72 1.47 1.35L5.41 20z\"/>\n",
              "  </svg>\n",
              "      </button>\n",
              "      \n",
              "  <style>\n",
              "    .colab-df-container {\n",
              "      display:flex;\n",
              "      flex-wrap:wrap;\n",
              "      gap: 12px;\n",
              "    }\n",
              "\n",
              "    .colab-df-convert {\n",
              "      background-color: #E8F0FE;\n",
              "      border: none;\n",
              "      border-radius: 50%;\n",
              "      cursor: pointer;\n",
              "      display: none;\n",
              "      fill: #1967D2;\n",
              "      height: 32px;\n",
              "      padding: 0 0 0 0;\n",
              "      width: 32px;\n",
              "    }\n",
              "\n",
              "    .colab-df-convert:hover {\n",
              "      background-color: #E2EBFA;\n",
              "      box-shadow: 0px 1px 2px rgba(60, 64, 67, 0.3), 0px 1px 3px 1px rgba(60, 64, 67, 0.15);\n",
              "      fill: #174EA6;\n",
              "    }\n",
              "\n",
              "    [theme=dark] .colab-df-convert {\n",
              "      background-color: #3B4455;\n",
              "      fill: #D2E3FC;\n",
              "    }\n",
              "\n",
              "    [theme=dark] .colab-df-convert:hover {\n",
              "      background-color: #434B5C;\n",
              "      box-shadow: 0px 1px 3px 1px rgba(0, 0, 0, 0.15);\n",
              "      filter: drop-shadow(0px 1px 2px rgba(0, 0, 0, 0.3));\n",
              "      fill: #FFFFFF;\n",
              "    }\n",
              "  </style>\n",
              "\n",
              "      <script>\n",
              "        const buttonEl =\n",
              "          document.querySelector('#df-d7c9748c-eb4c-4fee-b0da-38e783100580 button.colab-df-convert');\n",
              "        buttonEl.style.display =\n",
              "          google.colab.kernel.accessAllowed ? 'block' : 'none';\n",
              "\n",
              "        async function convertToInteractive(key) {\n",
              "          const element = document.querySelector('#df-d7c9748c-eb4c-4fee-b0da-38e783100580');\n",
              "          const dataTable =\n",
              "            await google.colab.kernel.invokeFunction('convertToInteractive',\n",
              "                                                     [key], {});\n",
              "          if (!dataTable) return;\n",
              "\n",
              "          const docLinkHtml = 'Like what you see? Visit the ' +\n",
              "            '<a target=\"_blank\" href=https://colab.research.google.com/notebooks/data_table.ipynb>data table notebook</a>'\n",
              "            + ' to learn more about interactive tables.';\n",
              "          element.innerHTML = '';\n",
              "          dataTable['output_type'] = 'display_data';\n",
              "          await google.colab.output.renderOutput(dataTable, element);\n",
              "          const docLink = document.createElement('div');\n",
              "          docLink.innerHTML = docLinkHtml;\n",
              "          element.appendChild(docLink);\n",
              "        }\n",
              "      </script>\n",
              "    </div>\n",
              "  </div>\n",
              "  "
            ],
            "text/plain": [
              "       default\n",
              "57626        0\n",
              "6051         0\n",
              "42718        1\n",
              "87128        0\n",
              "63728        0"
            ]
          },
          "metadata": {},
          "execution_count": 301
        }
      ],
      "source": [
        "y_train.head()"
      ],
      "id": "CtpUT3G62nq5"
    },
    {
      "cell_type": "code",
      "execution_count": 302,
      "metadata": {
        "id": "DxSiFhk9RTpL",
        "colab": {
          "base_uri": "https://localhost:8080/"
        },
        "outputId": "209245a7-be5e-46c2-b6d5-25989457b152"
      },
      "outputs": [
        {
          "output_type": "stream",
          "name": "stdout",
          "text": [
            "(74539, 21)\n",
            "(18635, 21)\n",
            "(74539, 1)\n",
            "(18635, 1)\n"
          ]
        }
      ],
      "source": [
        "###Checking the shape of train and test sets\n",
        "print(X_train.shape)\n",
        "print(X_val.shape)\n",
        "print(y_train.shape)\n",
        "print(y_val.shape)"
      ],
      "id": "DxSiFhk9RTpL"
    },
    {
      "cell_type": "code",
      "execution_count": 303,
      "metadata": {
        "id": "caa2f5d7"
      },
      "outputs": [],
      "source": [
        "## Scaling the data\n",
        "sc=StandardScaler()\n",
        "X_train = sc.fit_transform(X_train)\n",
        "X_val = sc.transform(X_val)"
      ],
      "id": "caa2f5d7"
    },
    {
      "cell_type": "code",
      "source": [
        "##Applying SMOTE on train and test\n",
        "from imblearn.over_sampling import SMOTE\n",
        "smote=SMOTE(sampling_strategy='not majority')\n",
        "X_sm , y_sm = smote.fit_resample(X_train,y_train)"
      ],
      "metadata": {
        "id": "U93s3AdO7c8F"
      },
      "id": "U93s3AdO7c8F",
      "execution_count": 304,
      "outputs": []
    },
    {
      "cell_type": "markdown",
      "metadata": {
        "id": "gwmwz0CW5cC5"
      },
      "source": [
        "## **Model Building**"
      ],
      "id": "gwmwz0CW5cC5"
    },
    {
      "cell_type": "markdown",
      "metadata": {
        "id": "LwW-lVlORwKn"
      },
      "source": [
        "#### **A model can make wrong predictions in the following ways:**\n",
        "* Predicting an employee is looking for a job, when he/she is not looking for it. \n",
        "* Predicting an employee is not looking for a job, when he/she is in fact looking for one.\n",
        "\n",
        "#### **Which case is more important?**\n",
        "\n",
        "Both cases are actually important for the purposes of this case study. Not giving a chance to a deserving employee (by wrongly classifying them as likely to attrite) might lead to decreased productivity, and the company might lose a good employee affecting the organization's growth. However, giving chances to a non-deserving employee (as they are likely to attrite) would lead to a financial loss for the company, and giving such employees an increased amount of responsibility might again affect the company's growth.\n",
        "\n",
        "#### **How to reduce this loss i.e need to reduce False Negatives as well as False Positives?**\n",
        "\n",
        "Since both errors are important for us to minimize, the company would want the F1 Score evaluation metric to be maximized/ Hence, the focus should be on increasing the F1 score rather than focusing on just one metric i.e. Recall or Precision.\n"
      ],
      "id": "LwW-lVlORwKn"
    },
    {
      "cell_type": "code",
      "source": [
        ""
      ],
      "metadata": {
        "id": "ucppes9maOQR"
      },
      "id": "ucppes9maOQR",
      "execution_count": 304,
      "outputs": []
    },
    {
      "cell_type": "code",
      "execution_count": 305,
      "metadata": {
        "id": "cbf622c1"
      },
      "outputs": [],
      "source": [
        "def make_confusion_matrix(cf,\n",
        "                          group_names=None,\n",
        "                          categories='auto',\n",
        "                          count=True,\n",
        "                          percent=True,\n",
        "                          cbar=True,\n",
        "                          xyticks=True,\n",
        "                          xyplotlabels=True,\n",
        "                          sum_stats=True,\n",
        "                          figsize=None,\n",
        "                          cmap='Blues',\n",
        "                          title=None):\n",
        "    '''\n",
        "    This function will make a pretty plot of an sklearn Confusion Matrix cm using a Seaborn heatmap visualization.\n",
        "    Arguments\n",
        "    '''\n",
        "\n",
        "\n",
        "    # CODE TO GENERATE TEXT INSIDE EACH SQUARE\n",
        "    blanks = ['' for i in range(cf.size)]\n",
        "\n",
        "    if group_names and len(group_names)==cf.size:\n",
        "        group_labels = [\"{}\\n\".format(value) for value in group_names]\n",
        "    else:\n",
        "        group_labels = blanks\n",
        "\n",
        "    if count:\n",
        "        group_counts = [\"{0:0.0f}\\n\".format(value) for value in cf.flatten()]\n",
        "    else:\n",
        "        group_counts = blanks\n",
        "\n",
        "    if percent:\n",
        "        group_percentages = [\"{0:.2%}\".format(value) for value in cf.flatten()/np.sum(cf)]\n",
        "    else:\n",
        "        group_percentages = blanks\n",
        "\n",
        "    box_labels = [f\"{v1}{v2}{v3}\".strip() for v1, v2, v3 in zip(group_labels,group_counts,group_percentages)]\n",
        "    box_labels = np.asarray(box_labels).reshape(cf.shape[0],cf.shape[1])\n",
        "\n",
        "\n",
        "    # CODE TO GENERATE SUMMARY STATISTICS & TEXT FOR SUMMARY STATS\n",
        "    if sum_stats:\n",
        "        #Accuracy is sum of diagonal divided by total observations\n",
        "        accuracy  = np.trace(cf) / float(np.sum(cf))\n",
        "\n",
        "\n",
        "\n",
        "    # SET FIGURE PARAMETERS ACCORDING TO OTHER ARGUMENTS\n",
        "    if figsize==None:\n",
        "        #Get default figure size if not set\n",
        "        figsize = plt.rcParams.get('figure.figsize')\n",
        "\n",
        "    if xyticks==False:\n",
        "        #Do not show categories if xyticks is False\n",
        "        categories=False\n",
        "\n",
        "\n",
        "    # MAKE THE HEATMAP VISUALIZATION\n",
        "    plt.figure(figsize=figsize)\n",
        "    sns.heatmap(cf,annot=box_labels,fmt=\"\",cmap=cmap,cbar=cbar,xticklabels=categories,yticklabels=categories)\n",
        "\n",
        "    \n",
        "    if title:\n",
        "        plt.title(title)"
      ],
      "id": "cbf622c1"
    },
    {
      "cell_type": "markdown",
      "metadata": {
        "id": "pRlkIdsHCdfI"
      },
      "source": [
        "### Model 5\n",
        "\n",
        "#### **Random Search CV**\n",
        "\n",
        "Some important hyperparameters to look out for while optimizing neural networks are:\n",
        "\n",
        "* Type of Architecture\n",
        "\n",
        "* Number of Layers\n",
        "\n",
        "* Number of Neurons in a layer\n",
        "\n",
        "* Regularization hyperparameters\n",
        "\n",
        "* Learning Rate\n",
        "\n",
        "* Type of Optimizer\n",
        "\n",
        "* Dropout Rate"
      ],
      "id": "pRlkIdsHCdfI"
    },
    {
      "cell_type": "code",
      "execution_count": 368,
      "metadata": {
        "id": "ALblZ-lSCdJx"
      },
      "outputs": [],
      "source": [
        "backend.clear_session()\n",
        "np.random.seed(35)\n",
        "import random\n",
        "random.seed(35)\n",
        "tf.random.set_seed(35)"
      ],
      "id": "ALblZ-lSCdJx"
    },
    {
      "cell_type": "code",
      "execution_count": 369,
      "metadata": {
        "id": "iGy-pFqeCdHC"
      },
      "outputs": [],
      "source": [
        "def create_model_v4(lr,batch_size):  \n",
        "    np.random.seed(1337)\n",
        "    model = Sequential()\n",
        "    model.add(Dense(64,activation='relu',input_dim = X_train.shape[1]))\n",
        "    #model.add(Dropout(0.3))\n",
        "    #model.add(BatchNormalization())\n",
        "    #model.add(Dense(128,activation='relu',kernel_initializer='he_uniform'))\n",
        "    #model.add(Dense(128,activation='relu'))\n",
        "    #model.add(Dropout(0.3))\n",
        "    #model.add(Dense(64,activation='relu'))\n",
        "    #model.add(Dropout(0.2))\n",
        "    #model.add(BatchNormalization())\n",
        "    #model.add(Dense(32,activation='relu',kernel_initializer='he_uniform'))\n",
        "    #model.add(Dropout(0.3))\n",
        "    model.add(Dense(32,activation='relu')) \n",
        "    #model.add(BatchNormalization())\n",
        "    model.add(Dense(1, activation='sigmoid'))\n",
        "\n",
        "    #compile model\n",
        "    optimizer = tf.keras.optimizers.Adam(learning_rate=lr)\n",
        "    model.compile(optimizer = optimizer,loss = 'binary_crossentropy', metrics = ['accuracy'])\n",
        "    return model"
      ],
      "id": "iGy-pFqeCdHC"
    },
    {
      "cell_type": "markdown",
      "metadata": {
        "id": "M2PPhM3QEMfm"
      },
      "source": [
        "We are using Random search to optimize two hyperparameters - **Batch size** & **Learning Rate**.\n",
        "\n",
        "You can also optimize other hyperparameters as mentioned above.\n",
        "\n"
      ],
      "id": "M2PPhM3QEMfm"
    },
    {
      "cell_type": "code",
      "execution_count": 372,
      "metadata": {
        "id": "oeOi6hHxCdEH"
      },
      "outputs": [],
      "source": [
        "keras_estimator = KerasClassifier(build_fn=create_model_v4, verbose=1)\n",
        "# define the grid search parameters\n",
        "param_random = {\n",
        "    'batch_size':[32, 64, 128, 256],\n",
        "    \"lr\":[0.01,0.1,0.001,0.0001],}\n",
        "\n",
        "kfold_splits = 5\n",
        "random= RandomizedSearchCV(estimator=keras_estimator,  \n",
        "                    verbose=1,\n",
        "                    cv=kfold_splits,  \n",
        "                    param_distributions=param_random,n_jobs=-1)"
      ],
      "id": "oeOi6hHxCdEH"
    },
    {
      "cell_type": "code",
      "execution_count": 373,
      "metadata": {
        "id": "WXsGZJUECdBI",
        "outputId": "169f565e-09d9-42a4-99a6-a160317537bc",
        "colab": {
          "base_uri": "https://localhost:8080/"
        }
      },
      "outputs": [
        {
          "output_type": "stream",
          "name": "stdout",
          "text": [
            "Fitting 5 folds for each of 10 candidates, totalling 50 fits\n",
            "1864/1864 [==============================] - 5s 3ms/step - loss: 0.4608 - accuracy: 0.7967 - val_loss: 0.4311 - val_accuracy: 0.8108\n",
            "Best: 0.805726 using {'lr': 0.01, 'batch_size': 32}\n"
          ]
        }
      ],
      "source": [
        "random_result = random.fit(X_train, y_train,validation_split=0.2,verbose=1) \n",
        "\n",
        "# Summarize results\n",
        "print(\"Best: %f using %s\" % (random_result.best_score_, random_result.best_params_))\n",
        "means = random_result.cv_results_['mean_test_score']\n",
        "stds = random_result.cv_results_['std_test_score']\n",
        "params = random_result.cv_results_['params']"
      ],
      "id": "WXsGZJUECdBI"
    },
    {
      "cell_type": "markdown",
      "metadata": {
        "id": "yxP3bQEtKaJL"
      },
      "source": [
        "The best model is with the following configuration: \n",
        "\n",
        "( It may vary each time the code runs ) \n",
        "\n",
        "**Result of Random Search**\n",
        "\n",
        "{'batch_size': 64, 'learning_rate\": 0.01}\n",
        "\n",
        "Let's create the final model with the above mentioned configuration"
      ],
      "id": "yxP3bQEtKaJL"
    },
    {
      "cell_type": "code",
      "execution_count": 374,
      "metadata": {
        "id": "OhF3lqGWCc-A",
        "outputId": "a1856659-57e8-4fe1-b325-f08352681684",
        "colab": {
          "base_uri": "https://localhost:8080/"
        }
      },
      "outputs": [
        {
          "output_type": "stream",
          "name": "stdout",
          "text": [
            "Model: \"sequential_1\"\n",
            "_________________________________________________________________\n",
            " Layer (type)                Output Shape              Param #   \n",
            "=================================================================\n",
            " dense_3 (Dense)             (None, 64)                1408      \n",
            "                                                                 \n",
            " dense_4 (Dense)             (None, 32)                2080      \n",
            "                                                                 \n",
            " dense_5 (Dense)             (None, 1)                 33        \n",
            "                                                                 \n",
            "=================================================================\n",
            "Total params: 3,521\n",
            "Trainable params: 3,521\n",
            "Non-trainable params: 0\n",
            "_________________________________________________________________\n"
          ]
        }
      ],
      "source": [
        "estimator_v4=create_model_v4(batch_size=random_result.best_params_['batch_size'],lr=random_result.best_params_['lr'])\n",
        "\n",
        "estimator_v4.summary()"
      ],
      "id": "OhF3lqGWCc-A"
    },
    {
      "cell_type": "code",
      "execution_count": 375,
      "metadata": {
        "id": "zXAKKF5-Cc6_",
        "outputId": "a95486e4-e379-4220-ecb7-9941c9753607",
        "colab": {
          "base_uri": "https://localhost:8080/"
        }
      },
      "outputs": [
        {
          "output_type": "stream",
          "name": "stdout",
          "text": [
            "Epoch 1/100\n",
            "1864/1864 [==============================] - 6s 3ms/step - loss: 0.4685 - accuracy: 0.7897 - val_loss: 0.4362 - val_accuracy: 0.8127\n",
            "Epoch 2/100\n",
            "1864/1864 [==============================] - 5s 3ms/step - loss: 0.4190 - accuracy: 0.8217 - val_loss: 0.4104 - val_accuracy: 0.8195\n",
            "Epoch 3/100\n",
            "1864/1864 [==============================] - 5s 3ms/step - loss: 0.4032 - accuracy: 0.8298 - val_loss: 0.4119 - val_accuracy: 0.8229\n",
            "Epoch 4/100\n",
            "1864/1864 [==============================] - 5s 3ms/step - loss: 0.3955 - accuracy: 0.8344 - val_loss: 0.3922 - val_accuracy: 0.8342\n",
            "Epoch 5/100\n",
            "1864/1864 [==============================] - 5s 3ms/step - loss: 0.3912 - accuracy: 0.8367 - val_loss: 0.3960 - val_accuracy: 0.8354\n",
            "Epoch 6/100\n",
            "1864/1864 [==============================] - 5s 3ms/step - loss: 0.3872 - accuracy: 0.8389 - val_loss: 0.3928 - val_accuracy: 0.8361\n",
            "Epoch 7/100\n",
            "1864/1864 [==============================] - 5s 3ms/step - loss: 0.3847 - accuracy: 0.8403 - val_loss: 0.3878 - val_accuracy: 0.8386\n",
            "Epoch 8/100\n",
            "1864/1864 [==============================] - 5s 3ms/step - loss: 0.3813 - accuracy: 0.8419 - val_loss: 0.3829 - val_accuracy: 0.8413\n",
            "Epoch 9/100\n",
            "1864/1864 [==============================] - 5s 3ms/step - loss: 0.3779 - accuracy: 0.8441 - val_loss: 0.3837 - val_accuracy: 0.8399\n",
            "Epoch 10/100\n",
            "1864/1864 [==============================] - 5s 3ms/step - loss: 0.3759 - accuracy: 0.8453 - val_loss: 0.3841 - val_accuracy: 0.8422\n",
            "Epoch 11/100\n",
            "1864/1864 [==============================] - 5s 3ms/step - loss: 0.3747 - accuracy: 0.8457 - val_loss: 0.3807 - val_accuracy: 0.8393\n",
            "Epoch 12/100\n",
            "1864/1864 [==============================] - 5s 3ms/step - loss: 0.3741 - accuracy: 0.8461 - val_loss: 0.3791 - val_accuracy: 0.8458\n",
            "Epoch 13/100\n",
            "1864/1864 [==============================] - 5s 3ms/step - loss: 0.3718 - accuracy: 0.8466 - val_loss: 0.3790 - val_accuracy: 0.8453\n",
            "Epoch 14/100\n",
            "1864/1864 [==============================] - 5s 3ms/step - loss: 0.3692 - accuracy: 0.8489 - val_loss: 0.3777 - val_accuracy: 0.8473\n",
            "Epoch 15/100\n",
            "1864/1864 [==============================] - 5s 3ms/step - loss: 0.3690 - accuracy: 0.8481 - val_loss: 0.3776 - val_accuracy: 0.8453\n",
            "Epoch 16/100\n",
            "1864/1864 [==============================] - 5s 3ms/step - loss: 0.3677 - accuracy: 0.8488 - val_loss: 0.3759 - val_accuracy: 0.8475\n",
            "Epoch 17/100\n",
            "1864/1864 [==============================] - 5s 3ms/step - loss: 0.3685 - accuracy: 0.8494 - val_loss: 0.3801 - val_accuracy: 0.8462\n",
            "Epoch 18/100\n",
            "1864/1864 [==============================] - 5s 3ms/step - loss: 0.3647 - accuracy: 0.8509 - val_loss: 0.3790 - val_accuracy: 0.8475\n",
            "Epoch 19/100\n",
            "1864/1864 [==============================] - 5s 3ms/step - loss: 0.3636 - accuracy: 0.8511 - val_loss: 0.3815 - val_accuracy: 0.8444\n",
            "Epoch 20/100\n",
            "1864/1864 [==============================] - 5s 3ms/step - loss: 0.3638 - accuracy: 0.8518 - val_loss: 0.3806 - val_accuracy: 0.8484\n",
            "Epoch 21/100\n",
            "1864/1864 [==============================] - 5s 3ms/step - loss: 0.3625 - accuracy: 0.8522 - val_loss: 0.3830 - val_accuracy: 0.8448\n",
            "Epoch 22/100\n",
            "1864/1864 [==============================] - 5s 3ms/step - loss: 0.3626 - accuracy: 0.8518 - val_loss: 0.3761 - val_accuracy: 0.8481\n",
            "Epoch 23/100\n",
            "1864/1864 [==============================] - 5s 3ms/step - loss: 0.3623 - accuracy: 0.8520 - val_loss: 0.3770 - val_accuracy: 0.8485\n",
            "Epoch 24/100\n",
            "1864/1864 [==============================] - 5s 3ms/step - loss: 0.3605 - accuracy: 0.8529 - val_loss: 0.3817 - val_accuracy: 0.8448\n",
            "Epoch 25/100\n",
            "1864/1864 [==============================] - 5s 3ms/step - loss: 0.3597 - accuracy: 0.8534 - val_loss: 0.3771 - val_accuracy: 0.8481\n",
            "Epoch 26/100\n",
            "1864/1864 [==============================] - 5s 3ms/step - loss: 0.3601 - accuracy: 0.8531 - val_loss: 0.3809 - val_accuracy: 0.8449\n",
            "Epoch 27/100\n",
            "1864/1864 [==============================] - 5s 3ms/step - loss: 0.3603 - accuracy: 0.8527 - val_loss: 0.3725 - val_accuracy: 0.8446\n",
            "Epoch 28/100\n",
            "1864/1864 [==============================] - 5s 3ms/step - loss: 0.3584 - accuracy: 0.8542 - val_loss: 0.3837 - val_accuracy: 0.8469\n",
            "Epoch 29/100\n",
            "1864/1864 [==============================] - 5s 3ms/step - loss: 0.3593 - accuracy: 0.8545 - val_loss: 0.3917 - val_accuracy: 0.8420\n",
            "Epoch 30/100\n",
            "1864/1864 [==============================] - 5s 3ms/step - loss: 0.3562 - accuracy: 0.8542 - val_loss: 0.3812 - val_accuracy: 0.8483\n",
            "Epoch 31/100\n",
            "1864/1864 [==============================] - 5s 3ms/step - loss: 0.3563 - accuracy: 0.8553 - val_loss: 0.3784 - val_accuracy: 0.8472\n",
            "Epoch 32/100\n",
            "1864/1864 [==============================] - 5s 3ms/step - loss: 0.3559 - accuracy: 0.8555 - val_loss: 0.3815 - val_accuracy: 0.8409\n",
            "Epoch 33/100\n",
            "1864/1864 [==============================] - 5s 3ms/step - loss: 0.3565 - accuracy: 0.8544 - val_loss: 0.3793 - val_accuracy: 0.8440\n",
            "Epoch 34/100\n",
            "1864/1864 [==============================] - 5s 3ms/step - loss: 0.3555 - accuracy: 0.8556 - val_loss: 0.4124 - val_accuracy: 0.8482\n",
            "Epoch 35/100\n",
            "1864/1864 [==============================] - 5s 3ms/step - loss: 0.3547 - accuracy: 0.8552 - val_loss: 0.3744 - val_accuracy: 0.8515\n",
            "Epoch 36/100\n",
            "1864/1864 [==============================] - 5s 3ms/step - loss: 0.3557 - accuracy: 0.8564 - val_loss: 0.3718 - val_accuracy: 0.8538\n",
            "Epoch 37/100\n",
            "1864/1864 [==============================] - 5s 3ms/step - loss: 0.3520 - accuracy: 0.8572 - val_loss: 0.3691 - val_accuracy: 0.8528\n",
            "Epoch 38/100\n",
            "1864/1864 [==============================] - 5s 3ms/step - loss: 0.3520 - accuracy: 0.8576 - val_loss: 0.3706 - val_accuracy: 0.8518\n",
            "Epoch 39/100\n",
            "1864/1864 [==============================] - 5s 3ms/step - loss: 0.3519 - accuracy: 0.8568 - val_loss: 0.3738 - val_accuracy: 0.8526\n",
            "Epoch 40/100\n",
            "1864/1864 [==============================] - 5s 3ms/step - loss: 0.3525 - accuracy: 0.8575 - val_loss: 0.3735 - val_accuracy: 0.8494\n",
            "Epoch 41/100\n",
            "1864/1864 [==============================] - 5s 3ms/step - loss: 0.3521 - accuracy: 0.8579 - val_loss: 0.3823 - val_accuracy: 0.8501\n",
            "Epoch 42/100\n",
            "1864/1864 [==============================] - 5s 3ms/step - loss: 0.3513 - accuracy: 0.8576 - val_loss: 0.3723 - val_accuracy: 0.8516\n",
            "Epoch 43/100\n",
            "1864/1864 [==============================] - 5s 3ms/step - loss: 0.3502 - accuracy: 0.8580 - val_loss: 0.3789 - val_accuracy: 0.8517\n",
            "Epoch 44/100\n",
            "1864/1864 [==============================] - 5s 3ms/step - loss: 0.3514 - accuracy: 0.8580 - val_loss: 0.3766 - val_accuracy: 0.8524\n",
            "Epoch 45/100\n",
            "1864/1864 [==============================] - 5s 3ms/step - loss: 0.3506 - accuracy: 0.8584 - val_loss: 0.3820 - val_accuracy: 0.8524\n",
            "Epoch 46/100\n",
            "1864/1864 [==============================] - 5s 3ms/step - loss: 0.3500 - accuracy: 0.8589 - val_loss: 0.3715 - val_accuracy: 0.8526\n",
            "Epoch 47/100\n",
            "1864/1864 [==============================] - 5s 3ms/step - loss: 0.3496 - accuracy: 0.8583 - val_loss: 0.3726 - val_accuracy: 0.8523\n",
            "Epoch 48/100\n",
            "1864/1864 [==============================] - 5s 3ms/step - loss: 0.3493 - accuracy: 0.8588 - val_loss: 0.3774 - val_accuracy: 0.8500\n",
            "Epoch 49/100\n",
            "1864/1864 [==============================] - 5s 3ms/step - loss: 0.3517 - accuracy: 0.8584 - val_loss: 0.3707 - val_accuracy: 0.8522\n",
            "Epoch 50/100\n",
            "1864/1864 [==============================] - 5s 3ms/step - loss: 0.3484 - accuracy: 0.8591 - val_loss: 0.3821 - val_accuracy: 0.8478\n",
            "Epoch 51/100\n",
            "1864/1864 [==============================] - 5s 3ms/step - loss: 0.3516 - accuracy: 0.8580 - val_loss: 0.3745 - val_accuracy: 0.8507\n",
            "Epoch 52/100\n",
            "1864/1864 [==============================] - 5s 3ms/step - loss: 0.3478 - accuracy: 0.8592 - val_loss: 0.3804 - val_accuracy: 0.8490\n",
            "Epoch 53/100\n",
            "1864/1864 [==============================] - 5s 3ms/step - loss: 0.3473 - accuracy: 0.8593 - val_loss: 0.3820 - val_accuracy: 0.8517\n",
            "Epoch 54/100\n",
            "1864/1864 [==============================] - 5s 3ms/step - loss: 0.3491 - accuracy: 0.8589 - val_loss: 0.3803 - val_accuracy: 0.8520\n",
            "Epoch 55/100\n",
            "1864/1864 [==============================] - 5s 3ms/step - loss: 0.3480 - accuracy: 0.8609 - val_loss: 0.3697 - val_accuracy: 0.8524\n",
            "Epoch 56/100\n",
            "1864/1864 [==============================] - 5s 3ms/step - loss: 0.3480 - accuracy: 0.8597 - val_loss: 0.3698 - val_accuracy: 0.8529\n",
            "Epoch 57/100\n",
            "1864/1864 [==============================] - 5s 3ms/step - loss: 0.3481 - accuracy: 0.8597 - val_loss: 0.3847 - val_accuracy: 0.8502\n",
            "Epoch 58/100\n",
            "1864/1864 [==============================] - 5s 3ms/step - loss: 0.3476 - accuracy: 0.8599 - val_loss: 0.3774 - val_accuracy: 0.8534\n",
            "Epoch 59/100\n",
            "1864/1864 [==============================] - 5s 3ms/step - loss: 0.3458 - accuracy: 0.8602 - val_loss: 0.3685 - val_accuracy: 0.8524\n",
            "Epoch 60/100\n",
            "1864/1864 [==============================] - 5s 3ms/step - loss: 0.3452 - accuracy: 0.8615 - val_loss: 0.3813 - val_accuracy: 0.8520\n",
            "Epoch 61/100\n",
            "1864/1864 [==============================] - 5s 3ms/step - loss: 0.3454 - accuracy: 0.8618 - val_loss: 0.3812 - val_accuracy: 0.8477\n",
            "Epoch 62/100\n",
            "1864/1864 [==============================] - 5s 3ms/step - loss: 0.3482 - accuracy: 0.8589 - val_loss: 0.3826 - val_accuracy: 0.8534\n",
            "Epoch 63/100\n",
            "1864/1864 [==============================] - 5s 3ms/step - loss: 0.3494 - accuracy: 0.8609 - val_loss: 0.3694 - val_accuracy: 0.8530\n",
            "Epoch 64/100\n",
            "1864/1864 [==============================] - 5s 3ms/step - loss: 0.3456 - accuracy: 0.8613 - val_loss: 0.3783 - val_accuracy: 0.8528\n",
            "Epoch 65/100\n",
            "1864/1864 [==============================] - 5s 3ms/step - loss: 0.3464 - accuracy: 0.8603 - val_loss: 0.3779 - val_accuracy: 0.8503\n",
            "Epoch 66/100\n",
            "1864/1864 [==============================] - 5s 3ms/step - loss: 0.3462 - accuracy: 0.8613 - val_loss: 0.3748 - val_accuracy: 0.8559\n",
            "Epoch 67/100\n",
            "1864/1864 [==============================] - 5s 3ms/step - loss: 0.3447 - accuracy: 0.8614 - val_loss: 0.3722 - val_accuracy: 0.8532\n",
            "Epoch 68/100\n",
            "1864/1864 [==============================] - 5s 3ms/step - loss: 0.3451 - accuracy: 0.8596 - val_loss: 0.3756 - val_accuracy: 0.8524\n",
            "Epoch 69/100\n",
            "1864/1864 [==============================] - 5s 3ms/step - loss: 0.3445 - accuracy: 0.8613 - val_loss: 0.3770 - val_accuracy: 0.8507\n",
            "Epoch 70/100\n",
            "1864/1864 [==============================] - 5s 3ms/step - loss: 0.3451 - accuracy: 0.8606 - val_loss: 0.3736 - val_accuracy: 0.8532\n",
            "Epoch 71/100\n",
            "1864/1864 [==============================] - 5s 3ms/step - loss: 0.3448 - accuracy: 0.8613 - val_loss: 0.3709 - val_accuracy: 0.8524\n",
            "Epoch 72/100\n",
            "1864/1864 [==============================] - 5s 3ms/step - loss: 0.3489 - accuracy: 0.8586 - val_loss: 0.3716 - val_accuracy: 0.8553\n",
            "Epoch 73/100\n",
            "1864/1864 [==============================] - 5s 3ms/step - loss: 0.3435 - accuracy: 0.8632 - val_loss: 0.3708 - val_accuracy: 0.8505\n",
            "Epoch 74/100\n",
            "1864/1864 [==============================] - 5s 3ms/step - loss: 0.3430 - accuracy: 0.8625 - val_loss: 0.3689 - val_accuracy: 0.8532\n",
            "Epoch 75/100\n",
            "1864/1864 [==============================] - 5s 3ms/step - loss: 0.3451 - accuracy: 0.8618 - val_loss: 0.3712 - val_accuracy: 0.8538\n",
            "Epoch 76/100\n",
            "1864/1864 [==============================] - 5s 3ms/step - loss: 0.3431 - accuracy: 0.8618 - val_loss: 0.3902 - val_accuracy: 0.8511\n",
            "Epoch 77/100\n",
            "1864/1864 [==============================] - 5s 3ms/step - loss: 0.3437 - accuracy: 0.8621 - val_loss: 0.3842 - val_accuracy: 0.8516\n",
            "Epoch 78/100\n",
            "1864/1864 [==============================] - 5s 3ms/step - loss: 0.3445 - accuracy: 0.8612 - val_loss: 0.3807 - val_accuracy: 0.8544\n",
            "Epoch 79/100\n",
            "1864/1864 [==============================] - 5s 3ms/step - loss: 0.3407 - accuracy: 0.8635 - val_loss: 0.3734 - val_accuracy: 0.8546\n",
            "Epoch 80/100\n",
            "1864/1864 [==============================] - 5s 3ms/step - loss: 0.3437 - accuracy: 0.8613 - val_loss: 0.3812 - val_accuracy: 0.8497\n",
            "Epoch 81/100\n",
            "1864/1864 [==============================] - 5s 3ms/step - loss: 0.3430 - accuracy: 0.8623 - val_loss: 0.3757 - val_accuracy: 0.8522\n",
            "Epoch 82/100\n",
            "1864/1864 [==============================] - 5s 3ms/step - loss: 0.3428 - accuracy: 0.8627 - val_loss: 0.3775 - val_accuracy: 0.8533\n",
            "Epoch 83/100\n",
            "1864/1864 [==============================] - 5s 3ms/step - loss: 0.3426 - accuracy: 0.8622 - val_loss: 0.3932 - val_accuracy: 0.8465\n",
            "Epoch 84/100\n",
            "1864/1864 [==============================] - 5s 3ms/step - loss: 0.3415 - accuracy: 0.8629 - val_loss: 0.3862 - val_accuracy: 0.8540\n",
            "Epoch 85/100\n",
            "1864/1864 [==============================] - 5s 3ms/step - loss: 0.3496 - accuracy: 0.8637 - val_loss: 0.3720 - val_accuracy: 0.8534\n",
            "Epoch 86/100\n",
            "1864/1864 [==============================] - 5s 3ms/step - loss: 0.3402 - accuracy: 0.8630 - val_loss: 0.3735 - val_accuracy: 0.8503\n",
            "Epoch 87/100\n",
            "1864/1864 [==============================] - 5s 3ms/step - loss: 0.3418 - accuracy: 0.8637 - val_loss: 0.3717 - val_accuracy: 0.8536\n",
            "Epoch 88/100\n",
            "1864/1864 [==============================] - 5s 3ms/step - loss: 0.3410 - accuracy: 0.8623 - val_loss: 0.3834 - val_accuracy: 0.8505\n",
            "Epoch 89/100\n",
            "1864/1864 [==============================] - 5s 3ms/step - loss: 0.3410 - accuracy: 0.8634 - val_loss: 0.3698 - val_accuracy: 0.8555\n",
            "Epoch 90/100\n",
            "1864/1864 [==============================] - 5s 3ms/step - loss: 0.3403 - accuracy: 0.8632 - val_loss: 0.3738 - val_accuracy: 0.8518\n",
            "Epoch 91/100\n",
            "1864/1864 [==============================] - 5s 3ms/step - loss: 0.3409 - accuracy: 0.8630 - val_loss: 0.3747 - val_accuracy: 0.8550\n",
            "Epoch 92/100\n",
            "1864/1864 [==============================] - 5s 3ms/step - loss: 0.3409 - accuracy: 0.8636 - val_loss: 0.3820 - val_accuracy: 0.8491\n",
            "Epoch 93/100\n",
            "1864/1864 [==============================] - 5s 3ms/step - loss: 0.3393 - accuracy: 0.8647 - val_loss: 0.3776 - val_accuracy: 0.8540\n",
            "Epoch 94/100\n",
            "1864/1864 [==============================] - 5s 3ms/step - loss: 0.3416 - accuracy: 0.8634 - val_loss: 0.3826 - val_accuracy: 0.8550\n",
            "Epoch 95/100\n",
            "1864/1864 [==============================] - 5s 3ms/step - loss: 0.3416 - accuracy: 0.8632 - val_loss: 0.3918 - val_accuracy: 0.8474\n",
            "Epoch 96/100\n",
            "1864/1864 [==============================] - 5s 3ms/step - loss: 0.3397 - accuracy: 0.8636 - val_loss: 0.3764 - val_accuracy: 0.8558\n",
            "Epoch 97/100\n",
            "1864/1864 [==============================] - 5s 3ms/step - loss: 0.3392 - accuracy: 0.8635 - val_loss: 0.3809 - val_accuracy: 0.8534\n",
            "Epoch 98/100\n",
            "1864/1864 [==============================] - 5s 3ms/step - loss: 0.3403 - accuracy: 0.8644 - val_loss: 0.3784 - val_accuracy: 0.8538\n",
            "Epoch 99/100\n",
            "1864/1864 [==============================] - 5s 3ms/step - loss: 0.3446 - accuracy: 0.8632 - val_loss: 0.3779 - val_accuracy: 0.8522\n",
            "Epoch 100/100\n",
            "1864/1864 [==============================] - 5s 3ms/step - loss: 0.3410 - accuracy: 0.8634 - val_loss: 0.3844 - val_accuracy: 0.8530\n"
          ]
        }
      ],
      "source": [
        "optimizer = tf.keras.optimizers.Adam(random_result.best_params_['lr'])\n",
        "estimator_v4.compile(loss='binary_crossentropy',optimizer=optimizer,metrics=['accuracy'])\n",
        "history_4=estimator_v4.fit(X_train, y_train, epochs=100, batch_size = random_result.best_params_['batch_size'], verbose=1,validation_split=0.2)"
      ],
      "id": "zXAKKF5-Cc6_"
    },
    {
      "cell_type": "code",
      "execution_count": 376,
      "metadata": {
        "id": "HgEwoP9sCc3t",
        "outputId": "f8f8490f-58e1-4343-e0f8-dc1b5d0a1846",
        "colab": {
          "base_uri": "https://localhost:8080/",
          "height": 295
        }
      },
      "outputs": [
        {
          "output_type": "display_data",
          "data": {
            "image/png": "[encoded data removed]",
            "text/plain": [
              "<Figure size 432x288 with 1 Axes>"
            ]
          },
          "metadata": {
            "needs_background": "light"
          }
        }
      ],
      "source": [
        "#Plotting Train Loss vs Validation Loss\n",
        "plt.plot(history_4.history['loss'])\n",
        "plt.plot(history_4.history['val_loss'])\n",
        "plt.title('model loss')\n",
        "plt.ylabel('Loss')\n",
        "plt.xlabel('Epoch')\n",
        "plt.legend(['train', 'validation'], loc='upper left')\n",
        "plt.show()"
      ],
      "id": "HgEwoP9sCc3t"
    },
    {
      "cell_type": "markdown",
      "metadata": {
        "id": "LTMrkTaiBR03"
      },
      "source": [
        "From the above plot, we observe that there is noise in the validation behavior of the model."
      ],
      "id": "LTMrkTaiBR03"
    },
    {
      "cell_type": "code",
      "execution_count": 377,
      "metadata": {
        "id": "2ZNcU-P8Cc1K",
        "outputId": "8c5f0648-a2ba-44ee-bda7-a96382384ed9",
        "colab": {
          "base_uri": "https://localhost:8080/",
          "height": 296
        }
      },
      "outputs": [
        {
          "output_type": "stream",
          "name": "stdout",
          "text": [
            "Best Threshold=0.235103, G-Mean=0.787\n"
          ]
        },
        {
          "output_type": "display_data",
          "data": {
            "image/png": "[encoded data removed]",
            "text/plain": [
              "<Figure size 432x288 with 1 Axes>"
            ]
          },
          "metadata": {
            "needs_background": "light"
          }
        }
      ],
      "source": [
        "from sklearn.metrics import roc_curve\n",
        "\n",
        "from matplotlib import pyplot\n",
        "\n",
        "\n",
        "# predict probabilities\n",
        "yhat4 = estimator_v4.predict(X_val)\n",
        "# keep probabilities for the positive outcome only\n",
        "yhat4 = yhat4[:, 0]\n",
        "# calculate roc curves\n",
        "fpr, tpr, thresholds4 = roc_curve(y_val, yhat4)\n",
        "# calculate the g-mean for each threshold\n",
        "gmeans4 = np.sqrt(tpr * (1-fpr))\n",
        "# locate the index of the largest g-mean\n",
        "ix = np.argmax(gmeans4)\n",
        "print('Best Threshold=%f, G-Mean=%.3f' % (thresholds4[ix], gmeans4[ix]))\n",
        "# plot the roc curve for the model\n",
        "pyplot.plot([0,1], [0,1], linestyle='--', label='No Skill')\n",
        "pyplot.plot(fpr, tpr, marker='.')\n",
        "pyplot.scatter(fpr[ix], tpr[ix], marker='o', color='black', label='Best')\n",
        "# axis labels\n",
        "pyplot.xlabel('False Positive Rate')\n",
        "pyplot.ylabel('True Positive Rate')\n",
        "pyplot.legend()\n",
        "# show the plot\n",
        "pyplot.show()"
      ],
      "id": "2ZNcU-P8Cc1K"
    },
    {
      "cell_type": "code",
      "execution_count": 378,
      "metadata": {
        "id": "QnPU-3mlCcyH",
        "outputId": "2fc76bd1-47cf-4370-93eb-e39a328eda2c",
        "colab": {
          "base_uri": "https://localhost:8080/"
        }
      },
      "outputs": [
        {
          "output_type": "execute_result",
          "data": {
            "text/plain": [
              "array([[False],\n",
              "       [ True],\n",
              "       [ True],\n",
              "       ...,\n",
              "       [False],\n",
              "       [ True],\n",
              "       [False]])"
            ]
          },
          "metadata": {},
          "execution_count": 378
        }
      ],
      "source": [
        "y_pred_e4=estimator_v4.predict(X_val)\n",
        "y_pred_e4 = (y_pred_e4 > thresholds4[ix])\n",
        "y_pred_e4"
      ],
      "id": "QnPU-3mlCcyH"
    },
    {
      "cell_type": "code",
      "execution_count": 379,
      "metadata": {
        "id": "GNEWU9sCCcvb",
        "outputId": "58a1818a-9638-494e-9d70-7ac0b831a157",
        "colab": {
          "base_uri": "https://localhost:8080/",
          "height": 423
        }
      },
      "outputs": [
        {
          "output_type": "display_data",
          "data": {
            "image/png": "[encoded data removed]",
            "text/plain": [
              "<Figure size 432x288 with 2 Axes>"
            ]
          },
          "metadata": {
            "needs_background": "light"
          }
        }
      ],
      "source": [
        "#Calculating the confusion matrix \n",
        "from sklearn.metrics import confusion_matrix\n",
        "cm4=confusion_matrix(y_val, y_pred_e4)\n",
        "labels = ['True Positive','False Negative','False Positive','True Negative']\n",
        "categories = [ 'Customer did not leave the bank','Customer left the bank']\n",
        "make_confusion_matrix(cm4, \n",
        "                      group_names=labels,\n",
        "                      categories=categories, \n",
        "                      cmap='Blues')"
      ],
      "id": "GNEWU9sCCcvb"
    },
    {
      "cell_type": "code",
      "execution_count": 380,
      "metadata": {
        "id": "xiELRVysCcsZ",
        "outputId": "928eccc4-ac22-491d-9373-1a0d59f14d22",
        "colab": {
          "base_uri": "https://localhost:8080/"
        }
      },
      "outputs": [
        {
          "output_type": "stream",
          "name": "stdout",
          "text": [
            "              precision    recall  f1-score   support\n",
            "\n",
            "           0       0.91      0.84      0.88     14209\n",
            "           1       0.60      0.73      0.66      4426\n",
            "\n",
            "    accuracy                           0.82     18635\n",
            "   macro avg       0.75      0.79      0.77     18635\n",
            "weighted avg       0.84      0.82      0.82     18635\n",
            "\n"
          ]
        }
      ],
      "source": [
        "#Accuracy as per the classification report \n",
        "from sklearn import metrics\n",
        "cr4=metrics.classification_report(y_val,y_pred_e4)\n",
        "print(cr4)"
      ],
      "id": "xiELRVysCcsZ"
    },
    {
      "cell_type": "markdown",
      "metadata": {
        "id": "YJyvzz9zMu9D"
      },
      "source": [
        "Hyperparameter tuning is used here to get a better F1 score, but the F1 score may differ each time. \n",
        "\n",
        "Other hyperparameters can also be tuned to get better performance on the metrics. \n",
        "\n",
        "Here, the F1 score of the model has increased in comparison to the previous best performance. \n",
        "\n",
        "Let's use the more exhaustive Grid Search CV and see if the F1 score increases. "
      ],
      "id": "YJyvzz9zMu9D"
    },
    {
      "cell_type": "markdown",
      "source": [
        "## **Predict Test Data**"
      ],
      "metadata": {
        "id": "zlk5ZzhR46Rv"
      },
      "id": "zlk5ZzhR46Rv"
    },
    {
      "cell_type": "code",
      "source": [
        "test_predict = estimator_v4.predict(df_test)\n",
        "test_predict = (test_predict > thresholds4[ix])"
      ],
      "metadata": {
        "id": "-wz0kLTGl_P9"
      },
      "execution_count": 381,
      "outputs": [],
      "id": "-wz0kLTGl_P9"
    },
    {
      "cell_type": "code",
      "source": [
        "res = pd.DataFrame(test_predict)\n",
        "#res.index = Data_test.index # its important for comparison\n"
      ],
      "metadata": {
        "id": "w5hsMgNx4lCl"
      },
      "execution_count": 382,
      "outputs": [],
      "id": "w5hsMgNx4lCl"
    },
    {
      "cell_type": "code",
      "source": [
        "res.head"
      ],
      "metadata": {
        "colab": {
          "base_uri": "https://localhost:8080/"
        },
        "id": "oWuXnz1c9bCV",
        "outputId": "01fb1e18-4c31-43f3-8f88-9eb45b41d893"
      },
      "id": "oWuXnz1c9bCV",
      "execution_count": 383,
      "outputs": [
        {
          "output_type": "execute_result",
          "data": {
            "text/plain": [
              "<bound method NDFrame.head of            0\n",
              "0      False\n",
              "1      False\n",
              "2      False\n",
              "3      False\n",
              "4      False\n",
              "...      ...\n",
              "39928  False\n",
              "39929  False\n",
              "39930  False\n",
              "39931  False\n",
              "39932  False\n",
              "\n",
              "[39933 rows x 1 columns]>"
            ]
          },
          "metadata": {},
          "execution_count": 383
        }
      ]
    },
    {
      "cell_type": "code",
      "source": [
        "res.columns = [\"default\"]\n",
        "final_result = pd.merge(Data_test, res, left_index=True, right_index=True)"
      ],
      "metadata": {
        "id": "QZa_laOP3Ldx"
      },
      "id": "QZa_laOP3Ldx",
      "execution_count": 384,
      "outputs": []
    },
    {
      "cell_type": "code",
      "source": [
        "final_result.head"
      ],
      "metadata": {
        "colab": {
          "base_uri": "https://localhost:8080/"
        },
        "id": "V8pWq5pNBr91",
        "outputId": "6818cbc3-99c0-4c7c-9926-f7926bdb210f"
      },
      "id": "V8pWq5pNBr91",
      "execution_count": 385,
      "outputs": [
        {
          "output_type": "execute_result",
          "data": {
            "text/plain": [
              "<bound method NDFrame.head of              ID  loan_amnt  ... total_revolving_limit  default\n",
              "0       4855329      12000  ...               25800.0    False\n",
              "1      66862420      12000  ...               23600.0    False\n",
              "2       3637416      15000  ...               34100.0    False\n",
              "3      53682249      12000  ...               21700.0    False\n",
              "4      53937165      20150  ...               12000.0    False\n",
              "...         ...        ...  ...                   ...      ...\n",
              "39928  57779318       5000  ...               26100.0    False\n",
              "39929  59742362       1800  ...               29200.0    False\n",
              "39930  72657145      15200  ...               45400.0    False\n",
              "39931  15220189      14425  ...               19700.0    False\n",
              "39932  21810584      27000  ...               33500.0    False\n",
              "\n",
              "[39933 rows x 23 columns]>"
            ]
          },
          "metadata": {},
          "execution_count": 385
        }
      ]
    },
    {
      "cell_type": "code",
      "source": [
        "final_result[\"default\"].value_counts()"
      ],
      "metadata": {
        "colab": {
          "base_uri": "https://localhost:8080/"
        },
        "id": "w2aHGQljEZio",
        "outputId": "a4e801de-e89a-4928-9117-56cbe0e0cd62"
      },
      "id": "w2aHGQljEZio",
      "execution_count": 386,
      "outputs": [
        {
          "output_type": "execute_result",
          "data": {
            "text/plain": [
              "False    39511\n",
              "True       422\n",
              "Name: default, dtype: int64"
            ]
          },
          "metadata": {},
          "execution_count": 386
        }
      ]
    },
    {
      "cell_type": "code",
      "source": [
        "final_result.info()"
      ],
      "metadata": {
        "colab": {
          "base_uri": "https://localhost:8080/"
        },
        "id": "-8wkpv7QPXvk",
        "outputId": "1e6661cc-4d8c-4f97-de89-923dc6e9d44e"
      },
      "id": "-8wkpv7QPXvk",
      "execution_count": 387,
      "outputs": [
        {
          "output_type": "stream",
          "name": "stdout",
          "text": [
            "<class 'pandas.core.frame.DataFrame'>\n",
            "RangeIndex: 39933 entries, 0 to 39932\n",
            "Data columns (total 23 columns):\n",
            " #   Column                      Non-Null Count  Dtype  \n",
            "---  ------                      --------------  -----  \n",
            " 0   ID                          39933 non-null  int64  \n",
            " 1   loan_amnt                   39933 non-null  int64  \n",
            " 2   loan_term                   39933 non-null  object \n",
            " 3   interest_rate               39933 non-null  float64\n",
            " 4   loan_grade                  39933 non-null  object \n",
            " 5   loan_subgrade               39933 non-null  object \n",
            " 6   job_experience              37844 non-null  object \n",
            " 7   home_ownership              39933 non-null  object \n",
            " 8   annual_income               39933 non-null  float64\n",
            " 9   income_verification_status  39933 non-null  object \n",
            " 10  loan_purpose                39933 non-null  object \n",
            " 11  state_code                  39933 non-null  object \n",
            " 12  debt_to_income              39933 non-null  float64\n",
            " 13  delinq_2yrs                 39932 non-null  float64\n",
            " 14  public_records              39932 non-null  float64\n",
            " 15  revolving_balance           39933 non-null  int64  \n",
            " 16  total_acc                   39932 non-null  float64\n",
            " 17  interest_receive            39933 non-null  float64\n",
            " 18  application_type            39933 non-null  object \n",
            " 19  last_week_pay               39127 non-null  float64\n",
            " 20  total_current_balance       36703 non-null  float64\n",
            " 21  total_revolving_limit       36703 non-null  float64\n",
            " 22  default                     39933 non-null  bool   \n",
            "dtypes: bool(1), float64(10), int64(3), object(9)\n",
            "memory usage: 6.7+ MB\n"
          ]
        }
      ]
    },
    {
      "cell_type": "code",
      "source": [
        "final_result[\"default\"] = final_result[\"default\"].astype(int)"
      ],
      "metadata": {
        "id": "_tb74NwoPiid"
      },
      "id": "_tb74NwoPiid",
      "execution_count": 388,
      "outputs": []
    },
    {
      "cell_type": "code",
      "source": [
        "final_result[\"default\"].value_counts()"
      ],
      "metadata": {
        "colab": {
          "base_uri": "https://localhost:8080/"
        },
        "id": "zRUHHhJEP4BX",
        "outputId": "026c17bd-b545-4f98-d314-d4416118cb86"
      },
      "id": "zRUHHhJEP4BX",
      "execution_count": 389,
      "outputs": [
        {
          "output_type": "execute_result",
          "data": {
            "text/plain": [
              "0    39511\n",
              "1      422\n",
              "Name: default, dtype: int64"
            ]
          },
          "metadata": {},
          "execution_count": 389
        }
      ]
    },
    {
      "cell_type": "code",
      "source": [
        "final_result.to_csv(\"/content/drive/MyDrive/Colab Notebooks/Data/Hackathons/prediction_results.csv\", columns=[\"ID\" , \"default\"],index=False)"
      ],
      "metadata": {
        "id": "NG8f33F-9XvE"
      },
      "id": "NG8f33F-9XvE",
      "execution_count": 390,
      "outputs": []
    },
    {
      "cell_type": "code",
      "source": [
        ""
      ],
      "metadata": {
        "id": "E9bR1h5oCnUD"
      },
      "id": "E9bR1h5oCnUD",
      "execution_count": null,
      "outputs": []
    }
  ],
  "metadata": {
    "kernelspec": {
      "display_name": "Python 3",
      "language": "python",
      "name": "python3"
    },
    "language_info": {
      "codemirror_mode": {
        "name": "ipython",
        "version": 3
      },
      "file_extension": ".py",
      "mimetype": "text/x-python",
      "name": "python",
      "nbconvert_exporter": "python",
      "pygments_lexer": "ipython3",
      "version": "3.8.8"
    },
    "colab": {
      "name": "NBFC Loan Default_Test model.ipynb",
      "provenance": [],
      "machine_shape": "hm"
    },
    "accelerator": "GPU"
  },
  "nbformat": 4,
  "nbformat_minor": 5
}