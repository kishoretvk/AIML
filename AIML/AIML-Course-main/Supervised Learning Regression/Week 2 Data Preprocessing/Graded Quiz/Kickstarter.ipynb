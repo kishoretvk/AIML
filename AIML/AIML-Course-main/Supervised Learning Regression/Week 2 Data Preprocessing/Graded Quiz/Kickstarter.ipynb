{
 "cells": [
  {
   "cell_type": "markdown",
   "id": "f0d12a1c",
   "metadata": {},
   "source": [
    "#### Problem Statement:\n",
    "Kickstarter is a crowdfunding website where people can ask people to invest in various projects and concept products. They have provided data having different attributes of a project like its name, category, the currency of funding, deadline for crowdfunding, goal and raised amounts for funding, etc.\n",
    "\n",
    " \n",
    "\n",
    "#### Attribute information:\n",
    "\n",
    "1. id - project id\n",
    "2. name - project name\n",
    "3. subcategory - project subcategory\n",
    "4. category - project category\n",
    "5. currency - project currency\n",
    "6. deadline - deadline for crowdfunding on Kickstarter\n",
    "7. goal - goal amount in project currency\n",
    "8. launched - launch date on Kickstarter\n",
    "9. pledged - pledged (raised) amount in the project currency\n",
    "10. state - project state\n",
    "11. backers - count of backers\n",
    "12. country - project country\n",
    "13. usd_pledged_real - pledged (raised) amount in USD\n",
    "14. usd_goal_real - goal amount in USD\n",
    " \n",
    "\n",
    "#### Kindly go through these guidelines before you attempt the quiz:\n",
    "\n",
    "1. Use random_state=1 wherever this parameter can be used.\n",
    "2. Ensure there is a proper internet connection while taking up the quiz. Any breakup in the connection will automatically submit your quiz.\n",
    "3. Only attempt the quiz when you are prepared and have enough time on your hands to finish it. Please ensure you attempt the quiz well before the due date. No extension will be provided for any quiz once the deadline is passed.\n",
    "4. The quiz once opened, must be completed within the time frame provided. You CANNOT start the quiz, leave it unattended for an extended period of time and come back later to finish.\n",
    "5. No re-attempts will be provided if the quiz gets submitted for any of the above-mentioned reasons.\n",
    "6. If you face any other technical issues on Olympus, you should share the screenshot with your Program Manager so that the team can understand and resolve it on priority."
   ]
  },
  {
   "cell_type": "code",
   "execution_count": 1,
   "id": "eeadb210",
   "metadata": {},
   "outputs": [
    {
     "data": {
      "application/javascript": [
       "\n",
       "            setTimeout(function() {\n",
       "                var nbb_cell_id = 1;\n",
       "                var nbb_unformatted_code = \"# this will help in making the Python code more structured automatically (good coding practice)\\n%load_ext nb_black\\n\\n# Libraries to help with reading and manipulating data\\nimport numpy as np\\nimport pandas as pd\\n\\n# Libraries to help with data visualization\\nimport matplotlib.pyplot as plt\\nimport seaborn as sns\\n\\nsns.set()\\n\\n# Removes the limit for the number of displayed columns\\npd.set_option(\\\"display.max_columns\\\", None)\\n# Sets the limit for the number of displayed rows\\npd.set_option(\\\"display.max_rows\\\", 200)\\n\\n# to split the data into train and test\\nfrom sklearn.model_selection import train_test_split\\n\\n# to build linear regression_model\\nfrom sklearn.linear_model import LinearRegression\\n\\n# to check model performance\\nfrom sklearn.metrics import mean_absolute_error, mean_squared_error, r2_score\";\n",
       "                var nbb_formatted_code = \"# this will help in making the Python code more structured automatically (good coding practice)\\n%load_ext nb_black\\n\\n# Libraries to help with reading and manipulating data\\nimport numpy as np\\nimport pandas as pd\\n\\n# Libraries to help with data visualization\\nimport matplotlib.pyplot as plt\\nimport seaborn as sns\\n\\nsns.set()\\n\\n# Removes the limit for the number of displayed columns\\npd.set_option(\\\"display.max_columns\\\", None)\\n# Sets the limit for the number of displayed rows\\npd.set_option(\\\"display.max_rows\\\", 200)\\n\\n# to split the data into train and test\\nfrom sklearn.model_selection import train_test_split\\n\\n# to build linear regression_model\\nfrom sklearn.linear_model import LinearRegression\\n\\n# to check model performance\\nfrom sklearn.metrics import mean_absolute_error, mean_squared_error, r2_score\";\n",
       "                var nbb_cells = Jupyter.notebook.get_cells();\n",
       "                for (var i = 0; i < nbb_cells.length; ++i) {\n",
       "                    if (nbb_cells[i].input_prompt_number == nbb_cell_id) {\n",
       "                        if (nbb_cells[i].get_text() == nbb_unformatted_code) {\n",
       "                             nbb_cells[i].set_text(nbb_formatted_code);\n",
       "                        }\n",
       "                        break;\n",
       "                    }\n",
       "                }\n",
       "            }, 500);\n",
       "            "
      ],
      "text/plain": [
       "<IPython.core.display.Javascript object>"
      ]
     },
     "metadata": {},
     "output_type": "display_data"
    }
   ],
   "source": [
    "# this will help in making the Python code more structured automatically (good coding practice)\n",
    "%load_ext nb_black\n",
    "\n",
    "# Libraries to help with reading and manipulating data\n",
    "import numpy as np\n",
    "import pandas as pd\n",
    "\n",
    "# Libraries to help with data visualization\n",
    "import matplotlib.pyplot as plt\n",
    "import seaborn as sns\n",
    "\n",
    "sns.set()\n",
    "\n",
    "# Removes the limit for the number of displayed columns\n",
    "pd.set_option(\"display.max_columns\", None)\n",
    "# Sets the limit for the number of displayed rows\n",
    "pd.set_option(\"display.max_rows\", 200)\n",
    "\n",
    "# to split the data into train and test\n",
    "from sklearn.model_selection import train_test_split\n",
    "\n",
    "# to build linear regression_model\n",
    "from sklearn.linear_model import LinearRegression\n",
    "\n",
    "# to check model performance\n",
    "from sklearn.metrics import mean_absolute_error, mean_squared_error, r2_score"
   ]
  },
  {
   "cell_type": "code",
   "execution_count": 2,
   "id": "87a01a64",
   "metadata": {},
   "outputs": [
    {
     "data": {
      "application/javascript": [
       "\n",
       "            setTimeout(function() {\n",
       "                var nbb_cell_id = 2;\n",
       "                var nbb_unformatted_code = \"# loading the dataset\\ndf = pd.read_csv(\\\"KickStarterProjects.csv\\\")\";\n",
       "                var nbb_formatted_code = \"# loading the dataset\\ndf = pd.read_csv(\\\"KickStarterProjects.csv\\\")\";\n",
       "                var nbb_cells = Jupyter.notebook.get_cells();\n",
       "                for (var i = 0; i < nbb_cells.length; ++i) {\n",
       "                    if (nbb_cells[i].input_prompt_number == nbb_cell_id) {\n",
       "                        if (nbb_cells[i].get_text() == nbb_unformatted_code) {\n",
       "                             nbb_cells[i].set_text(nbb_formatted_code);\n",
       "                        }\n",
       "                        break;\n",
       "                    }\n",
       "                }\n",
       "            }, 500);\n",
       "            "
      ],
      "text/plain": [
       "<IPython.core.display.Javascript object>"
      ]
     },
     "metadata": {},
     "output_type": "display_data"
    }
   ],
   "source": [
    "# loading the dataset\n",
    "df = pd.read_csv(\"KickStarterProjects.csv\")"
   ]
  },
  {
   "cell_type": "code",
   "execution_count": 3,
   "id": "77fdfcbd",
   "metadata": {},
   "outputs": [
    {
     "name": "stdout",
     "output_type": "stream",
     "text": [
      "There are 378661 rows and 14 columns.\n"
     ]
    },
    {
     "data": {
      "text/html": [
       "<div>\n",
       "<style scoped>\n",
       "    .dataframe tbody tr th:only-of-type {\n",
       "        vertical-align: middle;\n",
       "    }\n",
       "\n",
       "    .dataframe tbody tr th {\n",
       "        vertical-align: top;\n",
       "    }\n",
       "\n",
       "    .dataframe thead th {\n",
       "        text-align: right;\n",
       "    }\n",
       "</style>\n",
       "<table border=\"1\" class=\"dataframe\">\n",
       "  <thead>\n",
       "    <tr style=\"text-align: right;\">\n",
       "      <th></th>\n",
       "      <th>ID</th>\n",
       "      <th>name</th>\n",
       "      <th>subcategory</th>\n",
       "      <th>category</th>\n",
       "      <th>currency</th>\n",
       "      <th>deadline</th>\n",
       "      <th>goal</th>\n",
       "      <th>launched</th>\n",
       "      <th>pledged</th>\n",
       "      <th>state</th>\n",
       "      <th>backers</th>\n",
       "      <th>country</th>\n",
       "      <th>usd_pledged_real</th>\n",
       "      <th>usd_goal_real</th>\n",
       "    </tr>\n",
       "  </thead>\n",
       "  <tbody>\n",
       "    <tr>\n",
       "      <th>99838</th>\n",
       "      <td>1506962323</td>\n",
       "      <td>2018 Comic Con/ Horror Con/ GMCC</td>\n",
       "      <td>Art</td>\n",
       "      <td>Art</td>\n",
       "      <td>USD</td>\n",
       "      <td>10-10-2017</td>\n",
       "      <td>600.0</td>\n",
       "      <td>31-08-2017 04:05</td>\n",
       "      <td>600.00</td>\n",
       "      <td>successful</td>\n",
       "      <td>4</td>\n",
       "      <td>US</td>\n",
       "      <td>600.00</td>\n",
       "      <td>600.00</td>\n",
       "    </tr>\n",
       "    <tr>\n",
       "      <th>15731</th>\n",
       "      <td>1079621785</td>\n",
       "      <td>Ixion's The Four Disgracers</td>\n",
       "      <td>Theater</td>\n",
       "      <td>Theater</td>\n",
       "      <td>USD</td>\n",
       "      <td>26-04-2014</td>\n",
       "      <td>3500.0</td>\n",
       "      <td>27-03-2014 20:21</td>\n",
       "      <td>2920.00</td>\n",
       "      <td>failed</td>\n",
       "      <td>54</td>\n",
       "      <td>US</td>\n",
       "      <td>2920.00</td>\n",
       "      <td>3500.00</td>\n",
       "    </tr>\n",
       "    <tr>\n",
       "      <th>339459</th>\n",
       "      <td>799118140</td>\n",
       "      <td>Irving Comics Inc. (Canceled)</td>\n",
       "      <td>Comics</td>\n",
       "      <td>Comics</td>\n",
       "      <td>USD</td>\n",
       "      <td>16-04-2015</td>\n",
       "      <td>10000.0</td>\n",
       "      <td>17-03-2015 20:58</td>\n",
       "      <td>75.00</td>\n",
       "      <td>canceled</td>\n",
       "      <td>1</td>\n",
       "      <td>US</td>\n",
       "      <td>75.00</td>\n",
       "      <td>10000.00</td>\n",
       "    </tr>\n",
       "    <tr>\n",
       "      <th>100211</th>\n",
       "      <td>1508896926</td>\n",
       "      <td>Breakaway</td>\n",
       "      <td>Shorts</td>\n",
       "      <td>Film &amp; Video</td>\n",
       "      <td>USD</td>\n",
       "      <td>17-10-2011</td>\n",
       "      <td>5000.0</td>\n",
       "      <td>16-09-2011 20:11</td>\n",
       "      <td>5365.00</td>\n",
       "      <td>successful</td>\n",
       "      <td>60</td>\n",
       "      <td>US</td>\n",
       "      <td>5365.00</td>\n",
       "      <td>5000.00</td>\n",
       "    </tr>\n",
       "    <tr>\n",
       "      <th>170820</th>\n",
       "      <td>1869016023</td>\n",
       "      <td>the Atomic Café Mobile</td>\n",
       "      <td>Drinks</td>\n",
       "      <td>Food</td>\n",
       "      <td>USD</td>\n",
       "      <td>19-06-2015</td>\n",
       "      <td>5000.0</td>\n",
       "      <td>20-05-2015 10:47</td>\n",
       "      <td>5111.06</td>\n",
       "      <td>successful</td>\n",
       "      <td>53</td>\n",
       "      <td>US</td>\n",
       "      <td>5111.06</td>\n",
       "      <td>5000.00</td>\n",
       "    </tr>\n",
       "    <tr>\n",
       "      <th>75113</th>\n",
       "      <td>1382708884</td>\n",
       "      <td>Shaken</td>\n",
       "      <td>Dance</td>\n",
       "      <td>Dance</td>\n",
       "      <td>USD</td>\n",
       "      <td>11-04-2011</td>\n",
       "      <td>2000.0</td>\n",
       "      <td>11-03-2011 05:13</td>\n",
       "      <td>2615.00</td>\n",
       "      <td>successful</td>\n",
       "      <td>51</td>\n",
       "      <td>US</td>\n",
       "      <td>2615.00</td>\n",
       "      <td>2000.00</td>\n",
       "    </tr>\n",
       "    <tr>\n",
       "      <th>258934</th>\n",
       "      <td>386894220</td>\n",
       "      <td>Happiness Ambassador Postcard Project Year: 20...</td>\n",
       "      <td>Mixed Media</td>\n",
       "      <td>Art</td>\n",
       "      <td>USD</td>\n",
       "      <td>29-09-2012</td>\n",
       "      <td>800.0</td>\n",
       "      <td>15-09-2012 01:29</td>\n",
       "      <td>80.00</td>\n",
       "      <td>failed</td>\n",
       "      <td>3</td>\n",
       "      <td>US</td>\n",
       "      <td>80.00</td>\n",
       "      <td>800.00</td>\n",
       "    </tr>\n",
       "    <tr>\n",
       "      <th>178566</th>\n",
       "      <td>19084902</td>\n",
       "      <td>Unlikely Friends (Short Film)</td>\n",
       "      <td>Drama</td>\n",
       "      <td>Film &amp; Video</td>\n",
       "      <td>GBP</td>\n",
       "      <td>13-03-2015</td>\n",
       "      <td>150.0</td>\n",
       "      <td>03-02-2015 09:49</td>\n",
       "      <td>5.00</td>\n",
       "      <td>failed</td>\n",
       "      <td>1</td>\n",
       "      <td>GB</td>\n",
       "      <td>7.39</td>\n",
       "      <td>221.71</td>\n",
       "    </tr>\n",
       "    <tr>\n",
       "      <th>33859</th>\n",
       "      <td>1171932479</td>\n",
       "      <td>Would you help a MONSTER make music? Yes or No?</td>\n",
       "      <td>Classical Music</td>\n",
       "      <td>Music</td>\n",
       "      <td>USD</td>\n",
       "      <td>21-09-2014</td>\n",
       "      <td>2000.0</td>\n",
       "      <td>22-08-2014 18:01</td>\n",
       "      <td>2778.00</td>\n",
       "      <td>successful</td>\n",
       "      <td>30</td>\n",
       "      <td>US</td>\n",
       "      <td>2778.00</td>\n",
       "      <td>2000.00</td>\n",
       "    </tr>\n",
       "    <tr>\n",
       "      <th>278069</th>\n",
       "      <td>484824490</td>\n",
       "      <td>Dracula: Son of the Dragon</td>\n",
       "      <td>Comics</td>\n",
       "      <td>Comics</td>\n",
       "      <td>USD</td>\n",
       "      <td>17-04-2013</td>\n",
       "      <td>14000.0</td>\n",
       "      <td>18-03-2013 16:54</td>\n",
       "      <td>15172.66</td>\n",
       "      <td>successful</td>\n",
       "      <td>329</td>\n",
       "      <td>US</td>\n",
       "      <td>15172.66</td>\n",
       "      <td>14000.00</td>\n",
       "    </tr>\n",
       "  </tbody>\n",
       "</table>\n",
       "</div>"
      ],
      "text/plain": [
       "                ID                                               name  \\\n",
       "99838   1506962323                   2018 Comic Con/ Horror Con/ GMCC   \n",
       "15731   1079621785                        Ixion's The Four Disgracers   \n",
       "339459   799118140                      Irving Comics Inc. (Canceled)   \n",
       "100211  1508896926                                          Breakaway   \n",
       "170820  1869016023                             the Atomic Café Mobile   \n",
       "75113   1382708884                                             Shaken   \n",
       "258934   386894220  Happiness Ambassador Postcard Project Year: 20...   \n",
       "178566    19084902                      Unlikely Friends (Short Film)   \n",
       "33859   1171932479    Would you help a MONSTER make music? Yes or No?   \n",
       "278069   484824490                         Dracula: Son of the Dragon   \n",
       "\n",
       "            subcategory      category currency    deadline     goal  \\\n",
       "99838               Art           Art      USD  10-10-2017    600.0   \n",
       "15731           Theater       Theater      USD  26-04-2014   3500.0   \n",
       "339459           Comics        Comics      USD  16-04-2015  10000.0   \n",
       "100211           Shorts  Film & Video      USD  17-10-2011   5000.0   \n",
       "170820           Drinks          Food      USD  19-06-2015   5000.0   \n",
       "75113             Dance         Dance      USD  11-04-2011   2000.0   \n",
       "258934      Mixed Media           Art      USD  29-09-2012    800.0   \n",
       "178566            Drama  Film & Video      GBP  13-03-2015    150.0   \n",
       "33859   Classical Music         Music      USD  21-09-2014   2000.0   \n",
       "278069           Comics        Comics      USD  17-04-2013  14000.0   \n",
       "\n",
       "                launched   pledged       state  backers country  \\\n",
       "99838   31-08-2017 04:05    600.00  successful        4      US   \n",
       "15731   27-03-2014 20:21   2920.00      failed       54      US   \n",
       "339459  17-03-2015 20:58     75.00    canceled        1      US   \n",
       "100211  16-09-2011 20:11   5365.00  successful       60      US   \n",
       "170820  20-05-2015 10:47   5111.06  successful       53      US   \n",
       "75113   11-03-2011 05:13   2615.00  successful       51      US   \n",
       "258934  15-09-2012 01:29     80.00      failed        3      US   \n",
       "178566  03-02-2015 09:49      5.00      failed        1      GB   \n",
       "33859   22-08-2014 18:01   2778.00  successful       30      US   \n",
       "278069  18-03-2013 16:54  15172.66  successful      329      US   \n",
       "\n",
       "        usd_pledged_real  usd_goal_real  \n",
       "99838             600.00         600.00  \n",
       "15731            2920.00        3500.00  \n",
       "339459             75.00       10000.00  \n",
       "100211           5365.00        5000.00  \n",
       "170820           5111.06        5000.00  \n",
       "75113            2615.00        2000.00  \n",
       "258934             80.00         800.00  \n",
       "178566              7.39         221.71  \n",
       "33859            2778.00        2000.00  \n",
       "278069          15172.66       14000.00  "
      ]
     },
     "execution_count": 3,
     "metadata": {},
     "output_type": "execute_result"
    },
    {
     "data": {
      "application/javascript": [
       "\n",
       "            setTimeout(function() {\n",
       "                var nbb_cell_id = 3;\n",
       "                var nbb_unformatted_code = \"# checking shape of the data\\nprint(f\\\"There are {df.shape[0]} rows and {df.shape[1]} columns.\\\")  # f-string\\n\\n# I'm now going to look at 10 random rows\\n# I'm setting the random seed via np.random.seed so that\\n# I get the same random results every time\\nnp.random.seed(1)\\ndf.sample(n=10)\";\n",
       "                var nbb_formatted_code = \"# checking shape of the data\\nprint(f\\\"There are {df.shape[0]} rows and {df.shape[1]} columns.\\\")  # f-string\\n\\n# I'm now going to look at 10 random rows\\n# I'm setting the random seed via np.random.seed so that\\n# I get the same random results every time\\nnp.random.seed(1)\\ndf.sample(n=10)\";\n",
       "                var nbb_cells = Jupyter.notebook.get_cells();\n",
       "                for (var i = 0; i < nbb_cells.length; ++i) {\n",
       "                    if (nbb_cells[i].input_prompt_number == nbb_cell_id) {\n",
       "                        if (nbb_cells[i].get_text() == nbb_unformatted_code) {\n",
       "                             nbb_cells[i].set_text(nbb_formatted_code);\n",
       "                        }\n",
       "                        break;\n",
       "                    }\n",
       "                }\n",
       "            }, 500);\n",
       "            "
      ],
      "text/plain": [
       "<IPython.core.display.Javascript object>"
      ]
     },
     "metadata": {},
     "output_type": "display_data"
    }
   ],
   "source": [
    "# checking shape of the data\n",
    "print(f\"There are {df.shape[0]} rows and {df.shape[1]} columns.\")  # f-string\n",
    "\n",
    "# I'm now going to look at 10 random rows\n",
    "# I'm setting the random seed via np.random.seed so that\n",
    "# I get the same random results every time\n",
    "np.random.seed(1)\n",
    "df.sample(n=10)"
   ]
  },
  {
   "cell_type": "code",
   "execution_count": 4,
   "id": "fa3bcc0b",
   "metadata": {},
   "outputs": [
    {
     "data": {
      "text/html": [
       "<div>\n",
       "<style scoped>\n",
       "    .dataframe tbody tr th:only-of-type {\n",
       "        vertical-align: middle;\n",
       "    }\n",
       "\n",
       "    .dataframe tbody tr th {\n",
       "        vertical-align: top;\n",
       "    }\n",
       "\n",
       "    .dataframe thead th {\n",
       "        text-align: right;\n",
       "    }\n",
       "</style>\n",
       "<table border=\"1\" class=\"dataframe\">\n",
       "  <thead>\n",
       "    <tr style=\"text-align: right;\">\n",
       "      <th></th>\n",
       "      <th>ID</th>\n",
       "      <th>name</th>\n",
       "      <th>subcategory</th>\n",
       "      <th>category</th>\n",
       "      <th>currency</th>\n",
       "      <th>deadline</th>\n",
       "      <th>goal</th>\n",
       "      <th>launched</th>\n",
       "      <th>pledged</th>\n",
       "      <th>state</th>\n",
       "      <th>backers</th>\n",
       "      <th>country</th>\n",
       "      <th>usd_pledged_real</th>\n",
       "      <th>usd_goal_real</th>\n",
       "    </tr>\n",
       "  </thead>\n",
       "  <tbody>\n",
       "    <tr>\n",
       "      <th>0</th>\n",
       "      <td>1000002330</td>\n",
       "      <td>The Songs of Adelaide &amp; Abullah</td>\n",
       "      <td>Poetry</td>\n",
       "      <td>Publishing</td>\n",
       "      <td>GBP</td>\n",
       "      <td>09-10-2015</td>\n",
       "      <td>1000.0</td>\n",
       "      <td>11-08-2015 12:12</td>\n",
       "      <td>0.0</td>\n",
       "      <td>failed</td>\n",
       "      <td>0</td>\n",
       "      <td>GB</td>\n",
       "      <td>0.0</td>\n",
       "      <td>1533.95</td>\n",
       "    </tr>\n",
       "    <tr>\n",
       "      <th>1</th>\n",
       "      <td>1000003930</td>\n",
       "      <td>Greeting From Earth: ZGAC Arts Capsule For ET</td>\n",
       "      <td>Narrative Film</td>\n",
       "      <td>Film &amp; Video</td>\n",
       "      <td>USD</td>\n",
       "      <td>01-11-2017</td>\n",
       "      <td>30000.0</td>\n",
       "      <td>02-09-2017 04:43</td>\n",
       "      <td>2421.0</td>\n",
       "      <td>failed</td>\n",
       "      <td>15</td>\n",
       "      <td>US</td>\n",
       "      <td>2421.0</td>\n",
       "      <td>30000.00</td>\n",
       "    </tr>\n",
       "    <tr>\n",
       "      <th>2</th>\n",
       "      <td>1000004038</td>\n",
       "      <td>Where is Hank?</td>\n",
       "      <td>Narrative Film</td>\n",
       "      <td>Film &amp; Video</td>\n",
       "      <td>USD</td>\n",
       "      <td>26-02-2013</td>\n",
       "      <td>45000.0</td>\n",
       "      <td>12-01-2013 00:20</td>\n",
       "      <td>220.0</td>\n",
       "      <td>failed</td>\n",
       "      <td>3</td>\n",
       "      <td>US</td>\n",
       "      <td>220.0</td>\n",
       "      <td>45000.00</td>\n",
       "    </tr>\n",
       "    <tr>\n",
       "      <th>3</th>\n",
       "      <td>1000007540</td>\n",
       "      <td>ToshiCapital Rekordz Needs Help to Complete Album</td>\n",
       "      <td>Music</td>\n",
       "      <td>Music</td>\n",
       "      <td>USD</td>\n",
       "      <td>16-04-2012</td>\n",
       "      <td>5000.0</td>\n",
       "      <td>17-03-2012 03:24</td>\n",
       "      <td>1.0</td>\n",
       "      <td>failed</td>\n",
       "      <td>1</td>\n",
       "      <td>US</td>\n",
       "      <td>1.0</td>\n",
       "      <td>5000.00</td>\n",
       "    </tr>\n",
       "    <tr>\n",
       "      <th>4</th>\n",
       "      <td>1000011046</td>\n",
       "      <td>Community Film Project: The Art of Neighborhoo...</td>\n",
       "      <td>Film &amp; Video</td>\n",
       "      <td>Film &amp; Video</td>\n",
       "      <td>USD</td>\n",
       "      <td>29-08-2015</td>\n",
       "      <td>19500.0</td>\n",
       "      <td>04-07-2015 08:35</td>\n",
       "      <td>1283.0</td>\n",
       "      <td>canceled</td>\n",
       "      <td>14</td>\n",
       "      <td>US</td>\n",
       "      <td>1283.0</td>\n",
       "      <td>19500.00</td>\n",
       "    </tr>\n",
       "  </tbody>\n",
       "</table>\n",
       "</div>"
      ],
      "text/plain": [
       "           ID                                               name  \\\n",
       "0  1000002330                    The Songs of Adelaide & Abullah   \n",
       "1  1000003930      Greeting From Earth: ZGAC Arts Capsule For ET   \n",
       "2  1000004038                                     Where is Hank?   \n",
       "3  1000007540  ToshiCapital Rekordz Needs Help to Complete Album   \n",
       "4  1000011046  Community Film Project: The Art of Neighborhoo...   \n",
       "\n",
       "      subcategory      category currency    deadline     goal  \\\n",
       "0          Poetry    Publishing      GBP  09-10-2015   1000.0   \n",
       "1  Narrative Film  Film & Video      USD  01-11-2017  30000.0   \n",
       "2  Narrative Film  Film & Video      USD  26-02-2013  45000.0   \n",
       "3           Music         Music      USD  16-04-2012   5000.0   \n",
       "4    Film & Video  Film & Video      USD  29-08-2015  19500.0   \n",
       "\n",
       "           launched  pledged     state  backers country  usd_pledged_real  \\\n",
       "0  11-08-2015 12:12      0.0    failed        0      GB               0.0   \n",
       "1  02-09-2017 04:43   2421.0    failed       15      US            2421.0   \n",
       "2  12-01-2013 00:20    220.0    failed        3      US             220.0   \n",
       "3  17-03-2012 03:24      1.0    failed        1      US               1.0   \n",
       "4  04-07-2015 08:35   1283.0  canceled       14      US            1283.0   \n",
       "\n",
       "   usd_goal_real  \n",
       "0        1533.95  \n",
       "1       30000.00  \n",
       "2       45000.00  \n",
       "3        5000.00  \n",
       "4       19500.00  "
      ]
     },
     "execution_count": 4,
     "metadata": {},
     "output_type": "execute_result"
    },
    {
     "data": {
      "application/javascript": [
       "\n",
       "            setTimeout(function() {\n",
       "                var nbb_cell_id = 4;\n",
       "                var nbb_unformatted_code = \"# to view first 5 rows of the dataset\\ndf.head()\";\n",
       "                var nbb_formatted_code = \"# to view first 5 rows of the dataset\\ndf.head()\";\n",
       "                var nbb_cells = Jupyter.notebook.get_cells();\n",
       "                for (var i = 0; i < nbb_cells.length; ++i) {\n",
       "                    if (nbb_cells[i].input_prompt_number == nbb_cell_id) {\n",
       "                        if (nbb_cells[i].get_text() == nbb_unformatted_code) {\n",
       "                             nbb_cells[i].set_text(nbb_formatted_code);\n",
       "                        }\n",
       "                        break;\n",
       "                    }\n",
       "                }\n",
       "            }, 500);\n",
       "            "
      ],
      "text/plain": [
       "<IPython.core.display.Javascript object>"
      ]
     },
     "metadata": {},
     "output_type": "display_data"
    }
   ],
   "source": [
    "# to view first 5 rows of the dataset\n",
    "df.head()"
   ]
  },
  {
   "cell_type": "code",
   "execution_count": 5,
   "id": "137db44d",
   "metadata": {},
   "outputs": [
    {
     "name": "stdout",
     "output_type": "stream",
     "text": [
      "<class 'pandas.core.frame.DataFrame'>\n",
      "RangeIndex: 378661 entries, 0 to 378660\n",
      "Data columns (total 14 columns):\n",
      " #   Column            Non-Null Count   Dtype  \n",
      "---  ------            --------------   -----  \n",
      " 0   ID                378661 non-null  int64  \n",
      " 1   name              378657 non-null  object \n",
      " 2   subcategory       378661 non-null  object \n",
      " 3   category          378661 non-null  object \n",
      " 4   currency          378661 non-null  object \n",
      " 5   deadline          378661 non-null  object \n",
      " 6   goal              378661 non-null  float64\n",
      " 7   launched          378661 non-null  object \n",
      " 8   pledged           378661 non-null  float64\n",
      " 9   state             378661 non-null  object \n",
      " 10  backers           378661 non-null  int64  \n",
      " 11  country           378661 non-null  object \n",
      " 12  usd_pledged_real  378661 non-null  float64\n",
      " 13  usd_goal_real     378661 non-null  float64\n",
      "dtypes: float64(4), int64(2), object(8)\n",
      "memory usage: 40.4+ MB\n"
     ]
    },
    {
     "data": {
      "application/javascript": [
       "\n",
       "            setTimeout(function() {\n",
       "                var nbb_cell_id = 5;\n",
       "                var nbb_unformatted_code = \"df.info()\";\n",
       "                var nbb_formatted_code = \"df.info()\";\n",
       "                var nbb_cells = Jupyter.notebook.get_cells();\n",
       "                for (var i = 0; i < nbb_cells.length; ++i) {\n",
       "                    if (nbb_cells[i].input_prompt_number == nbb_cell_id) {\n",
       "                        if (nbb_cells[i].get_text() == nbb_unformatted_code) {\n",
       "                             nbb_cells[i].set_text(nbb_formatted_code);\n",
       "                        }\n",
       "                        break;\n",
       "                    }\n",
       "                }\n",
       "            }, 500);\n",
       "            "
      ],
      "text/plain": [
       "<IPython.core.display.Javascript object>"
      ]
     },
     "metadata": {},
     "output_type": "display_data"
    }
   ],
   "source": [
    "df.info()"
   ]
  },
  {
   "cell_type": "code",
   "execution_count": 6,
   "id": "f1b762eb",
   "metadata": {},
   "outputs": [
    {
     "data": {
      "text/html": [
       "<div>\n",
       "<style scoped>\n",
       "    .dataframe tbody tr th:only-of-type {\n",
       "        vertical-align: middle;\n",
       "    }\n",
       "\n",
       "    .dataframe tbody tr th {\n",
       "        vertical-align: top;\n",
       "    }\n",
       "\n",
       "    .dataframe thead th {\n",
       "        text-align: right;\n",
       "    }\n",
       "</style>\n",
       "<table border=\"1\" class=\"dataframe\">\n",
       "  <thead>\n",
       "    <tr style=\"text-align: right;\">\n",
       "      <th></th>\n",
       "      <th>count</th>\n",
       "      <th>unique</th>\n",
       "      <th>top</th>\n",
       "      <th>freq</th>\n",
       "      <th>mean</th>\n",
       "      <th>std</th>\n",
       "      <th>min</th>\n",
       "      <th>25%</th>\n",
       "      <th>50%</th>\n",
       "      <th>75%</th>\n",
       "      <th>max</th>\n",
       "    </tr>\n",
       "  </thead>\n",
       "  <tbody>\n",
       "    <tr>\n",
       "      <th>ID</th>\n",
       "      <td>378661.0</td>\n",
       "      <td>NaN</td>\n",
       "      <td>NaN</td>\n",
       "      <td>NaN</td>\n",
       "      <td>1074731191.988755</td>\n",
       "      <td>619086204.322627</td>\n",
       "      <td>5971.0</td>\n",
       "      <td>538263516.0</td>\n",
       "      <td>1075275634.0</td>\n",
       "      <td>1610148624.0</td>\n",
       "      <td>2147476221.0</td>\n",
       "    </tr>\n",
       "    <tr>\n",
       "      <th>name</th>\n",
       "      <td>378657</td>\n",
       "      <td>375722</td>\n",
       "      <td>#NAME?</td>\n",
       "      <td>43</td>\n",
       "      <td>NaN</td>\n",
       "      <td>NaN</td>\n",
       "      <td>NaN</td>\n",
       "      <td>NaN</td>\n",
       "      <td>NaN</td>\n",
       "      <td>NaN</td>\n",
       "      <td>NaN</td>\n",
       "    </tr>\n",
       "    <tr>\n",
       "      <th>subcategory</th>\n",
       "      <td>378661</td>\n",
       "      <td>159</td>\n",
       "      <td>Product Design</td>\n",
       "      <td>22314</td>\n",
       "      <td>NaN</td>\n",
       "      <td>NaN</td>\n",
       "      <td>NaN</td>\n",
       "      <td>NaN</td>\n",
       "      <td>NaN</td>\n",
       "      <td>NaN</td>\n",
       "      <td>NaN</td>\n",
       "    </tr>\n",
       "    <tr>\n",
       "      <th>category</th>\n",
       "      <td>378661</td>\n",
       "      <td>15</td>\n",
       "      <td>Film &amp; Video</td>\n",
       "      <td>63585</td>\n",
       "      <td>NaN</td>\n",
       "      <td>NaN</td>\n",
       "      <td>NaN</td>\n",
       "      <td>NaN</td>\n",
       "      <td>NaN</td>\n",
       "      <td>NaN</td>\n",
       "      <td>NaN</td>\n",
       "    </tr>\n",
       "    <tr>\n",
       "      <th>currency</th>\n",
       "      <td>378661</td>\n",
       "      <td>14</td>\n",
       "      <td>USD</td>\n",
       "      <td>295365</td>\n",
       "      <td>NaN</td>\n",
       "      <td>NaN</td>\n",
       "      <td>NaN</td>\n",
       "      <td>NaN</td>\n",
       "      <td>NaN</td>\n",
       "      <td>NaN</td>\n",
       "      <td>NaN</td>\n",
       "    </tr>\n",
       "    <tr>\n",
       "      <th>deadline</th>\n",
       "      <td>378661</td>\n",
       "      <td>3164</td>\n",
       "      <td>08-08-2014</td>\n",
       "      <td>705</td>\n",
       "      <td>NaN</td>\n",
       "      <td>NaN</td>\n",
       "      <td>NaN</td>\n",
       "      <td>NaN</td>\n",
       "      <td>NaN</td>\n",
       "      <td>NaN</td>\n",
       "      <td>NaN</td>\n",
       "    </tr>\n",
       "    <tr>\n",
       "      <th>goal</th>\n",
       "      <td>378661.0</td>\n",
       "      <td>NaN</td>\n",
       "      <td>NaN</td>\n",
       "      <td>NaN</td>\n",
       "      <td>49080.791521</td>\n",
       "      <td>1183391.259093</td>\n",
       "      <td>0.01</td>\n",
       "      <td>2000.0</td>\n",
       "      <td>5200.0</td>\n",
       "      <td>16000.0</td>\n",
       "      <td>100000000.0</td>\n",
       "    </tr>\n",
       "    <tr>\n",
       "      <th>launched</th>\n",
       "      <td>378661</td>\n",
       "      <td>347035</td>\n",
       "      <td>20-06-2017 16:00</td>\n",
       "      <td>15</td>\n",
       "      <td>NaN</td>\n",
       "      <td>NaN</td>\n",
       "      <td>NaN</td>\n",
       "      <td>NaN</td>\n",
       "      <td>NaN</td>\n",
       "      <td>NaN</td>\n",
       "      <td>NaN</td>\n",
       "    </tr>\n",
       "    <tr>\n",
       "      <th>pledged</th>\n",
       "      <td>378661.0</td>\n",
       "      <td>NaN</td>\n",
       "      <td>NaN</td>\n",
       "      <td>NaN</td>\n",
       "      <td>9682.979339</td>\n",
       "      <td>95636.010005</td>\n",
       "      <td>0.0</td>\n",
       "      <td>30.0</td>\n",
       "      <td>620.0</td>\n",
       "      <td>4076.0</td>\n",
       "      <td>20338986.27</td>\n",
       "    </tr>\n",
       "    <tr>\n",
       "      <th>state</th>\n",
       "      <td>378661</td>\n",
       "      <td>6</td>\n",
       "      <td>failed</td>\n",
       "      <td>197719</td>\n",
       "      <td>NaN</td>\n",
       "      <td>NaN</td>\n",
       "      <td>NaN</td>\n",
       "      <td>NaN</td>\n",
       "      <td>NaN</td>\n",
       "      <td>NaN</td>\n",
       "      <td>NaN</td>\n",
       "    </tr>\n",
       "    <tr>\n",
       "      <th>backers</th>\n",
       "      <td>378661.0</td>\n",
       "      <td>NaN</td>\n",
       "      <td>NaN</td>\n",
       "      <td>NaN</td>\n",
       "      <td>105.617476</td>\n",
       "      <td>907.185035</td>\n",
       "      <td>0.0</td>\n",
       "      <td>2.0</td>\n",
       "      <td>12.0</td>\n",
       "      <td>56.0</td>\n",
       "      <td>219382.0</td>\n",
       "    </tr>\n",
       "    <tr>\n",
       "      <th>country</th>\n",
       "      <td>378661</td>\n",
       "      <td>23</td>\n",
       "      <td>US</td>\n",
       "      <td>292627</td>\n",
       "      <td>NaN</td>\n",
       "      <td>NaN</td>\n",
       "      <td>NaN</td>\n",
       "      <td>NaN</td>\n",
       "      <td>NaN</td>\n",
       "      <td>NaN</td>\n",
       "      <td>NaN</td>\n",
       "    </tr>\n",
       "    <tr>\n",
       "      <th>usd_pledged_real</th>\n",
       "      <td>378661.0</td>\n",
       "      <td>NaN</td>\n",
       "      <td>NaN</td>\n",
       "      <td>NaN</td>\n",
       "      <td>9058.924074</td>\n",
       "      <td>90973.343107</td>\n",
       "      <td>0.0</td>\n",
       "      <td>31.0</td>\n",
       "      <td>624.33</td>\n",
       "      <td>4050.0</td>\n",
       "      <td>20338986.27</td>\n",
       "    </tr>\n",
       "    <tr>\n",
       "      <th>usd_goal_real</th>\n",
       "      <td>378661.0</td>\n",
       "      <td>NaN</td>\n",
       "      <td>NaN</td>\n",
       "      <td>NaN</td>\n",
       "      <td>45454.401465</td>\n",
       "      <td>1152950.055061</td>\n",
       "      <td>0.01</td>\n",
       "      <td>2000.0</td>\n",
       "      <td>5500.0</td>\n",
       "      <td>15500.0</td>\n",
       "      <td>166361390.7</td>\n",
       "    </tr>\n",
       "  </tbody>\n",
       "</table>\n",
       "</div>"
      ],
      "text/plain": [
       "                     count  unique               top    freq  \\\n",
       "ID                378661.0     NaN               NaN     NaN   \n",
       "name                378657  375722            #NAME?      43   \n",
       "subcategory         378661     159    Product Design   22314   \n",
       "category            378661      15      Film & Video   63585   \n",
       "currency            378661      14               USD  295365   \n",
       "deadline            378661    3164        08-08-2014     705   \n",
       "goal              378661.0     NaN               NaN     NaN   \n",
       "launched            378661  347035  20-06-2017 16:00      15   \n",
       "pledged           378661.0     NaN               NaN     NaN   \n",
       "state               378661       6            failed  197719   \n",
       "backers           378661.0     NaN               NaN     NaN   \n",
       "country             378661      23                US  292627   \n",
       "usd_pledged_real  378661.0     NaN               NaN     NaN   \n",
       "usd_goal_real     378661.0     NaN               NaN     NaN   \n",
       "\n",
       "                               mean               std     min          25%  \\\n",
       "ID                1074731191.988755  619086204.322627  5971.0  538263516.0   \n",
       "name                            NaN               NaN     NaN          NaN   \n",
       "subcategory                     NaN               NaN     NaN          NaN   \n",
       "category                        NaN               NaN     NaN          NaN   \n",
       "currency                        NaN               NaN     NaN          NaN   \n",
       "deadline                        NaN               NaN     NaN          NaN   \n",
       "goal                   49080.791521    1183391.259093    0.01       2000.0   \n",
       "launched                        NaN               NaN     NaN          NaN   \n",
       "pledged                 9682.979339      95636.010005     0.0         30.0   \n",
       "state                           NaN               NaN     NaN          NaN   \n",
       "backers                  105.617476        907.185035     0.0          2.0   \n",
       "country                         NaN               NaN     NaN          NaN   \n",
       "usd_pledged_real        9058.924074      90973.343107     0.0         31.0   \n",
       "usd_goal_real          45454.401465    1152950.055061    0.01       2000.0   \n",
       "\n",
       "                           50%           75%           max  \n",
       "ID                1075275634.0  1610148624.0  2147476221.0  \n",
       "name                       NaN           NaN           NaN  \n",
       "subcategory                NaN           NaN           NaN  \n",
       "category                   NaN           NaN           NaN  \n",
       "currency                   NaN           NaN           NaN  \n",
       "deadline                   NaN           NaN           NaN  \n",
       "goal                    5200.0       16000.0   100000000.0  \n",
       "launched                   NaN           NaN           NaN  \n",
       "pledged                  620.0        4076.0   20338986.27  \n",
       "state                      NaN           NaN           NaN  \n",
       "backers                   12.0          56.0      219382.0  \n",
       "country                    NaN           NaN           NaN  \n",
       "usd_pledged_real        624.33        4050.0   20338986.27  \n",
       "usd_goal_real           5500.0       15500.0   166361390.7  "
      ]
     },
     "execution_count": 6,
     "metadata": {},
     "output_type": "execute_result"
    },
    {
     "data": {
      "application/javascript": [
       "\n",
       "            setTimeout(function() {\n",
       "                var nbb_cell_id = 6;\n",
       "                var nbb_unformatted_code = \"df.describe(include=\\\"all\\\").T\";\n",
       "                var nbb_formatted_code = \"df.describe(include=\\\"all\\\").T\";\n",
       "                var nbb_cells = Jupyter.notebook.get_cells();\n",
       "                for (var i = 0; i < nbb_cells.length; ++i) {\n",
       "                    if (nbb_cells[i].input_prompt_number == nbb_cell_id) {\n",
       "                        if (nbb_cells[i].get_text() == nbb_unformatted_code) {\n",
       "                             nbb_cells[i].set_text(nbb_formatted_code);\n",
       "                        }\n",
       "                        break;\n",
       "                    }\n",
       "                }\n",
       "            }, 500);\n",
       "            "
      ],
      "text/plain": [
       "<IPython.core.display.Javascript object>"
      ]
     },
     "metadata": {},
     "output_type": "display_data"
    }
   ],
   "source": [
    "df.describe(include=\"all\").T"
   ]
  },
  {
   "cell_type": "code",
   "execution_count": 7,
   "id": "081d6a75",
   "metadata": {},
   "outputs": [
    {
     "data": {
      "text/plain": [
       "Index(['name', 'subcategory', 'category', 'currency', 'deadline', 'launched',\n",
       "       'state', 'country'],\n",
       "      dtype='object')"
      ]
     },
     "execution_count": 7,
     "metadata": {},
     "output_type": "execute_result"
    },
    {
     "data": {
      "application/javascript": [
       "\n",
       "            setTimeout(function() {\n",
       "                var nbb_cell_id = 7;\n",
       "                var nbb_unformatted_code = \"cat_columns = df.select_dtypes(exclude=np.number).columns\\ncat_columns\";\n",
       "                var nbb_formatted_code = \"cat_columns = df.select_dtypes(exclude=np.number).columns\\ncat_columns\";\n",
       "                var nbb_cells = Jupyter.notebook.get_cells();\n",
       "                for (var i = 0; i < nbb_cells.length; ++i) {\n",
       "                    if (nbb_cells[i].input_prompt_number == nbb_cell_id) {\n",
       "                        if (nbb_cells[i].get_text() == nbb_unformatted_code) {\n",
       "                             nbb_cells[i].set_text(nbb_formatted_code);\n",
       "                        }\n",
       "                        break;\n",
       "                    }\n",
       "                }\n",
       "            }, 500);\n",
       "            "
      ],
      "text/plain": [
       "<IPython.core.display.Javascript object>"
      ]
     },
     "metadata": {},
     "output_type": "display_data"
    }
   ],
   "source": [
    "cat_columns = df.select_dtypes(exclude=np.number).columns\n",
    "cat_columns"
   ]
  },
  {
   "cell_type": "code",
   "execution_count": 11,
   "id": "cd1faed8",
   "metadata": {},
   "outputs": [
    {
     "name": "stdout",
     "output_type": "stream",
     "text": [
      "#NAME?                                        43\n",
      "New EP/Music Development                      41\n",
      "Canceled (Canceled)                           13\n",
      "Music Video                                   11\n",
      "N/A (Canceled)                                11\n",
      "                                              ..\n",
      "13 Men                                         1\n",
      "Matt Atherton Worship Project                  1\n",
      "Classic Car Sketch Art Calendar                1\n",
      "Ninja Bees the Card Game                       1\n",
      "Yak About Adventures, A New Zealand Roadie     1\n",
      "Name: name, Length: 375723, dtype: int64\n",
      "--------------------------------------------------\n",
      "Product Design        22314\n",
      "Documentary           16139\n",
      "Music                 15727\n",
      "Tabletop Games        14180\n",
      "Shorts                12357\n",
      "Video Games           11830\n",
      "Food                  11493\n",
      "Film & Video          10108\n",
      "Fiction                9169\n",
      "Fashion                8554\n",
      "Nonfiction             8318\n",
      "Art                    8253\n",
      "Apparel                7166\n",
      "Theater                7057\n",
      "Technology             6930\n",
      "Rock                   6758\n",
      "Children's Books       6756\n",
      "Apps                   6345\n",
      "Publishing             6018\n",
      "Webseries              5762\n",
      "Photography            5752\n",
      "Indie Rock             5657\n",
      "Narrative Film         5188\n",
      "Web                    5153\n",
      "Comics                 4996\n",
      "Crafts                 4664\n",
      "Country & Folk         4451\n",
      "Design                 4199\n",
      "Hip-Hop                3912\n",
      "Hardware               3663\n",
      "Pop                    3350\n",
      "Painting               3294\n",
      "Games                  3226\n",
      "Illustration           3175\n",
      "Accessories            3165\n",
      "Public Art             3077\n",
      "Software               3048\n",
      "Gadgets                2965\n",
      "Restaurants            2819\n",
      "Mixed Media            2757\n",
      "Comic Books            2743\n",
      "Art Books              2676\n",
      "Classical Music        2613\n",
      "Animation              2541\n",
      "Playing Cards          2497\n",
      "Drinks                 2422\n",
      "Dance                  2322\n",
      "Comedy                 2320\n",
      "Drama                  2179\n",
      "Electronic Music       2170\n",
      "Performance Art        2154\n",
      "World Music            2102\n",
      "Graphic Design         2002\n",
      "Graphic Novels         1864\n",
      "Jazz                   1850\n",
      "Sculpture              1810\n",
      "Small Batch            1808\n",
      "Mobile Games           1789\n",
      "Food Trucks            1752\n",
      "Journalism             1747\n",
      "Photobooks             1580\n",
      "Plays                  1378\n",
      "Poetry                 1369\n",
      "Digital Art            1346\n",
      "Horror                 1287\n",
      "Periodicals            1265\n",
      "Jewelry                1239\n",
      "Wearables              1233\n",
      "DIY                    1173\n",
      "Woodworking            1167\n",
      "Farms                  1154\n",
      "People                 1103\n",
      "Faith                  1092\n",
      "Live Games             1050\n",
      "Conceptual Art         1030\n",
      "Television             1015\n",
      "Performances           1013\n",
      "Footwear                931\n",
      "Experimental            924\n",
      "Radio & Podcasts        923\n",
      "Academic                916\n",
      "Musical                 913\n",
      "DIY Electronics         902\n",
      "Ready-to-wear           864\n",
      "Spaces                  841\n",
      "Festivals               839\n",
      "Young Adult             821\n",
      "Events                  818\n",
      "Anthologies             784\n",
      "Fine Art                776\n",
      "Architecture            760\n",
      "Thrillers               746\n",
      "Science Fiction         744\n",
      "Action                  740\n",
      "Places                  739\n",
      "Print                   727\n",
      "Metal                   717\n",
      "Music Videos            709\n",
      "3D Printing             683\n",
      "Sound                   669\n",
      "Webcomics               648\n",
      "Vegan                   588\n",
      "Nature                  574\n",
      "Robots                  572\n",
      "Cookbooks               540\n",
      "Childrenswear           483\n",
      "Installations           482\n",
      "R&B                     458\n",
      "Candles                 429\n",
      "Video                   428\n",
      "Gaming Hardware         428\n",
      "Flight                  426\n",
      "Farmer's Markets        424\n",
      "Camera Equipment        416\n",
      "Audio                   410\n",
      "Interactive Design      398\n",
      "Zines                   391\n",
      "Fantasy                 345\n",
      "Family                  336\n",
      "Immersive               330\n",
      "Calendars               329\n",
      "Space Exploration       323\n",
      "Punk                    317\n",
      "Ceramics                305\n",
      "Community Gardens       298\n",
      "Civic Design            289\n",
      "Kids                    285\n",
      "Literary Journals       278\n",
      "Textiles                276\n",
      "Couture                 275\n",
      "Blues                   268\n",
      "Animals                 255\n",
      "Fabrication Tools       250\n",
      "Printing                238\n",
      "Makerspaces             238\n",
      "Movie Theaters          232\n",
      "Puzzles                 231\n",
      "Bacon                   221\n",
      "Stationery              219\n",
      "Photo                   196\n",
      "Video Art               194\n",
      "Romance                 190\n",
      "Knitting                181\n",
      "Workshops               164\n",
      "Crochet                 162\n",
      "Translations            153\n",
      "Pet Fashion             139\n",
      "Glass                   138\n",
      "Latin                   137\n",
      "Embroidery              113\n",
      "Typography              108\n",
      "Pottery                 100\n",
      "Weaving                  93\n",
      "Quilts                   81\n",
      "Residencies              69\n",
      "Letterpress              49\n",
      "Chiptune                 35\n",
      "Literary Spaces          27\n",
      "Taxidermy                13\n",
      "Name: subcategory, dtype: int64\n",
      "--------------------------------------------------\n",
      "Film & Video    63585\n",
      "Music           51918\n",
      "Publishing      39874\n",
      "Games           35231\n",
      "Technology      32569\n",
      "Design          30070\n",
      "Art             28153\n",
      "Food            24602\n",
      "Fashion         22816\n",
      "Theater         10913\n",
      "Comics          10819\n",
      "Photography     10779\n",
      "Crafts           8809\n",
      "Journalism       4755\n",
      "Dance            3768\n",
      "Name: category, dtype: int64\n",
      "--------------------------------------------------\n",
      "USD    295365\n",
      "GBP     34132\n",
      "EUR     17405\n",
      "CAD     14962\n",
      "AUD      7950\n",
      "SEK      1788\n",
      "MXN      1752\n",
      "NZD      1475\n",
      "DKK      1129\n",
      "CHF       768\n",
      "NOK       722\n",
      "HKD       618\n",
      "SGD       555\n",
      "JPY        40\n",
      "Name: currency, dtype: int64\n",
      "--------------------------------------------------\n",
      "08-08-2014    705\n",
      "10-08-2014    558\n",
      "07-08-2014    541\n",
      "01-05-2015    489\n",
      "09-08-2014    477\n",
      "             ... \n",
      "27-10-2009      1\n",
      "03-05-2009      1\n",
      "04-06-2009      1\n",
      "09-07-2009      1\n",
      "04-09-2009      1\n",
      "Name: deadline, Length: 3164, dtype: int64\n",
      "--------------------------------------------------\n",
      "20-06-2017 16:00    15\n",
      "01-11-2016 16:00     8\n",
      "13-11-2013 00:02     8\n",
      "04-10-2016 18:00     7\n",
      "11-07-2014 21:15     7\n",
      "                    ..\n",
      "20-02-2013 03:01     1\n",
      "04-01-2016 10:06     1\n",
      "19-02-2015 22:46     1\n",
      "04-02-2012 18:00     1\n",
      "30-04-2015 14:06     1\n",
      "Name: launched, Length: 347035, dtype: int64\n",
      "--------------------------------------------------\n",
      "failed        197719\n",
      "successful    133956\n",
      "canceled       38779\n",
      "undefined       3562\n",
      "live            2799\n",
      "suspended       1846\n",
      "Name: state, dtype: int64\n",
      "--------------------------------------------------\n",
      "US      292627\n",
      "GB       33672\n",
      "CA       14756\n",
      "AU        7839\n",
      "DE        4171\n",
      "N,0\"      3797\n",
      "FR        2939\n",
      "IT        2878\n",
      "NL        2868\n",
      "ES        2276\n",
      "SE        1757\n",
      "MX        1752\n",
      "NZ        1447\n",
      "DK        1113\n",
      "IE         811\n",
      "CH         761\n",
      "NO         708\n",
      "HK         618\n",
      "BE         617\n",
      "AT         597\n",
      "SG         555\n",
      "LU          62\n",
      "JP          40\n",
      "Name: country, dtype: int64\n",
      "--------------------------------------------------\n"
     ]
    },
    {
     "data": {
      "application/javascript": [
       "\n",
       "            setTimeout(function() {\n",
       "                var nbb_cell_id = 11;\n",
       "                var nbb_unformatted_code = \"# we will skip the title and description columns as they will have a lot of unique values\\ncat_col = [\\n    \\\"name\\\",\\n    \\\"subcategory\\\",\\n    \\\"category\\\",\\n    \\\"currency\\\",\\n    \\\"deadline\\\",\\n    \\\"launched\\\",\\n    \\\"state\\\",\\n    \\\"country\\\",\\n]\\n\\n# printing the number of occurrences of each unique value in each categorical column\\nfor column in cat_col:\\n    print(df[column].value_counts(dropna=False))\\n    print(\\\"-\\\" * 50)\";\n",
       "                var nbb_formatted_code = \"# we will skip the title and description columns as they will have a lot of unique values\\ncat_col = [\\n    \\\"name\\\",\\n    \\\"subcategory\\\",\\n    \\\"category\\\",\\n    \\\"currency\\\",\\n    \\\"deadline\\\",\\n    \\\"launched\\\",\\n    \\\"state\\\",\\n    \\\"country\\\",\\n]\\n\\n# printing the number of occurrences of each unique value in each categorical column\\nfor column in cat_col:\\n    print(df[column].value_counts(dropna=False))\\n    print(\\\"-\\\" * 50)\";\n",
       "                var nbb_cells = Jupyter.notebook.get_cells();\n",
       "                for (var i = 0; i < nbb_cells.length; ++i) {\n",
       "                    if (nbb_cells[i].input_prompt_number == nbb_cell_id) {\n",
       "                        if (nbb_cells[i].get_text() == nbb_unformatted_code) {\n",
       "                             nbb_cells[i].set_text(nbb_formatted_code);\n",
       "                        }\n",
       "                        break;\n",
       "                    }\n",
       "                }\n",
       "            }, 500);\n",
       "            "
      ],
      "text/plain": [
       "<IPython.core.display.Javascript object>"
      ]
     },
     "metadata": {},
     "output_type": "display_data"
    }
   ],
   "source": [
    "# we will skip the title and description columns as they will have a lot of unique values\n",
    "cat_col = [\n",
    "    \"name\",\n",
    "    \"subcategory\",\n",
    "    \"category\",\n",
    "    \"currency\",\n",
    "    \"deadline\",\n",
    "    \"launched\",\n",
    "    \"state\",\n",
    "    \"country\",\n",
    "]\n",
    "\n",
    "# printing the number of occurrences of each unique value in each categorical column\n",
    "for column in cat_col:\n",
    "    print(df[column].value_counts(dropna=False))\n",
    "    print(\"-\" * 50)"
   ]
  },
  {
   "cell_type": "code",
   "execution_count": 9,
   "id": "25813e92",
   "metadata": {},
   "outputs": [
    {
     "data": {
      "text/plain": [
       "name                4\n",
       "ID                  0\n",
       "subcategory         0\n",
       "category            0\n",
       "currency            0\n",
       "deadline            0\n",
       "goal                0\n",
       "launched            0\n",
       "pledged             0\n",
       "state               0\n",
       "backers             0\n",
       "country             0\n",
       "usd_pledged_real    0\n",
       "usd_goal_real       0\n",
       "dtype: int64"
      ]
     },
     "execution_count": 9,
     "metadata": {},
     "output_type": "execute_result"
    },
    {
     "data": {
      "application/javascript": [
       "\n",
       "            setTimeout(function() {\n",
       "                var nbb_cell_id = 9;\n",
       "                var nbb_unformatted_code = \"df.isnull().sum().sort_values(ascending=False)\";\n",
       "                var nbb_formatted_code = \"df.isnull().sum().sort_values(ascending=False)\";\n",
       "                var nbb_cells = Jupyter.notebook.get_cells();\n",
       "                for (var i = 0; i < nbb_cells.length; ++i) {\n",
       "                    if (nbb_cells[i].input_prompt_number == nbb_cell_id) {\n",
       "                        if (nbb_cells[i].get_text() == nbb_unformatted_code) {\n",
       "                             nbb_cells[i].set_text(nbb_formatted_code);\n",
       "                        }\n",
       "                        break;\n",
       "                    }\n",
       "                }\n",
       "            }, 500);\n",
       "            "
      ],
      "text/plain": [
       "<IPython.core.display.Javascript object>"
      ]
     },
     "metadata": {},
     "output_type": "display_data"
    }
   ],
   "source": [
    "df.isnull().sum().sort_values(ascending=False)"
   ]
  },
  {
   "cell_type": "code",
   "execution_count": 10,
   "id": "850d3dcb",
   "metadata": {},
   "outputs": [
    {
     "data": {
      "text/plain": [
       "0"
      ]
     },
     "execution_count": 10,
     "metadata": {},
     "output_type": "execute_result"
    },
    {
     "data": {
      "application/javascript": [
       "\n",
       "            setTimeout(function() {\n",
       "                var nbb_cell_id = 10;\n",
       "                var nbb_unformatted_code = \"df.duplicated().sum()\";\n",
       "                var nbb_formatted_code = \"df.duplicated().sum()\";\n",
       "                var nbb_cells = Jupyter.notebook.get_cells();\n",
       "                for (var i = 0; i < nbb_cells.length; ++i) {\n",
       "                    if (nbb_cells[i].input_prompt_number == nbb_cell_id) {\n",
       "                        if (nbb_cells[i].get_text() == nbb_unformatted_code) {\n",
       "                             nbb_cells[i].set_text(nbb_formatted_code);\n",
       "                        }\n",
       "                        break;\n",
       "                    }\n",
       "                }\n",
       "            }, 500);\n",
       "            "
      ],
      "text/plain": [
       "<IPython.core.display.Javascript object>"
      ]
     },
     "metadata": {},
     "output_type": "display_data"
    }
   ],
   "source": [
    "df.duplicated().sum()"
   ]
  },
  {
   "cell_type": "code",
   "execution_count": 12,
   "id": "78802fa6",
   "metadata": {},
   "outputs": [
    {
     "data": {
      "application/javascript": [
       "\n",
       "            setTimeout(function() {\n",
       "                var nbb_cell_id = 12;\n",
       "                var nbb_unformatted_code = \"df = df.dropna()\";\n",
       "                var nbb_formatted_code = \"df = df.dropna()\";\n",
       "                var nbb_cells = Jupyter.notebook.get_cells();\n",
       "                for (var i = 0; i < nbb_cells.length; ++i) {\n",
       "                    if (nbb_cells[i].input_prompt_number == nbb_cell_id) {\n",
       "                        if (nbb_cells[i].get_text() == nbb_unformatted_code) {\n",
       "                             nbb_cells[i].set_text(nbb_formatted_code);\n",
       "                        }\n",
       "                        break;\n",
       "                    }\n",
       "                }\n",
       "            }, 500);\n",
       "            "
      ],
      "text/plain": [
       "<IPython.core.display.Javascript object>"
      ]
     },
     "metadata": {},
     "output_type": "display_data"
    }
   ],
   "source": [
    "df = df.dropna()"
   ]
  },
  {
   "cell_type": "code",
   "execution_count": 13,
   "id": "8a783b3d",
   "metadata": {},
   "outputs": [
    {
     "name": "stdout",
     "output_type": "stream",
     "text": [
      "There are 378657 rows and 14 columns.\n"
     ]
    },
    {
     "data": {
      "application/javascript": [
       "\n",
       "            setTimeout(function() {\n",
       "                var nbb_cell_id = 13;\n",
       "                var nbb_unformatted_code = \"print(f\\\"There are {df.shape[0]} rows and {df.shape[1]} columns.\\\")\";\n",
       "                var nbb_formatted_code = \"print(f\\\"There are {df.shape[0]} rows and {df.shape[1]} columns.\\\")\";\n",
       "                var nbb_cells = Jupyter.notebook.get_cells();\n",
       "                for (var i = 0; i < nbb_cells.length; ++i) {\n",
       "                    if (nbb_cells[i].input_prompt_number == nbb_cell_id) {\n",
       "                        if (nbb_cells[i].get_text() == nbb_unformatted_code) {\n",
       "                             nbb_cells[i].set_text(nbb_formatted_code);\n",
       "                        }\n",
       "                        break;\n",
       "                    }\n",
       "                }\n",
       "            }, 500);\n",
       "            "
      ],
      "text/plain": [
       "<IPython.core.display.Javascript object>"
      ]
     },
     "metadata": {},
     "output_type": "display_data"
    }
   ],
   "source": [
    "print(f\"There are {df.shape[0]} rows and {df.shape[1]} columns.\")"
   ]
  },
  {
   "cell_type": "code",
   "execution_count": 14,
   "id": "0189fb5f",
   "metadata": {},
   "outputs": [
    {
     "data": {
      "text/plain": [
       "<AxesSubplot:xlabel='backers'>"
      ]
     },
     "execution_count": 14,
     "metadata": {},
     "output_type": "execute_result"
    },
    {
     "data": {
      "image/png": "[encoded data removed]",
      "text/plain": [
       "<Figure size 432x288 with 1 Axes>"
      ]
     },
     "metadata": {},
     "output_type": "display_data"
    },
    {
     "data": {
      "application/javascript": [
       "\n",
       "            setTimeout(function() {\n",
       "                var nbb_cell_id = 14;\n",
       "                var nbb_unformatted_code = \"sns.boxplot(x=df[\\\"backers\\\"])\";\n",
       "                var nbb_formatted_code = \"sns.boxplot(x=df[\\\"backers\\\"])\";\n",
       "                var nbb_cells = Jupyter.notebook.get_cells();\n",
       "                for (var i = 0; i < nbb_cells.length; ++i) {\n",
       "                    if (nbb_cells[i].input_prompt_number == nbb_cell_id) {\n",
       "                        if (nbb_cells[i].get_text() == nbb_unformatted_code) {\n",
       "                             nbb_cells[i].set_text(nbb_formatted_code);\n",
       "                        }\n",
       "                        break;\n",
       "                    }\n",
       "                }\n",
       "            }, 500);\n",
       "            "
      ],
      "text/plain": [
       "<IPython.core.display.Javascript object>"
      ]
     },
     "metadata": {},
     "output_type": "display_data"
    }
   ],
   "source": [
    "sns.boxplot(x=df[\"backers\"])"
   ]
  },
  {
   "cell_type": "code",
   "execution_count": 17,
   "id": "affbd9df",
   "metadata": {},
   "outputs": [
    {
     "data": {
      "application/javascript": [
       "\n",
       "            setTimeout(function() {\n",
       "                var nbb_cell_id = 17;\n",
       "                var nbb_unformatted_code = \"from sklearn.preprocessing import StandardScaler, MinMaxScaler\\n\\ndf[\\\"goal_min\\\"] = MinMaxScaler().fit_transform(df[[\\\"goal\\\"]])\";\n",
       "                var nbb_formatted_code = \"from sklearn.preprocessing import StandardScaler, MinMaxScaler\\n\\ndf[\\\"goal_min\\\"] = MinMaxScaler().fit_transform(df[[\\\"goal\\\"]])\";\n",
       "                var nbb_cells = Jupyter.notebook.get_cells();\n",
       "                for (var i = 0; i < nbb_cells.length; ++i) {\n",
       "                    if (nbb_cells[i].input_prompt_number == nbb_cell_id) {\n",
       "                        if (nbb_cells[i].get_text() == nbb_unformatted_code) {\n",
       "                             nbb_cells[i].set_text(nbb_formatted_code);\n",
       "                        }\n",
       "                        break;\n",
       "                    }\n",
       "                }\n",
       "            }, 500);\n",
       "            "
      ],
      "text/plain": [
       "<IPython.core.display.Javascript object>"
      ]
     },
     "metadata": {},
     "output_type": "display_data"
    }
   ],
   "source": [
    "from sklearn.preprocessing import StandardScaler, MinMaxScaler\n",
    "\n",
    "df[\"goal_min\"] = MinMaxScaler().fit_transform(df[[\"goal\"]])"
   ]
  },
  {
   "cell_type": "code",
   "execution_count": 18,
   "id": "a906f794",
   "metadata": {},
   "outputs": [
    {
     "data": {
      "text/plain": [
       "<AxesSubplot:>"
      ]
     },
     "execution_count": 18,
     "metadata": {},
     "output_type": "execute_result"
    },
    {
     "data": {
      "image/png": "[encoded data removed]",
      "text/plain": [
       "<Figure size 432x288 with 1 Axes>"
      ]
     },
     "metadata": {},
     "output_type": "display_data"
    },
    {
     "data": {
      "application/javascript": [
       "\n",
       "            setTimeout(function() {\n",
       "                var nbb_cell_id = 18;\n",
       "                var nbb_unformatted_code = \"df['goal'].hist(bins=20)\";\n",
       "                var nbb_formatted_code = \"df[\\\"goal\\\"].hist(bins=20)\";\n",
       "                var nbb_cells = Jupyter.notebook.get_cells();\n",
       "                for (var i = 0; i < nbb_cells.length; ++i) {\n",
       "                    if (nbb_cells[i].input_prompt_number == nbb_cell_id) {\n",
       "                        if (nbb_cells[i].get_text() == nbb_unformatted_code) {\n",
       "                             nbb_cells[i].set_text(nbb_formatted_code);\n",
       "                        }\n",
       "                        break;\n",
       "                    }\n",
       "                }\n",
       "            }, 500);\n",
       "            "
      ],
      "text/plain": [
       "<IPython.core.display.Javascript object>"
      ]
     },
     "metadata": {},
     "output_type": "display_data"
    }
   ],
   "source": [
    "df[\"goal\"].hist(bins=20)"
   ]
  },
  {
   "cell_type": "code",
   "execution_count": 19,
   "id": "afd47398",
   "metadata": {},
   "outputs": [
    {
     "data": {
      "text/plain": [
       "<AxesSubplot:>"
      ]
     },
     "execution_count": 19,
     "metadata": {},
     "output_type": "execute_result"
    },
    {
     "data": {
      "image/png": "[encoded data removed]",
      "text/plain": [
       "<Figure size 432x288 with 1 Axes>"
      ]
     },
     "metadata": {},
     "output_type": "display_data"
    },
    {
     "data": {
      "application/javascript": [
       "\n",
       "            setTimeout(function() {\n",
       "                var nbb_cell_id = 19;\n",
       "                var nbb_unformatted_code = \"df[\\\"goal_min\\\"].hist(bins=20)\";\n",
       "                var nbb_formatted_code = \"df[\\\"goal_min\\\"].hist(bins=20)\";\n",
       "                var nbb_cells = Jupyter.notebook.get_cells();\n",
       "                for (var i = 0; i < nbb_cells.length; ++i) {\n",
       "                    if (nbb_cells[i].input_prompt_number == nbb_cell_id) {\n",
       "                        if (nbb_cells[i].get_text() == nbb_unformatted_code) {\n",
       "                             nbb_cells[i].set_text(nbb_formatted_code);\n",
       "                        }\n",
       "                        break;\n",
       "                    }\n",
       "                }\n",
       "            }, 500);\n",
       "            "
      ],
      "text/plain": [
       "<IPython.core.display.Javascript object>"
      ]
     },
     "metadata": {},
     "output_type": "display_data"
    }
   ],
   "source": [
    "df[\"goal_min\"].hist(bins=20)"
   ]
  },
  {
   "cell_type": "code",
   "execution_count": 21,
   "id": "60c70d5f",
   "metadata": {},
   "outputs": [
    {
     "data": {
      "application/javascript": [
       "\n",
       "            setTimeout(function() {\n",
       "                var nbb_cell_id = 21;\n",
       "                var nbb_unformatted_code = \"std_scaler = StandardScaler()\\ndf[\\\"goal_std\\\"] = std_scaler.fit_transform(df[[\\\"goal\\\"]])\";\n",
       "                var nbb_formatted_code = \"std_scaler = StandardScaler()\\ndf[\\\"goal_std\\\"] = std_scaler.fit_transform(df[[\\\"goal\\\"]])\";\n",
       "                var nbb_cells = Jupyter.notebook.get_cells();\n",
       "                for (var i = 0; i < nbb_cells.length; ++i) {\n",
       "                    if (nbb_cells[i].input_prompt_number == nbb_cell_id) {\n",
       "                        if (nbb_cells[i].get_text() == nbb_unformatted_code) {\n",
       "                             nbb_cells[i].set_text(nbb_formatted_code);\n",
       "                        }\n",
       "                        break;\n",
       "                    }\n",
       "                }\n",
       "            }, 500);\n",
       "            "
      ],
      "text/plain": [
       "<IPython.core.display.Javascript object>"
      ]
     },
     "metadata": {},
     "output_type": "display_data"
    }
   ],
   "source": [
    "std_scaler = StandardScaler()\n",
    "df[\"goal_std\"] = std_scaler.fit_transform(df[[\"goal\"]])"
   ]
  },
  {
   "cell_type": "code",
   "execution_count": 22,
   "id": "74cf46f9",
   "metadata": {},
   "outputs": [
    {
     "data": {
      "text/plain": [
       "<AxesSubplot:>"
      ]
     },
     "execution_count": 22,
     "metadata": {},
     "output_type": "execute_result"
    },
    {
     "data": {
      "image/png": "[encoded data removed]",
      "text/plain": [
       "<Figure size 432x288 with 1 Axes>"
      ]
     },
     "metadata": {},
     "output_type": "display_data"
    },
    {
     "data": {
      "application/javascript": [
       "\n",
       "            setTimeout(function() {\n",
       "                var nbb_cell_id = 22;\n",
       "                var nbb_unformatted_code = \"df[\\\"goal_std\\\"].hist(bins=20)\";\n",
       "                var nbb_formatted_code = \"df[\\\"goal_std\\\"].hist(bins=20)\";\n",
       "                var nbb_cells = Jupyter.notebook.get_cells();\n",
       "                for (var i = 0; i < nbb_cells.length; ++i) {\n",
       "                    if (nbb_cells[i].input_prompt_number == nbb_cell_id) {\n",
       "                        if (nbb_cells[i].get_text() == nbb_unformatted_code) {\n",
       "                             nbb_cells[i].set_text(nbb_formatted_code);\n",
       "                        }\n",
       "                        break;\n",
       "                    }\n",
       "                }\n",
       "            }, 500);\n",
       "            "
      ],
      "text/plain": [
       "<IPython.core.display.Javascript object>"
      ]
     },
     "metadata": {},
     "output_type": "display_data"
    }
   ],
   "source": [
    "df[\"goal_std\"].hist(bins=20)"
   ]
  },
  {
   "cell_type": "code",
   "execution_count": 23,
   "id": "5153feb6",
   "metadata": {},
   "outputs": [
    {
     "data": {
      "text/plain": [
       "<AxesSubplot:xlabel='usd_goal_real', ylabel='Count'>"
      ]
     },
     "execution_count": 23,
     "metadata": {},
     "output_type": "execute_result"
    },
    {
     "data": {
      "image/png": "[encoded data removed]",
      "text/plain": [
       "<Figure size 432x288 with 1 Axes>"
      ]
     },
     "metadata": {},
     "output_type": "display_data"
    },
    {
     "data": {
      "application/javascript": [
       "\n",
       "            setTimeout(function() {\n",
       "                var nbb_cell_id = 23;\n",
       "                var nbb_unformatted_code = \"sns.histplot(data=df, x=\\\"usd_goal_real\\\", multiple=\\\"dodge\\\", kde=True)\";\n",
       "                var nbb_formatted_code = \"sns.histplot(data=df, x=\\\"usd_goal_real\\\", multiple=\\\"dodge\\\", kde=True)\";\n",
       "                var nbb_cells = Jupyter.notebook.get_cells();\n",
       "                for (var i = 0; i < nbb_cells.length; ++i) {\n",
       "                    if (nbb_cells[i].input_prompt_number == nbb_cell_id) {\n",
       "                        if (nbb_cells[i].get_text() == nbb_unformatted_code) {\n",
       "                             nbb_cells[i].set_text(nbb_formatted_code);\n",
       "                        }\n",
       "                        break;\n",
       "                    }\n",
       "                }\n",
       "            }, 500);\n",
       "            "
      ],
      "text/plain": [
       "<IPython.core.display.Javascript object>"
      ]
     },
     "metadata": {},
     "output_type": "display_data"
    }
   ],
   "source": [
    "sns.histplot(data=df, x=\"usd_goal_real\", multiple=\"dodge\", kde=True)"
   ]
  },
  {
   "cell_type": "code",
   "execution_count": 24,
   "id": "afd6408d",
   "metadata": {},
   "outputs": [
    {
     "data": {
      "application/javascript": [
       "\n",
       "            setTimeout(function() {\n",
       "                var nbb_cell_id = 24;\n",
       "                var nbb_unformatted_code = \"df[\\\"usd_goal_real_log\\\"] = np.log(df[\\\"usd_goal_real\\\"])\";\n",
       "                var nbb_formatted_code = \"df[\\\"usd_goal_real_log\\\"] = np.log(df[\\\"usd_goal_real\\\"])\";\n",
       "                var nbb_cells = Jupyter.notebook.get_cells();\n",
       "                for (var i = 0; i < nbb_cells.length; ++i) {\n",
       "                    if (nbb_cells[i].input_prompt_number == nbb_cell_id) {\n",
       "                        if (nbb_cells[i].get_text() == nbb_unformatted_code) {\n",
       "                             nbb_cells[i].set_text(nbb_formatted_code);\n",
       "                        }\n",
       "                        break;\n",
       "                    }\n",
       "                }\n",
       "            }, 500);\n",
       "            "
      ],
      "text/plain": [
       "<IPython.core.display.Javascript object>"
      ]
     },
     "metadata": {},
     "output_type": "display_data"
    }
   ],
   "source": [
    "df[\"usd_goal_real_log\"] = np.log(df[\"usd_goal_real\"])"
   ]
  },
  {
   "cell_type": "code",
   "execution_count": 25,
   "id": "1fdb5b57",
   "metadata": {},
   "outputs": [
    {
     "name": "stderr",
     "output_type": "stream",
     "text": [
      "/Users/pranabkb/opt/anaconda3/lib/python3.8/site-packages/seaborn/distributions.py:2557: FutureWarning: `distplot` is a deprecated function and will be removed in a future version. Please adapt your code to use either `displot` (a figure-level function with similar flexibility) or `histplot` (an axes-level function for histograms).\n",
      "  warnings.warn(msg, FutureWarning)\n"
     ]
    },
    {
     "data": {
      "text/plain": [
       "<AxesSubplot:xlabel='usd_goal_real_log', ylabel='Density'>"
      ]
     },
     "execution_count": 25,
     "metadata": {},
     "output_type": "execute_result"
    },
    {
     "data": {
      "image/png": "[encoded data removed]",
      "text/plain": [
       "<Figure size 432x288 with 1 Axes>"
      ]
     },
     "metadata": {},
     "output_type": "display_data"
    },
    {
     "data": {
      "application/javascript": [
       "\n",
       "            setTimeout(function() {\n",
       "                var nbb_cell_id = 25;\n",
       "                var nbb_unformatted_code = \"sns.distplot(df[\\\"usd_goal_real_log\\\"])\";\n",
       "                var nbb_formatted_code = \"sns.distplot(df[\\\"usd_goal_real_log\\\"])\";\n",
       "                var nbb_cells = Jupyter.notebook.get_cells();\n",
       "                for (var i = 0; i < nbb_cells.length; ++i) {\n",
       "                    if (nbb_cells[i].input_prompt_number == nbb_cell_id) {\n",
       "                        if (nbb_cells[i].get_text() == nbb_unformatted_code) {\n",
       "                             nbb_cells[i].set_text(nbb_formatted_code);\n",
       "                        }\n",
       "                        break;\n",
       "                    }\n",
       "                }\n",
       "            }, 500);\n",
       "            "
      ],
      "text/plain": [
       "<IPython.core.display.Javascript object>"
      ]
     },
     "metadata": {},
     "output_type": "display_data"
    }
   ],
   "source": [
    "sns.distplot(df[\"usd_goal_real_log\"])"
   ]
  },
  {
   "cell_type": "code",
   "execution_count": 26,
   "id": "750195d5",
   "metadata": {},
   "outputs": [
    {
     "name": "stdout",
     "output_type": "stream",
     "text": [
      "7     34477\n",
      "1     34346\n",
      "10    33409\n",
      "3     32837\n",
      "11    32135\n",
      "8     31619\n",
      "5     31573\n",
      "9     31538\n",
      "6     31381\n",
      "4     31038\n",
      "2     29876\n",
      "12    24428\n",
      "Name: Month, dtype: int64\n"
     ]
    },
    {
     "data": {
      "application/javascript": [
       "\n",
       "            setTimeout(function() {\n",
       "                var nbb_cell_id = 26;\n",
       "                var nbb_unformatted_code = \"df['launched_dt'] = pd.to_datetime(df['launched'])\\ndf['Month'] =pd.DatetimeIndex(df['launched_dt']).month\\nprint(df['Month'].value_counts())\";\n",
       "                var nbb_formatted_code = \"df[\\\"launched_dt\\\"] = pd.to_datetime(df[\\\"launched\\\"])\\ndf[\\\"Month\\\"] = pd.DatetimeIndex(df[\\\"launched_dt\\\"]).month\\nprint(df[\\\"Month\\\"].value_counts())\";\n",
       "                var nbb_cells = Jupyter.notebook.get_cells();\n",
       "                for (var i = 0; i < nbb_cells.length; ++i) {\n",
       "                    if (nbb_cells[i].input_prompt_number == nbb_cell_id) {\n",
       "                        if (nbb_cells[i].get_text() == nbb_unformatted_code) {\n",
       "                             nbb_cells[i].set_text(nbb_formatted_code);\n",
       "                        }\n",
       "                        break;\n",
       "                    }\n",
       "                }\n",
       "            }, 500);\n",
       "            "
      ],
      "text/plain": [
       "<IPython.core.display.Javascript object>"
      ]
     },
     "metadata": {},
     "output_type": "display_data"
    }
   ],
   "source": [
    "df[\"launched_dt\"] = pd.to_datetime(df[\"launched\"])\n",
    "df[\"Month\"] = pd.DatetimeIndex(df[\"launched_dt\"]).month\n",
    "print(df[\"Month\"].value_counts())"
   ]
  },
  {
   "cell_type": "code",
   "execution_count": 27,
   "id": "0f5577de",
   "metadata": {},
   "outputs": [
    {
     "data": {
      "text/plain": [
       "category\n",
       "Art              3221.093567\n",
       "Comics           6610.443828\n",
       "Crafts           1632.907282\n",
       "Dance            3452.946356\n",
       "Design          24417.846732\n",
       "Fashion          5712.450839\n",
       "Film & Video     6158.073703\n",
       "Food             5113.669716\n",
       "Games           21042.491442\n",
       "Journalism       2615.702568\n",
       "Music            3858.367608\n",
       "Photography      3571.909322\n",
       "Publishing       3349.951931\n",
       "Technology      21151.171165\n",
       "Theater          4005.918099\n",
       "Name: usd_pledged_real, dtype: float64"
      ]
     },
     "execution_count": 27,
     "metadata": {},
     "output_type": "execute_result"
    },
    {
     "data": {
      "application/javascript": [
       "\n",
       "            setTimeout(function() {\n",
       "                var nbb_cell_id = 27;\n",
       "                var nbb_unformatted_code = \"df.groupby(\\\"category\\\")[\\\"usd_pledged_real\\\"].mean()\";\n",
       "                var nbb_formatted_code = \"df.groupby(\\\"category\\\")[\\\"usd_pledged_real\\\"].mean()\";\n",
       "                var nbb_cells = Jupyter.notebook.get_cells();\n",
       "                for (var i = 0; i < nbb_cells.length; ++i) {\n",
       "                    if (nbb_cells[i].input_prompt_number == nbb_cell_id) {\n",
       "                        if (nbb_cells[i].get_text() == nbb_unformatted_code) {\n",
       "                             nbb_cells[i].set_text(nbb_formatted_code);\n",
       "                        }\n",
       "                        break;\n",
       "                    }\n",
       "                }\n",
       "            }, 500);\n",
       "            "
      ],
      "text/plain": [
       "<IPython.core.display.Javascript object>"
      ]
     },
     "metadata": {},
     "output_type": "display_data"
    }
   ],
   "source": [
    "df.groupby(\"category\")[\"usd_pledged_real\"].mean()"
   ]
  },
  {
   "cell_type": "code",
   "execution_count": 28,
   "id": "53e0cbf1",
   "metadata": {},
   "outputs": [
    {
     "data": {
      "text/plain": [
       "2935"
      ]
     },
     "execution_count": 28,
     "metadata": {},
     "output_type": "execute_result"
    },
    {
     "data": {
      "application/javascript": [
       "\n",
       "            setTimeout(function() {\n",
       "                var nbb_cell_id = 28;\n",
       "                var nbb_unformatted_code = \"df['name'].duplicated().sum()\";\n",
       "                var nbb_formatted_code = \"df[\\\"name\\\"].duplicated().sum()\";\n",
       "                var nbb_cells = Jupyter.notebook.get_cells();\n",
       "                for (var i = 0; i < nbb_cells.length; ++i) {\n",
       "                    if (nbb_cells[i].input_prompt_number == nbb_cell_id) {\n",
       "                        if (nbb_cells[i].get_text() == nbb_unformatted_code) {\n",
       "                             nbb_cells[i].set_text(nbb_formatted_code);\n",
       "                        }\n",
       "                        break;\n",
       "                    }\n",
       "                }\n",
       "            }, 500);\n",
       "            "
      ],
      "text/plain": [
       "<IPython.core.display.Javascript object>"
      ]
     },
     "metadata": {},
     "output_type": "display_data"
    }
   ],
   "source": [
    "df[\"name\"].duplicated().sum()"
   ]
  },
  {
   "cell_type": "code",
   "execution_count": null,
   "id": "2d045045",
   "metadata": {},
   "outputs": [],
   "source": []
  }
 ],
 "metadata": {
  "kernelspec": {
   "display_name": "Python 3",
   "language": "python",
   "name": "python3"
  },
  "language_info": {
   "codemirror_mode": {
    "name": "ipython",
    "version": 3
   },
   "file_extension": ".py",
   "mimetype": "text/x-python",
   "name": "python",
   "nbconvert_exporter": "python",
   "pygments_lexer": "ipython3",
   "version": "3.8.8"
  }
 },
 "nbformat": 4,
 "nbformat_minor": 5
}
