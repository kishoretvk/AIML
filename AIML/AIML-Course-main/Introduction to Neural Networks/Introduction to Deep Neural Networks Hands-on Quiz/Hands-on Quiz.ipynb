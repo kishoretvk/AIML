{
  "cells": [
    {
      "cell_type": "markdown",
      "metadata": {
        "id": "view-in-github",
        "colab_type": "text"
      },
      "source": [
        "<a href=\"https://colab.research.google.com/github/pranabkb/AIML-Course/blob/main/Introduction%20to%20Neural%20Networks/Introduction%20to%20Deep%20Neural%20Networks%20Hands-on%20Quiz/Hands-on%20Quiz.ipynb\" target=\"_parent\"><img src=\"https://colab.research.google.com/assets/colab-badge.svg\" alt=\"Open In Colab\"/></a>"
      ]
    },
    {
      "cell_type": "markdown",
      "id": "fc518f3d",
      "metadata": {
        "id": "fc518f3d"
      },
      "source": [
        "### Instructions\n",
        "\n",
        "**Please download and import the dataset 'Loan_payments_data.csv' into Jupyter Notebook to attempt the quiz.**\n",
        "\n",
        "**Context:**\n",
        "\n",
        "Since the beginning of the brief history of Neural Networks, there has been the need to clearly understand, how the computation in the Neural Network works. We also need to have a brief understanding of Keras and Tensorflow in order to understand the neurons and the layers in Neural Network in a better way. A dataset is also used in some of the questions of the quiz So you can download it beforehand and import it into jupyter notebook before attempting the Quiz.\n",
        "\n",
        "This data set includes customers who have paid off their loans, who have been past due and put into collection without paying back their loan and interests, and who have paid off only after they were put in the collection. The financial product is a bullet loan that customers should pay off all of their loan debt in just one time by the end of the term, instead of an installment schedule. Of course, they could pay off earlier than their pay schedule.\n",
        "\n",
        " \n",
        "\n",
        "### Attribute information:\n",
        "\n",
        "**LOAN_ID**: A unique loan number assigned to each loan customer\n",
        "\n",
        "**Loan_status**: Whether a loan is paid off, in the collection, new customer yet to pay off, or paid off after the collection efforts\n",
        "\n",
        "**Principal**: Basic principal loan amount at the origination\n",
        "\n",
        "**terms**: Can be weekly (7 days), biweekly, and monthly payoff schedule\n",
        "\n",
        "**Effective_date**: When the loan got originated and took effects\n",
        "\n",
        "**Due_date**: Since it’s a one-time payoff schedule, each loan has one single due date\n",
        "\n",
        "**Paidoff_time**: The actual time a customer pays off the loan\n",
        "\n",
        "**Pastdue_days**: How many days a loan has been past due\n",
        "\n",
        "**Age, education, gender**: A customer’s basic demographic information"
      ]
    },
    {
      "cell_type": "code",
      "source": [
        "from google.colab import drive\n",
        "drive.mount('/content/drive')"
      ],
      "metadata": {
        "colab": {
          "base_uri": "https://localhost:8080/"
        },
        "id": "BqBUp1RM6eGd",
        "outputId": "b9b6fed6-6675-46e5-ff5b-5601f10e0d77"
      },
      "id": "BqBUp1RM6eGd",
      "execution_count": 1,
      "outputs": [
        {
          "output_type": "stream",
          "name": "stdout",
          "text": [
            "Mounted at /content/drive\n"
          ]
        }
      ]
    },
    {
      "cell_type": "markdown",
      "metadata": {
        "id": "8612eb2e"
      },
      "source": [
        "### Loading the required libraries "
      ],
      "id": "8612eb2e"
    },
    {
      "cell_type": "code",
      "execution_count": 2,
      "metadata": {
        "id": "f1c8c027"
      },
      "outputs": [],
      "source": [
        "import numpy as np\n",
        "import pandas as pd\n",
        "import matplotlib.pyplot as plt\n",
        "import seaborn as sns\n",
        "sns.set()\n",
        "from matplotlib import pyplot\n",
        "from scipy import stats\n",
        "from sklearn.model_selection import train_test_split\n",
        "from sklearn import preprocessing\n",
        "from sklearn.preprocessing import StandardScaler\n",
        "from sklearn.metrics import explained_variance_score, mean_squared_error, r2_score, mean_absolute_error\n",
        "from collections import Counter\n",
        "from keras import callbacks\n",
        "import tensorflow as tf\n",
        "from tensorflow.keras.layers import Dense, Dropout,InputLayer\n",
        "from tensorflow.keras.models import Sequential\n",
        "from keras.layers import BatchNormalization\n",
        "from tensorflow.keras import regularizers\n",
        "from tensorflow.keras import backend\n",
        "from random import shuffle\n",
        "from keras.callbacks import ModelCheckpoint\n",
        "from tensorflow.keras.optimizers import Adam\n",
        "from tensorflow.keras.optimizers import RMSprop\n",
        "import warnings\n",
        "warnings.filterwarnings(\"ignore\")"
      ],
      "id": "f1c8c027"
    },
    {
      "cell_type": "code",
      "source": [
        "import os\n",
        "os.chdir(\"drive/MyDrive/Colab Notebooks/Data\")"
      ],
      "metadata": {
        "id": "vv6jAGa5-ueY"
      },
      "id": "vv6jAGa5-ueY",
      "execution_count": 3,
      "outputs": []
    },
    {
      "cell_type": "markdown",
      "metadata": {
        "id": "255ff0c3"
      },
      "source": [
        "#### Reading the Dataset "
      ],
      "id": "255ff0c3"
    },
    {
      "cell_type": "code",
      "source": [
        "os.listdir()"
      ],
      "metadata": {
        "colab": {
          "base_uri": "https://localhost:8080/"
        },
        "id": "2DJSwsEX-sZ3",
        "outputId": "b0c39c01-0e19-4b4b-e873-e7e0d0f29687"
      },
      "id": "2DJSwsEX-sZ3",
      "execution_count": 4,
      "outputs": [
        {
          "output_type": "execute_result",
          "data": {
            "text/plain": [
              "['Loan_payments_data.csv', 'new_preprocessed_data.csv']"
            ]
          },
          "metadata": {},
          "execution_count": 4
        }
      ]
    },
    {
      "cell_type": "code",
      "execution_count": 5,
      "metadata": {
        "id": "f4843f95"
      },
      "outputs": [],
      "source": [
        "#Since data is in form of csv file we have to use pandas pd.read_csv to load the data.\n",
        "data = pd.read_csv('Loan_payments_data.csv')"
      ],
      "id": "f4843f95"
    },
    {
      "cell_type": "markdown",
      "metadata": {
        "id": "02bf07e4"
      },
      "source": [
        "#### Print the first five rows of the data"
      ],
      "id": "02bf07e4"
    },
    {
      "cell_type": "code",
      "execution_count": 6,
      "metadata": {
        "colab": {
          "base_uri": "https://localhost:8080/",
          "height": 206
        },
        "id": "fe693428",
        "outputId": "bf22ac42-6ad0-4764-f24f-893087fdae66"
      },
      "outputs": [
        {
          "output_type": "execute_result",
          "data": {
            "text/html": [
              "\n",
              "  <div id=\"df-6f9e7ae7-0670-4c2c-91c4-36e7558a809d\">\n",
              "    <div class=\"colab-df-container\">\n",
              "      <div>\n",
              "<style scoped>\n",
              "    .dataframe tbody tr th:only-of-type {\n",
              "        vertical-align: middle;\n",
              "    }\n",
              "\n",
              "    .dataframe tbody tr th {\n",
              "        vertical-align: top;\n",
              "    }\n",
              "\n",
              "    .dataframe thead th {\n",
              "        text-align: right;\n",
              "    }\n",
              "</style>\n",
              "<table border=\"1\" class=\"dataframe\">\n",
              "  <thead>\n",
              "    <tr style=\"text-align: right;\">\n",
              "      <th></th>\n",
              "      <th>Loan_ID</th>\n",
              "      <th>loan_status</th>\n",
              "      <th>Principal</th>\n",
              "      <th>terms</th>\n",
              "      <th>effective_date</th>\n",
              "      <th>due_date</th>\n",
              "      <th>paid_off_time</th>\n",
              "      <th>past_due_days</th>\n",
              "      <th>age</th>\n",
              "      <th>education</th>\n",
              "      <th>Gender</th>\n",
              "    </tr>\n",
              "  </thead>\n",
              "  <tbody>\n",
              "    <tr>\n",
              "      <th>0</th>\n",
              "      <td>xqd20166231</td>\n",
              "      <td>PAIDOFF</td>\n",
              "      <td>1000</td>\n",
              "      <td>30</td>\n",
              "      <td>9/8/2016</td>\n",
              "      <td>10/7/2016</td>\n",
              "      <td>9/14/2016 19:31</td>\n",
              "      <td>NaN</td>\n",
              "      <td>45</td>\n",
              "      <td>High School or Below</td>\n",
              "      <td>male</td>\n",
              "    </tr>\n",
              "    <tr>\n",
              "      <th>1</th>\n",
              "      <td>xqd20168902</td>\n",
              "      <td>PAIDOFF</td>\n",
              "      <td>1000</td>\n",
              "      <td>30</td>\n",
              "      <td>9/8/2016</td>\n",
              "      <td>10/7/2016</td>\n",
              "      <td>10/7/2016 9:00</td>\n",
              "      <td>NaN</td>\n",
              "      <td>50</td>\n",
              "      <td>Bechalor</td>\n",
              "      <td>female</td>\n",
              "    </tr>\n",
              "    <tr>\n",
              "      <th>2</th>\n",
              "      <td>xqd20160003</td>\n",
              "      <td>PAIDOFF</td>\n",
              "      <td>1000</td>\n",
              "      <td>30</td>\n",
              "      <td>9/8/2016</td>\n",
              "      <td>10/7/2016</td>\n",
              "      <td>9/25/2016 16:58</td>\n",
              "      <td>NaN</td>\n",
              "      <td>33</td>\n",
              "      <td>Bechalor</td>\n",
              "      <td>female</td>\n",
              "    </tr>\n",
              "    <tr>\n",
              "      <th>3</th>\n",
              "      <td>xqd20160004</td>\n",
              "      <td>PAIDOFF</td>\n",
              "      <td>1000</td>\n",
              "      <td>15</td>\n",
              "      <td>9/8/2016</td>\n",
              "      <td>9/22/2016</td>\n",
              "      <td>9/22/2016 20:00</td>\n",
              "      <td>NaN</td>\n",
              "      <td>27</td>\n",
              "      <td>college</td>\n",
              "      <td>male</td>\n",
              "    </tr>\n",
              "    <tr>\n",
              "      <th>4</th>\n",
              "      <td>xqd20160005</td>\n",
              "      <td>PAIDOFF</td>\n",
              "      <td>1000</td>\n",
              "      <td>30</td>\n",
              "      <td>9/9/2016</td>\n",
              "      <td>10/8/2016</td>\n",
              "      <td>9/23/2016 21:36</td>\n",
              "      <td>NaN</td>\n",
              "      <td>28</td>\n",
              "      <td>college</td>\n",
              "      <td>female</td>\n",
              "    </tr>\n",
              "  </tbody>\n",
              "</table>\n",
              "</div>\n",
              "      <button class=\"colab-df-convert\" onclick=\"convertToInteractive('df-6f9e7ae7-0670-4c2c-91c4-36e7558a809d')\"\n",
              "              title=\"Convert this dataframe to an interactive table.\"\n",
              "              style=\"display:none;\">\n",
              "        \n",
              "  <svg xmlns=\"http://www.w3.org/2000/svg\" height=\"24px\"viewBox=\"0 0 24 24\"\n",
              "       width=\"24px\">\n",
              "    <path d=\"M0 0h24v24H0V0z\" fill=\"none\"/>\n",
              "    <path d=\"M18.56 5.44l.94 2.06.94-2.06 2.06-.94-2.06-.94-.94-2.06-.94 2.06-2.06.94zm-11 1L8.5 8.5l.94-2.06 2.06-.94-2.06-.94L8.5 2.5l-.94 2.06-2.06.94zm10 10l.94 2.06.94-2.06 2.06-.94-2.06-.94-.94-2.06-.94 2.06-2.06.94z\"/><path d=\"M17.41 7.96l-1.37-1.37c-.4-.4-.92-.59-1.43-.59-.52 0-1.04.2-1.43.59L10.3 9.45l-7.72 7.72c-.78.78-.78 2.05 0 2.83L4 21.41c.39.39.9.59 1.41.59.51 0 1.02-.2 1.41-.59l7.78-7.78 2.81-2.81c.8-.78.8-2.07 0-2.86zM5.41 20L4 18.59l7.72-7.72 1.47 1.35L5.41 20z\"/>\n",
              "  </svg>\n",
              "      </button>\n",
              "      \n",
              "  <style>\n",
              "    .colab-df-container {\n",
              "      display:flex;\n",
              "      flex-wrap:wrap;\n",
              "      gap: 12px;\n",
              "    }\n",
              "\n",
              "    .colab-df-convert {\n",
              "      background-color: #E8F0FE;\n",
              "      border: none;\n",
              "      border-radius: 50%;\n",
              "      cursor: pointer;\n",
              "      display: none;\n",
              "      fill: #1967D2;\n",
              "      height: 32px;\n",
              "      padding: 0 0 0 0;\n",
              "      width: 32px;\n",
              "    }\n",
              "\n",
              "    .colab-df-convert:hover {\n",
              "      background-color: #E2EBFA;\n",
              "      box-shadow: 0px 1px 2px rgba(60, 64, 67, 0.3), 0px 1px 3px 1px rgba(60, 64, 67, 0.15);\n",
              "      fill: #174EA6;\n",
              "    }\n",
              "\n",
              "    [theme=dark] .colab-df-convert {\n",
              "      background-color: #3B4455;\n",
              "      fill: #D2E3FC;\n",
              "    }\n",
              "\n",
              "    [theme=dark] .colab-df-convert:hover {\n",
              "      background-color: #434B5C;\n",
              "      box-shadow: 0px 1px 3px 1px rgba(0, 0, 0, 0.15);\n",
              "      filter: drop-shadow(0px 1px 2px rgba(0, 0, 0, 0.3));\n",
              "      fill: #FFFFFF;\n",
              "    }\n",
              "  </style>\n",
              "\n",
              "      <script>\n",
              "        const buttonEl =\n",
              "          document.querySelector('#df-6f9e7ae7-0670-4c2c-91c4-36e7558a809d button.colab-df-convert');\n",
              "        buttonEl.style.display =\n",
              "          google.colab.kernel.accessAllowed ? 'block' : 'none';\n",
              "\n",
              "        async function convertToInteractive(key) {\n",
              "          const element = document.querySelector('#df-6f9e7ae7-0670-4c2c-91c4-36e7558a809d');\n",
              "          const dataTable =\n",
              "            await google.colab.kernel.invokeFunction('convertToInteractive',\n",
              "                                                     [key], {});\n",
              "          if (!dataTable) return;\n",
              "\n",
              "          const docLinkHtml = 'Like what you see? Visit the ' +\n",
              "            '<a target=\"_blank\" href=https://colab.research.google.com/notebooks/data_table.ipynb>data table notebook</a>'\n",
              "            + ' to learn more about interactive tables.';\n",
              "          element.innerHTML = '';\n",
              "          dataTable['output_type'] = 'display_data';\n",
              "          await google.colab.output.renderOutput(dataTable, element);\n",
              "          const docLink = document.createElement('div');\n",
              "          docLink.innerHTML = docLinkHtml;\n",
              "          element.appendChild(docLink);\n",
              "        }\n",
              "      </script>\n",
              "    </div>\n",
              "  </div>\n",
              "  "
            ],
            "text/plain": [
              "       Loan_ID loan_status  Principal  ...  age             education  Gender\n",
              "0  xqd20166231     PAIDOFF       1000  ...   45  High School or Below    male\n",
              "1  xqd20168902     PAIDOFF       1000  ...   50              Bechalor  female\n",
              "2  xqd20160003     PAIDOFF       1000  ...   33              Bechalor  female\n",
              "3  xqd20160004     PAIDOFF       1000  ...   27               college    male\n",
              "4  xqd20160005     PAIDOFF       1000  ...   28               college  female\n",
              "\n",
              "[5 rows x 11 columns]"
            ]
          },
          "metadata": {},
          "execution_count": 6
        }
      ],
      "source": [
        "data.head()"
      ],
      "id": "fe693428"
    },
    {
      "cell_type": "code",
      "execution_count": 7,
      "metadata": {
        "colab": {
          "base_uri": "https://localhost:8080/"
        },
        "id": "8e9ae0b7",
        "outputId": "08bbe6ff-9ee4-4ffd-cc5b-00992515af39"
      },
      "outputs": [
        {
          "output_type": "stream",
          "name": "stdout",
          "text": [
            "<class 'pandas.core.frame.DataFrame'>\n",
            "RangeIndex: 500 entries, 0 to 499\n",
            "Data columns (total 11 columns):\n",
            " #   Column          Non-Null Count  Dtype  \n",
            "---  ------          --------------  -----  \n",
            " 0   Loan_ID         500 non-null    object \n",
            " 1   loan_status     500 non-null    object \n",
            " 2   Principal       500 non-null    int64  \n",
            " 3   terms           500 non-null    int64  \n",
            " 4   effective_date  500 non-null    object \n",
            " 5   due_date        500 non-null    object \n",
            " 6   paid_off_time   400 non-null    object \n",
            " 7   past_due_days   200 non-null    float64\n",
            " 8   age             500 non-null    int64  \n",
            " 9   education       500 non-null    object \n",
            " 10  Gender          500 non-null    object \n",
            "dtypes: float64(1), int64(3), object(7)\n",
            "memory usage: 43.1+ KB\n"
          ]
        }
      ],
      "source": [
        "#Information about the data\n",
        "data.info() "
      ],
      "id": "8e9ae0b7"
    },
    {
      "cell_type": "code",
      "execution_count": 8,
      "metadata": {
        "colab": {
          "base_uri": "https://localhost:8080/"
        },
        "id": "d0bcad9a",
        "outputId": "f91f00f2-59ef-438f-dabf-978224a33ebf"
      },
      "outputs": [
        {
          "output_type": "execute_result",
          "data": {
            "text/plain": [
              "(500, 11)"
            ]
          },
          "metadata": {},
          "execution_count": 8
        }
      ],
      "source": [
        "#Checking the shape of the data\n",
        "data.shape"
      ],
      "id": "d0bcad9a"
    },
    {
      "cell_type": "code",
      "execution_count": 9,
      "metadata": {
        "colab": {
          "base_uri": "https://localhost:8080/"
        },
        "id": "f8f58a15",
        "outputId": "aaeaf15d-cd5f-4731-e726-ba3a7665b6cb"
      },
      "outputs": [
        {
          "output_type": "execute_result",
          "data": {
            "text/plain": [
              "Loan_ID             0\n",
              "loan_status         0\n",
              "Principal           0\n",
              "terms               0\n",
              "effective_date      0\n",
              "due_date            0\n",
              "paid_off_time     100\n",
              "past_due_days     300\n",
              "age                 0\n",
              "education           0\n",
              "Gender              0\n",
              "dtype: int64"
            ]
          },
          "metadata": {},
          "execution_count": 9
        }
      ],
      "source": [
        "#finding the null values\n",
        "data.isnull().sum()"
      ],
      "id": "f8f58a15"
    },
    {
      "cell_type": "markdown",
      "metadata": {
        "id": "fdaa95bf"
      },
      "source": [
        "* Those 2 values belong to a single row so we can drop that row"
      ],
      "id": "fdaa95bf"
    },
    {
      "cell_type": "code",
      "execution_count": 10,
      "metadata": {
        "id": "08e436c2"
      },
      "outputs": [],
      "source": [
        "#drop the nullvalues\n",
        "#data.dropna(inplace=True)"
      ],
      "id": "08e436c2"
    },
    {
      "cell_type": "code",
      "execution_count": 11,
      "metadata": {
        "colab": {
          "base_uri": "https://localhost:8080/"
        },
        "id": "3b804825",
        "outputId": "4118743f-aad6-4902-87b6-a9ee36eb243c"
      },
      "outputs": [
        {
          "output_type": "execute_result",
          "data": {
            "text/plain": [
              "Loan_ID             0\n",
              "loan_status         0\n",
              "Principal           0\n",
              "terms               0\n",
              "effective_date      0\n",
              "due_date            0\n",
              "paid_off_time     100\n",
              "past_due_days     300\n",
              "age                 0\n",
              "education           0\n",
              "Gender              0\n",
              "dtype: int64"
            ]
          },
          "metadata": {},
          "execution_count": 11
        }
      ],
      "source": [
        "data.isnull().sum()"
      ],
      "id": "3b804825"
    },
    {
      "cell_type": "code",
      "execution_count": 12,
      "metadata": {
        "colab": {
          "base_uri": "https://localhost:8080/"
        },
        "id": "1f7ee352",
        "outputId": "7a81914f-5173-4a06-caa3-6534c73c82f1"
      },
      "outputs": [
        {
          "output_type": "execute_result",
          "data": {
            "text/plain": [
              "Loan_ID            object\n",
              "loan_status        object\n",
              "Principal           int64\n",
              "terms               int64\n",
              "effective_date     object\n",
              "due_date           object\n",
              "paid_off_time      object\n",
              "past_due_days     float64\n",
              "age                 int64\n",
              "education          object\n",
              "Gender             object\n",
              "dtype: object"
            ]
          },
          "metadata": {},
          "execution_count": 12
        }
      ],
      "source": [
        "#Checking the dtypes of the variables in the data\n",
        "data.dtypes"
      ],
      "id": "1f7ee352"
    },
    {
      "cell_type": "markdown",
      "metadata": {
        "id": "c3369c31"
      },
      "source": [
        "* The dtypes of 'Date_of_Journey','Dep_Time',and 'Arrival_Time' is in object, so firstly converting it into datetime dtype "
      ],
      "id": "c3369c31"
    },
    {
      "cell_type": "code",
      "source": [
        "# Creating a function to convert those columns into datetime dtype\n",
        "def To_Datetime(data,column):\n",
        "    data[column] = pd.to_datetime(data[column])\n",
        "    return data[column]"
      ],
      "metadata": {
        "id": "n6EdHzUpQbSY"
      },
      "id": "n6EdHzUpQbSY",
      "execution_count": 13,
      "outputs": []
    },
    {
      "cell_type": "code",
      "source": [
        "To_Datetime(data,'effective_date')\n",
        "To_Datetime(data,'due_date')\n",
        "To_Datetime(data,'paid_off_time')"
      ],
      "metadata": {
        "colab": {
          "base_uri": "https://localhost:8080/"
        },
        "id": "-RMeQWlgQJxP",
        "outputId": "869063b5-1767-4961-b325-142d77cfa424"
      },
      "id": "-RMeQWlgQJxP",
      "execution_count": 14,
      "outputs": [
        {
          "output_type": "execute_result",
          "data": {
            "text/plain": [
              "0     2016-09-14 19:31:00\n",
              "1     2016-10-07 09:00:00\n",
              "2     2016-09-25 16:58:00\n",
              "3     2016-09-22 20:00:00\n",
              "4     2016-09-23 21:36:00\n",
              "              ...        \n",
              "495   2016-10-14 19:08:00\n",
              "496   2016-10-10 20:02:00\n",
              "497   2016-09-29 11:49:00\n",
              "498   2016-11-11 22:40:00\n",
              "499   2016-10-19 11:58:00\n",
              "Name: paid_off_time, Length: 500, dtype: datetime64[ns]"
            ]
          },
          "metadata": {},
          "execution_count": 14
        }
      ]
    },
    {
      "cell_type": "code",
      "execution_count": 15,
      "metadata": {
        "id": "46dae511"
      },
      "outputs": [],
      "source": [
        "data.drop(['Loan_ID'],axis=1,inplace=True)"
      ],
      "id": "46dae511"
    },
    {
      "cell_type": "markdown",
      "metadata": {
        "id": "433479f2"
      },
      "source": [
        "* Lets Apply pre-processing on duration column,Separate Duration hours and minute from duration"
      ],
      "id": "433479f2"
    },
    {
      "cell_type": "markdown",
      "metadata": {
        "id": "d666a43f"
      },
      "source": [
        "### Exploratory Data Analysis"
      ],
      "id": "d666a43f"
    },
    {
      "cell_type": "markdown",
      "metadata": {
        "id": "f7j_-2-GNL_Q"
      },
      "source": [
        "#### Univariate Analysis"
      ],
      "id": "f7j_-2-GNL_Q"
    },
    {
      "cell_type": "code",
      "execution_count": 16,
      "metadata": {
        "id": "WzR5TWMqPifn"
      },
      "outputs": [],
      "source": [
        "# function to create labeled barplots\n",
        "\n",
        "\n",
        "def labeled_barplot(data, feature, perc=False, n=None):\n",
        "    \"\"\"\n",
        "    Barplot with percentage at the top\n",
        "\n",
        "    data: dataframe\n",
        "    feature: dataframe column\n",
        "    perc: whether to display percentages instead of count (default is False)\n",
        "    n: displays the top n category levels (default is None, i.e., display all levels)\n",
        "    \"\"\"\n",
        "\n",
        "    total = len(data[feature])  # length of the column\n",
        "    count = data[feature].nunique()\n",
        "    if n is None:\n",
        "        plt.figure(figsize=(count + 1, 5))\n",
        "    else:\n",
        "        plt.figure(figsize=(n + 1, 5))\n",
        "\n",
        "    plt.xticks(rotation=90, fontsize=15)\n",
        "    ax = sns.countplot(\n",
        "        data=data,\n",
        "        x=feature,\n",
        "        palette=\"Paired\",\n",
        "        order=data[feature].value_counts().index[:n].sort_values(),\n",
        "    )\n",
        "\n",
        "    for p in ax.patches:\n",
        "        if perc == True:\n",
        "            label = \"{:.1f}%\".format(\n",
        "                100 * p.get_height() / total\n",
        "            )  # percentage of each class of the category\n",
        "        else:\n",
        "            label = p.get_height()  # count of each level of the category\n",
        "\n",
        "        x = p.get_x() + p.get_width() / 2  # width of the plot\n",
        "        y = p.get_height()  # height of the plot\n",
        "\n",
        "        ax.annotate(\n",
        "            label,\n",
        "            (x, y),\n",
        "            ha=\"center\",\n",
        "            va=\"center\",\n",
        "            size=12,\n",
        "            xytext=(0, 5),\n",
        "            textcoords=\"offset points\",\n",
        "        )  # annotate the percentage\n",
        "\n",
        "    plt.show()  # show the plot"
      ],
      "id": "WzR5TWMqPifn"
    },
    {
      "cell_type": "code",
      "source": [
        "# function to plot a boxplot and a histogram along the same scale.\n",
        "\n",
        "\n",
        "def histogram_boxplot(data, feature, figsize=(12, 7), kde=False, bins=None):\n",
        "    \"\"\"\n",
        "    Boxplot and histogram combined\n",
        "\n",
        "    data: dataframe\n",
        "    feature: dataframe column\n",
        "    figsize: size of figure (default (12,7))\n",
        "    kde: whether to the show density curve (default False)\n",
        "    bins: number of bins for histogram (default None)\n",
        "    \"\"\"\n",
        "    f2, (ax_box2, ax_hist2) = plt.subplots(\n",
        "        nrows=2,  # Number of rows of the subplot grid= 2\n",
        "        sharex=True,  # x-axis will be shared among all subplots\n",
        "        gridspec_kw={\"height_ratios\": (0.25, 0.75)},\n",
        "        figsize=figsize,\n",
        "    )  # creating the 2 subplots\n",
        "    sns.boxplot(\n",
        "        data=data, x=feature, ax=ax_box2, showmeans=True, color=\"violet\"\n",
        "    )  # boxplot will be created and a star will indicate the mean value of the column\n",
        "    sns.histplot(\n",
        "        data=data, x=feature, kde=kde, ax=ax_hist2, bins=bins, palette=\"winter\"\n",
        "    ) if bins else sns.histplot(\n",
        "        data=data, x=feature, kde=kde, ax=ax_hist2\n",
        "    )  # For histogram\n",
        "    ax_hist2.axvline(\n",
        "        data[feature].mean(), color=\"green\", linestyle=\"--\"\n",
        "    )  # Add mean to the histogram\n",
        "    ax_hist2.axvline(\n",
        "        data[feature].median(), color=\"black\", linestyle=\"-\"\n",
        "    )  # Add median to the histogram"
      ],
      "metadata": {
        "id": "Wlh1oAPEMRfq"
      },
      "id": "Wlh1oAPEMRfq",
      "execution_count": 17,
      "outputs": []
    },
    {
      "cell_type": "code",
      "source": [
        "# selecting numerical columns\n",
        "num_cols = data.select_dtypes(include=np.number).columns.tolist()\n",
        "\n",
        "for item in num_cols:\n",
        "    histogram_boxplot(data, item, bins=50, kde=True, figsize=(10, 5))"
      ],
      "metadata": {
        "colab": {
          "base_uri": "https://localhost:8080/",
          "height": 1000
        },
        "id": "m7bE6N3cM2P-",
        "outputId": "b38931f8-26ec-4028-ac8e-188bf7914ea4"
      },
      "id": "m7bE6N3cM2P-",
      "execution_count": 18,
      "outputs": [
        {
          "output_type": "display_data",
          "data": {
            "image/png": "[encoded data removed]",
            "text/plain": [
              "<Figure size 720x360 with 2 Axes>"
            ]
          },
          "metadata": {}
        },
        {
          "output_type": "display_data",
          "data": {
            "image/png": "[encoded data removed]",
            "text/plain": [
              "<Figure size 720x360 with 2 Axes>"
            ]
          },
          "metadata": {}
        },
        {
          "output_type": "display_data",
          "data": {
            "image/png": "[encoded data removed]",
            "text/plain": [
              "<Figure size 720x360 with 2 Axes>"
            ]
          },
          "metadata": {}
        },
        {
          "output_type": "display_data",
          "data": {
            "image/png": "[encoded data removed]",
            "text/plain": [
              "<Figure size 720x360 with 2 Axes>"
            ]
          },
          "metadata": {}
        }
      ]
    },
    {
      "cell_type": "code",
      "source": [
        "# selecting numerical columns\n",
        "obj_cols = data.select_dtypes(include=np.object).columns.tolist()\n",
        "\n",
        "for item in obj_cols:\n",
        "    labeled_barplot(data, item, perc=True)"
      ],
      "metadata": {
        "colab": {
          "base_uri": "https://localhost:8080/",
          "height": 1000
        },
        "id": "Q1zV0JmHNDcb",
        "outputId": "65b639b4-8720-4926-9cf0-9a2700acc348"
      },
      "id": "Q1zV0JmHNDcb",
      "execution_count": 19,
      "outputs": [
        {
          "output_type": "display_data",
          "data": {
            "image/png": "[encoded data removed]",
            "text/plain": [
              "<Figure size 288x360 with 1 Axes>"
            ]
          },
          "metadata": {}
        },
        {
          "output_type": "display_data",
          "data": {
            "image/png": "[encoded data removed]",
            "text/plain": [
              "<Figure size 360x360 with 1 Axes>"
            ]
          },
          "metadata": {}
        },
        {
          "output_type": "display_data",
          "data": {
            "image/png": "[encoded data removed]",
            "text/plain": [
              "<Figure size 216x360 with 1 Axes>"
            ]
          },
          "metadata": {}
        }
      ]
    },
    {
      "cell_type": "markdown",
      "metadata": {
        "id": "YC9WbMHfRsEM"
      },
      "source": [
        "### Bivariate analysis"
      ],
      "id": "YC9WbMHfRsEM"
    },
    {
      "cell_type": "code",
      "execution_count": 20,
      "metadata": {
        "colab": {
          "base_uri": "https://localhost:8080/",
          "height": 436
        },
        "id": "QD2S3V_eR5dL",
        "outputId": "84258f0c-ee55-4eb6-a8cf-53ca878d4f59"
      },
      "outputs": [
        {
          "output_type": "display_data",
          "data": {
            "image/png": "[encoded data removed]",
            "text/plain": [
              "<Figure size 1080x504 with 2 Axes>"
            ]
          },
          "metadata": {}
        }
      ],
      "source": [
        "plt.figure(figsize=(15, 7))\n",
        "sns.heatmap(\n",
        "    data.corr(), annot=True, vmin=-1, vmax=1, fmt=\".2f\", cmap=\"Spectral\"\n",
        ")\n",
        "plt.show()"
      ],
      "id": "QD2S3V_eR5dL"
    },
    {
      "cell_type": "markdown",
      "metadata": {
        "id": "HZb0LvkpSds-"
      },
      "source": [
        "* Day of Journey is highly correlated to target column"
      ],
      "id": "HZb0LvkpSds-"
    },
    {
      "cell_type": "code",
      "source": [
        "### function to plot distributions\n",
        "\n",
        "\n",
        "def distribution_plot_wrt_target(data, predictor, target):\n",
        "\n",
        "    fig, axs = plt.subplots(2, 2, figsize=(12, 10))\n",
        "\n",
        "    axs[0, 0].set_title(\"Distribution of \" + predictor)\n",
        "    sns.histplot(\n",
        "        data=data, x=predictor, kde=True, ax=axs[0, 0], color=\"teal\", stat=\"density\",\n",
        "    )\n",
        "\n",
        "    axs[0, 1].set_title(\"Distribution of \" + target)\n",
        "    sns.histplot(\n",
        "        data=data, x=target, kde=True, ax=axs[0, 1], color=\"orange\", stat=\"density\",\n",
        "    )\n",
        "\n",
        "    axs[1, 0].set_title(\"Boxplot w.r.t target\")\n",
        "    sns.boxplot(data=data, x=target, y=predictor, ax=axs[1, 0], palette=\"gist_rainbow\")\n",
        "\n",
        "    axs[1, 1].set_title(\"Boxplot (without outliers) w.r.t target\")\n",
        "    sns.boxplot(\n",
        "        data=data,\n",
        "        x=target,\n",
        "        y=predictor,\n",
        "        ax=axs[1, 1],\n",
        "        showfliers=False,\n",
        "        palette=\"gist_rainbow\",\n",
        "    )\n",
        "\n",
        "    plt.tight_layout()\n",
        "    plt.show()"
      ],
      "metadata": {
        "id": "0O_kiYSD1xA6"
      },
      "id": "0O_kiYSD1xA6",
      "execution_count": 21,
      "outputs": []
    },
    {
      "cell_type": "code",
      "source": [
        "def stacked_barplot(data, predictor, target):\n",
        "    \"\"\"\n",
        "    Print the category counts and plot a stacked bar chart\n",
        "\n",
        "    data: dataframe\n",
        "    predictor: independent variable\n",
        "    target: target variable\n",
        "    \"\"\"\n",
        "    count = data[predictor].nunique()\n",
        "    sorter = data[target].value_counts().index[-1]\n",
        "    tab1 = pd.crosstab(data[predictor], data[target], margins=True).sort_values(\n",
        "        by=sorter, ascending=False\n",
        "    )\n",
        "    print(tab1)\n",
        "    print(\"-\" * 120)\n",
        "    tab = pd.crosstab(data[predictor], data[target], normalize=\"index\").sort_values(\n",
        "        by=sorter, ascending=False\n",
        "    )\n",
        "    tab.plot(kind=\"bar\", stacked=True, figsize=(count + 5, 5))\n",
        "    plt.legend(\n",
        "        loc=\"lower left\", frameon=False,\n",
        "    )\n",
        "    plt.legend(loc=\"upper left\", bbox_to_anchor=(1, 1))\n",
        "    plt.show()"
      ],
      "metadata": {
        "id": "eDX1L87O7vW3"
      },
      "id": "eDX1L87O7vW3",
      "execution_count": 22,
      "outputs": []
    },
    {
      "cell_type": "code",
      "source": [
        "stacked_barplot(data, \"Gender\", \"past_due_days\")"
      ],
      "metadata": {
        "id": "OUm39Vnw2YR3",
        "outputId": "261f6bbc-ec43-4376-a7ca-3a816dc8ba02",
        "colab": {
          "base_uri": "https://localhost:8080/",
          "height": 690
        }
      },
      "id": "OUm39Vnw2YR3",
      "execution_count": 23,
      "outputs": [
        {
          "output_type": "stream",
          "name": "stdout",
          "text": [
            "past_due_days  1.0  2.0  3.0  4.0  5.0  6.0  ...  61.0  73.0  74.0  75.0  76.0  All\n",
            "Gender                                       ...                                   \n",
            "male            13   18   13    8    4    2  ...     2     1    23     5     3  176\n",
            "All             18   22   14    8    5    2  ...     2     1    25     7     3  200\n",
            "female           5    4    1    0    1    0  ...     0     0     2     2     0   24\n",
            "\n",
            "[3 rows x 34 columns]\n",
            "------------------------------------------------------------------------------------------------------------------------\n"
          ]
        },
        {
          "output_type": "display_data",
          "data": {
            "image/png": "[encoded data removed]",
            "text/plain": [
              "<Figure size 504x360 with 1 Axes>"
            ]
          },
          "metadata": {}
        }
      ]
    },
    {
      "cell_type": "markdown",
      "source": [
        "### Data Preprocessing"
      ],
      "metadata": {
        "id": "PCuDwB7S2iF_"
      },
      "id": "PCuDwB7S2iF_"
    },
    {
      "cell_type": "code",
      "source": [
        "data_pre = data.copy()"
      ],
      "metadata": {
        "id": "wpYyxF7G31xj"
      },
      "id": "wpYyxF7G31xj",
      "execution_count": 24,
      "outputs": []
    },
    {
      "cell_type": "code",
      "source": [
        "data_pre['actual_tenure_days'] = (data_pre['due_date'] - data_pre['effective_date'])/np.timedelta64(1,'D')\n",
        "data_pre['paidoff_tenure_days'] = (data_pre['paid_off_time'] - data_pre['effective_date'])/np.timedelta64(1,'D')"
      ],
      "metadata": {
        "id": "v2woZ-XtoHYb"
      },
      "id": "v2woZ-XtoHYb",
      "execution_count": 25,
      "outputs": []
    },
    {
      "cell_type": "code",
      "execution_count": 26,
      "metadata": {
        "colab": {
          "base_uri": "https://localhost:8080/",
          "height": 357
        },
        "id": "b741e77d",
        "outputId": "d5277a0d-651b-4699-f9e3-f630378e32e0"
      },
      "outputs": [
        {
          "output_type": "execute_result",
          "data": {
            "text/html": [
              "\n",
              "  <div id=\"df-caa9b45c-ac79-497a-b0c5-6e37296997aa\">\n",
              "    <div class=\"colab-df-container\">\n",
              "      <div>\n",
              "<style scoped>\n",
              "    .dataframe tbody tr th:only-of-type {\n",
              "        vertical-align: middle;\n",
              "    }\n",
              "\n",
              "    .dataframe tbody tr th {\n",
              "        vertical-align: top;\n",
              "    }\n",
              "\n",
              "    .dataframe thead th {\n",
              "        text-align: right;\n",
              "    }\n",
              "</style>\n",
              "<table border=\"1\" class=\"dataframe\">\n",
              "  <thead>\n",
              "    <tr style=\"text-align: right;\">\n",
              "      <th></th>\n",
              "      <th>loan_status</th>\n",
              "      <th>Principal</th>\n",
              "      <th>terms</th>\n",
              "      <th>effective_date</th>\n",
              "      <th>due_date</th>\n",
              "      <th>paid_off_time</th>\n",
              "      <th>past_due_days</th>\n",
              "      <th>age</th>\n",
              "      <th>education</th>\n",
              "      <th>Gender</th>\n",
              "      <th>actual_tenure_days</th>\n",
              "      <th>paidoff_tenure_days</th>\n",
              "    </tr>\n",
              "  </thead>\n",
              "  <tbody>\n",
              "    <tr>\n",
              "      <th>0</th>\n",
              "      <td>PAIDOFF</td>\n",
              "      <td>1000</td>\n",
              "      <td>30</td>\n",
              "      <td>2016-09-08</td>\n",
              "      <td>2016-10-07</td>\n",
              "      <td>2016-09-14 19:31:00</td>\n",
              "      <td>NaN</td>\n",
              "      <td>45</td>\n",
              "      <td>High School or Below</td>\n",
              "      <td>male</td>\n",
              "      <td>29.0</td>\n",
              "      <td>6.813194</td>\n",
              "    </tr>\n",
              "    <tr>\n",
              "      <th>1</th>\n",
              "      <td>PAIDOFF</td>\n",
              "      <td>1000</td>\n",
              "      <td>30</td>\n",
              "      <td>2016-09-08</td>\n",
              "      <td>2016-10-07</td>\n",
              "      <td>2016-10-07 09:00:00</td>\n",
              "      <td>NaN</td>\n",
              "      <td>50</td>\n",
              "      <td>Bechalor</td>\n",
              "      <td>female</td>\n",
              "      <td>29.0</td>\n",
              "      <td>29.375000</td>\n",
              "    </tr>\n",
              "    <tr>\n",
              "      <th>2</th>\n",
              "      <td>PAIDOFF</td>\n",
              "      <td>1000</td>\n",
              "      <td>30</td>\n",
              "      <td>2016-09-08</td>\n",
              "      <td>2016-10-07</td>\n",
              "      <td>2016-09-25 16:58:00</td>\n",
              "      <td>NaN</td>\n",
              "      <td>33</td>\n",
              "      <td>Bechalor</td>\n",
              "      <td>female</td>\n",
              "      <td>29.0</td>\n",
              "      <td>17.706944</td>\n",
              "    </tr>\n",
              "    <tr>\n",
              "      <th>3</th>\n",
              "      <td>PAIDOFF</td>\n",
              "      <td>1000</td>\n",
              "      <td>15</td>\n",
              "      <td>2016-09-08</td>\n",
              "      <td>2016-09-22</td>\n",
              "      <td>2016-09-22 20:00:00</td>\n",
              "      <td>NaN</td>\n",
              "      <td>27</td>\n",
              "      <td>college</td>\n",
              "      <td>male</td>\n",
              "      <td>14.0</td>\n",
              "      <td>14.833333</td>\n",
              "    </tr>\n",
              "    <tr>\n",
              "      <th>4</th>\n",
              "      <td>PAIDOFF</td>\n",
              "      <td>1000</td>\n",
              "      <td>30</td>\n",
              "      <td>2016-09-09</td>\n",
              "      <td>2016-10-08</td>\n",
              "      <td>2016-09-23 21:36:00</td>\n",
              "      <td>NaN</td>\n",
              "      <td>28</td>\n",
              "      <td>college</td>\n",
              "      <td>female</td>\n",
              "      <td>29.0</td>\n",
              "      <td>14.900000</td>\n",
              "    </tr>\n",
              "  </tbody>\n",
              "</table>\n",
              "</div>\n",
              "      <button class=\"colab-df-convert\" onclick=\"convertToInteractive('df-caa9b45c-ac79-497a-b0c5-6e37296997aa')\"\n",
              "              title=\"Convert this dataframe to an interactive table.\"\n",
              "              style=\"display:none;\">\n",
              "        \n",
              "  <svg xmlns=\"http://www.w3.org/2000/svg\" height=\"24px\"viewBox=\"0 0 24 24\"\n",
              "       width=\"24px\">\n",
              "    <path d=\"M0 0h24v24H0V0z\" fill=\"none\"/>\n",
              "    <path d=\"M18.56 5.44l.94 2.06.94-2.06 2.06-.94-2.06-.94-.94-2.06-.94 2.06-2.06.94zm-11 1L8.5 8.5l.94-2.06 2.06-.94-2.06-.94L8.5 2.5l-.94 2.06-2.06.94zm10 10l.94 2.06.94-2.06 2.06-.94-2.06-.94-.94-2.06-.94 2.06-2.06.94z\"/><path d=\"M17.41 7.96l-1.37-1.37c-.4-.4-.92-.59-1.43-.59-.52 0-1.04.2-1.43.59L10.3 9.45l-7.72 7.72c-.78.78-.78 2.05 0 2.83L4 21.41c.39.39.9.59 1.41.59.51 0 1.02-.2 1.41-.59l7.78-7.78 2.81-2.81c.8-.78.8-2.07 0-2.86zM5.41 20L4 18.59l7.72-7.72 1.47 1.35L5.41 20z\"/>\n",
              "  </svg>\n",
              "      </button>\n",
              "      \n",
              "  <style>\n",
              "    .colab-df-container {\n",
              "      display:flex;\n",
              "      flex-wrap:wrap;\n",
              "      gap: 12px;\n",
              "    }\n",
              "\n",
              "    .colab-df-convert {\n",
              "      background-color: #E8F0FE;\n",
              "      border: none;\n",
              "      border-radius: 50%;\n",
              "      cursor: pointer;\n",
              "      display: none;\n",
              "      fill: #1967D2;\n",
              "      height: 32px;\n",
              "      padding: 0 0 0 0;\n",
              "      width: 32px;\n",
              "    }\n",
              "\n",
              "    .colab-df-convert:hover {\n",
              "      background-color: #E2EBFA;\n",
              "      box-shadow: 0px 1px 2px rgba(60, 64, 67, 0.3), 0px 1px 3px 1px rgba(60, 64, 67, 0.15);\n",
              "      fill: #174EA6;\n",
              "    }\n",
              "\n",
              "    [theme=dark] .colab-df-convert {\n",
              "      background-color: #3B4455;\n",
              "      fill: #D2E3FC;\n",
              "    }\n",
              "\n",
              "    [theme=dark] .colab-df-convert:hover {\n",
              "      background-color: #434B5C;\n",
              "      box-shadow: 0px 1px 3px 1px rgba(0, 0, 0, 0.15);\n",
              "      filter: drop-shadow(0px 1px 2px rgba(0, 0, 0, 0.3));\n",
              "      fill: #FFFFFF;\n",
              "    }\n",
              "  </style>\n",
              "\n",
              "      <script>\n",
              "        const buttonEl =\n",
              "          document.querySelector('#df-caa9b45c-ac79-497a-b0c5-6e37296997aa button.colab-df-convert');\n",
              "        buttonEl.style.display =\n",
              "          google.colab.kernel.accessAllowed ? 'block' : 'none';\n",
              "\n",
              "        async function convertToInteractive(key) {\n",
              "          const element = document.querySelector('#df-caa9b45c-ac79-497a-b0c5-6e37296997aa');\n",
              "          const dataTable =\n",
              "            await google.colab.kernel.invokeFunction('convertToInteractive',\n",
              "                                                     [key], {});\n",
              "          if (!dataTable) return;\n",
              "\n",
              "          const docLinkHtml = 'Like what you see? Visit the ' +\n",
              "            '<a target=\"_blank\" href=https://colab.research.google.com/notebooks/data_table.ipynb>data table notebook</a>'\n",
              "            + ' to learn more about interactive tables.';\n",
              "          element.innerHTML = '';\n",
              "          dataTable['output_type'] = 'display_data';\n",
              "          await google.colab.output.renderOutput(dataTable, element);\n",
              "          const docLink = document.createElement('div');\n",
              "          docLink.innerHTML = docLinkHtml;\n",
              "          element.appendChild(docLink);\n",
              "        }\n",
              "      </script>\n",
              "    </div>\n",
              "  </div>\n",
              "  "
            ],
            "text/plain": [
              "  loan_status  Principal  ...  actual_tenure_days paidoff_tenure_days\n",
              "0     PAIDOFF       1000  ...                29.0            6.813194\n",
              "1     PAIDOFF       1000  ...                29.0           29.375000\n",
              "2     PAIDOFF       1000  ...                29.0           17.706944\n",
              "3     PAIDOFF       1000  ...                14.0           14.833333\n",
              "4     PAIDOFF       1000  ...                29.0           14.900000\n",
              "\n",
              "[5 rows x 12 columns]"
            ]
          },
          "metadata": {},
          "execution_count": 26
        }
      ],
      "source": [
        "data_pre.head()"
      ],
      "id": "b741e77d"
    },
    {
      "cell_type": "code",
      "source": [
        "data_pre.isnull().sum()"
      ],
      "metadata": {
        "colab": {
          "base_uri": "https://localhost:8080/"
        },
        "id": "PUmCb5TapRoX",
        "outputId": "858684a6-3d26-4885-e230-a1694569afec"
      },
      "id": "PUmCb5TapRoX",
      "execution_count": 27,
      "outputs": [
        {
          "output_type": "execute_result",
          "data": {
            "text/plain": [
              "loan_status              0\n",
              "Principal                0\n",
              "terms                    0\n",
              "effective_date           0\n",
              "due_date                 0\n",
              "paid_off_time          100\n",
              "past_due_days          300\n",
              "age                      0\n",
              "education                0\n",
              "Gender                   0\n",
              "actual_tenure_days       0\n",
              "paidoff_tenure_days    100\n",
              "dtype: int64"
            ]
          },
          "metadata": {},
          "execution_count": 27
        }
      ]
    },
    {
      "cell_type": "code",
      "source": [
        "data_pre['past_due_days'] = data_pre['past_due_days'].fillna(0)"
      ],
      "metadata": {
        "id": "vo6Oxa15patJ"
      },
      "id": "vo6Oxa15patJ",
      "execution_count": 28,
      "outputs": []
    },
    {
      "cell_type": "code",
      "source": [
        "data_pre['paidoff_tenure_days'] = data_pre.groupby(['Principal','terms','age','education','Gender'])['paidoff_tenure_days'].transform(lambda x:x.fillna(x.median()))\n",
        "data_pre['paidoff_tenure_days'] = data_pre['paidoff_tenure_days'].fillna(0)"
      ],
      "metadata": {
        "id": "YVy83ygoqhQV"
      },
      "id": "YVy83ygoqhQV",
      "execution_count": 29,
      "outputs": []
    },
    {
      "cell_type": "code",
      "source": [
        "data.describe()"
      ],
      "metadata": {
        "id": "mxsSH1Yw1Aie",
        "outputId": "b22b3cca-fc4b-430a-ad4c-b2b39aa6153c",
        "colab": {
          "base_uri": "https://localhost:8080/",
          "height": 300
        }
      },
      "id": "mxsSH1Yw1Aie",
      "execution_count": 30,
      "outputs": [
        {
          "output_type": "execute_result",
          "data": {
            "text/html": [
              "\n",
              "  <div id=\"df-4935dd4a-f3f9-4801-9561-1315a5e70acd\">\n",
              "    <div class=\"colab-df-container\">\n",
              "      <div>\n",
              "<style scoped>\n",
              "    .dataframe tbody tr th:only-of-type {\n",
              "        vertical-align: middle;\n",
              "    }\n",
              "\n",
              "    .dataframe tbody tr th {\n",
              "        vertical-align: top;\n",
              "    }\n",
              "\n",
              "    .dataframe thead th {\n",
              "        text-align: right;\n",
              "    }\n",
              "</style>\n",
              "<table border=\"1\" class=\"dataframe\">\n",
              "  <thead>\n",
              "    <tr style=\"text-align: right;\">\n",
              "      <th></th>\n",
              "      <th>Principal</th>\n",
              "      <th>terms</th>\n",
              "      <th>past_due_days</th>\n",
              "      <th>age</th>\n",
              "    </tr>\n",
              "  </thead>\n",
              "  <tbody>\n",
              "    <tr>\n",
              "      <th>count</th>\n",
              "      <td>500.000000</td>\n",
              "      <td>500.000000</td>\n",
              "      <td>200.00000</td>\n",
              "      <td>500.000000</td>\n",
              "    </tr>\n",
              "    <tr>\n",
              "      <th>mean</th>\n",
              "      <td>943.200000</td>\n",
              "      <td>22.824000</td>\n",
              "      <td>36.01000</td>\n",
              "      <td>31.116000</td>\n",
              "    </tr>\n",
              "    <tr>\n",
              "      <th>std</th>\n",
              "      <td>115.240274</td>\n",
              "      <td>8.000064</td>\n",
              "      <td>29.38088</td>\n",
              "      <td>6.084784</td>\n",
              "    </tr>\n",
              "    <tr>\n",
              "      <th>min</th>\n",
              "      <td>300.000000</td>\n",
              "      <td>7.000000</td>\n",
              "      <td>1.00000</td>\n",
              "      <td>18.000000</td>\n",
              "    </tr>\n",
              "    <tr>\n",
              "      <th>25%</th>\n",
              "      <td>1000.000000</td>\n",
              "      <td>15.000000</td>\n",
              "      <td>3.00000</td>\n",
              "      <td>27.000000</td>\n",
              "    </tr>\n",
              "    <tr>\n",
              "      <th>50%</th>\n",
              "      <td>1000.000000</td>\n",
              "      <td>30.000000</td>\n",
              "      <td>37.00000</td>\n",
              "      <td>30.000000</td>\n",
              "    </tr>\n",
              "    <tr>\n",
              "      <th>75%</th>\n",
              "      <td>1000.000000</td>\n",
              "      <td>30.000000</td>\n",
              "      <td>60.00000</td>\n",
              "      <td>35.000000</td>\n",
              "    </tr>\n",
              "    <tr>\n",
              "      <th>max</th>\n",
              "      <td>1000.000000</td>\n",
              "      <td>30.000000</td>\n",
              "      <td>76.00000</td>\n",
              "      <td>51.000000</td>\n",
              "    </tr>\n",
              "  </tbody>\n",
              "</table>\n",
              "</div>\n",
              "      <button class=\"colab-df-convert\" onclick=\"convertToInteractive('df-4935dd4a-f3f9-4801-9561-1315a5e70acd')\"\n",
              "              title=\"Convert this dataframe to an interactive table.\"\n",
              "              style=\"display:none;\">\n",
              "        \n",
              "  <svg xmlns=\"http://www.w3.org/2000/svg\" height=\"24px\"viewBox=\"0 0 24 24\"\n",
              "       width=\"24px\">\n",
              "    <path d=\"M0 0h24v24H0V0z\" fill=\"none\"/>\n",
              "    <path d=\"M18.56 5.44l.94 2.06.94-2.06 2.06-.94-2.06-.94-.94-2.06-.94 2.06-2.06.94zm-11 1L8.5 8.5l.94-2.06 2.06-.94-2.06-.94L8.5 2.5l-.94 2.06-2.06.94zm10 10l.94 2.06.94-2.06 2.06-.94-2.06-.94-.94-2.06-.94 2.06-2.06.94z\"/><path d=\"M17.41 7.96l-1.37-1.37c-.4-.4-.92-.59-1.43-.59-.52 0-1.04.2-1.43.59L10.3 9.45l-7.72 7.72c-.78.78-.78 2.05 0 2.83L4 21.41c.39.39.9.59 1.41.59.51 0 1.02-.2 1.41-.59l7.78-7.78 2.81-2.81c.8-.78.8-2.07 0-2.86zM5.41 20L4 18.59l7.72-7.72 1.47 1.35L5.41 20z\"/>\n",
              "  </svg>\n",
              "      </button>\n",
              "      \n",
              "  <style>\n",
              "    .colab-df-container {\n",
              "      display:flex;\n",
              "      flex-wrap:wrap;\n",
              "      gap: 12px;\n",
              "    }\n",
              "\n",
              "    .colab-df-convert {\n",
              "      background-color: #E8F0FE;\n",
              "      border: none;\n",
              "      border-radius: 50%;\n",
              "      cursor: pointer;\n",
              "      display: none;\n",
              "      fill: #1967D2;\n",
              "      height: 32px;\n",
              "      padding: 0 0 0 0;\n",
              "      width: 32px;\n",
              "    }\n",
              "\n",
              "    .colab-df-convert:hover {\n",
              "      background-color: #E2EBFA;\n",
              "      box-shadow: 0px 1px 2px rgba(60, 64, 67, 0.3), 0px 1px 3px 1px rgba(60, 64, 67, 0.15);\n",
              "      fill: #174EA6;\n",
              "    }\n",
              "\n",
              "    [theme=dark] .colab-df-convert {\n",
              "      background-color: #3B4455;\n",
              "      fill: #D2E3FC;\n",
              "    }\n",
              "\n",
              "    [theme=dark] .colab-df-convert:hover {\n",
              "      background-color: #434B5C;\n",
              "      box-shadow: 0px 1px 3px 1px rgba(0, 0, 0, 0.15);\n",
              "      filter: drop-shadow(0px 1px 2px rgba(0, 0, 0, 0.3));\n",
              "      fill: #FFFFFF;\n",
              "    }\n",
              "  </style>\n",
              "\n",
              "      <script>\n",
              "        const buttonEl =\n",
              "          document.querySelector('#df-4935dd4a-f3f9-4801-9561-1315a5e70acd button.colab-df-convert');\n",
              "        buttonEl.style.display =\n",
              "          google.colab.kernel.accessAllowed ? 'block' : 'none';\n",
              "\n",
              "        async function convertToInteractive(key) {\n",
              "          const element = document.querySelector('#df-4935dd4a-f3f9-4801-9561-1315a5e70acd');\n",
              "          const dataTable =\n",
              "            await google.colab.kernel.invokeFunction('convertToInteractive',\n",
              "                                                     [key], {});\n",
              "          if (!dataTable) return;\n",
              "\n",
              "          const docLinkHtml = 'Like what you see? Visit the ' +\n",
              "            '<a target=\"_blank\" href=https://colab.research.google.com/notebooks/data_table.ipynb>data table notebook</a>'\n",
              "            + ' to learn more about interactive tables.';\n",
              "          element.innerHTML = '';\n",
              "          dataTable['output_type'] = 'display_data';\n",
              "          await google.colab.output.renderOutput(dataTable, element);\n",
              "          const docLink = document.createElement('div');\n",
              "          docLink.innerHTML = docLinkHtml;\n",
              "          element.appendChild(docLink);\n",
              "        }\n",
              "      </script>\n",
              "    </div>\n",
              "  </div>\n",
              "  "
            ],
            "text/plain": [
              "         Principal       terms  past_due_days         age\n",
              "count   500.000000  500.000000      200.00000  500.000000\n",
              "mean    943.200000   22.824000       36.01000   31.116000\n",
              "std     115.240274    8.000064       29.38088    6.084784\n",
              "min     300.000000    7.000000        1.00000   18.000000\n",
              "25%    1000.000000   15.000000        3.00000   27.000000\n",
              "50%    1000.000000   30.000000       37.00000   30.000000\n",
              "75%    1000.000000   30.000000       60.00000   35.000000\n",
              "max    1000.000000   30.000000       76.00000   51.000000"
            ]
          },
          "metadata": {},
          "execution_count": 30
        }
      ]
    },
    {
      "cell_type": "code",
      "source": [
        "data_pre.drop(['effective_date','due_date','paid_off_time'],axis=1,inplace=True)"
      ],
      "metadata": {
        "id": "ndgKDS-CrTdr"
      },
      "id": "ndgKDS-CrTdr",
      "execution_count": 31,
      "outputs": []
    },
    {
      "cell_type": "code",
      "execution_count": 32,
      "metadata": {
        "id": "2057112c"
      },
      "outputs": [],
      "source": [
        "## Storing required categorical variables in cat_dat to apply dummification \n",
        "cat_data = ['loan_status','education','Gender']\n",
        "data_dum = pd.get_dummies(data_pre,columns=cat_data,drop_first= True)"
      ],
      "id": "2057112c"
    },
    {
      "cell_type": "code",
      "execution_count": 33,
      "metadata": {
        "colab": {
          "base_uri": "https://localhost:8080/"
        },
        "id": "4dd07ec5",
        "outputId": "319e3bc8-6b2c-41a6-ce7e-b4df7d4cad1a"
      },
      "outputs": [
        {
          "output_type": "stream",
          "name": "stdout",
          "text": [
            "(500, 11)\n",
            "(500, 1)\n",
            "<class 'pandas.core.frame.DataFrame'>\n"
          ]
        }
      ],
      "source": [
        "##Splitting Independent and dependent variable in X and Y respectively\n",
        "X = data_dum.drop(['paidoff_tenure_days'],axis=1)\n",
        "Y = data_dum[['paidoff_tenure_days']]\n",
        "\n",
        "print(X.shape)\n",
        "print(Y.shape)\n",
        "print(type(X))"
      ],
      "id": "4dd07ec5"
    },
    {
      "cell_type": "code",
      "execution_count": 34,
      "metadata": {
        "id": "db9b8282"
      },
      "outputs": [],
      "source": [
        "# Splitting the dataset into the Training and Testing set.\n",
        "X_train, X_val, y_train, y_val = train_test_split(X,Y, test_size = 0.3, random_state = 42)"
      ],
      "id": "db9b8282"
    },
    {
      "cell_type": "code",
      "execution_count": 35,
      "metadata": {
        "colab": {
          "base_uri": "https://localhost:8080/",
          "height": 305
        },
        "id": "31CPcbaQtzoD",
        "outputId": "d669cf37-53e8-4cbe-feac-1cfb23a79cce"
      },
      "outputs": [
        {
          "output_type": "execute_result",
          "data": {
            "text/html": [
              "\n",
              "  <div id=\"df-57dab984-af44-4169-b610-e488edb7c618\">\n",
              "    <div class=\"colab-df-container\">\n",
              "      <div>\n",
              "<style scoped>\n",
              "    .dataframe tbody tr th:only-of-type {\n",
              "        vertical-align: middle;\n",
              "    }\n",
              "\n",
              "    .dataframe tbody tr th {\n",
              "        vertical-align: top;\n",
              "    }\n",
              "\n",
              "    .dataframe thead th {\n",
              "        text-align: right;\n",
              "    }\n",
              "</style>\n",
              "<table border=\"1\" class=\"dataframe\">\n",
              "  <thead>\n",
              "    <tr style=\"text-align: right;\">\n",
              "      <th></th>\n",
              "      <th>Principal</th>\n",
              "      <th>terms</th>\n",
              "      <th>past_due_days</th>\n",
              "      <th>age</th>\n",
              "      <th>actual_tenure_days</th>\n",
              "      <th>loan_status_COLLECTION_PAIDOFF</th>\n",
              "      <th>loan_status_PAIDOFF</th>\n",
              "      <th>education_High School or Below</th>\n",
              "      <th>education_Master or Above</th>\n",
              "      <th>education_college</th>\n",
              "      <th>Gender_male</th>\n",
              "    </tr>\n",
              "  </thead>\n",
              "  <tbody>\n",
              "    <tr>\n",
              "      <th>5</th>\n",
              "      <td>300</td>\n",
              "      <td>7</td>\n",
              "      <td>0.0</td>\n",
              "      <td>35</td>\n",
              "      <td>6.0</td>\n",
              "      <td>0</td>\n",
              "      <td>1</td>\n",
              "      <td>0</td>\n",
              "      <td>1</td>\n",
              "      <td>0</td>\n",
              "      <td>1</td>\n",
              "    </tr>\n",
              "    <tr>\n",
              "      <th>116</th>\n",
              "      <td>1000</td>\n",
              "      <td>30</td>\n",
              "      <td>0.0</td>\n",
              "      <td>40</td>\n",
              "      <td>29.0</td>\n",
              "      <td>0</td>\n",
              "      <td>1</td>\n",
              "      <td>0</td>\n",
              "      <td>0</td>\n",
              "      <td>1</td>\n",
              "      <td>1</td>\n",
              "    </tr>\n",
              "    <tr>\n",
              "      <th>45</th>\n",
              "      <td>800</td>\n",
              "      <td>7</td>\n",
              "      <td>0.0</td>\n",
              "      <td>35</td>\n",
              "      <td>6.0</td>\n",
              "      <td>0</td>\n",
              "      <td>1</td>\n",
              "      <td>1</td>\n",
              "      <td>0</td>\n",
              "      <td>0</td>\n",
              "      <td>1</td>\n",
              "    </tr>\n",
              "    <tr>\n",
              "      <th>16</th>\n",
              "      <td>1000</td>\n",
              "      <td>30</td>\n",
              "      <td>0.0</td>\n",
              "      <td>40</td>\n",
              "      <td>29.0</td>\n",
              "      <td>0</td>\n",
              "      <td>1</td>\n",
              "      <td>1</td>\n",
              "      <td>0</td>\n",
              "      <td>0</td>\n",
              "      <td>1</td>\n",
              "    </tr>\n",
              "    <tr>\n",
              "      <th>462</th>\n",
              "      <td>1000</td>\n",
              "      <td>30</td>\n",
              "      <td>5.0</td>\n",
              "      <td>26</td>\n",
              "      <td>59.0</td>\n",
              "      <td>1</td>\n",
              "      <td>0</td>\n",
              "      <td>0</td>\n",
              "      <td>0</td>\n",
              "      <td>1</td>\n",
              "      <td>1</td>\n",
              "    </tr>\n",
              "  </tbody>\n",
              "</table>\n",
              "</div>\n",
              "      <button class=\"colab-df-convert\" onclick=\"convertToInteractive('df-57dab984-af44-4169-b610-e488edb7c618')\"\n",
              "              title=\"Convert this dataframe to an interactive table.\"\n",
              "              style=\"display:none;\">\n",
              "        \n",
              "  <svg xmlns=\"http://www.w3.org/2000/svg\" height=\"24px\"viewBox=\"0 0 24 24\"\n",
              "       width=\"24px\">\n",
              "    <path d=\"M0 0h24v24H0V0z\" fill=\"none\"/>\n",
              "    <path d=\"M18.56 5.44l.94 2.06.94-2.06 2.06-.94-2.06-.94-.94-2.06-.94 2.06-2.06.94zm-11 1L8.5 8.5l.94-2.06 2.06-.94-2.06-.94L8.5 2.5l-.94 2.06-2.06.94zm10 10l.94 2.06.94-2.06 2.06-.94-2.06-.94-.94-2.06-.94 2.06-2.06.94z\"/><path d=\"M17.41 7.96l-1.37-1.37c-.4-.4-.92-.59-1.43-.59-.52 0-1.04.2-1.43.59L10.3 9.45l-7.72 7.72c-.78.78-.78 2.05 0 2.83L4 21.41c.39.39.9.59 1.41.59.51 0 1.02-.2 1.41-.59l7.78-7.78 2.81-2.81c.8-.78.8-2.07 0-2.86zM5.41 20L4 18.59l7.72-7.72 1.47 1.35L5.41 20z\"/>\n",
              "  </svg>\n",
              "      </button>\n",
              "      \n",
              "  <style>\n",
              "    .colab-df-container {\n",
              "      display:flex;\n",
              "      flex-wrap:wrap;\n",
              "      gap: 12px;\n",
              "    }\n",
              "\n",
              "    .colab-df-convert {\n",
              "      background-color: #E8F0FE;\n",
              "      border: none;\n",
              "      border-radius: 50%;\n",
              "      cursor: pointer;\n",
              "      display: none;\n",
              "      fill: #1967D2;\n",
              "      height: 32px;\n",
              "      padding: 0 0 0 0;\n",
              "      width: 32px;\n",
              "    }\n",
              "\n",
              "    .colab-df-convert:hover {\n",
              "      background-color: #E2EBFA;\n",
              "      box-shadow: 0px 1px 2px rgba(60, 64, 67, 0.3), 0px 1px 3px 1px rgba(60, 64, 67, 0.15);\n",
              "      fill: #174EA6;\n",
              "    }\n",
              "\n",
              "    [theme=dark] .colab-df-convert {\n",
              "      background-color: #3B4455;\n",
              "      fill: #D2E3FC;\n",
              "    }\n",
              "\n",
              "    [theme=dark] .colab-df-convert:hover {\n",
              "      background-color: #434B5C;\n",
              "      box-shadow: 0px 1px 3px 1px rgba(0, 0, 0, 0.15);\n",
              "      filter: drop-shadow(0px 1px 2px rgba(0, 0, 0, 0.3));\n",
              "      fill: #FFFFFF;\n",
              "    }\n",
              "  </style>\n",
              "\n",
              "      <script>\n",
              "        const buttonEl =\n",
              "          document.querySelector('#df-57dab984-af44-4169-b610-e488edb7c618 button.colab-df-convert');\n",
              "        buttonEl.style.display =\n",
              "          google.colab.kernel.accessAllowed ? 'block' : 'none';\n",
              "\n",
              "        async function convertToInteractive(key) {\n",
              "          const element = document.querySelector('#df-57dab984-af44-4169-b610-e488edb7c618');\n",
              "          const dataTable =\n",
              "            await google.colab.kernel.invokeFunction('convertToInteractive',\n",
              "                                                     [key], {});\n",
              "          if (!dataTable) return;\n",
              "\n",
              "          const docLinkHtml = 'Like what you see? Visit the ' +\n",
              "            '<a target=\"_blank\" href=https://colab.research.google.com/notebooks/data_table.ipynb>data table notebook</a>'\n",
              "            + ' to learn more about interactive tables.';\n",
              "          element.innerHTML = '';\n",
              "          dataTable['output_type'] = 'display_data';\n",
              "          await google.colab.output.renderOutput(dataTable, element);\n",
              "          const docLink = document.createElement('div');\n",
              "          docLink.innerHTML = docLinkHtml;\n",
              "          element.appendChild(docLink);\n",
              "        }\n",
              "      </script>\n",
              "    </div>\n",
              "  </div>\n",
              "  "
            ],
            "text/plain": [
              "     Principal  terms  ...  education_college  Gender_male\n",
              "5          300      7  ...                  0            1\n",
              "116       1000     30  ...                  1            1\n",
              "45         800      7  ...                  0            1\n",
              "16        1000     30  ...                  0            1\n",
              "462       1000     30  ...                  1            1\n",
              "\n",
              "[5 rows x 11 columns]"
            ]
          },
          "metadata": {},
          "execution_count": 35
        }
      ],
      "source": [
        "X_train.head()"
      ],
      "id": "31CPcbaQtzoD"
    },
    {
      "cell_type": "code",
      "source": [
        "X_val.head()"
      ],
      "metadata": {
        "colab": {
          "base_uri": "https://localhost:8080/",
          "height": 305
        },
        "id": "80PEW_5ttQ8X",
        "outputId": "37564d14-b8d9-48fb-c669-c7160e6b897f"
      },
      "id": "80PEW_5ttQ8X",
      "execution_count": 36,
      "outputs": [
        {
          "output_type": "execute_result",
          "data": {
            "text/html": [
              "\n",
              "  <div id=\"df-69b58627-c2ff-4cd4-bea8-6616be4b91f8\">\n",
              "    <div class=\"colab-df-container\">\n",
              "      <div>\n",
              "<style scoped>\n",
              "    .dataframe tbody tr th:only-of-type {\n",
              "        vertical-align: middle;\n",
              "    }\n",
              "\n",
              "    .dataframe tbody tr th {\n",
              "        vertical-align: top;\n",
              "    }\n",
              "\n",
              "    .dataframe thead th {\n",
              "        text-align: right;\n",
              "    }\n",
              "</style>\n",
              "<table border=\"1\" class=\"dataframe\">\n",
              "  <thead>\n",
              "    <tr style=\"text-align: right;\">\n",
              "      <th></th>\n",
              "      <th>Principal</th>\n",
              "      <th>terms</th>\n",
              "      <th>past_due_days</th>\n",
              "      <th>age</th>\n",
              "      <th>actual_tenure_days</th>\n",
              "      <th>loan_status_COLLECTION_PAIDOFF</th>\n",
              "      <th>loan_status_PAIDOFF</th>\n",
              "      <th>education_High School or Below</th>\n",
              "      <th>education_Master or Above</th>\n",
              "      <th>education_college</th>\n",
              "      <th>Gender_male</th>\n",
              "    </tr>\n",
              "  </thead>\n",
              "  <tbody>\n",
              "    <tr>\n",
              "      <th>361</th>\n",
              "      <td>800</td>\n",
              "      <td>15</td>\n",
              "      <td>74.0</td>\n",
              "      <td>29</td>\n",
              "      <td>14.0</td>\n",
              "      <td>0</td>\n",
              "      <td>0</td>\n",
              "      <td>1</td>\n",
              "      <td>0</td>\n",
              "      <td>0</td>\n",
              "      <td>1</td>\n",
              "    </tr>\n",
              "    <tr>\n",
              "      <th>73</th>\n",
              "      <td>1000</td>\n",
              "      <td>15</td>\n",
              "      <td>0.0</td>\n",
              "      <td>34</td>\n",
              "      <td>14.0</td>\n",
              "      <td>0</td>\n",
              "      <td>1</td>\n",
              "      <td>0</td>\n",
              "      <td>0</td>\n",
              "      <td>1</td>\n",
              "      <td>1</td>\n",
              "    </tr>\n",
              "    <tr>\n",
              "      <th>374</th>\n",
              "      <td>1000</td>\n",
              "      <td>30</td>\n",
              "      <td>59.0</td>\n",
              "      <td>29</td>\n",
              "      <td>29.0</td>\n",
              "      <td>0</td>\n",
              "      <td>0</td>\n",
              "      <td>0</td>\n",
              "      <td>0</td>\n",
              "      <td>1</td>\n",
              "      <td>1</td>\n",
              "    </tr>\n",
              "    <tr>\n",
              "      <th>155</th>\n",
              "      <td>1000</td>\n",
              "      <td>30</td>\n",
              "      <td>0.0</td>\n",
              "      <td>36</td>\n",
              "      <td>29.0</td>\n",
              "      <td>0</td>\n",
              "      <td>1</td>\n",
              "      <td>1</td>\n",
              "      <td>0</td>\n",
              "      <td>0</td>\n",
              "      <td>0</td>\n",
              "    </tr>\n",
              "    <tr>\n",
              "      <th>104</th>\n",
              "      <td>1000</td>\n",
              "      <td>15</td>\n",
              "      <td>0.0</td>\n",
              "      <td>35</td>\n",
              "      <td>14.0</td>\n",
              "      <td>0</td>\n",
              "      <td>1</td>\n",
              "      <td>0</td>\n",
              "      <td>0</td>\n",
              "      <td>1</td>\n",
              "      <td>1</td>\n",
              "    </tr>\n",
              "  </tbody>\n",
              "</table>\n",
              "</div>\n",
              "      <button class=\"colab-df-convert\" onclick=\"convertToInteractive('df-69b58627-c2ff-4cd4-bea8-6616be4b91f8')\"\n",
              "              title=\"Convert this dataframe to an interactive table.\"\n",
              "              style=\"display:none;\">\n",
              "        \n",
              "  <svg xmlns=\"http://www.w3.org/2000/svg\" height=\"24px\"viewBox=\"0 0 24 24\"\n",
              "       width=\"24px\">\n",
              "    <path d=\"M0 0h24v24H0V0z\" fill=\"none\"/>\n",
              "    <path d=\"M18.56 5.44l.94 2.06.94-2.06 2.06-.94-2.06-.94-.94-2.06-.94 2.06-2.06.94zm-11 1L8.5 8.5l.94-2.06 2.06-.94-2.06-.94L8.5 2.5l-.94 2.06-2.06.94zm10 10l.94 2.06.94-2.06 2.06-.94-2.06-.94-.94-2.06-.94 2.06-2.06.94z\"/><path d=\"M17.41 7.96l-1.37-1.37c-.4-.4-.92-.59-1.43-.59-.52 0-1.04.2-1.43.59L10.3 9.45l-7.72 7.72c-.78.78-.78 2.05 0 2.83L4 21.41c.39.39.9.59 1.41.59.51 0 1.02-.2 1.41-.59l7.78-7.78 2.81-2.81c.8-.78.8-2.07 0-2.86zM5.41 20L4 18.59l7.72-7.72 1.47 1.35L5.41 20z\"/>\n",
              "  </svg>\n",
              "      </button>\n",
              "      \n",
              "  <style>\n",
              "    .colab-df-container {\n",
              "      display:flex;\n",
              "      flex-wrap:wrap;\n",
              "      gap: 12px;\n",
              "    }\n",
              "\n",
              "    .colab-df-convert {\n",
              "      background-color: #E8F0FE;\n",
              "      border: none;\n",
              "      border-radius: 50%;\n",
              "      cursor: pointer;\n",
              "      display: none;\n",
              "      fill: #1967D2;\n",
              "      height: 32px;\n",
              "      padding: 0 0 0 0;\n",
              "      width: 32px;\n",
              "    }\n",
              "\n",
              "    .colab-df-convert:hover {\n",
              "      background-color: #E2EBFA;\n",
              "      box-shadow: 0px 1px 2px rgba(60, 64, 67, 0.3), 0px 1px 3px 1px rgba(60, 64, 67, 0.15);\n",
              "      fill: #174EA6;\n",
              "    }\n",
              "\n",
              "    [theme=dark] .colab-df-convert {\n",
              "      background-color: #3B4455;\n",
              "      fill: #D2E3FC;\n",
              "    }\n",
              "\n",
              "    [theme=dark] .colab-df-convert:hover {\n",
              "      background-color: #434B5C;\n",
              "      box-shadow: 0px 1px 3px 1px rgba(0, 0, 0, 0.15);\n",
              "      filter: drop-shadow(0px 1px 2px rgba(0, 0, 0, 0.3));\n",
              "      fill: #FFFFFF;\n",
              "    }\n",
              "  </style>\n",
              "\n",
              "      <script>\n",
              "        const buttonEl =\n",
              "          document.querySelector('#df-69b58627-c2ff-4cd4-bea8-6616be4b91f8 button.colab-df-convert');\n",
              "        buttonEl.style.display =\n",
              "          google.colab.kernel.accessAllowed ? 'block' : 'none';\n",
              "\n",
              "        async function convertToInteractive(key) {\n",
              "          const element = document.querySelector('#df-69b58627-c2ff-4cd4-bea8-6616be4b91f8');\n",
              "          const dataTable =\n",
              "            await google.colab.kernel.invokeFunction('convertToInteractive',\n",
              "                                                     [key], {});\n",
              "          if (!dataTable) return;\n",
              "\n",
              "          const docLinkHtml = 'Like what you see? Visit the ' +\n",
              "            '<a target=\"_blank\" href=https://colab.research.google.com/notebooks/data_table.ipynb>data table notebook</a>'\n",
              "            + ' to learn more about interactive tables.';\n",
              "          element.innerHTML = '';\n",
              "          dataTable['output_type'] = 'display_data';\n",
              "          await google.colab.output.renderOutput(dataTable, element);\n",
              "          const docLink = document.createElement('div');\n",
              "          docLink.innerHTML = docLinkHtml;\n",
              "          element.appendChild(docLink);\n",
              "        }\n",
              "      </script>\n",
              "    </div>\n",
              "  </div>\n",
              "  "
            ],
            "text/plain": [
              "     Principal  terms  ...  education_college  Gender_male\n",
              "361        800     15  ...                  0            1\n",
              "73        1000     15  ...                  1            1\n",
              "374       1000     30  ...                  1            1\n",
              "155       1000     30  ...                  0            0\n",
              "104       1000     15  ...                  1            1\n",
              "\n",
              "[5 rows x 11 columns]"
            ]
          },
          "metadata": {},
          "execution_count": 36
        }
      ]
    },
    {
      "cell_type": "code",
      "execution_count": 37,
      "metadata": {
        "colab": {
          "base_uri": "https://localhost:8080/"
        },
        "id": "20f86e1d",
        "outputId": "c8eb7ef4-4d5b-42fa-9813-e14c664a90f8"
      },
      "outputs": [
        {
          "output_type": "stream",
          "name": "stdout",
          "text": [
            "(350, 11)\n",
            "(150, 11)\n",
            "(350, 1)\n",
            "(150, 1)\n"
          ]
        }
      ],
      "source": [
        "# Checking the shape\n",
        "print(X_train.shape)\n",
        "print(X_val.shape)\n",
        "print(y_train.shape)\n",
        "print(y_val.shape)"
      ],
      "id": "20f86e1d"
    },
    {
      "cell_type": "code",
      "execution_count": 38,
      "metadata": {
        "id": "caa2f5d7"
      },
      "outputs": [],
      "source": [
        "## Scaling the data\n",
        "sc=StandardScaler()\n",
        "X_train = sc.fit_transform(X_train)\n",
        "X_val = sc.transform(X_val)\n",
        "y_train = sc.fit_transform(y_train)   ## Scaling the Target variable (contionous variable) \n",
        "y_val_scale = sc.transform(y_val)"
      ],
      "id": "caa2f5d7"
    },
    {
      "cell_type": "code",
      "execution_count": 39,
      "metadata": {
        "id": "812c6b4e"
      },
      "outputs": [],
      "source": [
        "scaler_Y = preprocessing.StandardScaler().fit(Y)"
      ],
      "id": "812c6b4e"
    },
    {
      "cell_type": "markdown",
      "metadata": {
        "id": "vVIbagr2Hn78"
      },
      "source": [
        "### Model performance check\n",
        "\n",
        "* We will be using metric functions defined in sklearn for RMSE, MAE, and $R^2$.\n",
        "\n",
        "* We will define functions to calculate adjusted $R^2$\n",
        "* We will create a function that will print out all the above metrics in one go."
      ],
      "id": "vVIbagr2Hn78"
    },
    {
      "cell_type": "markdown",
      "metadata": {
        "id": "QsZVKtG9m6IY"
      },
      "source": [
        "**Weight Initialization**\n",
        "\n",
        "Weight initialization is an important consideration in the design of a neural network model.\n",
        "\n",
        "The nodes in neural networks are composed of parameters referred to as weights used to calculate a weighted sum of the inputs.\n",
        "\n",
        "Neural network models are fit using an optimization algorithm called stochastic gradient descent that incrementally changes the network weights to minimize a loss function, hopefully resulting in a set of weights for the mode that is capable of making useful predictions.\n",
        "\n",
        "This optimization algorithm requires a starting point in the space of possible weight values from which to begin the optimization process. Weight initialization is a procedure to set the weights of a neural network to small random values that define the starting point for the optimization (learning or training) of the neural network model.\n",
        "\n",
        "There are many WI techniques as follows:\n",
        "\n",
        "1) Random normal initialization\n",
        "\n",
        "2) Random Uniform initialization\n",
        "\n",
        "3) Xaviour Initialization\n",
        "\n",
        "4) He Initialization \n"
      ],
      "id": "QsZVKtG9m6IY"
    },
    {
      "cell_type": "markdown",
      "metadata": {
        "id": "01974259"
      },
      "source": [
        "# Model Building\n",
        "\n",
        "- We will now start with the model building process.\n",
        "- We will create a model.\n",
        " - Three hidden layer with ReLU as activation function.\n",
        " - Output layer with 1 nodes (For regression problem )"
      ],
      "id": "01974259"
    },
    {
      "cell_type": "code",
      "execution_count": 40,
      "metadata": {
        "id": "d9ee78e9"
      },
      "outputs": [],
      "source": [
        "backend.clear_session()\n",
        "#Fixing the seed for random number generators so that we can ensure we receive the same output everytime\n",
        "np.random.seed(42)\n",
        "import random\n",
        "random.seed(42)\n",
        "tf.random.set_seed(42)"
      ],
      "id": "d9ee78e9"
    },
    {
      "cell_type": "code",
      "execution_count": 41,
      "metadata": {
        "id": "a24aec24"
      },
      "outputs": [],
      "source": [
        "model = Sequential()\n",
        "model.add(Dense(64, activation='relu',kernel_initializer='he_uniform', input_shape=(11,)))\n",
        "model.add(Dense(32, activation='relu',kernel_initializer='he_uniform'))\n",
        "model.add(Dense(32, activation='relu',kernel_initializer='he_uniform'))\n",
        "model.add(Dense(1, activation='linear'))"
      ],
      "id": "a24aec24"
    },
    {
      "cell_type": "code",
      "execution_count": 42,
      "metadata": {
        "colab": {
          "base_uri": "https://localhost:8080/"
        },
        "id": "e7997003",
        "outputId": "a890af4b-136a-478b-d773-2f20c8d98b68"
      },
      "outputs": [
        {
          "output_type": "stream",
          "name": "stdout",
          "text": [
            "Model: \"sequential\"\n",
            "_________________________________________________________________\n",
            " Layer (type)                Output Shape              Param #   \n",
            "=================================================================\n",
            " dense (Dense)               (None, 64)                768       \n",
            "                                                                 \n",
            " dense_1 (Dense)             (None, 32)                2080      \n",
            "                                                                 \n",
            " dense_2 (Dense)             (None, 32)                1056      \n",
            "                                                                 \n",
            " dense_3 (Dense)             (None, 1)                 33        \n",
            "                                                                 \n",
            "=================================================================\n",
            "Total params: 3,937\n",
            "Trainable params: 3,937\n",
            "Non-trainable params: 0\n",
            "_________________________________________________________________\n"
          ]
        }
      ],
      "source": [
        "model.summary()"
      ],
      "id": "e7997003"
    },
    {
      "cell_type": "markdown",
      "metadata": {
        "id": "5eefb4cd"
      },
      "source": [
        "**Observations**\n",
        "- The summary of the model shows each layer's name, type, output shape, and the number of parameters at that particular layer.\n",
        "- It also shows the total number of trainable and non-trainable parameters in the model. A parameter whose value is learned while training the model is called a trainable parameter otherwise it is called a non-trainable parameter.\n",
        "- In the first layer total parameters are calculated by the number of neurons in the hidden layer multiplied by the number of variables fed to neural networks plus bias. (27*64)+64 = 1792\n",
        "- In the next layer the parameters are calculated by the number of outputs from the previous layer multiplied by the number of neurons in the second layer plus bias. (64*32)+32 =2080\n",
        "- You can calculate for the third layer and final layer."
      ],
      "id": "5eefb4cd"
    },
    {
      "cell_type": "code",
      "execution_count": 43,
      "metadata": {
        "colab": {
          "base_uri": "https://localhost:8080/"
        },
        "id": "4895b8c9",
        "outputId": "2d1f5daa-913c-4c64-d510-4eac47c01bb2"
      },
      "outputs": [
        {
          "output_type": "stream",
          "name": "stdout",
          "text": [
            "Epoch 1/50\n",
            "11/11 [==============================] - 4s 48ms/step - loss: 0.6286 - mae: 0.5666 - val_loss: 0.5852 - val_mae: 0.5073\n",
            "Epoch 2/50\n",
            "11/11 [==============================] - 0s 15ms/step - loss: 0.4137 - mae: 0.4537 - val_loss: 0.5561 - val_mae: 0.4991\n",
            "Epoch 3/50\n",
            "11/11 [==============================] - 0s 8ms/step - loss: 0.3460 - mae: 0.4173 - val_loss: 0.5341 - val_mae: 0.4752\n",
            "Epoch 4/50\n",
            "11/11 [==============================] - 0s 9ms/step - loss: 0.3075 - mae: 0.3820 - val_loss: 0.4940 - val_mae: 0.4414\n",
            "Epoch 5/50\n",
            "11/11 [==============================] - 0s 8ms/step - loss: 0.2700 - mae: 0.3620 - val_loss: 0.4766 - val_mae: 0.4224\n",
            "Epoch 6/50\n",
            "11/11 [==============================] - 0s 14ms/step - loss: 0.2526 - mae: 0.3449 - val_loss: 0.4691 - val_mae: 0.4191\n",
            "Epoch 7/50\n",
            "11/11 [==============================] - 0s 20ms/step - loss: 0.2320 - mae: 0.3235 - val_loss: 0.4879 - val_mae: 0.4280\n",
            "Epoch 8/50\n",
            "11/11 [==============================] - 0s 19ms/step - loss: 0.2024 - mae: 0.3018 - val_loss: 0.4791 - val_mae: 0.4169\n",
            "Epoch 9/50\n",
            "11/11 [==============================] - 0s 24ms/step - loss: 0.1964 - mae: 0.2968 - val_loss: 0.4588 - val_mae: 0.3927\n",
            "Epoch 10/50\n",
            "11/11 [==============================] - 0s 20ms/step - loss: 0.1789 - mae: 0.2885 - val_loss: 0.4524 - val_mae: 0.3977\n",
            "Epoch 11/50\n",
            "11/11 [==============================] - 0s 23ms/step - loss: 0.1623 - mae: 0.2744 - val_loss: 0.4373 - val_mae: 0.3779\n",
            "Epoch 12/50\n",
            "11/11 [==============================] - 0s 18ms/step - loss: 0.1534 - mae: 0.2586 - val_loss: 0.4218 - val_mae: 0.3628\n",
            "Epoch 13/50\n",
            "11/11 [==============================] - 0s 25ms/step - loss: 0.1530 - mae: 0.2543 - val_loss: 0.4370 - val_mae: 0.3866\n",
            "Epoch 14/50\n",
            "11/11 [==============================] - 0s 20ms/step - loss: 0.1370 - mae: 0.2442 - val_loss: 0.4108 - val_mae: 0.3654\n",
            "Epoch 15/50\n",
            "11/11 [==============================] - 0s 13ms/step - loss: 0.1339 - mae: 0.2391 - val_loss: 0.4015 - val_mae: 0.3532\n",
            "Epoch 16/50\n",
            "11/11 [==============================] - 0s 19ms/step - loss: 0.1292 - mae: 0.2349 - val_loss: 0.4124 - val_mae: 0.3585\n",
            "Epoch 17/50\n",
            "11/11 [==============================] - 0s 23ms/step - loss: 0.1248 - mae: 0.2263 - val_loss: 0.4165 - val_mae: 0.3586\n",
            "Epoch 18/50\n",
            "11/11 [==============================] - 0s 28ms/step - loss: 0.1179 - mae: 0.2193 - val_loss: 0.4719 - val_mae: 0.4039\n",
            "Epoch 19/50\n",
            "11/11 [==============================] - 0s 24ms/step - loss: 0.1152 - mae: 0.2188 - val_loss: 0.4117 - val_mae: 0.3842\n",
            "Epoch 20/50\n",
            "11/11 [==============================] - 0s 18ms/step - loss: 0.1165 - mae: 0.2246 - val_loss: 0.4166 - val_mae: 0.3528\n",
            "Epoch 21/50\n",
            "11/11 [==============================] - 0s 21ms/step - loss: 0.1042 - mae: 0.2093 - val_loss: 0.4053 - val_mae: 0.3644\n",
            "Epoch 22/50\n",
            "11/11 [==============================] - 0s 23ms/step - loss: 0.1106 - mae: 0.2220 - val_loss: 0.4786 - val_mae: 0.3883\n",
            "Epoch 23/50\n",
            "11/11 [==============================] - 0s 22ms/step - loss: 0.1052 - mae: 0.2088 - val_loss: 0.4018 - val_mae: 0.3311\n",
            "Epoch 24/50\n",
            "11/11 [==============================] - 0s 19ms/step - loss: 0.1010 - mae: 0.2042 - val_loss: 0.4213 - val_mae: 0.3494\n",
            "Epoch 25/50\n",
            "11/11 [==============================] - 0s 25ms/step - loss: 0.1009 - mae: 0.1978 - val_loss: 0.4100 - val_mae: 0.3429\n",
            "Epoch 26/50\n",
            "11/11 [==============================] - 0s 26ms/step - loss: 0.1030 - mae: 0.2078 - val_loss: 0.4047 - val_mae: 0.3729\n",
            "Epoch 27/50\n",
            "11/11 [==============================] - 0s 23ms/step - loss: 0.0968 - mae: 0.1981 - val_loss: 0.4013 - val_mae: 0.3311\n",
            "Epoch 28/50\n",
            "11/11 [==============================] - 0s 18ms/step - loss: 0.1077 - mae: 0.2065 - val_loss: 0.4369 - val_mae: 0.3628\n",
            "Epoch 29/50\n",
            "11/11 [==============================] - 0s 22ms/step - loss: 0.0906 - mae: 0.1949 - val_loss: 0.4214 - val_mae: 0.3459\n",
            "Epoch 30/50\n",
            "11/11 [==============================] - 0s 22ms/step - loss: 0.0950 - mae: 0.1880 - val_loss: 0.4225 - val_mae: 0.3378\n",
            "Epoch 31/50\n",
            "11/11 [==============================] - 0s 21ms/step - loss: 0.0975 - mae: 0.2017 - val_loss: 0.4262 - val_mae: 0.3581\n",
            "Epoch 32/50\n",
            "11/11 [==============================] - 0s 27ms/step - loss: 0.0886 - mae: 0.1882 - val_loss: 0.4151 - val_mae: 0.3515\n",
            "Epoch 33/50\n",
            "11/11 [==============================] - 0s 32ms/step - loss: 0.0989 - mae: 0.2005 - val_loss: 0.4209 - val_mae: 0.3476\n",
            "Epoch 34/50\n",
            "11/11 [==============================] - 0s 35ms/step - loss: 0.0885 - mae: 0.1868 - val_loss: 0.4224 - val_mae: 0.3474\n",
            "Epoch 35/50\n",
            "11/11 [==============================] - 0s 29ms/step - loss: 0.0844 - mae: 0.1836 - val_loss: 0.4989 - val_mae: 0.3962\n",
            "Epoch 36/50\n",
            "11/11 [==============================] - 0s 20ms/step - loss: 0.0928 - mae: 0.1895 - val_loss: 0.4279 - val_mae: 0.3424\n",
            "Epoch 37/50\n",
            "11/11 [==============================] - 0s 30ms/step - loss: 0.0823 - mae: 0.1785 - val_loss: 0.4531 - val_mae: 0.3542\n",
            "Epoch 38/50\n",
            "11/11 [==============================] - 0s 26ms/step - loss: 0.0877 - mae: 0.1897 - val_loss: 0.4714 - val_mae: 0.3684\n",
            "Epoch 39/50\n",
            "11/11 [==============================] - 0s 24ms/step - loss: 0.0864 - mae: 0.1890 - val_loss: 0.4182 - val_mae: 0.3616\n",
            "Epoch 40/50\n",
            "11/11 [==============================] - 0s 26ms/step - loss: 0.0790 - mae: 0.1760 - val_loss: 0.4264 - val_mae: 0.3550\n",
            "Epoch 41/50\n",
            "11/11 [==============================] - 0s 30ms/step - loss: 0.0826 - mae: 0.1846 - val_loss: 0.4079 - val_mae: 0.3349\n",
            "Epoch 42/50\n",
            "11/11 [==============================] - 0s 27ms/step - loss: 0.0885 - mae: 0.1951 - val_loss: 0.4344 - val_mae: 0.3479\n",
            "Epoch 43/50\n",
            "11/11 [==============================] - 0s 28ms/step - loss: 0.0808 - mae: 0.1803 - val_loss: 0.4596 - val_mae: 0.3723\n",
            "Epoch 44/50\n",
            "11/11 [==============================] - 0s 25ms/step - loss: 0.0858 - mae: 0.1843 - val_loss: 0.4796 - val_mae: 0.3807\n",
            "Epoch 45/50\n",
            "11/11 [==============================] - 0s 27ms/step - loss: 0.0843 - mae: 0.1888 - val_loss: 0.4981 - val_mae: 0.3898\n",
            "Epoch 46/50\n",
            "11/11 [==============================] - 0s 18ms/step - loss: 0.0852 - mae: 0.1863 - val_loss: 0.4555 - val_mae: 0.3616\n",
            "Epoch 47/50\n",
            "11/11 [==============================] - 0s 28ms/step - loss: 0.0806 - mae: 0.1811 - val_loss: 0.4403 - val_mae: 0.3586\n",
            "Epoch 48/50\n",
            "11/11 [==============================] - 0s 23ms/step - loss: 0.0814 - mae: 0.1802 - val_loss: 0.4407 - val_mae: 0.3557\n",
            "Epoch 49/50\n",
            "11/11 [==============================] - 0s 28ms/step - loss: 0.0798 - mae: 0.1751 - val_loss: 0.4207 - val_mae: 0.3588\n",
            "Epoch 50/50\n",
            "11/11 [==============================] - 0s 26ms/step - loss: 0.0846 - mae: 0.1852 - val_loss: 0.4430 - val_mae: 0.3533\n"
          ]
        }
      ],
      "source": [
        "optimizer = RMSprop( learning_rate=0.001)\n",
        "model.compile(loss='mse',\n",
        "              optimizer=optimizer,\n",
        "              metrics=['mae'])\n",
        "#es_cb = callbacks.EarlyStopping(monitor='val_loss', min_delta=0.001, patience=5)\n",
        "history = model.fit(X_train, y_train, validation_data=(X_val, y_val_scale), epochs=50)"
      ],
      "id": "4895b8c9"
    },
    {
      "cell_type": "code",
      "execution_count": 44,
      "metadata": {
        "colab": {
          "base_uri": "https://localhost:8080/",
          "height": 284
        },
        "id": "2e792ab2",
        "outputId": "b0c16926-0b12-4fb8-b35f-e31421723887"
      },
      "outputs": [
        {
          "output_type": "display_data",
          "data": {
            "image/png": "[encoded data removed]",
            "text/plain": [
              "<Figure size 432x288 with 1 Axes>"
            ]
          },
          "metadata": {}
        }
      ],
      "source": [
        "pyplot.title('Loss / Mean Squared Error')\n",
        "pyplot.plot(history.history['loss'], label='train')\n",
        "pyplot.plot(history.history['val_loss'], label='validate')\n",
        "pyplot.legend()\n",
        "pyplot.show()"
      ],
      "id": "2e792ab2"
    },
    {
      "cell_type": "markdown",
      "metadata": {
        "id": "nyFqKnjAwW0E"
      },
      "source": [
        "* Here the model seems to be overfitted, as the distance between the train curve and validation curve started increasing. "
      ],
      "id": "nyFqKnjAwW0E"
    },
    {
      "cell_type": "code",
      "execution_count": 45,
      "metadata": {
        "colab": {
          "base_uri": "https://localhost:8080/"
        },
        "id": "cbf63bfb",
        "outputId": "50fa9582-ff37-499c-e0eb-b6c0bac791e7"
      },
      "outputs": [
        {
          "output_type": "stream",
          "name": "stdout",
          "text": [
            "[[10.333966 ]\n",
            " [12.903568 ]\n",
            " [29.687119 ]\n",
            " [26.543148 ]\n",
            " [12.5240345]\n",
            " [11.555624 ]\n",
            " [28.402077 ]\n",
            " [26.016306 ]\n",
            " [ 5.792426 ]\n",
            " [34.028088 ]\n",
            " [10.843436 ]\n",
            " [10.2517395]\n",
            " [17.085897 ]\n",
            " [26.448498 ]\n",
            " [24.616934 ]\n",
            " [41.18754  ]\n",
            " [32.070084 ]\n",
            " [12.4621525]\n",
            " [32.87348  ]\n",
            " [73.87625  ]\n",
            " [33.983723 ]\n",
            " [59.067486 ]\n",
            " [13.3476305]\n",
            " [28.649456 ]\n",
            " [27.251348 ]\n",
            " [60.0605   ]\n",
            " [21.693905 ]\n",
            " [23.255964 ]\n",
            " [11.075281 ]\n",
            " [56.22837  ]\n",
            " [55.04619  ]\n",
            " [28.224365 ]\n",
            " [42.27908  ]\n",
            " [29.833363 ]\n",
            " [28.08396  ]\n",
            " [ 7.0059557]\n",
            " [18.466341 ]\n",
            " [11.153604 ]\n",
            " [25.032278 ]\n",
            " [28.416578 ]\n",
            " [31.669094 ]\n",
            " [13.239769 ]\n",
            " [32.468025 ]\n",
            " [27.407495 ]\n",
            " [27.19717  ]\n",
            " [27.167671 ]\n",
            " [24.84131  ]\n",
            " [21.60296  ]\n",
            " [17.971243 ]\n",
            " [25.030558 ]\n",
            " [28.08396  ]\n",
            " [24.89724  ]\n",
            " [13.4222355]\n",
            " [26.65294  ]\n",
            " [29.728964 ]\n",
            " [12.28737  ]\n",
            " [13.410973 ]\n",
            " [24.482206 ]\n",
            " [25.30625  ]\n",
            " [19.731773 ]\n",
            " [32.533043 ]\n",
            " [ 8.14741  ]\n",
            " [11.811185 ]\n",
            " [34.84219  ]\n",
            " [27.093676 ]\n",
            " [25.108313 ]\n",
            " [15.530138 ]\n",
            " [25.74799  ]\n",
            " [32.38897  ]\n",
            " [15.614399 ]\n",
            " [32.594025 ]\n",
            " [33.80796  ]\n",
            " [24.318178 ]\n",
            " [12.527635 ]\n",
            " [18.13658  ]\n",
            " [13.832302 ]\n",
            " [24.726145 ]\n",
            " [20.895334 ]\n",
            " [16.385555 ]\n",
            " [33.30766  ]\n",
            " [26.765623 ]\n",
            " [10.844713 ]\n",
            " [37.04963  ]\n",
            " [12.610432 ]\n",
            " [31.468111 ]\n",
            " [ 9.340609 ]\n",
            " [12.526093 ]\n",
            " [25.550379 ]\n",
            " [31.456974 ]\n",
            " [12.052778 ]\n",
            " [15.614399 ]\n",
            " [26.295815 ]\n",
            " [31.20819  ]\n",
            " [14.946663 ]\n",
            " [17.000435 ]\n",
            " [17.160646 ]\n",
            " [29.661285 ]\n",
            " [23.255964 ]\n",
            " [33.79706  ]\n",
            " [10.843436 ]\n",
            " [14.512528 ]\n",
            " [30.897589 ]\n",
            " [24.825554 ]\n",
            " [28.974972 ]\n",
            " [28.44692  ]\n",
            " [24.848667 ]\n",
            " [30.771605 ]\n",
            " [10.843436 ]\n",
            " [ 8.572769 ]\n",
            " [24.991798 ]\n",
            " [43.03027  ]\n",
            " [38.386265 ]\n",
            " [33.76382  ]\n",
            " [23.93135  ]\n",
            " [49.33022  ]\n",
            " [12.478211 ]\n",
            " [12.568582 ]\n",
            " [12.5842495]\n",
            " [25.365396 ]\n",
            " [ 5.746234 ]\n",
            " [12.5240345]\n",
            " [25.378471 ]\n",
            " [33.89754  ]\n",
            " [10.479287 ]\n",
            " [ 6.9429216]\n",
            " [12.056363 ]\n",
            " [18.436415 ]\n",
            " [ 9.796627 ]\n",
            " [12.608071 ]\n",
            " [57.416527 ]\n",
            " [27.19717  ]\n",
            " [26.016306 ]\n",
            " [15.337322 ]\n",
            " [19.776537 ]\n",
            " [24.264837 ]\n",
            " [28.205402 ]\n",
            " [12.44909  ]\n",
            " [28.796156 ]\n",
            " [13.290477 ]\n",
            " [14.504766 ]\n",
            " [28.093613 ]\n",
            " [ 3.3848999]\n",
            " [33.59332  ]\n",
            " [24.80091  ]\n",
            " [ 7.682851 ]\n",
            " [ 4.5814676]\n",
            " [11.913161 ]\n",
            " [59.244442 ]\n",
            " [12.881471 ]\n",
            " [30.963211 ]]\n"
          ]
        }
      ],
      "source": [
        "#Lets predict on validation data\n",
        "Y_result_scaled= model.predict(X_val)\n",
        "##As we have scaled the target variable, now after predicting we should inverse the scale and should convert to normal form\n",
        "Y_result = scaler_Y.inverse_transform(Y_result_scaled) \n",
        "print(Y_result)"
      ],
      "id": "cbf63bfb"
    },
    {
      "cell_type": "code",
      "execution_count": 46,
      "metadata": {
        "id": "OFsRj4aYsoD8"
      },
      "outputs": [],
      "source": [
        "def adj_r2_score(predictors, targets, predictions):\n",
        "    r2 = r2_score(targets, predictions)\n",
        "    n = predictors.shape[0]\n",
        "    k = predictors.shape[1]\n",
        "    return 1 - ((1 - r2) * (n - 1) / (n - k - 1))\n",
        "def model_performance_regression(predictors,target,pred):\n",
        "  r2 = r2_score(target, pred)  # to compute R-squared\n",
        "  adjr2 = adj_r2_score(predictors, target, pred)  # to compute adjusted R-squared\n",
        "  rmse = np.sqrt(mean_squared_error(target, pred))  # to compute RMSE\n",
        "  mae = mean_absolute_error(target, pred)  # to compute MAE\n",
        "\n",
        "  df_perf = pd.DataFrame(\n",
        "        {\n",
        "            \"RMSE\": rmse,\n",
        "            \"MAE\": mae,\n",
        "            \"R-squared\": r2,\n",
        "            \"Adj. R-squared\": adjr2,\n",
        "        },\n",
        "        index=[0],\n",
        "    )\n",
        "\n",
        "  return df_perf"
      ],
      "id": "OFsRj4aYsoD8"
    },
    {
      "cell_type": "code",
      "execution_count": 47,
      "metadata": {
        "colab": {
          "base_uri": "https://localhost:8080/",
          "height": 115
        },
        "id": "1RD5A0dhfoPu",
        "outputId": "df2e17c4-5178-44f5-c87c-dabca6fb5a0a"
      },
      "outputs": [
        {
          "output_type": "stream",
          "name": "stdout",
          "text": [
            "Training Performance\n",
            "\n"
          ]
        },
        {
          "output_type": "execute_result",
          "data": {
            "text/html": [
              "\n",
              "  <div id=\"df-7749f637-876f-4eb8-b7c8-aba65500508e\">\n",
              "    <div class=\"colab-df-container\">\n",
              "      <div>\n",
              "<style scoped>\n",
              "    .dataframe tbody tr th:only-of-type {\n",
              "        vertical-align: middle;\n",
              "    }\n",
              "\n",
              "    .dataframe tbody tr th {\n",
              "        vertical-align: top;\n",
              "    }\n",
              "\n",
              "    .dataframe thead th {\n",
              "        text-align: right;\n",
              "    }\n",
              "</style>\n",
              "<table border=\"1\" class=\"dataframe\">\n",
              "  <thead>\n",
              "    <tr style=\"text-align: right;\">\n",
              "      <th></th>\n",
              "      <th>RMSE</th>\n",
              "      <th>MAE</th>\n",
              "      <th>R-squared</th>\n",
              "      <th>Adj. R-squared</th>\n",
              "    </tr>\n",
              "  </thead>\n",
              "  <tbody>\n",
              "    <tr>\n",
              "      <th>0</th>\n",
              "      <td>9.91488</td>\n",
              "      <td>5.308915</td>\n",
              "      <td>0.556037</td>\n",
              "      <td>0.520648</td>\n",
              "    </tr>\n",
              "  </tbody>\n",
              "</table>\n",
              "</div>\n",
              "      <button class=\"colab-df-convert\" onclick=\"convertToInteractive('df-7749f637-876f-4eb8-b7c8-aba65500508e')\"\n",
              "              title=\"Convert this dataframe to an interactive table.\"\n",
              "              style=\"display:none;\">\n",
              "        \n",
              "  <svg xmlns=\"http://www.w3.org/2000/svg\" height=\"24px\"viewBox=\"0 0 24 24\"\n",
              "       width=\"24px\">\n",
              "    <path d=\"M0 0h24v24H0V0z\" fill=\"none\"/>\n",
              "    <path d=\"M18.56 5.44l.94 2.06.94-2.06 2.06-.94-2.06-.94-.94-2.06-.94 2.06-2.06.94zm-11 1L8.5 8.5l.94-2.06 2.06-.94-2.06-.94L8.5 2.5l-.94 2.06-2.06.94zm10 10l.94 2.06.94-2.06 2.06-.94-2.06-.94-.94-2.06-.94 2.06-2.06.94z\"/><path d=\"M17.41 7.96l-1.37-1.37c-.4-.4-.92-.59-1.43-.59-.52 0-1.04.2-1.43.59L10.3 9.45l-7.72 7.72c-.78.78-.78 2.05 0 2.83L4 21.41c.39.39.9.59 1.41.59.51 0 1.02-.2 1.41-.59l7.78-7.78 2.81-2.81c.8-.78.8-2.07 0-2.86zM5.41 20L4 18.59l7.72-7.72 1.47 1.35L5.41 20z\"/>\n",
              "  </svg>\n",
              "      </button>\n",
              "      \n",
              "  <style>\n",
              "    .colab-df-container {\n",
              "      display:flex;\n",
              "      flex-wrap:wrap;\n",
              "      gap: 12px;\n",
              "    }\n",
              "\n",
              "    .colab-df-convert {\n",
              "      background-color: #E8F0FE;\n",
              "      border: none;\n",
              "      border-radius: 50%;\n",
              "      cursor: pointer;\n",
              "      display: none;\n",
              "      fill: #1967D2;\n",
              "      height: 32px;\n",
              "      padding: 0 0 0 0;\n",
              "      width: 32px;\n",
              "    }\n",
              "\n",
              "    .colab-df-convert:hover {\n",
              "      background-color: #E2EBFA;\n",
              "      box-shadow: 0px 1px 2px rgba(60, 64, 67, 0.3), 0px 1px 3px 1px rgba(60, 64, 67, 0.15);\n",
              "      fill: #174EA6;\n",
              "    }\n",
              "\n",
              "    [theme=dark] .colab-df-convert {\n",
              "      background-color: #3B4455;\n",
              "      fill: #D2E3FC;\n",
              "    }\n",
              "\n",
              "    [theme=dark] .colab-df-convert:hover {\n",
              "      background-color: #434B5C;\n",
              "      box-shadow: 0px 1px 3px 1px rgba(0, 0, 0, 0.15);\n",
              "      filter: drop-shadow(0px 1px 2px rgba(0, 0, 0, 0.3));\n",
              "      fill: #FFFFFF;\n",
              "    }\n",
              "  </style>\n",
              "\n",
              "      <script>\n",
              "        const buttonEl =\n",
              "          document.querySelector('#df-7749f637-876f-4eb8-b7c8-aba65500508e button.colab-df-convert');\n",
              "        buttonEl.style.display =\n",
              "          google.colab.kernel.accessAllowed ? 'block' : 'none';\n",
              "\n",
              "        async function convertToInteractive(key) {\n",
              "          const element = document.querySelector('#df-7749f637-876f-4eb8-b7c8-aba65500508e');\n",
              "          const dataTable =\n",
              "            await google.colab.kernel.invokeFunction('convertToInteractive',\n",
              "                                                     [key], {});\n",
              "          if (!dataTable) return;\n",
              "\n",
              "          const docLinkHtml = 'Like what you see? Visit the ' +\n",
              "            '<a target=\"_blank\" href=https://colab.research.google.com/notebooks/data_table.ipynb>data table notebook</a>'\n",
              "            + ' to learn more about interactive tables.';\n",
              "          element.innerHTML = '';\n",
              "          dataTable['output_type'] = 'display_data';\n",
              "          await google.colab.output.renderOutput(dataTable, element);\n",
              "          const docLink = document.createElement('div');\n",
              "          docLink.innerHTML = docLinkHtml;\n",
              "          element.appendChild(docLink);\n",
              "        }\n",
              "      </script>\n",
              "    </div>\n",
              "  </div>\n",
              "  "
            ],
            "text/plain": [
              "      RMSE       MAE  R-squared  Adj. R-squared\n",
              "0  9.91488  5.308915   0.556037        0.520648"
            ]
          },
          "metadata": {},
          "execution_count": 47
        }
      ],
      "source": [
        "# Checking model performance on train set\n",
        "print(\"Training Performance\\n\")\n",
        "model_train_perf = model_performance_regression(X_val,y_val, Y_result)\n",
        "model_train_perf"
      ],
      "id": "1RD5A0dhfoPu"
    },
    {
      "cell_type": "markdown",
      "metadata": {
        "id": "wx5hTSxezDsh"
      },
      "source": [
        "* Now, let's try changing the optimizer to Adam and see if we can overcome the overfitting problem. "
      ],
      "id": "wx5hTSxezDsh"
    },
    {
      "cell_type": "markdown",
      "metadata": {
        "id": "d5f3249f"
      },
      "source": [
        "#### Building the model with Adam Optimizer (Model-2)"
      ],
      "id": "d5f3249f"
    },
    {
      "cell_type": "markdown",
      "metadata": {
        "id": "XsyVmc87nk6u"
      },
      "source": [
        "**Early stopping:** \n",
        "\n",
        "During training, the model is evaluated on a holdout validation dataset after each epoch. If the performance of the model on the validation dataset starts to degrade or no improvement (e.g. loss begins to increase or accuracy begins to decrease), then the training process is stopped after the certian interations.The model at the time that training is stopped is then used and is known to have good generalization performance.\n",
        "\n",
        "This procedure is called “early stopping” and is perhaps one of the oldest and most widely used forms of neural network regularization."
      ],
      "id": "XsyVmc87nk6u"
    },
    {
      "cell_type": "code",
      "execution_count": 48,
      "metadata": {
        "id": "dzbMj-slnixu"
      },
      "outputs": [],
      "source": [
        "backend.clear_session()\n",
        "#Fixing the seed for random number generators so that we can ensure we receive the same output everytime\n",
        "np.random.seed(42)\n",
        "import random\n",
        "random.seed(42)\n",
        "tf.random.set_seed(42)"
      ],
      "id": "dzbMj-slnixu"
    },
    {
      "cell_type": "code",
      "execution_count": 49,
      "metadata": {
        "id": "bzVWP9u3nitT"
      },
      "outputs": [],
      "source": [
        "model_2 = Sequential()\n",
        "model_2.add(Dense(64, activation='relu',kernel_initializer='he_uniform', input_shape=(11,)))\n",
        "model_2.add(Dense(32, activation='relu',kernel_initializer='he_uniform'))\n",
        "model_2.add(Dense(32, activation='relu',kernel_initializer='he_uniform'))\n",
        "model_2.add(Dense(1, activation='linear'))"
      ],
      "id": "bzVWP9u3nitT"
    },
    {
      "cell_type": "code",
      "execution_count": 50,
      "metadata": {
        "colab": {
          "base_uri": "https://localhost:8080/"
        },
        "id": "wtwmWQaCnipe",
        "outputId": "a016e1ef-1406-4f8c-b621-ae0ad8de5f8d"
      },
      "outputs": [
        {
          "output_type": "stream",
          "name": "stdout",
          "text": [
            "Model: \"sequential\"\n",
            "_________________________________________________________________\n",
            " Layer (type)                Output Shape              Param #   \n",
            "=================================================================\n",
            " dense (Dense)               (None, 64)                768       \n",
            "                                                                 \n",
            " dense_1 (Dense)             (None, 32)                2080      \n",
            "                                                                 \n",
            " dense_2 (Dense)             (None, 32)                1056      \n",
            "                                                                 \n",
            " dense_3 (Dense)             (None, 1)                 33        \n",
            "                                                                 \n",
            "=================================================================\n",
            "Total params: 3,937\n",
            "Trainable params: 3,937\n",
            "Non-trainable params: 0\n",
            "_________________________________________________________________\n"
          ]
        }
      ],
      "source": [
        "model_2.summary()"
      ],
      "id": "wtwmWQaCnipe"
    },
    {
      "cell_type": "code",
      "execution_count": 51,
      "metadata": {
        "colab": {
          "base_uri": "https://localhost:8080/"
        },
        "id": "2LbdJFMfnimy",
        "outputId": "f35fe9c6-4b40-45a1-f228-dce32d0cd382"
      },
      "outputs": [
        {
          "output_type": "stream",
          "name": "stdout",
          "text": [
            "Epoch 1/50\n",
            "11/11 [==============================] - 3s 70ms/step - loss: 0.6913 - mae: 0.6036 - val_loss: 0.6860 - val_mae: 0.5789\n",
            "Epoch 2/50\n",
            "11/11 [==============================] - 0s 20ms/step - loss: 0.4567 - mae: 0.4917 - val_loss: 0.5877 - val_mae: 0.5099\n",
            "Epoch 3/50\n",
            "11/11 [==============================] - 0s 24ms/step - loss: 0.3661 - mae: 0.4379 - val_loss: 0.5554 - val_mae: 0.4894\n",
            "Epoch 4/50\n",
            "11/11 [==============================] - 0s 14ms/step - loss: 0.3135 - mae: 0.3910 - val_loss: 0.5140 - val_mae: 0.4527\n",
            "Epoch 5/50\n",
            "11/11 [==============================] - 0s 21ms/step - loss: 0.2771 - mae: 0.3595 - val_loss: 0.4941 - val_mae: 0.4371\n",
            "Epoch 6/50\n",
            "11/11 [==============================] - 0s 22ms/step - loss: 0.2515 - mae: 0.3427 - val_loss: 0.4896 - val_mae: 0.4279\n",
            "Epoch 7/50\n",
            "11/11 [==============================] - 0s 22ms/step - loss: 0.2314 - mae: 0.3202 - val_loss: 0.4710 - val_mae: 0.4146\n",
            "Epoch 8/50\n",
            "11/11 [==============================] - 0s 27ms/step - loss: 0.2104 - mae: 0.3086 - val_loss: 0.4639 - val_mae: 0.4128\n",
            "Epoch 9/50\n",
            "11/11 [==============================] - 0s 28ms/step - loss: 0.1960 - mae: 0.2991 - val_loss: 0.4572 - val_mae: 0.4092\n",
            "Epoch 10/50\n",
            "11/11 [==============================] - 0s 20ms/step - loss: 0.1846 - mae: 0.2914 - val_loss: 0.4570 - val_mae: 0.4015\n",
            "Epoch 11/50\n",
            "11/11 [==============================] - 0s 16ms/step - loss: 0.1727 - mae: 0.2788 - val_loss: 0.4440 - val_mae: 0.3985\n",
            "Epoch 12/50\n",
            "11/11 [==============================] - 0s 20ms/step - loss: 0.1564 - mae: 0.2626 - val_loss: 0.4470 - val_mae: 0.3918\n",
            "Epoch 13/50\n",
            "11/11 [==============================] - 0s 22ms/step - loss: 0.1493 - mae: 0.2499 - val_loss: 0.4256 - val_mae: 0.3722\n",
            "Epoch 14/50\n",
            "11/11 [==============================] - 0s 17ms/step - loss: 0.1450 - mae: 0.2541 - val_loss: 0.4445 - val_mae: 0.3952\n",
            "Epoch 15/50\n",
            "11/11 [==============================] - 0s 18ms/step - loss: 0.1330 - mae: 0.2455 - val_loss: 0.4312 - val_mae: 0.3732\n",
            "Epoch 16/50\n",
            "11/11 [==============================] - 0s 23ms/step - loss: 0.1274 - mae: 0.2295 - val_loss: 0.4324 - val_mae: 0.3729\n",
            "Epoch 17/50\n",
            "11/11 [==============================] - 0s 23ms/step - loss: 0.1187 - mae: 0.2248 - val_loss: 0.4312 - val_mae: 0.3692\n",
            "Epoch 18/50\n",
            "11/11 [==============================] - 0s 15ms/step - loss: 0.1156 - mae: 0.2182 - val_loss: 0.4179 - val_mae: 0.3548\n",
            "Epoch 19/50\n",
            "11/11 [==============================] - 0s 22ms/step - loss: 0.1107 - mae: 0.2161 - val_loss: 0.4273 - val_mae: 0.3634\n",
            "Epoch 20/50\n",
            "11/11 [==============================] - 0s 21ms/step - loss: 0.1061 - mae: 0.2119 - val_loss: 0.4304 - val_mae: 0.3592\n",
            "Epoch 21/50\n",
            "11/11 [==============================] - 0s 25ms/step - loss: 0.1035 - mae: 0.2057 - val_loss: 0.4139 - val_mae: 0.3497\n",
            "Epoch 22/50\n",
            "11/11 [==============================] - 0s 20ms/step - loss: 0.1011 - mae: 0.2065 - val_loss: 0.4308 - val_mae: 0.3580\n",
            "Epoch 23/50\n",
            "11/11 [==============================] - 0s 17ms/step - loss: 0.1037 - mae: 0.2084 - val_loss: 0.4220 - val_mae: 0.3576\n",
            "Epoch 24/50\n",
            "11/11 [==============================] - 0s 19ms/step - loss: 0.1005 - mae: 0.2030 - val_loss: 0.4350 - val_mae: 0.3544\n",
            "Epoch 25/50\n",
            "11/11 [==============================] - 0s 21ms/step - loss: 0.0939 - mae: 0.1956 - val_loss: 0.4272 - val_mae: 0.3535\n",
            "Epoch 26/50\n",
            "11/11 [==============================] - 0s 26ms/step - loss: 0.0911 - mae: 0.1857 - val_loss: 0.4224 - val_mae: 0.3450\n"
          ]
        }
      ],
      "source": [
        "optimizer = Adam( learning_rate=0.001)\n",
        "model_2.compile(loss='mse',\n",
        "              optimizer=optimizer,\n",
        "              metrics=['mae'])\n",
        "es_cb = callbacks.EarlyStopping(monitor='val_loss', min_delta=0.001, patience=5)\n",
        "history_2 = model_2.fit(X_train, y_train, validation_data=(X_val, y_val_scale), epochs=50,callbacks=es_cb)"
      ],
      "id": "2LbdJFMfnimy"
    },
    {
      "cell_type": "code",
      "execution_count": 52,
      "metadata": {
        "colab": {
          "base_uri": "https://localhost:8080/",
          "height": 284
        },
        "id": "6T7vPtGcniju",
        "outputId": "4d9e59f5-c089-481c-ce7b-7e6cd8bd2e40"
      },
      "outputs": [
        {
          "output_type": "display_data",
          "data": {
            "image/png": "[encoded data removed]",
            "text/plain": [
              "<Figure size 432x288 with 1 Axes>"
            ]
          },
          "metadata": {}
        }
      ],
      "source": [
        "pyplot.title('Loss / Mean Squared Error')\n",
        "pyplot.plot(history_2.history['loss'], label='train')\n",
        "pyplot.plot(history_2.history['val_loss'], label='validate')\n",
        "pyplot.legend()\n",
        "pyplot.show()"
      ],
      "id": "6T7vPtGcniju"
    },
    {
      "cell_type": "markdown",
      "metadata": {
        "id": "mMGJJPK40KK0"
      },
      "source": [
        "*  After using Adam also, the model seems to be overfitted."
      ],
      "id": "mMGJJPK40KK0"
    },
    {
      "cell_type": "code",
      "execution_count": 53,
      "metadata": {
        "colab": {
          "base_uri": "https://localhost:8080/"
        },
        "id": "fMjT0UZDnigk",
        "outputId": "9496351e-727d-4262-8ee7-7c385e808030"
      },
      "outputs": [
        {
          "output_type": "stream",
          "name": "stdout",
          "text": [
            "[[12.876921 ]\n",
            " [12.934843 ]\n",
            " [30.713392 ]\n",
            " [28.194544 ]\n",
            " [12.388604 ]\n",
            " [14.220611 ]\n",
            " [28.93277  ]\n",
            " [26.338688 ]\n",
            " [ 3.2599761]\n",
            " [33.63736  ]\n",
            " [11.26235  ]\n",
            " [12.089673 ]\n",
            " [19.173899 ]\n",
            " [27.865643 ]\n",
            " [26.470243 ]\n",
            " [34.021633 ]\n",
            " [31.49007  ]\n",
            " [13.40938  ]\n",
            " [31.950874 ]\n",
            " [75.42253  ]\n",
            " [34.709637 ]\n",
            " [57.391262 ]\n",
            " [13.363743 ]\n",
            " [29.03866  ]\n",
            " [26.113003 ]\n",
            " [63.73306  ]\n",
            " [21.405375 ]\n",
            " [23.93719  ]\n",
            " [11.9312105]\n",
            " [54.131485 ]\n",
            " [55.67498  ]\n",
            " [29.878958 ]\n",
            " [42.954773 ]\n",
            " [29.797462 ]\n",
            " [27.534454 ]\n",
            " [16.804932 ]\n",
            " [18.746769 ]\n",
            " [11.016831 ]\n",
            " [25.56666  ]\n",
            " [27.31174  ]\n",
            " [30.840317 ]\n",
            " [14.110774 ]\n",
            " [33.164616 ]\n",
            " [29.79259  ]\n",
            " [27.331436 ]\n",
            " [26.98821  ]\n",
            " [26.536879 ]\n",
            " [23.740381 ]\n",
            " [19.513237 ]\n",
            " [25.810253 ]\n",
            " [27.534454 ]\n",
            " [25.030003 ]\n",
            " [13.545162 ]\n",
            " [26.250578 ]\n",
            " [32.271503 ]\n",
            " [11.88052  ]\n",
            " [13.730872 ]\n",
            " [24.421972 ]\n",
            " [26.823242 ]\n",
            " [21.394104 ]\n",
            " [31.26053  ]\n",
            " [10.063002 ]\n",
            " [10.298881 ]\n",
            " [36.189217 ]\n",
            " [27.362942 ]\n",
            " [27.341234 ]\n",
            " [17.363214 ]\n",
            " [27.460949 ]\n",
            " [31.475325 ]\n",
            " [19.030882 ]\n",
            " [31.170065 ]\n",
            " [31.928421 ]\n",
            " [25.351616 ]\n",
            " [14.426516 ]\n",
            " [15.060372 ]\n",
            " [15.034661 ]\n",
            " [26.035961 ]\n",
            " [21.488298 ]\n",
            " [19.308828 ]\n",
            " [34.204536 ]\n",
            " [26.72551  ]\n",
            " [12.066446 ]\n",
            " [39.65447  ]\n",
            " [13.293269 ]\n",
            " [30.626938 ]\n",
            " [ 9.18962  ]\n",
            " [12.18489  ]\n",
            " [28.774672 ]\n",
            " [30.601454 ]\n",
            " [12.421354 ]\n",
            " [19.030882 ]\n",
            " [22.477926 ]\n",
            " [30.578146 ]\n",
            " [19.25066  ]\n",
            " [18.085106 ]\n",
            " [16.854464 ]\n",
            " [32.65094  ]\n",
            " [23.93719  ]\n",
            " [37.46868  ]\n",
            " [11.26235  ]\n",
            " [14.81946  ]\n",
            " [32.414505 ]\n",
            " [22.732737 ]\n",
            " [31.349361 ]\n",
            " [29.399057 ]\n",
            " [24.999458 ]\n",
            " [29.596975 ]\n",
            " [11.26235  ]\n",
            " [ 7.493417 ]\n",
            " [25.360443 ]\n",
            " [43.146946 ]\n",
            " [37.651592 ]\n",
            " [32.345535 ]\n",
            " [24.334314 ]\n",
            " [56.757374 ]\n",
            " [11.93974  ]\n",
            " [13.109351 ]\n",
            " [13.436094 ]\n",
            " [26.774681 ]\n",
            " [ 6.5331163]\n",
            " [12.388604 ]\n",
            " [25.436838 ]\n",
            " [32.007233 ]\n",
            " [12.25931  ]\n",
            " [ 9.735777 ]\n",
            " [12.500981 ]\n",
            " [18.58941  ]\n",
            " [10.370856 ]\n",
            " [13.591841 ]\n",
            " [50.30609  ]\n",
            " [27.331436 ]\n",
            " [26.338688 ]\n",
            " [19.270237 ]\n",
            " [21.072723 ]\n",
            " [24.438244 ]\n",
            " [27.095125 ]\n",
            " [12.964383 ]\n",
            " [28.163498 ]\n",
            " [12.813616 ]\n",
            " [14.92399  ]\n",
            " [26.44862  ]\n",
            " [ 4.447461 ]\n",
            " [32.703182 ]\n",
            " [24.771572 ]\n",
            " [ 8.921438 ]\n",
            " [ 5.6668386]\n",
            " [11.902267 ]\n",
            " [59.158802 ]\n",
            " [13.600977 ]\n",
            " [31.678381 ]]\n"
          ]
        }
      ],
      "source": [
        "#Lets predict on validation data\n",
        "Y_result_scaled_2= model_2.predict(X_val)\n",
        "##As we have scaled the target variable, now after predicting we should inverse the scale and should convert to normal form\n",
        "Y_result2 = scaler_Y.inverse_transform(Y_result_scaled_2) \n",
        "print(Y_result2)"
      ],
      "id": "fMjT0UZDnigk"
    },
    {
      "cell_type": "code",
      "execution_count": 54,
      "metadata": {
        "colab": {
          "base_uri": "https://localhost:8080/",
          "height": 115
        },
        "id": "0a32OYY2gXDM",
        "outputId": "e5de1e7a-ef98-4953-96d8-80c8d8701db4"
      },
      "outputs": [
        {
          "output_type": "stream",
          "name": "stdout",
          "text": [
            "Training Performance\n",
            "\n"
          ]
        },
        {
          "output_type": "execute_result",
          "data": {
            "text/html": [
              "\n",
              "  <div id=\"df-edbf1946-4dc4-4545-95d9-a3df7c98ba02\">\n",
              "    <div class=\"colab-df-container\">\n",
              "      <div>\n",
              "<style scoped>\n",
              "    .dataframe tbody tr th:only-of-type {\n",
              "        vertical-align: middle;\n",
              "    }\n",
              "\n",
              "    .dataframe tbody tr th {\n",
              "        vertical-align: top;\n",
              "    }\n",
              "\n",
              "    .dataframe thead th {\n",
              "        text-align: right;\n",
              "    }\n",
              "</style>\n",
              "<table border=\"1\" class=\"dataframe\">\n",
              "  <thead>\n",
              "    <tr style=\"text-align: right;\">\n",
              "      <th></th>\n",
              "      <th>RMSE</th>\n",
              "      <th>MAE</th>\n",
              "      <th>R-squared</th>\n",
              "      <th>Adj. R-squared</th>\n",
              "    </tr>\n",
              "  </thead>\n",
              "  <tbody>\n",
              "    <tr>\n",
              "      <th>0</th>\n",
              "      <td>9.662311</td>\n",
              "      <td>5.172728</td>\n",
              "      <td>0.578367</td>\n",
              "      <td>0.544759</td>\n",
              "    </tr>\n",
              "  </tbody>\n",
              "</table>\n",
              "</div>\n",
              "      <button class=\"colab-df-convert\" onclick=\"convertToInteractive('df-edbf1946-4dc4-4545-95d9-a3df7c98ba02')\"\n",
              "              title=\"Convert this dataframe to an interactive table.\"\n",
              "              style=\"display:none;\">\n",
              "        \n",
              "  <svg xmlns=\"http://www.w3.org/2000/svg\" height=\"24px\"viewBox=\"0 0 24 24\"\n",
              "       width=\"24px\">\n",
              "    <path d=\"M0 0h24v24H0V0z\" fill=\"none\"/>\n",
              "    <path d=\"M18.56 5.44l.94 2.06.94-2.06 2.06-.94-2.06-.94-.94-2.06-.94 2.06-2.06.94zm-11 1L8.5 8.5l.94-2.06 2.06-.94-2.06-.94L8.5 2.5l-.94 2.06-2.06.94zm10 10l.94 2.06.94-2.06 2.06-.94-2.06-.94-.94-2.06-.94 2.06-2.06.94z\"/><path d=\"M17.41 7.96l-1.37-1.37c-.4-.4-.92-.59-1.43-.59-.52 0-1.04.2-1.43.59L10.3 9.45l-7.72 7.72c-.78.78-.78 2.05 0 2.83L4 21.41c.39.39.9.59 1.41.59.51 0 1.02-.2 1.41-.59l7.78-7.78 2.81-2.81c.8-.78.8-2.07 0-2.86zM5.41 20L4 18.59l7.72-7.72 1.47 1.35L5.41 20z\"/>\n",
              "  </svg>\n",
              "      </button>\n",
              "      \n",
              "  <style>\n",
              "    .colab-df-container {\n",
              "      display:flex;\n",
              "      flex-wrap:wrap;\n",
              "      gap: 12px;\n",
              "    }\n",
              "\n",
              "    .colab-df-convert {\n",
              "      background-color: #E8F0FE;\n",
              "      border: none;\n",
              "      border-radius: 50%;\n",
              "      cursor: pointer;\n",
              "      display: none;\n",
              "      fill: #1967D2;\n",
              "      height: 32px;\n",
              "      padding: 0 0 0 0;\n",
              "      width: 32px;\n",
              "    }\n",
              "\n",
              "    .colab-df-convert:hover {\n",
              "      background-color: #E2EBFA;\n",
              "      box-shadow: 0px 1px 2px rgba(60, 64, 67, 0.3), 0px 1px 3px 1px rgba(60, 64, 67, 0.15);\n",
              "      fill: #174EA6;\n",
              "    }\n",
              "\n",
              "    [theme=dark] .colab-df-convert {\n",
              "      background-color: #3B4455;\n",
              "      fill: #D2E3FC;\n",
              "    }\n",
              "\n",
              "    [theme=dark] .colab-df-convert:hover {\n",
              "      background-color: #434B5C;\n",
              "      box-shadow: 0px 1px 3px 1px rgba(0, 0, 0, 0.15);\n",
              "      filter: drop-shadow(0px 1px 2px rgba(0, 0, 0, 0.3));\n",
              "      fill: #FFFFFF;\n",
              "    }\n",
              "  </style>\n",
              "\n",
              "      <script>\n",
              "        const buttonEl =\n",
              "          document.querySelector('#df-edbf1946-4dc4-4545-95d9-a3df7c98ba02 button.colab-df-convert');\n",
              "        buttonEl.style.display =\n",
              "          google.colab.kernel.accessAllowed ? 'block' : 'none';\n",
              "\n",
              "        async function convertToInteractive(key) {\n",
              "          const element = document.querySelector('#df-edbf1946-4dc4-4545-95d9-a3df7c98ba02');\n",
              "          const dataTable =\n",
              "            await google.colab.kernel.invokeFunction('convertToInteractive',\n",
              "                                                     [key], {});\n",
              "          if (!dataTable) return;\n",
              "\n",
              "          const docLinkHtml = 'Like what you see? Visit the ' +\n",
              "            '<a target=\"_blank\" href=https://colab.research.google.com/notebooks/data_table.ipynb>data table notebook</a>'\n",
              "            + ' to learn more about interactive tables.';\n",
              "          element.innerHTML = '';\n",
              "          dataTable['output_type'] = 'display_data';\n",
              "          await google.colab.output.renderOutput(dataTable, element);\n",
              "          const docLink = document.createElement('div');\n",
              "          docLink.innerHTML = docLinkHtml;\n",
              "          element.appendChild(docLink);\n",
              "        }\n",
              "      </script>\n",
              "    </div>\n",
              "  </div>\n",
              "  "
            ],
            "text/plain": [
              "       RMSE       MAE  R-squared  Adj. R-squared\n",
              "0  9.662311  5.172728   0.578367        0.544759"
            ]
          },
          "metadata": {},
          "execution_count": 54
        }
      ],
      "source": [
        "# Checking model performance on train set\n",
        "print(\"Training Performance\\n\")\n",
        "model_train_perf = model_performance_regression(X_val,y_val, Y_result2)\n",
        "model_train_perf"
      ],
      "id": "0a32OYY2gXDM"
    },
    {
      "cell_type": "markdown",
      "metadata": {
        "id": "3WNogSq40lx8"
      },
      "source": [
        "* After using Adam optimizer, the model seems to be overfitted. \n",
        "* Let's use two Regularization techniques to reduce the overfitting problem. \n",
        "\n",
        " - Dropout \n",
        " - BatchNormalization"
      ],
      "id": "3WNogSq40lx8"
    },
    {
      "cell_type": "markdown",
      "metadata": {
        "id": "Zq6YPr01MdMt"
      },
      "source": [
        "#### Model-3"
      ],
      "id": "Zq6YPr01MdMt"
    },
    {
      "cell_type": "markdown",
      "metadata": {
        "id": "Ymo2x26ln1Jv"
      },
      "source": [
        "**Dropout**\n",
        "\n",
        "Dropout is a regularization technique for neural network models proposed by Srivastava, et al. in their 2014 paper Dropout: A Simple Way to Prevent Neural Networks from Overfitting. Dropout is a technique where randomly selected neurons are ignored during training. They are “dropped-out” randomly."
      ],
      "id": "Ymo2x26ln1Jv"
    },
    {
      "cell_type": "code",
      "execution_count": 55,
      "metadata": {
        "id": "WEuBlUgODqTQ"
      },
      "outputs": [],
      "source": [
        "backend.clear_session()\n",
        "#Fixing the seed for random number generators so that we can ensure we receive the same output everytime\n",
        "np.random.seed(42)\n",
        "import random\n",
        "random.seed(42)\n",
        "tf.random.set_seed(42)"
      ],
      "id": "WEuBlUgODqTQ"
    },
    {
      "cell_type": "code",
      "execution_count": 56,
      "metadata": {
        "id": "zrpaWoRc94kC"
      },
      "outputs": [],
      "source": [
        "model_3 = Sequential()\n",
        "model_3.add(Dense(64, activation='relu',kernel_initializer='he_uniform', input_shape=(11,)))\n",
        "model_3.add(Dropout(0.2))\n",
        "model_3.add(Dense(32, activation='relu',kernel_initializer='he_uniform'))\n",
        "model_3.add(Dropout(0.1))\n",
        "model_3.add(Dense(32, activation='relu',kernel_initializer='he_uniform'))\n",
        "model_3.add(Dense(1, activation='linear'))"
      ],
      "id": "zrpaWoRc94kC"
    },
    {
      "cell_type": "code",
      "execution_count": 57,
      "metadata": {
        "colab": {
          "base_uri": "https://localhost:8080/"
        },
        "id": "354619f5",
        "outputId": "92e3261e-8d24-44d4-9b66-b9021d0cbf50"
      },
      "outputs": [
        {
          "output_type": "stream",
          "name": "stdout",
          "text": [
            "Model: \"sequential\"\n",
            "_________________________________________________________________\n",
            " Layer (type)                Output Shape              Param #   \n",
            "=================================================================\n",
            " dense (Dense)               (None, 64)                768       \n",
            "                                                                 \n",
            " dropout (Dropout)           (None, 64)                0         \n",
            "                                                                 \n",
            " dense_1 (Dense)             (None, 32)                2080      \n",
            "                                                                 \n",
            " dropout_1 (Dropout)         (None, 32)                0         \n",
            "                                                                 \n",
            " dense_2 (Dense)             (None, 32)                1056      \n",
            "                                                                 \n",
            " dense_3 (Dense)             (None, 1)                 33        \n",
            "                                                                 \n",
            "=================================================================\n",
            "Total params: 3,937\n",
            "Trainable params: 3,937\n",
            "Non-trainable params: 0\n",
            "_________________________________________________________________\n"
          ]
        }
      ],
      "source": [
        "model_3.summary()"
      ],
      "id": "354619f5"
    },
    {
      "cell_type": "code",
      "execution_count": 58,
      "metadata": {
        "colab": {
          "base_uri": "https://localhost:8080/"
        },
        "id": "b337d8a4",
        "outputId": "201df1ed-4706-406d-f567-02ff639c1740"
      },
      "outputs": [
        {
          "output_type": "stream",
          "name": "stdout",
          "text": [
            "Epoch 1/50\n",
            "11/11 [==============================] - 3s 68ms/step - loss: 0.9960 - mae: 0.7306 - val_loss: 0.7188 - val_mae: 0.5879\n",
            "Epoch 2/50\n",
            "11/11 [==============================] - 0s 18ms/step - loss: 0.7696 - mae: 0.6598 - val_loss: 0.6439 - val_mae: 0.5387\n",
            "Epoch 3/50\n",
            "11/11 [==============================] - 0s 21ms/step - loss: 0.6431 - mae: 0.6076 - val_loss: 0.6043 - val_mae: 0.5148\n",
            "Epoch 4/50\n",
            "11/11 [==============================] - 0s 20ms/step - loss: 0.7161 - mae: 0.6129 - val_loss: 0.5984 - val_mae: 0.5164\n",
            "Epoch 5/50\n",
            "11/11 [==============================] - 0s 27ms/step - loss: 0.5219 - mae: 0.5455 - val_loss: 0.5801 - val_mae: 0.4996\n",
            "Epoch 6/50\n",
            "11/11 [==============================] - 0s 17ms/step - loss: 0.5702 - mae: 0.5539 - val_loss: 0.5565 - val_mae: 0.4716\n",
            "Epoch 7/50\n",
            "11/11 [==============================] - 0s 27ms/step - loss: 0.5518 - mae: 0.5252 - val_loss: 0.5558 - val_mae: 0.4737\n",
            "Epoch 8/50\n",
            "11/11 [==============================] - 0s 19ms/step - loss: 0.5435 - mae: 0.5209 - val_loss: 0.5557 - val_mae: 0.4749\n",
            "Epoch 9/50\n",
            "11/11 [==============================] - 0s 23ms/step - loss: 0.5087 - mae: 0.5060 - val_loss: 0.5503 - val_mae: 0.4698\n",
            "Epoch 10/50\n",
            "11/11 [==============================] - 0s 21ms/step - loss: 0.4940 - mae: 0.4939 - val_loss: 0.5485 - val_mae: 0.4687\n",
            "Epoch 11/50\n",
            "11/11 [==============================] - 0s 17ms/step - loss: 0.4859 - mae: 0.5154 - val_loss: 0.5474 - val_mae: 0.4681\n",
            "Epoch 12/50\n",
            "11/11 [==============================] - 0s 15ms/step - loss: 0.4489 - mae: 0.4698 - val_loss: 0.5376 - val_mae: 0.4607\n",
            "Epoch 13/50\n",
            "11/11 [==============================] - 0s 18ms/step - loss: 0.4240 - mae: 0.4791 - val_loss: 0.5274 - val_mae: 0.4514\n",
            "Epoch 14/50\n",
            "11/11 [==============================] - 0s 21ms/step - loss: 0.5051 - mae: 0.4919 - val_loss: 0.5206 - val_mae: 0.4447\n",
            "Epoch 15/50\n",
            "11/11 [==============================] - 0s 23ms/step - loss: 0.4372 - mae: 0.4647 - val_loss: 0.5313 - val_mae: 0.4555\n",
            "Epoch 16/50\n",
            "11/11 [==============================] - 0s 20ms/step - loss: 0.3971 - mae: 0.4534 - val_loss: 0.5330 - val_mae: 0.4620\n",
            "Epoch 17/50\n",
            "11/11 [==============================] - 0s 23ms/step - loss: 0.4264 - mae: 0.4482 - val_loss: 0.5216 - val_mae: 0.4582\n",
            "Epoch 18/50\n",
            "11/11 [==============================] - 0s 20ms/step - loss: 0.3960 - mae: 0.4516 - val_loss: 0.5155 - val_mae: 0.4528\n",
            "Epoch 19/50\n",
            "11/11 [==============================] - 0s 16ms/step - loss: 0.3697 - mae: 0.4288 - val_loss: 0.5187 - val_mae: 0.4565\n",
            "Epoch 20/50\n",
            "11/11 [==============================] - 0s 22ms/step - loss: 0.4471 - mae: 0.4656 - val_loss: 0.5162 - val_mae: 0.4597\n",
            "Epoch 21/50\n",
            "11/11 [==============================] - 0s 16ms/step - loss: 0.3897 - mae: 0.4680 - val_loss: 0.5085 - val_mae: 0.4497\n",
            "Epoch 22/50\n",
            "11/11 [==============================] - 0s 17ms/step - loss: 0.3803 - mae: 0.4424 - val_loss: 0.5012 - val_mae: 0.4398\n",
            "Epoch 23/50\n",
            "11/11 [==============================] - 0s 26ms/step - loss: 0.3336 - mae: 0.4137 - val_loss: 0.5049 - val_mae: 0.4419\n",
            "Epoch 24/50\n",
            "11/11 [==============================] - 0s 10ms/step - loss: 0.3783 - mae: 0.4305 - val_loss: 0.5011 - val_mae: 0.4361\n",
            "Epoch 25/50\n",
            "11/11 [==============================] - 0s 8ms/step - loss: 0.3863 - mae: 0.4401 - val_loss: 0.5094 - val_mae: 0.4401\n",
            "Epoch 26/50\n",
            "11/11 [==============================] - 0s 15ms/step - loss: 0.3869 - mae: 0.4147 - val_loss: 0.5002 - val_mae: 0.4354\n",
            "Epoch 27/50\n",
            "11/11 [==============================] - 0s 20ms/step - loss: 0.3543 - mae: 0.4193 - val_loss: 0.4939 - val_mae: 0.4354\n",
            "Epoch 28/50\n",
            "11/11 [==============================] - 0s 23ms/step - loss: 0.4203 - mae: 0.4525 - val_loss: 0.4879 - val_mae: 0.4278\n",
            "Epoch 29/50\n",
            "11/11 [==============================] - 0s 29ms/step - loss: 0.3975 - mae: 0.4417 - val_loss: 0.4988 - val_mae: 0.4353\n",
            "Epoch 30/50\n",
            "11/11 [==============================] - 0s 22ms/step - loss: 0.3771 - mae: 0.4348 - val_loss: 0.4855 - val_mae: 0.4257\n",
            "Epoch 31/50\n",
            "11/11 [==============================] - 0s 24ms/step - loss: 0.3276 - mae: 0.3900 - val_loss: 0.4785 - val_mae: 0.4218\n",
            "Epoch 32/50\n",
            "11/11 [==============================] - 0s 24ms/step - loss: 0.3549 - mae: 0.4000 - val_loss: 0.4840 - val_mae: 0.4278\n",
            "Epoch 33/50\n",
            "11/11 [==============================] - 0s 28ms/step - loss: 0.3880 - mae: 0.4377 - val_loss: 0.4792 - val_mae: 0.4285\n",
            "Epoch 34/50\n",
            "11/11 [==============================] - 0s 24ms/step - loss: 0.3149 - mae: 0.4000 - val_loss: 0.4712 - val_mae: 0.4251\n",
            "Epoch 35/50\n",
            "11/11 [==============================] - 0s 23ms/step - loss: 0.3541 - mae: 0.4127 - val_loss: 0.4799 - val_mae: 0.4272\n",
            "Epoch 36/50\n",
            "11/11 [==============================] - 0s 21ms/step - loss: 0.3908 - mae: 0.4306 - val_loss: 0.4806 - val_mae: 0.4256\n",
            "Epoch 37/50\n",
            "11/11 [==============================] - 0s 18ms/step - loss: 0.3137 - mae: 0.3859 - val_loss: 0.4732 - val_mae: 0.4250\n",
            "Epoch 38/50\n",
            "11/11 [==============================] - 0s 25ms/step - loss: 0.2965 - mae: 0.3871 - val_loss: 0.4641 - val_mae: 0.4179\n",
            "Epoch 39/50\n",
            "11/11 [==============================] - 0s 24ms/step - loss: 0.3380 - mae: 0.4123 - val_loss: 0.4677 - val_mae: 0.4217\n",
            "Epoch 40/50\n",
            "11/11 [==============================] - 0s 25ms/step - loss: 0.2978 - mae: 0.4038 - val_loss: 0.4748 - val_mae: 0.4239\n",
            "Epoch 41/50\n",
            "11/11 [==============================] - 0s 18ms/step - loss: 0.3105 - mae: 0.4014 - val_loss: 0.4614 - val_mae: 0.4139\n",
            "Epoch 42/50\n",
            "11/11 [==============================] - 0s 24ms/step - loss: 0.3001 - mae: 0.3835 - val_loss: 0.4564 - val_mae: 0.4095\n",
            "Epoch 43/50\n",
            "11/11 [==============================] - 0s 32ms/step - loss: 0.3176 - mae: 0.3858 - val_loss: 0.4497 - val_mae: 0.4054\n",
            "Epoch 44/50\n",
            "11/11 [==============================] - 0s 24ms/step - loss: 0.3426 - mae: 0.3945 - val_loss: 0.4635 - val_mae: 0.4192\n",
            "Epoch 45/50\n",
            "11/11 [==============================] - 0s 25ms/step - loss: 0.2916 - mae: 0.3868 - val_loss: 0.4522 - val_mae: 0.4207\n",
            "Epoch 46/50\n",
            "11/11 [==============================] - 0s 21ms/step - loss: 0.2856 - mae: 0.3877 - val_loss: 0.4511 - val_mae: 0.4220\n",
            "Epoch 47/50\n",
            "11/11 [==============================] - 0s 27ms/step - loss: 0.3038 - mae: 0.3893 - val_loss: 0.4534 - val_mae: 0.4155\n",
            "Epoch 48/50\n",
            "11/11 [==============================] - 0s 25ms/step - loss: 0.2672 - mae: 0.3585 - val_loss: 0.4478 - val_mae: 0.4089\n",
            "Epoch 49/50\n",
            "11/11 [==============================] - 0s 20ms/step - loss: 0.3113 - mae: 0.3864 - val_loss: 0.4372 - val_mae: 0.4014\n",
            "Epoch 50/50\n",
            "11/11 [==============================] - 0s 21ms/step - loss: 0.3110 - mae: 0.3944 - val_loss: 0.4441 - val_mae: 0.4015\n"
          ]
        }
      ],
      "source": [
        "optimizer = Adam(0.001)\n",
        "model_3.compile(loss='mse',\n",
        "              optimizer=optimizer,\n",
        "              metrics=['mae'])\n",
        "es_cb = callbacks.EarlyStopping(monitor='val_loss', min_delta=0.001, patience=5)\n",
        "history_3 = model_3.fit(X_train, y_train, validation_data=(X_val, y_val_scale), epochs=50,callbacks=es_cb)"
      ],
      "id": "b337d8a4"
    },
    {
      "cell_type": "markdown",
      "metadata": {
        "id": "9088c554"
      },
      "source": [
        "#### Just by changing the optimizers we are able to reduce the loss to 19.25% and 22.16% for validation data "
      ],
      "id": "9088c554"
    },
    {
      "cell_type": "code",
      "execution_count": 59,
      "metadata": {
        "colab": {
          "base_uri": "https://localhost:8080/",
          "height": 284
        },
        "id": "4e7baacd",
        "outputId": "5d1117be-0be3-4c3c-da07-558ee1bd1705"
      },
      "outputs": [
        {
          "output_type": "display_data",
          "data": {
            "image/png": "[encoded data removed]",
            "text/plain": [
              "<Figure size 432x288 with 1 Axes>"
            ]
          },
          "metadata": {}
        }
      ],
      "source": [
        "pyplot.title('Loss / Mean Squared Error')\n",
        "pyplot.plot(history_3.history['loss'], label='train')\n",
        "pyplot.plot(history_3.history['val_loss'], label='validate')\n",
        "pyplot.legend()\n",
        "pyplot.show()"
      ],
      "id": "4e7baacd"
    },
    {
      "cell_type": "markdown",
      "metadata": {
        "id": "7KLrSAVv-P3v"
      },
      "source": [
        "* After using Dropout the both curves seems to be smooth"
      ],
      "id": "7KLrSAVv-P3v"
    },
    {
      "cell_type": "code",
      "execution_count": 60,
      "metadata": {
        "colab": {
          "base_uri": "https://localhost:8080/"
        },
        "id": "a33bf2af",
        "outputId": "14e3f56a-fca5-43c8-e99d-ee1450b46ff6"
      },
      "outputs": [
        {
          "output_type": "stream",
          "name": "stdout",
          "text": [
            "[[19.383148 ]\n",
            " [14.558552 ]\n",
            " [28.917177 ]\n",
            " [24.653454 ]\n",
            " [14.744953 ]\n",
            " [21.28448  ]\n",
            " [27.97709  ]\n",
            " [23.785166 ]\n",
            " [ 2.2244709]\n",
            " [31.724714 ]\n",
            " [11.054335 ]\n",
            " [ 9.882922 ]\n",
            " [19.597439 ]\n",
            " [24.676928 ]\n",
            " [29.092995 ]\n",
            " [27.054798 ]\n",
            " [32.172253 ]\n",
            " [15.695518 ]\n",
            " [27.265022 ]\n",
            " [55.76723  ]\n",
            " [32.64332  ]\n",
            " [50.12545  ]\n",
            " [15.539819 ]\n",
            " [31.921999 ]\n",
            " [22.917223 ]\n",
            " [51.34886  ]\n",
            " [17.939812 ]\n",
            " [23.425085 ]\n",
            " [13.433076 ]\n",
            " [29.959753 ]\n",
            " [42.46708  ]\n",
            " [28.487265 ]\n",
            " [39.982956 ]\n",
            " [24.759436 ]\n",
            " [25.423403 ]\n",
            " [20.864887 ]\n",
            " [19.564346 ]\n",
            " [11.474954 ]\n",
            " [24.494448 ]\n",
            " [24.381462 ]\n",
            " [26.713718 ]\n",
            " [14.124988 ]\n",
            " [31.743591 ]\n",
            " [25.409582 ]\n",
            " [23.221605 ]\n",
            " [23.511293 ]\n",
            " [24.454847 ]\n",
            " [18.231464 ]\n",
            " [18.943571 ]\n",
            " [23.786818 ]\n",
            " [25.423403 ]\n",
            " [24.204166 ]\n",
            " [15.398277 ]\n",
            " [23.053421 ]\n",
            " [26.515312 ]\n",
            " [12.450069 ]\n",
            " [12.35642  ]\n",
            " [23.583246 ]\n",
            " [24.654799 ]\n",
            " [22.03493  ]\n",
            " [31.926348 ]\n",
            " [20.459343 ]\n",
            " [ 9.315775 ]\n",
            " [36.47754  ]\n",
            " [25.707745 ]\n",
            " [22.885208 ]\n",
            " [19.599718 ]\n",
            " [24.082317 ]\n",
            " [24.348616 ]\n",
            " [22.88521  ]\n",
            " [28.425259 ]\n",
            " [30.207586 ]\n",
            " [23.967827 ]\n",
            " [13.306236 ]\n",
            " [18.066092 ]\n",
            " [15.3717985]\n",
            " [24.449541 ]\n",
            " [24.594913 ]\n",
            " [19.796293 ]\n",
            " [33.33269  ]\n",
            " [23.664948 ]\n",
            " [12.620678 ]\n",
            " [38.956173 ]\n",
            " [15.707225 ]\n",
            " [25.99707  ]\n",
            " [11.33874  ]\n",
            " [14.214553 ]\n",
            " [32.737335 ]\n",
            " [25.390343 ]\n",
            " [13.394183 ]\n",
            " [22.88521  ]\n",
            " [23.929712 ]\n",
            " [25.5635   ]\n",
            " [13.509764 ]\n",
            " [18.56908  ]\n",
            " [13.010649 ]\n",
            " [26.427753 ]\n",
            " [23.425085 ]\n",
            " [34.63059  ]\n",
            " [11.054335 ]\n",
            " [13.6429405]\n",
            " [34.49433  ]\n",
            " [23.357656 ]\n",
            " [29.00176  ]\n",
            " [26.544287 ]\n",
            " [23.727201 ]\n",
            " [29.737692 ]\n",
            " [11.054335 ]\n",
            " [ 9.563359 ]\n",
            " [23.75701  ]\n",
            " [37.590946 ]\n",
            " [32.454456 ]\n",
            " [28.119434 ]\n",
            " [23.465187 ]\n",
            " [48.31816  ]\n",
            " [12.137072 ]\n",
            " [15.7060375]\n",
            " [15.715146 ]\n",
            " [23.913757 ]\n",
            " [10.522192 ]\n",
            " [14.744953 ]\n",
            " [24.638771 ]\n",
            " [30.39723  ]\n",
            " [12.855565 ]\n",
            " [10.24318  ]\n",
            " [14.612029 ]\n",
            " [17.65199  ]\n",
            " [11.208828 ]\n",
            " [12.505481 ]\n",
            " [35.506653 ]\n",
            " [23.221605 ]\n",
            " [23.785166 ]\n",
            " [19.145046 ]\n",
            " [21.671389 ]\n",
            " [23.614975 ]\n",
            " [22.530655 ]\n",
            " [12.076203 ]\n",
            " [24.757406 ]\n",
            " [12.575048 ]\n",
            " [13.423755 ]\n",
            " [22.428577 ]\n",
            " [ 5.2457   ]\n",
            " [32.57824  ]\n",
            " [23.7849   ]\n",
            " [ 7.612092 ]\n",
            " [12.070704 ]\n",
            " [12.347821 ]\n",
            " [54.809456 ]\n",
            " [12.549358 ]\n",
            " [32.86895  ]]\n"
          ]
        }
      ],
      "source": [
        "Y_result_scaled_3= model_3.predict(X_val)\n",
        "Y_result_3 = scaler_Y.inverse_transform(Y_result_scaled_3)\n",
        "print(Y_result_3)"
      ],
      "id": "a33bf2af"
    },
    {
      "cell_type": "code",
      "execution_count": 61,
      "metadata": {
        "colab": {
          "base_uri": "https://localhost:8080/"
        },
        "id": "-MUy05lqHi_U",
        "outputId": "6bdcf8b2-c535-41ad-f9ff-c3ec5a704216"
      },
      "outputs": [
        {
          "output_type": "stream",
          "name": "stdout",
          "text": [
            "r2 = 0.5521042160811104\n"
          ]
        }
      ],
      "source": [
        "r_squared_3 = r2_score(y_val, Y_result_3)\n",
        "print('r2 = {}'.format(r_squared_3))"
      ],
      "id": "-MUy05lqHi_U"
    },
    {
      "cell_type": "code",
      "execution_count": 62,
      "metadata": {
        "colab": {
          "base_uri": "https://localhost:8080/",
          "height": 115
        },
        "id": "j3s0w8-bgnHg",
        "outputId": "6379763d-9cad-40c6-df4a-5039c2634a31"
      },
      "outputs": [
        {
          "output_type": "stream",
          "name": "stdout",
          "text": [
            "Training Performance\n",
            "\n"
          ]
        },
        {
          "output_type": "execute_result",
          "data": {
            "text/html": [
              "\n",
              "  <div id=\"df-98e03936-e9b7-45eb-a549-1d36901a9d0f\">\n",
              "    <div class=\"colab-df-container\">\n",
              "      <div>\n",
              "<style scoped>\n",
              "    .dataframe tbody tr th:only-of-type {\n",
              "        vertical-align: middle;\n",
              "    }\n",
              "\n",
              "    .dataframe tbody tr th {\n",
              "        vertical-align: top;\n",
              "    }\n",
              "\n",
              "    .dataframe thead th {\n",
              "        text-align: right;\n",
              "    }\n",
              "</style>\n",
              "<table border=\"1\" class=\"dataframe\">\n",
              "  <thead>\n",
              "    <tr style=\"text-align: right;\">\n",
              "      <th></th>\n",
              "      <th>RMSE</th>\n",
              "      <th>MAE</th>\n",
              "      <th>R-squared</th>\n",
              "      <th>Adj. R-squared</th>\n",
              "    </tr>\n",
              "  </thead>\n",
              "  <tbody>\n",
              "    <tr>\n",
              "      <th>0</th>\n",
              "      <td>9.958693</td>\n",
              "      <td>6.039702</td>\n",
              "      <td>0.552104</td>\n",
              "      <td>0.516402</td>\n",
              "    </tr>\n",
              "  </tbody>\n",
              "</table>\n",
              "</div>\n",
              "      <button class=\"colab-df-convert\" onclick=\"convertToInteractive('df-98e03936-e9b7-45eb-a549-1d36901a9d0f')\"\n",
              "              title=\"Convert this dataframe to an interactive table.\"\n",
              "              style=\"display:none;\">\n",
              "        \n",
              "  <svg xmlns=\"http://www.w3.org/2000/svg\" height=\"24px\"viewBox=\"0 0 24 24\"\n",
              "       width=\"24px\">\n",
              "    <path d=\"M0 0h24v24H0V0z\" fill=\"none\"/>\n",
              "    <path d=\"M18.56 5.44l.94 2.06.94-2.06 2.06-.94-2.06-.94-.94-2.06-.94 2.06-2.06.94zm-11 1L8.5 8.5l.94-2.06 2.06-.94-2.06-.94L8.5 2.5l-.94 2.06-2.06.94zm10 10l.94 2.06.94-2.06 2.06-.94-2.06-.94-.94-2.06-.94 2.06-2.06.94z\"/><path d=\"M17.41 7.96l-1.37-1.37c-.4-.4-.92-.59-1.43-.59-.52 0-1.04.2-1.43.59L10.3 9.45l-7.72 7.72c-.78.78-.78 2.05 0 2.83L4 21.41c.39.39.9.59 1.41.59.51 0 1.02-.2 1.41-.59l7.78-7.78 2.81-2.81c.8-.78.8-2.07 0-2.86zM5.41 20L4 18.59l7.72-7.72 1.47 1.35L5.41 20z\"/>\n",
              "  </svg>\n",
              "      </button>\n",
              "      \n",
              "  <style>\n",
              "    .colab-df-container {\n",
              "      display:flex;\n",
              "      flex-wrap:wrap;\n",
              "      gap: 12px;\n",
              "    }\n",
              "\n",
              "    .colab-df-convert {\n",
              "      background-color: #E8F0FE;\n",
              "      border: none;\n",
              "      border-radius: 50%;\n",
              "      cursor: pointer;\n",
              "      display: none;\n",
              "      fill: #1967D2;\n",
              "      height: 32px;\n",
              "      padding: 0 0 0 0;\n",
              "      width: 32px;\n",
              "    }\n",
              "\n",
              "    .colab-df-convert:hover {\n",
              "      background-color: #E2EBFA;\n",
              "      box-shadow: 0px 1px 2px rgba(60, 64, 67, 0.3), 0px 1px 3px 1px rgba(60, 64, 67, 0.15);\n",
              "      fill: #174EA6;\n",
              "    }\n",
              "\n",
              "    [theme=dark] .colab-df-convert {\n",
              "      background-color: #3B4455;\n",
              "      fill: #D2E3FC;\n",
              "    }\n",
              "\n",
              "    [theme=dark] .colab-df-convert:hover {\n",
              "      background-color: #434B5C;\n",
              "      box-shadow: 0px 1px 3px 1px rgba(0, 0, 0, 0.15);\n",
              "      filter: drop-shadow(0px 1px 2px rgba(0, 0, 0, 0.3));\n",
              "      fill: #FFFFFF;\n",
              "    }\n",
              "  </style>\n",
              "\n",
              "      <script>\n",
              "        const buttonEl =\n",
              "          document.querySelector('#df-98e03936-e9b7-45eb-a549-1d36901a9d0f button.colab-df-convert');\n",
              "        buttonEl.style.display =\n",
              "          google.colab.kernel.accessAllowed ? 'block' : 'none';\n",
              "\n",
              "        async function convertToInteractive(key) {\n",
              "          const element = document.querySelector('#df-98e03936-e9b7-45eb-a549-1d36901a9d0f');\n",
              "          const dataTable =\n",
              "            await google.colab.kernel.invokeFunction('convertToInteractive',\n",
              "                                                     [key], {});\n",
              "          if (!dataTable) return;\n",
              "\n",
              "          const docLinkHtml = 'Like what you see? Visit the ' +\n",
              "            '<a target=\"_blank\" href=https://colab.research.google.com/notebooks/data_table.ipynb>data table notebook</a>'\n",
              "            + ' to learn more about interactive tables.';\n",
              "          element.innerHTML = '';\n",
              "          dataTable['output_type'] = 'display_data';\n",
              "          await google.colab.output.renderOutput(dataTable, element);\n",
              "          const docLink = document.createElement('div');\n",
              "          docLink.innerHTML = docLinkHtml;\n",
              "          element.appendChild(docLink);\n",
              "        }\n",
              "      </script>\n",
              "    </div>\n",
              "  </div>\n",
              "  "
            ],
            "text/plain": [
              "       RMSE       MAE  R-squared  Adj. R-squared\n",
              "0  9.958693  6.039702   0.552104        0.516402"
            ]
          },
          "metadata": {},
          "execution_count": 62
        }
      ],
      "source": [
        "# Checking model performance on train set\n",
        "print(\"Training Performance\\n\")\n",
        "model_train_perf = model_performance_regression(X_val,y_val, Y_result_3)\n",
        "model_train_perf"
      ],
      "id": "j3s0w8-bgnHg"
    },
    {
      "cell_type": "markdown",
      "metadata": {
        "id": "I-XBC6qM_qgx"
      },
      "source": [
        "The Adjusted R-Square has increased when compared to the previous model. Now lets try BatchNormalization technique to improve the score. "
      ],
      "id": "I-XBC6qM_qgx"
    },
    {
      "cell_type": "markdown",
      "metadata": {
        "id": "uO8qTVIVMiwk"
      },
      "source": [
        "#### Model-4"
      ],
      "id": "uO8qTVIVMiwk"
    },
    {
      "cell_type": "code",
      "execution_count": 63,
      "metadata": {
        "id": "cqpRaJB2cGO2"
      },
      "outputs": [],
      "source": [
        "backend.clear_session()\n",
        "#Fixing the seed for random number generators so that we can ensure we receive the same output everytime\n",
        "np.random.seed(42)\n",
        "import random\n",
        "random.seed(42)\n",
        "tf.random.set_seed(42)"
      ],
      "id": "cqpRaJB2cGO2"
    },
    {
      "cell_type": "code",
      "execution_count": 64,
      "metadata": {
        "id": "D5WUQWTYcGL9"
      },
      "outputs": [],
      "source": [
        "model_4 = Sequential()\n",
        "model_4.add(Dense(64, activation='relu',kernel_initializer='he_uniform', input_shape=(11,)))\n",
        "model_4.add(Dense(32, activation='relu',kernel_initializer='he_uniform'))\n",
        "model_4.add(BatchNormalization())\n",
        "model_4.add(Dense(32, activation='relu',kernel_initializer='he_uniform'))\n",
        "model_4.add(Dense(1, activation='linear'))"
      ],
      "id": "D5WUQWTYcGL9"
    },
    {
      "cell_type": "code",
      "execution_count": 65,
      "metadata": {
        "colab": {
          "base_uri": "https://localhost:8080/"
        },
        "id": "ied2r12VcGJb",
        "outputId": "42884f5d-e00a-416f-b4e2-b75277bb96b7"
      },
      "outputs": [
        {
          "output_type": "stream",
          "name": "stdout",
          "text": [
            "Model: \"sequential\"\n",
            "_________________________________________________________________\n",
            " Layer (type)                Output Shape              Param #   \n",
            "=================================================================\n",
            " dense (Dense)               (None, 64)                768       \n",
            "                                                                 \n",
            " dense_1 (Dense)             (None, 32)                2080      \n",
            "                                                                 \n",
            " batch_normalization (BatchN  (None, 32)               128       \n",
            " ormalization)                                                   \n",
            "                                                                 \n",
            " dense_2 (Dense)             (None, 32)                1056      \n",
            "                                                                 \n",
            " dense_3 (Dense)             (None, 1)                 33        \n",
            "                                                                 \n",
            "=================================================================\n",
            "Total params: 4,065\n",
            "Trainable params: 4,001\n",
            "Non-trainable params: 64\n",
            "_________________________________________________________________\n"
          ]
        }
      ],
      "source": [
        "model_4.summary()"
      ],
      "id": "ied2r12VcGJb"
    },
    {
      "cell_type": "code",
      "execution_count": 66,
      "metadata": {
        "colab": {
          "base_uri": "https://localhost:8080/"
        },
        "id": "ZnqD-PZHcGG4",
        "outputId": "c72493c7-8a7e-4e70-a9b1-13e9a296f644"
      },
      "outputs": [
        {
          "output_type": "stream",
          "name": "stdout",
          "text": [
            "Epoch 1/50\n",
            "11/11 [==============================] - 2s 51ms/step - loss: 1.0444 - mae: 0.8171 - val_loss: 0.7791 - val_mae: 0.6154\n",
            "Epoch 2/50\n",
            "11/11 [==============================] - 0s 23ms/step - loss: 0.5594 - mae: 0.5680 - val_loss: 0.7344 - val_mae: 0.5979\n",
            "Epoch 3/50\n",
            "11/11 [==============================] - 0s 20ms/step - loss: 0.4549 - mae: 0.5072 - val_loss: 0.6983 - val_mae: 0.5733\n",
            "Epoch 4/50\n",
            "11/11 [==============================] - 0s 20ms/step - loss: 0.3721 - mae: 0.4490 - val_loss: 0.6608 - val_mae: 0.5348\n",
            "Epoch 5/50\n",
            "11/11 [==============================] - 0s 20ms/step - loss: 0.3203 - mae: 0.3937 - val_loss: 0.6315 - val_mae: 0.5039\n",
            "Epoch 6/50\n",
            "11/11 [==============================] - 0s 19ms/step - loss: 0.3266 - mae: 0.4183 - val_loss: 0.6179 - val_mae: 0.4935\n",
            "Epoch 7/50\n",
            "11/11 [==============================] - 0s 16ms/step - loss: 0.2517 - mae: 0.3605 - val_loss: 0.6037 - val_mae: 0.4831\n",
            "Epoch 8/50\n",
            "11/11 [==============================] - 0s 23ms/step - loss: 0.2502 - mae: 0.3647 - val_loss: 0.5906 - val_mae: 0.4632\n",
            "Epoch 9/50\n",
            "11/11 [==============================] - 0s 23ms/step - loss: 0.2466 - mae: 0.3461 - val_loss: 0.5870 - val_mae: 0.4575\n",
            "Epoch 10/50\n",
            "11/11 [==============================] - 0s 18ms/step - loss: 0.1952 - mae: 0.3216 - val_loss: 0.5811 - val_mae: 0.4488\n",
            "Epoch 11/50\n",
            "11/11 [==============================] - 0s 27ms/step - loss: 0.2171 - mae: 0.3335 - val_loss: 0.5779 - val_mae: 0.4406\n",
            "Epoch 12/50\n",
            "11/11 [==============================] - 0s 20ms/step - loss: 0.1821 - mae: 0.2961 - val_loss: 0.5619 - val_mae: 0.4246\n",
            "Epoch 13/50\n",
            "11/11 [==============================] - 0s 16ms/step - loss: 0.2126 - mae: 0.3342 - val_loss: 0.5359 - val_mae: 0.4025\n",
            "Epoch 14/50\n",
            "11/11 [==============================] - 0s 21ms/step - loss: 0.2005 - mae: 0.3176 - val_loss: 0.5279 - val_mae: 0.3940\n",
            "Epoch 15/50\n",
            "11/11 [==============================] - 0s 17ms/step - loss: 0.1881 - mae: 0.3055 - val_loss: 0.5215 - val_mae: 0.3937\n",
            "Epoch 16/50\n",
            "11/11 [==============================] - 0s 22ms/step - loss: 0.1752 - mae: 0.2968 - val_loss: 0.5159 - val_mae: 0.3964\n",
            "Epoch 17/50\n",
            "11/11 [==============================] - 0s 22ms/step - loss: 0.1458 - mae: 0.2743 - val_loss: 0.5161 - val_mae: 0.3902\n",
            "Epoch 18/50\n",
            "11/11 [==============================] - 0s 17ms/step - loss: 0.1557 - mae: 0.2877 - val_loss: 0.5072 - val_mae: 0.3846\n",
            "Epoch 19/50\n",
            "11/11 [==============================] - 0s 18ms/step - loss: 0.1656 - mae: 0.2958 - val_loss: 0.4954 - val_mae: 0.3814\n",
            "Epoch 20/50\n",
            "11/11 [==============================] - 0s 20ms/step - loss: 0.1866 - mae: 0.3227 - val_loss: 0.4971 - val_mae: 0.3839\n",
            "Epoch 21/50\n",
            "11/11 [==============================] - 0s 22ms/step - loss: 0.1618 - mae: 0.2959 - val_loss: 0.5115 - val_mae: 0.3911\n",
            "Epoch 22/50\n",
            "11/11 [==============================] - 0s 22ms/step - loss: 0.1508 - mae: 0.2907 - val_loss: 0.5010 - val_mae: 0.3865\n",
            "Epoch 23/50\n",
            "11/11 [==============================] - 0s 23ms/step - loss: 0.1557 - mae: 0.2826 - val_loss: 0.5467 - val_mae: 0.4146\n",
            "Epoch 24/50\n",
            "11/11 [==============================] - 0s 19ms/step - loss: 0.1639 - mae: 0.2890 - val_loss: 0.5282 - val_mae: 0.3922\n"
          ]
        }
      ],
      "source": [
        "optimizer = Adam(0.001)\n",
        "model_4.compile(loss='mse',\n",
        "              optimizer=optimizer,\n",
        "              metrics=['mae'])\n",
        "es_cb = callbacks.EarlyStopping(monitor='val_loss', min_delta=0.001, patience=5)\n",
        "history_4 = model_4.fit(X_train, y_train, validation_data=(X_val, y_val_scale), epochs=50,callbacks=es_cb)"
      ],
      "id": "ZnqD-PZHcGG4"
    },
    {
      "cell_type": "code",
      "execution_count": 67,
      "metadata": {
        "colab": {
          "base_uri": "https://localhost:8080/",
          "height": 284
        },
        "id": "PkGAuj5mcGEF",
        "outputId": "54e2ae4e-59ac-4572-d897-ba476904de92"
      },
      "outputs": [
        {
          "output_type": "display_data",
          "data": {
            "image/png": "[encoded data removed]",
            "text/plain": [
              "<Figure size 432x288 with 1 Axes>"
            ]
          },
          "metadata": {}
        }
      ],
      "source": [
        "pyplot.title('Loss / Mean Squared Error')\n",
        "pyplot.plot(history_4.history['loss'], label='train')\n",
        "pyplot.plot(history_4.history['val_loss'], label='validate')\n",
        "pyplot.legend()\n",
        "pyplot.show()"
      ],
      "id": "PkGAuj5mcGEF"
    },
    {
      "cell_type": "markdown",
      "metadata": {
        "id": "Gj11sWShA-x5"
      },
      "source": [
        "* The gap between both the loss curves is somewhat high when compared to the previous model."
      ],
      "id": "Gj11sWShA-x5"
    },
    {
      "cell_type": "code",
      "execution_count": 68,
      "metadata": {
        "colab": {
          "base_uri": "https://localhost:8080/"
        },
        "id": "JgkCcuKWcGBU",
        "outputId": "2cd7c01a-6405-46c8-a412-b50c299a1512"
      },
      "outputs": [
        {
          "output_type": "stream",
          "name": "stdout",
          "text": [
            "[[18.139067 ]\n",
            " [15.759584 ]\n",
            " [31.170155 ]\n",
            " [27.144302 ]\n",
            " [15.567216 ]\n",
            " [21.844555 ]\n",
            " [29.301975 ]\n",
            " [29.40697  ]\n",
            " [ 6.331229 ]\n",
            " [31.511362 ]\n",
            " [14.348019 ]\n",
            " [13.596628 ]\n",
            " [22.156616 ]\n",
            " [26.849964 ]\n",
            " [25.481459 ]\n",
            " [43.976265 ]\n",
            " [33.71201  ]\n",
            " [12.67047  ]\n",
            " [29.159508 ]\n",
            " [68.420616 ]\n",
            " [32.718674 ]\n",
            " [56.58474  ]\n",
            " [13.699549 ]\n",
            " [35.277954 ]\n",
            " [26.550959 ]\n",
            " [62.54553  ]\n",
            " [23.719923 ]\n",
            " [26.77574  ]\n",
            " [12.959484 ]\n",
            " [49.630585 ]\n",
            " [53.098335 ]\n",
            " [30.218176 ]\n",
            " [43.194786 ]\n",
            " [31.62296  ]\n",
            " [27.314188 ]\n",
            " [14.737434 ]\n",
            " [21.541605 ]\n",
            " [13.059304 ]\n",
            " [26.487335 ]\n",
            " [30.58484  ]\n",
            " [28.767307 ]\n",
            " [13.324422 ]\n",
            " [31.006872 ]\n",
            " [27.55741  ]\n",
            " [31.022245 ]\n",
            " [30.519838 ]\n",
            " [28.300142 ]\n",
            " [17.234695 ]\n",
            " [22.805586 ]\n",
            " [26.257221 ]\n",
            " [27.314188 ]\n",
            " [25.354849 ]\n",
            " [13.916302 ]\n",
            " [24.303808 ]\n",
            " [28.851706 ]\n",
            " [14.106258 ]\n",
            " [11.925336 ]\n",
            " [26.62092  ]\n",
            " [30.529608 ]\n",
            " [21.92786  ]\n",
            " [32.7535   ]\n",
            " [20.961946 ]\n",
            " [15.46967  ]\n",
            " [35.958565 ]\n",
            " [29.245773 ]\n",
            " [24.666052 ]\n",
            " [18.754923 ]\n",
            " [28.669994 ]\n",
            " [27.251183 ]\n",
            " [23.439346 ]\n",
            " [29.6111   ]\n",
            " [31.435856 ]\n",
            " [27.548912 ]\n",
            " [11.766089 ]\n",
            " [15.087665 ]\n",
            " [17.780687 ]\n",
            " [25.847767 ]\n",
            " [26.976631 ]\n",
            " [18.787773 ]\n",
            " [49.449223 ]\n",
            " [30.035097 ]\n",
            " [14.916613 ]\n",
            " [37.74199  ]\n",
            " [12.26508  ]\n",
            " [28.565166 ]\n",
            " [10.962755 ]\n",
            " [11.195202 ]\n",
            " [38.73855  ]\n",
            " [28.374168 ]\n",
            " [13.0914545]\n",
            " [23.439346 ]\n",
            " [28.986198 ]\n",
            " [28.22419  ]\n",
            " [21.513174 ]\n",
            " [19.522293 ]\n",
            " [22.104927 ]\n",
            " [32.37874  ]\n",
            " [26.77574  ]\n",
            " [36.717148 ]\n",
            " [14.348019 ]\n",
            " [14.256549 ]\n",
            " [31.952925 ]\n",
            " [23.276932 ]\n",
            " [28.317713 ]\n",
            " [26.954659 ]\n",
            " [26.602856 ]\n",
            " [28.928093 ]\n",
            " [14.348019 ]\n",
            " [10.838155 ]\n",
            " [26.333141 ]\n",
            " [42.396927 ]\n",
            " [36.3678   ]\n",
            " [30.264881 ]\n",
            " [26.744814 ]\n",
            " [50.624474 ]\n",
            " [10.78386  ]\n",
            " [12.538184 ]\n",
            " [12.075082 ]\n",
            " [27.4261   ]\n",
            " [ 6.4206553]\n",
            " [15.567216 ]\n",
            " [26.3751   ]\n",
            " [31.152788 ]\n",
            " [15.254952 ]\n",
            " [11.801954 ]\n",
            " [10.954073 ]\n",
            " [20.269117 ]\n",
            " [13.556913 ]\n",
            " [13.395589 ]\n",
            " [58.437023 ]\n",
            " [31.022245 ]\n",
            " [29.40697  ]\n",
            " [17.136974 ]\n",
            " [19.65777  ]\n",
            " [26.577671 ]\n",
            " [24.826614 ]\n",
            " [12.423536 ]\n",
            " [31.535297 ]\n",
            " [14.602154 ]\n",
            " [14.0064745]\n",
            " [25.736616 ]\n",
            " [ 8.7932005]\n",
            " [37.438866 ]\n",
            " [26.121868 ]\n",
            " [10.443689 ]\n",
            " [ 4.617135 ]\n",
            " [13.81236  ]\n",
            " [61.21505  ]\n",
            " [13.7057905]\n",
            " [31.491991 ]]\n"
          ]
        }
      ],
      "source": [
        "Y_result_scaled_4= model_4.predict(X_val)\n",
        "Y_result_4 = scaler_Y.inverse_transform(Y_result_scaled_4)\n",
        "print(Y_result_4)"
      ],
      "id": "JgkCcuKWcGBU"
    },
    {
      "cell_type": "code",
      "execution_count": 69,
      "metadata": {
        "colab": {
          "base_uri": "https://localhost:8080/"
        },
        "id": "dCw5qfcZcZ5R",
        "outputId": "2da52d5d-86d4-4f07-9880-45c918a904e7"
      },
      "outputs": [
        {
          "output_type": "stream",
          "name": "stdout",
          "text": [
            "r2 = 0.4748263912645363\n"
          ]
        }
      ],
      "source": [
        "r_squared_4 = r2_score(y_val, Y_result_4)\n",
        "print('r2 = {}'.format(r_squared_4))"
      ],
      "id": "dCw5qfcZcZ5R"
    },
    {
      "cell_type": "code",
      "execution_count": 70,
      "metadata": {
        "colab": {
          "base_uri": "https://localhost:8080/",
          "height": 115
        },
        "id": "AneMpUR3yGOh",
        "outputId": "65d4de13-928a-48ea-8eaa-98b001e6412c"
      },
      "outputs": [
        {
          "output_type": "stream",
          "name": "stdout",
          "text": [
            "Training Performance\n",
            "\n"
          ]
        },
        {
          "output_type": "execute_result",
          "data": {
            "text/html": [
              "\n",
              "  <div id=\"df-5b52bfc9-0754-4858-846f-9b2f398adac7\">\n",
              "    <div class=\"colab-df-container\">\n",
              "      <div>\n",
              "<style scoped>\n",
              "    .dataframe tbody tr th:only-of-type {\n",
              "        vertical-align: middle;\n",
              "    }\n",
              "\n",
              "    .dataframe tbody tr th {\n",
              "        vertical-align: top;\n",
              "    }\n",
              "\n",
              "    .dataframe thead th {\n",
              "        text-align: right;\n",
              "    }\n",
              "</style>\n",
              "<table border=\"1\" class=\"dataframe\">\n",
              "  <thead>\n",
              "    <tr style=\"text-align: right;\">\n",
              "      <th></th>\n",
              "      <th>RMSE</th>\n",
              "      <th>MAE</th>\n",
              "      <th>R-squared</th>\n",
              "      <th>Adj. R-squared</th>\n",
              "    </tr>\n",
              "  </thead>\n",
              "  <tbody>\n",
              "    <tr>\n",
              "      <th>0</th>\n",
              "      <td>10.783638</td>\n",
              "      <td>5.823091</td>\n",
              "      <td>0.474826</td>\n",
              "      <td>0.432965</td>\n",
              "    </tr>\n",
              "  </tbody>\n",
              "</table>\n",
              "</div>\n",
              "      <button class=\"colab-df-convert\" onclick=\"convertToInteractive('df-5b52bfc9-0754-4858-846f-9b2f398adac7')\"\n",
              "              title=\"Convert this dataframe to an interactive table.\"\n",
              "              style=\"display:none;\">\n",
              "        \n",
              "  <svg xmlns=\"http://www.w3.org/2000/svg\" height=\"24px\"viewBox=\"0 0 24 24\"\n",
              "       width=\"24px\">\n",
              "    <path d=\"M0 0h24v24H0V0z\" fill=\"none\"/>\n",
              "    <path d=\"M18.56 5.44l.94 2.06.94-2.06 2.06-.94-2.06-.94-.94-2.06-.94 2.06-2.06.94zm-11 1L8.5 8.5l.94-2.06 2.06-.94-2.06-.94L8.5 2.5l-.94 2.06-2.06.94zm10 10l.94 2.06.94-2.06 2.06-.94-2.06-.94-.94-2.06-.94 2.06-2.06.94z\"/><path d=\"M17.41 7.96l-1.37-1.37c-.4-.4-.92-.59-1.43-.59-.52 0-1.04.2-1.43.59L10.3 9.45l-7.72 7.72c-.78.78-.78 2.05 0 2.83L4 21.41c.39.39.9.59 1.41.59.51 0 1.02-.2 1.41-.59l7.78-7.78 2.81-2.81c.8-.78.8-2.07 0-2.86zM5.41 20L4 18.59l7.72-7.72 1.47 1.35L5.41 20z\"/>\n",
              "  </svg>\n",
              "      </button>\n",
              "      \n",
              "  <style>\n",
              "    .colab-df-container {\n",
              "      display:flex;\n",
              "      flex-wrap:wrap;\n",
              "      gap: 12px;\n",
              "    }\n",
              "\n",
              "    .colab-df-convert {\n",
              "      background-color: #E8F0FE;\n",
              "      border: none;\n",
              "      border-radius: 50%;\n",
              "      cursor: pointer;\n",
              "      display: none;\n",
              "      fill: #1967D2;\n",
              "      height: 32px;\n",
              "      padding: 0 0 0 0;\n",
              "      width: 32px;\n",
              "    }\n",
              "\n",
              "    .colab-df-convert:hover {\n",
              "      background-color: #E2EBFA;\n",
              "      box-shadow: 0px 1px 2px rgba(60, 64, 67, 0.3), 0px 1px 3px 1px rgba(60, 64, 67, 0.15);\n",
              "      fill: #174EA6;\n",
              "    }\n",
              "\n",
              "    [theme=dark] .colab-df-convert {\n",
              "      background-color: #3B4455;\n",
              "      fill: #D2E3FC;\n",
              "    }\n",
              "\n",
              "    [theme=dark] .colab-df-convert:hover {\n",
              "      background-color: #434B5C;\n",
              "      box-shadow: 0px 1px 3px 1px rgba(0, 0, 0, 0.15);\n",
              "      filter: drop-shadow(0px 1px 2px rgba(0, 0, 0, 0.3));\n",
              "      fill: #FFFFFF;\n",
              "    }\n",
              "  </style>\n",
              "\n",
              "      <script>\n",
              "        const buttonEl =\n",
              "          document.querySelector('#df-5b52bfc9-0754-4858-846f-9b2f398adac7 button.colab-df-convert');\n",
              "        buttonEl.style.display =\n",
              "          google.colab.kernel.accessAllowed ? 'block' : 'none';\n",
              "\n",
              "        async function convertToInteractive(key) {\n",
              "          const element = document.querySelector('#df-5b52bfc9-0754-4858-846f-9b2f398adac7');\n",
              "          const dataTable =\n",
              "            await google.colab.kernel.invokeFunction('convertToInteractive',\n",
              "                                                     [key], {});\n",
              "          if (!dataTable) return;\n",
              "\n",
              "          const docLinkHtml = 'Like what you see? Visit the ' +\n",
              "            '<a target=\"_blank\" href=https://colab.research.google.com/notebooks/data_table.ipynb>data table notebook</a>'\n",
              "            + ' to learn more about interactive tables.';\n",
              "          element.innerHTML = '';\n",
              "          dataTable['output_type'] = 'display_data';\n",
              "          await google.colab.output.renderOutput(dataTable, element);\n",
              "          const docLink = document.createElement('div');\n",
              "          docLink.innerHTML = docLinkHtml;\n",
              "          element.appendChild(docLink);\n",
              "        }\n",
              "      </script>\n",
              "    </div>\n",
              "  </div>\n",
              "  "
            ],
            "text/plain": [
              "        RMSE       MAE  R-squared  Adj. R-squared\n",
              "0  10.783638  5.823091   0.474826        0.432965"
            ]
          },
          "metadata": {},
          "execution_count": 70
        }
      ],
      "source": [
        "# Checking model performance on train set\n",
        "print(\"Training Performance\\n\")\n",
        "model_train_perf = model_performance_regression(X_val,y_val, Y_result_4)\n",
        "model_train_perf"
      ],
      "id": "AneMpUR3yGOh"
    },
    {
      "cell_type": "markdown",
      "metadata": {
        "id": "DWkcMO_JBdmC"
      },
      "source": [
        "* BatchNormalization technique did not perform well on and even the Adjusted R-square has been decreased.\n",
        "* Let's try to build another model using Dropout with different neural network architecture and see if we can increase the Adjusted R-square. "
      ],
      "id": "DWkcMO_JBdmC"
    },
    {
      "cell_type": "markdown",
      "metadata": {
        "id": "VNXyOiMwMmfB"
      },
      "source": [
        "### Model-5"
      ],
      "id": "VNXyOiMwMmfB"
    },
    {
      "cell_type": "code",
      "execution_count": 71,
      "metadata": {
        "id": "JCqx69QGC8Z4"
      },
      "outputs": [],
      "source": [
        "backend.clear_session()\n",
        "#Fixing the seed for random number generators so that we can ensure we receive the same output everytime\n",
        "np.random.seed(42)\n",
        "import random\n",
        "random.seed(42)\n",
        "tf.random.set_seed(42)"
      ],
      "id": "JCqx69QGC8Z4"
    },
    {
      "cell_type": "code",
      "execution_count": 72,
      "metadata": {
        "id": "3MUGx8ueC8XT"
      },
      "outputs": [],
      "source": [
        "model_5 = Sequential()\n",
        "model_5.add(Dense(128, activation='relu',kernel_initializer='he_uniform', input_shape=(11,)))\n",
        "model_5.add(Dropout(0.2))\n",
        "model_5.add(Dense(64, activation='relu',kernel_initializer='he_uniform'))\n",
        "model_5.add(Dense(32, activation='relu',kernel_initializer='he_uniform'))\n",
        "model_5.add(Dropout(0.1))\n",
        "model_5.add(Dense(32, activation='relu',kernel_initializer='he_uniform'))\n",
        "model_5.add(Dense(1, activation='linear'))"
      ],
      "id": "3MUGx8ueC8XT"
    },
    {
      "cell_type": "code",
      "execution_count": 73,
      "metadata": {
        "colab": {
          "base_uri": "https://localhost:8080/"
        },
        "id": "dZJ2v4pDC8Um",
        "outputId": "006e5a44-4c46-4b26-a5b6-86f7343ce010"
      },
      "outputs": [
        {
          "output_type": "stream",
          "name": "stdout",
          "text": [
            "Model: \"sequential\"\n",
            "_________________________________________________________________\n",
            " Layer (type)                Output Shape              Param #   \n",
            "=================================================================\n",
            " dense (Dense)               (None, 128)               1536      \n",
            "                                                                 \n",
            " dropout (Dropout)           (None, 128)               0         \n",
            "                                                                 \n",
            " dense_1 (Dense)             (None, 64)                8256      \n",
            "                                                                 \n",
            " dense_2 (Dense)             (None, 32)                2080      \n",
            "                                                                 \n",
            " dropout_1 (Dropout)         (None, 32)                0         \n",
            "                                                                 \n",
            " dense_3 (Dense)             (None, 32)                1056      \n",
            "                                                                 \n",
            " dense_4 (Dense)             (None, 1)                 33        \n",
            "                                                                 \n",
            "=================================================================\n",
            "Total params: 12,961\n",
            "Trainable params: 12,961\n",
            "Non-trainable params: 0\n",
            "_________________________________________________________________\n"
          ]
        }
      ],
      "source": [
        "model_5.summary()"
      ],
      "id": "dZJ2v4pDC8Um"
    },
    {
      "cell_type": "code",
      "execution_count": 74,
      "metadata": {
        "colab": {
          "base_uri": "https://localhost:8080/"
        },
        "id": "TXtgfQuYC8SJ",
        "outputId": "a3eccb7f-023a-4300-b6c9-c2cb89d49566"
      },
      "outputs": [
        {
          "output_type": "stream",
          "name": "stdout",
          "text": [
            "Epoch 1/50\n",
            "11/11 [==============================] - 1s 31ms/step - loss: 1.6868 - mae: 1.0014 - val_loss: 0.7885 - val_mae: 0.6451\n",
            "Epoch 2/50\n",
            "11/11 [==============================] - 0s 10ms/step - loss: 0.8111 - mae: 0.6798 - val_loss: 0.6386 - val_mae: 0.5106\n",
            "Epoch 3/50\n",
            "11/11 [==============================] - 0s 11ms/step - loss: 0.6010 - mae: 0.5763 - val_loss: 0.5872 - val_mae: 0.4646\n",
            "Epoch 4/50\n",
            "11/11 [==============================] - 0s 8ms/step - loss: 0.5709 - mae: 0.5378 - val_loss: 0.5644 - val_mae: 0.4559\n",
            "Epoch 5/50\n",
            "11/11 [==============================] - 0s 8ms/step - loss: 0.4444 - mae: 0.4566 - val_loss: 0.5410 - val_mae: 0.4496\n",
            "Epoch 6/50\n",
            "11/11 [==============================] - 0s 8ms/step - loss: 0.4600 - mae: 0.4810 - val_loss: 0.5239 - val_mae: 0.4441\n",
            "Epoch 7/50\n",
            "11/11 [==============================] - 0s 9ms/step - loss: 0.4501 - mae: 0.4752 - val_loss: 0.5149 - val_mae: 0.4422\n",
            "Epoch 8/50\n",
            "11/11 [==============================] - 0s 9ms/step - loss: 0.4616 - mae: 0.4902 - val_loss: 0.5131 - val_mae: 0.4294\n",
            "Epoch 9/50\n",
            "11/11 [==============================] - 0s 9ms/step - loss: 0.4322 - mae: 0.4715 - val_loss: 0.5097 - val_mae: 0.4340\n",
            "Epoch 10/50\n",
            "11/11 [==============================] - 0s 9ms/step - loss: 0.3789 - mae: 0.4335 - val_loss: 0.4869 - val_mae: 0.4209\n",
            "Epoch 11/50\n",
            "11/11 [==============================] - 0s 9ms/step - loss: 0.3686 - mae: 0.4340 - val_loss: 0.4805 - val_mae: 0.4226\n",
            "Epoch 12/50\n",
            "11/11 [==============================] - 0s 9ms/step - loss: 0.3703 - mae: 0.4305 - val_loss: 0.4740 - val_mae: 0.4176\n",
            "Epoch 13/50\n",
            "11/11 [==============================] - 0s 9ms/step - loss: 0.3638 - mae: 0.4394 - val_loss: 0.4707 - val_mae: 0.4035\n",
            "Epoch 14/50\n",
            "11/11 [==============================] - 0s 10ms/step - loss: 0.3275 - mae: 0.4178 - val_loss: 0.4590 - val_mae: 0.3976\n",
            "Epoch 15/50\n",
            "11/11 [==============================] - 0s 9ms/step - loss: 0.3521 - mae: 0.4207 - val_loss: 0.4570 - val_mae: 0.3897\n",
            "Epoch 16/50\n",
            "11/11 [==============================] - 0s 8ms/step - loss: 0.3346 - mae: 0.4104 - val_loss: 0.4533 - val_mae: 0.3858\n",
            "Epoch 17/50\n",
            "11/11 [==============================] - 0s 8ms/step - loss: 0.3057 - mae: 0.3975 - val_loss: 0.4352 - val_mae: 0.3928\n",
            "Epoch 18/50\n",
            "11/11 [==============================] - 0s 8ms/step - loss: 0.3324 - mae: 0.4121 - val_loss: 0.4193 - val_mae: 0.3782\n",
            "Epoch 19/50\n",
            "11/11 [==============================] - 0s 9ms/step - loss: 0.2716 - mae: 0.3743 - val_loss: 0.4295 - val_mae: 0.3945\n",
            "Epoch 20/50\n",
            "11/11 [==============================] - 0s 9ms/step - loss: 0.3260 - mae: 0.4021 - val_loss: 0.4209 - val_mae: 0.3949\n",
            "Epoch 21/50\n",
            "11/11 [==============================] - 0s 10ms/step - loss: 0.3040 - mae: 0.3958 - val_loss: 0.4018 - val_mae: 0.3890\n",
            "Epoch 22/50\n",
            "11/11 [==============================] - 0s 9ms/step - loss: 0.2682 - mae: 0.3634 - val_loss: 0.3914 - val_mae: 0.3834\n",
            "Epoch 23/50\n",
            "11/11 [==============================] - 0s 10ms/step - loss: 0.2648 - mae: 0.3659 - val_loss: 0.4086 - val_mae: 0.3807\n",
            "Epoch 24/50\n",
            "11/11 [==============================] - 0s 8ms/step - loss: 0.2983 - mae: 0.3812 - val_loss: 0.4067 - val_mae: 0.3745\n",
            "Epoch 25/50\n",
            "11/11 [==============================] - 0s 9ms/step - loss: 0.3143 - mae: 0.3862 - val_loss: 0.4053 - val_mae: 0.3798\n",
            "Epoch 26/50\n",
            "11/11 [==============================] - 0s 9ms/step - loss: 0.2514 - mae: 0.3752 - val_loss: 0.3920 - val_mae: 0.3828\n",
            "Epoch 27/50\n",
            "11/11 [==============================] - 0s 8ms/step - loss: 0.2390 - mae: 0.3433 - val_loss: 0.3833 - val_mae: 0.3752\n",
            "Epoch 28/50\n",
            "11/11 [==============================] - 0s 8ms/step - loss: 0.2883 - mae: 0.3795 - val_loss: 0.3862 - val_mae: 0.3739\n",
            "Epoch 29/50\n",
            "11/11 [==============================] - 0s 8ms/step - loss: 0.2302 - mae: 0.3485 - val_loss: 0.3786 - val_mae: 0.3686\n",
            "Epoch 30/50\n",
            "11/11 [==============================] - 0s 10ms/step - loss: 0.2574 - mae: 0.3630 - val_loss: 0.3741 - val_mae: 0.3714\n",
            "Epoch 31/50\n",
            "11/11 [==============================] - 0s 11ms/step - loss: 0.2619 - mae: 0.3736 - val_loss: 0.3820 - val_mae: 0.3678\n",
            "Epoch 32/50\n",
            "11/11 [==============================] - 0s 8ms/step - loss: 0.2475 - mae: 0.3524 - val_loss: 0.3764 - val_mae: 0.3555\n",
            "Epoch 33/50\n",
            "11/11 [==============================] - 0s 8ms/step - loss: 0.3204 - mae: 0.3893 - val_loss: 0.3767 - val_mae: 0.3712\n",
            "Epoch 34/50\n",
            "11/11 [==============================] - 0s 8ms/step - loss: 0.2399 - mae: 0.3477 - val_loss: 0.3754 - val_mae: 0.3569\n",
            "Epoch 35/50\n",
            "11/11 [==============================] - 0s 9ms/step - loss: 0.2259 - mae: 0.3296 - val_loss: 0.3846 - val_mae: 0.3709\n"
          ]
        }
      ],
      "source": [
        "optimizer = Adam(0.001)\n",
        "model_5.compile(loss='mse',\n",
        "              optimizer=optimizer,\n",
        "              metrics=['mae'])\n",
        "es_cb = callbacks.EarlyStopping(monitor='val_loss', min_delta=0.001, patience=5)\n",
        "history_5 = model_5.fit(X_train, y_train, validation_data=(X_val, y_val_scale), epochs=50,callbacks=es_cb)"
      ],
      "id": "TXtgfQuYC8SJ"
    },
    {
      "cell_type": "code",
      "execution_count": 75,
      "metadata": {
        "colab": {
          "base_uri": "https://localhost:8080/",
          "height": 284
        },
        "id": "juaUrpZuC8Pt",
        "outputId": "fbf76ac5-05ba-4618-93d4-e1ec965e8ca4"
      },
      "outputs": [
        {
          "output_type": "display_data",
          "data": {
            "image/png": "[encoded data removed]",
            "text/plain": [
              "<Figure size 432x288 with 1 Axes>"
            ]
          },
          "metadata": {}
        }
      ],
      "source": [
        "pyplot.title('Loss / Mean Squared Error')\n",
        "pyplot.plot(history_5.history['loss'], label='train')\n",
        "pyplot.plot(history_5.history['val_loss'], label='validate')\n",
        "pyplot.legend()\n",
        "pyplot.show()"
      ],
      "id": "juaUrpZuC8Pt"
    },
    {
      "cell_type": "markdown",
      "metadata": {
        "id": "xtiqi8aOEg-r"
      },
      "source": [
        "* We can observe that after increasing the layers, both the curves seems to be smooth. "
      ],
      "id": "xtiqi8aOEg-r"
    },
    {
      "cell_type": "code",
      "execution_count": 76,
      "metadata": {
        "colab": {
          "base_uri": "https://localhost:8080/"
        },
        "id": "m8l6wNO1C8M7",
        "outputId": "902f89f7-6bc0-4cb3-9563-e725c593c5c4"
      },
      "outputs": [
        {
          "output_type": "stream",
          "name": "stdout",
          "text": [
            "[[16.519463 ]\n",
            " [14.28487  ]\n",
            " [28.876265 ]\n",
            " [25.315523 ]\n",
            " [14.662346 ]\n",
            " [16.645142 ]\n",
            " [26.638378 ]\n",
            " [25.220081 ]\n",
            " [ 6.7196856]\n",
            " [31.845226 ]\n",
            " [10.656248 ]\n",
            " [10.854328 ]\n",
            " [18.681068 ]\n",
            " [25.283594 ]\n",
            " [27.710161 ]\n",
            " [19.1631   ]\n",
            " [31.460497 ]\n",
            " [12.992111 ]\n",
            " [28.399803 ]\n",
            " [70.40184  ]\n",
            " [33.42602  ]\n",
            " [49.92522  ]\n",
            " [12.309673 ]\n",
            " [34.09476  ]\n",
            " [24.116203 ]\n",
            " [56.70266  ]\n",
            " [20.352755 ]\n",
            " [23.493046 ]\n",
            " [12.758205 ]\n",
            " [40.87709  ]\n",
            " [43.27009  ]\n",
            " [27.747444 ]\n",
            " [39.16282  ]\n",
            " [26.31924  ]\n",
            " [23.483358 ]\n",
            " [24.066612 ]\n",
            " [18.16206  ]\n",
            " [12.25759  ]\n",
            " [24.670742 ]\n",
            " [27.249126 ]\n",
            " [28.15028  ]\n",
            " [13.79555  ]\n",
            " [31.533892 ]\n",
            " [24.794155 ]\n",
            " [25.237453 ]\n",
            " [25.18981  ]\n",
            " [25.142653 ]\n",
            " [17.701399 ]\n",
            " [19.129915 ]\n",
            " [25.495543 ]\n",
            " [23.483358 ]\n",
            " [24.376514 ]\n",
            " [12.558974 ]\n",
            " [27.766155 ]\n",
            " [25.24982  ]\n",
            " [14.167325 ]\n",
            " [15.833371 ]\n",
            " [23.561993 ]\n",
            " [27.527582 ]\n",
            " [27.331556 ]\n",
            " [30.888584 ]\n",
            " [14.106935 ]\n",
            " [13.190587 ]\n",
            " [34.747955 ]\n",
            " [23.616653 ]\n",
            " [21.533474 ]\n",
            " [16.351435 ]\n",
            " [25.957848 ]\n",
            " [23.04536  ]\n",
            " [20.831703 ]\n",
            " [30.183321 ]\n",
            " [30.351587 ]\n",
            " [25.367828 ]\n",
            " [16.16701  ]\n",
            " [19.524103 ]\n",
            " [14.356597 ]\n",
            " [25.12213  ]\n",
            " [24.872871 ]\n",
            " [18.094059 ]\n",
            " [23.430231 ]\n",
            " [25.184792 ]\n",
            " [13.991945 ]\n",
            " [37.13164  ]\n",
            " [12.469298 ]\n",
            " [27.896751 ]\n",
            " [12.388228 ]\n",
            " [17.033752 ]\n",
            " [28.8717   ]\n",
            " [27.545923 ]\n",
            " [13.921473 ]\n",
            " [20.831703 ]\n",
            " [33.365173 ]\n",
            " [27.166306 ]\n",
            " [15.852106 ]\n",
            " [18.385136 ]\n",
            " [19.48518  ]\n",
            " [25.595291 ]\n",
            " [23.493046 ]\n",
            " [34.9379   ]\n",
            " [10.656248 ]\n",
            " [14.4850235]\n",
            " [32.450344 ]\n",
            " [23.716373 ]\n",
            " [26.521181 ]\n",
            " [27.118458 ]\n",
            " [24.656162 ]\n",
            " [30.437698 ]\n",
            " [10.656248 ]\n",
            " [10.695351 ]\n",
            " [25.237656 ]\n",
            " [42.413692 ]\n",
            " [35.722015 ]\n",
            " [30.031336 ]\n",
            " [23.725023 ]\n",
            " [58.07176  ]\n",
            " [16.049437 ]\n",
            " [12.68655  ]\n",
            " [12.244984 ]\n",
            " [25.68391  ]\n",
            " [11.167993 ]\n",
            " [14.662346 ]\n",
            " [24.603659 ]\n",
            " [30.458073 ]\n",
            " [13.804904 ]\n",
            " [ 9.135888 ]\n",
            " [12.529704 ]\n",
            " [18.004171 ]\n",
            " [11.045463 ]\n",
            " [13.325745 ]\n",
            " [30.024786 ]\n",
            " [25.237453 ]\n",
            " [25.220081 ]\n",
            " [17.820642 ]\n",
            " [21.338432 ]\n",
            " [24.034733 ]\n",
            " [22.947906 ]\n",
            " [14.537085 ]\n",
            " [25.856035 ]\n",
            " [14.923098 ]\n",
            " [14.511062 ]\n",
            " [23.545414 ]\n",
            " [ 3.908158 ]\n",
            " [32.51467  ]\n",
            " [23.739122 ]\n",
            " [ 6.3225527]\n",
            " [10.95711  ]\n",
            " [14.276697 ]\n",
            " [55.098404 ]\n",
            " [14.110153 ]\n",
            " [32.04493  ]]\n"
          ]
        }
      ],
      "source": [
        "Y_result_scaled_5= model_5.predict(X_val)\n",
        "Y_result_5 = scaler_Y.inverse_transform(Y_result_scaled_5)\n",
        "print(Y_result_5)"
      ],
      "id": "m8l6wNO1C8M7"
    },
    {
      "cell_type": "code",
      "execution_count": 77,
      "metadata": {
        "colab": {
          "base_uri": "https://localhost:8080/"
        },
        "id": "L3xHCdDEC8KW",
        "outputId": "8052dd2e-bf9a-4dab-8080-43a8fc7d30a9"
      },
      "outputs": [
        {
          "output_type": "stream",
          "name": "stdout",
          "text": [
            "r2 = 0.6134137075372749\n"
          ]
        }
      ],
      "source": [
        "r_squared_5 = r2_score(y_val, Y_result_5)\n",
        "print('r2 = {}'.format(r_squared_5))"
      ],
      "id": "L3xHCdDEC8KW"
    },
    {
      "cell_type": "code",
      "execution_count": 78,
      "metadata": {
        "colab": {
          "base_uri": "https://localhost:8080/",
          "height": 115
        },
        "id": "_vYh9VEiC8HY",
        "outputId": "7ed6af2f-1aa5-48b0-c7c4-2e77550a9650"
      },
      "outputs": [
        {
          "output_type": "stream",
          "name": "stdout",
          "text": [
            "Training Performance\n",
            "\n"
          ]
        },
        {
          "output_type": "execute_result",
          "data": {
            "text/html": [
              "\n",
              "  <div id=\"df-4f87d27c-0b92-4c17-b4ee-3e8a1b6b78c9\">\n",
              "    <div class=\"colab-df-container\">\n",
              "      <div>\n",
              "<style scoped>\n",
              "    .dataframe tbody tr th:only-of-type {\n",
              "        vertical-align: middle;\n",
              "    }\n",
              "\n",
              "    .dataframe tbody tr th {\n",
              "        vertical-align: top;\n",
              "    }\n",
              "\n",
              "    .dataframe thead th {\n",
              "        text-align: right;\n",
              "    }\n",
              "</style>\n",
              "<table border=\"1\" class=\"dataframe\">\n",
              "  <thead>\n",
              "    <tr style=\"text-align: right;\">\n",
              "      <th></th>\n",
              "      <th>RMSE</th>\n",
              "      <th>MAE</th>\n",
              "      <th>R-squared</th>\n",
              "      <th>Adj. R-squared</th>\n",
              "    </tr>\n",
              "  </thead>\n",
              "  <tbody>\n",
              "    <tr>\n",
              "      <th>0</th>\n",
              "      <td>9.252031</td>\n",
              "      <td>5.609511</td>\n",
              "      <td>0.613414</td>\n",
              "      <td>0.582599</td>\n",
              "    </tr>\n",
              "  </tbody>\n",
              "</table>\n",
              "</div>\n",
              "      <button class=\"colab-df-convert\" onclick=\"convertToInteractive('df-4f87d27c-0b92-4c17-b4ee-3e8a1b6b78c9')\"\n",
              "              title=\"Convert this dataframe to an interactive table.\"\n",
              "              style=\"display:none;\">\n",
              "        \n",
              "  <svg xmlns=\"http://www.w3.org/2000/svg\" height=\"24px\"viewBox=\"0 0 24 24\"\n",
              "       width=\"24px\">\n",
              "    <path d=\"M0 0h24v24H0V0z\" fill=\"none\"/>\n",
              "    <path d=\"M18.56 5.44l.94 2.06.94-2.06 2.06-.94-2.06-.94-.94-2.06-.94 2.06-2.06.94zm-11 1L8.5 8.5l.94-2.06 2.06-.94-2.06-.94L8.5 2.5l-.94 2.06-2.06.94zm10 10l.94 2.06.94-2.06 2.06-.94-2.06-.94-.94-2.06-.94 2.06-2.06.94z\"/><path d=\"M17.41 7.96l-1.37-1.37c-.4-.4-.92-.59-1.43-.59-.52 0-1.04.2-1.43.59L10.3 9.45l-7.72 7.72c-.78.78-.78 2.05 0 2.83L4 21.41c.39.39.9.59 1.41.59.51 0 1.02-.2 1.41-.59l7.78-7.78 2.81-2.81c.8-.78.8-2.07 0-2.86zM5.41 20L4 18.59l7.72-7.72 1.47 1.35L5.41 20z\"/>\n",
              "  </svg>\n",
              "      </button>\n",
              "      \n",
              "  <style>\n",
              "    .colab-df-container {\n",
              "      display:flex;\n",
              "      flex-wrap:wrap;\n",
              "      gap: 12px;\n",
              "    }\n",
              "\n",
              "    .colab-df-convert {\n",
              "      background-color: #E8F0FE;\n",
              "      border: none;\n",
              "      border-radius: 50%;\n",
              "      cursor: pointer;\n",
              "      display: none;\n",
              "      fill: #1967D2;\n",
              "      height: 32px;\n",
              "      padding: 0 0 0 0;\n",
              "      width: 32px;\n",
              "    }\n",
              "\n",
              "    .colab-df-convert:hover {\n",
              "      background-color: #E2EBFA;\n",
              "      box-shadow: 0px 1px 2px rgba(60, 64, 67, 0.3), 0px 1px 3px 1px rgba(60, 64, 67, 0.15);\n",
              "      fill: #174EA6;\n",
              "    }\n",
              "\n",
              "    [theme=dark] .colab-df-convert {\n",
              "      background-color: #3B4455;\n",
              "      fill: #D2E3FC;\n",
              "    }\n",
              "\n",
              "    [theme=dark] .colab-df-convert:hover {\n",
              "      background-color: #434B5C;\n",
              "      box-shadow: 0px 1px 3px 1px rgba(0, 0, 0, 0.15);\n",
              "      filter: drop-shadow(0px 1px 2px rgba(0, 0, 0, 0.3));\n",
              "      fill: #FFFFFF;\n",
              "    }\n",
              "  </style>\n",
              "\n",
              "      <script>\n",
              "        const buttonEl =\n",
              "          document.querySelector('#df-4f87d27c-0b92-4c17-b4ee-3e8a1b6b78c9 button.colab-df-convert');\n",
              "        buttonEl.style.display =\n",
              "          google.colab.kernel.accessAllowed ? 'block' : 'none';\n",
              "\n",
              "        async function convertToInteractive(key) {\n",
              "          const element = document.querySelector('#df-4f87d27c-0b92-4c17-b4ee-3e8a1b6b78c9');\n",
              "          const dataTable =\n",
              "            await google.colab.kernel.invokeFunction('convertToInteractive',\n",
              "                                                     [key], {});\n",
              "          if (!dataTable) return;\n",
              "\n",
              "          const docLinkHtml = 'Like what you see? Visit the ' +\n",
              "            '<a target=\"_blank\" href=https://colab.research.google.com/notebooks/data_table.ipynb>data table notebook</a>'\n",
              "            + ' to learn more about interactive tables.';\n",
              "          element.innerHTML = '';\n",
              "          dataTable['output_type'] = 'display_data';\n",
              "          await google.colab.output.renderOutput(dataTable, element);\n",
              "          const docLink = document.createElement('div');\n",
              "          docLink.innerHTML = docLinkHtml;\n",
              "          element.appendChild(docLink);\n",
              "        }\n",
              "      </script>\n",
              "    </div>\n",
              "  </div>\n",
              "  "
            ],
            "text/plain": [
              "       RMSE       MAE  R-squared  Adj. R-squared\n",
              "0  9.252031  5.609511   0.613414        0.582599"
            ]
          },
          "metadata": {},
          "execution_count": 78
        }
      ],
      "source": [
        "# Checking model performance on train set\n",
        "print(\"Training Performance\\n\")\n",
        "model_train_perf = model_performance_regression(X_val,y_val, Y_result_5)\n",
        "model_train_perf"
      ],
      "id": "_vYh9VEiC8HY"
    },
    {
      "cell_type": "markdown",
      "metadata": {
        "id": "QwyA4-RvFG0S"
      },
      "source": [
        "* The Adjusted R-square of the model increased compared to the previous model, and the other metrics are also the best compared to all the previous models built. "
      ],
      "id": "QwyA4-RvFG0S"
    },
    {
      "cell_type": "markdown",
      "metadata": {
        "id": "d247127b"
      },
      "source": [
        "### Comments \n",
        "\n",
        "- We have trained 5 different models with some changes in architecture and Optimizer.\n",
        "- Just by changing increasing one layer in the last model, we were able to reduce the loss.\n",
        "- Play around with your neural network model by changing the number of dense layers, learning rate, number of neurons in hidden layers. Try out different loss and activation functions and see if you can get a better Adjusted R Square. "
      ],
      "id": "d247127b"
    },
    {
      "cell_type": "markdown",
      "metadata": {
        "id": "ed99ca39"
      },
      "source": [
        "### Happy Learning ! "
      ],
      "id": "ed99ca39"
    },
    {
      "cell_type": "code",
      "source": [
        "#Since data is in form of csv file we have to use pandas pd.read_csv to load the data.\n",
        "data_new = pd.read_csv('new_preprocessed_data.csv')"
      ],
      "metadata": {
        "id": "cejbijPsxUZg"
      },
      "id": "cejbijPsxUZg",
      "execution_count": 94,
      "outputs": []
    },
    {
      "cell_type": "code",
      "source": [
        "data_new.head()"
      ],
      "metadata": {
        "id": "sVZzv8s-GOzO",
        "outputId": "52141751-0ce2-4315-aab9-c5e6bcc435be",
        "colab": {
          "base_uri": "https://localhost:8080/",
          "height": 305
        }
      },
      "id": "sVZzv8s-GOzO",
      "execution_count": 95,
      "outputs": [
        {
          "output_type": "execute_result",
          "data": {
            "text/html": [
              "\n",
              "  <div id=\"df-51676d90-b4ef-4205-952a-5f86b9a594a5\">\n",
              "    <div class=\"colab-df-container\">\n",
              "      <div>\n",
              "<style scoped>\n",
              "    .dataframe tbody tr th:only-of-type {\n",
              "        vertical-align: middle;\n",
              "    }\n",
              "\n",
              "    .dataframe tbody tr th {\n",
              "        vertical-align: top;\n",
              "    }\n",
              "\n",
              "    .dataframe thead th {\n",
              "        text-align: right;\n",
              "    }\n",
              "</style>\n",
              "<table border=\"1\" class=\"dataframe\">\n",
              "  <thead>\n",
              "    <tr style=\"text-align: right;\">\n",
              "      <th></th>\n",
              "      <th>loan_status</th>\n",
              "      <th>Principal</th>\n",
              "      <th>age</th>\n",
              "      <th>education_Bechalor</th>\n",
              "      <th>education_High School or Below</th>\n",
              "      <th>education_Master or Above</th>\n",
              "      <th>education_college</th>\n",
              "      <th>Gender_female</th>\n",
              "      <th>Gender_male</th>\n",
              "      <th>terms_7</th>\n",
              "      <th>terms_15</th>\n",
              "      <th>terms_30</th>\n",
              "    </tr>\n",
              "  </thead>\n",
              "  <tbody>\n",
              "    <tr>\n",
              "      <th>0</th>\n",
              "      <td>0</td>\n",
              "      <td>1000</td>\n",
              "      <td>45</td>\n",
              "      <td>0</td>\n",
              "      <td>1</td>\n",
              "      <td>0</td>\n",
              "      <td>0</td>\n",
              "      <td>0</td>\n",
              "      <td>1</td>\n",
              "      <td>0</td>\n",
              "      <td>0</td>\n",
              "      <td>1</td>\n",
              "    </tr>\n",
              "    <tr>\n",
              "      <th>1</th>\n",
              "      <td>0</td>\n",
              "      <td>1000</td>\n",
              "      <td>50</td>\n",
              "      <td>1</td>\n",
              "      <td>0</td>\n",
              "      <td>0</td>\n",
              "      <td>0</td>\n",
              "      <td>1</td>\n",
              "      <td>0</td>\n",
              "      <td>0</td>\n",
              "      <td>0</td>\n",
              "      <td>1</td>\n",
              "    </tr>\n",
              "    <tr>\n",
              "      <th>2</th>\n",
              "      <td>0</td>\n",
              "      <td>1000</td>\n",
              "      <td>33</td>\n",
              "      <td>1</td>\n",
              "      <td>0</td>\n",
              "      <td>0</td>\n",
              "      <td>0</td>\n",
              "      <td>1</td>\n",
              "      <td>0</td>\n",
              "      <td>0</td>\n",
              "      <td>0</td>\n",
              "      <td>1</td>\n",
              "    </tr>\n",
              "    <tr>\n",
              "      <th>3</th>\n",
              "      <td>0</td>\n",
              "      <td>1000</td>\n",
              "      <td>27</td>\n",
              "      <td>0</td>\n",
              "      <td>0</td>\n",
              "      <td>0</td>\n",
              "      <td>1</td>\n",
              "      <td>0</td>\n",
              "      <td>1</td>\n",
              "      <td>0</td>\n",
              "      <td>1</td>\n",
              "      <td>0</td>\n",
              "    </tr>\n",
              "    <tr>\n",
              "      <th>4</th>\n",
              "      <td>0</td>\n",
              "      <td>1000</td>\n",
              "      <td>28</td>\n",
              "      <td>0</td>\n",
              "      <td>0</td>\n",
              "      <td>0</td>\n",
              "      <td>1</td>\n",
              "      <td>1</td>\n",
              "      <td>0</td>\n",
              "      <td>0</td>\n",
              "      <td>0</td>\n",
              "      <td>1</td>\n",
              "    </tr>\n",
              "  </tbody>\n",
              "</table>\n",
              "</div>\n",
              "      <button class=\"colab-df-convert\" onclick=\"convertToInteractive('df-51676d90-b4ef-4205-952a-5f86b9a594a5')\"\n",
              "              title=\"Convert this dataframe to an interactive table.\"\n",
              "              style=\"display:none;\">\n",
              "        \n",
              "  <svg xmlns=\"http://www.w3.org/2000/svg\" height=\"24px\"viewBox=\"0 0 24 24\"\n",
              "       width=\"24px\">\n",
              "    <path d=\"M0 0h24v24H0V0z\" fill=\"none\"/>\n",
              "    <path d=\"M18.56 5.44l.94 2.06.94-2.06 2.06-.94-2.06-.94-.94-2.06-.94 2.06-2.06.94zm-11 1L8.5 8.5l.94-2.06 2.06-.94-2.06-.94L8.5 2.5l-.94 2.06-2.06.94zm10 10l.94 2.06.94-2.06 2.06-.94-2.06-.94-.94-2.06-.94 2.06-2.06.94z\"/><path d=\"M17.41 7.96l-1.37-1.37c-.4-.4-.92-.59-1.43-.59-.52 0-1.04.2-1.43.59L10.3 9.45l-7.72 7.72c-.78.78-.78 2.05 0 2.83L4 21.41c.39.39.9.59 1.41.59.51 0 1.02-.2 1.41-.59l7.78-7.78 2.81-2.81c.8-.78.8-2.07 0-2.86zM5.41 20L4 18.59l7.72-7.72 1.47 1.35L5.41 20z\"/>\n",
              "  </svg>\n",
              "      </button>\n",
              "      \n",
              "  <style>\n",
              "    .colab-df-container {\n",
              "      display:flex;\n",
              "      flex-wrap:wrap;\n",
              "      gap: 12px;\n",
              "    }\n",
              "\n",
              "    .colab-df-convert {\n",
              "      background-color: #E8F0FE;\n",
              "      border: none;\n",
              "      border-radius: 50%;\n",
              "      cursor: pointer;\n",
              "      display: none;\n",
              "      fill: #1967D2;\n",
              "      height: 32px;\n",
              "      padding: 0 0 0 0;\n",
              "      width: 32px;\n",
              "    }\n",
              "\n",
              "    .colab-df-convert:hover {\n",
              "      background-color: #E2EBFA;\n",
              "      box-shadow: 0px 1px 2px rgba(60, 64, 67, 0.3), 0px 1px 3px 1px rgba(60, 64, 67, 0.15);\n",
              "      fill: #174EA6;\n",
              "    }\n",
              "\n",
              "    [theme=dark] .colab-df-convert {\n",
              "      background-color: #3B4455;\n",
              "      fill: #D2E3FC;\n",
              "    }\n",
              "\n",
              "    [theme=dark] .colab-df-convert:hover {\n",
              "      background-color: #434B5C;\n",
              "      box-shadow: 0px 1px 3px 1px rgba(0, 0, 0, 0.15);\n",
              "      filter: drop-shadow(0px 1px 2px rgba(0, 0, 0, 0.3));\n",
              "      fill: #FFFFFF;\n",
              "    }\n",
              "  </style>\n",
              "\n",
              "      <script>\n",
              "        const buttonEl =\n",
              "          document.querySelector('#df-51676d90-b4ef-4205-952a-5f86b9a594a5 button.colab-df-convert');\n",
              "        buttonEl.style.display =\n",
              "          google.colab.kernel.accessAllowed ? 'block' : 'none';\n",
              "\n",
              "        async function convertToInteractive(key) {\n",
              "          const element = document.querySelector('#df-51676d90-b4ef-4205-952a-5f86b9a594a5');\n",
              "          const dataTable =\n",
              "            await google.colab.kernel.invokeFunction('convertToInteractive',\n",
              "                                                     [key], {});\n",
              "          if (!dataTable) return;\n",
              "\n",
              "          const docLinkHtml = 'Like what you see? Visit the ' +\n",
              "            '<a target=\"_blank\" href=https://colab.research.google.com/notebooks/data_table.ipynb>data table notebook</a>'\n",
              "            + ' to learn more about interactive tables.';\n",
              "          element.innerHTML = '';\n",
              "          dataTable['output_type'] = 'display_data';\n",
              "          await google.colab.output.renderOutput(dataTable, element);\n",
              "          const docLink = document.createElement('div');\n",
              "          docLink.innerHTML = docLinkHtml;\n",
              "          element.appendChild(docLink);\n",
              "        }\n",
              "      </script>\n",
              "    </div>\n",
              "  </div>\n",
              "  "
            ],
            "text/plain": [
              "   loan_status  Principal  age  ...  terms_7  terms_15  terms_30\n",
              "0            0       1000   45  ...        0         0         1\n",
              "1            0       1000   50  ...        0         0         1\n",
              "2            0       1000   33  ...        0         0         1\n",
              "3            0       1000   27  ...        0         1         0\n",
              "4            0       1000   28  ...        0         0         1\n",
              "\n",
              "[5 rows x 12 columns]"
            ]
          },
          "metadata": {},
          "execution_count": 95
        }
      ]
    },
    {
      "cell_type": "code",
      "source": [
        "##Splitting Independent and dependent variable in X and Y respectively\n",
        "X = data_new.drop(['loan_status'],axis=1)\n",
        "Y = data_new[['loan_status']]\n",
        "\n",
        "print(X.shape)\n",
        "print(Y.shape)\n",
        "print(type(X))"
      ],
      "metadata": {
        "id": "ScC1EWvxG4pQ",
        "outputId": "136c371f-fd08-4972-e06a-4ef2d47823b4",
        "colab": {
          "base_uri": "https://localhost:8080/"
        }
      },
      "id": "ScC1EWvxG4pQ",
      "execution_count": 96,
      "outputs": [
        {
          "output_type": "stream",
          "name": "stdout",
          "text": [
            "(500, 11)\n",
            "(500, 1)\n",
            "<class 'pandas.core.frame.DataFrame'>\n"
          ]
        }
      ]
    },
    {
      "cell_type": "code",
      "execution_count": 97,
      "metadata": {
        "id": "kwbHukKNGsMD"
      },
      "outputs": [],
      "source": [
        "# Splitting the dataset into the Training and Testing set.\n",
        "X_train, X_test, y_train, y_test = train_test_split(X,Y, test_size = 0.2, random_state = 30)"
      ],
      "id": "kwbHukKNGsMD"
    },
    {
      "cell_type": "code",
      "source": [
        "from sklearn.preprocessing import StandardScaler\n",
        "scaler = StandardScaler().fit(X_train)\n",
        "X_train = scaler.fit_transform(X_train)\n",
        "X_test = scaler.transform(X_test)"
      ],
      "metadata": {
        "id": "anym_nrnHJt0"
      },
      "id": "anym_nrnHJt0",
      "execution_count": 98,
      "outputs": []
    },
    {
      "cell_type": "code",
      "source": [
        "data_new['loan_status'].unique()"
      ],
      "metadata": {
        "id": "GOo3NoheHb4b",
        "outputId": "84189e4d-424e-4551-cbe6-a796bee7166f",
        "colab": {
          "base_uri": "https://localhost:8080/"
        }
      },
      "id": "GOo3NoheHb4b",
      "execution_count": 99,
      "outputs": [
        {
          "output_type": "execute_result",
          "data": {
            "text/plain": [
              "array([0, 2, 1])"
            ]
          },
          "metadata": {},
          "execution_count": 99
        }
      ]
    },
    {
      "cell_type": "code",
      "source": [
        "y_train = tf.keras.utils.to_categorical(y_train, 3)\n",
        "y_test = tf.keras.utils.to_categorical(y_test, 3)"
      ],
      "metadata": {
        "id": "JcgEr7I6HuJv"
      },
      "id": "JcgEr7I6HuJv",
      "execution_count": 100,
      "outputs": []
    },
    {
      "cell_type": "code",
      "source": [
        "import tensorflow as tf\n",
        "from tensorflow import keras\n",
        "model = keras.Sequential([\n",
        "    keras.layers.Dense(11, input_shape=(11,), activation='relu'),\n",
        "    keras.layers.Dense(6, activation='relu'),\n",
        "    keras.layers.Dense(3,activation='softmax')\n",
        "])\n",
        "model.compile(optimizer='adam',\n",
        "              loss='categorical_crossentropy',\n",
        "              metrics=['accuracy'])\n",
        "history = model.fit(X_train, y_train, epochs=20)"
      ],
      "metadata": {
        "id": "DqPc8Ab7H87U",
        "outputId": "663576a9-d43d-42b8-ba82-2d0322da7183",
        "colab": {
          "base_uri": "https://localhost:8080/"
        }
      },
      "id": "DqPc8Ab7H87U",
      "execution_count": 102,
      "outputs": [
        {
          "output_type": "stream",
          "name": "stdout",
          "text": [
            "Epoch 1/20\n",
            "13/13 [==============================] - 1s 7ms/step - loss: 1.0634 - accuracy: 0.3775\n",
            "Epoch 2/20\n",
            "13/13 [==============================] - 0s 7ms/step - loss: 1.0423 - accuracy: 0.4600\n",
            "Epoch 3/20\n",
            "13/13 [==============================] - 0s 7ms/step - loss: 1.0273 - accuracy: 0.4950\n",
            "Epoch 4/20\n",
            "13/13 [==============================] - 0s 6ms/step - loss: 1.0170 - accuracy: 0.5150\n",
            "Epoch 5/20\n",
            "13/13 [==============================] - 0s 7ms/step - loss: 1.0078 - accuracy: 0.5300\n",
            "Epoch 6/20\n",
            "13/13 [==============================] - 0s 8ms/step - loss: 1.0005 - accuracy: 0.5325\n",
            "Epoch 7/20\n",
            "13/13 [==============================] - 0s 7ms/step - loss: 0.9946 - accuracy: 0.5450\n",
            "Epoch 8/20\n",
            "13/13 [==============================] - 0s 8ms/step - loss: 0.9894 - accuracy: 0.5400\n",
            "Epoch 9/20\n",
            "13/13 [==============================] - 0s 8ms/step - loss: 0.9848 - accuracy: 0.5675\n",
            "Epoch 10/20\n",
            "13/13 [==============================] - 0s 7ms/step - loss: 0.9815 - accuracy: 0.5850\n",
            "Epoch 11/20\n",
            "13/13 [==============================] - 0s 7ms/step - loss: 0.9774 - accuracy: 0.5900\n",
            "Epoch 12/20\n",
            "13/13 [==============================] - 0s 5ms/step - loss: 0.9741 - accuracy: 0.5900\n",
            "Epoch 13/20\n",
            "13/13 [==============================] - 0s 4ms/step - loss: 0.9709 - accuracy: 0.5900\n",
            "Epoch 14/20\n",
            "13/13 [==============================] - 0s 4ms/step - loss: 0.9684 - accuracy: 0.5900\n",
            "Epoch 15/20\n",
            "13/13 [==============================] - 0s 5ms/step - loss: 0.9656 - accuracy: 0.5900\n",
            "Epoch 16/20\n",
            "13/13 [==============================] - 0s 5ms/step - loss: 0.9634 - accuracy: 0.5900\n",
            "Epoch 17/20\n",
            "13/13 [==============================] - 0s 4ms/step - loss: 0.9619 - accuracy: 0.5925\n",
            "Epoch 18/20\n",
            "13/13 [==============================] - 0s 4ms/step - loss: 0.9596 - accuracy: 0.5925\n",
            "Epoch 19/20\n",
            "13/13 [==============================] - 0s 4ms/step - loss: 0.9578 - accuracy: 0.5925\n",
            "Epoch 20/20\n",
            "13/13 [==============================] - 0s 5ms/step - loss: 0.9562 - accuracy: 0.5925\n"
          ]
        }
      ]
    },
    {
      "cell_type": "code",
      "source": [
        ""
      ],
      "metadata": {
        "id": "yByowmr3IX7b"
      },
      "id": "yByowmr3IX7b",
      "execution_count": 93,
      "outputs": []
    },
    {
      "cell_type": "code",
      "execution_count": 105,
      "metadata": {
        "colab": {
          "base_uri": "https://localhost:8080/",
          "height": 410
        },
        "id": "rC2n_0_wmcJH",
        "outputId": "836040ef-6d0c-4bec-9dcc-d61f9ddd28f7"
      },
      "outputs": [
        {
          "output_type": "display_data",
          "data": {
            "image/png": "[encoded data removed]",
            "text/plain": [
              "<Figure size 576x432 with 1 Axes>"
            ]
          },
          "metadata": {}
        }
      ],
      "source": [
        "\n",
        "N = 20\n",
        "import pylab as plt\n",
        "plt.figure(figsize=(8,6))\n",
        "plt.plot(np.arange(0, N), history.history[\"loss\"], label=\"train_loss\")\n",
        "plt.plot(np.arange(0, N), history.history[\"accuracy\"], label=\"accuracy\")\n",
        "\n",
        "plt.title(\"Training Loss and Validation loss on the dataset\")\n",
        "plt.xlabel(\"Epoch #\")\n",
        "plt.ylabel(\"train_Loss/val_loss\")\n",
        "plt.legend(loc=\"middle\")\n",
        "plt.show()"
      ],
      "id": "rC2n_0_wmcJH"
    },
    {
      "cell_type": "code",
      "source": [
        "model.evaluate(X_test,y_test)"
      ],
      "metadata": {
        "id": "33gL-A8UKhTc",
        "outputId": "6cec4b1b-0be8-45e1-ff12-3b2d251796fb",
        "colab": {
          "base_uri": "https://localhost:8080/"
        }
      },
      "id": "33gL-A8UKhTc",
      "execution_count": 106,
      "outputs": [
        {
          "output_type": "stream",
          "name": "stdout",
          "text": [
            "4/4 [==============================] - 0s 7ms/step - loss: 0.9268 - accuracy: 0.6300\n"
          ]
        },
        {
          "output_type": "execute_result",
          "data": {
            "text/plain": [
              "[0.9267668128013611, 0.6299999952316284]"
            ]
          },
          "metadata": {},
          "execution_count": 106
        }
      ]
    },
    {
      "cell_type": "code",
      "source": [
        "model = keras.Sequential([\n",
        "keras.layers.Dense(11, input_shape=(11,), activation='relu'),\n",
        "keras.layers.Dropout(0.5),\n",
        "keras.layers.Dense(6, activation='relu'),\n",
        "keras.layers.Dropout(0.5),\n",
        "keras.layers.Dense(3,activation='softmax')\n",
        "])\n",
        "model.compile(optimizer='adam',\n",
        "loss='categorical_crossentropy',\n",
        "metrics=['accuracy'])\n",
        "model.fit(X_train, y_train, epochs=20)"
      ],
      "metadata": {
        "id": "CXE5KAh8LMiG",
        "outputId": "61c8a00d-a3b0-4de2-8c58-2fe8d2a02a46",
        "colab": {
          "base_uri": "https://localhost:8080/"
        }
      },
      "id": "CXE5KAh8LMiG",
      "execution_count": 107,
      "outputs": [
        {
          "output_type": "stream",
          "name": "stdout",
          "text": [
            "Epoch 1/20\n",
            "13/13 [==============================] - 1s 8ms/step - loss: 1.3425 - accuracy: 0.3525\n",
            "Epoch 2/20\n",
            "13/13 [==============================] - 0s 7ms/step - loss: 1.3081 - accuracy: 0.3775\n",
            "Epoch 3/20\n",
            "13/13 [==============================] - 0s 6ms/step - loss: 1.2040 - accuracy: 0.4325\n",
            "Epoch 4/20\n",
            "13/13 [==============================] - 0s 6ms/step - loss: 1.1702 - accuracy: 0.4400\n",
            "Epoch 5/20\n",
            "13/13 [==============================] - 0s 7ms/step - loss: 1.2105 - accuracy: 0.4150\n",
            "Epoch 6/20\n",
            "13/13 [==============================] - 0s 8ms/step - loss: 1.1594 - accuracy: 0.4550\n",
            "Epoch 7/20\n",
            "13/13 [==============================] - 0s 8ms/step - loss: 1.0953 - accuracy: 0.4775\n",
            "Epoch 8/20\n",
            "13/13 [==============================] - 0s 8ms/step - loss: 1.1042 - accuracy: 0.4900\n",
            "Epoch 9/20\n",
            "13/13 [==============================] - 0s 7ms/step - loss: 1.0963 - accuracy: 0.4950\n",
            "Epoch 10/20\n",
            "13/13 [==============================] - 0s 7ms/step - loss: 1.0603 - accuracy: 0.5225\n",
            "Epoch 11/20\n",
            "13/13 [==============================] - 0s 7ms/step - loss: 1.1079 - accuracy: 0.4750\n",
            "Epoch 12/20\n",
            "13/13 [==============================] - 0s 7ms/step - loss: 1.0628 - accuracy: 0.5250\n",
            "Epoch 13/20\n",
            "13/13 [==============================] - 0s 6ms/step - loss: 1.0359 - accuracy: 0.5675\n",
            "Epoch 14/20\n",
            "13/13 [==============================] - 0s 7ms/step - loss: 1.0060 - accuracy: 0.5675\n",
            "Epoch 15/20\n",
            "13/13 [==============================] - 0s 7ms/step - loss: 1.0515 - accuracy: 0.5650\n",
            "Epoch 16/20\n",
            "13/13 [==============================] - 0s 7ms/step - loss: 1.0294 - accuracy: 0.5500\n",
            "Epoch 17/20\n",
            "13/13 [==============================] - 0s 7ms/step - loss: 1.0271 - accuracy: 0.5425\n",
            "Epoch 18/20\n",
            "13/13 [==============================] - 0s 8ms/step - loss: 1.0133 - accuracy: 0.5650\n",
            "Epoch 19/20\n",
            "13/13 [==============================] - 0s 7ms/step - loss: 1.0514 - accuracy: 0.5425\n",
            "Epoch 20/20\n",
            "13/13 [==============================] - 0s 7ms/step - loss: 1.0266 - accuracy: 0.5650\n"
          ]
        },
        {
          "output_type": "execute_result",
          "data": {
            "text/plain": [
              "<keras.callbacks.History at 0x7fbeecb0ee50>"
            ]
          },
          "metadata": {},
          "execution_count": 107
        }
      ]
    },
    {
      "cell_type": "code",
      "source": [
        "model.evaluate(X_test,y_test)"
      ],
      "metadata": {
        "id": "QIfpTZQYLdJb",
        "outputId": "62ec08af-5d4d-4101-d85d-83e1b3a05b20",
        "colab": {
          "base_uri": "https://localhost:8080/"
        }
      },
      "id": "QIfpTZQYLdJb",
      "execution_count": 108,
      "outputs": [
        {
          "output_type": "stream",
          "name": "stdout",
          "text": [
            "4/4 [==============================] - 0s 9ms/step - loss: 0.9426 - accuracy: 0.6300\n"
          ]
        },
        {
          "output_type": "execute_result",
          "data": {
            "text/plain": [
              "[0.942577600479126, 0.6299999952316284]"
            ]
          },
          "metadata": {},
          "execution_count": 108
        }
      ]
    },
    {
      "cell_type": "code",
      "source": [
        ""
      ],
      "metadata": {
        "id": "uPNgVbMILiJV"
      },
      "id": "uPNgVbMILiJV",
      "execution_count": null,
      "outputs": []
    }
  ],
  "metadata": {
    "kernelspec": {
      "display_name": "Python 3",
      "language": "python",
      "name": "python3"
    },
    "language_info": {
      "codemirror_mode": {
        "name": "ipython",
        "version": 3
      },
      "file_extension": ".py",
      "mimetype": "text/x-python",
      "name": "python",
      "nbconvert_exporter": "python",
      "pygments_lexer": "ipython3",
      "version": "3.8.8"
    },
    "colab": {
      "name": "Hands-on Quiz.ipynb",
      "provenance": [],
      "include_colab_link": true
    },
    "accelerator": "GPU"
  },
  "nbformat": 4,
  "nbformat_minor": 5
}