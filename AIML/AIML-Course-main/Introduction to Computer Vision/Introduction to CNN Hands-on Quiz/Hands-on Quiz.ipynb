{
  "cells": [
    {
      "cell_type": "markdown",
      "metadata": {
        "id": "bur4MKF76Ohg"
      },
      "source": [
        "# **Hands-on Quiz**\n",
        "\n"
      ],
      "id": "bur4MKF76Ohg"
    },
    {
      "cell_type": "markdown",
      "metadata": {
        "id": "zzvUnEM-ukNA"
      },
      "source": [
        "## **Context**\n",
        "\n",
        "**Instructions**\n",
        "\n",
        "**Please download and import the dataset \"shapes.zip\" into Jupyter Notebook to attempt the quiz.**\n",
        "\n",
        "Since the advent of computer vision, there has been the need to understand how the computation in CNN is faster as compared to neural networks and how it has created a greater impact in working with images. We also need to have a brief understanding of Keras and Tensorflow in order to understand the convolutions and other operations that are used in CNNs in a better way. A dataset is also used in some of the questions of the quiz So you can download it beforehand and import it into Google Colab or Jupyter Notebook before attempting the Quiz and set the random_seed values to 1 to get reproducible results.\n",
        "\n",
        "There are a lot of different types of shapes and it is important to be able to differentiate between them. In our dataset, we have 100 triangles, 100 squares, and 100 circles in processing. each png image is 28x28 px\n",
        "the images are in 3 folders labeled squares, circles, and triangles. these images are separated into training and testing data and are stored in different folders. Here you will receive a zip file for the dataset so you can unzip this data and use it for the quiz.\n",
        "\n",
        " \n",
        "\n",
        "**Attribute information:**\n",
        "\n",
        "3 different folders for each shape of a triangle, circle, and square.\n",
        "\n"
      ],
      "id": "zzvUnEM-ukNA"
    },
    {
      "cell_type": "code",
      "execution_count": 1,
      "metadata": {
        "colab": {
          "base_uri": "https://localhost:8080/"
        },
        "id": "mp7vaTMYudbr",
        "outputId": "76e13b73-fe83-4112-e7c7-a681a5b3734a"
      },
      "outputs": [
        {
          "output_type": "stream",
          "name": "stdout",
          "text": [
            "Mounted at /content/drive\n"
          ]
        }
      ],
      "source": [
        "from google.colab import drive\n",
        "drive.mount('/content/drive')"
      ],
      "id": "mp7vaTMYudbr"
    },
    {
      "cell_type": "code",
      "source": [
        "!unzip \"/content/drive/MyDrive/Colab Notebooks/Data/Introduction to Computer Vision/Hands-on Quiz/shapes.zip\""
      ],
      "metadata": {
        "colab": {
          "base_uri": "https://localhost:8080/"
        },
        "id": "LJZ6mmsb2DGi",
        "outputId": "40efea6e-a27b-476b-94f8-a6af370ebdde"
      },
      "execution_count": 3,
      "outputs": [
        {
          "output_type": "stream",
          "name": "stdout",
          "text": [
            "Archive:  /content/drive/MyDrive/Colab Notebooks/Data/Introduction to Computer Vision/Hands-on Quiz/shapes.zip\n",
            "  inflating: shapes/Training/squares/drawing(76).png  \n",
            "  inflating: shapes/Training/circles/drawing(77).png  \n",
            "  inflating: shapes/Training/squares/drawing(60).png  \n",
            "  inflating: shapes/Training/squares/drawing(50).png  \n",
            "  inflating: shapes/Training/squares/drawing(4).png  \n",
            "  inflating: shapes/Training/squares/drawing(64).png  \n",
            "  inflating: shapes/Training/circles/drawing(9).png  \n",
            "  inflating: shapes/Training/squares/drawing(75).png  \n",
            "  inflating: shapes/Training/squares/drawing(62).png  \n",
            "  inflating: shapes/Training/squares/drawing(68).png  \n",
            "  inflating: shapes/Training/squares/drawing(9).png  \n",
            "  inflating: shapes/Training/squares/drawing(51).png  \n",
            "  inflating: shapes/Training/squares/drawing(69).png  \n",
            "  inflating: shapes/Training/squares/drawing(48).png  \n",
            "  inflating: shapes/Training/squares/drawing(56).png  \n",
            "  inflating: shapes/Training/squares/drawing(66).png  \n",
            "  inflating: shapes/Training/circles/drawing(78).png  \n",
            "  inflating: shapes/Training/squares/drawing(74).png  \n",
            "  inflating: shapes/Training/circles/drawing(74).png  \n",
            "  inflating: shapes/Training/squares/drawing(41).png  \n",
            "  inflating: shapes/Training/squares/drawing(61).png  \n",
            "  inflating: shapes/Training/squares/drawing(80).png  \n",
            "  inflating: shapes/Training/squares/drawing(7).png  \n",
            "  inflating: shapes/Training/circles/drawing(79).png  \n",
            "  inflating: shapes/Training/squares/drawing(8).png  \n",
            "  inflating: shapes/Training/squares/drawing(65).png  \n",
            "  inflating: shapes/Training/squares/drawing(42).png  \n",
            "  inflating: shapes/Training/circles/drawing(76).png  \n",
            "  inflating: shapes/Training/squares/drawing(53).png  \n",
            "  inflating: shapes/Training/circles/drawing(80).png  \n",
            "  inflating: shapes/Training/squares/drawing(55).png  \n",
            "  inflating: shapes/Training/circles/drawing(50).png  \n",
            "  inflating: shapes/Training/circles/drawing(69).png  \n",
            "  inflating: shapes/Training/circles/drawing(8).png  \n",
            "  inflating: shapes/Training/circles/drawing(22).png  \n",
            "  inflating: shapes/Training/circles/drawing(68).png  \n",
            "  inflating: shapes/Training/circles/drawing(4).png  \n",
            "  inflating: shapes/Training/circles/drawing(32).png  \n",
            "  inflating: shapes/Training/circles/drawing(53).png  \n",
            "  inflating: shapes/Training/circles/drawing(54).png  \n",
            "  inflating: shapes/Training/squares/drawing(44).png  \n",
            "  inflating: shapes/Training/circles/drawing(51).png  \n",
            "  inflating: shapes/Training/circles/drawing(58).png  \n",
            "  inflating: shapes/Training/circles/drawing(29).png  \n",
            "  inflating: shapes/Training/circles/drawing(30).png  \n",
            "  inflating: shapes/Training/circles/drawing(43).png  \n",
            "  inflating: shapes/Training/circles/drawing(5).png  \n",
            "  inflating: shapes/Training/circles/drawing(57).png  \n",
            "  inflating: shapes/Training/circles/drawing(45).png  \n",
            "  inflating: shapes/Training/circles/drawing(63).png  \n",
            "  inflating: shapes/Training/circles/drawing(67).png  \n",
            "  inflating: shapes/Training/circles/drawing(26).png  \n",
            "  inflating: shapes/Training/circles/drawing(61).png  \n",
            "  inflating: shapes/Training/circles/drawing(47).png  \n",
            "  inflating: shapes/Training/circles/drawing(65).png  \n",
            "  inflating: shapes/Training/circles/drawing(73).png  \n",
            "  inflating: shapes/Training/circles/drawing(31).png  \n",
            "  inflating: shapes/Training/circles/drawing(66).png  \n",
            "  inflating: shapes/Training/circles/drawing(75).png  \n",
            "  inflating: shapes/Training/circles/drawing(56).png  \n",
            "  inflating: shapes/Training/circles/drawing(35).png  \n",
            "  inflating: shapes/Training/circles/drawing(37).png  \n",
            "  inflating: shapes/Training/circles/drawing(24).png  \n",
            "  inflating: shapes/Training/circles/drawing(33).png  \n",
            "  inflating: shapes/Training/circles/drawing(28).png  \n",
            "  inflating: shapes/Training/circles/drawing(71).png  \n",
            "  inflating: shapes/Training/circles/drawing(60).png  \n",
            "  inflating: shapes/Training/circles/drawing(41).png  \n",
            "  inflating: shapes/Testing/squares/drawing(95).png  \n",
            "  inflating: shapes/Training/circles/drawing(64).png  \n",
            "  inflating: shapes/Training/circles/drawing(34).png  \n",
            "  inflating: shapes/Training/circles/drawing(44).png  \n",
            "  inflating: shapes/Training/circles/drawing(55).png  \n",
            "  inflating: shapes/Testing/squares/drawing(92).png  \n",
            "  inflating: shapes/Testing/squares/drawing(82).png  \n",
            "  inflating: shapes/Testing/squares/drawing(88).png  \n",
            "  inflating: shapes/Testing/squares/drawing(90).png  \n",
            "  inflating: shapes/Training/circles/drawing(59).png  \n",
            "  inflating: shapes/Testing/squares/drawing(97).png  \n",
            "  inflating: shapes/Training/squares/drawing(43).png  \n",
            "  inflating: shapes/Testing/squares/drawing(99).png  \n",
            "  inflating: shapes/Training/circles/drawing(72).png  \n",
            "  inflating: shapes/Testing/squares/drawing(100).png  \n",
            "  inflating: shapes/Training/squares/drawing(58).png  \n",
            "  inflating: shapes/Testing/squares/drawing(83).png  \n",
            "  inflating: shapes/Testing/squares/drawing(87).png  \n",
            "  inflating: shapes/Testing/squares/drawing(98).png  \n",
            "  inflating: shapes/Training/squares/drawing(40).png  \n",
            "  inflating: shapes/Testing/squares/drawing(94).png  \n",
            "  inflating: shapes/Testing/squares/drawing(86).png  \n",
            "  inflating: shapes/Training/squares/drawing(77).png  \n",
            "  inflating: shapes/Testing/squares/drawing(81).png  \n",
            "  inflating: shapes/Testing/squares/drawing(89).png  \n",
            "  inflating: shapes/Testing/squares/drawing(96).png  \n",
            "  inflating: shapes/Training/squares/drawing(49).png  \n",
            "  inflating: shapes/Testing/squares/drawing(93).png  \n",
            "  inflating: shapes/Testing/squares/drawing(91).png  \n",
            "  inflating: shapes/Training/squares/drawing(70).png  \n",
            "  inflating: shapes/Training/squares/drawing(67).png  \n",
            "  inflating: shapes/Testing/squares/drawing(85).png  \n",
            "  inflating: shapes/Training/squares/drawing(78).png  \n",
            "  inflating: shapes/Training/squares/drawing(79).png  \n",
            "  inflating: shapes/Testing/squares/drawing(84).png  \n",
            "  inflating: shapes/Training/squares/drawing(54).png  \n",
            "  inflating: shapes/Training/squares/drawing(59).png  \n",
            "  inflating: shapes/Training/squares/drawing(47).png  \n",
            "  inflating: shapes/Training/squares/drawing(45).png  \n",
            "  inflating: shapes/Training/squares/drawing(6).png  \n",
            "  inflating: shapes/Training/circles/drawing(25).png  \n",
            "  inflating: shapes/Training/squares/drawing(63).png  \n",
            "  inflating: shapes/Training/triangles/drawing(65).png  \n",
            "  inflating: shapes/Testing/circles/drawing(90).png  \n",
            "  inflating: shapes/Training/triangles/drawing(80).png  \n",
            "  inflating: shapes/Training/triangles/drawing(74).png  \n",
            "  inflating: shapes/Testing/circles/drawing(84).png  \n",
            "  inflating: shapes/Training/triangles/drawing(69).png  \n",
            "  inflating: shapes/Training/triangles/drawing(60).png  \n",
            "  inflating: shapes/Training/squares/drawing(57).png  \n",
            "  inflating: shapes/Training/squares/drawing(5).png  \n",
            "  inflating: shapes/Testing/circles/drawing(81).png  \n",
            "  inflating: shapes/Training/squares/drawing(52).png  \n",
            "  inflating: shapes/Training/triangles/drawing(75).png  \n",
            "  inflating: shapes/Training/triangles/drawing(72).png  \n",
            "  inflating: shapes/Training/squares/drawing(72).png  \n",
            "  inflating: shapes/Training/squares/drawing(25).png  \n",
            "  inflating: shapes/Training/squares/drawing(30).png  \n",
            "  inflating: shapes/Training/squares/drawing(73).png  \n",
            "  inflating: shapes/Training/triangles/drawing(70).png  \n",
            "  inflating: shapes/Training/triangles/drawing(59).png  \n",
            "  inflating: shapes/Training/triangles/drawing(63).png  \n",
            "  inflating: shapes/Training/triangles/drawing(68).png  \n",
            "  inflating: shapes/Training/squares/drawing(71).png  \n",
            "  inflating: shapes/Training/squares/drawing(46).png  \n",
            "  inflating: shapes/Testing/circles/drawing(97).png  \n",
            "  inflating: shapes/Testing/circles/drawing(94).png  \n",
            "  inflating: shapes/Testing/circles/drawing(83).png  \n",
            "  inflating: shapes/Training/triangles/drawing(78).png  \n",
            "  inflating: shapes/Training/triangles/drawing(61).png  \n",
            "  inflating: shapes/Training/squares/drawing(10).png  \n",
            "  inflating: shapes/Testing/circles/drawing(87).png  \n",
            "  inflating: shapes/Training/triangles/drawing(71).png  \n",
            "  inflating: shapes/Testing/circles/drawing(88).png  \n",
            "  inflating: shapes/Testing/circles/drawing(96).png  \n",
            "  inflating: shapes/Training/triangles/drawing(77).png  \n",
            "  inflating: shapes/Training/triangles/drawing(66).png  \n",
            "  inflating: shapes/Testing/circles/drawing(82).png  \n",
            "  inflating: shapes/Training/triangles/drawing(8).png  \n",
            "  inflating: shapes/Training/triangles/drawing(67).png  \n",
            "  inflating: shapes/Training/triangles/drawing(7).png  \n",
            "  inflating: shapes/Training/triangles/drawing(6).png  \n",
            "  inflating: shapes/Testing/circles/drawing(99).png  \n",
            "  inflating: shapes/Training/triangles/drawing(9).png  \n",
            "  inflating: shapes/Training/triangles/drawing(62).png  \n",
            "  inflating: shapes/Training/triangles/drawing(64).png  \n",
            "  inflating: shapes/Training/triangles/drawing(79).png  \n",
            "  inflating: shapes/Training/triangles/drawing(76).png  \n",
            "  inflating: shapes/Testing/triangles/drawing(95).png  \n",
            "  inflating: shapes/Testing/circles/drawing(92).png  \n",
            "  inflating: shapes/Testing/triangles/drawing(92).png  \n",
            "  inflating: shapes/Testing/triangles/drawing(86).png  \n",
            "  inflating: shapes/Testing/circles/drawing(85).png  \n",
            "  inflating: shapes/Testing/triangles/drawing(83).png  \n",
            "  inflating: shapes/Testing/triangles/drawing(94).png  \n",
            "  inflating: shapes/Testing/circles/drawing(86).png  \n",
            "  inflating: shapes/Testing/circles/drawing(91).png  \n",
            "  inflating: shapes/Testing/circles/drawing(93).png  \n",
            "  inflating: shapes/Testing/circles/drawing(89).png  \n",
            "  inflating: shapes/Testing/circles/drawing(98).png  \n",
            "  inflating: shapes/Testing/circles/drawing(95).png  \n",
            "  inflating: shapes/Testing/triangles/drawing(99).png  \n",
            "  inflating: shapes/Training/circles/drawing(48).png  \n",
            "  inflating: shapes/Testing/circles/drawing(100).png  \n",
            "  inflating: shapes/Testing/triangles/drawing(82).png  \n",
            "  inflating: shapes/Testing/triangles/drawing(85).png  \n",
            "  inflating: shapes/Testing/triangles/drawing(87).png  \n",
            "  inflating: shapes/Testing/triangles/drawing(84).png  \n",
            "  inflating: shapes/Training/circles/drawing(3).png  \n",
            "  inflating: shapes/Testing/triangles/drawing(81).png  \n",
            "  inflating: shapes/Testing/triangles/drawing(96).png  \n",
            "  inflating: shapes/Training/circles/drawing(39).png  \n",
            "  inflating: shapes/Training/circles/drawing(36).png  \n",
            "  inflating: shapes/Training/circles/drawing(23).png  \n",
            "  inflating: shapes/Testing/triangles/drawing(97).png  \n",
            "  inflating: shapes/Training/circles/drawing(46).png  \n",
            "  inflating: shapes/Testing/triangles/drawing(88).png  \n",
            "  inflating: shapes/Training/circles/drawing(42).png  \n",
            "  inflating: shapes/Testing/triangles/drawing(89).png  \n",
            "  inflating: shapes/Training/circles/drawing(20).png  \n",
            "  inflating: shapes/Training/circles/drawing(49).png  \n",
            "  inflating: shapes/Training/circles/drawing(10).png  \n",
            "  inflating: shapes/Testing/triangles/drawing(91).png  \n",
            "  inflating: shapes/Testing/triangles/drawing(93).png  \n",
            "  inflating: shapes/Training/circles/drawing(12).png  \n",
            "  inflating: shapes/Testing/triangles/drawing(98).png  \n",
            "  inflating: shapes/Training/circles/drawing(6).png  \n",
            "  inflating: shapes/Testing/triangles/drawing(90).png  \n",
            "  inflating: shapes/Training/squares/drawing(37).png  \n",
            "  inflating: shapes/Training/circles/drawing(52).png  \n",
            "  inflating: shapes/Testing/triangles/drawing(100).png  \n",
            "  inflating: shapes/Training/circles/drawing(27).png  \n",
            "  inflating: shapes/Training/circles/drawing(7).png  \n",
            "  inflating: shapes/Training/circles/drawing(16).png  \n",
            "  inflating: shapes/Training/squares/drawing(24).png  \n",
            "  inflating: shapes/Training/squares/drawing(27).png  \n",
            "  inflating: shapes/Training/squares/drawing(12).png  \n",
            "  inflating: shapes/Training/circles/drawing(62).png  \n",
            "  inflating: shapes/Training/circles/drawing(18).png  \n",
            "  inflating: shapes/Training/circles/drawing(2).png  \n",
            "  inflating: shapes/Training/circles/drawing(11).png  \n",
            "  inflating: shapes/Training/squares/drawing(32).png  \n",
            "  inflating: shapes/Training/squares/drawing(29).png  \n",
            "  inflating: shapes/Training/circles/drawing(38).png  \n",
            "  inflating: shapes/Training/circles/drawing(15).png  \n",
            "  inflating: shapes/Training/squares/drawing(14).png  \n",
            "  inflating: shapes/Training/circles/drawing(70).png  \n",
            "  inflating: shapes/Training/squares/drawing(31).png  \n",
            "  inflating: shapes/Training/squares/drawing(19).png  \n",
            "  inflating: shapes/Training/squares/drawing(33).png  \n",
            "  inflating: shapes/Training/circles/drawing(40).png  \n",
            "  inflating: shapes/Training/squares/drawing(22).png  \n",
            "  inflating: shapes/Training/squares/drawing(39).png  \n",
            "  inflating: shapes/Training/squares/drawing(21).png  \n",
            "  inflating: shapes/Training/circles/drawing(14).png  \n",
            "  inflating: shapes/Training/squares/drawing(13).png  \n",
            "  inflating: shapes/Training/squares/drawing(11).png  \n",
            "  inflating: shapes/Training/squares/drawing(3).png  \n",
            "  inflating: shapes/Training/squares/drawing(2).png  \n",
            "  inflating: shapes/Training/squares/drawing(28).png  \n",
            "  inflating: shapes/Training/squares/drawing(15).png  \n",
            "  inflating: shapes/Training/squares/drawing(34).png  \n",
            "  inflating: shapes/Training/squares/drawing(16).png  \n",
            "  inflating: shapes/Training/squares/drawing(1).png  \n",
            "  inflating: shapes/Training/squares/drawing(35).png  \n",
            "  inflating: shapes/Training/squares/drawing(18).png  \n",
            "  inflating: shapes/Training/squares/drawing(17).png  \n",
            "  inflating: shapes/Training/squares/drawing(38).png  \n",
            "  inflating: shapes/Training/squares/drawing(26).png  \n",
            "  inflating: shapes/Training/squares/drawing(20).png  \n",
            "  inflating: shapes/Training/squares/drawing(36).png  \n",
            "  inflating: shapes/Training/squares/drawing(23).png  \n",
            "  inflating: shapes/Training/circles/drawing(13).png  \n",
            "  inflating: shapes/Training/circles/drawing(1).png  \n",
            "  inflating: shapes/Training/circles/drawing(17).png  \n",
            "  inflating: shapes/Training/triangles/drawing(29).png  \n",
            "  inflating: shapes/Training/triangles/drawing(21).png  \n",
            "  inflating: shapes/Training/triangles/drawing(48).png  \n",
            "  inflating: shapes/Training/triangles/drawing(3).png  \n",
            "  inflating: shapes/Training/circles/drawing(19).png  \n",
            "  inflating: shapes/Training/circles/drawing(21).png  \n",
            "  inflating: shapes/Training/triangles/drawing(15).png  \n",
            "  inflating: shapes/Training/triangles/drawing(22).png  \n",
            "  inflating: shapes/Training/triangles/drawing(46).png  \n",
            "  inflating: shapes/Training/triangles/drawing(73).png  \n",
            "  inflating: shapes/Training/triangles/drawing(44).png  \n",
            "  inflating: shapes/Training/triangles/drawing(30).png  \n",
            "  inflating: shapes/Training/triangles/drawing(34).png  \n",
            "  inflating: shapes/Training/triangles/drawing(35).png  \n",
            "  inflating: shapes/Training/triangles/drawing(26).png  \n",
            "  inflating: shapes/Training/triangles/drawing(25).png  \n",
            "  inflating: shapes/Training/triangles/drawing(53).png  \n",
            "  inflating: shapes/Training/triangles/drawing(47).png  \n",
            "  inflating: shapes/Training/triangles/drawing(13).png  \n",
            "  inflating: shapes/Training/triangles/drawing(57).png  \n",
            "  inflating: shapes/Training/triangles/drawing(42).png  \n",
            "  inflating: shapes/Training/triangles/drawing(16).png  \n",
            "  inflating: shapes/Training/triangles/drawing(39).png  \n",
            "  inflating: shapes/Training/triangles/drawing(1).png  \n",
            "  inflating: shapes/Training/triangles/drawing(40).png  \n",
            "  inflating: shapes/Training/triangles/drawing(33).png  \n",
            "  inflating: shapes/Training/triangles/drawing(4).png  \n",
            "  inflating: shapes/Training/triangles/drawing(49).png  \n",
            "  inflating: shapes/Training/triangles/drawing(24).png  \n",
            "  inflating: shapes/Training/triangles/drawing(38).png  \n",
            "  inflating: shapes/Training/triangles/drawing(43).png  \n",
            "  inflating: shapes/Training/triangles/drawing(17).png  \n",
            "  inflating: shapes/Training/triangles/drawing(37).png  \n",
            "  inflating: shapes/Training/triangles/drawing(41).png  \n",
            "  inflating: shapes/Training/triangles/drawing(10).png  \n",
            "  inflating: shapes/Training/triangles/drawing(52).png  \n",
            "  inflating: shapes/Training/triangles/drawing(28).png  \n",
            "  inflating: shapes/Training/triangles/drawing(5).png  \n",
            "  inflating: shapes/Training/triangles/drawing(50).png  \n",
            "  inflating: shapes/Training/triangles/drawing(36).png  \n",
            "  inflating: shapes/Training/triangles/drawing(27).png  \n",
            "  inflating: shapes/Training/triangles/drawing(58).png  \n",
            "  inflating: shapes/Training/triangles/drawing(51).png  \n",
            "  inflating: shapes/Training/triangles/drawing(32).png  \n",
            "  inflating: shapes/Training/triangles/drawing(31).png  \n",
            "  inflating: shapes/Training/triangles/drawing(56).png  \n",
            "  inflating: shapes/Training/triangles/drawing(55).png  \n",
            "  inflating: shapes/Training/triangles/drawing(14).png  \n",
            "  inflating: shapes/Training/triangles/drawing(23).png  \n",
            "  inflating: shapes/Training/triangles/drawing(2).png  \n",
            "  inflating: shapes/Training/triangles/drawing(54).png  \n",
            "  inflating: shapes/Training/triangles/drawing(20).png  \n",
            "  inflating: shapes/Training/triangles/drawing(12).png  \n",
            "  inflating: shapes/Training/triangles/drawing(11).png  \n",
            "  inflating: shapes/Training/triangles/drawing(18).png  \n",
            "  inflating: shapes/Training/triangles/drawing(19).png  \n",
            "  inflating: shapes/Training/triangles/drawing(45).png  \n"
          ]
        }
      ],
      "id": "LJZ6mmsb2DGi"
    },
    {
      "cell_type": "markdown",
      "metadata": {
        "id": "DYwUk9aWR46_"
      },
      "source": [
        "### **Importing the libraries**"
      ],
      "id": "DYwUk9aWR46_"
    },
    {
      "cell_type": "code",
      "execution_count": 57,
      "metadata": {
        "id": "KzWR3mlxMb54"
      },
      "outputs": [],
      "source": [
        "#Reading the training images from the path and labelling them into the given categories\n",
        "import numpy as np\n",
        "import pandas as pd\n",
        "import matplotlib.pyplot as plt\n",
        "import cv2 # this is an important module to get imported which may even cause issues while reading the data if not used\n",
        "import os\n",
        "import seaborn as sns # for data visualization \n",
        "import tensorflow as tf\n",
        "import keras\n",
        "from tensorflow.keras.models import Sequential #sequential api for sequential model \n",
        "from tensorflow.keras.layers import Dense, Dropout, Flatten #importing different layers \n",
        "from tensorflow.keras.layers import Conv2D, MaxPooling2D, BatchNormalization, Activation, Input, LeakyReLU,Activation\n",
        "from tensorflow.keras import backend as K\n",
        "from tensorflow.keras.utils import to_categorical #to perform one-hot encoding \n",
        "from tensorflow.keras.layers import Dense, Dropout, Flatten, Conv2D, MaxPool2D\n",
        "from tensorflow.keras.optimizers import RMSprop,Adam #optimiers for optimizing the model\n",
        "from tensorflow.keras.callbacks import EarlyStopping  #regularization method to prevent the overfitting\n",
        "from tensorflow.keras.callbacks import ModelCheckpoint\n",
        "from tensorflow.keras.models import Sequential, Model\n",
        "from tensorflow.keras import losses, optimizers\n"
      ],
      "id": "KzWR3mlxMb54"
    },
    {
      "cell_type": "markdown",
      "metadata": {
        "id": "smzrTqaBSDt5"
      },
      "source": [
        "### **Reading the Training Data**"
      ],
      "id": "smzrTqaBSDt5"
    },
    {
      "cell_type": "code",
      "execution_count": 58,
      "metadata": {
        "id": "d3gLIZA_2mma"
      },
      "outputs": [],
      "source": [
        "DATADIR = \"/content/shapes/Training/\"\n",
        "CATEGORIES = [\"triangles\",\"circles\",\"squares\"]\n",
        "IMG_SIZE=28\n",
        "#Storing all the training images\n",
        "training_data = []\n",
        "\n",
        "def create_training_data():\n",
        "    for category in CATEGORIES:\n",
        "        path = os.path.join(DATADIR,category)\n",
        "        class_num = CATEGORIES.index(category)\n",
        "        for img in os.listdir(path):\n",
        "            try:\n",
        "                img_array = cv2.imread(os.path.join(path,img),cv2.IMREAD_GRAYSCALE)# Converting image to greyscale to reduce the complexity and computation \n",
        "                new_array = cv2.resize(img_array,(IMG_SIZE,IMG_SIZE)) \n",
        "                training_data.append([new_array,class_num])\n",
        "            except Exception as e:\n",
        "                pass\n",
        "create_training_data()\n"
      ],
      "id": "d3gLIZA_2mma"
    },
    {
      "cell_type": "markdown",
      "metadata": {
        "id": "aOzq2maeXxUg"
      },
      "source": [
        "### **Reading the Testing Dataset**\n"
      ],
      "id": "aOzq2maeXxUg"
    },
    {
      "cell_type": "code",
      "execution_count": 59,
      "metadata": {
        "id": "HO7Wo6jHWkE_"
      },
      "outputs": [],
      "source": [
        "\n",
        "DATADIRTEST = \"/content/shapes/Testing/\"\n",
        "CATEGORIES = [\"triangles\",\"circles\",\"squares\"]\n",
        "IMG_SIZE=28\n",
        "#Storing all the training images\n",
        "testing_data = []\n",
        "\n",
        "def create_testing_data():\n",
        "    for category in CATEGORIES:\n",
        "        path = os.path.join(DATADIR,category)\n",
        "        class_num = CATEGORIES.index(category)\n",
        "        for img in os.listdir(path):\n",
        "            try:\n",
        "                img_array = cv2.imread(os.path.join(path,img),cv2.IMREAD_GRAYSCALE)# Converting image to greyscale to reduce the complexity and computation \n",
        "                new_array = cv2.resize(img_array,(IMG_SIZE,IMG_SIZE)) \n",
        "                testing_data.append([new_array,class_num])\n",
        "            except Exception as e:\n",
        "                pass\n",
        "create_testing_data()\n"
      ],
      "id": "HO7Wo6jHWkE_"
    },
    {
      "cell_type": "code",
      "source": [
        "testing_data[0][1]"
      ],
      "metadata": {
        "id": "Ci8iZIhzECWY",
        "outputId": "0cd08126-3b94-4355-8aa2-94aaa368acb7",
        "colab": {
          "base_uri": "https://localhost:8080/"
        }
      },
      "id": "Ci8iZIhzECWY",
      "execution_count": 60,
      "outputs": [
        {
          "output_type": "execute_result",
          "data": {
            "text/plain": [
              "0"
            ]
          },
          "metadata": {},
          "execution_count": 60
        }
      ]
    },
    {
      "cell_type": "markdown",
      "metadata": {
        "id": "Wxmm9eZPYKEw"
      },
      "source": [
        "### **Data Preprocessing** "
      ],
      "id": "Wxmm9eZPYKEw"
    },
    {
      "cell_type": "code",
      "execution_count": 61,
      "metadata": {
        "colab": {
          "base_uri": "https://localhost:8080/"
        },
        "id": "bSfeBdl527nK",
        "outputId": "7bcb8916-ae9d-4562-a7ca-e0bea0dab6cc"
      },
      "outputs": [
        {
          "output_type": "stream",
          "name": "stdout",
          "text": [
            "(240, 28, 28)\n"
          ]
        }
      ],
      "source": [
        "# Separating the images and labels\n",
        "X_train = []\n",
        "y_train = []\n",
        "np.random.shuffle(training_data)\n",
        "for features,label in training_data:\n",
        "    X_train.append(features)\n",
        "    y_train.append(label)\n",
        "X_train= np.array(X_train)\n",
        "print(X_train.shape)\n",
        "\n",
        "# Normalizing pixel values  \n",
        "X_train = X_train/255.0  \n",
        "# image reshaping \n",
        "X_train = X_train.reshape(-1,28,28,1)"
      ],
      "id": "bSfeBdl527nK"
    },
    {
      "cell_type": "code",
      "execution_count": 62,
      "metadata": {
        "colab": {
          "base_uri": "https://localhost:8080/"
        },
        "id": "bVEJpQuaYw72",
        "outputId": "7d808941-f9e7-4fac-9c6d-5300d86b665d"
      },
      "outputs": [
        {
          "output_type": "stream",
          "name": "stdout",
          "text": [
            "(240, 28, 28)\n"
          ]
        }
      ],
      "source": [
        "X_test = []\n",
        "y_test = []\n",
        "\n",
        "np.random.shuffle(testing_data)\n",
        "IMG_SIZE = 28\n",
        "for features,label in testing_data:\n",
        "    X_test.append(features)\n",
        "    y_test.append(label)\n",
        "X_test = np.array(X_test).reshape(-1,IMG_SIZE,IMG_SIZE)\n",
        "print(X_test.shape)\n",
        "X_test = X_test/255.0  \n",
        "X_test = X_test.reshape(-1,28,28,1)"
      ],
      "id": "bVEJpQuaYw72"
    },
    {
      "cell_type": "code",
      "source": [
        "X_train.shape"
      ],
      "metadata": {
        "id": "PWp6yEnuBqbH",
        "outputId": "cb00ad57-ac94-469e-eb00-11733a52c086",
        "colab": {
          "base_uri": "https://localhost:8080/"
        }
      },
      "id": "PWp6yEnuBqbH",
      "execution_count": 63,
      "outputs": [
        {
          "output_type": "execute_result",
          "data": {
            "text/plain": [
              "(240, 28, 28, 1)"
            ]
          },
          "metadata": {},
          "execution_count": 63
        }
      ]
    },
    {
      "cell_type": "markdown",
      "metadata": {
        "id": "lDLQnsaTOdBl"
      },
      "source": [
        "### **Exploratory Data Analysis**"
      ],
      "id": "lDLQnsaTOdBl"
    },
    {
      "cell_type": "code",
      "execution_count": 64,
      "metadata": {
        "id": "-FkotBhQxJfz"
      },
      "outputs": [],
      "source": [
        "#creating the dataframe to plot the pie chart\n",
        "df=pd.DataFrame(y_train,columns=['Suffering'])"
      ],
      "id": "-FkotBhQxJfz"
    },
    {
      "cell_type": "code",
      "execution_count": null,
      "metadata": {
        "colab": {
          "base_uri": "https://localhost:8080/",
          "height": 487
        },
        "id": "r9q8tSuywEMz",
        "outputId": "9ad3fdbe-d139-4689-b5ab-76b9e0467c92"
      },
      "outputs": [
        {
          "output_type": "display_data",
          "data": {
            "image/png": "[encoded data removed]",
            "text/plain": [
              "<Figure size 720x576 with 1 Axes>"
            ]
          },
          "metadata": {}
        }
      ],
      "source": [
        "#plotting the pie chart \n",
        "labels = 'Tumor', 'Non_Tumor'\n",
        "sizes = [df.Suffering[df['Suffering']!=0].count(), df.Suffering[df['Suffering']==0].count()]\n",
        "explode = (0, 0.1)\n",
        "fig1, ax1 = plt.subplots(figsize=(10, 8))\n",
        "ax1.pie(sizes, explode=explode, labels=labels, autopct='%1.1f%%',\n",
        "        shadow=True, startangle=90)\n",
        "ax1.axis('equal')\n",
        "plt.title(\"Proportion of tumor and non tumor patients \", size = 20)\n",
        "plt.show()"
      ],
      "id": "r9q8tSuywEMz"
    },
    {
      "cell_type": "markdown",
      "metadata": {
        "id": "uXyvJapN4IGq"
      },
      "source": [
        "The above plot shows that **71.2% of the images are those of tumors** - Majority class: glioma, meningioma and pituitary tumors, while approx. **28.8% of the images** belong to the **non-tumor category** (Minority class)."
      ],
      "id": "uXyvJapN4IGq"
    },
    {
      "cell_type": "markdown",
      "metadata": {
        "id": "Z7vzDL7yQqyh"
      },
      "source": [
        "**Let's visualize MRI images randomly from each of the three classes.** The Image matrix is plotted and each row represents three single channel images corresponding to one class. We have read single channel images in order to reduce complexity. \n",
        "\n",
        "\n"
      ],
      "id": "Z7vzDL7yQqyh"
    },
    {
      "cell_type": "code",
      "execution_count": 65,
      "metadata": {
        "id": "Gf9WhKL59b3K"
      },
      "outputs": [],
      "source": [
        "#train_dir = 'DATA/train' # image folder\n",
        "import os\n",
        "# get the list of jpegs from sub image class folders\n",
        "triangle_imgs = [fn for fn in os.listdir(f'{DATADIR}/{CATEGORIES[0]}') ]\n",
        "circle_imgs = [fn for fn in os.listdir(f'{DATADIR}/{CATEGORIES[1]}') ]\n",
        "square_imgs = [fn for fn in os.listdir(f'{DATADIR}/{CATEGORIES[2]}') ]\n",
        "\n",
        "# randomly select 3 of each\n",
        "select_tri = np.random.choice(triangle_imgs, 3, replace = False)\n",
        "select_cir = np.random.choice(circle_imgs, 3, replace = False)\n",
        "select_squ = np.random.choice(square_imgs, 3, replace = False)\n"
      ],
      "id": "Gf9WhKL59b3K"
    },
    {
      "cell_type": "code",
      "source": [
        "len(triangle_imgs)"
      ],
      "metadata": {
        "id": "-TypPCagDFQf",
        "outputId": "848fb543-5a1e-4879-c749-6d373aa5334d",
        "colab": {
          "base_uri": "https://localhost:8080/"
        }
      },
      "id": "-TypPCagDFQf",
      "execution_count": 66,
      "outputs": [
        {
          "output_type": "execute_result",
          "data": {
            "text/plain": [
              "80"
            ]
          },
          "metadata": {},
          "execution_count": 66
        }
      ]
    },
    {
      "cell_type": "code",
      "source": [
        "len(circle_imgs)"
      ],
      "metadata": {
        "id": "NKEKc58QDg_a",
        "outputId": "49b61c8d-f878-4735-a71f-8b82163b2d93",
        "colab": {
          "base_uri": "https://localhost:8080/"
        }
      },
      "id": "NKEKc58QDg_a",
      "execution_count": 67,
      "outputs": [
        {
          "output_type": "execute_result",
          "data": {
            "text/plain": [
              "80"
            ]
          },
          "metadata": {},
          "execution_count": 67
        }
      ]
    },
    {
      "cell_type": "code",
      "source": [
        "len(square_imgs)"
      ],
      "metadata": {
        "id": "mh6hefpVDpPI",
        "outputId": "94a69e5d-ebbf-4486-869d-e656c5f7e0f0",
        "colab": {
          "base_uri": "https://localhost:8080/"
        }
      },
      "id": "mh6hefpVDpPI",
      "execution_count": 68,
      "outputs": [
        {
          "output_type": "execute_result",
          "data": {
            "text/plain": [
              "80"
            ]
          },
          "metadata": {},
          "execution_count": 68
        }
      ]
    },
    {
      "cell_type": "code",
      "execution_count": 69,
      "metadata": {
        "colab": {
          "base_uri": "https://localhost:8080/",
          "height": 591
        },
        "id": "jLKL6rdH7NMG",
        "outputId": "58bc4895-d496-49b4-c4b5-49fccc0c5770"
      },
      "outputs": [
        {
          "output_type": "display_data",
          "data": {
            "image/png": "[encoded data removed]",
            "text/plain": [
              "<Figure size 720x720 with 9 Axes>"
            ]
          },
          "metadata": {
            "needs_background": "light"
          }
        }
      ],
      "source": [
        "from tensorflow.keras.preprocessing import image\n",
        "# plotting 2 x 3 image matrix\n",
        "fig = plt.figure(figsize = (10,10))\n",
        "for i in range(9):\n",
        "    if i < 3:\n",
        "        fp = f'{DATADIR}/{CATEGORIES[0]}/{select_tri[i]}'\n",
        "        label = 'Triangle'\n",
        "    if i>=3 and i<6:\n",
        "        fp = f'{DATADIR}/{CATEGORIES[1]}/{select_cir[i-3]}'\n",
        "        label = 'Circle' \n",
        "    if i>=6 and i<9:\n",
        "        fp = f'{DATADIR}/{CATEGORIES[2]}/{select_squ[i-6]}'\n",
        "        label = 'Square'\n",
        "    ax = fig.add_subplot(3, 3, i+1)\n",
        "    \n",
        "    # to plot without rescaling, remove target_size\n",
        "    fn = image.load_img(fp, target_size = (28,28), color_mode='grayscale')\n",
        "    plt.imshow(fn, cmap='Greys_r')\n",
        "    plt.title(label)\n",
        "    plt.axis('off')\n",
        "plt.show()\n",
        "\n",
        "# also check the number of files here"
      ],
      "id": "jLKL6rdH7NMG"
    },
    {
      "cell_type": "markdown",
      "metadata": {
        "id": "Awum0kdq4RuN"
      },
      "source": [
        "**Finding the mean images** for each class of shapes: "
      ],
      "id": "Awum0kdq4RuN"
    },
    {
      "cell_type": "code",
      "execution_count": 70,
      "metadata": {
        "colab": {
          "base_uri": "https://localhost:8080/",
          "height": 758
        },
        "id": "MOE5zSNzvJ5W",
        "outputId": "90d5cc96-d1b8-4c4d-99b4-38d834fcfd89"
      },
      "outputs": [
        {
          "output_type": "display_data",
          "data": {
            "image/png": "[encoded data removed]",
            "text/plain": [
              "<Figure size 432x288 with 1 Axes>"
            ]
          },
          "metadata": {
            "needs_background": "light"
          }
        },
        {
          "output_type": "display_data",
          "data": {
            "image/png": "[encoded data removed]",
            "text/plain": [
              "<Figure size 432x288 with 1 Axes>"
            ]
          },
          "metadata": {
            "needs_background": "light"
          }
        },
        {
          "output_type": "display_data",
          "data": {
            "image/png": "[encoded data removed]",
            "text/plain": [
              "<Figure size 432x288 with 1 Axes>"
            ]
          },
          "metadata": {
            "needs_background": "light"
          }
        }
      ],
      "source": [
        "def find_mean_img(full_mat, title):\n",
        "    # calculate the average\n",
        "    mean_img = np.mean(full_mat, axis = 0)\n",
        "    # reshape it back to a matrix\n",
        "    mean_img = mean_img.reshape((28,28))\n",
        "    plt.imshow(mean_img, vmin=0, vmax=255, cmap='Greys_r')\n",
        "    plt.title(f'Average {title}')\n",
        "    plt.axis('off')\n",
        "    plt.show()\n",
        "    return mean_img\n",
        "\n",
        "triangle_data=[]\n",
        "circle_data=[]\n",
        "square_data=[]\n",
        "\n",
        "for cat in CATEGORIES:\n",
        "        path = os.path.join(DATADIR,cat)\n",
        "        for img in os.listdir(path):\n",
        "                \n",
        "                img_array = cv2.imread(os.path.join(path,img),cv2.IMREAD_GRAYSCALE)# Converting image to greyscale to reduce the complexity and computation \n",
        "                new_array = cv2.resize(img_array,(IMG_SIZE,IMG_SIZE)) \n",
        "                if cat==CATEGORIES[0]:\n",
        "                      triangle_data.append([new_array])\n",
        "                if cat==CATEGORIES[1]:\n",
        "                      circle_data.append([new_array])\n",
        "                if cat==CATEGORIES[2]:\n",
        "                      square_data.append([new_array])\n",
        "\n",
        "                \n",
        "\n",
        "tri_mean = find_mean_img(np.array(triangle_data), 'Triangle')\n",
        "cir_mean = find_mean_img(np.array(circle_data), 'Circle')\n",
        "squ_mean = find_mean_img(np.array(square_data), 'Square')\n"
      ],
      "id": "MOE5zSNzvJ5W"
    },
    {
      "cell_type": "markdown",
      "metadata": {
        "id": "tfM_aFzk8htp"
      },
      "source": [
        "### **Contrast Difference**"
      ],
      "id": "tfM_aFzk8htp"
    },
    {
      "cell_type": "code",
      "execution_count": 71,
      "metadata": {
        "colab": {
          "base_uri": "https://localhost:8080/",
          "height": 851
        },
        "id": "0ltKSjO02TYv",
        "outputId": "8d14e0f8-3c21-4e1d-e3ae-b0ca6526851c"
      },
      "outputs": [
        {
          "output_type": "display_data",
          "data": {
            "image/png": "[encoded data removed]",
            "text/plain": [
              "<Figure size 576x432 with 1 Axes>"
            ]
          },
          "metadata": {
            "needs_background": "light"
          }
        },
        {
          "output_type": "display_data",
          "data": {
            "image/png": "[encoded data removed]",
            "text/plain": [
              "<Figure size 432x288 with 1 Axes>"
            ]
          },
          "metadata": {
            "needs_background": "light"
          }
        },
        {
          "output_type": "display_data",
          "data": {
            "image/png": "[encoded data removed]",
            "text/plain": [
              "<Figure size 432x288 with 1 Axes>"
            ]
          },
          "metadata": {
            "needs_background": "light"
          }
        }
      ],
      "source": [
        "fig = plt.figure(figsize = (8,6))\n",
        "\n",
        "for i in enumerate([tri_mean,cir_mean,squ_mean]):\n",
        "      \n",
        "      contrast_mean = tri_mean - i[1]\n",
        "      plt.imshow(tri_mean, cmap='bwr')\n",
        "      if i[0]==0:\n",
        "          plt.title(f'Difference Between Triangle & Circle')\n",
        "      if i[0]==1:\n",
        "          plt.title(f'Difference Between Triangle & Square')\n",
        "      plt.axis('off')\n",
        "      plt.show()"
      ],
      "id": "0ltKSjO02TYv"
    },
    {
      "cell_type": "markdown",
      "metadata": {
        "id": "bd1r6cKE5amL"
      },
      "source": [
        "As we can see from the contrast difference between the No tumor image and the tumor image, the blue area represents the negative values, meaning the size of the tumorous brain is more than  non-tumourous brain."
      ],
      "id": "bd1r6cKE5amL"
    },
    {
      "cell_type": "markdown",
      "metadata": {
        "id": "Ovi1wCXxUEW-"
      },
      "source": [
        "### **One-Hot Encoding**"
      ],
      "id": "Ovi1wCXxUEW-"
    },
    {
      "cell_type": "code",
      "source": [
        ""
      ],
      "metadata": {
        "id": "CL-DefF1AZlv"
      },
      "execution_count": 71,
      "outputs": [],
      "id": "CL-DefF1AZlv"
    },
    {
      "cell_type": "code",
      "execution_count": 72,
      "metadata": {
        "id": "cS7pbg-hTvtm"
      },
      "outputs": [],
      "source": [
        "encoded = to_categorical(np.array(y_train))\n",
        "y_train_e=encoded\n",
        "encoded_test = to_categorical(np.array(y_test))\n",
        "y_test_e=encoded_test"
      ],
      "id": "cS7pbg-hTvtm"
    },
    {
      "cell_type": "code",
      "execution_count": 73,
      "metadata": {
        "colab": {
          "base_uri": "https://localhost:8080/"
        },
        "id": "xHwt78SIjJJ7",
        "outputId": "19a2bfac-1578-4ebb-97af-f52f70ee1877"
      },
      "outputs": [
        {
          "output_type": "stream",
          "name": "stdout",
          "text": [
            "(240, 3)\n",
            "(240, 3)\n"
          ]
        }
      ],
      "source": [
        "print(y_train_e.shape)\n",
        "print(y_test_e.shape)"
      ],
      "id": "xHwt78SIjJJ7"
    },
    {
      "cell_type": "markdown",
      "source": [
        "### Test Model"
      ],
      "metadata": {
        "id": "f9b1ResW_ojI"
      },
      "id": "f9b1ResW_ojI"
    },
    {
      "cell_type": "code",
      "source": [
        "plt.imshow(X_test[2].reshape(28,28), cmap='Blues')"
      ],
      "metadata": {
        "id": "FqiRx5wK_n0P",
        "outputId": "8aaef24c-6171-4779-ae49-f8af9a187a8a",
        "colab": {
          "base_uri": "https://localhost:8080/",
          "height": 282
        }
      },
      "id": "FqiRx5wK_n0P",
      "execution_count": 31,
      "outputs": [
        {
          "output_type": "execute_result",
          "data": {
            "text/plain": [
              "<matplotlib.image.AxesImage at 0x7fece10a5f50>"
            ]
          },
          "metadata": {},
          "execution_count": 31
        },
        {
          "output_type": "display_data",
          "data": {
            "image/png": "[encoded data removed]",
            "text/plain": [
              "<Figure size 432x288 with 1 Axes>"
            ]
          },
          "metadata": {
            "needs_background": "light"
          }
        }
      ]
    },
    {
      "cell_type": "code",
      "source": [
        "import random\n",
        "random.seed(1)\n",
        "np.random.seed(1) \n",
        "tf.random.set_seed(1)\n",
        "y_train= np.array(y_train_e)\n",
        "\n",
        "model = Sequential()\n",
        "model.add(Conv2D(64, 3, activation=\"relu\", padding=\"same\", input_shape=[28,28,1]))\n",
        "model.add(MaxPooling2D(2))\n",
        "model.add(Conv2D(128, 3, activation=\"relu\", padding=\"same\"))\n",
        "model.add(Flatten())\n",
        "model.add(Dense(64,activation=\"relu\"))\n",
        "model.add(Dropout(0.5))\n",
        "model.add(Dense(32,activation=\"relu\"))\n",
        "model.add(Dropout(0.5))\n",
        "model.add(Dense(3, activation=\"softmax\"))\n",
        "optimizer = Adam()\n",
        "loss = keras.losses.CategoricalCrossentropy()\n",
        "model.compile(loss=loss, optimizer=optimizer, metrics=[\"accuracy\"])\n",
        "history = model.fit(X_train,y_train_e, validation_split=0.1, batch_size=32,epochs=30)\n"
      ],
      "metadata": {
        "id": "9fCPlVjdAlP5",
        "outputId": "f007f3a2-c336-4d25-a203-ed4e894e4a2d",
        "colab": {
          "base_uri": "https://localhost:8080/"
        }
      },
      "id": "9fCPlVjdAlP5",
      "execution_count": 33,
      "outputs": [
        {
          "output_type": "stream",
          "name": "stdout",
          "text": [
            "Epoch 1/30\n",
            "7/7 [==============================] - 1s 129ms/step - loss: 1.2218 - accuracy: 0.3194 - val_loss: 1.1057 - val_accuracy: 0.2500\n",
            "Epoch 2/30\n",
            "7/7 [==============================] - 1s 114ms/step - loss: 1.0956 - accuracy: 0.3843 - val_loss: 1.1053 - val_accuracy: 0.2500\n",
            "Epoch 3/30\n",
            "7/7 [==============================] - 1s 95ms/step - loss: 1.1016 - accuracy: 0.3287 - val_loss: 1.1074 - val_accuracy: 0.2500\n",
            "Epoch 4/30\n",
            "7/7 [==============================] - 1s 97ms/step - loss: 1.0984 - accuracy: 0.3380 - val_loss: 1.1010 - val_accuracy: 0.2500\n",
            "Epoch 5/30\n",
            "7/7 [==============================] - 1s 99ms/step - loss: 1.1033 - accuracy: 0.2778 - val_loss: 1.0945 - val_accuracy: 0.4167\n",
            "Epoch 6/30\n",
            "7/7 [==============================] - 1s 95ms/step - loss: 1.0961 - accuracy: 0.3611 - val_loss: 1.0970 - val_accuracy: 0.3333\n",
            "Epoch 7/30\n",
            "7/7 [==============================] - 1s 105ms/step - loss: 1.1005 - accuracy: 0.3194 - val_loss: 1.0998 - val_accuracy: 0.2500\n",
            "Epoch 8/30\n",
            "7/7 [==============================] - 1s 110ms/step - loss: 1.0981 - accuracy: 0.3472 - val_loss: 1.0983 - val_accuracy: 0.3333\n",
            "Epoch 9/30\n",
            "7/7 [==============================] - 1s 108ms/step - loss: 1.0976 - accuracy: 0.3796 - val_loss: 1.0988 - val_accuracy: 0.3333\n",
            "Epoch 10/30\n",
            "7/7 [==============================] - 1s 112ms/step - loss: 1.1016 - accuracy: 0.2870 - val_loss: 1.1003 - val_accuracy: 0.2500\n",
            "Epoch 11/30\n",
            "7/7 [==============================] - 1s 105ms/step - loss: 1.0969 - accuracy: 0.3565 - val_loss: 1.1013 - val_accuracy: 0.2500\n",
            "Epoch 12/30\n",
            "7/7 [==============================] - 1s 98ms/step - loss: 1.0986 - accuracy: 0.3426 - val_loss: 1.0998 - val_accuracy: 0.2500\n",
            "Epoch 13/30\n",
            "7/7 [==============================] - 1s 99ms/step - loss: 1.0973 - accuracy: 0.3565 - val_loss: 1.0986 - val_accuracy: 0.2917\n",
            "Epoch 14/30\n",
            "7/7 [==============================] - 1s 97ms/step - loss: 1.0972 - accuracy: 0.4074 - val_loss: 1.0990 - val_accuracy: 0.2500\n",
            "Epoch 15/30\n",
            "7/7 [==============================] - 1s 96ms/step - loss: 1.0956 - accuracy: 0.3981 - val_loss: 1.0919 - val_accuracy: 0.4167\n",
            "Epoch 16/30\n",
            "7/7 [==============================] - 1s 113ms/step - loss: 1.0939 - accuracy: 0.3750 - val_loss: 1.0855 - val_accuracy: 0.4167\n",
            "Epoch 17/30\n",
            "7/7 [==============================] - 1s 102ms/step - loss: 1.1004 - accuracy: 0.3426 - val_loss: 1.0987 - val_accuracy: 0.2500\n",
            "Epoch 18/30\n",
            "7/7 [==============================] - 1s 98ms/step - loss: 1.0951 - accuracy: 0.4167 - val_loss: 1.0972 - val_accuracy: 0.5000\n",
            "Epoch 19/30\n",
            "7/7 [==============================] - 1s 96ms/step - loss: 1.0951 - accuracy: 0.3472 - val_loss: 1.0929 - val_accuracy: 0.5417\n",
            "Epoch 20/30\n",
            "7/7 [==============================] - 1s 100ms/step - loss: 1.0945 - accuracy: 0.4352 - val_loss: 1.0893 - val_accuracy: 0.6250\n",
            "Epoch 21/30\n",
            "7/7 [==============================] - 1s 98ms/step - loss: 1.0933 - accuracy: 0.4074 - val_loss: 1.0908 - val_accuracy: 0.5833\n",
            "Epoch 22/30\n",
            "7/7 [==============================] - 1s 97ms/step - loss: 1.0792 - accuracy: 0.4954 - val_loss: 1.0588 - val_accuracy: 0.4167\n",
            "Epoch 23/30\n",
            "7/7 [==============================] - 1s 98ms/step - loss: 1.0729 - accuracy: 0.5556 - val_loss: 1.0465 - val_accuracy: 0.4583\n",
            "Epoch 24/30\n",
            "7/7 [==============================] - 1s 96ms/step - loss: 1.0732 - accuracy: 0.4954 - val_loss: 1.0423 - val_accuracy: 0.6250\n",
            "Epoch 25/30\n",
            "7/7 [==============================] - 1s 96ms/step - loss: 1.0681 - accuracy: 0.4722 - val_loss: 1.0719 - val_accuracy: 0.6250\n",
            "Epoch 26/30\n",
            "7/7 [==============================] - 1s 100ms/step - loss: 1.0310 - accuracy: 0.5694 - val_loss: 0.9992 - val_accuracy: 0.4167\n",
            "Epoch 27/30\n",
            "7/7 [==============================] - 1s 97ms/step - loss: 1.0012 - accuracy: 0.4491 - val_loss: 0.9882 - val_accuracy: 0.6250\n",
            "Epoch 28/30\n",
            "7/7 [==============================] - 1s 97ms/step - loss: 0.9702 - accuracy: 0.5880 - val_loss: 0.9542 - val_accuracy: 0.6250\n",
            "Epoch 29/30\n",
            "7/7 [==============================] - 1s 98ms/step - loss: 0.9623 - accuracy: 0.6528 - val_loss: 0.9418 - val_accuracy: 0.5000\n",
            "Epoch 30/30\n",
            "7/7 [==============================] - 1s 99ms/step - loss: 0.9261 - accuracy: 0.6713 - val_loss: 0.8952 - val_accuracy: 0.6250\n"
          ]
        }
      ]
    },
    {
      "cell_type": "code",
      "source": [
        "acc=model.evaluate(X_test,np.array(y_test_e))"
      ],
      "metadata": {
        "id": "MTebN9mMBJqL",
        "outputId": "8c1d3c24-0dcd-4ee0-aa77-e941fce3b6eb",
        "colab": {
          "base_uri": "https://localhost:8080/"
        }
      },
      "id": "MTebN9mMBJqL",
      "execution_count": 34,
      "outputs": [
        {
          "output_type": "stream",
          "name": "stdout",
          "text": [
            "2/2 [==============================] - 0s 29ms/step - loss: 0.8581 - accuracy: 0.6667\n"
          ]
        }
      ]
    },
    {
      "cell_type": "markdown",
      "metadata": {
        "id": "PfG4f-_KTJaJ"
      },
      "source": [
        "### **Model Building** \n",
        "\n",
        "We will be using two types of Deep Neural Networks:\n",
        "\n",
        "- **ANN** (Artificial Neural Network - fully connected)\n",
        "- **CNN** (Convolutional Neural Network)"
      ],
      "id": "PfG4f-_KTJaJ"
    },
    {
      "cell_type": "markdown",
      "metadata": {
        "id": "_0CIbqrq-ogH"
      },
      "source": [
        "#### **ANN**"
      ],
      "id": "_0CIbqrq-ogH"
    },
    {
      "cell_type": "code",
      "execution_count": 20,
      "metadata": {
        "id": "r3qabqzbTIe6"
      },
      "outputs": [],
      "source": [
        "#Build the model\n",
        "# 3 layers, 1 layer to flatten the image to a 28 x 28 = 784 vector\n",
        "#           1 layer with 128 neurons and relu function\n",
        "#           1 layer with 10 neurons and softmax function\n",
        "#Create the neural network model\n",
        "def create_model(): \n",
        "        model_ann = keras.Sequential([\n",
        "            keras.layers.Flatten(input_shape=(28,28)),\n",
        "            keras.layers.Dense(500,kernel_initializer='he_uniform', activation=tf.nn.relu),\n",
        "            keras.layers.Dense(700,kernel_initializer='he_uniform', activation=tf.nn.relu),\n",
        "            keras.layers.Dense(3, kernel_initializer='random_uniform',activation=tf.nn.softmax)\n",
        "        ])\n",
        "        #Compile the model\n",
        "        #The loss function measures how well the model did on training , and then tries \n",
        "        #to improve on it using the optimizer\n",
        "        model_ann.compile(loss='categorical_crossentropy', optimizer='adam', metrics=['accuracy'])\n",
        "        return model_ann"
      ],
      "id": "r3qabqzbTIe6"
    },
    {
      "cell_type": "code",
      "execution_count": 23,
      "metadata": {
        "colab": {
          "base_uri": "https://localhost:8080/"
        },
        "id": "zp6LRI6_-2gI",
        "outputId": "f7c1ba15-93e4-4821-9f21-c2c97114a512"
      },
      "outputs": [
        {
          "output_type": "stream",
          "name": "stdout",
          "text": [
            "Model: \"sequential\"\n",
            "_________________________________________________________________\n",
            " Layer (type)                Output Shape              Param #   \n",
            "=================================================================\n",
            " flatten (Flatten)           (None, 784)               0         \n",
            "                                                                 \n",
            " dense (Dense)               (None, 500)               392500    \n",
            "                                                                 \n",
            " dense_1 (Dense)             (None, 700)               350700    \n",
            "                                                                 \n",
            " dense_2 (Dense)             (None, 3)                 2103      \n",
            "                                                                 \n",
            "=================================================================\n",
            "Total params: 745,303\n",
            "Trainable params: 745,303\n",
            "Non-trainable params: 0\n",
            "_________________________________________________________________\n"
          ]
        }
      ],
      "source": [
        "model_ann=create_model()\n",
        "model_ann.summary()"
      ],
      "id": "zp6LRI6_-2gI"
    },
    {
      "cell_type": "code",
      "execution_count": 24,
      "metadata": {
        "colab": {
          "base_uri": "https://localhost:8080/"
        },
        "id": "mRmQ5UHT_Rqj",
        "outputId": "cde86e07-db87-499c-c71e-426ad060dcb3"
      },
      "outputs": [
        {
          "output_type": "stream",
          "name": "stdout",
          "text": [
            "Epoch 1/200\n",
            "1/3 [=========>....................] - ETA: 3s - loss: 1.1332 - accuracy: 0.4375\n",
            "Epoch 1: val_accuracy improved from -inf to 0.35417, saving model to best_model.h5\n",
            "3/3 [==============================] - 2s 279ms/step - loss: 2.6466 - accuracy: 0.3542 - val_loss: 1.1613 - val_accuracy: 0.3542\n",
            "Epoch 2/200\n",
            "1/3 [=========>....................] - ETA: 0s - loss: 1.1236 - accuracy: 0.3125\n",
            "Epoch 2: val_accuracy improved from 0.35417 to 0.37500, saving model to best_model.h5\n",
            "3/3 [==============================] - 0s 47ms/step - loss: 1.4518 - accuracy: 0.3281 - val_loss: 1.3745 - val_accuracy: 0.3750\n",
            "Epoch 3/200\n",
            "1/3 [=========>....................] - ETA: 0s - loss: 1.5001 - accuracy: 0.3125\n",
            "Epoch 3: val_accuracy did not improve from 0.37500\n",
            "3/3 [==============================] - 0s 23ms/step - loss: 1.2407 - accuracy: 0.3490 - val_loss: 1.2659 - val_accuracy: 0.3333\n",
            "Epoch 4/200\n",
            "1/3 [=========>....................] - ETA: 0s - loss: 1.3259 - accuracy: 0.2812\n",
            "Epoch 4: val_accuracy did not improve from 0.37500\n",
            "3/3 [==============================] - 0s 23ms/step - loss: 1.1728 - accuracy: 0.3438 - val_loss: 1.1507 - val_accuracy: 0.3333\n",
            "Epoch 5/200\n",
            "1/3 [=========>....................] - ETA: 0s - loss: 1.1709 - accuracy: 0.3125\n",
            "Epoch 5: val_accuracy did not improve from 0.37500\n",
            "3/3 [==============================] - 0s 24ms/step - loss: 1.1270 - accuracy: 0.3854 - val_loss: 1.0904 - val_accuracy: 0.3542\n",
            "Epoch 6/200\n",
            "1/3 [=========>....................] - ETA: 0s - loss: 1.0872 - accuracy: 0.3125\n",
            "Epoch 6: val_accuracy did not improve from 0.37500\n",
            "3/3 [==============================] - 0s 26ms/step - loss: 1.0925 - accuracy: 0.3333 - val_loss: 1.1093 - val_accuracy: 0.3542\n",
            "Epoch 7/200\n",
            "1/3 [=========>....................] - ETA: 0s - loss: 1.0858 - accuracy: 0.3594\n",
            "Epoch 7: val_accuracy improved from 0.37500 to 0.45833, saving model to best_model.h5\n",
            "3/3 [==============================] - 0s 39ms/step - loss: 1.0898 - accuracy: 0.3490 - val_loss: 1.0822 - val_accuracy: 0.4583\n",
            "Epoch 8/200\n",
            "1/3 [=========>....................] - ETA: 0s - loss: 1.0692 - accuracy: 0.4531\n",
            "Epoch 8: val_accuracy did not improve from 0.45833\n",
            "3/3 [==============================] - 0s 22ms/step - loss: 1.0788 - accuracy: 0.3646 - val_loss: 1.0797 - val_accuracy: 0.4167\n",
            "Epoch 9/200\n",
            "1/3 [=========>....................] - ETA: 0s - loss: 1.0631 - accuracy: 0.5156\n",
            "Epoch 9: val_accuracy did not improve from 0.45833\n",
            "3/3 [==============================] - 0s 24ms/step - loss: 1.0574 - accuracy: 0.4531 - val_loss: 1.0774 - val_accuracy: 0.3542\n",
            "Epoch 10/200\n",
            "1/3 [=========>....................] - ETA: 0s - loss: 1.0512 - accuracy: 0.3906\n",
            "Epoch 10: val_accuracy did not improve from 0.45833\n",
            "3/3 [==============================] - 0s 26ms/step - loss: 1.0624 - accuracy: 0.3802 - val_loss: 1.0788 - val_accuracy: 0.3750\n",
            "Epoch 11/200\n",
            "1/3 [=========>....................] - ETA: 0s - loss: 1.0561 - accuracy: 0.4531\n",
            "Epoch 11: val_accuracy did not improve from 0.45833\n",
            "3/3 [==============================] - 0s 23ms/step - loss: 1.0514 - accuracy: 0.4688 - val_loss: 1.0680 - val_accuracy: 0.4583\n",
            "Epoch 12/200\n",
            "1/3 [=========>....................] - ETA: 0s - loss: 1.0293 - accuracy: 0.5781\n",
            "Epoch 12: val_accuracy did not improve from 0.45833\n",
            "3/3 [==============================] - 0s 25ms/step - loss: 1.0278 - accuracy: 0.5417 - val_loss: 1.0918 - val_accuracy: 0.3125\n",
            "Epoch 13/200\n",
            "1/3 [=========>....................] - ETA: 0s - loss: 1.0671 - accuracy: 0.3438\n",
            "Epoch 13: val_accuracy did not improve from 0.45833\n",
            "3/3 [==============================] - 0s 22ms/step - loss: 1.0409 - accuracy: 0.5000 - val_loss: 1.0661 - val_accuracy: 0.3542\n",
            "Epoch 14/200\n",
            "1/3 [=========>....................] - ETA: 0s - loss: 1.0031 - accuracy: 0.5781\n",
            "Epoch 14: val_accuracy did not improve from 0.45833\n",
            "3/3 [==============================] - 0s 30ms/step - loss: 1.0138 - accuracy: 0.5677 - val_loss: 1.0737 - val_accuracy: 0.4375\n",
            "Epoch 15/200\n",
            "1/3 [=========>....................] - ETA: 0s - loss: 1.0272 - accuracy: 0.4531\n",
            "Epoch 15: val_accuracy did not improve from 0.45833\n",
            "3/3 [==============================] - 0s 24ms/step - loss: 1.0069 - accuracy: 0.5469 - val_loss: 1.0568 - val_accuracy: 0.4583\n",
            "Epoch 16/200\n",
            "1/3 [=========>....................] - ETA: 0s - loss: 0.9957 - accuracy: 0.5469\n",
            "Epoch 16: val_accuracy did not improve from 0.45833\n",
            "3/3 [==============================] - 0s 25ms/step - loss: 1.0122 - accuracy: 0.4844 - val_loss: 1.1220 - val_accuracy: 0.3125\n",
            "Epoch 17/200\n",
            "1/3 [=========>....................] - ETA: 0s - loss: 1.0790 - accuracy: 0.3281\n",
            "Epoch 17: val_accuracy improved from 0.45833 to 0.47917, saving model to best_model.h5\n",
            "3/3 [==============================] - 0s 40ms/step - loss: 1.0091 - accuracy: 0.5104 - val_loss: 1.0632 - val_accuracy: 0.4792\n",
            "Epoch 18/200\n",
            "1/3 [=========>....................] - ETA: 0s - loss: 0.9819 - accuracy: 0.5938\n",
            "Epoch 18: val_accuracy did not improve from 0.47917\n",
            "3/3 [==============================] - 0s 23ms/step - loss: 0.9983 - accuracy: 0.5417 - val_loss: 1.1027 - val_accuracy: 0.3542\n",
            "Epoch 19/200\n",
            "1/3 [=========>....................] - ETA: 0s - loss: 0.9467 - accuracy: 0.5000\n",
            "Epoch 19: val_accuracy did not improve from 0.47917\n",
            "3/3 [==============================] - 0s 24ms/step - loss: 0.9957 - accuracy: 0.4479 - val_loss: 1.0917 - val_accuracy: 0.3750\n",
            "Epoch 20/200\n",
            "1/3 [=========>....................] - ETA: 0s - loss: 1.0197 - accuracy: 0.5781\n",
            "Epoch 20: val_accuracy did not improve from 0.47917\n",
            "3/3 [==============================] - 0s 22ms/step - loss: 1.0120 - accuracy: 0.4948 - val_loss: 1.0620 - val_accuracy: 0.4583\n",
            "Epoch 21/200\n",
            "1/3 [=========>....................] - ETA: 0s - loss: 0.9462 - accuracy: 0.5469\n",
            "Epoch 21: val_accuracy did not improve from 0.47917\n",
            "3/3 [==============================] - 0s 23ms/step - loss: 0.9631 - accuracy: 0.5625 - val_loss: 1.0471 - val_accuracy: 0.3958\n",
            "Epoch 22/200\n",
            "1/3 [=========>....................] - ETA: 0s - loss: 0.9694 - accuracy: 0.6094\n",
            "Epoch 22: val_accuracy did not improve from 0.47917\n",
            "3/3 [==============================] - 0s 24ms/step - loss: 0.9386 - accuracy: 0.5885 - val_loss: 1.0751 - val_accuracy: 0.3958\n",
            "Epoch 23/200\n",
            "1/3 [=========>....................] - ETA: 0s - loss: 1.0362 - accuracy: 0.4219\n",
            "Epoch 23: val_accuracy improved from 0.47917 to 0.54167, saving model to best_model.h5\n",
            "3/3 [==============================] - 0s 40ms/step - loss: 1.0305 - accuracy: 0.4635 - val_loss: 1.0492 - val_accuracy: 0.5417\n",
            "Epoch 24/200\n",
            "1/3 [=========>....................] - ETA: 0s - loss: 0.9314 - accuracy: 0.5625\n",
            "Epoch 24: val_accuracy did not improve from 0.54167\n",
            "3/3 [==============================] - 0s 29ms/step - loss: 0.9638 - accuracy: 0.5104 - val_loss: 1.0602 - val_accuracy: 0.4583\n",
            "Epoch 25/200\n",
            "1/3 [=========>....................] - ETA: 0s - loss: 0.9878 - accuracy: 0.5156\n",
            "Epoch 25: val_accuracy did not improve from 0.54167\n",
            "3/3 [==============================] - 0s 23ms/step - loss: 0.9389 - accuracy: 0.5677 - val_loss: 1.0429 - val_accuracy: 0.5000\n",
            "Epoch 26/200\n",
            "1/3 [=========>....................] - ETA: 0s - loss: 0.9052 - accuracy: 0.6250\n",
            "Epoch 26: val_accuracy did not improve from 0.54167\n",
            "3/3 [==============================] - 0s 23ms/step - loss: 0.9265 - accuracy: 0.5677 - val_loss: 1.0400 - val_accuracy: 0.3958\n",
            "Epoch 27/200\n",
            "1/3 [=========>....................] - ETA: 0s - loss: 0.8925 - accuracy: 0.5781\n",
            "Epoch 27: val_accuracy did not improve from 0.54167\n",
            "3/3 [==============================] - 0s 28ms/step - loss: 0.9492 - accuracy: 0.5156 - val_loss: 1.0483 - val_accuracy: 0.3750\n",
            "Epoch 28/200\n",
            "1/3 [=========>....................] - ETA: 0s - loss: 0.9233 - accuracy: 0.6094\n",
            "Epoch 28: val_accuracy did not improve from 0.54167\n",
            "3/3 [==============================] - 0s 24ms/step - loss: 0.9269 - accuracy: 0.5469 - val_loss: 1.0996 - val_accuracy: 0.3750\n",
            "Epoch 29/200\n",
            "1/3 [=========>....................] - ETA: 0s - loss: 0.9057 - accuracy: 0.5156\n",
            "Epoch 29: val_accuracy did not improve from 0.54167\n",
            "3/3 [==============================] - 0s 22ms/step - loss: 0.9367 - accuracy: 0.4896 - val_loss: 1.0457 - val_accuracy: 0.4375\n",
            "Epoch 30/200\n",
            "1/3 [=========>....................] - ETA: 0s - loss: 0.8457 - accuracy: 0.6719\n",
            "Epoch 30: val_accuracy did not improve from 0.54167\n",
            "3/3 [==============================] - 0s 25ms/step - loss: 0.8871 - accuracy: 0.6302 - val_loss: 1.1302 - val_accuracy: 0.3542\n",
            "Epoch 31/200\n",
            "1/3 [=========>....................] - ETA: 0s - loss: 0.9071 - accuracy: 0.5156\n",
            "Epoch 31: val_accuracy did not improve from 0.54167\n",
            "3/3 [==============================] - 0s 23ms/step - loss: 0.9275 - accuracy: 0.5781 - val_loss: 1.0919 - val_accuracy: 0.3958\n",
            "Epoch 32/200\n",
            "1/3 [=========>....................] - ETA: 0s - loss: 0.9305 - accuracy: 0.4844\n",
            "Epoch 32: val_accuracy did not improve from 0.54167\n",
            "3/3 [==============================] - 0s 23ms/step - loss: 0.8588 - accuracy: 0.5625 - val_loss: 1.0922 - val_accuracy: 0.4375\n",
            "Epoch 33/200\n",
            "1/3 [=========>....................] - ETA: 0s - loss: 0.8966 - accuracy: 0.5469\n",
            "Epoch 33: val_accuracy did not improve from 0.54167\n",
            "3/3 [==============================] - 0s 22ms/step - loss: 0.9543 - accuracy: 0.5156 - val_loss: 1.0652 - val_accuracy: 0.3958\n",
            "Epoch 34/200\n",
            "1/3 [=========>....................] - ETA: 0s - loss: 0.8135 - accuracy: 0.6094\n",
            "Epoch 34: val_accuracy did not improve from 0.54167\n",
            "3/3 [==============================] - 0s 26ms/step - loss: 0.9565 - accuracy: 0.5365 - val_loss: 1.0368 - val_accuracy: 0.4167\n",
            "Epoch 35/200\n",
            "1/3 [=========>....................] - ETA: 0s - loss: 0.8774 - accuracy: 0.6406\n",
            "Epoch 35: val_accuracy did not improve from 0.54167\n",
            "3/3 [==============================] - 0s 21ms/step - loss: 0.9781 - accuracy: 0.5417 - val_loss: 1.0896 - val_accuracy: 0.4583\n",
            "Epoch 36/200\n",
            "1/3 [=========>....................] - ETA: 0s - loss: 0.8168 - accuracy: 0.6094\n",
            "Epoch 36: val_accuracy did not improve from 0.54167\n",
            "3/3 [==============================] - 0s 25ms/step - loss: 0.9424 - accuracy: 0.5156 - val_loss: 1.2266 - val_accuracy: 0.3333\n",
            "Epoch 37/200\n",
            "1/3 [=========>....................] - ETA: 0s - loss: 1.1442 - accuracy: 0.2500\n",
            "Epoch 37: val_accuracy did not improve from 0.54167\n",
            "3/3 [==============================] - 0s 23ms/step - loss: 0.9917 - accuracy: 0.4427 - val_loss: 1.0612 - val_accuracy: 0.5000\n",
            "Epoch 38/200\n",
            "1/3 [=========>....................] - ETA: 0s - loss: 0.8183 - accuracy: 0.6562\n",
            "Epoch 38: val_accuracy did not improve from 0.54167\n",
            "3/3 [==============================] - 0s 27ms/step - loss: 0.8927 - accuracy: 0.5781 - val_loss: 1.0824 - val_accuracy: 0.3958\n",
            "Epoch 39/200\n",
            "1/3 [=========>....................] - ETA: 0s - loss: 0.8992 - accuracy: 0.4844\n",
            "Epoch 39: val_accuracy did not improve from 0.54167\n",
            "3/3 [==============================] - 0s 23ms/step - loss: 0.8707 - accuracy: 0.5521 - val_loss: 1.0439 - val_accuracy: 0.5000\n",
            "Epoch 40/200\n",
            "1/3 [=========>....................] - ETA: 0s - loss: 0.8489 - accuracy: 0.5781\n",
            "Epoch 40: val_accuracy did not improve from 0.54167\n",
            "3/3 [==============================] - 0s 25ms/step - loss: 0.8488 - accuracy: 0.6042 - val_loss: 1.0481 - val_accuracy: 0.4583\n",
            "Epoch 41/200\n",
            "1/3 [=========>....................] - ETA: 0s - loss: 0.8502 - accuracy: 0.5938\n",
            "Epoch 41: val_accuracy did not improve from 0.54167\n",
            "3/3 [==============================] - 0s 24ms/step - loss: 0.8209 - accuracy: 0.6562 - val_loss: 1.0242 - val_accuracy: 0.4375\n",
            "Epoch 42/200\n",
            "1/3 [=========>....................] - ETA: 0s - loss: 0.7751 - accuracy: 0.7188\n",
            "Epoch 42: val_accuracy did not improve from 0.54167\n",
            "3/3 [==============================] - 0s 24ms/step - loss: 0.7870 - accuracy: 0.6771 - val_loss: 1.0301 - val_accuracy: 0.3958\n",
            "Epoch 43/200\n",
            "1/3 [=========>....................] - ETA: 0s - loss: 0.7895 - accuracy: 0.7344\n",
            "Epoch 43: val_accuracy did not improve from 0.54167\n",
            "3/3 [==============================] - 0s 27ms/step - loss: 0.7861 - accuracy: 0.6875 - val_loss: 1.0272 - val_accuracy: 0.4583\n",
            "Epoch 44/200\n",
            "1/3 [=========>....................] - ETA: 0s - loss: 0.8034 - accuracy: 0.6094\n",
            "Epoch 44: val_accuracy did not improve from 0.54167\n",
            "3/3 [==============================] - 0s 27ms/step - loss: 0.7811 - accuracy: 0.6719 - val_loss: 1.0256 - val_accuracy: 0.4375\n",
            "Epoch 45/200\n",
            "1/3 [=========>....................] - ETA: 0s - loss: 0.7642 - accuracy: 0.6250\n",
            "Epoch 45: val_accuracy did not improve from 0.54167\n",
            "3/3 [==============================] - 0s 23ms/step - loss: 0.7579 - accuracy: 0.6823 - val_loss: 1.0259 - val_accuracy: 0.4583\n",
            "Epoch 46/200\n",
            "1/3 [=========>....................] - ETA: 0s - loss: 0.6972 - accuracy: 0.7656\n",
            "Epoch 46: val_accuracy did not improve from 0.54167\n",
            "3/3 [==============================] - 0s 24ms/step - loss: 0.7560 - accuracy: 0.6667 - val_loss: 1.0477 - val_accuracy: 0.3750\n",
            "Epoch 47/200\n",
            "1/3 [=========>....................] - ETA: 0s - loss: 0.6866 - accuracy: 0.8125\n",
            "Epoch 47: val_accuracy did not improve from 0.54167\n",
            "3/3 [==============================] - 0s 24ms/step - loss: 0.7749 - accuracy: 0.6771 - val_loss: 1.2301 - val_accuracy: 0.4375\n",
            "Epoch 48/200\n",
            "1/3 [=========>....................] - ETA: 0s - loss: 0.8711 - accuracy: 0.5156\n",
            "Epoch 48: val_accuracy did not improve from 0.54167\n",
            "3/3 [==============================] - 0s 24ms/step - loss: 0.8212 - accuracy: 0.5833 - val_loss: 1.1295 - val_accuracy: 0.3958\n",
            "Epoch 49/200\n",
            "1/3 [=========>....................] - ETA: 0s - loss: 0.8407 - accuracy: 0.6094\n",
            "Epoch 49: val_accuracy did not improve from 0.54167\n",
            "3/3 [==============================] - 0s 22ms/step - loss: 0.7573 - accuracy: 0.6719 - val_loss: 1.1321 - val_accuracy: 0.4375\n",
            "Epoch 50/200\n",
            "1/3 [=========>....................] - ETA: 0s - loss: 0.7945 - accuracy: 0.5938\n",
            "Epoch 50: val_accuracy did not improve from 0.54167\n",
            "3/3 [==============================] - 0s 25ms/step - loss: 0.7342 - accuracy: 0.6875 - val_loss: 1.0531 - val_accuracy: 0.4167\n",
            "Epoch 51/200\n",
            "1/3 [=========>....................] - ETA: 0s - loss: 0.7006 - accuracy: 0.6250\n",
            "Epoch 51: val_accuracy did not improve from 0.54167\n",
            "3/3 [==============================] - 0s 25ms/step - loss: 0.7512 - accuracy: 0.6354 - val_loss: 1.0503 - val_accuracy: 0.4375\n",
            "Epoch 52/200\n",
            "1/3 [=========>....................] - ETA: 0s - loss: 0.7235 - accuracy: 0.7344\n",
            "Epoch 52: val_accuracy did not improve from 0.54167\n",
            "3/3 [==============================] - 0s 25ms/step - loss: 0.7372 - accuracy: 0.6823 - val_loss: 1.0476 - val_accuracy: 0.4375\n",
            "Epoch 53/200\n",
            "1/3 [=========>....................] - ETA: 0s - loss: 0.6396 - accuracy: 0.7812\n",
            "Epoch 53: val_accuracy did not improve from 0.54167\n",
            "3/3 [==============================] - 0s 25ms/step - loss: 0.6825 - accuracy: 0.6875 - val_loss: 1.0924 - val_accuracy: 0.4583\n",
            "Epoch 54/200\n",
            "1/3 [=========>....................] - ETA: 0s - loss: 0.7759 - accuracy: 0.6719\n",
            "Epoch 54: val_accuracy did not improve from 0.54167\n",
            "3/3 [==============================] - 0s 28ms/step - loss: 0.6905 - accuracy: 0.6979 - val_loss: 1.1072 - val_accuracy: 0.4792\n",
            "Epoch 55/200\n",
            "1/3 [=========>....................] - ETA: 0s - loss: 0.7154 - accuracy: 0.6719\n",
            "Epoch 55: val_accuracy did not improve from 0.54167\n",
            "3/3 [==============================] - 0s 25ms/step - loss: 0.6672 - accuracy: 0.7344 - val_loss: 1.0732 - val_accuracy: 0.4583\n",
            "Epoch 56/200\n",
            "1/3 [=========>....................] - ETA: 0s - loss: 0.5211 - accuracy: 0.8438\n",
            "Epoch 56: val_accuracy did not improve from 0.54167\n",
            "3/3 [==============================] - 0s 25ms/step - loss: 0.7026 - accuracy: 0.6562 - val_loss: 1.2036 - val_accuracy: 0.4792\n",
            "Epoch 57/200\n",
            "1/3 [=========>....................] - ETA: 0s - loss: 0.5692 - accuracy: 0.7031\n",
            "Epoch 57: val_accuracy did not improve from 0.54167\n",
            "3/3 [==============================] - 0s 25ms/step - loss: 0.7305 - accuracy: 0.6042 - val_loss: 1.0896 - val_accuracy: 0.4375\n",
            "Epoch 58/200\n",
            "1/3 [=========>....................] - ETA: 0s - loss: 0.7864 - accuracy: 0.6562\n",
            "Epoch 58: val_accuracy did not improve from 0.54167\n",
            "3/3 [==============================] - 0s 26ms/step - loss: 0.7177 - accuracy: 0.6562 - val_loss: 1.1732 - val_accuracy: 0.4167\n",
            "Epoch 59/200\n",
            "1/3 [=========>....................] - ETA: 0s - loss: 0.7615 - accuracy: 0.6719\n",
            "Epoch 59: val_accuracy did not improve from 0.54167\n",
            "3/3 [==============================] - 0s 24ms/step - loss: 0.7219 - accuracy: 0.6927 - val_loss: 1.1776 - val_accuracy: 0.4792\n",
            "Epoch 60/200\n",
            "1/3 [=========>....................] - ETA: 0s - loss: 0.6331 - accuracy: 0.7500\n",
            "Epoch 60: val_accuracy did not improve from 0.54167\n",
            "3/3 [==============================] - 0s 22ms/step - loss: 0.6126 - accuracy: 0.7917 - val_loss: 1.0930 - val_accuracy: 0.4167\n",
            "Epoch 61/200\n",
            "1/3 [=========>....................] - ETA: 0s - loss: 0.6039 - accuracy: 0.7500\n",
            "Epoch 61: val_accuracy did not improve from 0.54167\n",
            "3/3 [==============================] - 0s 22ms/step - loss: 0.6289 - accuracy: 0.7135 - val_loss: 1.2218 - val_accuracy: 0.4583\n",
            "Epoch 61: early stopping\n"
          ]
        }
      ],
      "source": [
        "#Train the model\n",
        "from tensorflow.keras.callbacks import EarlyStopping,ModelCheckpoint\n",
        "\n",
        "es = EarlyStopping(monitor='val_loss', mode='min', verbose=1, patience=20)\n",
        "mc = ModelCheckpoint('best_model.h5', monitor='val_accuracy', mode='max', verbose=1, save_best_only=True)\n",
        "history=model_ann.fit(X_train, \n",
        "          y_train_e,  #It expects integers because of the sparse_categorical_crossentropy loss function\n",
        "          epochs=200, #number of iterations over the entire dataset to train on\n",
        "          batch_size=64,validation_split=0.20,callbacks=[es, mc],use_multiprocessing=True)#number of samples per gradient update for training"
      ],
      "id": "mRmQ5UHT_Rqj"
    },
    {
      "cell_type": "code",
      "execution_count": 25,
      "metadata": {
        "colab": {
          "base_uri": "https://localhost:8080/",
          "height": 312
        },
        "id": "iw91Dycfjm6N",
        "outputId": "ae358cbb-b193-4956-b128-7596ebebf39b"
      },
      "outputs": [
        {
          "output_type": "stream",
          "name": "stdout",
          "text": [
            "dict_keys(['loss', 'accuracy', 'val_loss', 'val_accuracy'])\n"
          ]
        },
        {
          "output_type": "display_data",
          "data": {
            "image/png": "[encoded data removed]",
            "text/plain": [
              "<Figure size 432x288 with 1 Axes>"
            ]
          },
          "metadata": {
            "needs_background": "light"
          }
        }
      ],
      "source": [
        "print(history.history.keys())\n",
        "# summarize history for accuracy\n",
        "plt.plot(history.history['accuracy'])\n",
        "plt.plot(history.history['val_accuracy'])\n",
        "plt.title('model accuracy')\n",
        "plt.ylabel('accuracy')\n",
        "plt.xlabel('epoch')\n",
        "plt.legend(['train', 'test'], loc='upper left')\n",
        "plt.show()\n"
      ],
      "id": "iw91Dycfjm6N"
    },
    {
      "cell_type": "code",
      "execution_count": 26,
      "metadata": {
        "colab": {
          "base_uri": "https://localhost:8080/"
        },
        "id": "P6j5k4eRRlzr",
        "outputId": "10b51065-72aa-4f54-d7dc-0de51a3444c8"
      },
      "outputs": [
        {
          "output_type": "stream",
          "name": "stdout",
          "text": [
            "2/2 [==============================] - 0s 10ms/step - loss: 1.1430 - accuracy: 0.4667\n"
          ]
        },
        {
          "output_type": "execute_result",
          "data": {
            "text/plain": [
              "[1.143017292022705, 0.46666666865348816]"
            ]
          },
          "metadata": {},
          "execution_count": 26
        }
      ],
      "source": [
        "import numpy\n",
        "model_ann.evaluate(X_test,y_test_e)"
      ],
      "id": "P6j5k4eRRlzr"
    },
    {
      "cell_type": "markdown",
      "metadata": {
        "id": "_ZLeHuL_ilVQ"
      },
      "source": [
        "As we see here, the **ANN does not show a good test accuracy**, since ANNs are unable to capture spatial correlation characteristics of the image. \n",
        "\n",
        "**Let's try Convolutional Neural Networks, which take in the whole image as a 2D matrix instead.** \n",
        "CNNs tend to behave well on image data but the important point to consider is, it may not be true until an optimized CNN is built depending on the data."
      ],
      "id": "_ZLeHuL_ilVQ"
    },
    {
      "cell_type": "markdown",
      "metadata": {
        "id": "6OE0q4V_UtUM"
      },
      "source": [
        "#### **Convolutional Neural Network (CNN)**\n",
        "\n",
        "**Model 1:** CNN with Dropout"
      ],
      "id": "6OE0q4V_UtUM"
    },
    {
      "cell_type": "code",
      "execution_count": null,
      "metadata": {
        "colab": {
          "base_uri": "https://localhost:8080/"
        },
        "id": "KyHFcuTxPjZi",
        "outputId": "daf9f790-1f4e-4072-f643-7d525dfbf53c"
      },
      "outputs": [
        {
          "output_type": "stream",
          "name": "stderr",
          "text": [
            "/usr/local/lib/python3.7/dist-packages/keras/optimizer_v2/adam.py:105: UserWarning: The `lr` argument is deprecated, use `learning_rate` instead.\n",
            "  super(Adam, self).__init__(name, **kwargs)\n"
          ]
        },
        {
          "output_type": "stream",
          "name": "stdout",
          "text": [
            "Epoch 1/30\n",
            "36/36 [==============================] - ETA: 0s - loss: 1.3154 - accuracy: 0.3672\n",
            "Epoch 00001: val_accuracy improved from -inf to 0.49220, saving model to best_model.h5\n",
            "36/36 [==============================] - 19s 250ms/step - loss: 1.3154 - accuracy: 0.3672 - val_loss: 1.1102 - val_accuracy: 0.4922\n",
            "Epoch 2/30\n",
            "36/36 [==============================] - ETA: 0s - loss: 1.0090 - accuracy: 0.5838\n",
            "Epoch 00002: val_accuracy improved from 0.49220 to 0.63605, saving model to best_model.h5\n",
            "36/36 [==============================] - 8s 221ms/step - loss: 1.0090 - accuracy: 0.5838 - val_loss: 0.9042 - val_accuracy: 0.6360\n",
            "Epoch 3/30\n",
            "36/36 [==============================] - ETA: 0s - loss: 0.8622 - accuracy: 0.6267\n",
            "Epoch 00003: val_accuracy did not improve from 0.63605\n",
            "36/36 [==============================] - 8s 216ms/step - loss: 0.8622 - accuracy: 0.6267 - val_loss: 0.9148 - val_accuracy: 0.5945\n",
            "Epoch 4/30\n",
            "36/36 [==============================] - ETA: 0s - loss: 0.7413 - accuracy: 0.6923\n",
            "Epoch 00004: val_accuracy improved from 0.63605 to 0.72270, saving model to best_model.h5\n",
            "36/36 [==============================] - 8s 221ms/step - loss: 0.7413 - accuracy: 0.6923 - val_loss: 0.6831 - val_accuracy: 0.7227\n",
            "Epoch 5/30\n",
            "36/36 [==============================] - ETA: 0s - loss: 0.6563 - accuracy: 0.7261\n",
            "Epoch 00005: val_accuracy did not improve from 0.72270\n",
            "36/36 [==============================] - 8s 216ms/step - loss: 0.6563 - accuracy: 0.7261 - val_loss: 0.6791 - val_accuracy: 0.6776\n",
            "Epoch 6/30\n",
            "36/36 [==============================] - ETA: 0s - loss: 0.6023 - accuracy: 0.7491\n",
            "Epoch 00006: val_accuracy improved from 0.72270 to 0.73137, saving model to best_model.h5\n",
            "36/36 [==============================] - 8s 221ms/step - loss: 0.6023 - accuracy: 0.7491 - val_loss: 0.6093 - val_accuracy: 0.7314\n",
            "Epoch 7/30\n",
            "36/36 [==============================] - ETA: 0s - loss: 0.5615 - accuracy: 0.7556\n",
            "Epoch 00007: val_accuracy improved from 0.73137 to 0.79029, saving model to best_model.h5\n",
            "36/36 [==============================] - 8s 220ms/step - loss: 0.5615 - accuracy: 0.7556 - val_loss: 0.5219 - val_accuracy: 0.7903\n",
            "Epoch 8/30\n",
            "36/36 [==============================] - ETA: 0s - loss: 0.4898 - accuracy: 0.8003\n",
            "Epoch 00008: val_accuracy improved from 0.79029 to 0.81629, saving model to best_model.h5\n",
            "36/36 [==============================] - 8s 221ms/step - loss: 0.4898 - accuracy: 0.8003 - val_loss: 0.4639 - val_accuracy: 0.8163\n",
            "Epoch 9/30\n",
            "36/36 [==============================] - ETA: 0s - loss: 0.4524 - accuracy: 0.8247\n",
            "Epoch 00009: val_accuracy improved from 0.81629 to 0.84575, saving model to best_model.h5\n",
            "36/36 [==============================] - 8s 220ms/step - loss: 0.4524 - accuracy: 0.8247 - val_loss: 0.4245 - val_accuracy: 0.8458\n",
            "Epoch 10/30\n",
            "36/36 [==============================] - ETA: 0s - loss: 0.4007 - accuracy: 0.8325\n",
            "Epoch 00010: val_accuracy did not improve from 0.84575\n",
            "36/36 [==============================] - 8s 217ms/step - loss: 0.4007 - accuracy: 0.8325 - val_loss: 0.4146 - val_accuracy: 0.8440\n",
            "Epoch 11/30\n",
            "36/36 [==============================] - ETA: 0s - loss: 0.3731 - accuracy: 0.8494\n",
            "Epoch 00011: val_accuracy improved from 0.84575 to 0.86308, saving model to best_model.h5\n",
            "36/36 [==============================] - 8s 220ms/step - loss: 0.3731 - accuracy: 0.8494 - val_loss: 0.3572 - val_accuracy: 0.8631\n",
            "Epoch 12/30\n",
            "36/36 [==============================] - ETA: 0s - loss: 0.3387 - accuracy: 0.8624\n",
            "Epoch 00012: val_accuracy improved from 0.86308 to 0.87348, saving model to best_model.h5\n",
            "36/36 [==============================] - 8s 222ms/step - loss: 0.3387 - accuracy: 0.8624 - val_loss: 0.3445 - val_accuracy: 0.8735\n",
            "Epoch 13/30\n",
            "36/36 [==============================] - ETA: 0s - loss: 0.2963 - accuracy: 0.8872\n",
            "Epoch 00013: val_accuracy improved from 0.87348 to 0.88388, saving model to best_model.h5\n",
            "36/36 [==============================] - 8s 221ms/step - loss: 0.2963 - accuracy: 0.8872 - val_loss: 0.3266 - val_accuracy: 0.8839\n",
            "Epoch 14/30\n",
            "36/36 [==============================] - ETA: 0s - loss: 0.2939 - accuracy: 0.8811\n",
            "Epoch 00014: val_accuracy improved from 0.88388 to 0.90295, saving model to best_model.h5\n",
            "36/36 [==============================] - 8s 222ms/step - loss: 0.2939 - accuracy: 0.8811 - val_loss: 0.2937 - val_accuracy: 0.9029\n",
            "Epoch 15/30\n",
            "36/36 [==============================] - ETA: 0s - loss: 0.2451 - accuracy: 0.8989\n",
            "Epoch 00015: val_accuracy improved from 0.90295 to 0.90468, saving model to best_model.h5\n",
            "36/36 [==============================] - 8s 219ms/step - loss: 0.2451 - accuracy: 0.8989 - val_loss: 0.2757 - val_accuracy: 0.9047\n",
            "Epoch 16/30\n",
            "36/36 [==============================] - ETA: 0s - loss: 0.2413 - accuracy: 0.9076\n",
            "Epoch 00016: val_accuracy did not improve from 0.90468\n",
            "36/36 [==============================] - 8s 217ms/step - loss: 0.2413 - accuracy: 0.9076 - val_loss: 0.2819 - val_accuracy: 0.9047\n",
            "Epoch 17/30\n",
            "36/36 [==============================] - ETA: 0s - loss: 0.2023 - accuracy: 0.9266\n",
            "Epoch 00017: val_accuracy improved from 0.90468 to 0.91681, saving model to best_model.h5\n",
            "36/36 [==============================] - 8s 220ms/step - loss: 0.2023 - accuracy: 0.9266 - val_loss: 0.2354 - val_accuracy: 0.9168\n",
            "Epoch 18/30\n",
            "36/36 [==============================] - ETA: 0s - loss: 0.1948 - accuracy: 0.9236\n",
            "Epoch 00018: val_accuracy did not improve from 0.91681\n",
            "36/36 [==============================] - 8s 216ms/step - loss: 0.1948 - accuracy: 0.9236 - val_loss: 0.2720 - val_accuracy: 0.9133\n",
            "Epoch 19/30\n",
            "36/36 [==============================] - ETA: 0s - loss: 0.1912 - accuracy: 0.9297\n",
            "Epoch 00019: val_accuracy improved from 0.91681 to 0.92894, saving model to best_model.h5\n",
            "36/36 [==============================] - 8s 221ms/step - loss: 0.1912 - accuracy: 0.9297 - val_loss: 0.2265 - val_accuracy: 0.9289\n",
            "Epoch 20/30\n",
            "36/36 [==============================] - ETA: 0s - loss: 0.1632 - accuracy: 0.9384\n",
            "Epoch 00020: val_accuracy improved from 0.92894 to 0.93068, saving model to best_model.h5\n",
            "36/36 [==============================] - 8s 221ms/step - loss: 0.1632 - accuracy: 0.9384 - val_loss: 0.2130 - val_accuracy: 0.9307\n",
            "Epoch 21/30\n",
            "36/36 [==============================] - ETA: 0s - loss: 0.1490 - accuracy: 0.9453\n",
            "Epoch 00021: val_accuracy did not improve from 0.93068\n",
            "36/36 [==============================] - 8s 217ms/step - loss: 0.1490 - accuracy: 0.9453 - val_loss: 0.2015 - val_accuracy: 0.9289\n",
            "Epoch 22/30\n",
            "36/36 [==============================] - ETA: 0s - loss: 0.1592 - accuracy: 0.9340\n",
            "Epoch 00022: val_accuracy did not improve from 0.93068\n",
            "36/36 [==============================] - 8s 215ms/step - loss: 0.1592 - accuracy: 0.9340 - val_loss: 0.2471 - val_accuracy: 0.9151\n",
            "Epoch 23/30\n",
            "36/36 [==============================] - ETA: 0s - loss: 0.1219 - accuracy: 0.9540\n",
            "Epoch 00023: val_accuracy improved from 0.93068 to 0.93241, saving model to best_model.h5\n",
            "36/36 [==============================] - 8s 219ms/step - loss: 0.1219 - accuracy: 0.9540 - val_loss: 0.2186 - val_accuracy: 0.9324\n",
            "Epoch 24/30\n",
            "36/36 [==============================] - ETA: 0s - loss: 0.1214 - accuracy: 0.9536\n",
            "Epoch 00024: val_accuracy improved from 0.93241 to 0.93588, saving model to best_model.h5\n",
            "36/36 [==============================] - 8s 220ms/step - loss: 0.1214 - accuracy: 0.9536 - val_loss: 0.2028 - val_accuracy: 0.9359\n",
            "Epoch 25/30\n",
            "36/36 [==============================] - ETA: 0s - loss: 0.1277 - accuracy: 0.9527\n",
            "Epoch 00025: val_accuracy improved from 0.93588 to 0.94107, saving model to best_model.h5\n",
            "36/36 [==============================] - 8s 220ms/step - loss: 0.1277 - accuracy: 0.9527 - val_loss: 0.1977 - val_accuracy: 0.9411\n",
            "Epoch 26/30\n",
            "36/36 [==============================] - ETA: 0s - loss: 0.1013 - accuracy: 0.9588\n",
            "Epoch 00026: val_accuracy improved from 0.94107 to 0.95147, saving model to best_model.h5\n",
            "36/36 [==============================] - 8s 220ms/step - loss: 0.1013 - accuracy: 0.9588 - val_loss: 0.1872 - val_accuracy: 0.9515\n",
            "Epoch 27/30\n",
            "36/36 [==============================] - ETA: 0s - loss: 0.1017 - accuracy: 0.9592\n",
            "Epoch 00027: val_accuracy did not improve from 0.95147\n",
            "36/36 [==============================] - 8s 216ms/step - loss: 0.1017 - accuracy: 0.9592 - val_loss: 0.2025 - val_accuracy: 0.9255\n",
            "Epoch 28/30\n",
            "36/36 [==============================] - ETA: 0s - loss: 0.1235 - accuracy: 0.9544\n",
            "Epoch 00028: val_accuracy did not improve from 0.95147\n",
            "36/36 [==============================] - 8s 218ms/step - loss: 0.1235 - accuracy: 0.9544 - val_loss: 0.1907 - val_accuracy: 0.9428\n",
            "Epoch 29/30\n",
            "36/36 [==============================] - ETA: 0s - loss: 0.0838 - accuracy: 0.9692\n",
            "Epoch 00029: val_accuracy improved from 0.95147 to 0.95667, saving model to best_model.h5\n",
            "36/36 [==============================] - 8s 221ms/step - loss: 0.0838 - accuracy: 0.9692 - val_loss: 0.1542 - val_accuracy: 0.9567\n",
            "Epoch 30/30\n",
            "36/36 [==============================] - ETA: 0s - loss: 0.0809 - accuracy: 0.9674\n",
            "Epoch 00030: val_accuracy did not improve from 0.95667\n",
            "36/36 [==============================] - 8s 216ms/step - loss: 0.0809 - accuracy: 0.9674 - val_loss: 0.2222 - val_accuracy: 0.9324\n"
          ]
        }
      ],
      "source": [
        "es = EarlyStopping(monitor='val_loss', mode='min', verbose=1, patience=20)\n",
        "mc = ModelCheckpoint('best_model.h5', monitor='val_accuracy', mode='max', verbose=1, save_best_only=True)\n",
        "model = Sequential()\n",
        "#\n",
        "y_train=np.array(y_train)\n",
        "model.add(Conv2D(filters = 64, kernel_size = (5,5),padding = 'Same', \n",
        "                 activation ='relu', input_shape = (150,150,1)))\n",
        "model.add(MaxPool2D(pool_size=(2,2)))\n",
        "model.add(Dropout(0.25))\n",
        "#\n",
        "model.add(Conv2D(filters = 128, kernel_size = (3,3),padding = 'Same', \n",
        "                 activation ='relu'))\n",
        "model.add(MaxPool2D(pool_size=(2,2), strides=(2,2)))\n",
        "model.add(Dropout(0.25))\n",
        "#\n",
        "model.add(Conv2D(filters = 128, kernel_size = (3,3),padding = 'Same', \n",
        "                 activation ='relu'))\n",
        "model.add(MaxPool2D(pool_size=(2,2), strides=(2,2)))\n",
        "model.add(Dropout(0.3))\n",
        "#\n",
        "model.add(Conv2D(filters = 128, kernel_size = (2,2),padding = 'Same', \n",
        "                 activation ='relu'))\n",
        "model.add(MaxPool2D(pool_size=(2,2), strides=(2,2)))\n",
        "model.add(Dropout(0.3))\n",
        "\n",
        "#\n",
        "model.add(Conv2D(filters = 256, kernel_size = (2,2),padding = 'Same', \n",
        "                 activation ='relu'))\n",
        "model.add(MaxPool2D(pool_size=(2,2), strides=(2,2)))\n",
        "model.add(Dropout(0.3))\n",
        "\n",
        "# \n",
        "model.add(Flatten())\n",
        "model.add(Dense(1024, activation = \"relu\"))\n",
        "model.add(Dropout(0.5))\n",
        "model.add(Dense(4, activation = \"softmax\"))\n",
        "optimizer = Adam(lr=0.001, beta_1=0.9, beta_2=0.999)\n",
        "model.compile(optimizer = optimizer , loss = \"categorical_crossentropy\", metrics=[\"accuracy\"])\n",
        "epochs = 200  \n",
        "batch_size = 64\n",
        "\n",
        "\n",
        "\n",
        "es = EarlyStopping(monitor='val_loss', mode='min', verbose=1, patience=5)\n",
        "mc = ModelCheckpoint('best_model.h5', monitor='val_accuracy', mode='max', verbose=1, save_best_only=True)\n",
        "\n",
        "history=model.fit(X_train, \n",
        "          y_train_e,  #It expects integers because of the sparse_categorical_crossentropy loss function\n",
        "          epochs=30, #number of iterations over the entire dataset to train on\n",
        "          batch_size=64,validation_split=0.20,callbacks=[es, mc],use_multiprocessing=True)#number of samples per gradient update for training  \n",
        "\n"
      ],
      "id": "KyHFcuTxPjZi"
    },
    {
      "cell_type": "code",
      "execution_count": null,
      "metadata": {
        "colab": {
          "base_uri": "https://localhost:8080/"
        },
        "id": "OjDvDLbRb-e7",
        "outputId": "dbd08b60-fc0d-4612-cae5-1ea670d6b315"
      },
      "outputs": [
        {
          "output_type": "stream",
          "name": "stdout",
          "text": [
            "13/13 [==============================] - 2s 80ms/step - loss: 2.8122 - accuracy: 0.7139\n"
          ]
        },
        {
          "output_type": "execute_result",
          "data": {
            "text/plain": [
              "[2.812236785888672, 0.7139303684234619]"
            ]
          },
          "metadata": {},
          "execution_count": 42
        }
      ],
      "source": [
        "model.evaluate(X_test,np.array(y_test_e))"
      ],
      "id": "OjDvDLbRb-e7"
    },
    {
      "cell_type": "markdown",
      "metadata": {
        "id": "BGZQBiuPur1n"
      },
      "source": [
        "Here we can observe that this is performing better than ANN but we will try to optimize this model and improve its performance."
      ],
      "id": "BGZQBiuPur1n"
    },
    {
      "cell_type": "markdown",
      "metadata": {
        "id": "pOP8aJj6lhH9"
      },
      "source": [
        "#### **Convolutional Neural Network (CNN)**\n",
        "\n",
        "**Model 2:** CNN with Dropout after Convolution and having two Dense layers with 16 & 8 units respectively \n",
        "\n",
        "Since CNN Model 1 does not appear to have good test accuracy and appears to be overfitting on the training dataset, let's use CNN Model 2, which has a different architecture that should generalize well and not overfit."
      ],
      "id": "pOP8aJj6lhH9"
    },
    {
      "cell_type": "code",
      "execution_count": null,
      "metadata": {
        "id": "IhOKETLL8g9S"
      },
      "outputs": [],
      "source": [
        "class conv_Layers:\n",
        "\n",
        "  def __init__(self, nfilters, kernel_size, stride=1, \n",
        "               pool_size=2, leakyrelu_slope=0.1, dropc=0.0, bnorm=False):\n",
        "    self.nfilters = nfilters\n",
        "    self.kernel_size = kernel_size\n",
        "    self.stride = stride\n",
        "    self.pool_size = pool_size\n",
        "    self.leakyrelu_slope = leakyrelu_slope\n",
        "    self.dropfrac = dropc\n",
        "    self.bnorm = bnorm\n",
        "  \n",
        "  def __call__(self, x):\n",
        "    x = Conv2D(self.nfilters, kernel_size=self.kernel_size, \n",
        "               strides=self.stride, padding='same')(x)\n",
        "    x = LeakyReLU(self.leakyrelu_slope)(x)\n",
        "    if (self.dropfrac > 0.0): \n",
        "      x = Dropout(self.dropfrac)(x)\n",
        "    if (self.bnorm):\n",
        "      x = BatchNormalization()(x)\n",
        "    x = MaxPool2D(self.pool_size)(x)\n",
        "    return x\n",
        "\n",
        "class dense_Layers:\n",
        "\n",
        "  def __init__(self, nunits, leakyrelu_slope=0.1, dropd=0.0, bnorm=False):\n",
        "    self.nunits = nunits\n",
        "    self.leakyrelu_slope = leakyrelu_slope \n",
        "    self.dropfrac = dropd\n",
        "    self.bnorm = bnorm\n",
        "\n",
        "  def __call__(self, x):\n",
        "    x = Dense(self.nunits)(x)\n",
        "    x = LeakyReLU(self.leakyrelu_slope)(x)\n",
        "    if (self.dropfrac > 0.0):\n",
        "      x = Dropout(self.dropfrac)(x)\n",
        "    if (self.bnorm):\n",
        "      x = BatchNormalization()(x)\n",
        "    return x\n",
        "\n",
        "def LNmodel(in_shape, conv_filters, dense_filters, kernel_size, num_classes, lr,\n",
        "            stride=1, pool_size=2, leakyrelu_slope=0.1, dropc=0.0, dropd=0.0, bnorm=False):\n",
        "\n",
        "  in_shape = X_train.shape[1:]\n",
        "  i = Input(shape=in_shape)\n",
        "  for ncl, nconvfilters in enumerate(conv_filters):\n",
        "    if (ncl==0):\n",
        "      x = conv_Layers(nconvfilters, kernel_size,\n",
        "                      stride, pool_size, leakyrelu_slope, dropc, bnorm)(i)\n",
        "    else:\n",
        "      x = conv_Layers(nconvfilters, kernel_size,\n",
        "                      stride, pool_size, leakyrelu_slope, dropc, bnorm)(x)\n",
        "\n",
        "  x = Flatten()(x)\n",
        "\n",
        "  for ndl, ndunits in enumerate(dense_filters):\n",
        "    x = dense_Layers(ndunits, leakyrelu_slope, dropd, bnorm)(x)\n",
        "\n",
        "  x = Dense(num_classes, activation='softmax')(x)\n",
        "\n",
        "  ln_model  = Model(inputs=i, outputs=x)\n",
        "  adam = optimizers.Adam(lr=lr)\n",
        "  ln_model.compile(loss='categorical_crossentropy', optimizer=adam, metrics=['accuracy'])\n",
        "  return ln_model"
      ],
      "id": "IhOKETLL8g9S"
    },
    {
      "cell_type": "code",
      "execution_count": null,
      "metadata": {
        "colab": {
          "base_uri": "https://localhost:8080/"
        },
        "id": "Zepbs5Ah8-BH",
        "outputId": "5c059d89-8787-4d66-8d13-b81bca8d471b"
      },
      "outputs": [
        {
          "output_type": "stream",
          "name": "stdout",
          "text": [
            "Model: \"model\"\n",
            "_________________________________________________________________\n",
            " Layer (type)                Output Shape              Param #   \n",
            "=================================================================\n",
            " input_1 (InputLayer)        [(None, 150, 150, 1)]     0         \n",
            "                                                                 \n",
            " conv2d_5 (Conv2D)           (None, 150, 150, 8)       208       \n",
            "                                                                 \n",
            " leaky_re_lu (LeakyReLU)     (None, 150, 150, 8)       0         \n",
            "                                                                 \n",
            " dropout_6 (Dropout)         (None, 150, 150, 8)       0         \n",
            "                                                                 \n",
            " max_pooling2d_5 (MaxPooling  (None, 75, 75, 8)        0         \n",
            " 2D)                                                             \n",
            "                                                                 \n",
            " conv2d_6 (Conv2D)           (None, 75, 75, 16)        3216      \n",
            "                                                                 \n",
            " leaky_re_lu_1 (LeakyReLU)   (None, 75, 75, 16)        0         \n",
            "                                                                 \n",
            " dropout_7 (Dropout)         (None, 75, 75, 16)        0         \n",
            "                                                                 \n",
            " max_pooling2d_6 (MaxPooling  (None, 37, 37, 16)       0         \n",
            " 2D)                                                             \n",
            "                                                                 \n",
            " flatten_2 (Flatten)         (None, 21904)             0         \n",
            "                                                                 \n",
            " dense_5 (Dense)             (None, 16)                350480    \n",
            "                                                                 \n",
            " leaky_re_lu_2 (LeakyReLU)   (None, 16)                0         \n",
            "                                                                 \n",
            " dropout_8 (Dropout)         (None, 16)                0         \n",
            "                                                                 \n",
            " dense_6 (Dense)             (None, 8)                 136       \n",
            "                                                                 \n",
            " leaky_re_lu_3 (LeakyReLU)   (None, 8)                 0         \n",
            "                                                                 \n",
            " dropout_9 (Dropout)         (None, 8)                 0         \n",
            "                                                                 \n",
            " dense_7 (Dense)             (None, 4)                 36        \n",
            "                                                                 \n",
            "=================================================================\n",
            "Total params: 354,076\n",
            "Trainable params: 354,076\n",
            "Non-trainable params: 0\n",
            "_________________________________________________________________\n"
          ]
        },
        {
          "output_type": "stream",
          "name": "stderr",
          "text": [
            "/usr/local/lib/python3.7/dist-packages/keras/optimizer_v2/adam.py:105: UserWarning: The `lr` argument is deprecated, use `learning_rate` instead.\n",
            "  super(Adam, self).__init__(name, **kwargs)\n"
          ]
        }
      ],
      "source": [
        "lr = 0.001\n",
        "kernelsize = 5\n",
        "in_shape= X_train.shape[1:]\n",
        "model_ln3 = LNmodel(in_shape, [8,16], [16,8], kernelsize, 4, lr,\n",
        "                    stride=1, pool_size=2, leakyrelu_slope=0.1, dropc=0.25,\n",
        "                    dropd=0.5, bnorm=False)\n",
        "model_ln3.summary()\n"
      ],
      "id": "Zepbs5Ah8-BH"
    },
    {
      "cell_type": "code",
      "execution_count": null,
      "metadata": {
        "colab": {
          "base_uri": "https://localhost:8080/"
        },
        "id": "jroKwnUB9CfC",
        "outputId": "33254e72-38a2-4d28-ede0-c15f05565b7a"
      },
      "outputs": [
        {
          "output_type": "stream",
          "name": "stdout",
          "text": [
            "Epoch 1/60\n",
            "11/11 [==============================] - ETA: 0s - loss: 1.3745 - accuracy: 0.3318\n",
            "Epoch 00001: val_accuracy improved from -inf to 0.38754, saving model to best_model.h5\n",
            "11/11 [==============================] - 4s 196ms/step - loss: 1.3745 - accuracy: 0.3318 - val_loss: 1.3172 - val_accuracy: 0.3875\n",
            "Epoch 2/60\n",
            "10/11 [==========================>...] - ETA: 0s - loss: 1.2917 - accuracy: 0.3926\n",
            "Epoch 00002: val_accuracy improved from 0.38754 to 0.47405, saving model to best_model.h5\n",
            "11/11 [==============================] - 2s 156ms/step - loss: 1.2935 - accuracy: 0.3920 - val_loss: 1.2351 - val_accuracy: 0.4740\n",
            "Epoch 3/60\n",
            "10/11 [==========================>...] - ETA: 0s - loss: 1.2807 - accuracy: 0.4207\n",
            "Epoch 00003: val_accuracy improved from 0.47405 to 0.50865, saving model to best_model.h5\n",
            "11/11 [==============================] - 2s 147ms/step - loss: 1.2807 - accuracy: 0.4209 - val_loss: 1.2225 - val_accuracy: 0.5087\n",
            "Epoch 4/60\n",
            "10/11 [==========================>...] - ETA: 0s - loss: 1.2343 - accuracy: 0.4594\n",
            "Epoch 00004: val_accuracy improved from 0.50865 to 0.60554, saving model to best_model.h5\n",
            "11/11 [==============================] - 2s 148ms/step - loss: 1.2354 - accuracy: 0.4614 - val_loss: 1.2007 - val_accuracy: 0.6055\n",
            "Epoch 5/60\n",
            "10/11 [==========================>...] - ETA: 0s - loss: 1.1918 - accuracy: 0.4801\n",
            "Epoch 00005: val_accuracy did not improve from 0.60554\n",
            "11/11 [==============================] - 2s 142ms/step - loss: 1.1899 - accuracy: 0.4811 - val_loss: 1.1327 - val_accuracy: 0.5848\n",
            "Epoch 6/60\n",
            "10/11 [==========================>...] - ETA: 0s - loss: 1.1430 - accuracy: 0.5227\n",
            "Epoch 00006: val_accuracy improved from 0.60554 to 0.61246, saving model to best_model.h5\n",
            "11/11 [==============================] - 2s 146ms/step - loss: 1.1428 - accuracy: 0.5220 - val_loss: 1.0924 - val_accuracy: 0.6125\n",
            "Epoch 7/60\n",
            "10/11 [==========================>...] - ETA: 0s - loss: 1.1100 - accuracy: 0.5223\n",
            "Epoch 00007: val_accuracy improved from 0.61246 to 0.62630, saving model to best_model.h5\n",
            "11/11 [==============================] - 2s 145ms/step - loss: 1.1095 - accuracy: 0.5228 - val_loss: 1.0493 - val_accuracy: 0.6263\n",
            "Epoch 8/60\n",
            "10/11 [==========================>...] - ETA: 0s - loss: 1.0631 - accuracy: 0.5613\n",
            "Epoch 00008: val_accuracy improved from 0.62630 to 0.66436, saving model to best_model.h5\n",
            "11/11 [==============================] - 2s 149ms/step - loss: 1.0628 - accuracy: 0.5621 - val_loss: 1.0096 - val_accuracy: 0.6644\n",
            "Epoch 9/60\n",
            "10/11 [==========================>...] - ETA: 0s - loss: 1.0364 - accuracy: 0.5824\n",
            "Epoch 00009: val_accuracy improved from 0.66436 to 0.68166, saving model to best_model.h5\n",
            "11/11 [==============================] - 2s 147ms/step - loss: 1.0366 - accuracy: 0.5822 - val_loss: 0.9380 - val_accuracy: 0.6817\n",
            "Epoch 10/60\n",
            "10/11 [==========================>...] - ETA: 0s - loss: 1.0017 - accuracy: 0.5930\n",
            "Epoch 00010: val_accuracy improved from 0.68166 to 0.68858, saving model to best_model.h5\n",
            "11/11 [==============================] - 2s 146ms/step - loss: 1.0033 - accuracy: 0.5938 - val_loss: 0.9184 - val_accuracy: 0.6886\n",
            "Epoch 11/60\n",
            "10/11 [==========================>...] - ETA: 0s - loss: 0.9653 - accuracy: 0.6234\n",
            "Epoch 00011: val_accuracy improved from 0.68858 to 0.74048, saving model to best_model.h5\n",
            "11/11 [==============================] - 2s 148ms/step - loss: 0.9656 - accuracy: 0.6242 - val_loss: 0.9445 - val_accuracy: 0.7405\n",
            "Epoch 12/60\n",
            "10/11 [==========================>...] - ETA: 0s - loss: 0.9682 - accuracy: 0.6172\n",
            "Epoch 00012: val_accuracy did not improve from 0.74048\n",
            "11/11 [==============================] - 2s 140ms/step - loss: 0.9670 - accuracy: 0.6181 - val_loss: 0.8957 - val_accuracy: 0.7163\n",
            "Epoch 13/60\n",
            "10/11 [==========================>...] - ETA: 0s - loss: 0.8948 - accuracy: 0.6410\n",
            "Epoch 00013: val_accuracy improved from 0.74048 to 0.78201, saving model to best_model.h5\n",
            "11/11 [==============================] - 2s 146ms/step - loss: 0.8973 - accuracy: 0.6404 - val_loss: 0.8286 - val_accuracy: 0.7820\n",
            "Epoch 14/60\n",
            "10/11 [==========================>...] - ETA: 0s - loss: 0.9067 - accuracy: 0.6313\n",
            "Epoch 00014: val_accuracy did not improve from 0.78201\n",
            "11/11 [==============================] - 2s 143ms/step - loss: 0.9059 - accuracy: 0.6323 - val_loss: 0.8682 - val_accuracy: 0.7612\n",
            "Epoch 15/60\n",
            "10/11 [==========================>...] - ETA: 0s - loss: 0.8969 - accuracy: 0.6352\n",
            "Epoch 00015: val_accuracy improved from 0.78201 to 0.79585, saving model to best_model.h5\n",
            "11/11 [==============================] - 2s 145ms/step - loss: 0.8951 - accuracy: 0.6366 - val_loss: 0.7972 - val_accuracy: 0.7958\n",
            "Epoch 16/60\n",
            "10/11 [==========================>...] - ETA: 0s - loss: 0.8158 - accuracy: 0.6793\n",
            "Epoch 00016: val_accuracy did not improve from 0.79585\n",
            "11/11 [==============================] - 2s 142ms/step - loss: 0.8187 - accuracy: 0.6775 - val_loss: 0.8192 - val_accuracy: 0.7612\n",
            "Epoch 17/60\n",
            "10/11 [==========================>...] - ETA: 0s - loss: 0.8862 - accuracy: 0.6320\n",
            "Epoch 00017: val_accuracy did not improve from 0.79585\n",
            "11/11 [==============================] - 2s 141ms/step - loss: 0.8833 - accuracy: 0.6331 - val_loss: 0.7399 - val_accuracy: 0.7509\n",
            "Epoch 18/60\n",
            "10/11 [==========================>...] - ETA: 0s - loss: 0.8186 - accuracy: 0.6707\n",
            "Epoch 00018: val_accuracy improved from 0.79585 to 0.80623, saving model to best_model.h5\n",
            "11/11 [==============================] - 2s 148ms/step - loss: 0.8191 - accuracy: 0.6717 - val_loss: 0.7482 - val_accuracy: 0.8062\n",
            "Epoch 19/60\n",
            "10/11 [==========================>...] - ETA: 0s - loss: 0.8002 - accuracy: 0.6918\n",
            "Epoch 00019: val_accuracy improved from 0.80623 to 0.82699, saving model to best_model.h5\n",
            "11/11 [==============================] - 2s 147ms/step - loss: 0.8001 - accuracy: 0.6914 - val_loss: 0.7034 - val_accuracy: 0.8270\n",
            "Epoch 20/60\n",
            "10/11 [==========================>...] - ETA: 0s - loss: 0.7781 - accuracy: 0.6980\n",
            "Epoch 00020: val_accuracy did not improve from 0.82699\n",
            "11/11 [==============================] - 2s 143ms/step - loss: 0.7778 - accuracy: 0.6979 - val_loss: 0.7085 - val_accuracy: 0.7785\n",
            "Epoch 21/60\n",
            "10/11 [==========================>...] - ETA: 0s - loss: 0.7482 - accuracy: 0.7113\n",
            "Epoch 00021: val_accuracy did not improve from 0.82699\n",
            "11/11 [==============================] - 2s 142ms/step - loss: 0.7483 - accuracy: 0.7106 - val_loss: 0.7026 - val_accuracy: 0.8131\n",
            "Epoch 22/60\n",
            "10/11 [==========================>...] - ETA: 0s - loss: 0.7295 - accuracy: 0.7105\n",
            "Epoch 00022: val_accuracy did not improve from 0.82699\n",
            "11/11 [==============================] - 2s 143ms/step - loss: 0.7299 - accuracy: 0.7099 - val_loss: 0.6454 - val_accuracy: 0.8062\n",
            "Epoch 23/60\n",
            "10/11 [==========================>...] - ETA: 0s - loss: 0.7302 - accuracy: 0.7059\n",
            "Epoch 00023: val_accuracy did not improve from 0.82699\n",
            "11/11 [==============================] - 2s 142ms/step - loss: 0.7312 - accuracy: 0.7041 - val_loss: 0.6394 - val_accuracy: 0.8131\n",
            "Epoch 24/60\n",
            "10/11 [==========================>...] - ETA: 0s - loss: 0.6859 - accuracy: 0.7375\n",
            "Epoch 00024: val_accuracy improved from 0.82699 to 0.85467, saving model to best_model.h5\n",
            "11/11 [==============================] - 2s 146ms/step - loss: 0.6870 - accuracy: 0.7373 - val_loss: 0.6057 - val_accuracy: 0.8547\n",
            "Epoch 25/60\n",
            "10/11 [==========================>...] - ETA: 0s - loss: 0.6710 - accuracy: 0.7406\n",
            "Epoch 00025: val_accuracy did not improve from 0.85467\n",
            "11/11 [==============================] - 2s 152ms/step - loss: 0.6721 - accuracy: 0.7404 - val_loss: 0.5760 - val_accuracy: 0.8443\n",
            "Epoch 26/60\n",
            "10/11 [==========================>...] - ETA: 0s - loss: 0.6641 - accuracy: 0.7500\n",
            "Epoch 00026: val_accuracy did not improve from 0.85467\n",
            "11/11 [==============================] - 2s 142ms/step - loss: 0.6645 - accuracy: 0.7500 - val_loss: 0.6102 - val_accuracy: 0.8235\n",
            "Epoch 27/60\n",
            "10/11 [==========================>...] - ETA: 0s - loss: 0.6682 - accuracy: 0.7457\n",
            "Epoch 00027: val_accuracy did not improve from 0.85467\n",
            "11/11 [==============================] - 2s 143ms/step - loss: 0.6687 - accuracy: 0.7461 - val_loss: 0.5824 - val_accuracy: 0.8408\n",
            "Epoch 28/60\n",
            "10/11 [==========================>...] - ETA: 0s - loss: 0.6273 - accuracy: 0.7539\n",
            "Epoch 00028: val_accuracy did not improve from 0.85467\n",
            "11/11 [==============================] - 2s 143ms/step - loss: 0.6296 - accuracy: 0.7515 - val_loss: 0.5619 - val_accuracy: 0.8478\n",
            "Epoch 29/60\n",
            "10/11 [==========================>...] - ETA: 0s - loss: 0.6247 - accuracy: 0.7598\n",
            "Epoch 00029: val_accuracy improved from 0.85467 to 0.86505, saving model to best_model.h5\n",
            "11/11 [==============================] - 2s 151ms/step - loss: 0.6233 - accuracy: 0.7596 - val_loss: 0.5378 - val_accuracy: 0.8651\n",
            "Epoch 30/60\n",
            "10/11 [==========================>...] - ETA: 0s - loss: 0.6140 - accuracy: 0.7656\n",
            "Epoch 00030: val_accuracy did not improve from 0.86505\n",
            "11/11 [==============================] - 2s 144ms/step - loss: 0.6138 - accuracy: 0.7666 - val_loss: 0.5572 - val_accuracy: 0.8304\n",
            "Epoch 31/60\n",
            "10/11 [==========================>...] - ETA: 0s - loss: 0.6456 - accuracy: 0.7430\n",
            "Epoch 00031: val_accuracy did not improve from 0.86505\n",
            "11/11 [==============================] - 2s 142ms/step - loss: 0.6451 - accuracy: 0.7434 - val_loss: 0.6404 - val_accuracy: 0.7889\n",
            "Epoch 32/60\n",
            "10/11 [==========================>...] - ETA: 0s - loss: 0.6319 - accuracy: 0.7559\n",
            "Epoch 00032: val_accuracy did not improve from 0.86505\n",
            "11/11 [==============================] - 2s 145ms/step - loss: 0.6324 - accuracy: 0.7550 - val_loss: 0.5434 - val_accuracy: 0.8408\n",
            "Epoch 33/60\n",
            "10/11 [==========================>...] - ETA: 0s - loss: 0.5766 - accuracy: 0.7820\n",
            "Epoch 00033: val_accuracy did not improve from 0.86505\n",
            "11/11 [==============================] - 2s 143ms/step - loss: 0.5744 - accuracy: 0.7840 - val_loss: 0.5453 - val_accuracy: 0.8304\n",
            "Epoch 34/60\n",
            "10/11 [==========================>...] - ETA: 0s - loss: 0.5821 - accuracy: 0.7801\n",
            "Epoch 00034: val_accuracy did not improve from 0.86505\n",
            "11/11 [==============================] - 2s 142ms/step - loss: 0.5815 - accuracy: 0.7793 - val_loss: 0.5581 - val_accuracy: 0.8339\n",
            "Epoch 35/60\n",
            "10/11 [==========================>...] - ETA: 0s - loss: 0.5716 - accuracy: 0.7785\n",
            "Epoch 00035: val_accuracy did not improve from 0.86505\n",
            "11/11 [==============================] - 2s 141ms/step - loss: 0.5707 - accuracy: 0.7793 - val_loss: 0.5050 - val_accuracy: 0.8512\n",
            "Epoch 36/60\n",
            "10/11 [==========================>...] - ETA: 0s - loss: 0.5649 - accuracy: 0.7859\n",
            "Epoch 00036: val_accuracy did not improve from 0.86505\n",
            "11/11 [==============================] - 2s 142ms/step - loss: 0.5638 - accuracy: 0.7863 - val_loss: 0.5642 - val_accuracy: 0.8581\n",
            "Epoch 37/60\n",
            "10/11 [==========================>...] - ETA: 0s - loss: 0.5375 - accuracy: 0.7953\n",
            "Epoch 00037: val_accuracy did not improve from 0.86505\n",
            "11/11 [==============================] - 2s 140ms/step - loss: 0.5372 - accuracy: 0.7959 - val_loss: 0.5322 - val_accuracy: 0.8270\n",
            "Epoch 38/60\n",
            "10/11 [==========================>...] - ETA: 0s - loss: 0.5333 - accuracy: 0.7996\n",
            "Epoch 00038: val_accuracy improved from 0.86505 to 0.87889, saving model to best_model.h5\n",
            "11/11 [==============================] - 2s 147ms/step - loss: 0.5336 - accuracy: 0.7990 - val_loss: 0.5177 - val_accuracy: 0.8789\n",
            "Epoch 39/60\n",
            "10/11 [==========================>...] - ETA: 0s - loss: 0.5247 - accuracy: 0.8145\n",
            "Epoch 00039: val_accuracy did not improve from 0.87889\n",
            "11/11 [==============================] - 2s 140ms/step - loss: 0.5251 - accuracy: 0.8144 - val_loss: 0.4679 - val_accuracy: 0.8651\n",
            "Epoch 40/60\n",
            "10/11 [==========================>...] - ETA: 0s - loss: 0.5141 - accuracy: 0.8043\n",
            "Epoch 00040: val_accuracy did not improve from 0.87889\n",
            "11/11 [==============================] - 2s 144ms/step - loss: 0.5150 - accuracy: 0.8040 - val_loss: 0.4999 - val_accuracy: 0.8720\n",
            "Epoch 41/60\n",
            "10/11 [==========================>...] - ETA: 0s - loss: 0.5057 - accuracy: 0.8168\n",
            "Epoch 00041: val_accuracy did not improve from 0.87889\n",
            "11/11 [==============================] - 2s 144ms/step - loss: 0.5118 - accuracy: 0.8171 - val_loss: 0.5996 - val_accuracy: 0.7889\n",
            "Epoch 42/60\n",
            "10/11 [==========================>...] - ETA: 0s - loss: 0.7081 - accuracy: 0.7281\n",
            "Epoch 00042: val_accuracy did not improve from 0.87889\n",
            "11/11 [==============================] - 2s 140ms/step - loss: 0.7077 - accuracy: 0.7288 - val_loss: 0.5874 - val_accuracy: 0.8028\n",
            "Epoch 43/60\n",
            "10/11 [==========================>...] - ETA: 0s - loss: 0.6144 - accuracy: 0.7625\n",
            "Epoch 00043: val_accuracy did not improve from 0.87889\n",
            "11/11 [==============================] - 2s 141ms/step - loss: 0.6156 - accuracy: 0.7608 - val_loss: 0.5757 - val_accuracy: 0.8097\n",
            "Epoch 44/60\n",
            "10/11 [==========================>...] - ETA: 0s - loss: 0.5589 - accuracy: 0.7824\n",
            "Epoch 00044: val_accuracy did not improve from 0.87889\n",
            "11/11 [==============================] - 2s 141ms/step - loss: 0.5600 - accuracy: 0.7816 - val_loss: 0.5021 - val_accuracy: 0.8581\n",
            "Epoch 45/60\n",
            "10/11 [==========================>...] - ETA: 0s - loss: 0.5154 - accuracy: 0.8113\n",
            "Epoch 00045: val_accuracy did not improve from 0.87889\n",
            "11/11 [==============================] - 2s 142ms/step - loss: 0.5138 - accuracy: 0.8117 - val_loss: 0.4751 - val_accuracy: 0.8547\n",
            "Epoch 46/60\n",
            "10/11 [==========================>...] - ETA: 0s - loss: 0.4822 - accuracy: 0.8277\n",
            "Epoch 00046: val_accuracy did not improve from 0.87889\n",
            "11/11 [==============================] - 2s 142ms/step - loss: 0.4834 - accuracy: 0.8272 - val_loss: 0.5013 - val_accuracy: 0.8720\n",
            "Epoch 47/60\n",
            "10/11 [==========================>...] - ETA: 0s - loss: 0.4884 - accuracy: 0.8188\n",
            "Epoch 00047: val_accuracy improved from 0.87889 to 0.88235, saving model to best_model.h5\n",
            "11/11 [==============================] - 2s 147ms/step - loss: 0.4892 - accuracy: 0.8191 - val_loss: 0.4598 - val_accuracy: 0.8824\n",
            "Epoch 48/60\n",
            "10/11 [==========================>...] - ETA: 0s - loss: 0.4624 - accuracy: 0.8281\n",
            "Epoch 00048: val_accuracy did not improve from 0.88235\n",
            "11/11 [==============================] - 2s 142ms/step - loss: 0.4619 - accuracy: 0.8287 - val_loss: 0.4598 - val_accuracy: 0.8754\n",
            "Epoch 49/60\n",
            "10/11 [==========================>...] - ETA: 0s - loss: 0.4627 - accuracy: 0.8254\n",
            "Epoch 00049: val_accuracy did not improve from 0.88235\n",
            "11/11 [==============================] - 2s 143ms/step - loss: 0.4618 - accuracy: 0.8264 - val_loss: 0.4415 - val_accuracy: 0.8824\n",
            "Epoch 50/60\n",
            "10/11 [==========================>...] - ETA: 0s - loss: 0.4544 - accuracy: 0.8438\n",
            "Epoch 00050: val_accuracy did not improve from 0.88235\n",
            "11/11 [==============================] - 2s 142ms/step - loss: 0.4528 - accuracy: 0.8445 - val_loss: 0.4745 - val_accuracy: 0.8789\n",
            "Epoch 51/60\n",
            "10/11 [==========================>...] - ETA: 0s - loss: 0.4668 - accuracy: 0.8250\n",
            "Epoch 00051: val_accuracy improved from 0.88235 to 0.88581, saving model to best_model.h5\n",
            "11/11 [==============================] - 2s 147ms/step - loss: 0.4656 - accuracy: 0.8252 - val_loss: 0.4448 - val_accuracy: 0.8858\n",
            "Epoch 52/60\n",
            "10/11 [==========================>...] - ETA: 0s - loss: 0.4292 - accuracy: 0.8453\n",
            "Epoch 00052: val_accuracy did not improve from 0.88581\n",
            "11/11 [==============================] - 2s 143ms/step - loss: 0.4319 - accuracy: 0.8449 - val_loss: 0.4505 - val_accuracy: 0.8720\n",
            "Epoch 53/60\n",
            "10/11 [==========================>...] - ETA: 0s - loss: 0.4818 - accuracy: 0.8234\n",
            "Epoch 00053: val_accuracy did not improve from 0.88581\n",
            "11/11 [==============================] - 2s 142ms/step - loss: 0.4814 - accuracy: 0.8233 - val_loss: 0.4761 - val_accuracy: 0.8789\n",
            "Epoch 54/60\n",
            "10/11 [==========================>...] - ETA: 0s - loss: 0.4230 - accuracy: 0.8391\n",
            "Epoch 00054: val_accuracy did not improve from 0.88581\n",
            "11/11 [==============================] - 2s 143ms/step - loss: 0.4207 - accuracy: 0.8403 - val_loss: 0.4639 - val_accuracy: 0.8789\n",
            "Epoch 55/60\n",
            "10/11 [==========================>...] - ETA: 0s - loss: 0.4021 - accuracy: 0.8598\n",
            "Epoch 00055: val_accuracy did not improve from 0.88581\n",
            "11/11 [==============================] - 2s 142ms/step - loss: 0.4020 - accuracy: 0.8596 - val_loss: 0.4130 - val_accuracy: 0.8858\n",
            "Epoch 56/60\n",
            "10/11 [==========================>...] - ETA: 0s - loss: 0.3961 - accuracy: 0.8570\n",
            "Epoch 00056: val_accuracy improved from 0.88581 to 0.89273, saving model to best_model.h5\n",
            "11/11 [==============================] - 2s 149ms/step - loss: 0.3963 - accuracy: 0.8565 - val_loss: 0.4779 - val_accuracy: 0.8927\n",
            "Epoch 57/60\n",
            "10/11 [==========================>...] - ETA: 0s - loss: 0.4235 - accuracy: 0.8477\n",
            "Epoch 00057: val_accuracy did not improve from 0.89273\n",
            "11/11 [==============================] - 2s 141ms/step - loss: 0.4233 - accuracy: 0.8476 - val_loss: 0.4795 - val_accuracy: 0.8858\n",
            "Epoch 58/60\n",
            "10/11 [==========================>...] - ETA: 0s - loss: 0.4027 - accuracy: 0.8551\n",
            "Epoch 00058: val_accuracy did not improve from 0.89273\n",
            "11/11 [==============================] - 2s 143ms/step - loss: 0.4045 - accuracy: 0.8538 - val_loss: 0.4471 - val_accuracy: 0.8824\n",
            "Epoch 59/60\n",
            "10/11 [==========================>...] - ETA: 0s - loss: 0.4051 - accuracy: 0.8512\n",
            "Epoch 00059: val_accuracy did not improve from 0.89273\n",
            "11/11 [==============================] - 2s 142ms/step - loss: 0.4046 - accuracy: 0.8515 - val_loss: 0.4710 - val_accuracy: 0.8789\n",
            "Epoch 60/60\n",
            "10/11 [==========================>...] - ETA: 0s - loss: 0.3696 - accuracy: 0.8703\n",
            "Epoch 00060: val_accuracy did not improve from 0.89273\n",
            "11/11 [==============================] - 2s 142ms/step - loss: 0.3690 - accuracy: 0.8715 - val_loss: 0.4430 - val_accuracy: 0.8893\n"
          ]
        }
      ],
      "source": [
        "\n",
        "es = EarlyStopping(monitor='val_loss', mode='min', verbose=1, patience=20)\n",
        "mc = ModelCheckpoint('best_model.h5', monitor='val_accuracy', mode='max', verbose=1, save_best_only=True)\n",
        "\n",
        "history_model_ln3 = model_ln3.fit(X_train, y_train_e, \n",
        "                                  validation_split=0.1,\n",
        "                                  verbose=1, batch_size=256,\n",
        "                                  shuffle=True, epochs=60,callbacks=[es,mc])"
      ],
      "id": "jroKwnUB9CfC"
    },
    {
      "cell_type": "code",
      "execution_count": null,
      "metadata": {
        "colab": {
          "base_uri": "https://localhost:8080/"
        },
        "id": "Ps_LsK2Wur1n",
        "outputId": "dcef67ac-d08e-450e-9821-313e83269862"
      },
      "outputs": [
        {
          "output_type": "stream",
          "name": "stdout",
          "text": [
            "13/13 [==============================] - 1s 40ms/step - loss: 2.8122 - accuracy: 0.7139\n"
          ]
        },
        {
          "output_type": "execute_result",
          "data": {
            "text/plain": [
              "[2.812236785888672, 0.7139303684234619]"
            ]
          },
          "metadata": {},
          "execution_count": 46
        }
      ],
      "source": [
        "model.evaluate(X_test,np.array(y_test_e))"
      ],
      "id": "Ps_LsK2Wur1n"
    },
    {
      "cell_type": "markdown",
      "metadata": {
        "id": "3AAQtVHXozPA"
      },
      "source": [
        "This model unfortunately **does not have a good test accuracy as compared to train and validation accuracy** "
      ],
      "id": "3AAQtVHXozPA"
    },
    {
      "cell_type": "markdown",
      "metadata": {
        "id": "1WG-Saf8knjJ"
      },
      "source": [
        "#### **Convolutional Neural Network (CNN)** \n",
        "\n",
        "**Model 3:** CNN with Dropout after Convolution and having two Dense layers with 512 & 256 Units respectively "
      ],
      "id": "1WG-Saf8knjJ"
    },
    {
      "cell_type": "code",
      "execution_count": null,
      "metadata": {
        "colab": {
          "base_uri": "https://localhost:8080/"
        },
        "id": "_Pg04v8INcxQ",
        "outputId": "81547d9d-3912-4a90-a6df-64be4b28cf4c"
      },
      "outputs": [
        {
          "output_type": "stream",
          "name": "stdout",
          "text": [
            "Model: \"model_1\"\n",
            "_________________________________________________________________\n",
            " Layer (type)                Output Shape              Param #   \n",
            "=================================================================\n",
            " input_2 (InputLayer)        [(None, 150, 150, 1)]     0         \n",
            "                                                                 \n",
            " conv2d_7 (Conv2D)           (None, 150, 150, 8)       208       \n",
            "                                                                 \n",
            " leaky_re_lu_4 (LeakyReLU)   (None, 150, 150, 8)       0         \n",
            "                                                                 \n",
            " dropout_10 (Dropout)        (None, 150, 150, 8)       0         \n",
            "                                                                 \n",
            " max_pooling2d_7 (MaxPooling  (None, 75, 75, 8)        0         \n",
            " 2D)                                                             \n",
            "                                                                 \n",
            " conv2d_8 (Conv2D)           (None, 75, 75, 16)        3216      \n",
            "                                                                 \n",
            " leaky_re_lu_5 (LeakyReLU)   (None, 75, 75, 16)        0         \n",
            "                                                                 \n",
            " dropout_11 (Dropout)        (None, 75, 75, 16)        0         \n",
            "                                                                 \n",
            " max_pooling2d_8 (MaxPooling  (None, 37, 37, 16)       0         \n",
            " 2D)                                                             \n",
            "                                                                 \n",
            " flatten_3 (Flatten)         (None, 21904)             0         \n",
            "                                                                 \n",
            " dense_8 (Dense)             (None, 512)               11215360  \n",
            "                                                                 \n",
            " leaky_re_lu_6 (LeakyReLU)   (None, 512)               0         \n",
            "                                                                 \n",
            " dropout_12 (Dropout)        (None, 512)               0         \n",
            "                                                                 \n",
            " dense_9 (Dense)             (None, 256)               131328    \n",
            "                                                                 \n",
            " leaky_re_lu_7 (LeakyReLU)   (None, 256)               0         \n",
            "                                                                 \n",
            " dropout_13 (Dropout)        (None, 256)               0         \n",
            "                                                                 \n",
            " dense_10 (Dense)            (None, 4)                 1028      \n",
            "                                                                 \n",
            "=================================================================\n",
            "Total params: 11,351,140\n",
            "Trainable params: 11,351,140\n",
            "Non-trainable params: 0\n",
            "_________________________________________________________________\n"
          ]
        },
        {
          "output_type": "stream",
          "name": "stderr",
          "text": [
            "/usr/local/lib/python3.7/dist-packages/keras/optimizer_v2/adam.py:105: UserWarning: The `lr` argument is deprecated, use `learning_rate` instead.\n",
            "  super(Adam, self).__init__(name, **kwargs)\n"
          ]
        }
      ],
      "source": [
        "lr = 0.001\n",
        "kernelsize = 5\n",
        "model_ln4 = LNmodel(in_shape, [8,16], [512,256], kernelsize, 4, lr,\n",
        "                    stride=1, pool_size=2, leakyrelu_slope=0.1, dropc=0.25,\n",
        "                    dropd=0.5, bnorm=False)\n",
        "model_ln4.summary()"
      ],
      "id": "_Pg04v8INcxQ"
    },
    {
      "cell_type": "code",
      "execution_count": null,
      "metadata": {
        "colab": {
          "base_uri": "https://localhost:8080/"
        },
        "id": "naUvIGIrN8Fc",
        "outputId": "68c33697-df7c-4765-b108-dd49d2329fcf"
      },
      "outputs": [
        {
          "output_type": "stream",
          "name": "stdout",
          "text": [
            "Epoch 1/40\n",
            "5/6 [========================>.....] - ETA: 0s - loss: 2.3665 - accuracy: 0.2781\n",
            "Epoch 00001: val_accuracy improved from -inf to 0.47059, saving model to best_model.h5\n",
            "6/6 [==============================] - 5s 455ms/step - loss: 2.3546 - accuracy: 0.2782 - val_loss: 1.2953 - val_accuracy: 0.4706\n",
            "Epoch 2/40\n",
            "5/6 [========================>.....] - ETA: 0s - loss: 1.2459 - accuracy: 0.4773\n",
            "Epoch 00002: val_accuracy did not improve from 0.47059\n",
            "6/6 [==============================] - 2s 264ms/step - loss: 1.2455 - accuracy: 0.4776 - val_loss: 1.2681 - val_accuracy: 0.3460\n",
            "Epoch 3/40\n",
            "5/6 [========================>.....] - ETA: 0s - loss: 1.1636 - accuracy: 0.4789\n",
            "Epoch 00003: val_accuracy improved from 0.47059 to 0.55709, saving model to best_model.h5\n",
            "6/6 [==============================] - 2s 327ms/step - loss: 1.1629 - accuracy: 0.4799 - val_loss: 1.0415 - val_accuracy: 0.5571\n",
            "Epoch 4/40\n",
            "5/6 [========================>.....] - ETA: 0s - loss: 1.0250 - accuracy: 0.5520\n",
            "Epoch 00004: val_accuracy improved from 0.55709 to 0.62630, saving model to best_model.h5\n",
            "6/6 [==============================] - 2s 319ms/step - loss: 1.0226 - accuracy: 0.5517 - val_loss: 0.9407 - val_accuracy: 0.6263\n",
            "Epoch 5/40\n",
            "5/6 [========================>.....] - ETA: 0s - loss: 0.9242 - accuracy: 0.6027\n",
            "Epoch 00005: val_accuracy did not improve from 0.62630\n",
            "6/6 [==============================] - 2s 261ms/step - loss: 0.9229 - accuracy: 0.6034 - val_loss: 0.8686 - val_accuracy: 0.6090\n",
            "Epoch 6/40\n",
            "5/6 [========================>.....] - ETA: 0s - loss: 0.8488 - accuracy: 0.6504\n",
            "Epoch 00006: val_accuracy improved from 0.62630 to 0.69550, saving model to best_model.h5\n",
            "6/6 [==============================] - 2s 323ms/step - loss: 0.8474 - accuracy: 0.6505 - val_loss: 0.7552 - val_accuracy: 0.6955\n",
            "Epoch 7/40\n",
            "5/6 [========================>.....] - ETA: 0s - loss: 0.7664 - accuracy: 0.6824\n",
            "Epoch 00007: val_accuracy did not improve from 0.69550\n",
            "6/6 [==============================] - 2s 260ms/step - loss: 0.7640 - accuracy: 0.6836 - val_loss: 0.7103 - val_accuracy: 0.6920\n",
            "Epoch 8/40\n",
            "5/6 [========================>.....] - ETA: 0s - loss: 0.6602 - accuracy: 0.7246\n",
            "Epoch 00008: val_accuracy improved from 0.69550 to 0.74048, saving model to best_model.h5\n",
            "6/6 [==============================] - 2s 322ms/step - loss: 0.6577 - accuracy: 0.7261 - val_loss: 0.6120 - val_accuracy: 0.7405\n",
            "Epoch 9/40\n",
            "5/6 [========================>.....] - ETA: 0s - loss: 0.5963 - accuracy: 0.7578\n",
            "Epoch 00009: val_accuracy did not improve from 0.74048\n",
            "6/6 [==============================] - 2s 262ms/step - loss: 0.5978 - accuracy: 0.7562 - val_loss: 0.6108 - val_accuracy: 0.7093\n",
            "Epoch 10/40\n",
            "5/6 [========================>.....] - ETA: 0s - loss: 0.5495 - accuracy: 0.7801\n",
            "Epoch 00010: val_accuracy did not improve from 0.74048\n",
            "6/6 [==============================] - 2s 262ms/step - loss: 0.5488 - accuracy: 0.7809 - val_loss: 0.5945 - val_accuracy: 0.7266\n",
            "Epoch 11/40\n",
            "5/6 [========================>.....] - ETA: 0s - loss: 0.4702 - accuracy: 0.8129\n",
            "Epoch 00011: val_accuracy improved from 0.74048 to 0.74394, saving model to best_model.h5\n",
            "6/6 [==============================] - 2s 328ms/step - loss: 0.4711 - accuracy: 0.8129 - val_loss: 0.5691 - val_accuracy: 0.7439\n",
            "Epoch 12/40\n",
            "5/6 [========================>.....] - ETA: 0s - loss: 0.4181 - accuracy: 0.8402\n",
            "Epoch 00012: val_accuracy did not improve from 0.74394\n",
            "6/6 [==============================] - 2s 263ms/step - loss: 0.4172 - accuracy: 0.8407 - val_loss: 0.6287 - val_accuracy: 0.6990\n",
            "Epoch 13/40\n",
            "5/6 [========================>.....] - ETA: 0s - loss: 0.3831 - accuracy: 0.8520\n",
            "Epoch 00013: val_accuracy improved from 0.74394 to 0.83391, saving model to best_model.h5\n",
            "6/6 [==============================] - 2s 324ms/step - loss: 0.3842 - accuracy: 0.8507 - val_loss: 0.4510 - val_accuracy: 0.8339\n",
            "Epoch 14/40\n",
            "5/6 [========================>.....] - ETA: 0s - loss: 0.4068 - accuracy: 0.8336\n",
            "Epoch 00014: val_accuracy did not improve from 0.83391\n",
            "6/6 [==============================] - 2s 262ms/step - loss: 0.4041 - accuracy: 0.8353 - val_loss: 0.6096 - val_accuracy: 0.7163\n",
            "Epoch 15/40\n",
            "5/6 [========================>.....] - ETA: 0s - loss: 0.3441 - accuracy: 0.8676\n",
            "Epoch 00015: val_accuracy did not improve from 0.83391\n",
            "6/6 [==============================] - 2s 263ms/step - loss: 0.3431 - accuracy: 0.8684 - val_loss: 0.5030 - val_accuracy: 0.7889\n",
            "Epoch 16/40\n",
            "5/6 [========================>.....] - ETA: 0s - loss: 0.3045 - accuracy: 0.8867\n",
            "Epoch 00016: val_accuracy did not improve from 0.83391\n",
            "6/6 [==============================] - 2s 260ms/step - loss: 0.3051 - accuracy: 0.8873 - val_loss: 0.4261 - val_accuracy: 0.8339\n",
            "Epoch 17/40\n",
            "5/6 [========================>.....] - ETA: 0s - loss: 0.2813 - accuracy: 0.8902\n",
            "Epoch 00017: val_accuracy did not improve from 0.83391\n",
            "6/6 [==============================] - 2s 260ms/step - loss: 0.2826 - accuracy: 0.8904 - val_loss: 0.5139 - val_accuracy: 0.7820\n",
            "Epoch 18/40\n",
            "5/6 [========================>.....] - ETA: 0s - loss: 0.2233 - accuracy: 0.9262\n",
            "Epoch 00018: val_accuracy did not improve from 0.83391\n",
            "6/6 [==============================] - 2s 261ms/step - loss: 0.2225 - accuracy: 0.9267 - val_loss: 0.4548 - val_accuracy: 0.8097\n",
            "Epoch 19/40\n",
            "5/6 [========================>.....] - ETA: 0s - loss: 0.1944 - accuracy: 0.9262\n",
            "Epoch 00019: val_accuracy did not improve from 0.83391\n",
            "6/6 [==============================] - 2s 263ms/step - loss: 0.1945 - accuracy: 0.9263 - val_loss: 0.4835 - val_accuracy: 0.8201\n",
            "Epoch 20/40\n",
            "5/6 [========================>.....] - ETA: 0s - loss: 0.1809 - accuracy: 0.9254\n",
            "Epoch 00020: val_accuracy improved from 0.83391 to 0.85467, saving model to best_model.h5\n",
            "6/6 [==============================] - 2s 337ms/step - loss: 0.1811 - accuracy: 0.9252 - val_loss: 0.3826 - val_accuracy: 0.8547\n",
            "Epoch 21/40\n",
            "5/6 [========================>.....] - ETA: 0s - loss: 0.1619 - accuracy: 0.9461\n",
            "Epoch 00021: val_accuracy improved from 0.85467 to 0.86159, saving model to best_model.h5\n",
            "6/6 [==============================] - 2s 345ms/step - loss: 0.1608 - accuracy: 0.9468 - val_loss: 0.3746 - val_accuracy: 0.8616\n",
            "Epoch 22/40\n",
            "5/6 [========================>.....] - ETA: 0s - loss: 0.1509 - accuracy: 0.9410\n",
            "Epoch 00022: val_accuracy did not improve from 0.86159\n",
            "6/6 [==============================] - 2s 259ms/step - loss: 0.1508 - accuracy: 0.9410 - val_loss: 0.3826 - val_accuracy: 0.8478\n",
            "Epoch 23/40\n",
            "5/6 [========================>.....] - ETA: 0s - loss: 0.1279 - accuracy: 0.9559\n",
            "Epoch 00023: val_accuracy did not improve from 0.86159\n",
            "6/6 [==============================] - 2s 263ms/step - loss: 0.1280 - accuracy: 0.9560 - val_loss: 0.4805 - val_accuracy: 0.8028\n",
            "Epoch 24/40\n",
            "5/6 [========================>.....] - ETA: 0s - loss: 0.1145 - accuracy: 0.9668\n",
            "Epoch 00024: val_accuracy did not improve from 0.86159\n",
            "6/6 [==============================] - 2s 261ms/step - loss: 0.1145 - accuracy: 0.9672 - val_loss: 0.5147 - val_accuracy: 0.8097\n",
            "Epoch 25/40\n",
            "5/6 [========================>.....] - ETA: 0s - loss: 0.1140 - accuracy: 0.9590\n",
            "Epoch 00025: val_accuracy did not improve from 0.86159\n",
            "6/6 [==============================] - 2s 262ms/step - loss: 0.1143 - accuracy: 0.9587 - val_loss: 0.4838 - val_accuracy: 0.8270\n",
            "Epoch 26/40\n",
            "5/6 [========================>.....] - ETA: 0s - loss: 0.1028 - accuracy: 0.9660\n",
            "Epoch 00026: val_accuracy did not improve from 0.86159\n",
            "6/6 [==============================] - 2s 279ms/step - loss: 0.1029 - accuracy: 0.9660 - val_loss: 0.4381 - val_accuracy: 0.8443\n",
            "Epoch 27/40\n",
            "5/6 [========================>.....] - ETA: 0s - loss: 0.0960 - accuracy: 0.9703\n",
            "Epoch 00027: val_accuracy improved from 0.86159 to 0.87197, saving model to best_model.h5\n",
            "6/6 [==============================] - 2s 321ms/step - loss: 0.0959 - accuracy: 0.9703 - val_loss: 0.3540 - val_accuracy: 0.8720\n",
            "Epoch 28/40\n",
            "5/6 [========================>.....] - ETA: 0s - loss: 0.0945 - accuracy: 0.9684\n",
            "Epoch 00028: val_accuracy did not improve from 0.87197\n",
            "6/6 [==============================] - 2s 261ms/step - loss: 0.0943 - accuracy: 0.9688 - val_loss: 0.3825 - val_accuracy: 0.8651\n",
            "Epoch 29/40\n",
            "5/6 [========================>.....] - ETA: 0s - loss: 0.0766 - accuracy: 0.9738\n",
            "Epoch 00029: val_accuracy did not improve from 0.87197\n",
            "6/6 [==============================] - 2s 262ms/step - loss: 0.0761 - accuracy: 0.9742 - val_loss: 0.5442 - val_accuracy: 0.8131\n",
            "Epoch 30/40\n",
            "5/6 [========================>.....] - ETA: 0s - loss: 0.0643 - accuracy: 0.9805\n",
            "Epoch 00030: val_accuracy did not improve from 0.87197\n",
            "6/6 [==============================] - 2s 263ms/step - loss: 0.0643 - accuracy: 0.9807 - val_loss: 0.5245 - val_accuracy: 0.8166\n",
            "Epoch 31/40\n",
            "5/6 [========================>.....] - ETA: 0s - loss: 0.0578 - accuracy: 0.9816\n",
            "Epoch 00031: val_accuracy improved from 0.87197 to 0.87543, saving model to best_model.h5\n",
            "6/6 [==============================] - 2s 326ms/step - loss: 0.0572 - accuracy: 0.9819 - val_loss: 0.3566 - val_accuracy: 0.8754\n",
            "Epoch 32/40\n",
            "5/6 [========================>.....] - ETA: 0s - loss: 0.0568 - accuracy: 0.9832\n",
            "Epoch 00032: val_accuracy did not improve from 0.87543\n",
            "6/6 [==============================] - 2s 262ms/step - loss: 0.0565 - accuracy: 0.9834 - val_loss: 0.4109 - val_accuracy: 0.8720\n",
            "Epoch 33/40\n",
            "5/6 [========================>.....] - ETA: 0s - loss: 0.0490 - accuracy: 0.9852\n",
            "Epoch 00033: val_accuracy did not improve from 0.87543\n",
            "6/6 [==============================] - 2s 262ms/step - loss: 0.0493 - accuracy: 0.9850 - val_loss: 0.5505 - val_accuracy: 0.8235\n",
            "Epoch 34/40\n",
            "5/6 [========================>.....] - ETA: 0s - loss: 0.0555 - accuracy: 0.9852\n",
            "Epoch 00034: val_accuracy did not improve from 0.87543\n",
            "6/6 [==============================] - 2s 262ms/step - loss: 0.0556 - accuracy: 0.9850 - val_loss: 0.5728 - val_accuracy: 0.8097\n",
            "Epoch 35/40\n",
            "5/6 [========================>.....] - ETA: 0s - loss: 0.0668 - accuracy: 0.9770\n",
            "Epoch 00035: val_accuracy did not improve from 0.87543\n",
            "6/6 [==============================] - 2s 260ms/step - loss: 0.0672 - accuracy: 0.9765 - val_loss: 0.3648 - val_accuracy: 0.8720\n",
            "Epoch 36/40\n",
            "5/6 [========================>.....] - ETA: 0s - loss: 0.0783 - accuracy: 0.9719\n",
            "Epoch 00036: val_accuracy did not improve from 0.87543\n",
            "6/6 [==============================] - 2s 259ms/step - loss: 0.0774 - accuracy: 0.9722 - val_loss: 0.4404 - val_accuracy: 0.8547\n",
            "Epoch 37/40\n",
            "5/6 [========================>.....] - ETA: 0s - loss: 0.0590 - accuracy: 0.9824\n",
            "Epoch 00037: val_accuracy did not improve from 0.87543\n",
            "6/6 [==============================] - 2s 265ms/step - loss: 0.0584 - accuracy: 0.9826 - val_loss: 0.6666 - val_accuracy: 0.7993\n",
            "Epoch 38/40\n",
            "5/6 [========================>.....] - ETA: 0s - loss: 0.0470 - accuracy: 0.9844\n",
            "Epoch 00038: val_accuracy improved from 0.87543 to 0.87889, saving model to best_model.h5\n",
            "6/6 [==============================] - 2s 342ms/step - loss: 0.0477 - accuracy: 0.9846 - val_loss: 0.4053 - val_accuracy: 0.8789\n",
            "Epoch 39/40\n",
            "5/6 [========================>.....] - ETA: 0s - loss: 0.0456 - accuracy: 0.9863\n",
            "Epoch 00039: val_accuracy did not improve from 0.87889\n",
            "6/6 [==============================] - 2s 268ms/step - loss: 0.0451 - accuracy: 0.9865 - val_loss: 0.3706 - val_accuracy: 0.8754\n",
            "Epoch 40/40\n",
            "5/6 [========================>.....] - ETA: 0s - loss: 0.0427 - accuracy: 0.9852\n",
            "Epoch 00040: val_accuracy did not improve from 0.87889\n",
            "6/6 [==============================] - 2s 260ms/step - loss: 0.0423 - accuracy: 0.9853 - val_loss: 0.6130 - val_accuracy: 0.8166\n"
          ]
        }
      ],
      "source": [
        "\n",
        "es = EarlyStopping(monitor='val_loss', mode='min', verbose=1, patience=20)\n",
        "mc = ModelCheckpoint('best_model.h5', monitor='val_accuracy', mode='max', verbose=1, save_best_only=True)\n",
        "\n",
        "history_model_ln4 = model_ln4.fit(X_train, y_train_e, \n",
        "                                  validation_split=0.1,\n",
        "                                  verbose=1, batch_size=512, \n",
        "                                  shuffle=True, epochs=40,callbacks=[es,mc])"
      ],
      "id": "naUvIGIrN8Fc"
    },
    {
      "cell_type": "code",
      "execution_count": null,
      "metadata": {
        "colab": {
          "base_uri": "https://localhost:8080/"
        },
        "id": "cMxLhj9wur1o",
        "outputId": "3c02b7d3-2f6b-499b-ffec-9840cd8a4bff"
      },
      "outputs": [
        {
          "output_type": "stream",
          "name": "stdout",
          "text": [
            "13/13 [==============================] - 0s 37ms/step - loss: 2.8122 - accuracy: 0.7139\n"
          ]
        },
        {
          "output_type": "execute_result",
          "data": {
            "text/plain": [
              "[2.812236785888672, 0.7139303684234619]"
            ]
          },
          "metadata": {},
          "execution_count": 49
        }
      ],
      "source": [
        "model.evaluate(X_test,np.array(y_test_e))"
      ],
      "id": "cMxLhj9wur1o"
    },
    {
      "cell_type": "markdown",
      "metadata": {
        "id": "Os7PkVCdU1ln"
      },
      "source": [
        "### **Plotting the Train & Validation Accuracy**"
      ],
      "id": "Os7PkVCdU1ln"
    },
    {
      "cell_type": "markdown",
      "metadata": {
        "id": "lnfKE_WiqBAD"
      },
      "source": [
        "**CNN Model 1**"
      ],
      "id": "lnfKE_WiqBAD"
    },
    {
      "cell_type": "code",
      "execution_count": null,
      "metadata": {
        "colab": {
          "base_uri": "https://localhost:8080/",
          "height": 312
        },
        "id": "k-ydTvxaqjVe",
        "outputId": "9d4a8bf5-d03a-480f-c8aa-d02d35251dd5"
      },
      "outputs": [
        {
          "output_type": "stream",
          "name": "stdout",
          "text": [
            "dict_keys(['loss', 'accuracy', 'val_loss', 'val_accuracy'])\n"
          ]
        },
        {
          "output_type": "display_data",
          "data": {
            "image/png": "[encoded data removed]",
            "text/plain": [
              "<Figure size 432x288 with 1 Axes>"
            ]
          },
          "metadata": {
            "needs_background": "light"
          }
        }
      ],
      "source": [
        "print(history.history.keys())\n",
        "# summarize history for accuracy\n",
        "plt.plot(history.history['accuracy'])\n",
        "plt.plot(history.history['val_accuracy'])\n",
        "plt.title('model accuracy')\n",
        "plt.ylabel('accuracy')\n",
        "plt.xlabel('epoch')\n",
        "plt.legend(['train', 'test'], loc='upper left')\n",
        "plt.show()\n"
      ],
      "id": "k-ydTvxaqjVe"
    },
    {
      "cell_type": "markdown",
      "metadata": {
        "id": "CGVK2L3OrCY-"
      },
      "source": [
        "**CNN Model 2**"
      ],
      "id": "CGVK2L3OrCY-"
    },
    {
      "cell_type": "code",
      "execution_count": null,
      "metadata": {
        "colab": {
          "base_uri": "https://localhost:8080/",
          "height": 312
        },
        "id": "605bcXekaoUZ",
        "outputId": "6717c406-e87d-4c12-efd0-919027bfdf2a"
      },
      "outputs": [
        {
          "output_type": "stream",
          "name": "stdout",
          "text": [
            "dict_keys(['loss', 'accuracy', 'val_loss', 'val_accuracy'])\n"
          ]
        },
        {
          "output_type": "display_data",
          "data": {
            "image/png": "[encoded data removed]",
            "text/plain": [
              "<Figure size 432x288 with 1 Axes>"
            ]
          },
          "metadata": {
            "needs_background": "light"
          }
        }
      ],
      "source": [
        "print(history_model_ln3.history.keys())\n",
        "# summarize history for accuracy\n",
        "plt.plot(history_model_ln3.history['accuracy'])\n",
        "plt.plot(history_model_ln3.history['val_accuracy'])\n",
        "plt.title('model accuracy')\n",
        "plt.ylabel('accuracy')\n",
        "plt.xlabel('epoch')\n",
        "plt.legend(['train', 'test'], loc='upper left')\n",
        "plt.show()\n"
      ],
      "id": "605bcXekaoUZ"
    },
    {
      "cell_type": "markdown",
      "metadata": {
        "id": "jwNJgAhCrFIu"
      },
      "source": [
        "**CNN Model 3**"
      ],
      "id": "jwNJgAhCrFIu"
    },
    {
      "cell_type": "code",
      "execution_count": null,
      "metadata": {
        "colab": {
          "base_uri": "https://localhost:8080/",
          "height": 312
        },
        "id": "55RsZYFAWyT_",
        "outputId": "32011b72-ed5b-4e65-8893-99fdd5ec44cf"
      },
      "outputs": [
        {
          "output_type": "stream",
          "name": "stdout",
          "text": [
            "dict_keys(['loss', 'accuracy', 'val_loss', 'val_accuracy'])\n"
          ]
        },
        {
          "output_type": "display_data",
          "data": {
            "image/png": "[encoded data removed]",
            "text/plain": [
              "<Figure size 432x288 with 1 Axes>"
            ]
          },
          "metadata": {
            "needs_background": "light"
          }
        }
      ],
      "source": [
        "print(history_model_ln4.history.keys())\n",
        "# summarize history for accuracy\n",
        "plt.plot(history_model_ln4.history['accuracy'])\n",
        "plt.plot(history_model_ln4.history['val_accuracy'])\n",
        "plt.title('model accuracy')\n",
        "plt.ylabel('accuracy')\n",
        "plt.xlabel('epoch')\n",
        "plt.legend(['train', 'test'], loc='upper left')\n",
        "plt.show()\n"
      ],
      "id": "55RsZYFAWyT_"
    },
    {
      "cell_type": "markdown",
      "metadata": {
        "id": "EaANO5BsU_cF"
      },
      "source": [
        "### **Model Evaluation**"
      ],
      "id": "EaANO5BsU_cF"
    },
    {
      "cell_type": "markdown",
      "metadata": {
        "id": "ovbr_LwMrJZ6"
      },
      "source": [
        "**CNN Model 1**"
      ],
      "id": "ovbr_LwMrJZ6"
    },
    {
      "cell_type": "code",
      "execution_count": null,
      "metadata": {
        "colab": {
          "base_uri": "https://localhost:8080/"
        },
        "id": "CjUNfiZcU-dA",
        "outputId": "64e4f24d-927a-4772-f9ff-ef0cc70db0e7"
      },
      "outputs": [
        {
          "output_type": "stream",
          "name": "stdout",
          "text": [
            "13/13 [==============================] - 0s 35ms/step - loss: 2.8122 - accuracy: 0.7139\n"
          ]
        },
        {
          "output_type": "execute_result",
          "data": {
            "text/plain": [
              "[2.812236785888672, 0.7139303684234619]"
            ]
          },
          "metadata": {},
          "execution_count": 53
        }
      ],
      "source": [
        "model.evaluate(X_test,y_test_e)"
      ],
      "id": "CjUNfiZcU-dA"
    },
    {
      "cell_type": "markdown",
      "metadata": {
        "id": "-2ot4QiorMNZ"
      },
      "source": [
        "**CNN Model 2**"
      ],
      "id": "-2ot4QiorMNZ"
    },
    {
      "cell_type": "code",
      "execution_count": null,
      "metadata": {
        "colab": {
          "base_uri": "https://localhost:8080/"
        },
        "id": "Z0WjmyhBKiTT",
        "outputId": "997ea5f5-8c15-4686-8ff2-d505a322873f"
      },
      "outputs": [
        {
          "output_type": "stream",
          "name": "stdout",
          "text": [
            "13/13 [==============================] - 0s 16ms/step - loss: 1.7118 - accuracy: 0.6766\n"
          ]
        },
        {
          "output_type": "execute_result",
          "data": {
            "text/plain": [
              "[1.7117514610290527, 0.676616907119751]"
            ]
          },
          "metadata": {},
          "execution_count": 54
        }
      ],
      "source": [
        "model_ln3.evaluate(X_test,y_test_e)"
      ],
      "id": "Z0WjmyhBKiTT"
    },
    {
      "cell_type": "markdown",
      "metadata": {
        "id": "gEDpBh9OrPmY"
      },
      "source": [
        "**CNN Model 3**"
      ],
      "id": "gEDpBh9OrPmY"
    },
    {
      "cell_type": "code",
      "execution_count": null,
      "metadata": {
        "colab": {
          "base_uri": "https://localhost:8080/"
        },
        "id": "xdZcFYjlW5kU",
        "outputId": "d21306b5-ac8c-4aaa-a339-c0812b9a823e"
      },
      "outputs": [
        {
          "output_type": "stream",
          "name": "stdout",
          "text": [
            "13/13 [==============================] - 0s 12ms/step - loss: 2.1406 - accuracy: 0.7463\n"
          ]
        },
        {
          "output_type": "execute_result",
          "data": {
            "text/plain": [
              "[2.140639066696167, 0.746268630027771]"
            ]
          },
          "metadata": {},
          "execution_count": 55
        }
      ],
      "source": [
        "model_ln4.evaluate(X_test,y_test_e)"
      ],
      "id": "xdZcFYjlW5kU"
    },
    {
      "cell_type": "markdown",
      "metadata": {
        "id": "DReRZ-m_1zf7"
      },
      "source": [
        "Unfortunately, **we cannot decide the best model based on only test accuracy here**  so we are more concerned with **Precision and Recall**. Since these two metrics are both quite important in this scenario, we will also check the **F1 score** to try to achieve a good balance between Precision and Recall. "
      ],
      "id": "DReRZ-m_1zf7"
    },
    {
      "cell_type": "markdown",
      "metadata": {
        "id": "nA1zmcOzrSjJ"
      },
      "source": [
        "### **Plotting the confusion matrix for the two best models** "
      ],
      "id": "nA1zmcOzrSjJ"
    },
    {
      "cell_type": "markdown",
      "metadata": {
        "id": "WIi79z73rljP"
      },
      "source": [
        "As we can see, **Model 2 and Model 3 seem to be generalizing well** because they both have a good Holdout set Accuracy. **Let us compute the confusion matrix** for these two models to understand the distribution of True Positives, False Positives, False Negatives and True Negatives."
      ],
      "id": "WIi79z73rljP"
    },
    {
      "cell_type": "markdown",
      "metadata": {
        "id": "a0nerMrUq83f"
      },
      "source": [
        "**CNN Model 2**"
      ],
      "id": "a0nerMrUq83f"
    },
    {
      "cell_type": "code",
      "execution_count": null,
      "metadata": {
        "id": "uAa1bsr_L-Db"
      },
      "outputs": [],
      "source": [
        "# Test Prediction \n",
        "y_test_pred_ln3 = model_ln3.predict(X_test)\n",
        "y_test_pred_classes_ln3 = np.argmax(y_test_pred_ln3, axis=1)\n",
        "y_test_pred_prob_ln3 = np.max(y_test_pred_ln3, axis=1)\n"
      ],
      "id": "uAa1bsr_L-Db"
    },
    {
      "cell_type": "code",
      "execution_count": null,
      "metadata": {
        "colab": {
          "base_uri": "https://localhost:8080/"
        },
        "id": "0Ww5nNYjMPDV",
        "outputId": "986d502f-64f3-4594-9d6a-0a48049723ec"
      },
      "outputs": [
        {
          "output_type": "execute_result",
          "data": {
            "text/plain": [
              "0.6766169154228856"
            ]
          },
          "metadata": {},
          "execution_count": 57
        }
      ],
      "source": [
        "# Test Accuracy \n",
        "import seaborn as sns\n",
        "from sklearn.metrics import accuracy_score, confusion_matrix\n",
        "accuracy_score(np.array(y_test), y_test_pred_classes_ln3)\n",
        "\n"
      ],
      "id": "0Ww5nNYjMPDV"
    },
    {
      "cell_type": "code",
      "execution_count": null,
      "metadata": {
        "colab": {
          "base_uri": "https://localhost:8080/",
          "height": 392
        },
        "id": "DxqeB6VwMWBB",
        "outputId": "9788731e-9e83-459d-88ba-f4b29cfc5477"
      },
      "outputs": [
        {
          "output_type": "execute_result",
          "data": {
            "text/plain": [
              "<matplotlib.axes._subplots.AxesSubplot at 0x7f30f03506d0>"
            ]
          },
          "metadata": {},
          "execution_count": 58
        },
        {
          "output_type": "display_data",
          "data": {
            "image/png": "[encoded data removed]",
            "text/plain": [
              "<Figure size 576x432 with 2 Axes>"
            ]
          },
          "metadata": {
            "needs_background": "light"
          }
        }
      ],
      "source": [
        "cf_matrix = confusion_matrix(np.array(y_test), y_test_pred_classes_ln3)\n",
        "\n",
        "# Confusion matrix normalized per category true value\n",
        "cf_matrix_n1 = cf_matrix/np.sum(cf_matrix, axis=1)\n",
        "plt.figure(figsize=(8,6))\n",
        "sns.heatmap(cf_matrix_n1, xticklabels=CATEGORIES, yticklabels=CATEGORIES, annot=True)"
      ],
      "id": "DxqeB6VwMWBB"
    },
    {
      "cell_type": "markdown",
      "metadata": {
        "id": "Q-M4HMjktA-2"
      },
      "source": [
        "**CNN Model 3**"
      ],
      "id": "Q-M4HMjktA-2"
    },
    {
      "cell_type": "code",
      "execution_count": null,
      "metadata": {
        "id": "XpAbMFtpX36W"
      },
      "outputs": [],
      "source": [
        "#Test Prediction \n",
        "\n",
        "y_test_pred_ln4 = model_ln4.predict(X_test)\n",
        "y_test_pred_classes_ln4 = np.argmax(y_test_pred_ln4, axis=1)\n",
        "y_test_pred_prob_ln4 = np.max(y_test_pred_ln4, axis=1)\n"
      ],
      "id": "XpAbMFtpX36W"
    },
    {
      "cell_type": "code",
      "execution_count": null,
      "metadata": {
        "colab": {
          "base_uri": "https://localhost:8080/"
        },
        "id": "NvsT54x7X7UO",
        "outputId": "45d715cc-f8e3-48c9-b135-3059d00f902e"
      },
      "outputs": [
        {
          "output_type": "execute_result",
          "data": {
            "text/plain": [
              "0.746268656716418"
            ]
          },
          "metadata": {},
          "execution_count": 60
        }
      ],
      "source": [
        "import seaborn as sns\n",
        "from sklearn.metrics import accuracy_score, confusion_matrix\n",
        "accuracy_score(np.array(y_test), y_test_pred_classes_ln4)\n",
        "\n"
      ],
      "id": "NvsT54x7X7UO"
    },
    {
      "cell_type": "code",
      "execution_count": null,
      "metadata": {
        "colab": {
          "base_uri": "https://localhost:8080/",
          "height": 392
        },
        "id": "sjF_Ba_AZhM7",
        "outputId": "385eb0e0-8e03-42fa-f261-7b67766a54a0"
      },
      "outputs": [
        {
          "output_type": "execute_result",
          "data": {
            "text/plain": [
              "<matplotlib.axes._subplots.AxesSubplot at 0x7f307a94b390>"
            ]
          },
          "metadata": {},
          "execution_count": 61
        },
        {
          "output_type": "display_data",
          "data": {
            "image/png": "[encoded data removed]",
            "text/plain": [
              "<Figure size 576x432 with 2 Axes>"
            ]
          },
          "metadata": {
            "needs_background": "light"
          }
        }
      ],
      "source": [
        "cf_matrix = confusion_matrix(np.array(y_test), y_test_pred_classes_ln4)\n",
        "\n",
        "# Confusion matrix normalized per category true value\n",
        "cf_matrix_n1 = cf_matrix/np.sum(cf_matrix, axis=1)\n",
        "plt.figure(figsize=(8,6))\n",
        "sns.heatmap(cf_matrix_n1, xticklabels=CATEGORIES, yticklabels=CATEGORIES, annot=True)"
      ],
      "id": "sjF_Ba_AZhM7"
    },
    {
      "cell_type": "markdown",
      "metadata": {
        "id": "H-4vKsHotNNK"
      },
      "source": [
        "The above two confusion matrices show that the models seem to be working well. **Let's calculate the F1 score** (the harmonic mean of precision and recall), which is used as an evaluation metric for imbalanced datasets."
      ],
      "id": "H-4vKsHotNNK"
    },
    {
      "cell_type": "markdown",
      "metadata": {
        "id": "pnH9UOXutIwF"
      },
      "source": [
        "**Classification Report for each class** \n",
        "\n",
        "- **Precision:** precision is the fraction of relevant instances among the retrieved instances.\n",
        "\n",
        "- **Recall:** recall is the fraction of relevant instances that were retrieved.\n",
        "\n",
        "- **F-beta score:** The F-beta score is the weighted harmonic mean of precision and recall, reaching its optimal value at 1 and its worst value at 0. The beta parameter determines the weight of recall in the combined score.\n",
        "\n",
        "\n",
        "\n",
        "The order of printing the above metrices for each class is as follows:\n",
        "\n",
        "- **Glioma Tumor**\n",
        "- **Meningioma Tumor**\n",
        "- **Non Tumor**\n",
        "- **Pituitary Tumor**\n",
        "\n"
      ],
      "id": "pnH9UOXutIwF"
    },
    {
      "cell_type": "markdown",
      "metadata": {
        "id": "Hu5v5JGI1YPG"
      },
      "source": [
        "**CNN Model 2**"
      ],
      "id": "Hu5v5JGI1YPG"
    },
    {
      "cell_type": "code",
      "execution_count": null,
      "metadata": {
        "colab": {
          "base_uri": "https://localhost:8080/"
        },
        "id": "oYIngH6ouzyx",
        "outputId": "1dd334ce-33a8-4980-ba79-18d8d0c73589"
      },
      "outputs": [
        {
          "output_type": "stream",
          "name": "stdout",
          "text": [
            " Precision is [0.94736842 0.61016949 0.6516129  0.88235294]\n",
            " Recall is [0.18       0.93913043 0.89380531 0.60810811] \n",
            " f_beta Score is [0.30252101 0.73972603 0.75373134 0.72      ]\n"
          ]
        }
      ],
      "source": [
        "\n",
        "from sklearn.metrics import precision_recall_fscore_support  \n",
        "\n",
        "p=precision_recall_fscore_support(np.array(y_test), y_test_pred_classes_ln3, average=None,labels=list(np.unique(y_test)))\n",
        "\n",
        "print(\" Precision is {}\\n Recall is {} \\n f_beta Score is {}\".format(p[0],p[1],p[2]))"
      ],
      "id": "oYIngH6ouzyx"
    },
    {
      "cell_type": "markdown",
      "metadata": {
        "id": "4HwtPdOr1eR_"
      },
      "source": [
        "**CNN Model 3**"
      ],
      "id": "4HwtPdOr1eR_"
    },
    {
      "cell_type": "code",
      "execution_count": null,
      "metadata": {
        "colab": {
          "base_uri": "https://localhost:8080/"
        },
        "id": "sNiVb7oVbswV",
        "outputId": "62219871-8158-40ff-c936-b6eb4da3571a"
      },
      "outputs": [
        {
          "output_type": "stream",
          "name": "stdout",
          "text": [
            " Precision is [0.80769231 0.8030303  0.66071429 0.81578947]\n",
            " Recall is [0.21       0.92173913 0.98230088 0.83783784] \n",
            " f_beta Score is [0.33333333 0.8582996  0.79003559 0.82666667]\n"
          ]
        }
      ],
      "source": [
        "\n",
        "from sklearn.metrics import precision_recall_fscore_support  \n",
        "\n",
        "p=precision_recall_fscore_support(np.array(y_test), y_test_pred_classes_ln4, average=None,labels=list(np.unique(y_test)))\n",
        "\n",
        "\n",
        "print(\" Precision is {}\\n Recall is {} \\n f_beta Score is {}\".format(p[0],p[1],p[2]))"
      ],
      "id": "sNiVb7oVbswV"
    },
    {
      "cell_type": "markdown",
      "metadata": {
        "id": "Y_1IqPwNy01u"
      },
      "source": [
        "**Model 3 (Best) Observation**\n",
        "\n",
        "As we see from the precision for each class, the Pituitary tumor classifier has the highest precision. But here, **we are more concerned about the case where a person who has a tumor is wrongly classified as belonging to the non-tumor category (False Negative).** \n",
        "\n",
        "**33% of the persons belonging to Glioma tumour and 8.6% belonging to Meningioma tumor are not identified correctly, and the model predicts that they don't have a tumor at all** - which shows that our model does not do well in identifying glioma and meningioma tumors. But it is works well for the other scenario, where the model is able to correctly identify those scans that do not not show a tumor. \n",
        "\n",
        "---\n",
        "\n"
      ],
      "id": "Y_1IqPwNy01u"
    },
    {
      "cell_type": "markdown",
      "metadata": {
        "id": "IzWUZOHMvSMx"
      },
      "source": [
        "### **Weighted F-Score**"
      ],
      "id": "IzWUZOHMvSMx"
    },
    {
      "cell_type": "markdown",
      "metadata": {
        "id": "91u1MVp_va33"
      },
      "source": [
        "**Model 2**"
      ],
      "id": "91u1MVp_va33"
    },
    {
      "cell_type": "code",
      "execution_count": null,
      "metadata": {
        "colab": {
          "base_uri": "https://localhost:8080/"
        },
        "id": "B-tiOJEDanIo",
        "outputId": "b51a002a-a17e-4c59-d985-7a4448c642f2"
      },
      "outputs": [
        {
          "output_type": "execute_result",
          "data": {
            "text/plain": [
              "0.6312742183633478"
            ]
          },
          "metadata": {},
          "execution_count": 64
        }
      ],
      "source": [
        "\n",
        "from sklearn.metrics import f1_score\n",
        "\n",
        "f1_score(np.array(y_test), y_test_pred_classes_ln3, average='weighted')"
      ],
      "id": "B-tiOJEDanIo"
    },
    {
      "cell_type": "markdown",
      "metadata": {
        "id": "czQk4WG3vckm"
      },
      "source": [
        "**Model 3**"
      ],
      "id": "czQk4WG3vckm"
    },
    {
      "cell_type": "code",
      "execution_count": null,
      "metadata": {
        "colab": {
          "base_uri": "https://localhost:8080/"
        },
        "id": "QCAFbXdIvB6q",
        "outputId": "35a349ae-9c3b-408b-e1f2-c24fe7ee0756"
      },
      "outputs": [
        {
          "output_type": "execute_result",
          "data": {
            "text/plain": [
              "0.7026993568663567"
            ]
          },
          "metadata": {},
          "execution_count": 65
        }
      ],
      "source": [
        "\n",
        "from sklearn.metrics import f1_score\n",
        "\n",
        "f1_score(np.array(y_test), y_test_pred_classes_ln4, average='weighted')"
      ],
      "id": "QCAFbXdIvB6q"
    },
    {
      "cell_type": "markdown",
      "metadata": {
        "id": "ERN98ahMxDQO"
      },
      "source": [
        "Model 3 with 2 Dense layer and more  number of units having better F1 score."
      ],
      "id": "ERN98ahMxDQO"
    },
    {
      "cell_type": "markdown",
      "metadata": {
        "id": "o62dBCDsNlwM"
      },
      "source": [
        "### **Prediction**\n",
        "\n",
        "Let us predict with best model with is model_ln4"
      ],
      "id": "o62dBCDsNlwM"
    },
    {
      "cell_type": "code",
      "execution_count": null,
      "metadata": {
        "colab": {
          "base_uri": "https://localhost:8080/",
          "height": 264
        },
        "id": "RpNCCsucN8iE",
        "outputId": "8c77beda-a9f1-4258-a615-3aaf93d9b6b6"
      },
      "outputs": [
        {
          "output_type": "display_data",
          "data": {
            "image/png": "[encoded data removed]",
            "text/plain": [
              "<Figure size 432x288 with 1 Axes>"
            ]
          },
          "metadata": {
            "needs_background": "light"
          }
        }
      ],
      "source": [
        "#fn = image.load_img(fp, target_size = (150,150), color_mode='grayscale')\n",
        "plt.imshow(X_test[1].reshape(150,150), cmap='Greys_r')\n",
        "i=y_test[1]\n",
        "i=np.argmax(i)\n",
        "if(i == 0):\n",
        "    plt.title(\"glioma_tumor\")\n",
        "if(i==1):\n",
        "    plt.title(\"meningioma_tumor\")\n",
        "if(i==2):\n",
        "    plt.title(\"no_tumor\")\n",
        "if(i==3):\n",
        "    plt.title(\"pituitary_tumor\")\n",
        "\n",
        "plt.axis('off')\n",
        "plt.show()"
      ],
      "id": "RpNCCsucN8iE"
    },
    {
      "cell_type": "code",
      "execution_count": null,
      "metadata": {
        "id": "xBeqTIrAL4vV"
      },
      "outputs": [],
      "source": [
        "res=model_ln4.predict(X_test[1].reshape(1,150,150,1))"
      ],
      "id": "xBeqTIrAL4vV"
    },
    {
      "cell_type": "code",
      "execution_count": null,
      "metadata": {
        "colab": {
          "base_uri": "https://localhost:8080/"
        },
        "id": "638rTEzOMZ2C",
        "outputId": "0474af5b-d259-4bbe-fdef-ffa0d6052a1b"
      },
      "outputs": [
        {
          "output_type": "stream",
          "name": "stdout",
          "text": [
            "meningioma_tumor\n"
          ]
        }
      ],
      "source": [
        "i=np.argmax(res)\n",
        "\n",
        "\n",
        "if(i == 0):\n",
        "    print(\"glioma_tumor\")\n",
        "if(i==1):\n",
        "    print(\"meningioma_tumor\")\n",
        "if(i==2):\n",
        "    print(\"no_tumor\")\n",
        "if(i==3):\n",
        "    print(\"pituitary_tumor\")\n"
      ],
      "id": "638rTEzOMZ2C"
    },
    {
      "cell_type": "markdown",
      "metadata": {
        "id": "1nw9mwhsp6A6"
      },
      "source": [
        "### **Conclusion**"
      ],
      "id": "1nw9mwhsp6A6"
    },
    {
      "cell_type": "markdown",
      "metadata": {
        "id": "J1mRIsCCo_nj"
      },
      "source": [
        "As we have seen, **ANNs do not work well with image data**, because ANNs do not take 2-D images as input. They flatten the image and make it lose its spatial struture, whereas CNNs take the full 2D-image as input in order to perform feature extraction. So **CNNs do not lose the image's spatial structure, which makes them more suitable for working with image datasets.**\n",
        "\n",
        "**There is still scope for improvement in the test accuracy and F1 score of the CNN model** chosen here. **Different architectures** can be built and **hyperparamter tuning** can be performed to obtain a better brain tumor classifier. \n",
        "\n",
        "We can visualize the filters  and understand why the model does not do well in the identification of the glioma tumor.\n"
      ],
      "id": "J1mRIsCCo_nj"
    },
    {
      "cell_type": "code",
      "execution_count": null,
      "metadata": {
        "id": "E5J7u29LoRTf"
      },
      "outputs": [],
      "source": [
        ""
      ],
      "id": "E5J7u29LoRTf"
    }
  ],
  "metadata": {
    "colab": {
      "name": "Hands-on Quiz.ipynb",
      "provenance": []
    },
    "language_info": {
      "name": "python"
    },
    "kernelspec": {
      "name": "python3",
      "display_name": "Python 3"
    }
  },
  "nbformat": 4,
  "nbformat_minor": 5
}